{
  "nbformat": 4,
  "nbformat_minor": 0,
  "metadata": {
    "colab": {
      "provenance": [],
      "toc_visible": true,
      "authorship_tag": "ABX9TyNK+9/s3p9HflrXTePi9Kr4",
      "include_colab_link": true
    },
    "kernelspec": {
      "name": "python3",
      "display_name": "Python 3"
    },
    "language_info": {
      "name": "python"
    }
  },
  "cells": [
    {
      "cell_type": "markdown",
      "metadata": {
        "id": "view-in-github",
        "colab_type": "text"
      },
      "source": [
        "<a href=\"https://colab.research.google.com/github/ucheokechukwu/ml_tensorflow_deeplearning/blob/main/02_neural_network_classification_with_tensorflow.ipynb\" target=\"_parent\"><img src=\"https://colab.research.google.com/assets/colab-badge.svg\" alt=\"Open In Colab\"/></a>"
      ]
    },
    {
      "cell_type": "markdown",
      "source": [
        "# Introduction to neural network classification with TensorFlow\n",
        "\n",
        "In this video, we're going to learn how to write neural networks for classification problems.\n",
        "Types of classifications: \n",
        "1. Binary classification.\n",
        "2. Multiclass classification\n",
        "3. Multilabel classification.\n",
        "\n",
        "## Creating data to view and fit"
      ],
      "metadata": {
        "id": "4zINiL3Wcggj"
      }
    },
    {
      "cell_type": "code",
      "source": [
        "from sklearn.datasets import make_circles\n",
        "# Make 1000 samples\n",
        "n_samples = 1000\n",
        "# Create circles\n",
        "X, y = make_circles(n_samples,\n",
        "                    noise=0.03,\n",
        "                    random_state=42) # random_state is like seed to make random reproducible"
      ],
      "metadata": {
        "id": "sTS6V3a6hw7-"
      },
      "execution_count": 91,
      "outputs": []
    },
    {
      "cell_type": "code",
      "source": [
        "# Check out features\n",
        "X"
      ],
      "metadata": {
        "colab": {
          "base_uri": "https://localhost:8080/"
        },
        "id": "eI9gy3uViYgU",
        "outputId": "d134d561-f5ae-4e9e-cc66-026e341b25cf"
      },
      "execution_count": 92,
      "outputs": [
        {
          "output_type": "execute_result",
          "data": {
            "text/plain": [
              "array([[ 0.75424625,  0.23148074],\n",
              "       [-0.75615888,  0.15325888],\n",
              "       [-0.81539193,  0.17328203],\n",
              "       ...,\n",
              "       [-0.13690036, -0.81001183],\n",
              "       [ 0.67036156, -0.76750154],\n",
              "       [ 0.28105665,  0.96382443]])"
            ]
          },
          "metadata": {},
          "execution_count": 92
        }
      ]
    },
    {
      "cell_type": "code",
      "source": [
        "# Check the labels\n",
        "y[:10]"
      ],
      "metadata": {
        "colab": {
          "base_uri": "https://localhost:8080/"
        },
        "id": "WUhkKCD3ig37",
        "outputId": "35dfb5bd-23ed-4069-d367-fb994bcedf37"
      },
      "execution_count": 93,
      "outputs": [
        {
          "output_type": "execute_result",
          "data": {
            "text/plain": [
              "array([1, 1, 1, 1, 0, 1, 1, 1, 1, 0])"
            ]
          },
          "metadata": {},
          "execution_count": 93
        }
      ]
    },
    {
      "cell_type": "markdown",
      "source": [
        "*Visualize... visualize... visualize...*"
      ],
      "metadata": {
        "id": "dU-4mHJq7vMb"
      }
    },
    {
      "cell_type": "code",
      "source": [
        "import pandas as pd\n",
        "circles = pd.DataFrame({\"X0\": X[:,0],\n",
        "                        \"X1\": X[:,1],\n",
        "                        \"label\":y})"
      ],
      "metadata": {
        "id": "iXsI1ti97wuH"
      },
      "execution_count": 94,
      "outputs": []
    },
    {
      "cell_type": "code",
      "source": [
        "circles"
      ],
      "metadata": {
        "colab": {
          "base_uri": "https://localhost:8080/",
          "height": 424
        },
        "id": "7jxxycJA8hQT",
        "outputId": "ac000ea2-a119-4684-c142-701fc018e045"
      },
      "execution_count": 95,
      "outputs": [
        {
          "output_type": "execute_result",
          "data": {
            "text/plain": [
              "           X0        X1  label\n",
              "0    0.754246  0.231481      1\n",
              "1   -0.756159  0.153259      1\n",
              "2   -0.815392  0.173282      1\n",
              "3   -0.393731  0.692883      1\n",
              "4    0.442208 -0.896723      0\n",
              "..        ...       ...    ...\n",
              "995  0.244054  0.944125      0\n",
              "996 -0.978655 -0.272373      0\n",
              "997 -0.136900 -0.810012      1\n",
              "998  0.670362 -0.767502      0\n",
              "999  0.281057  0.963824      0\n",
              "\n",
              "[1000 rows x 3 columns]"
            ],
            "text/html": [
              "\n",
              "  <div id=\"df-97487626-514d-4a34-92a1-4b6a4626978a\">\n",
              "    <div class=\"colab-df-container\">\n",
              "      <div>\n",
              "<style scoped>\n",
              "    .dataframe tbody tr th:only-of-type {\n",
              "        vertical-align: middle;\n",
              "    }\n",
              "\n",
              "    .dataframe tbody tr th {\n",
              "        vertical-align: top;\n",
              "    }\n",
              "\n",
              "    .dataframe thead th {\n",
              "        text-align: right;\n",
              "    }\n",
              "</style>\n",
              "<table border=\"1\" class=\"dataframe\">\n",
              "  <thead>\n",
              "    <tr style=\"text-align: right;\">\n",
              "      <th></th>\n",
              "      <th>X0</th>\n",
              "      <th>X1</th>\n",
              "      <th>label</th>\n",
              "    </tr>\n",
              "  </thead>\n",
              "  <tbody>\n",
              "    <tr>\n",
              "      <th>0</th>\n",
              "      <td>0.754246</td>\n",
              "      <td>0.231481</td>\n",
              "      <td>1</td>\n",
              "    </tr>\n",
              "    <tr>\n",
              "      <th>1</th>\n",
              "      <td>-0.756159</td>\n",
              "      <td>0.153259</td>\n",
              "      <td>1</td>\n",
              "    </tr>\n",
              "    <tr>\n",
              "      <th>2</th>\n",
              "      <td>-0.815392</td>\n",
              "      <td>0.173282</td>\n",
              "      <td>1</td>\n",
              "    </tr>\n",
              "    <tr>\n",
              "      <th>3</th>\n",
              "      <td>-0.393731</td>\n",
              "      <td>0.692883</td>\n",
              "      <td>1</td>\n",
              "    </tr>\n",
              "    <tr>\n",
              "      <th>4</th>\n",
              "      <td>0.442208</td>\n",
              "      <td>-0.896723</td>\n",
              "      <td>0</td>\n",
              "    </tr>\n",
              "    <tr>\n",
              "      <th>...</th>\n",
              "      <td>...</td>\n",
              "      <td>...</td>\n",
              "      <td>...</td>\n",
              "    </tr>\n",
              "    <tr>\n",
              "      <th>995</th>\n",
              "      <td>0.244054</td>\n",
              "      <td>0.944125</td>\n",
              "      <td>0</td>\n",
              "    </tr>\n",
              "    <tr>\n",
              "      <th>996</th>\n",
              "      <td>-0.978655</td>\n",
              "      <td>-0.272373</td>\n",
              "      <td>0</td>\n",
              "    </tr>\n",
              "    <tr>\n",
              "      <th>997</th>\n",
              "      <td>-0.136900</td>\n",
              "      <td>-0.810012</td>\n",
              "      <td>1</td>\n",
              "    </tr>\n",
              "    <tr>\n",
              "      <th>998</th>\n",
              "      <td>0.670362</td>\n",
              "      <td>-0.767502</td>\n",
              "      <td>0</td>\n",
              "    </tr>\n",
              "    <tr>\n",
              "      <th>999</th>\n",
              "      <td>0.281057</td>\n",
              "      <td>0.963824</td>\n",
              "      <td>0</td>\n",
              "    </tr>\n",
              "  </tbody>\n",
              "</table>\n",
              "<p>1000 rows × 3 columns</p>\n",
              "</div>\n",
              "      <button class=\"colab-df-convert\" onclick=\"convertToInteractive('df-97487626-514d-4a34-92a1-4b6a4626978a')\"\n",
              "              title=\"Convert this dataframe to an interactive table.\"\n",
              "              style=\"display:none;\">\n",
              "        \n",
              "  <svg xmlns=\"http://www.w3.org/2000/svg\" height=\"24px\"viewBox=\"0 0 24 24\"\n",
              "       width=\"24px\">\n",
              "    <path d=\"M0 0h24v24H0V0z\" fill=\"none\"/>\n",
              "    <path d=\"M18.56 5.44l.94 2.06.94-2.06 2.06-.94-2.06-.94-.94-2.06-.94 2.06-2.06.94zm-11 1L8.5 8.5l.94-2.06 2.06-.94-2.06-.94L8.5 2.5l-.94 2.06-2.06.94zm10 10l.94 2.06.94-2.06 2.06-.94-2.06-.94-.94-2.06-.94 2.06-2.06.94z\"/><path d=\"M17.41 7.96l-1.37-1.37c-.4-.4-.92-.59-1.43-.59-.52 0-1.04.2-1.43.59L10.3 9.45l-7.72 7.72c-.78.78-.78 2.05 0 2.83L4 21.41c.39.39.9.59 1.41.59.51 0 1.02-.2 1.41-.59l7.78-7.78 2.81-2.81c.8-.78.8-2.07 0-2.86zM5.41 20L4 18.59l7.72-7.72 1.47 1.35L5.41 20z\"/>\n",
              "  </svg>\n",
              "      </button>\n",
              "      \n",
              "  <style>\n",
              "    .colab-df-container {\n",
              "      display:flex;\n",
              "      flex-wrap:wrap;\n",
              "      gap: 12px;\n",
              "    }\n",
              "\n",
              "    .colab-df-convert {\n",
              "      background-color: #E8F0FE;\n",
              "      border: none;\n",
              "      border-radius: 50%;\n",
              "      cursor: pointer;\n",
              "      display: none;\n",
              "      fill: #1967D2;\n",
              "      height: 32px;\n",
              "      padding: 0 0 0 0;\n",
              "      width: 32px;\n",
              "    }\n",
              "\n",
              "    .colab-df-convert:hover {\n",
              "      background-color: #E2EBFA;\n",
              "      box-shadow: 0px 1px 2px rgba(60, 64, 67, 0.3), 0px 1px 3px 1px rgba(60, 64, 67, 0.15);\n",
              "      fill: #174EA6;\n",
              "    }\n",
              "\n",
              "    [theme=dark] .colab-df-convert {\n",
              "      background-color: #3B4455;\n",
              "      fill: #D2E3FC;\n",
              "    }\n",
              "\n",
              "    [theme=dark] .colab-df-convert:hover {\n",
              "      background-color: #434B5C;\n",
              "      box-shadow: 0px 1px 3px 1px rgba(0, 0, 0, 0.15);\n",
              "      filter: drop-shadow(0px 1px 2px rgba(0, 0, 0, 0.3));\n",
              "      fill: #FFFFFF;\n",
              "    }\n",
              "  </style>\n",
              "\n",
              "      <script>\n",
              "        const buttonEl =\n",
              "          document.querySelector('#df-97487626-514d-4a34-92a1-4b6a4626978a button.colab-df-convert');\n",
              "        buttonEl.style.display =\n",
              "          google.colab.kernel.accessAllowed ? 'block' : 'none';\n",
              "\n",
              "        async function convertToInteractive(key) {\n",
              "          const element = document.querySelector('#df-97487626-514d-4a34-92a1-4b6a4626978a');\n",
              "          const dataTable =\n",
              "            await google.colab.kernel.invokeFunction('convertToInteractive',\n",
              "                                                     [key], {});\n",
              "          if (!dataTable) return;\n",
              "\n",
              "          const docLinkHtml = 'Like what you see? Visit the ' +\n",
              "            '<a target=\"_blank\" href=https://colab.research.google.com/notebooks/data_table.ipynb>data table notebook</a>'\n",
              "            + ' to learn more about interactive tables.';\n",
              "          element.innerHTML = '';\n",
              "          dataTable['output_type'] = 'display_data';\n",
              "          await google.colab.output.renderOutput(dataTable, element);\n",
              "          const docLink = document.createElement('div');\n",
              "          docLink.innerHTML = docLinkHtml;\n",
              "          element.appendChild(docLink);\n",
              "        }\n",
              "      </script>\n",
              "    </div>\n",
              "  </div>\n",
              "  "
            ]
          },
          "metadata": {},
          "execution_count": 95
        }
      ]
    },
    {
      "cell_type": "markdown",
      "source": [
        "## Input and output shapes"
      ],
      "metadata": {
        "id": "gUGDB7iX9dND"
      }
    },
    {
      "cell_type": "code",
      "source": [
        "# Check the shapes of our features and labels:\n",
        "X.shape, y.shape"
      ],
      "metadata": {
        "colab": {
          "base_uri": "https://localhost:8080/"
        },
        "id": "uq06-qxg8eRD",
        "outputId": "16e5fa19-4ef2-4b19-eeb8-2323a1d1a01e"
      },
      "execution_count": 96,
      "outputs": [
        {
          "output_type": "execute_result",
          "data": {
            "text/plain": [
              "((1000, 2), (1000,))"
            ]
          },
          "metadata": {},
          "execution_count": 96
        }
      ]
    },
    {
      "cell_type": "code",
      "source": [
        "# Chek the length of our samples:\n",
        "len(X), len(y)"
      ],
      "metadata": {
        "colab": {
          "base_uri": "https://localhost:8080/"
        },
        "id": "Z0AEnNbA-wSd",
        "outputId": "fb9563e2-6ac6-48cd-c963-3c9fb6856472"
      },
      "execution_count": 97,
      "outputs": [
        {
          "output_type": "execute_result",
          "data": {
            "text/plain": [
              "(1000, 1000)"
            ]
          },
          "metadata": {},
          "execution_count": 97
        }
      ]
    },
    {
      "cell_type": "code",
      "source": [
        "# View the first example of features and labels:\n",
        "X[10],y[11]"
      ],
      "metadata": {
        "colab": {
          "base_uri": "https://localhost:8080/"
        },
        "id": "9KCpgSwO-4kP",
        "outputId": "de0081a8-a7e3-40be-b062-70353fe2729c"
      },
      "execution_count": 98,
      "outputs": [
        {
          "output_type": "execute_result",
          "data": {
            "text/plain": [
              "(array([-0.64249042, -0.54409929]), 0)"
            ]
          },
          "metadata": {},
          "execution_count": 98
        }
      ]
    },
    {
      "cell_type": "code",
      "source": [
        "# Check the labels\n",
        "circles.label.value_counts()"
      ],
      "metadata": {
        "colab": {
          "base_uri": "https://localhost:8080/"
        },
        "id": "sJsoZ5dYDrxF",
        "outputId": "586bb9ad-52f0-4d6d-93de-d3ab77d11d46"
      },
      "execution_count": 99,
      "outputs": [
        {
          "output_type": "execute_result",
          "data": {
            "text/plain": [
              "1    500\n",
              "0    500\n",
              "Name: label, dtype: int64"
            ]
          },
          "metadata": {},
          "execution_count": 99
        }
      ]
    },
    {
      "cell_type": "code",
      "source": [
        "# Visualize with a plot\n",
        "import matplotlib.pyplot as plt\n"
      ],
      "metadata": {
        "id": "loNmkYN29Pa6"
      },
      "execution_count": 100,
      "outputs": []
    },
    {
      "cell_type": "code",
      "source": [
        "plt.scatter(X[:,0], X[:,1], c=y, cmap=plt.cm.RdYlBu);"
      ],
      "metadata": {
        "colab": {
          "base_uri": "https://localhost:8080/",
          "height": 265
        },
        "id": "KHhDPR-a9WjQ",
        "outputId": "f834db9c-9f75-41b8-8f38-cade5fe670de"
      },
      "execution_count": 101,
      "outputs": [
        {
          "output_type": "display_data",
          "data": {
            "text/plain": [
              "<Figure size 432x288 with 1 Axes>"
            ],
            "image/png": "[encoded data removed]"
          },
          "metadata": {
            "needs_background": "light"
          }
        }
      ]
    },
    {
      "cell_type": "code",
      "source": [
        "# Check the shapes of our features and labels\n",
        "X.shape, y.shape"
      ],
      "metadata": {
        "colab": {
          "base_uri": "https://localhost:8080/"
        },
        "id": "qj07rF9q-pli",
        "outputId": "c074efc1-ceab-492b-ef1d-98c00e6e7fd0"
      },
      "execution_count": 102,
      "outputs": [
        {
          "output_type": "execute_result",
          "data": {
            "text/plain": [
              "((1000, 2), (1000,))"
            ]
          },
          "metadata": {},
          "execution_count": 102
        }
      ]
    },
    {
      "cell_type": "code",
      "source": [
        "X.shape"
      ],
      "metadata": {
        "colab": {
          "base_uri": "https://localhost:8080/"
        },
        "id": "xoENUZ_HCG1F",
        "outputId": "97a022e9-f336-4842-ca6d-a78b1ae11657"
      },
      "execution_count": 103,
      "outputs": [
        {
          "output_type": "execute_result",
          "data": {
            "text/plain": [
              "(1000, 2)"
            ]
          },
          "metadata": {},
          "execution_count": 103
        }
      ]
    },
    {
      "cell_type": "markdown",
      "source": [
        "## Steps in modelling"
      ],
      "metadata": {
        "id": "I3UyJnJ6-tGi"
      }
    },
    {
      "cell_type": "code",
      "source": [
        "import tensorflow as tf"
      ],
      "metadata": {
        "id": "TZkeQ6hOAapP"
      },
      "execution_count": 104,
      "outputs": []
    },
    {
      "cell_type": "code",
      "source": [
        "# set random seed\n",
        "tf.random.set_seed(42)\n",
        "\n",
        "# 1. Create a model:\n",
        "model_1 = tf.keras.Sequential([\n",
        "    tf.keras.layers.Dense(1, activation=\"relu\")\n",
        "    # tf.keras.layers.input_shape([2]),\n",
        "    # tf.keras.layers.Dense(100, activation=\"\"),\n",
        "    # td.keras.layers.Dense(3, name=\"output_layer\", activation=\"sigmoid\")\n",
        "])\n",
        "\n",
        "# 2. Compile the model\n",
        "model_1.compile(loss=tf.keras.losses.BinaryCrossentropy(),\n",
        "              optimizer=tf.keras.optimizers.Adam(),\n",
        "              metrics=\"accuracy\")\n",
        "\n",
        "# 3. Fit the modelling\n",
        "model_1.fit(X,y, epochs=5)\n",
        "\n",
        "\n",
        "\n",
        "# 4. Evaluate the model\n",
        "\n",
        "# 5. Tweak the model\n",
        "\n",
        "# 6. Evaluate, then tweak etc..."
      ],
      "metadata": {
        "colab": {
          "base_uri": "https://localhost:8080/"
        },
        "id": "1e5x1Ut9_XzJ",
        "outputId": "fb60e696-0f37-434e-b5cc-7cf119823441"
      },
      "execution_count": 105,
      "outputs": [
        {
          "output_type": "stream",
          "name": "stdout",
          "text": [
            "Epoch 1/5\n",
            "32/32 [==============================] - 1s 2ms/step - loss: 5.3902 - accuracy: 0.4800\n",
            "Epoch 2/5\n",
            "32/32 [==============================] - 0s 2ms/step - loss: 5.3350 - accuracy: 0.4800\n",
            "Epoch 3/5\n",
            "32/32 [==============================] - 0s 2ms/step - loss: 5.3075 - accuracy: 0.4780\n",
            "Epoch 4/5\n",
            "32/32 [==============================] - 0s 2ms/step - loss: 5.3011 - accuracy: 0.4780\n",
            "Epoch 5/5\n",
            "32/32 [==============================] - 0s 2ms/step - loss: 5.2276 - accuracy: 0.4780\n"
          ]
        },
        {
          "output_type": "execute_result",
          "data": {
            "text/plain": [
              "<keras.callbacks.History at 0x7f3232bed1c0>"
            ]
          },
          "metadata": {},
          "execution_count": 105
        }
      ]
    },
    {
      "cell_type": "markdown",
      "source": [
        "Let's try and improve our model by training it for longer..."
      ],
      "metadata": {
        "id": "OlPuDFnzBkPr"
      }
    },
    {
      "cell_type": "markdown",
      "source": [
        "* Trying to see if accuracy improves by adding an extra layer. (0.49 accuracy is basically a coin flip)"
      ],
      "metadata": {
        "id": "AVrExf1-DfVE"
      }
    },
    {
      "cell_type": "code",
      "source": [
        "# Set the random seed\n",
        "tf.random.set_seed(42)\n",
        "\n",
        "# 1. Create a model, this time with 2 layers\n",
        "model_2 = tf.keras.Sequential([\n",
        "    tf.keras.layers.Dense(1),\n",
        "    tf.keras.layers.Dense(1)\n",
        "])\n",
        "\n",
        "# 2. Compile the model\n",
        "model_2.compile(loss=tf.keras.losses.BinaryCrossentropy(),\n",
        "                optimizer=tf.keras.optimizers.SGD(),\n",
        "                metrics=\"accuracy\")\n",
        "\n",
        "# 3 Fit the model\n",
        "model_2.fit(X, y, epochs=100, verbose=0)\n",
        "\n",
        "# 4. Evaluate the model\n",
        "\n",
        "model_2.evaluate(X,y)"
      ],
      "metadata": {
        "colab": {
          "base_uri": "https://localhost:8080/"
        },
        "id": "A0SFuNrLD0PF",
        "outputId": "70efa1a3-fc26-42e1-97b3-c15a7c2d7d4c"
      },
      "execution_count": 106,
      "outputs": [
        {
          "output_type": "stream",
          "name": "stdout",
          "text": [
            "32/32 [==============================] - 0s 2ms/step - loss: 7.6246 - accuracy: 0.5000\n"
          ]
        },
        {
          "output_type": "execute_result",
          "data": {
            "text/plain": [
              "[7.6246185302734375, 0.5]"
            ]
          },
          "metadata": {},
          "execution_count": 106
        }
      ]
    },
    {
      "cell_type": "code",
      "source": [
        "circles.label.value_counts()"
      ],
      "metadata": {
        "colab": {
          "base_uri": "https://localhost:8080/"
        },
        "id": "Eewy6oabETwf",
        "outputId": "64e7fb83-265a-42b2-bfd0-421fc5f7b5e2"
      },
      "execution_count": 107,
      "outputs": [
        {
          "output_type": "execute_result",
          "data": {
            "text/plain": [
              "1    500\n",
              "0    500\n",
              "Name: label, dtype: int64"
            ]
          },
          "metadata": {},
          "execution_count": 107
        }
      ]
    },
    {
      "cell_type": "markdown",
      "source": [
        "from IPython.utils.io import unicode_std_stream\n",
        "* Improving our model...\n",
        "\n",
        "1. Create our model - add more layers or increase the number of hidden units\n",
        "2. Compiling our model - using a different optimization funciton eg. Adam instead of SGD,\n",
        "3. Fitting our model - let the model train for longer"
      ],
      "metadata": {
        "id": "PKawOuxsEpFE"
      }
    },
    {
      "cell_type": "code",
      "source": [
        "model_3 = tf.keras.Sequential([\n",
        "    tf.keras.layers.Dense(100),\n",
        "    tf.keras.layers.Dense(10),\n",
        "    tf.keras.layers.Dense(1)\n",
        "])\n",
        "\n",
        "model_3.compile(loss=tf.keras.losses.BinaryCrossentropy(),\n",
        "                optimizer=tf.keras.optimizers.Adam(),\n",
        "                metrics=[\"accuracy\"])\n",
        "\n",
        "model_3.fit(X, y, epochs=100, verbose=1)"
      ],
      "metadata": {
        "colab": {
          "base_uri": "https://localhost:8080/"
        },
        "id": "lWc8RGR2FVOi",
        "outputId": "63559f91-5e0e-4d98-8d7d-40058961c545"
      },
      "execution_count": 108,
      "outputs": [
        {
          "output_type": "stream",
          "name": "stdout",
          "text": [
            "Epoch 1/100\n",
            "32/32 [==============================] - 1s 2ms/step - loss: 2.2585 - accuracy: 0.4680\n",
            "Epoch 2/100\n",
            "32/32 [==============================] - 0s 2ms/step - loss: 0.7110 - accuracy: 0.4850\n",
            "Epoch 3/100\n",
            "32/32 [==============================] - 0s 2ms/step - loss: 0.6942 - accuracy: 0.4940\n",
            "Epoch 4/100\n",
            "32/32 [==============================] - 0s 2ms/step - loss: 0.6964 - accuracy: 0.4880\n",
            "Epoch 5/100\n",
            "32/32 [==============================] - 0s 2ms/step - loss: 0.6967 - accuracy: 0.4770\n",
            "Epoch 6/100\n",
            "32/32 [==============================] - 0s 2ms/step - loss: 0.6972 - accuracy: 0.4600\n",
            "Epoch 7/100\n",
            "32/32 [==============================] - 0s 2ms/step - loss: 0.6955 - accuracy: 0.5120\n",
            "Epoch 8/100\n",
            "32/32 [==============================] - 0s 2ms/step - loss: 0.6949 - accuracy: 0.5190\n",
            "Epoch 9/100\n",
            "32/32 [==============================] - 0s 2ms/step - loss: 0.6990 - accuracy: 0.4960\n",
            "Epoch 10/100\n",
            "32/32 [==============================] - 0s 3ms/step - loss: 0.6948 - accuracy: 0.4730\n",
            "Epoch 11/100\n",
            "32/32 [==============================] - 0s 2ms/step - loss: 0.7007 - accuracy: 0.4810\n",
            "Epoch 12/100\n",
            "32/32 [==============================] - 0s 2ms/step - loss: 0.6968 - accuracy: 0.4760\n",
            "Epoch 13/100\n",
            "32/32 [==============================] - 0s 2ms/step - loss: 0.6982 - accuracy: 0.4820\n",
            "Epoch 14/100\n",
            "32/32 [==============================] - 0s 2ms/step - loss: 0.6966 - accuracy: 0.5050\n",
            "Epoch 15/100\n",
            "32/32 [==============================] - 0s 2ms/step - loss: 0.6985 - accuracy: 0.4750\n",
            "Epoch 16/100\n",
            "32/32 [==============================] - 0s 2ms/step - loss: 0.6956 - accuracy: 0.4890\n",
            "Epoch 17/100\n",
            "32/32 [==============================] - 0s 3ms/step - loss: 0.7027 - accuracy: 0.4880\n",
            "Epoch 18/100\n",
            "32/32 [==============================] - 0s 2ms/step - loss: 0.6968 - accuracy: 0.4760\n",
            "Epoch 19/100\n",
            "32/32 [==============================] - 0s 2ms/step - loss: 0.6981 - accuracy: 0.5090\n",
            "Epoch 20/100\n",
            "32/32 [==============================] - 0s 2ms/step - loss: 0.6993 - accuracy: 0.4630\n",
            "Epoch 21/100\n",
            "32/32 [==============================] - 0s 2ms/step - loss: 0.6975 - accuracy: 0.5070\n",
            "Epoch 22/100\n",
            "32/32 [==============================] - 0s 2ms/step - loss: 0.6969 - accuracy: 0.4740\n",
            "Epoch 23/100\n",
            "32/32 [==============================] - 0s 3ms/step - loss: 0.6958 - accuracy: 0.5260\n",
            "Epoch 24/100\n",
            "32/32 [==============================] - 0s 2ms/step - loss: 0.6995 - accuracy: 0.4720\n",
            "Epoch 25/100\n",
            "32/32 [==============================] - 0s 2ms/step - loss: 0.7003 - accuracy: 0.5060\n",
            "Epoch 26/100\n",
            "32/32 [==============================] - 0s 2ms/step - loss: 0.6997 - accuracy: 0.4920\n",
            "Epoch 27/100\n",
            "32/32 [==============================] - 0s 2ms/step - loss: 0.6988 - accuracy: 0.5160\n",
            "Epoch 28/100\n",
            "32/32 [==============================] - 0s 2ms/step - loss: 0.6984 - accuracy: 0.4740\n",
            "Epoch 29/100\n",
            "32/32 [==============================] - 0s 3ms/step - loss: 0.6992 - accuracy: 0.5010\n",
            "Epoch 30/100\n",
            "32/32 [==============================] - 0s 2ms/step - loss: 0.7099 - accuracy: 0.4670\n",
            "Epoch 31/100\n",
            "32/32 [==============================] - 0s 2ms/step - loss: 0.6943 - accuracy: 0.5270\n",
            "Epoch 32/100\n",
            "32/32 [==============================] - 0s 2ms/step - loss: 0.6981 - accuracy: 0.4600\n",
            "Epoch 33/100\n",
            "32/32 [==============================] - 0s 2ms/step - loss: 0.6985 - accuracy: 0.4960\n",
            "Epoch 34/100\n",
            "32/32 [==============================] - 0s 2ms/step - loss: 0.7010 - accuracy: 0.4820\n",
            "Epoch 35/100\n",
            "32/32 [==============================] - 0s 2ms/step - loss: 0.6981 - accuracy: 0.4920\n",
            "Epoch 36/100\n",
            "32/32 [==============================] - 0s 3ms/step - loss: 0.6956 - accuracy: 0.4980\n",
            "Epoch 37/100\n",
            "32/32 [==============================] - 0s 2ms/step - loss: 0.6975 - accuracy: 0.4880\n",
            "Epoch 38/100\n",
            "32/32 [==============================] - 0s 2ms/step - loss: 0.6985 - accuracy: 0.5050\n",
            "Epoch 39/100\n",
            "32/32 [==============================] - 0s 2ms/step - loss: 0.7004 - accuracy: 0.4600\n",
            "Epoch 40/100\n",
            "32/32 [==============================] - 0s 2ms/step - loss: 0.6980 - accuracy: 0.4960\n",
            "Epoch 41/100\n",
            "32/32 [==============================] - 0s 2ms/step - loss: 0.6988 - accuracy: 0.5180\n",
            "Epoch 42/100\n",
            "32/32 [==============================] - 0s 2ms/step - loss: 0.7033 - accuracy: 0.4860\n",
            "Epoch 43/100\n",
            "32/32 [==============================] - 0s 2ms/step - loss: 0.6973 - accuracy: 0.5030\n",
            "Epoch 44/100\n",
            "32/32 [==============================] - 0s 2ms/step - loss: 0.6990 - accuracy: 0.4780\n",
            "Epoch 45/100\n",
            "32/32 [==============================] - 0s 2ms/step - loss: 0.7026 - accuracy: 0.4830\n",
            "Epoch 46/100\n",
            "32/32 [==============================] - 0s 2ms/step - loss: 0.6954 - accuracy: 0.4790\n",
            "Epoch 47/100\n",
            "32/32 [==============================] - 0s 2ms/step - loss: 0.6984 - accuracy: 0.5000\n",
            "Epoch 48/100\n",
            "32/32 [==============================] - 0s 2ms/step - loss: 0.6991 - accuracy: 0.5020\n",
            "Epoch 49/100\n",
            "32/32 [==============================] - 0s 2ms/step - loss: 0.6992 - accuracy: 0.4780\n",
            "Epoch 50/100\n",
            "32/32 [==============================] - 0s 2ms/step - loss: 0.7001 - accuracy: 0.4640\n",
            "Epoch 51/100\n",
            "32/32 [==============================] - 0s 2ms/step - loss: 0.7019 - accuracy: 0.4650\n",
            "Epoch 52/100\n",
            "32/32 [==============================] - 0s 2ms/step - loss: 0.6970 - accuracy: 0.4950\n",
            "Epoch 53/100\n",
            "32/32 [==============================] - 0s 2ms/step - loss: 0.6975 - accuracy: 0.4820\n",
            "Epoch 54/100\n",
            "32/32 [==============================] - 0s 2ms/step - loss: 0.7016 - accuracy: 0.5080\n",
            "Epoch 55/100\n",
            "32/32 [==============================] - 0s 2ms/step - loss: 0.6967 - accuracy: 0.5160\n",
            "Epoch 56/100\n",
            "32/32 [==============================] - 0s 2ms/step - loss: 0.6973 - accuracy: 0.5020\n",
            "Epoch 57/100\n",
            "32/32 [==============================] - 0s 2ms/step - loss: 0.6993 - accuracy: 0.4820\n",
            "Epoch 58/100\n",
            "32/32 [==============================] - 0s 2ms/step - loss: 0.6989 - accuracy: 0.4930\n",
            "Epoch 59/100\n",
            "32/32 [==============================] - 0s 2ms/step - loss: 0.7027 - accuracy: 0.4900\n",
            "Epoch 60/100\n",
            "32/32 [==============================] - 0s 2ms/step - loss: 0.7037 - accuracy: 0.4930\n",
            "Epoch 61/100\n",
            "32/32 [==============================] - 0s 2ms/step - loss: 0.7015 - accuracy: 0.4630\n",
            "Epoch 62/100\n",
            "32/32 [==============================] - 0s 2ms/step - loss: 0.6966 - accuracy: 0.5070\n",
            "Epoch 63/100\n",
            "32/32 [==============================] - 0s 2ms/step - loss: 0.6949 - accuracy: 0.4730\n",
            "Epoch 64/100\n",
            "32/32 [==============================] - 0s 2ms/step - loss: 0.6958 - accuracy: 0.4950\n",
            "Epoch 65/100\n",
            "32/32 [==============================] - 0s 2ms/step - loss: 0.7019 - accuracy: 0.4820\n",
            "Epoch 66/100\n",
            "32/32 [==============================] - 0s 2ms/step - loss: 0.6974 - accuracy: 0.4970\n",
            "Epoch 67/100\n",
            "32/32 [==============================] - 0s 2ms/step - loss: 0.6985 - accuracy: 0.4590\n",
            "Epoch 68/100\n",
            "32/32 [==============================] - 0s 2ms/step - loss: 0.6961 - accuracy: 0.4940\n",
            "Epoch 69/100\n",
            "32/32 [==============================] - 0s 3ms/step - loss: 0.6963 - accuracy: 0.5290\n",
            "Epoch 70/100\n",
            "32/32 [==============================] - 0s 3ms/step - loss: 0.6997 - accuracy: 0.4760\n",
            "Epoch 71/100\n",
            "32/32 [==============================] - 0s 3ms/step - loss: 0.6988 - accuracy: 0.4540\n",
            "Epoch 72/100\n",
            "32/32 [==============================] - 0s 3ms/step - loss: 0.6974 - accuracy: 0.4950\n",
            "Epoch 73/100\n",
            "32/32 [==============================] - 0s 3ms/step - loss: 0.6968 - accuracy: 0.4940\n",
            "Epoch 74/100\n",
            "32/32 [==============================] - 0s 3ms/step - loss: 0.6964 - accuracy: 0.5120\n",
            "Epoch 75/100\n",
            "32/32 [==============================] - 0s 3ms/step - loss: 0.6970 - accuracy: 0.5080\n",
            "Epoch 76/100\n",
            "32/32 [==============================] - 0s 3ms/step - loss: 0.6980 - accuracy: 0.4890\n",
            "Epoch 77/100\n",
            "32/32 [==============================] - 0s 3ms/step - loss: 0.6973 - accuracy: 0.4980\n",
            "Epoch 78/100\n",
            "32/32 [==============================] - 0s 3ms/step - loss: 0.6974 - accuracy: 0.4810\n",
            "Epoch 79/100\n",
            "32/32 [==============================] - 0s 3ms/step - loss: 0.7016 - accuracy: 0.5050\n",
            "Epoch 80/100\n",
            "32/32 [==============================] - 0s 3ms/step - loss: 0.6991 - accuracy: 0.4980\n",
            "Epoch 81/100\n",
            "32/32 [==============================] - 0s 3ms/step - loss: 0.6987 - accuracy: 0.5030\n",
            "Epoch 82/100\n",
            "32/32 [==============================] - 0s 3ms/step - loss: 0.6974 - accuracy: 0.5020\n",
            "Epoch 83/100\n",
            "32/32 [==============================] - 0s 4ms/step - loss: 0.7005 - accuracy: 0.4600\n",
            "Epoch 84/100\n",
            "32/32 [==============================] - 0s 3ms/step - loss: 0.6968 - accuracy: 0.5040\n",
            "Epoch 85/100\n",
            "32/32 [==============================] - 0s 3ms/step - loss: 0.6967 - accuracy: 0.4810\n",
            "Epoch 86/100\n",
            "32/32 [==============================] - 0s 3ms/step - loss: 0.7006 - accuracy: 0.4880\n",
            "Epoch 87/100\n",
            "32/32 [==============================] - 0s 3ms/step - loss: 0.6982 - accuracy: 0.4620\n",
            "Epoch 88/100\n",
            "32/32 [==============================] - 0s 3ms/step - loss: 0.6985 - accuracy: 0.4580\n",
            "Epoch 89/100\n",
            "32/32 [==============================] - 0s 3ms/step - loss: 0.6978 - accuracy: 0.4810\n",
            "Epoch 90/100\n",
            "32/32 [==============================] - 0s 3ms/step - loss: 0.6984 - accuracy: 0.4820\n",
            "Epoch 91/100\n",
            "32/32 [==============================] - 0s 3ms/step - loss: 0.6993 - accuracy: 0.4890\n",
            "Epoch 92/100\n",
            "32/32 [==============================] - 0s 3ms/step - loss: 0.6992 - accuracy: 0.4830\n",
            "Epoch 93/100\n",
            "32/32 [==============================] - 0s 3ms/step - loss: 0.6980 - accuracy: 0.4700\n",
            "Epoch 94/100\n",
            "32/32 [==============================] - 0s 3ms/step - loss: 0.7011 - accuracy: 0.4920\n",
            "Epoch 95/100\n",
            "32/32 [==============================] - 0s 3ms/step - loss: 0.6974 - accuracy: 0.4570\n",
            "Epoch 96/100\n",
            "32/32 [==============================] - 0s 3ms/step - loss: 0.6983 - accuracy: 0.4770\n",
            "Epoch 97/100\n",
            "32/32 [==============================] - 0s 3ms/step - loss: 0.6974 - accuracy: 0.4640\n",
            "Epoch 98/100\n",
            "32/32 [==============================] - 0s 3ms/step - loss: 0.6992 - accuracy: 0.4850\n",
            "Epoch 99/100\n",
            "32/32 [==============================] - 0s 2ms/step - loss: 0.6977 - accuracy: 0.5120\n",
            "Epoch 100/100\n",
            "32/32 [==============================] - 0s 2ms/step - loss: 0.6964 - accuracy: 0.4900\n"
          ]
        },
        {
          "output_type": "execute_result",
          "data": {
            "text/plain": [
              "<keras.callbacks.History at 0x7f323630d0a0>"
            ]
          },
          "metadata": {},
          "execution_count": 108
        }
      ]
    },
    {
      "cell_type": "code",
      "source": [
        "model_3.evaluate(X,y)"
      ],
      "metadata": {
        "colab": {
          "base_uri": "https://localhost:8080/"
        },
        "id": "3oiKffwDFtBk",
        "outputId": "f761d2c1-be59-4e78-c2f3-8c8222b230b6"
      },
      "execution_count": 109,
      "outputs": [
        {
          "output_type": "stream",
          "name": "stdout",
          "text": [
            "32/32 [==============================] - 0s 2ms/step - loss: 0.6979 - accuracy: 0.5130\n"
          ]
        },
        {
          "output_type": "execute_result",
          "data": {
            "text/plain": [
              "[0.6979435682296753, 0.5130000114440918]"
            ]
          },
          "metadata": {},
          "execution_count": 109
        }
      ]
    },
    {
      "cell_type": "markdown",
      "source": [
        "* Observation: still getting 0.5 accuracy whichi is just as good as guessing.\n",
        "Next strategy: lets try and visaulize "
      ],
      "metadata": {
        "id": "hKfxBGzxFwXf"
      }
    },
    {
      "cell_type": "code",
      "source": [
        "model_1.summary()"
      ],
      "metadata": {
        "colab": {
          "base_uri": "https://localhost:8080/"
        },
        "id": "Pc2By8C9H6rv",
        "outputId": "0c7d3d26-b2cd-46d9-c99b-883307d7f9a6"
      },
      "execution_count": 110,
      "outputs": [
        {
          "output_type": "stream",
          "name": "stdout",
          "text": [
            "Model: \"sequential_24\"\n",
            "_________________________________________________________________\n",
            " Layer (type)                Output Shape              Param #   \n",
            "=================================================================\n",
            " dense_45 (Dense)            (None, 1)                 3         \n",
            "                                                                 \n",
            "=================================================================\n",
            "Total params: 3\n",
            "Trainable params: 3\n",
            "Non-trainable params: 0\n",
            "_________________________________________________________________\n"
          ]
        }
      ]
    },
    {
      "cell_type": "code",
      "source": [
        "model_2.summary()"
      ],
      "metadata": {
        "colab": {
          "base_uri": "https://localhost:8080/"
        },
        "id": "Q1rU2sApH79t",
        "outputId": "74f452b6-5b91-4feb-e31d-00c00c3d2e5a"
      },
      "execution_count": 111,
      "outputs": [
        {
          "output_type": "stream",
          "name": "stdout",
          "text": [
            "Model: \"sequential_25\"\n",
            "_________________________________________________________________\n",
            " Layer (type)                Output Shape              Param #   \n",
            "=================================================================\n",
            " dense_46 (Dense)            (None, 1)                 3         \n",
            "                                                                 \n",
            " dense_47 (Dense)            (None, 1)                 2         \n",
            "                                                                 \n",
            "=================================================================\n",
            "Total params: 5\n",
            "Trainable params: 5\n",
            "Non-trainable params: 0\n",
            "_________________________________________________________________\n"
          ]
        }
      ]
    },
    {
      "cell_type": "code",
      "source": [
        "model_3.summary()"
      ],
      "metadata": {
        "colab": {
          "base_uri": "https://localhost:8080/"
        },
        "id": "4En_O3wdH9Fb",
        "outputId": "258752c2-a0fa-4804-af2d-8ae26ffd8e90"
      },
      "execution_count": 112,
      "outputs": [
        {
          "output_type": "stream",
          "name": "stdout",
          "text": [
            "Model: \"sequential_26\"\n",
            "_________________________________________________________________\n",
            " Layer (type)                Output Shape              Param #   \n",
            "=================================================================\n",
            " dense_48 (Dense)            (None, 100)               300       \n",
            "                                                                 \n",
            " dense_49 (Dense)            (None, 10)                1010      \n",
            "                                                                 \n",
            " dense_50 (Dense)            (None, 1)                 11        \n",
            "                                                                 \n",
            "=================================================================\n",
            "Total params: 1,321\n",
            "Trainable params: 1,321\n",
            "Non-trainable params: 0\n",
            "_________________________________________________________________\n"
          ]
        }
      ]
    },
    {
      "cell_type": "code",
      "source": [
        "model_3.predict(X)"
      ],
      "metadata": {
        "colab": {
          "base_uri": "https://localhost:8080/"
        },
        "id": "vT1mOknPH-O3",
        "outputId": "2e40f272-84c1-4888-e39f-7b60b694cc04"
      },
      "execution_count": 113,
      "outputs": [
        {
          "output_type": "stream",
          "name": "stdout",
          "text": [
            "32/32 [==============================] - 0s 1ms/step\n"
          ]
        },
        {
          "output_type": "execute_result",
          "data": {
            "text/plain": [
              "array([[0.48634604],\n",
              "       [0.5620592 ],\n",
              "       [0.5661856 ],\n",
              "       [0.5699975 ],\n",
              "       [0.4462504 ],\n",
              "       [0.5737029 ],\n",
              "       [0.55549496],\n",
              "       [0.48123947],\n",
              "       [0.48366827],\n",
              "       [0.57211524],\n",
              "       [0.52111346],\n",
              "       [0.5268272 ],\n",
              "       [0.56238896],\n",
              "       [0.4591073 ],\n",
              "       [0.45339254],\n",
              "       [0.4662176 ],\n",
              "       [0.5466962 ],\n",
              "       [0.4691145 ],\n",
              "       [0.55259246],\n",
              "       [0.51100457],\n",
              "       [0.50401896],\n",
              "       [0.58694804],\n",
              "       [0.4656966 ],\n",
              "       [0.4894595 ],\n",
              "       [0.5853562 ],\n",
              "       [0.57390815],\n",
              "       [0.5485051 ],\n",
              "       [0.46326062],\n",
              "       [0.46250606],\n",
              "       [0.45651057],\n",
              "       [0.48579592],\n",
              "       [0.5760903 ],\n",
              "       [0.5533405 ],\n",
              "       [0.4621478 ],\n",
              "       [0.46571153],\n",
              "       [0.59053206],\n",
              "       [0.5730692 ],\n",
              "       [0.52668846],\n",
              "       [0.46331903],\n",
              "       [0.50736535],\n",
              "       [0.5071987 ],\n",
              "       [0.54240876],\n",
              "       [0.5181241 ],\n",
              "       [0.45846644],\n",
              "       [0.5293311 ],\n",
              "       [0.5449762 ],\n",
              "       [0.45257849],\n",
              "       [0.541577  ],\n",
              "       [0.4385265 ],\n",
              "       [0.50026774],\n",
              "       [0.52007616],\n",
              "       [0.47037137],\n",
              "       [0.5583157 ],\n",
              "       [0.51984364],\n",
              "       [0.48064524],\n",
              "       [0.48495686],\n",
              "       [0.5504089 ],\n",
              "       [0.46978077],\n",
              "       [0.58388686],\n",
              "       [0.5109152 ],\n",
              "       [0.5255519 ],\n",
              "       [0.4987331 ],\n",
              "       [0.49968696],\n",
              "       [0.5872544 ],\n",
              "       [0.54137594],\n",
              "       [0.573709  ],\n",
              "       [0.5659506 ],\n",
              "       [0.47989705],\n",
              "       [0.5175931 ],\n",
              "       [0.4991548 ],\n",
              "       [0.55155   ],\n",
              "       [0.45723537],\n",
              "       [0.53045726],\n",
              "       [0.5611548 ],\n",
              "       [0.53211546],\n",
              "       [0.5374441 ],\n",
              "       [0.56224126],\n",
              "       [0.49121547],\n",
              "       [0.5374316 ],\n",
              "       [0.522104  ],\n",
              "       [0.56748253],\n",
              "       [0.5125488 ],\n",
              "       [0.54393005],\n",
              "       [0.5187378 ],\n",
              "       [0.5097397 ],\n",
              "       [0.5050757 ],\n",
              "       [0.46893916],\n",
              "       [0.5703296 ],\n",
              "       [0.5573373 ],\n",
              "       [0.50654906],\n",
              "       [0.4578574 ],\n",
              "       [0.44405556],\n",
              "       [0.48467615],\n",
              "       [0.5849991 ],\n",
              "       [0.5356953 ],\n",
              "       [0.4376655 ],\n",
              "       [0.54986894],\n",
              "       [0.53881323],\n",
              "       [0.5143375 ],\n",
              "       [0.5026881 ],\n",
              "       [0.56596804],\n",
              "       [0.478562  ],\n",
              "       [0.45648885],\n",
              "       [0.560063  ],\n",
              "       [0.55859566],\n",
              "       [0.567602  ],\n",
              "       [0.50776625],\n",
              "       [0.45726207],\n",
              "       [0.581419  ],\n",
              "       [0.46048927],\n",
              "       [0.48874536],\n",
              "       [0.5114333 ],\n",
              "       [0.47007394],\n",
              "       [0.51516926],\n",
              "       [0.53241104],\n",
              "       [0.44172704],\n",
              "       [0.5866441 ],\n",
              "       [0.46465793],\n",
              "       [0.4950661 ],\n",
              "       [0.5319616 ],\n",
              "       [0.4653552 ],\n",
              "       [0.4410642 ],\n",
              "       [0.5722594 ],\n",
              "       [0.5635119 ],\n",
              "       [0.5782538 ],\n",
              "       [0.5110978 ],\n",
              "       [0.524355  ],\n",
              "       [0.44453573],\n",
              "       [0.4779016 ],\n",
              "       [0.52807975],\n",
              "       [0.5378917 ],\n",
              "       [0.48710883],\n",
              "       [0.5539784 ],\n",
              "       [0.4689142 ],\n",
              "       [0.4894085 ],\n",
              "       [0.50840855],\n",
              "       [0.56048745],\n",
              "       [0.58356774],\n",
              "       [0.48109883],\n",
              "       [0.5240645 ],\n",
              "       [0.49498633],\n",
              "       [0.56443375],\n",
              "       [0.5688019 ],\n",
              "       [0.54684275],\n",
              "       [0.46589294],\n",
              "       [0.4574641 ],\n",
              "       [0.5183404 ],\n",
              "       [0.5696852 ],\n",
              "       [0.5093605 ],\n",
              "       [0.5074768 ],\n",
              "       [0.5631031 ],\n",
              "       [0.5793078 ],\n",
              "       [0.46422905],\n",
              "       [0.44384974],\n",
              "       [0.45709363],\n",
              "       [0.44615266],\n",
              "       [0.5204207 ],\n",
              "       [0.56962144],\n",
              "       [0.5117048 ],\n",
              "       [0.46721503],\n",
              "       [0.54046184],\n",
              "       [0.54583824],\n",
              "       [0.56153077],\n",
              "       [0.56896746],\n",
              "       [0.4800953 ],\n",
              "       [0.56975156],\n",
              "       [0.5299308 ],\n",
              "       [0.5732003 ],\n",
              "       [0.51568687],\n",
              "       [0.52038276],\n",
              "       [0.47372252],\n",
              "       [0.45237327],\n",
              "       [0.55380535],\n",
              "       [0.46757108],\n",
              "       [0.45029536],\n",
              "       [0.47297418],\n",
              "       [0.5614269 ],\n",
              "       [0.55919665],\n",
              "       [0.5225982 ],\n",
              "       [0.57120997],\n",
              "       [0.45408154],\n",
              "       [0.5713026 ],\n",
              "       [0.4627659 ],\n",
              "       [0.4882686 ],\n",
              "       [0.49706957],\n",
              "       [0.5729351 ],\n",
              "       [0.47770384],\n",
              "       [0.46853885],\n",
              "       [0.45680824],\n",
              "       [0.55926865],\n",
              "       [0.45832253],\n",
              "       [0.50443244],\n",
              "       [0.56781805],\n",
              "       [0.5853667 ],\n",
              "       [0.58524376],\n",
              "       [0.45183173],\n",
              "       [0.4969218 ],\n",
              "       [0.58541995],\n",
              "       [0.5473539 ],\n",
              "       [0.5247616 ],\n",
              "       [0.48227027],\n",
              "       [0.49264604],\n",
              "       [0.5725356 ],\n",
              "       [0.5092103 ],\n",
              "       [0.50096613],\n",
              "       [0.53570443],\n",
              "       [0.58538735],\n",
              "       [0.45669547],\n",
              "       [0.46041694],\n",
              "       [0.50873876],\n",
              "       [0.51832205],\n",
              "       [0.5766526 ],\n",
              "       [0.45767868],\n",
              "       [0.5046544 ],\n",
              "       [0.56266284],\n",
              "       [0.49628273],\n",
              "       [0.5698729 ],\n",
              "       [0.56703895],\n",
              "       [0.46091393],\n",
              "       [0.56731004],\n",
              "       [0.5250343 ],\n",
              "       [0.5652898 ],\n",
              "       [0.46230146],\n",
              "       [0.49960172],\n",
              "       [0.46289226],\n",
              "       [0.46243632],\n",
              "       [0.499786  ],\n",
              "       [0.4814977 ],\n",
              "       [0.45968542],\n",
              "       [0.49450436],\n",
              "       [0.49072117],\n",
              "       [0.47067857],\n",
              "       [0.45372275],\n",
              "       [0.52480465],\n",
              "       [0.48734224],\n",
              "       [0.48560804],\n",
              "       [0.5783112 ],\n",
              "       [0.45399523],\n",
              "       [0.58982927],\n",
              "       [0.5003941 ],\n",
              "       [0.46482614],\n",
              "       [0.5841616 ],\n",
              "       [0.47983804],\n",
              "       [0.5273763 ],\n",
              "       [0.5277575 ],\n",
              "       [0.5559373 ],\n",
              "       [0.44400534],\n",
              "       [0.5248822 ],\n",
              "       [0.529419  ],\n",
              "       [0.5390117 ],\n",
              "       [0.5287018 ],\n",
              "       [0.46712542],\n",
              "       [0.535385  ],\n",
              "       [0.46742064],\n",
              "       [0.45532832],\n",
              "       [0.5090741 ],\n",
              "       [0.48228863],\n",
              "       [0.45568556],\n",
              "       [0.45490053],\n",
              "       [0.4670895 ],\n",
              "       [0.56867146],\n",
              "       [0.44772908],\n",
              "       [0.540271  ],\n",
              "       [0.55827063],\n",
              "       [0.47798812],\n",
              "       [0.47621787],\n",
              "       [0.527879  ],\n",
              "       [0.46222776],\n",
              "       [0.5573595 ],\n",
              "       [0.4594492 ],\n",
              "       [0.4545717 ],\n",
              "       [0.56078106],\n",
              "       [0.46428677],\n",
              "       [0.5676936 ],\n",
              "       [0.48735368],\n",
              "       [0.47552067],\n",
              "       [0.5889988 ],\n",
              "       [0.5440255 ],\n",
              "       [0.5280587 ],\n",
              "       [0.5350147 ],\n",
              "       [0.5284931 ],\n",
              "       [0.5302758 ],\n",
              "       [0.5725764 ],\n",
              "       [0.53737736],\n",
              "       [0.58498305],\n",
              "       [0.57197726],\n",
              "       [0.48010376],\n",
              "       [0.4439475 ],\n",
              "       [0.5773631 ],\n",
              "       [0.4584377 ],\n",
              "       [0.45614892],\n",
              "       [0.5291879 ],\n",
              "       [0.47203994],\n",
              "       [0.44499603],\n",
              "       [0.47119772],\n",
              "       [0.44463894],\n",
              "       [0.45595714],\n",
              "       [0.4462592 ],\n",
              "       [0.46839362],\n",
              "       [0.5816627 ],\n",
              "       [0.496243  ],\n",
              "       [0.442349  ],\n",
              "       [0.45441955],\n",
              "       [0.44511884],\n",
              "       [0.5409741 ],\n",
              "       [0.4562517 ],\n",
              "       [0.49184456],\n",
              "       [0.52028924],\n",
              "       [0.45624313],\n",
              "       [0.51731825],\n",
              "       [0.53671515],\n",
              "       [0.4886786 ],\n",
              "       [0.5263787 ],\n",
              "       [0.5688431 ],\n",
              "       [0.44579917],\n",
              "       [0.44157392],\n",
              "       [0.5774806 ],\n",
              "       [0.48146775],\n",
              "       [0.5683935 ],\n",
              "       [0.5817842 ],\n",
              "       [0.5260177 ],\n",
              "       [0.5752569 ],\n",
              "       [0.5269132 ],\n",
              "       [0.5556317 ],\n",
              "       [0.5396088 ],\n",
              "       [0.4765242 ],\n",
              "       [0.48713985],\n",
              "       [0.4510585 ],\n",
              "       [0.57216346],\n",
              "       [0.56743467],\n",
              "       [0.5697602 ],\n",
              "       [0.513597  ],\n",
              "       [0.5663695 ],\n",
              "       [0.5512993 ],\n",
              "       [0.4598525 ],\n",
              "       [0.51439273],\n",
              "       [0.57196635],\n",
              "       [0.5046397 ],\n",
              "       [0.4711886 ],\n",
              "       [0.49088877],\n",
              "       [0.4478713 ],\n",
              "       [0.44828305],\n",
              "       [0.5856172 ],\n",
              "       [0.56334996],\n",
              "       [0.45675576],\n",
              "       [0.4446122 ],\n",
              "       [0.5060279 ],\n",
              "       [0.46358392],\n",
              "       [0.53945136],\n",
              "       [0.45484734],\n",
              "       [0.5892929 ],\n",
              "       [0.54996574],\n",
              "       [0.46701092],\n",
              "       [0.5216187 ],\n",
              "       [0.53451663],\n",
              "       [0.57097447],\n",
              "       [0.529273  ],\n",
              "       [0.44017664],\n",
              "       [0.50014096],\n",
              "       [0.57440764],\n",
              "       [0.4443827 ],\n",
              "       [0.5274913 ],\n",
              "       [0.5723685 ],\n",
              "       [0.44377354],\n",
              "       [0.5836281 ],\n",
              "       [0.48264664],\n",
              "       [0.5442658 ],\n",
              "       [0.5881129 ],\n",
              "       [0.45541528],\n",
              "       [0.4829868 ],\n",
              "       [0.58357674],\n",
              "       [0.57120836],\n",
              "       [0.5749299 ],\n",
              "       [0.5881428 ],\n",
              "       [0.46571475],\n",
              "       [0.55957013],\n",
              "       [0.45145628],\n",
              "       [0.52586824],\n",
              "       [0.46044677],\n",
              "       [0.5162697 ],\n",
              "       [0.56981486],\n",
              "       [0.5779942 ],\n",
              "       [0.5348466 ],\n",
              "       [0.5752772 ],\n",
              "       [0.58126026],\n",
              "       [0.4594409 ],\n",
              "       [0.47734103],\n",
              "       [0.56742895],\n",
              "       [0.46485594],\n",
              "       [0.54503065],\n",
              "       [0.58813417],\n",
              "       [0.49360123],\n",
              "       [0.57203174],\n",
              "       [0.5508923 ],\n",
              "       [0.5303181 ],\n",
              "       [0.51054204],\n",
              "       [0.45115086],\n",
              "       [0.4431373 ],\n",
              "       [0.5546942 ],\n",
              "       [0.4698916 ],\n",
              "       [0.4766683 ],\n",
              "       [0.44581774],\n",
              "       [0.4959555 ],\n",
              "       [0.4913164 ],\n",
              "       [0.54818445],\n",
              "       [0.57076013],\n",
              "       [0.45867664],\n",
              "       [0.4995485 ],\n",
              "       [0.5040437 ],\n",
              "       [0.47287202],\n",
              "       [0.4841622 ],\n",
              "       [0.45601535],\n",
              "       [0.53816146],\n",
              "       [0.55415523],\n",
              "       [0.5146093 ],\n",
              "       [0.5723139 ],\n",
              "       [0.57204276],\n",
              "       [0.50258887],\n",
              "       [0.48366496],\n",
              "       [0.44406486],\n",
              "       [0.47682008],\n",
              "       [0.5702449 ],\n",
              "       [0.45130056],\n",
              "       [0.52028215],\n",
              "       [0.44156298],\n",
              "       [0.47059813],\n",
              "       [0.5313172 ],\n",
              "       [0.509789  ],\n",
              "       [0.56349266],\n",
              "       [0.552562  ],\n",
              "       [0.5421006 ],\n",
              "       [0.4733193 ],\n",
              "       [0.48070267],\n",
              "       [0.44430113],\n",
              "       [0.5471325 ],\n",
              "       [0.46962756],\n",
              "       [0.5888224 ],\n",
              "       [0.46801716],\n",
              "       [0.47036383],\n",
              "       [0.54882467],\n",
              "       [0.58021486],\n",
              "       [0.52024466],\n",
              "       [0.45995244],\n",
              "       [0.5701808 ],\n",
              "       [0.5003016 ],\n",
              "       [0.5246482 ],\n",
              "       [0.556508  ],\n",
              "       [0.5859085 ],\n",
              "       [0.57236683],\n",
              "       [0.5709879 ],\n",
              "       [0.5293482 ],\n",
              "       [0.47506917],\n",
              "       [0.45154956],\n",
              "       [0.5835617 ],\n",
              "       [0.566455  ],\n",
              "       [0.5622334 ],\n",
              "       [0.4675153 ],\n",
              "       [0.57161784],\n",
              "       [0.466092  ],\n",
              "       [0.44643593],\n",
              "       [0.52045876],\n",
              "       [0.5534698 ],\n",
              "       [0.5357655 ],\n",
              "       [0.45945895],\n",
              "       [0.45454168],\n",
              "       [0.5508922 ],\n",
              "       [0.5575188 ],\n",
              "       [0.4441412 ],\n",
              "       [0.48493043],\n",
              "       [0.44309172],\n",
              "       [0.4519252 ],\n",
              "       [0.5353529 ],\n",
              "       [0.4540224 ],\n",
              "       [0.5350006 ],\n",
              "       [0.4911581 ],\n",
              "       [0.46555224],\n",
              "       [0.45777422],\n",
              "       [0.4553671 ],\n",
              "       [0.5450915 ],\n",
              "       [0.536886  ],\n",
              "       [0.54386514],\n",
              "       [0.5403798 ],\n",
              "       [0.4747874 ],\n",
              "       [0.45172203],\n",
              "       [0.4931925 ],\n",
              "       [0.49227065],\n",
              "       [0.49477077],\n",
              "       [0.49677604],\n",
              "       [0.5853107 ],\n",
              "       [0.45766306],\n",
              "       [0.46907708],\n",
              "       [0.540121  ],\n",
              "       [0.5540142 ],\n",
              "       [0.54788107],\n",
              "       [0.4460658 ],\n",
              "       [0.584569  ],\n",
              "       [0.44306773],\n",
              "       [0.44731176],\n",
              "       [0.47882083],\n",
              "       [0.46996817],\n",
              "       [0.5765911 ],\n",
              "       [0.5861047 ],\n",
              "       [0.45063964],\n",
              "       [0.45852208],\n",
              "       [0.5296756 ],\n",
              "       [0.45843422],\n",
              "       [0.5716732 ],\n",
              "       [0.45929182],\n",
              "       [0.46039686],\n",
              "       [0.55699277],\n",
              "       [0.5607651 ],\n",
              "       [0.49672234],\n",
              "       [0.49572855],\n",
              "       [0.47114715],\n",
              "       [0.5051231 ],\n",
              "       [0.54967046],\n",
              "       [0.5838865 ],\n",
              "       [0.5923616 ],\n",
              "       [0.4651861 ],\n",
              "       [0.47827435],\n",
              "       [0.47813982],\n",
              "       [0.56850773],\n",
              "       [0.48480925],\n",
              "       [0.4923039 ],\n",
              "       [0.44430402],\n",
              "       [0.5035598 ],\n",
              "       [0.5030272 ],\n",
              "       [0.58994514],\n",
              "       [0.5528222 ],\n",
              "       [0.54123443],\n",
              "       [0.50762844],\n",
              "       [0.5186324 ],\n",
              "       [0.5548894 ],\n",
              "       [0.5420788 ],\n",
              "       [0.49044257],\n",
              "       [0.44436935],\n",
              "       [0.58107096],\n",
              "       [0.5235194 ],\n",
              "       [0.56432575],\n",
              "       [0.4431996 ],\n",
              "       [0.5887744 ],\n",
              "       [0.55145216],\n",
              "       [0.5722668 ],\n",
              "       [0.4575347 ],\n",
              "       [0.56057155],\n",
              "       [0.4552974 ],\n",
              "       [0.4773349 ],\n",
              "       [0.5089681 ],\n",
              "       [0.53295803],\n",
              "       [0.56332844],\n",
              "       [0.5595085 ],\n",
              "       [0.44820014],\n",
              "       [0.5733238 ],\n",
              "       [0.5062193 ],\n",
              "       [0.4826744 ],\n",
              "       [0.45981723],\n",
              "       [0.46768668],\n",
              "       [0.55416286],\n",
              "       [0.498076  ],\n",
              "       [0.48545823],\n",
              "       [0.5866299 ],\n",
              "       [0.46933198],\n",
              "       [0.5025715 ],\n",
              "       [0.5630846 ],\n",
              "       [0.5560479 ],\n",
              "       [0.43937474],\n",
              "       [0.57396704],\n",
              "       [0.52086854],\n",
              "       [0.49302253],\n",
              "       [0.4573816 ],\n",
              "       [0.5783072 ],\n",
              "       [0.56196177],\n",
              "       [0.5356012 ],\n",
              "       [0.505589  ],\n",
              "       [0.48268795],\n",
              "       [0.4571755 ],\n",
              "       [0.5728932 ],\n",
              "       [0.4434626 ],\n",
              "       [0.4524141 ],\n",
              "       [0.55658203],\n",
              "       [0.5088444 ],\n",
              "       [0.4783879 ],\n",
              "       [0.51493156],\n",
              "       [0.5320138 ],\n",
              "       [0.52243936],\n",
              "       [0.44829878],\n",
              "       [0.4965424 ],\n",
              "       [0.55115294],\n",
              "       [0.49215192],\n",
              "       [0.58555406],\n",
              "       [0.56915605],\n",
              "       [0.50567895],\n",
              "       [0.5722104 ],\n",
              "       [0.5547877 ],\n",
              "       [0.48206902],\n",
              "       [0.5785076 ],\n",
              "       [0.5376549 ],\n",
              "       [0.5425014 ],\n",
              "       [0.5203265 ],\n",
              "       [0.5637609 ],\n",
              "       [0.4706515 ],\n",
              "       [0.56661546],\n",
              "       [0.5065709 ],\n",
              "       [0.5618447 ],\n",
              "       [0.5670829 ],\n",
              "       [0.46026227],\n",
              "       [0.5884544 ],\n",
              "       [0.5581746 ],\n",
              "       [0.55259913],\n",
              "       [0.5453234 ],\n",
              "       [0.5838759 ],\n",
              "       [0.5257483 ],\n",
              "       [0.54689074],\n",
              "       [0.57109696],\n",
              "       [0.5704112 ],\n",
              "       [0.5741856 ],\n",
              "       [0.46012568],\n",
              "       [0.48133585],\n",
              "       [0.46375293],\n",
              "       [0.4933885 ],\n",
              "       [0.4604294 ],\n",
              "       [0.5786439 ],\n",
              "       [0.48599055],\n",
              "       [0.5827167 ],\n",
              "       [0.47326684],\n",
              "       [0.4785934 ],\n",
              "       [0.4969395 ],\n",
              "       [0.46415722],\n",
              "       [0.45544666],\n",
              "       [0.48153245],\n",
              "       [0.45883456],\n",
              "       [0.44756365],\n",
              "       [0.54421806],\n",
              "       [0.56866705],\n",
              "       [0.47275102],\n",
              "       [0.57855374],\n",
              "       [0.48174393],\n",
              "       [0.4550029 ],\n",
              "       [0.44064736],\n",
              "       [0.4585549 ],\n",
              "       [0.4701262 ],\n",
              "       [0.57942563],\n",
              "       [0.4867131 ],\n",
              "       [0.4582105 ],\n",
              "       [0.46485525],\n",
              "       [0.44223437],\n",
              "       [0.4605654 ],\n",
              "       [0.48976314],\n",
              "       [0.5705328 ],\n",
              "       [0.49720886],\n",
              "       [0.5821742 ],\n",
              "       [0.49100378],\n",
              "       [0.4811899 ],\n",
              "       [0.4743994 ],\n",
              "       [0.45623204],\n",
              "       [0.5031024 ],\n",
              "       [0.52762246],\n",
              "       [0.45990267],\n",
              "       [0.5847866 ],\n",
              "       [0.46548215],\n",
              "       [0.57798606],\n",
              "       [0.52813417],\n",
              "       [0.46754655],\n",
              "       [0.55496657],\n",
              "       [0.5543094 ],\n",
              "       [0.583801  ],\n",
              "       [0.5718613 ],\n",
              "       [0.5448022 ],\n",
              "       [0.44821408],\n",
              "       [0.44048166],\n",
              "       [0.55503744],\n",
              "       [0.5293101 ],\n",
              "       [0.5397432 ],\n",
              "       [0.5724961 ],\n",
              "       [0.5628373 ],\n",
              "       [0.5045148 ],\n",
              "       [0.5798819 ],\n",
              "       [0.44948918],\n",
              "       [0.45254958],\n",
              "       [0.5834417 ],\n",
              "       [0.56609195],\n",
              "       [0.49631175],\n",
              "       [0.5505552 ],\n",
              "       [0.46777803],\n",
              "       [0.52064234],\n",
              "       [0.4847352 ],\n",
              "       [0.44126397],\n",
              "       [0.56985784],\n",
              "       [0.56619793],\n",
              "       [0.5235917 ],\n",
              "       [0.5574404 ],\n",
              "       [0.5184433 ],\n",
              "       [0.5563087 ],\n",
              "       [0.5668468 ],\n",
              "       [0.46779066],\n",
              "       [0.5614713 ],\n",
              "       [0.5444278 ],\n",
              "       [0.5309991 ],\n",
              "       [0.44664025],\n",
              "       [0.5794945 ],\n",
              "       [0.53144026],\n",
              "       [0.55778205],\n",
              "       [0.46294832],\n",
              "       [0.5015606 ],\n",
              "       [0.470571  ],\n",
              "       [0.45270434],\n",
              "       [0.5788426 ],\n",
              "       [0.5732479 ],\n",
              "       [0.56502926],\n",
              "       [0.45679656],\n",
              "       [0.56133676],\n",
              "       [0.5658699 ],\n",
              "       [0.48517957],\n",
              "       [0.4470455 ],\n",
              "       [0.5052125 ],\n",
              "       [0.58562565],\n",
              "       [0.5639665 ],\n",
              "       [0.48719996],\n",
              "       [0.5462856 ],\n",
              "       [0.5764407 ],\n",
              "       [0.4580168 ],\n",
              "       [0.5864116 ],\n",
              "       [0.54500484],\n",
              "       [0.5467746 ],\n",
              "       [0.53434014],\n",
              "       [0.44825256],\n",
              "       [0.56301665],\n",
              "       [0.58620065],\n",
              "       [0.5867927 ],\n",
              "       [0.4394501 ],\n",
              "       [0.5709841 ],\n",
              "       [0.44658133],\n",
              "       [0.45881066],\n",
              "       [0.5483383 ],\n",
              "       [0.46582207],\n",
              "       [0.50154805],\n",
              "       [0.47002834],\n",
              "       [0.5618175 ],\n",
              "       [0.5617997 ],\n",
              "       [0.4526231 ],\n",
              "       [0.53578925],\n",
              "       [0.5470774 ],\n",
              "       [0.5653813 ],\n",
              "       [0.4620206 ],\n",
              "       [0.58517617],\n",
              "       [0.5602684 ],\n",
              "       [0.46006662],\n",
              "       [0.55260426],\n",
              "       [0.5237742 ],\n",
              "       [0.45749912],\n",
              "       [0.5521878 ],\n",
              "       [0.47232315],\n",
              "       [0.55300426],\n",
              "       [0.45909667],\n",
              "       [0.46417993],\n",
              "       [0.47264802],\n",
              "       [0.5533554 ],\n",
              "       [0.51103026],\n",
              "       [0.44503826],\n",
              "       [0.4585856 ],\n",
              "       [0.55629295],\n",
              "       [0.5718635 ],\n",
              "       [0.5816371 ],\n",
              "       [0.47966912],\n",
              "       [0.5442185 ],\n",
              "       [0.5687041 ],\n",
              "       [0.46708235],\n",
              "       [0.46779475],\n",
              "       [0.49578652],\n",
              "       [0.57753485],\n",
              "       [0.53614724],\n",
              "       [0.57107186],\n",
              "       [0.50847816],\n",
              "       [0.56137276],\n",
              "       [0.4461833 ],\n",
              "       [0.46332   ],\n",
              "       [0.57390773],\n",
              "       [0.47741348],\n",
              "       [0.55831414],\n",
              "       [0.5547337 ],\n",
              "       [0.55579984],\n",
              "       [0.55724424],\n",
              "       [0.5405453 ],\n",
              "       [0.46097568],\n",
              "       [0.4608947 ],\n",
              "       [0.5811958 ],\n",
              "       [0.45448014],\n",
              "       [0.5186883 ],\n",
              "       [0.44414714],\n",
              "       [0.48558795],\n",
              "       [0.47712064],\n",
              "       [0.56172687],\n",
              "       [0.46634886],\n",
              "       [0.45411617],\n",
              "       [0.46273917],\n",
              "       [0.55054456],\n",
              "       [0.48551017],\n",
              "       [0.52304876],\n",
              "       [0.56180644],\n",
              "       [0.49358183],\n",
              "       [0.50722575],\n",
              "       [0.46213952],\n",
              "       [0.52673167],\n",
              "       [0.5272717 ],\n",
              "       [0.5306882 ],\n",
              "       [0.57240784],\n",
              "       [0.57386446],\n",
              "       [0.5827927 ],\n",
              "       [0.48369458],\n",
              "       [0.48932153],\n",
              "       [0.4946061 ],\n",
              "       [0.57877105],\n",
              "       [0.5677741 ],\n",
              "       [0.4656845 ],\n",
              "       [0.48474345],\n",
              "       [0.49182928],\n",
              "       [0.4546447 ],\n",
              "       [0.56560075],\n",
              "       [0.54150826],\n",
              "       [0.5116624 ],\n",
              "       [0.5739178 ],\n",
              "       [0.55876493],\n",
              "       [0.52420217],\n",
              "       [0.57227045],\n",
              "       [0.44198596],\n",
              "       [0.5084793 ],\n",
              "       [0.4667968 ],\n",
              "       [0.5827971 ],\n",
              "       [0.45382035],\n",
              "       [0.5296771 ],\n",
              "       [0.45083168],\n",
              "       [0.54713106],\n",
              "       [0.49250585],\n",
              "       [0.5818028 ],\n",
              "       [0.46408707],\n",
              "       [0.54645646],\n",
              "       [0.563363  ],\n",
              "       [0.454045  ],\n",
              "       [0.5441959 ],\n",
              "       [0.5581814 ],\n",
              "       [0.5013178 ],\n",
              "       [0.56947845],\n",
              "       [0.57188886],\n",
              "       [0.5496457 ],\n",
              "       [0.52526826],\n",
              "       [0.5690817 ],\n",
              "       [0.51903594],\n",
              "       [0.44527924],\n",
              "       [0.4687036 ],\n",
              "       [0.49598992],\n",
              "       [0.48493683],\n",
              "       [0.54087466],\n",
              "       [0.49793288],\n",
              "       [0.5840687 ],\n",
              "       [0.5724588 ],\n",
              "       [0.48094738],\n",
              "       [0.47398528],\n",
              "       [0.57945156],\n",
              "       [0.45378372],\n",
              "       [0.53920406],\n",
              "       [0.46205568],\n",
              "       [0.5388037 ],\n",
              "       [0.44371495],\n",
              "       [0.57370734],\n",
              "       [0.4547474 ],\n",
              "       [0.53372055],\n",
              "       [0.4595647 ],\n",
              "       [0.56764406],\n",
              "       [0.5135039 ],\n",
              "       [0.445111  ],\n",
              "       [0.5629819 ],\n",
              "       [0.5658426 ],\n",
              "       [0.4660296 ],\n",
              "       [0.48330173],\n",
              "       [0.49609143],\n",
              "       [0.4625106 ],\n",
              "       [0.5138272 ],\n",
              "       [0.51494515],\n",
              "       [0.47104284],\n",
              "       [0.58258575],\n",
              "       [0.49411455],\n",
              "       [0.45723987],\n",
              "       [0.46153888],\n",
              "       [0.5863498 ],\n",
              "       [0.5532757 ],\n",
              "       [0.5817409 ],\n",
              "       [0.53475535],\n",
              "       [0.5038981 ],\n",
              "       [0.4701215 ],\n",
              "       [0.49590477],\n",
              "       [0.55486596],\n",
              "       [0.5695379 ],\n",
              "       [0.56902647],\n",
              "       [0.53332466],\n",
              "       [0.57234675],\n",
              "       [0.5672218 ],\n",
              "       [0.5688839 ],\n",
              "       [0.4455514 ],\n",
              "       [0.4420657 ],\n",
              "       [0.47029907],\n",
              "       [0.50989884],\n",
              "       [0.47857475],\n",
              "       [0.5547402 ],\n",
              "       [0.5890137 ],\n",
              "       [0.57877946],\n",
              "       [0.5080081 ],\n",
              "       [0.56460124],\n",
              "       [0.4496488 ],\n",
              "       [0.5746503 ],\n",
              "       [0.4461298 ],\n",
              "       [0.5094426 ],\n",
              "       [0.543063  ],\n",
              "       [0.55216306],\n",
              "       [0.51155037],\n",
              "       [0.45950967],\n",
              "       [0.4616759 ],\n",
              "       [0.45665663],\n",
              "       [0.4669848 ],\n",
              "       [0.50850844],\n",
              "       [0.5290356 ],\n",
              "       [0.58629364],\n",
              "       [0.48576143],\n",
              "       [0.5417397 ],\n",
              "       [0.47621098],\n",
              "       [0.44654563],\n",
              "       [0.43961942],\n",
              "       [0.4714152 ],\n",
              "       [0.5367363 ],\n",
              "       [0.49639356],\n",
              "       [0.46396884],\n",
              "       [0.51221156],\n",
              "       [0.48823884],\n",
              "       [0.54283035],\n",
              "       [0.5737088 ],\n",
              "       [0.47042504],\n",
              "       [0.51594394],\n",
              "       [0.53621745],\n",
              "       [0.4568816 ],\n",
              "       [0.5502209 ],\n",
              "       [0.5813629 ],\n",
              "       [0.49647382],\n",
              "       [0.46831635],\n",
              "       [0.5610723 ],\n",
              "       [0.5109056 ],\n",
              "       [0.4528746 ],\n",
              "       [0.46621087],\n",
              "       [0.4731828 ],\n",
              "       [0.50486887],\n",
              "       [0.5707941 ],\n",
              "       [0.516507  ],\n",
              "       [0.47755834],\n",
              "       [0.5109858 ],\n",
              "       [0.5718634 ],\n",
              "       [0.58273876],\n",
              "       [0.53478783],\n",
              "       [0.571788  ],\n",
              "       [0.4483046 ],\n",
              "       [0.5704651 ],\n",
              "       [0.47878787],\n",
              "       [0.507284  ],\n",
              "       [0.44752565],\n",
              "       [0.506914  ],\n",
              "       [0.48589128],\n",
              "       [0.5557498 ],\n",
              "       [0.56599087],\n",
              "       [0.4782804 ],\n",
              "       [0.5158074 ],\n",
              "       [0.4412817 ],\n",
              "       [0.5865038 ],\n",
              "       [0.5459972 ],\n",
              "       [0.45998108],\n",
              "       [0.5870051 ],\n",
              "       [0.45707023],\n",
              "       [0.516548  ],\n",
              "       [0.44800186],\n",
              "       [0.45708022],\n",
              "       [0.48899236],\n",
              "       [0.54901755],\n",
              "       [0.52274173],\n",
              "       [0.5713776 ],\n",
              "       [0.5706023 ],\n",
              "       [0.5719526 ],\n",
              "       [0.4776664 ],\n",
              "       [0.54585946],\n",
              "       [0.4639477 ],\n",
              "       [0.5379389 ],\n",
              "       [0.4430585 ],\n",
              "       [0.5005572 ],\n",
              "       [0.58433   ],\n",
              "       [0.45119077],\n",
              "       [0.55629283],\n",
              "       [0.54828244],\n",
              "       [0.47395682],\n",
              "       [0.5702336 ],\n",
              "       [0.5229028 ],\n",
              "       [0.548964  ],\n",
              "       [0.55245656],\n",
              "       [0.48112902],\n",
              "       [0.44069812],\n",
              "       [0.5480005 ]], dtype=float32)"
            ]
          },
          "metadata": {},
          "execution_count": 113
        }
      ]
    },
    {
      "cell_type": "markdown",
      "source": [
        "* Notice how all the predictions are around 0.5 and not closer to 0 or 1?\n",
        "* Further visualization plotting..."
      ],
      "metadata": {
        "id": "k4swQ87vICZw"
      }
    },
    {
      "cell_type": "markdown",
      "source": [
        "  * Take in a trained model, features (X) and labels (y)\n",
        "  * Create a meshgrid of the different X alues\n",
        "  * Make predictions across the meshgrid\n",
        "  * Plot the predictions and a line between zones where each unique class fails"
      ],
      "metadata": {
        "id": "BwKrmIepIewW"
      }
    },
    {
      "cell_type": "code",
      "source": [
        "import numpy as np"
      ],
      "metadata": {
        "id": "jV7QOkXaKV-m"
      },
      "execution_count": 114,
      "outputs": []
    },
    {
      "cell_type": "code",
      "source": [
        "def plot_decision_boundary(model, X, y):\n",
        "  '''\n",
        "  Plots the decision borundary created by a model \n",
        "  predicting on X\n",
        "  '''\n",
        "\n",
        "  # Define the axis boundaries of the plot and create a mesh grid\n",
        "  x_min, x_max = X[:,0].min() - 0.1, X[:,0].max()+ 0.1 # adding and subtracting 0.1 for margins\n",
        "  y_min, y_max = X[:,1].min() - 0.1, X[:,0].max()+ 0.1\n",
        "  xx, yy = np.meshgrid(np.linspace(x_min, x_max, 100),\n",
        "                       np.linspace(y_min, y_max, 100))\n",
        "\n",
        "  # Create X value (we're going to predict with these)\n",
        "  x_in =np.c_[xx.ravel(), yy.ravel()] # np.c_ used to stack 2D arrays\n",
        "\n",
        "  # Make predictions\n",
        "  y_pred = model.predict(x_in)\n",
        "\n",
        "  # Check if we're working on a multi-class or a binary classification\n",
        "  if len(y_pred[0])>1:\n",
        "    print(\"Doing multiclass classification\")\n",
        "    # We have to reshape our predictions to get them ready\n",
        "    y_pred = np.argmax(y_pred, axis=1).reshape(xx.shape)\n",
        "  else:\n",
        "    print(\"Doing binary classification\")\n",
        "    y_pred = np.round(y_pred).reshape(xx.shape)\n",
        "\n",
        "  # Plot the decision boundary\n",
        "  plt.contourf(xx,yy,y_pred,cmap=plt.cm.RdYlBu,alpha=0.7)\n",
        "  plt.scatter(X[:,0], X[:,1], c=y, s=40, cmap=plt.cm.RdYlBu)\n",
        "  plt.xlim(xx.min(), xx.max())\n",
        "  plt.ylim(yy.min(), yy.max())"
      ],
      "metadata": {
        "id": "tG7kZGeqIMzO"
      },
      "execution_count": 115,
      "outputs": []
    },
    {
      "cell_type": "code",
      "source": [
        "## Check out the predictions our model is making...\n",
        "plot_decision_boundary(model_3, X, y)"
      ],
      "metadata": {
        "colab": {
          "base_uri": "https://localhost:8080/",
          "height": 301
        },
        "id": "Q9VFBMeLKj2X",
        "outputId": "62dd84f2-b49c-4624-ba24-6ab348bcfa3f"
      },
      "execution_count": 116,
      "outputs": [
        {
          "output_type": "stream",
          "name": "stdout",
          "text": [
            "313/313 [==============================] - 0s 1ms/step\n",
            "Doing binary classification\n"
          ]
        },
        {
          "output_type": "display_data",
          "data": {
            "text/plain": [
              "<Figure size 432x288 with 1 Axes>"
            ],
            "image/png": "[encoded data removed]"
          },
          "metadata": {
            "needs_background": "light"
          }
        }
      ]
    },
    {
      "cell_type": "markdown",
      "source": [
        "* Observation: Our model is not working because it's trying to fit a straight line through circle data..."
      ],
      "metadata": {
        "id": "RYVYEZaGK0t8"
      }
    },
    {
      "cell_type": "code",
      "source": [
        "# Let's see if our model can be used for a regression problem...\n",
        "\n",
        "tf.random.set_seed(42)\n",
        "\n",
        "# Create some regression data\n",
        "X_regression = tf.range(0,1000,5)\n",
        "y_regression = tf.range(100,1100,5) # y = x+100\n",
        "\n",
        "plt.plot(X_regression, y_regression)"
      ],
      "metadata": {
        "colab": {
          "base_uri": "https://localhost:8080/",
          "height": 283
        },
        "id": "TL0PtPKptvvN",
        "outputId": "2c1695e8-3e09-4c30-f849-9e2e6b6bee5d"
      },
      "execution_count": 117,
      "outputs": [
        {
          "output_type": "execute_result",
          "data": {
            "text/plain": [
              "[<matplotlib.lines.Line2D at 0x7f323d94c520>]"
            ]
          },
          "metadata": {},
          "execution_count": 117
        },
        {
          "output_type": "display_data",
          "data": {
            "text/plain": [
              "<Figure size 432x288 with 1 Axes>"
            ],
            "image/png": "[encoded data removed]"
          },
          "metadata": {
            "needs_background": "light"
          }
        }
      ]
    },
    {
      "cell_type": "code",
      "source": [
        "# Split regression data into training and test set\n",
        "X_reg_train = X_regression[:150]\n",
        "X_reg_test = X_regression[150:]\n",
        "y_reg_train = y_regression[:150]\n",
        "y_reg_test = y_regression[150:]\n",
        "\n",
        "# Fit our model to the regression data\n",
        "\n",
        "model_3.fit(X_reg_train, y_reg_train)"
      ],
      "metadata": {
        "colab": {
          "base_uri": "https://localhost:8080/",
          "height": 820
        },
        "id": "c1RverDsuBDV",
        "outputId": "2b4d4cfc-3067-46ca-8a91-4ccf4f32ac26"
      },
      "execution_count": 119,
      "outputs": [
        {
          "output_type": "stream",
          "name": "stderr",
          "text": [
            "WARNING:tensorflow:Model was constructed with shape (None, None) for input KerasTensor(type_spec=TensorSpec(shape=(None, None), dtype=tf.int32, name='dense_48_input'), name='dense_48_input', description=\"created by layer 'dense_48_input'\"), but it was called on an input with incompatible shape (None,).\n"
          ]
        },
        {
          "output_type": "error",
          "ename": "ValueError",
          "evalue": "ignored",
          "traceback": [
            "\u001b[0;31m---------------------------------------------------------------------------\u001b[0m",
            "\u001b[0;31mValueError\u001b[0m                                Traceback (most recent call last)",
            "\u001b[0;32m<ipython-input-119-74c02076492f>\u001b[0m in \u001b[0;36m<module>\u001b[0;34m\u001b[0m\n\u001b[1;32m      7\u001b[0m \u001b[0;31m# Fit our model to the regression data\u001b[0m\u001b[0;34m\u001b[0m\u001b[0;34m\u001b[0m\u001b[0;34m\u001b[0m\u001b[0m\n\u001b[1;32m      8\u001b[0m \u001b[0;34m\u001b[0m\u001b[0m\n\u001b[0;32m----> 9\u001b[0;31m \u001b[0mmodel_3\u001b[0m\u001b[0;34m.\u001b[0m\u001b[0mfit\u001b[0m\u001b[0;34m(\u001b[0m\u001b[0mX_reg_train\u001b[0m\u001b[0;34m,\u001b[0m \u001b[0my_reg_train\u001b[0m\u001b[0;34m)\u001b[0m\u001b[0;34m\u001b[0m\u001b[0;34m\u001b[0m\u001b[0m\n\u001b[0m",
            "\u001b[0;32m/usr/local/lib/python3.8/dist-packages/keras/utils/traceback_utils.py\u001b[0m in \u001b[0;36merror_handler\u001b[0;34m(*args, **kwargs)\u001b[0m\n\u001b[1;32m     68\u001b[0m             \u001b[0;31m# To get the full stack trace, call:\u001b[0m\u001b[0;34m\u001b[0m\u001b[0;34m\u001b[0m\u001b[0;34m\u001b[0m\u001b[0m\n\u001b[1;32m     69\u001b[0m             \u001b[0;31m# `tf.debugging.disable_traceback_filtering()`\u001b[0m\u001b[0;34m\u001b[0m\u001b[0;34m\u001b[0m\u001b[0;34m\u001b[0m\u001b[0m\n\u001b[0;32m---> 70\u001b[0;31m             \u001b[0;32mraise\u001b[0m \u001b[0me\u001b[0m\u001b[0;34m.\u001b[0m\u001b[0mwith_traceback\u001b[0m\u001b[0;34m(\u001b[0m\u001b[0mfiltered_tb\u001b[0m\u001b[0;34m)\u001b[0m \u001b[0;32mfrom\u001b[0m \u001b[0;32mNone\u001b[0m\u001b[0;34m\u001b[0m\u001b[0;34m\u001b[0m\u001b[0m\n\u001b[0m\u001b[1;32m     71\u001b[0m         \u001b[0;32mfinally\u001b[0m\u001b[0;34m:\u001b[0m\u001b[0;34m\u001b[0m\u001b[0;34m\u001b[0m\u001b[0m\n\u001b[1;32m     72\u001b[0m             \u001b[0;32mdel\u001b[0m \u001b[0mfiltered_tb\u001b[0m\u001b[0;34m\u001b[0m\u001b[0;34m\u001b[0m\u001b[0m\n",
            "\u001b[0;32m/usr/local/lib/python3.8/dist-packages/keras/engine/training.py\u001b[0m in \u001b[0;36mtf__train_function\u001b[0;34m(iterator)\u001b[0m\n\u001b[1;32m     13\u001b[0m                 \u001b[0;32mtry\u001b[0m\u001b[0;34m:\u001b[0m\u001b[0;34m\u001b[0m\u001b[0;34m\u001b[0m\u001b[0m\n\u001b[1;32m     14\u001b[0m                     \u001b[0mdo_return\u001b[0m \u001b[0;34m=\u001b[0m \u001b[0;32mTrue\u001b[0m\u001b[0;34m\u001b[0m\u001b[0;34m\u001b[0m\u001b[0m\n\u001b[0;32m---> 15\u001b[0;31m                     \u001b[0mretval_\u001b[0m \u001b[0;34m=\u001b[0m \u001b[0mag__\u001b[0m\u001b[0;34m.\u001b[0m\u001b[0mconverted_call\u001b[0m\u001b[0;34m(\u001b[0m\u001b[0mag__\u001b[0m\u001b[0;34m.\u001b[0m\u001b[0mld\u001b[0m\u001b[0;34m(\u001b[0m\u001b[0mstep_function\u001b[0m\u001b[0;34m)\u001b[0m\u001b[0;34m,\u001b[0m \u001b[0;34m(\u001b[0m\u001b[0mag__\u001b[0m\u001b[0;34m.\u001b[0m\u001b[0mld\u001b[0m\u001b[0;34m(\u001b[0m\u001b[0mself\u001b[0m\u001b[0;34m)\u001b[0m\u001b[0;34m,\u001b[0m \u001b[0mag__\u001b[0m\u001b[0;34m.\u001b[0m\u001b[0mld\u001b[0m\u001b[0;34m(\u001b[0m\u001b[0miterator\u001b[0m\u001b[0;34m)\u001b[0m\u001b[0;34m)\u001b[0m\u001b[0;34m,\u001b[0m \u001b[0;32mNone\u001b[0m\u001b[0;34m,\u001b[0m \u001b[0mfscope\u001b[0m\u001b[0;34m)\u001b[0m\u001b[0;34m\u001b[0m\u001b[0;34m\u001b[0m\u001b[0m\n\u001b[0m\u001b[1;32m     16\u001b[0m                 \u001b[0;32mexcept\u001b[0m\u001b[0;34m:\u001b[0m\u001b[0;34m\u001b[0m\u001b[0;34m\u001b[0m\u001b[0m\n\u001b[1;32m     17\u001b[0m                     \u001b[0mdo_return\u001b[0m \u001b[0;34m=\u001b[0m \u001b[0;32mFalse\u001b[0m\u001b[0;34m\u001b[0m\u001b[0;34m\u001b[0m\u001b[0m\n",
            "\u001b[0;31mValueError\u001b[0m: in user code:\n\n    File \"/usr/local/lib/python3.8/dist-packages/keras/engine/training.py\", line 1249, in train_function  *\n        return step_function(self, iterator)\n    File \"/usr/local/lib/python3.8/dist-packages/keras/engine/training.py\", line 1233, in step_function  **\n        outputs = model.distribute_strategy.run(run_step, args=(data,))\n    File \"/usr/local/lib/python3.8/dist-packages/keras/engine/training.py\", line 1222, in run_step  **\n        outputs = model.train_step(data)\n    File \"/usr/local/lib/python3.8/dist-packages/keras/engine/training.py\", line 1023, in train_step\n        y_pred = self(x, training=True)\n    File \"/usr/local/lib/python3.8/dist-packages/keras/utils/traceback_utils.py\", line 70, in error_handler\n        raise e.with_traceback(filtered_tb) from None\n    File \"/usr/local/lib/python3.8/dist-packages/keras/engine/input_spec.py\", line 250, in assert_input_compatibility\n        raise ValueError(\n\n    ValueError: Exception encountered when calling layer 'sequential_26' (type Sequential).\n    \n    Input 0 of layer \"dense_48\" is incompatible with the layer: expected min_ndim=2, found ndim=1. Full shape received: (None,)\n    \n    Call arguments received by layer 'sequential_26' (type Sequential):\n      • inputs=tf.Tensor(shape=(None,), dtype=int32)\n      • training=True\n      • mask=None\n"
          ]
        }
      ]
    },
    {
      "cell_type": "markdown",
      "source": [
        "* Oh wait... we compiled our model for a Binary classification problem. But we're now working on a regression. Let's change the model to suit our data."
      ],
      "metadata": {
        "id": "mmVcUifFutIA"
      }
    },
    {
      "cell_type": "code",
      "source": [
        "model_4 = tf.keras.Sequential([\n",
        "    tf.keras.layers.Dense(100),\n",
        "    tf.keras.layers.Dense(10),\n",
        "    tf.keras.layers.Dense(1)\n",
        "])\n",
        "\n",
        "model_4.compile(loss=tf.keras.losses.mean_absolute_error,\n",
        "                 optimizer=tf.keras.optimizers.Adam(),\n",
        "                 metrics=\"mae\")\n",
        "\n",
        "history = model_4.fit(tf.expand_dims(X_reg_train, axis=-1), y_reg_train, epochs=100)"
      ],
      "metadata": {
        "colab": {
          "base_uri": "https://localhost:8080/"
        },
        "id": "xB4xi07uvb32",
        "outputId": "0afe5fa9-690c-4288-bbe4-0fa11839a448"
      },
      "execution_count": 120,
      "outputs": [
        {
          "output_type": "stream",
          "name": "stdout",
          "text": [
            "Epoch 1/100\n",
            "5/5 [==============================] - 3s 7ms/step - loss: 466.6970 - mae: 466.6970\n",
            "Epoch 2/100\n",
            "5/5 [==============================] - 0s 14ms/step - loss: 363.4233 - mae: 363.4233\n",
            "Epoch 3/100\n",
            "5/5 [==============================] - 0s 12ms/step - loss: 263.0715 - mae: 263.0715\n",
            "Epoch 4/100\n",
            "5/5 [==============================] - 0s 5ms/step - loss: 158.0435 - mae: 158.0435\n",
            "Epoch 5/100\n",
            "5/5 [==============================] - 0s 6ms/step - loss: 58.7803 - mae: 58.7803\n",
            "Epoch 6/100\n",
            "5/5 [==============================] - 0s 10ms/step - loss: 73.2848 - mae: 73.2848\n",
            "Epoch 7/100\n",
            "5/5 [==============================] - 0s 5ms/step - loss: 76.6437 - mae: 76.6437\n",
            "Epoch 8/100\n",
            "5/5 [==============================] - 0s 5ms/step - loss: 50.7762 - mae: 50.7762\n",
            "Epoch 9/100\n",
            "5/5 [==============================] - 0s 5ms/step - loss: 46.8602 - mae: 46.8602\n",
            "Epoch 10/100\n",
            "5/5 [==============================] - 0s 5ms/step - loss: 47.0749 - mae: 47.0749\n",
            "Epoch 11/100\n",
            "5/5 [==============================] - 0s 4ms/step - loss: 43.1710 - mae: 43.1710\n",
            "Epoch 12/100\n",
            "5/5 [==============================] - 0s 7ms/step - loss: 45.0606 - mae: 45.0606\n",
            "Epoch 13/100\n",
            "5/5 [==============================] - 0s 11ms/step - loss: 42.1366 - mae: 42.1366\n",
            "Epoch 14/100\n",
            "5/5 [==============================] - 0s 7ms/step - loss: 42.0017 - mae: 42.0017\n",
            "Epoch 15/100\n",
            "5/5 [==============================] - 0s 8ms/step - loss: 41.9038 - mae: 41.9038\n",
            "Epoch 16/100\n",
            "5/5 [==============================] - 0s 7ms/step - loss: 41.5322 - mae: 41.5322\n",
            "Epoch 17/100\n",
            "5/5 [==============================] - 0s 7ms/step - loss: 41.2743 - mae: 41.2743\n",
            "Epoch 18/100\n",
            "5/5 [==============================] - 0s 5ms/step - loss: 41.7612 - mae: 41.7612\n",
            "Epoch 19/100\n",
            "5/5 [==============================] - 0s 7ms/step - loss: 41.1523 - mae: 41.1523\n",
            "Epoch 20/100\n",
            "5/5 [==============================] - 0s 8ms/step - loss: 41.4443 - mae: 41.4443\n",
            "Epoch 21/100\n",
            "5/5 [==============================] - 0s 6ms/step - loss: 41.1319 - mae: 41.1319\n",
            "Epoch 22/100\n",
            "5/5 [==============================] - 0s 8ms/step - loss: 41.6922 - mae: 41.6922\n",
            "Epoch 23/100\n",
            "5/5 [==============================] - 0s 4ms/step - loss: 41.3212 - mae: 41.3212\n",
            "Epoch 24/100\n",
            "5/5 [==============================] - 0s 10ms/step - loss: 41.2772 - mae: 41.2772\n",
            "Epoch 25/100\n",
            "5/5 [==============================] - 0s 7ms/step - loss: 41.2410 - mae: 41.2410\n",
            "Epoch 26/100\n",
            "5/5 [==============================] - 0s 5ms/step - loss: 41.3099 - mae: 41.3099\n",
            "Epoch 27/100\n",
            "5/5 [==============================] - 0s 4ms/step - loss: 41.0264 - mae: 41.0264\n",
            "Epoch 28/100\n",
            "5/5 [==============================] - 0s 8ms/step - loss: 41.4848 - mae: 41.4848\n",
            "Epoch 29/100\n",
            "5/5 [==============================] - 0s 11ms/step - loss: 41.1272 - mae: 41.1272\n",
            "Epoch 30/100\n",
            "5/5 [==============================] - 0s 6ms/step - loss: 41.0821 - mae: 41.0821\n",
            "Epoch 31/100\n",
            "5/5 [==============================] - 0s 9ms/step - loss: 41.3733 - mae: 41.3733\n",
            "Epoch 32/100\n",
            "5/5 [==============================] - 0s 6ms/step - loss: 41.1171 - mae: 41.1171\n",
            "Epoch 33/100\n",
            "5/5 [==============================] - 0s 12ms/step - loss: 41.3039 - mae: 41.3039\n",
            "Epoch 34/100\n",
            "5/5 [==============================] - 0s 4ms/step - loss: 41.0914 - mae: 41.0914\n",
            "Epoch 35/100\n",
            "5/5 [==============================] - 0s 5ms/step - loss: 40.7585 - mae: 40.7585\n",
            "Epoch 36/100\n",
            "5/5 [==============================] - 0s 5ms/step - loss: 41.1217 - mae: 41.1217\n",
            "Epoch 37/100\n",
            "5/5 [==============================] - 0s 4ms/step - loss: 40.9345 - mae: 40.9345\n",
            "Epoch 38/100\n",
            "5/5 [==============================] - 0s 4ms/step - loss: 40.8213 - mae: 40.8213\n",
            "Epoch 39/100\n",
            "5/5 [==============================] - 0s 5ms/step - loss: 40.6722 - mae: 40.6722\n",
            "Epoch 40/100\n",
            "5/5 [==============================] - 0s 4ms/step - loss: 40.6955 - mae: 40.6955\n",
            "Epoch 41/100\n",
            "5/5 [==============================] - 0s 6ms/step - loss: 40.6990 - mae: 40.6990\n",
            "Epoch 42/100\n",
            "5/5 [==============================] - 0s 4ms/step - loss: 40.6508 - mae: 40.6508\n",
            "Epoch 43/100\n",
            "5/5 [==============================] - 0s 9ms/step - loss: 40.6706 - mae: 40.6706\n",
            "Epoch 44/100\n",
            "5/5 [==============================] - 0s 4ms/step - loss: 40.5552 - mae: 40.5552\n",
            "Epoch 45/100\n",
            "5/5 [==============================] - 0s 4ms/step - loss: 40.5549 - mae: 40.5549\n",
            "Epoch 46/100\n",
            "5/5 [==============================] - 0s 4ms/step - loss: 40.5872 - mae: 40.5872\n",
            "Epoch 47/100\n",
            "5/5 [==============================] - 0s 4ms/step - loss: 40.5475 - mae: 40.5475\n",
            "Epoch 48/100\n",
            "5/5 [==============================] - 0s 5ms/step - loss: 40.4134 - mae: 40.4134\n",
            "Epoch 49/100\n",
            "5/5 [==============================] - 0s 8ms/step - loss: 40.8309 - mae: 40.8309\n",
            "Epoch 50/100\n",
            "5/5 [==============================] - 0s 6ms/step - loss: 40.4060 - mae: 40.4060\n",
            "Epoch 51/100\n",
            "5/5 [==============================] - 0s 5ms/step - loss: 40.5052 - mae: 40.5052\n",
            "Epoch 52/100\n",
            "5/5 [==============================] - 0s 7ms/step - loss: 40.7103 - mae: 40.7103\n",
            "Epoch 53/100\n",
            "5/5 [==============================] - 0s 8ms/step - loss: 40.6849 - mae: 40.6849\n",
            "Epoch 54/100\n",
            "5/5 [==============================] - 0s 6ms/step - loss: 40.6210 - mae: 40.6210\n",
            "Epoch 55/100\n",
            "5/5 [==============================] - 0s 8ms/step - loss: 40.6215 - mae: 40.6215\n",
            "Epoch 56/100\n",
            "5/5 [==============================] - 0s 5ms/step - loss: 40.9449 - mae: 40.9449\n",
            "Epoch 57/100\n",
            "5/5 [==============================] - 0s 5ms/step - loss: 40.6945 - mae: 40.6945\n",
            "Epoch 58/100\n",
            "5/5 [==============================] - 0s 5ms/step - loss: 40.6275 - mae: 40.6275\n",
            "Epoch 59/100\n",
            "5/5 [==============================] - 0s 4ms/step - loss: 40.4515 - mae: 40.4515\n",
            "Epoch 60/100\n",
            "5/5 [==============================] - 0s 6ms/step - loss: 40.3967 - mae: 40.3967\n",
            "Epoch 61/100\n",
            "5/5 [==============================] - 0s 4ms/step - loss: 40.3044 - mae: 40.3044\n",
            "Epoch 62/100\n",
            "5/5 [==============================] - 0s 4ms/step - loss: 40.5194 - mae: 40.5194\n",
            "Epoch 63/100\n",
            "5/5 [==============================] - 0s 4ms/step - loss: 40.0195 - mae: 40.0195\n",
            "Epoch 64/100\n",
            "5/5 [==============================] - 0s 4ms/step - loss: 40.3046 - mae: 40.3046\n",
            "Epoch 65/100\n",
            "5/5 [==============================] - 0s 4ms/step - loss: 40.0033 - mae: 40.0033\n",
            "Epoch 66/100\n",
            "5/5 [==============================] - 0s 4ms/step - loss: 40.6944 - mae: 40.6944\n",
            "Epoch 67/100\n",
            "5/5 [==============================] - 0s 4ms/step - loss: 39.9081 - mae: 39.9081\n",
            "Epoch 68/100\n",
            "5/5 [==============================] - 0s 7ms/step - loss: 39.9873 - mae: 39.9873\n",
            "Epoch 69/100\n",
            "5/5 [==============================] - 0s 4ms/step - loss: 40.1533 - mae: 40.1533\n",
            "Epoch 70/100\n",
            "5/5 [==============================] - 0s 4ms/step - loss: 40.5143 - mae: 40.5143\n",
            "Epoch 71/100\n",
            "5/5 [==============================] - 0s 4ms/step - loss: 40.0313 - mae: 40.0313\n",
            "Epoch 72/100\n",
            "5/5 [==============================] - 0s 4ms/step - loss: 39.8208 - mae: 39.8208\n",
            "Epoch 73/100\n",
            "5/5 [==============================] - 0s 4ms/step - loss: 39.8837 - mae: 39.8837\n",
            "Epoch 74/100\n",
            "5/5 [==============================] - 0s 4ms/step - loss: 40.0586 - mae: 40.0586\n",
            "Epoch 75/100\n",
            "5/5 [==============================] - 0s 4ms/step - loss: 39.8508 - mae: 39.8508\n",
            "Epoch 76/100\n",
            "5/5 [==============================] - 0s 10ms/step - loss: 39.5988 - mae: 39.5988\n",
            "Epoch 77/100\n",
            "5/5 [==============================] - 0s 12ms/step - loss: 39.9281 - mae: 39.9281\n",
            "Epoch 78/100\n",
            "5/5 [==============================] - 0s 5ms/step - loss: 39.7327 - mae: 39.7327\n",
            "Epoch 79/100\n",
            "5/5 [==============================] - 0s 8ms/step - loss: 39.5326 - mae: 39.5326\n",
            "Epoch 80/100\n",
            "5/5 [==============================] - 0s 5ms/step - loss: 39.6351 - mae: 39.6351\n",
            "Epoch 81/100\n",
            "5/5 [==============================] - 0s 5ms/step - loss: 39.5628 - mae: 39.5628\n",
            "Epoch 82/100\n",
            "5/5 [==============================] - 0s 8ms/step - loss: 39.3037 - mae: 39.3037\n",
            "Epoch 83/100\n",
            "5/5 [==============================] - 0s 7ms/step - loss: 39.7198 - mae: 39.7198\n",
            "Epoch 84/100\n",
            "5/5 [==============================] - 0s 6ms/step - loss: 39.3777 - mae: 39.3777\n",
            "Epoch 85/100\n",
            "5/5 [==============================] - 0s 4ms/step - loss: 39.4872 - mae: 39.4872\n",
            "Epoch 86/100\n",
            "5/5 [==============================] - 0s 7ms/step - loss: 39.3233 - mae: 39.3233\n",
            "Epoch 87/100\n",
            "5/5 [==============================] - 0s 8ms/step - loss: 39.2430 - mae: 39.2430\n",
            "Epoch 88/100\n",
            "5/5 [==============================] - 0s 5ms/step - loss: 39.2875 - mae: 39.2875\n",
            "Epoch 89/100\n",
            "5/5 [==============================] - 0s 5ms/step - loss: 39.1887 - mae: 39.1887\n",
            "Epoch 90/100\n",
            "5/5 [==============================] - 0s 5ms/step - loss: 39.0597 - mae: 39.0597\n",
            "Epoch 91/100\n",
            "5/5 [==============================] - 0s 5ms/step - loss: 38.9666 - mae: 38.9666\n",
            "Epoch 92/100\n",
            "5/5 [==============================] - 0s 5ms/step - loss: 39.1674 - mae: 39.1674\n",
            "Epoch 93/100\n",
            "5/5 [==============================] - 0s 6ms/step - loss: 39.5518 - mae: 39.5518\n",
            "Epoch 94/100\n",
            "5/5 [==============================] - 0s 7ms/step - loss: 38.7686 - mae: 38.7686\n",
            "Epoch 95/100\n",
            "5/5 [==============================] - 0s 5ms/step - loss: 39.2988 - mae: 39.2988\n",
            "Epoch 96/100\n",
            "5/5 [==============================] - 0s 5ms/step - loss: 39.0539 - mae: 39.0539\n",
            "Epoch 97/100\n",
            "5/5 [==============================] - 0s 7ms/step - loss: 38.8415 - mae: 38.8415\n",
            "Epoch 98/100\n",
            "5/5 [==============================] - 0s 6ms/step - loss: 39.6641 - mae: 39.6641\n",
            "Epoch 99/100\n",
            "5/5 [==============================] - 0s 5ms/step - loss: 38.8889 - mae: 38.8889\n",
            "Epoch 100/100\n",
            "5/5 [==============================] - 0s 5ms/step - loss: 38.7228 - mae: 38.7228\n"
          ]
        }
      ]
    },
    {
      "cell_type": "code",
      "source": [
        "# Make predictions with our trained model\n",
        "y_reg_preds = model_4.predict(X_reg_test)\n",
        "\n",
        "# Plot the model's predictions against our groundtruth?\n",
        "\n",
        "plt.figure(figsize=(10,7))\n",
        "plt.scatter(X_reg_train, y_reg_train, c=\"b\", label=\"Training Data\")\n",
        "plt.scatter(X_reg_test, y_reg_test, c=\"g\", label=\"Test Data\")\n",
        "plt.scatter(X_reg_test, y_reg_preds, c=\"r\", label=\"Prediction data\")\n",
        "plt.legend()"
      ],
      "metadata": {
        "colab": {
          "base_uri": "https://localhost:8080/",
          "height": 464
        },
        "id": "ENuYUXbxv3Gb",
        "outputId": "15f13b74-09df-4082-f32d-f65910a98422"
      },
      "execution_count": 121,
      "outputs": [
        {
          "output_type": "stream",
          "name": "stdout",
          "text": [
            "2/2 [==============================] - 0s 5ms/step\n"
          ]
        },
        {
          "output_type": "execute_result",
          "data": {
            "text/plain": [
              "<matplotlib.legend.Legend at 0x7f324c0d2a00>"
            ]
          },
          "metadata": {},
          "execution_count": 121
        },
        {
          "output_type": "display_data",
          "data": {
            "text/plain": [
              "<Figure size 720x504 with 1 Axes>"
            ],
            "image/png": "[encoded data removed]"
          },
          "metadata": {
            "needs_background": "light"
          }
        }
      ]
    },
    {
      "cell_type": "markdown",
      "source": [
        "### The missing piece: non-linearity"
      ],
      "metadata": {
        "id": "DVkM_UHOwb4R"
      }
    },
    {
      "cell_type": "code",
      "source": [
        "tf.random.set_seed(42)\n",
        "model_5 = tf.keras.Sequential([\n",
        "    tf.keras.layers.Dense(1, activation=\"linear\", input_shape=[2])\n",
        "])\n",
        "\n",
        "model_5.compile(loss=\"binary_crossentropy\",\n",
        "                optimizer=tf.keras.optimizers.Adam(learning_rate=0.001),\n",
        "                metrics=\"accuracy\")\n",
        "model_5.summary()"
      ],
      "metadata": {
        "colab": {
          "base_uri": "https://localhost:8080/"
        },
        "id": "rb7oU2n-w4yy",
        "outputId": "861c5f6e-7332-4842-f6f5-ee7ed0a152c1"
      },
      "execution_count": 122,
      "outputs": [
        {
          "output_type": "stream",
          "name": "stdout",
          "text": [
            "Model: \"sequential_28\"\n",
            "_________________________________________________________________\n",
            " Layer (type)                Output Shape              Param #   \n",
            "=================================================================\n",
            " dense_54 (Dense)            (None, 1)                 3         \n",
            "                                                                 \n",
            "=================================================================\n",
            "Total params: 3\n",
            "Trainable params: 3\n",
            "Non-trainable params: 0\n",
            "_________________________________________________________________\n"
          ]
        }
      ]
    },
    {
      "cell_type": "code",
      "source": [
        "tf.random.set_seed(42)\n",
        "model_6 = tf.keras.Sequential([\n",
        "    tf.keras.layers.Dense(1, activation=tf.keras.activations.linear, input_shape=[2])\n",
        "])\n",
        "\n",
        "model_6.compile(loss=\"binary_crossentropy\",\n",
        "                optimizer=tf.keras.optimizers.Adam(learning_rate=0.001),\n",
        "                metrics=\"accuracy\")\n",
        "model_6.summary()"
      ],
      "metadata": {
        "colab": {
          "base_uri": "https://localhost:8080/"
        },
        "id": "XGoZYQze0DVs",
        "outputId": "49df624a-e0cb-4f5c-84f0-86607fa6369f"
      },
      "execution_count": 123,
      "outputs": [
        {
          "output_type": "stream",
          "name": "stdout",
          "text": [
            "Model: \"sequential_29\"\n",
            "_________________________________________________________________\n",
            " Layer (type)                Output Shape              Param #   \n",
            "=================================================================\n",
            " dense_55 (Dense)            (None, 1)                 3         \n",
            "                                                                 \n",
            "=================================================================\n",
            "Total params: 3\n",
            "Trainable params: 3\n",
            "Non-trainable params: 0\n",
            "_________________________________________________________________\n"
          ]
        }
      ]
    },
    {
      "cell_type": "code",
      "source": [
        "history = model_6.fit(X,y,epochs=100)"
      ],
      "metadata": {
        "colab": {
          "base_uri": "https://localhost:8080/"
        },
        "id": "q3FlfbIOz-f2",
        "outputId": "15b8c016-4c8a-4862-fee5-d5399c8a9308"
      },
      "execution_count": 124,
      "outputs": [
        {
          "output_type": "stream",
          "name": "stdout",
          "text": [
            "Epoch 1/100\n",
            "32/32 [==============================] - 1s 2ms/step - loss: 6.0364 - accuracy: 0.4910\n",
            "Epoch 2/100\n",
            "32/32 [==============================] - 0s 2ms/step - loss: 6.0204 - accuracy: 0.4920\n",
            "Epoch 3/100\n",
            "32/32 [==============================] - 0s 2ms/step - loss: 6.0199 - accuracy: 0.4920\n",
            "Epoch 4/100\n",
            "32/32 [==============================] - 0s 2ms/step - loss: 6.0195 - accuracy: 0.4920\n",
            "Epoch 5/100\n",
            "32/32 [==============================] - 0s 2ms/step - loss: 6.0191 - accuracy: 0.4920\n",
            "Epoch 6/100\n",
            "32/32 [==============================] - 0s 2ms/step - loss: 6.0188 - accuracy: 0.4920\n",
            "Epoch 7/100\n",
            "32/32 [==============================] - 0s 2ms/step - loss: 6.0184 - accuracy: 0.4920\n",
            "Epoch 8/100\n",
            "32/32 [==============================] - 0s 2ms/step - loss: 6.0180 - accuracy: 0.4920\n",
            "Epoch 9/100\n",
            "32/32 [==============================] - 0s 2ms/step - loss: 6.0177 - accuracy: 0.4920\n",
            "Epoch 10/100\n",
            "32/32 [==============================] - 0s 2ms/step - loss: 6.0172 - accuracy: 0.4920\n",
            "Epoch 11/100\n",
            "32/32 [==============================] - 0s 2ms/step - loss: 6.0168 - accuracy: 0.4920\n",
            "Epoch 12/100\n",
            "32/32 [==============================] - 0s 2ms/step - loss: 6.0165 - accuracy: 0.4920\n",
            "Epoch 13/100\n",
            "32/32 [==============================] - 0s 2ms/step - loss: 6.0158 - accuracy: 0.4920\n",
            "Epoch 14/100\n",
            "32/32 [==============================] - 0s 2ms/step - loss: 6.0153 - accuracy: 0.4920\n",
            "Epoch 15/100\n",
            "32/32 [==============================] - 0s 2ms/step - loss: 6.0148 - accuracy: 0.4920\n",
            "Epoch 16/100\n",
            "32/32 [==============================] - 0s 2ms/step - loss: 6.0194 - accuracy: 0.4920\n",
            "Epoch 17/100\n",
            "32/32 [==============================] - 0s 2ms/step - loss: 6.0327 - accuracy: 0.4910\n",
            "Epoch 18/100\n",
            "32/32 [==============================] - 0s 2ms/step - loss: 6.0322 - accuracy: 0.4910\n",
            "Epoch 19/100\n",
            "32/32 [==============================] - 0s 2ms/step - loss: 6.0320 - accuracy: 0.4910\n",
            "Epoch 20/100\n",
            "32/32 [==============================] - 0s 2ms/step - loss: 6.0254 - accuracy: 0.4910\n",
            "Epoch 21/100\n",
            "32/32 [==============================] - 0s 2ms/step - loss: 6.0013 - accuracy: 0.4920\n",
            "Epoch 22/100\n",
            "32/32 [==============================] - 0s 3ms/step - loss: 5.9990 - accuracy: 0.4920\n",
            "Epoch 23/100\n",
            "32/32 [==============================] - 0s 2ms/step - loss: 5.9981 - accuracy: 0.4920\n",
            "Epoch 24/100\n",
            "32/32 [==============================] - 0s 2ms/step - loss: 5.9977 - accuracy: 0.4920\n",
            "Epoch 25/100\n",
            "32/32 [==============================] - 0s 2ms/step - loss: 5.9974 - accuracy: 0.4920\n",
            "Epoch 26/100\n",
            "32/32 [==============================] - 0s 2ms/step - loss: 5.9971 - accuracy: 0.4920\n",
            "Epoch 27/100\n",
            "32/32 [==============================] - 0s 2ms/step - loss: 5.9967 - accuracy: 0.4920\n",
            "Epoch 28/100\n",
            "32/32 [==============================] - 0s 2ms/step - loss: 5.9964 - accuracy: 0.4920\n",
            "Epoch 29/100\n",
            "32/32 [==============================] - 0s 2ms/step - loss: 5.9960 - accuracy: 0.4920\n",
            "Epoch 30/100\n",
            "32/32 [==============================] - 0s 2ms/step - loss: 5.9957 - accuracy: 0.4920\n",
            "Epoch 31/100\n",
            "32/32 [==============================] - 0s 2ms/step - loss: 5.9911 - accuracy: 0.4920\n",
            "Epoch 32/100\n",
            "32/32 [==============================] - 0s 2ms/step - loss: 5.9928 - accuracy: 0.4920\n",
            "Epoch 33/100\n",
            "32/32 [==============================] - 0s 3ms/step - loss: 5.9923 - accuracy: 0.4920\n",
            "Epoch 34/100\n",
            "32/32 [==============================] - 0s 3ms/step - loss: 5.9918 - accuracy: 0.4920\n",
            "Epoch 35/100\n",
            "32/32 [==============================] - 0s 3ms/step - loss: 5.9915 - accuracy: 0.4920\n",
            "Epoch 36/100\n",
            "32/32 [==============================] - 0s 3ms/step - loss: 5.9911 - accuracy: 0.4920\n",
            "Epoch 37/100\n",
            "32/32 [==============================] - 0s 3ms/step - loss: 5.9908 - accuracy: 0.4920\n",
            "Epoch 38/100\n",
            "32/32 [==============================] - 0s 3ms/step - loss: 5.9905 - accuracy: 0.4920\n",
            "Epoch 39/100\n",
            "32/32 [==============================] - 0s 2ms/step - loss: 5.9902 - accuracy: 0.4920\n",
            "Epoch 40/100\n",
            "32/32 [==============================] - 0s 3ms/step - loss: 5.9899 - accuracy: 0.4920\n",
            "Epoch 41/100\n",
            "32/32 [==============================] - 0s 3ms/step - loss: 5.9896 - accuracy: 0.4920\n",
            "Epoch 42/100\n",
            "32/32 [==============================] - 0s 3ms/step - loss: 5.9893 - accuracy: 0.4920\n",
            "Epoch 43/100\n",
            "32/32 [==============================] - 0s 3ms/step - loss: 5.9890 - accuracy: 0.4920\n",
            "Epoch 44/100\n",
            "32/32 [==============================] - 0s 3ms/step - loss: 5.9887 - accuracy: 0.4920\n",
            "Epoch 45/100\n",
            "32/32 [==============================] - 0s 3ms/step - loss: 5.9885 - accuracy: 0.4920\n",
            "Epoch 46/100\n",
            "32/32 [==============================] - 0s 3ms/step - loss: 5.9882 - accuracy: 0.4920\n",
            "Epoch 47/100\n",
            "32/32 [==============================] - 0s 3ms/step - loss: 5.9879 - accuracy: 0.4920\n",
            "Epoch 48/100\n",
            "32/32 [==============================] - 0s 3ms/step - loss: 5.9876 - accuracy: 0.4920\n",
            "Epoch 49/100\n",
            "32/32 [==============================] - 0s 3ms/step - loss: 5.9874 - accuracy: 0.4920\n",
            "Epoch 50/100\n",
            "32/32 [==============================] - 0s 3ms/step - loss: 5.9871 - accuracy: 0.4920\n",
            "Epoch 51/100\n",
            "32/32 [==============================] - 0s 2ms/step - loss: 5.9869 - accuracy: 0.4920\n",
            "Epoch 52/100\n",
            "32/32 [==============================] - 0s 2ms/step - loss: 5.9866 - accuracy: 0.4920\n",
            "Epoch 53/100\n",
            "32/32 [==============================] - 0s 3ms/step - loss: 5.9864 - accuracy: 0.4920\n",
            "Epoch 54/100\n",
            "32/32 [==============================] - 0s 2ms/step - loss: 5.9861 - accuracy: 0.4920\n",
            "Epoch 55/100\n",
            "32/32 [==============================] - 0s 2ms/step - loss: 5.9859 - accuracy: 0.4920\n",
            "Epoch 56/100\n",
            "32/32 [==============================] - 0s 2ms/step - loss: 5.9856 - accuracy: 0.4920\n",
            "Epoch 57/100\n",
            "32/32 [==============================] - 0s 2ms/step - loss: 5.9853 - accuracy: 0.4920\n",
            "Epoch 58/100\n",
            "32/32 [==============================] - 0s 3ms/step - loss: 5.9850 - accuracy: 0.4920\n",
            "Epoch 59/100\n",
            "32/32 [==============================] - 0s 3ms/step - loss: 5.9848 - accuracy: 0.4920\n",
            "Epoch 60/100\n",
            "32/32 [==============================] - 0s 3ms/step - loss: 5.9660 - accuracy: 0.4910\n",
            "Epoch 61/100\n",
            "32/32 [==============================] - 0s 3ms/step - loss: 5.9426 - accuracy: 0.4900\n",
            "Epoch 62/100\n",
            "32/32 [==============================] - 0s 2ms/step - loss: 5.9409 - accuracy: 0.4900\n",
            "Epoch 63/100\n",
            "32/32 [==============================] - 0s 3ms/step - loss: 5.9403 - accuracy: 0.4900\n",
            "Epoch 64/100\n",
            "32/32 [==============================] - 0s 3ms/step - loss: 5.9397 - accuracy: 0.4890\n",
            "Epoch 65/100\n",
            "32/32 [==============================] - 0s 3ms/step - loss: 5.9392 - accuracy: 0.4890\n",
            "Epoch 66/100\n",
            "32/32 [==============================] - 0s 3ms/step - loss: 5.9387 - accuracy: 0.4890\n",
            "Epoch 67/100\n",
            "32/32 [==============================] - 0s 3ms/step - loss: 5.9383 - accuracy: 0.4890\n",
            "Epoch 68/100\n",
            "32/32 [==============================] - 0s 2ms/step - loss: 5.9379 - accuracy: 0.4890\n",
            "Epoch 69/100\n",
            "32/32 [==============================] - 0s 2ms/step - loss: 5.9375 - accuracy: 0.4890\n",
            "Epoch 70/100\n",
            "32/32 [==============================] - 0s 2ms/step - loss: 5.9370 - accuracy: 0.4890\n",
            "Epoch 71/100\n",
            "32/32 [==============================] - 0s 2ms/step - loss: 5.9367 - accuracy: 0.4890\n",
            "Epoch 72/100\n",
            "32/32 [==============================] - 0s 2ms/step - loss: 5.9193 - accuracy: 0.4890\n",
            "Epoch 73/100\n",
            "32/32 [==============================] - 0s 2ms/step - loss: 5.9153 - accuracy: 0.4860\n",
            "Epoch 74/100\n",
            "32/32 [==============================] - 0s 2ms/step - loss: 5.9146 - accuracy: 0.4860\n",
            "Epoch 75/100\n",
            "32/32 [==============================] - 0s 2ms/step - loss: 5.9136 - accuracy: 0.4860\n",
            "Epoch 76/100\n",
            "32/32 [==============================] - 0s 2ms/step - loss: 5.9047 - accuracy: 0.4850\n",
            "Epoch 77/100\n",
            "32/32 [==============================] - 0s 2ms/step - loss: 5.9019 - accuracy: 0.4870\n",
            "Epoch 78/100\n",
            "32/32 [==============================] - 0s 2ms/step - loss: 5.9012 - accuracy: 0.4870\n",
            "Epoch 79/100\n",
            "32/32 [==============================] - 0s 2ms/step - loss: 5.9006 - accuracy: 0.4870\n",
            "Epoch 80/100\n",
            "32/32 [==============================] - 0s 2ms/step - loss: 5.9001 - accuracy: 0.4870\n",
            "Epoch 81/100\n",
            "32/32 [==============================] - 0s 2ms/step - loss: 5.8995 - accuracy: 0.4870\n",
            "Epoch 82/100\n",
            "32/32 [==============================] - 0s 2ms/step - loss: 5.8919 - accuracy: 0.4870\n",
            "Epoch 83/100\n",
            "32/32 [==============================] - 0s 2ms/step - loss: 5.8861 - accuracy: 0.4880\n",
            "Epoch 84/100\n",
            "32/32 [==============================] - 0s 2ms/step - loss: 5.8855 - accuracy: 0.4880\n",
            "Epoch 85/100\n",
            "32/32 [==============================] - 0s 2ms/step - loss: 5.8849 - accuracy: 0.4880\n",
            "Epoch 86/100\n",
            "32/32 [==============================] - 0s 2ms/step - loss: 5.8845 - accuracy: 0.4880\n",
            "Epoch 87/100\n",
            "32/32 [==============================] - 0s 2ms/step - loss: 5.8840 - accuracy: 0.4880\n",
            "Epoch 88/100\n",
            "32/32 [==============================] - 0s 2ms/step - loss: 5.8836 - accuracy: 0.4870\n",
            "Epoch 89/100\n",
            "32/32 [==============================] - 0s 2ms/step - loss: 5.8748 - accuracy: 0.4880\n",
            "Epoch 90/100\n",
            "32/32 [==============================] - 0s 2ms/step - loss: 5.8715 - accuracy: 0.4880\n",
            "Epoch 91/100\n",
            "32/32 [==============================] - 0s 2ms/step - loss: 5.8708 - accuracy: 0.4880\n",
            "Epoch 92/100\n",
            "32/32 [==============================] - 0s 2ms/step - loss: 5.8703 - accuracy: 0.4890\n",
            "Epoch 93/100\n",
            "32/32 [==============================] - 0s 2ms/step - loss: 5.8698 - accuracy: 0.4890\n",
            "Epoch 94/100\n",
            "32/32 [==============================] - 0s 2ms/step - loss: 5.8692 - accuracy: 0.4890\n",
            "Epoch 95/100\n",
            "32/32 [==============================] - 0s 2ms/step - loss: 5.8687 - accuracy: 0.4890\n",
            "Epoch 96/100\n",
            "32/32 [==============================] - 0s 2ms/step - loss: 5.8682 - accuracy: 0.4890\n",
            "Epoch 97/100\n",
            "32/32 [==============================] - 0s 2ms/step - loss: 5.8677 - accuracy: 0.4890\n",
            "Epoch 98/100\n",
            "32/32 [==============================] - 0s 2ms/step - loss: 5.8673 - accuracy: 0.4890\n",
            "Epoch 99/100\n",
            "32/32 [==============================] - 0s 2ms/step - loss: 5.8668 - accuracy: 0.4890\n",
            "Epoch 100/100\n",
            "32/32 [==============================] - 0s 2ms/step - loss: 5.8664 - accuracy: 0.4890\n"
          ]
        }
      ]
    },
    {
      "cell_type": "code",
      "source": [],
      "metadata": {
        "id": "2Zwd_D5jz--3"
      },
      "execution_count": 124,
      "outputs": []
    },
    {
      "cell_type": "code",
      "source": [
        "# Check out our data\n",
        "plt.scatter(X[:,0], X[:,1], c=y, cmap=plt.cm.RdYlBu);"
      ],
      "metadata": {
        "colab": {
          "base_uri": "https://localhost:8080/",
          "height": 265
        },
        "id": "DztUPCC90pb4",
        "outputId": "fd3f704d-36e0-4730-b372-1556e320cb2b"
      },
      "execution_count": 125,
      "outputs": [
        {
          "output_type": "display_data",
          "data": {
            "text/plain": [
              "<Figure size 432x288 with 1 Axes>"
            ],
            "image/png": "[encoded data removed]"
          },
          "metadata": {
            "needs_background": "light"
          }
        }
      ]
    },
    {
      "cell_type": "code",
      "source": [],
      "metadata": {
        "id": "ttpQn3zX0zaF"
      },
      "execution_count": 125,
      "outputs": []
    },
    {
      "cell_type": "code",
      "source": [
        "import pandas as pd\n",
        "\n",
        "#create DataFrame\n",
        "df = pd.DataFrame({'x': [25, 12, 15, 14, 19, 23, 25, 29],\n",
        "                   'y': [5, 7, 7, 9, 12, 9, 9, 4],\n",
        "                   'z': ['A', 'A', 'B', 'B', 'B', 'C', 'C', 'C']})\n",
        "\n",
        "df.plot(c=df.z, cmap=plt.cm.PuOr);"
      ],
      "metadata": {
        "colab": {
          "base_uri": "https://localhost:8080/",
          "height": 358
        },
        "id": "B97cx8Rd1SXF",
        "outputId": "bf9c7e2e-ef1f-4023-be00-6bd078acad7b"
      },
      "execution_count": 126,
      "outputs": [
        {
          "output_type": "stream",
          "name": "stderr",
          "text": [
            "/usr/local/lib/python3.8/dist-packages/pandas/plotting/_matplotlib/core.py:711: MatplotlibDeprecationWarning: Saw kwargs ['c', 'color'] which are all aliases for 'color'.  Kept value from 'color'.  Passing multiple aliases for the same property will raise a TypeError in 3.3.\n",
            "  return ax.plot(*args, **kwds)\n",
            "/usr/local/lib/python3.8/dist-packages/pandas/plotting/_matplotlib/core.py:711: MatplotlibDeprecationWarning: Saw kwargs ['c', 'color'] which are all aliases for 'color'.  Kept value from 'color'.  Passing multiple aliases for the same property will raise a TypeError in 3.3.\n",
            "  return ax.plot(*args, **kwds)\n"
          ]
        },
        {
          "output_type": "display_data",
          "data": {
            "text/plain": [
              "<Figure size 432x288 with 1 Axes>"
            ],
            "image/png": "[encoded data removed]"
          },
          "metadata": {
            "needs_background": "light"
          }
        }
      ]
    },
    {
      "cell_type": "code",
      "source": [
        "# Check the decision boundary of model_5\n",
        "plot_decision_boundary(model = model_6, X=X, y=y)"
      ],
      "metadata": {
        "colab": {
          "base_uri": "https://localhost:8080/",
          "height": 301
        },
        "id": "pR-_a3jZ12Hj",
        "outputId": "207f8365-a00b-4055-8dc9-d870308353a6"
      },
      "execution_count": 127,
      "outputs": [
        {
          "output_type": "stream",
          "name": "stdout",
          "text": [
            "313/313 [==============================] - 0s 1ms/step\n",
            "Doing binary classification\n"
          ]
        },
        {
          "output_type": "display_data",
          "data": {
            "text/plain": [
              "<Figure size 432x288 with 1 Axes>"
            ],
            "image/png": "[encoded data removed]"
          },
          "metadata": {
            "needs_background": "light"
          }
        }
      ]
    },
    {
      "cell_type": "code",
      "source": [
        "# Let's try to build our first neural network with non-linear activation function.\n",
        "# Trying activation - relu"
      ],
      "metadata": {
        "id": "QuqYTqba1981"
      },
      "execution_count": 128,
      "outputs": []
    },
    {
      "cell_type": "code",
      "source": [
        "tf.random.set_seed(42)\n",
        "model_7 = tf.keras.Sequential([\n",
        "    tf.keras.layers.Dense(1, activation = \"relu\")\n",
        "])\n",
        "model_7.compile(loss=tf.keras.losses.BinaryCrossentropy(),\n",
        "                optimizer=tf.keras.optimizers.Adam(),\n",
        "                metrics=\"mae\")\n",
        "history=model_7.fit(X,y,epochs=100)"
      ],
      "metadata": {
        "colab": {
          "base_uri": "https://localhost:8080/"
        },
        "id": "oGwVhP-M21wd",
        "outputId": "d6ecc81c-fcec-4655-8812-4c22dc391a9f"
      },
      "execution_count": 129,
      "outputs": [
        {
          "output_type": "stream",
          "name": "stdout",
          "text": [
            "Epoch 1/100\n",
            "32/32 [==============================] - 1s 2ms/step - loss: 6.3895 - mae: 0.6141\n",
            "Epoch 2/100\n",
            "32/32 [==============================] - 0s 2ms/step - loss: 6.3869 - mae: 0.6119\n",
            "Epoch 3/100\n",
            "32/32 [==============================] - 0s 2ms/step - loss: 6.3848 - mae: 0.6119\n",
            "Epoch 4/100\n",
            "32/32 [==============================] - 0s 2ms/step - loss: 6.3832 - mae: 0.6108\n",
            "Epoch 5/100\n",
            "32/32 [==============================] - 0s 2ms/step - loss: 6.3823 - mae: 0.6106\n",
            "Epoch 6/100\n",
            "32/32 [==============================] - 0s 2ms/step - loss: 6.3737 - mae: 0.6091\n",
            "Epoch 7/100\n",
            "32/32 [==============================] - 0s 2ms/step - loss: 6.3702 - mae: 0.6087\n",
            "Epoch 8/100\n",
            "32/32 [==============================] - 0s 2ms/step - loss: 6.3677 - mae: 0.6072\n",
            "Epoch 9/100\n",
            "32/32 [==============================] - 0s 2ms/step - loss: 6.3669 - mae: 0.6066\n",
            "Epoch 10/100\n",
            "32/32 [==============================] - 0s 2ms/step - loss: 6.3475 - mae: 0.6033\n",
            "Epoch 11/100\n",
            "32/32 [==============================] - 0s 2ms/step - loss: 6.3352 - mae: 0.6013\n",
            "Epoch 12/100\n",
            "32/32 [==============================] - 0s 2ms/step - loss: 6.3326 - mae: 0.6014\n",
            "Epoch 13/100\n",
            "32/32 [==============================] - 0s 2ms/step - loss: 6.3312 - mae: 0.6007\n",
            "Epoch 14/100\n",
            "32/32 [==============================] - 0s 2ms/step - loss: 6.3307 - mae: 0.5999\n",
            "Epoch 15/100\n",
            "32/32 [==============================] - 0s 2ms/step - loss: 6.3215 - mae: 0.5996\n",
            "Epoch 16/100\n",
            "32/32 [==============================] - 0s 2ms/step - loss: 6.3279 - mae: 0.5966\n",
            "Epoch 17/100\n",
            "32/32 [==============================] - 0s 2ms/step - loss: 6.3197 - mae: 0.5958\n",
            "Epoch 18/100\n",
            "32/32 [==============================] - 0s 2ms/step - loss: 6.3023 - mae: 0.5959\n",
            "Epoch 19/100\n",
            "32/32 [==============================] - 0s 2ms/step - loss: 6.2793 - mae: 0.5902\n",
            "Epoch 20/100\n",
            "32/32 [==============================] - 0s 2ms/step - loss: 6.2791 - mae: 0.5901\n",
            "Epoch 21/100\n",
            "32/32 [==============================] - 0s 2ms/step - loss: 6.2787 - mae: 0.5901\n",
            "Epoch 22/100\n",
            "32/32 [==============================] - 0s 2ms/step - loss: 6.2783 - mae: 0.5899\n",
            "Epoch 23/100\n",
            "32/32 [==============================] - 0s 2ms/step - loss: 6.2779 - mae: 0.5897\n",
            "Epoch 24/100\n",
            "32/32 [==============================] - 0s 2ms/step - loss: 6.2776 - mae: 0.5897\n",
            "Epoch 25/100\n",
            "32/32 [==============================] - 0s 2ms/step - loss: 6.2773 - mae: 0.5896\n",
            "Epoch 26/100\n",
            "32/32 [==============================] - 0s 2ms/step - loss: 6.2771 - mae: 0.5894\n",
            "Epoch 27/100\n",
            "32/32 [==============================] - 0s 2ms/step - loss: 6.2768 - mae: 0.5894\n",
            "Epoch 28/100\n",
            "32/32 [==============================] - 0s 2ms/step - loss: 6.2764 - mae: 0.5893\n",
            "Epoch 29/100\n",
            "32/32 [==============================] - 0s 2ms/step - loss: 6.2761 - mae: 0.5892\n",
            "Epoch 30/100\n",
            "32/32 [==============================] - 0s 2ms/step - loss: 6.2758 - mae: 0.5890\n",
            "Epoch 31/100\n",
            "32/32 [==============================] - 0s 2ms/step - loss: 6.2757 - mae: 0.5890\n",
            "Epoch 32/100\n",
            "32/32 [==============================] - 0s 2ms/step - loss: 6.2753 - mae: 0.5889\n",
            "Epoch 33/100\n",
            "32/32 [==============================] - 0s 2ms/step - loss: 6.2751 - mae: 0.5887\n",
            "Epoch 34/100\n",
            "32/32 [==============================] - 0s 2ms/step - loss: 6.2749 - mae: 0.5884\n",
            "Epoch 35/100\n",
            "32/32 [==============================] - 0s 2ms/step - loss: 6.2745 - mae: 0.5883\n",
            "Epoch 36/100\n",
            "32/32 [==============================] - 0s 2ms/step - loss: 6.2743 - mae: 0.5884\n",
            "Epoch 37/100\n",
            "32/32 [==============================] - 0s 2ms/step - loss: 6.2741 - mae: 0.5880\n",
            "Epoch 38/100\n",
            "32/32 [==============================] - 0s 2ms/step - loss: 6.2737 - mae: 0.5879\n",
            "Epoch 39/100\n",
            "32/32 [==============================] - 0s 2ms/step - loss: 6.2735 - mae: 0.5878\n",
            "Epoch 40/100\n",
            "32/32 [==============================] - 0s 2ms/step - loss: 6.2732 - mae: 0.5878\n",
            "Epoch 41/100\n",
            "32/32 [==============================] - 0s 2ms/step - loss: 6.2730 - mae: 0.5877\n",
            "Epoch 42/100\n",
            "32/32 [==============================] - 0s 2ms/step - loss: 6.2728 - mae: 0.5874\n",
            "Epoch 43/100\n",
            "32/32 [==============================] - 0s 2ms/step - loss: 6.2725 - mae: 0.5874\n",
            "Epoch 44/100\n",
            "32/32 [==============================] - 0s 2ms/step - loss: 6.2574 - mae: 0.5880\n",
            "Epoch 45/100\n",
            "32/32 [==============================] - 0s 2ms/step - loss: 6.2728 - mae: 0.5938\n",
            "Epoch 46/100\n",
            "32/32 [==============================] - 0s 2ms/step - loss: 6.2625 - mae: 0.5946\n",
            "Epoch 47/100\n",
            "32/32 [==============================] - 0s 2ms/step - loss: 6.2625 - mae: 0.5946\n",
            "Epoch 48/100\n",
            "32/32 [==============================] - 0s 2ms/step - loss: 6.2625 - mae: 0.5946\n",
            "Epoch 49/100\n",
            "32/32 [==============================] - 0s 2ms/step - loss: 6.2625 - mae: 0.5946\n",
            "Epoch 50/100\n",
            "32/32 [==============================] - 0s 2ms/step - loss: 6.2625 - mae: 0.5946\n",
            "Epoch 51/100\n",
            "32/32 [==============================] - 0s 2ms/step - loss: 6.2624 - mae: 0.5946\n",
            "Epoch 52/100\n",
            "32/32 [==============================] - 0s 2ms/step - loss: 6.2624 - mae: 0.5946\n",
            "Epoch 53/100\n",
            "32/32 [==============================] - 0s 2ms/step - loss: 6.2624 - mae: 0.5945\n",
            "Epoch 54/100\n",
            "32/32 [==============================] - 0s 2ms/step - loss: 6.2624 - mae: 0.5945\n",
            "Epoch 55/100\n",
            "32/32 [==============================] - 0s 2ms/step - loss: 6.2624 - mae: 0.5945\n",
            "Epoch 56/100\n",
            "32/32 [==============================] - 0s 2ms/step - loss: 6.2624 - mae: 0.5945\n",
            "Epoch 57/100\n",
            "32/32 [==============================] - 0s 2ms/step - loss: 6.2624 - mae: 0.5945\n",
            "Epoch 58/100\n",
            "32/32 [==============================] - 0s 2ms/step - loss: 6.2623 - mae: 0.5945\n",
            "Epoch 59/100\n",
            "32/32 [==============================] - 0s 2ms/step - loss: 6.2623 - mae: 0.5945\n",
            "Epoch 60/100\n",
            "32/32 [==============================] - 0s 2ms/step - loss: 6.2623 - mae: 0.5945\n",
            "Epoch 61/100\n",
            "32/32 [==============================] - 0s 2ms/step - loss: 6.2623 - mae: 0.5945\n",
            "Epoch 62/100\n",
            "32/32 [==============================] - 0s 2ms/step - loss: 6.2623 - mae: 0.5945\n",
            "Epoch 63/100\n",
            "32/32 [==============================] - 0s 2ms/step - loss: 6.2622 - mae: 0.5945\n",
            "Epoch 64/100\n",
            "32/32 [==============================] - 0s 2ms/step - loss: 6.2622 - mae: 0.5944\n",
            "Epoch 65/100\n",
            "32/32 [==============================] - 0s 2ms/step - loss: 6.2622 - mae: 0.5944\n",
            "Epoch 66/100\n",
            "32/32 [==============================] - 0s 2ms/step - loss: 6.2622 - mae: 0.5944\n",
            "Epoch 67/100\n",
            "32/32 [==============================] - 0s 2ms/step - loss: 6.2622 - mae: 0.5944\n",
            "Epoch 68/100\n",
            "32/32 [==============================] - 0s 2ms/step - loss: 6.2622 - mae: 0.5944\n",
            "Epoch 69/100\n",
            "32/32 [==============================] - 0s 2ms/step - loss: 6.2621 - mae: 0.5944\n",
            "Epoch 70/100\n",
            "32/32 [==============================] - 0s 2ms/step - loss: 6.2621 - mae: 0.5944\n",
            "Epoch 71/100\n",
            "32/32 [==============================] - 0s 2ms/step - loss: 6.2621 - mae: 0.5944\n",
            "Epoch 72/100\n",
            "32/32 [==============================] - 0s 2ms/step - loss: 6.2621 - mae: 0.5944\n",
            "Epoch 73/100\n",
            "32/32 [==============================] - 0s 2ms/step - loss: 6.2620 - mae: 0.5943\n",
            "Epoch 74/100\n",
            "32/32 [==============================] - 0s 2ms/step - loss: 6.2620 - mae: 0.5943\n",
            "Epoch 75/100\n",
            "32/32 [==============================] - 0s 2ms/step - loss: 6.2620 - mae: 0.5943\n",
            "Epoch 76/100\n",
            "32/32 [==============================] - 0s 2ms/step - loss: 6.2620 - mae: 0.5943\n",
            "Epoch 77/100\n",
            "32/32 [==============================] - 0s 2ms/step - loss: 6.2620 - mae: 0.5943\n",
            "Epoch 78/100\n",
            "32/32 [==============================] - 0s 2ms/step - loss: 6.2619 - mae: 0.5943\n",
            "Epoch 79/100\n",
            "32/32 [==============================] - 0s 2ms/step - loss: 6.2619 - mae: 0.5943\n",
            "Epoch 80/100\n",
            "32/32 [==============================] - 0s 2ms/step - loss: 6.2619 - mae: 0.5943\n",
            "Epoch 81/100\n",
            "32/32 [==============================] - 0s 2ms/step - loss: 6.2619 - mae: 0.5943\n",
            "Epoch 82/100\n",
            "32/32 [==============================] - 0s 2ms/step - loss: 6.2618 - mae: 0.5942\n",
            "Epoch 83/100\n",
            "32/32 [==============================] - 0s 2ms/step - loss: 6.2618 - mae: 0.5942\n",
            "Epoch 84/100\n",
            "32/32 [==============================] - 0s 2ms/step - loss: 6.2618 - mae: 0.5942\n",
            "Epoch 85/100\n",
            "32/32 [==============================] - 0s 2ms/step - loss: 6.2618 - mae: 0.5942\n",
            "Epoch 86/100\n",
            "32/32 [==============================] - 0s 2ms/step - loss: 6.2617 - mae: 0.5942\n",
            "Epoch 87/100\n",
            "32/32 [==============================] - 0s 2ms/step - loss: 6.2617 - mae: 0.5942\n",
            "Epoch 88/100\n",
            "32/32 [==============================] - 0s 3ms/step - loss: 6.2617 - mae: 0.5941\n",
            "Epoch 89/100\n",
            "32/32 [==============================] - 0s 3ms/step - loss: 6.2617 - mae: 0.5941\n",
            "Epoch 90/100\n",
            "32/32 [==============================] - 0s 3ms/step - loss: 6.2616 - mae: 0.5941\n",
            "Epoch 91/100\n",
            "32/32 [==============================] - 0s 3ms/step - loss: 6.2616 - mae: 0.5941\n",
            "Epoch 92/100\n",
            "32/32 [==============================] - 0s 3ms/step - loss: 6.2616 - mae: 0.5941\n",
            "Epoch 93/100\n",
            "32/32 [==============================] - 0s 3ms/step - loss: 6.2615 - mae: 0.5941\n",
            "Epoch 94/100\n",
            "32/32 [==============================] - 0s 3ms/step - loss: 6.2615 - mae: 0.5941\n",
            "Epoch 95/100\n",
            "32/32 [==============================] - 0s 3ms/step - loss: 6.2615 - mae: 0.5940\n",
            "Epoch 96/100\n",
            "32/32 [==============================] - 0s 3ms/step - loss: 6.2615 - mae: 0.5940\n",
            "Epoch 97/100\n",
            "32/32 [==============================] - 0s 3ms/step - loss: 6.2614 - mae: 0.5940\n",
            "Epoch 98/100\n",
            "32/32 [==============================] - 0s 3ms/step - loss: 6.2614 - mae: 0.5940\n",
            "Epoch 99/100\n",
            "32/32 [==============================] - 0s 3ms/step - loss: 6.2614 - mae: 0.5940\n",
            "Epoch 100/100\n",
            "32/32 [==============================] - 0s 3ms/step - loss: 6.2613 - mae: 0.5939\n"
          ]
        }
      ]
    },
    {
      "cell_type": "code",
      "source": [
        "# Check the decision boundary of model_7\n",
        "plot_decision_boundary(model = model_7, X=X, y=y)"
      ],
      "metadata": {
        "colab": {
          "base_uri": "https://localhost:8080/",
          "height": 301
        },
        "id": "X0yZKepF3Pq2",
        "outputId": "3f189135-472e-4c2c-e23f-3c1cc778cdfa"
      },
      "execution_count": 130,
      "outputs": [
        {
          "output_type": "stream",
          "name": "stdout",
          "text": [
            "313/313 [==============================] - 1s 2ms/step\n",
            "Doing binary classification\n"
          ]
        },
        {
          "output_type": "display_data",
          "data": {
            "text/plain": [
              "<Figure size 432x288 with 1 Axes>"
            ],
            "image/png": "[encoded data removed]"
          },
          "metadata": {
            "needs_background": "light"
          }
        }
      ]
    },
    {
      "cell_type": "code",
      "source": [
        "# Replicating multi-layer neural network\n",
        "\n",
        "tf.random.set_seed(42)\n",
        "\n",
        "model_8 = tf.keras.Sequential([\n",
        "    tf.keras.layers.Dense(4, activation=\"relu\"),\n",
        "    tf.keras.layers.Dense(4, activation=\"relu\"),\n",
        "    tf.keras.layers.Dense(4, activation=\"relu\")\n",
        "])\n",
        "\n",
        "model_8.compile(loss=\"binary_crossentropy\",\n",
        "                optimizer=tf.keras.optimizers.Adam(learning_rate=0.001),\n",
        "                metrics=\"accuracy\")\n",
        "\n",
        "history = model_8.fit(X,y,epochs=300)"
      ],
      "metadata": {
        "colab": {
          "base_uri": "https://localhost:8080/"
        },
        "id": "VDkIqY5-4D7g",
        "outputId": "12d9b406-b53b-4254-b94e-293a0d0506d4"
      },
      "execution_count": 131,
      "outputs": [
        {
          "output_type": "stream",
          "name": "stdout",
          "text": [
            "Epoch 1/300\n",
            "32/32 [==============================] - 1s 2ms/step - loss: 4.0734 - accuracy: 0.2930\n",
            "Epoch 2/300\n",
            "32/32 [==============================] - 0s 2ms/step - loss: 3.1895 - accuracy: 0.1350\n",
            "Epoch 3/300\n",
            "32/32 [==============================] - 0s 2ms/step - loss: 2.5901 - accuracy: 0.1220\n",
            "Epoch 4/300\n",
            "32/32 [==============================] - 0s 2ms/step - loss: 2.0983 - accuracy: 0.1180\n",
            "Epoch 5/300\n",
            "32/32 [==============================] - 0s 2ms/step - loss: 1.8988 - accuracy: 0.1400\n",
            "Epoch 6/300\n",
            "32/32 [==============================] - 0s 2ms/step - loss: 1.7970 - accuracy: 0.1530\n",
            "Epoch 7/300\n",
            "32/32 [==============================] - 0s 2ms/step - loss: 1.6786 - accuracy: 0.1590\n",
            "Epoch 8/300\n",
            "32/32 [==============================] - 0s 2ms/step - loss: 1.5335 - accuracy: 0.1670\n",
            "Epoch 9/300\n",
            "32/32 [==============================] - 0s 2ms/step - loss: 1.3827 - accuracy: 0.1780\n",
            "Epoch 10/300\n",
            "32/32 [==============================] - 0s 2ms/step - loss: 1.0846 - accuracy: 0.2440\n",
            "Epoch 11/300\n",
            "32/32 [==============================] - 0s 2ms/step - loss: 1.0355 - accuracy: 0.2820\n",
            "Epoch 12/300\n",
            "32/32 [==============================] - 0s 2ms/step - loss: 1.0101 - accuracy: 0.2930\n",
            "Epoch 13/300\n",
            "32/32 [==============================] - 0s 2ms/step - loss: 0.9868 - accuracy: 0.3230\n",
            "Epoch 14/300\n",
            "32/32 [==============================] - 0s 2ms/step - loss: 0.9657 - accuracy: 0.3510\n",
            "Epoch 15/300\n",
            "32/32 [==============================] - 0s 2ms/step - loss: 0.9455 - accuracy: 0.3890\n",
            "Epoch 16/300\n",
            "32/32 [==============================] - 0s 2ms/step - loss: 0.9257 - accuracy: 0.4110\n",
            "Epoch 17/300\n",
            "32/32 [==============================] - 0s 2ms/step - loss: 0.9030 - accuracy: 0.4280\n",
            "Epoch 18/300\n",
            "32/32 [==============================] - 0s 2ms/step - loss: 0.8753 - accuracy: 0.4770\n",
            "Epoch 19/300\n",
            "32/32 [==============================] - 0s 2ms/step - loss: 0.8555 - accuracy: 0.5000\n",
            "Epoch 20/300\n",
            "32/32 [==============================] - 0s 2ms/step - loss: 0.8397 - accuracy: 0.5000\n",
            "Epoch 21/300\n",
            "32/32 [==============================] - 0s 2ms/step - loss: 0.8274 - accuracy: 0.5000\n",
            "Epoch 22/300\n",
            "32/32 [==============================] - 0s 2ms/step - loss: 0.8163 - accuracy: 0.4880\n",
            "Epoch 23/300\n",
            "32/32 [==============================] - 0s 2ms/step - loss: 0.8070 - accuracy: 0.4770\n",
            "Epoch 24/300\n",
            "32/32 [==============================] - 0s 2ms/step - loss: 0.7986 - accuracy: 0.4670\n",
            "Epoch 25/300\n",
            "32/32 [==============================] - 0s 2ms/step - loss: 0.7914 - accuracy: 0.4560\n",
            "Epoch 26/300\n",
            "32/32 [==============================] - 0s 2ms/step - loss: 0.7842 - accuracy: 0.4450\n",
            "Epoch 27/300\n",
            "32/32 [==============================] - 0s 2ms/step - loss: 0.7778 - accuracy: 0.4610\n",
            "Epoch 28/300\n",
            "32/32 [==============================] - 0s 2ms/step - loss: 0.7716 - accuracy: 0.4390\n",
            "Epoch 29/300\n",
            "32/32 [==============================] - 0s 2ms/step - loss: 0.7664 - accuracy: 0.4140\n",
            "Epoch 30/300\n",
            "32/32 [==============================] - 0s 2ms/step - loss: 0.7615 - accuracy: 0.4020\n",
            "Epoch 31/300\n",
            "32/32 [==============================] - 0s 2ms/step - loss: 0.7568 - accuracy: 0.3950\n",
            "Epoch 32/300\n",
            "32/32 [==============================] - 0s 2ms/step - loss: 0.7525 - accuracy: 0.3890\n",
            "Epoch 33/300\n",
            "32/32 [==============================] - 0s 2ms/step - loss: 0.7485 - accuracy: 0.3820\n",
            "Epoch 34/300\n",
            "32/32 [==============================] - 0s 2ms/step - loss: 0.7449 - accuracy: 0.3790\n",
            "Epoch 35/300\n",
            "32/32 [==============================] - 0s 2ms/step - loss: 0.7415 - accuracy: 0.3780\n",
            "Epoch 36/300\n",
            "32/32 [==============================] - 0s 2ms/step - loss: 0.7381 - accuracy: 0.3730\n",
            "Epoch 37/300\n",
            "32/32 [==============================] - 0s 2ms/step - loss: 0.7352 - accuracy: 0.3680\n",
            "Epoch 38/300\n",
            "32/32 [==============================] - 0s 2ms/step - loss: 0.7325 - accuracy: 0.3610\n",
            "Epoch 39/300\n",
            "32/32 [==============================] - 0s 2ms/step - loss: 0.7298 - accuracy: 0.3580\n",
            "Epoch 40/300\n",
            "32/32 [==============================] - 0s 2ms/step - loss: 0.7275 - accuracy: 0.3570\n",
            "Epoch 41/300\n",
            "32/32 [==============================] - 0s 2ms/step - loss: 0.7254 - accuracy: 0.3550\n",
            "Epoch 42/300\n",
            "32/32 [==============================] - 0s 2ms/step - loss: 0.7230 - accuracy: 0.3500\n",
            "Epoch 43/300\n",
            "32/32 [==============================] - 0s 2ms/step - loss: 0.7211 - accuracy: 0.3430\n",
            "Epoch 44/300\n",
            "32/32 [==============================] - 0s 2ms/step - loss: 0.7197 - accuracy: 0.3330\n",
            "Epoch 45/300\n",
            "32/32 [==============================] - 0s 2ms/step - loss: 0.7174 - accuracy: 0.3300\n",
            "Epoch 46/300\n",
            "32/32 [==============================] - 0s 2ms/step - loss: 0.7157 - accuracy: 0.3270\n",
            "Epoch 47/300\n",
            "32/32 [==============================] - 0s 2ms/step - loss: 0.7146 - accuracy: 0.3260\n",
            "Epoch 48/300\n",
            "32/32 [==============================] - 0s 2ms/step - loss: 0.7128 - accuracy: 0.3200\n",
            "Epoch 49/300\n",
            "32/32 [==============================] - 0s 2ms/step - loss: 0.7113 - accuracy: 0.3120\n",
            "Epoch 50/300\n",
            "32/32 [==============================] - 0s 2ms/step - loss: 0.7099 - accuracy: 0.3100\n",
            "Epoch 51/300\n",
            "32/32 [==============================] - 0s 2ms/step - loss: 0.7086 - accuracy: 0.3060\n",
            "Epoch 52/300\n",
            "32/32 [==============================] - 0s 2ms/step - loss: 0.7074 - accuracy: 0.3060\n",
            "Epoch 53/300\n",
            "32/32 [==============================] - 0s 2ms/step - loss: 0.7061 - accuracy: 0.3010\n",
            "Epoch 54/300\n",
            "32/32 [==============================] - 0s 2ms/step - loss: 0.7048 - accuracy: 0.2950\n",
            "Epoch 55/300\n",
            "32/32 [==============================] - 0s 2ms/step - loss: 0.7038 - accuracy: 0.2970\n",
            "Epoch 56/300\n",
            "32/32 [==============================] - 0s 2ms/step - loss: 0.7025 - accuracy: 0.2930\n",
            "Epoch 57/300\n",
            "32/32 [==============================] - 0s 2ms/step - loss: 0.7014 - accuracy: 0.2860\n",
            "Epoch 58/300\n",
            "32/32 [==============================] - 0s 2ms/step - loss: 0.7003 - accuracy: 0.2860\n",
            "Epoch 59/300\n",
            "32/32 [==============================] - 0s 2ms/step - loss: 0.6994 - accuracy: 0.2870\n",
            "Epoch 60/300\n",
            "32/32 [==============================] - 0s 2ms/step - loss: 0.6979 - accuracy: 0.2820\n",
            "Epoch 61/300\n",
            "32/32 [==============================] - 0s 2ms/step - loss: 0.6969 - accuracy: 0.2760\n",
            "Epoch 62/300\n",
            "32/32 [==============================] - 0s 2ms/step - loss: 0.6958 - accuracy: 0.2770\n",
            "Epoch 63/300\n",
            "32/32 [==============================] - 0s 2ms/step - loss: 0.6946 - accuracy: 0.2770\n",
            "Epoch 64/300\n",
            "32/32 [==============================] - 0s 2ms/step - loss: 0.6935 - accuracy: 0.2760\n",
            "Epoch 65/300\n",
            "32/32 [==============================] - 0s 2ms/step - loss: 0.6923 - accuracy: 0.2760\n",
            "Epoch 66/300\n",
            "32/32 [==============================] - 0s 2ms/step - loss: 0.6911 - accuracy: 0.2760\n",
            "Epoch 67/300\n",
            "32/32 [==============================] - 0s 2ms/step - loss: 0.6899 - accuracy: 0.2740\n",
            "Epoch 68/300\n",
            "32/32 [==============================] - 0s 2ms/step - loss: 0.6886 - accuracy: 0.2730\n",
            "Epoch 69/300\n",
            "32/32 [==============================] - 0s 3ms/step - loss: 0.6875 - accuracy: 0.2760\n",
            "Epoch 70/300\n",
            "32/32 [==============================] - 0s 2ms/step - loss: 0.6862 - accuracy: 0.2740\n",
            "Epoch 71/300\n",
            "32/32 [==============================] - 0s 2ms/step - loss: 0.6849 - accuracy: 0.2720\n",
            "Epoch 72/300\n",
            "32/32 [==============================] - 0s 2ms/step - loss: 0.6836 - accuracy: 0.2720\n",
            "Epoch 73/300\n",
            "32/32 [==============================] - 0s 2ms/step - loss: 0.6823 - accuracy: 0.2730\n",
            "Epoch 74/300\n",
            "32/32 [==============================] - 0s 2ms/step - loss: 0.6808 - accuracy: 0.2680\n",
            "Epoch 75/300\n",
            "32/32 [==============================] - 0s 2ms/step - loss: 0.6795 - accuracy: 0.2680\n",
            "Epoch 76/300\n",
            "32/32 [==============================] - 0s 2ms/step - loss: 0.6781 - accuracy: 0.2530\n",
            "Epoch 77/300\n",
            "32/32 [==============================] - 0s 2ms/step - loss: 0.6767 - accuracy: 0.2660\n",
            "Epoch 78/300\n",
            "32/32 [==============================] - 0s 3ms/step - loss: 0.6752 - accuracy: 0.2520\n",
            "Epoch 79/300\n",
            "32/32 [==============================] - 0s 2ms/step - loss: 0.6738 - accuracy: 0.2550\n",
            "Epoch 80/300\n",
            "32/32 [==============================] - 0s 2ms/step - loss: 0.6724 - accuracy: 0.2630\n",
            "Epoch 81/300\n",
            "32/32 [==============================] - 0s 2ms/step - loss: 0.6712 - accuracy: 0.2600\n",
            "Epoch 82/300\n",
            "32/32 [==============================] - 0s 2ms/step - loss: 0.6699 - accuracy: 0.2400\n",
            "Epoch 83/300\n",
            "32/32 [==============================] - 0s 2ms/step - loss: 0.6684 - accuracy: 0.2340\n",
            "Epoch 84/300\n",
            "32/32 [==============================] - 0s 2ms/step - loss: 0.6668 - accuracy: 0.2490\n",
            "Epoch 85/300\n",
            "32/32 [==============================] - 0s 2ms/step - loss: 0.6656 - accuracy: 0.2340\n",
            "Epoch 86/300\n",
            "32/32 [==============================] - 0s 2ms/step - loss: 0.6645 - accuracy: 0.2360\n",
            "Epoch 87/300\n",
            "32/32 [==============================] - 0s 2ms/step - loss: 0.6622 - accuracy: 0.2250\n",
            "Epoch 88/300\n",
            "32/32 [==============================] - 0s 2ms/step - loss: 0.6607 - accuracy: 0.2060\n",
            "Epoch 89/300\n",
            "32/32 [==============================] - 0s 2ms/step - loss: 0.6592 - accuracy: 0.2010\n",
            "Epoch 90/300\n",
            "32/32 [==============================] - 0s 2ms/step - loss: 0.6578 - accuracy: 0.1810\n",
            "Epoch 91/300\n",
            "32/32 [==============================] - 0s 2ms/step - loss: 0.6552 - accuracy: 0.2000\n",
            "Epoch 92/300\n",
            "32/32 [==============================] - 0s 2ms/step - loss: 0.6537 - accuracy: 0.2210\n",
            "Epoch 93/300\n",
            "32/32 [==============================] - 0s 2ms/step - loss: 0.6524 - accuracy: 0.1730\n",
            "Epoch 94/300\n",
            "32/32 [==============================] - 0s 2ms/step - loss: 0.6494 - accuracy: 0.2010\n",
            "Epoch 95/300\n",
            "32/32 [==============================] - 0s 2ms/step - loss: 0.6471 - accuracy: 0.1960\n",
            "Epoch 96/300\n",
            "32/32 [==============================] - 0s 2ms/step - loss: 0.6446 - accuracy: 0.2030\n",
            "Epoch 97/300\n",
            "32/32 [==============================] - 0s 2ms/step - loss: 0.6416 - accuracy: 0.1930\n",
            "Epoch 98/300\n",
            "32/32 [==============================] - 0s 2ms/step - loss: 0.6360 - accuracy: 0.1920\n",
            "Epoch 99/300\n",
            "32/32 [==============================] - 0s 2ms/step - loss: 0.6281 - accuracy: 0.2600\n",
            "Epoch 100/300\n",
            "32/32 [==============================] - 0s 2ms/step - loss: 0.6235 - accuracy: 0.2020\n",
            "Epoch 101/300\n",
            "32/32 [==============================] - 0s 2ms/step - loss: 0.6187 - accuracy: 0.2040\n",
            "Epoch 102/300\n",
            "32/32 [==============================] - 0s 2ms/step - loss: 0.6135 - accuracy: 0.2790\n",
            "Epoch 103/300\n",
            "32/32 [==============================] - 0s 2ms/step - loss: 0.6083 - accuracy: 0.2750\n",
            "Epoch 104/300\n",
            "32/32 [==============================] - 0s 2ms/step - loss: 0.6030 - accuracy: 0.2580\n",
            "Epoch 105/300\n",
            "32/32 [==============================] - 0s 2ms/step - loss: 0.5981 - accuracy: 0.3110\n",
            "Epoch 106/300\n",
            "32/32 [==============================] - 0s 2ms/step - loss: 0.5915 - accuracy: 0.2970\n",
            "Epoch 107/300\n",
            "32/32 [==============================] - 0s 2ms/step - loss: 0.5858 - accuracy: 0.2660\n",
            "Epoch 108/300\n",
            "32/32 [==============================] - 0s 2ms/step - loss: 0.5794 - accuracy: 0.3540\n",
            "Epoch 109/300\n",
            "32/32 [==============================] - 0s 2ms/step - loss: 0.5722 - accuracy: 0.3330\n",
            "Epoch 110/300\n",
            "32/32 [==============================] - 0s 2ms/step - loss: 0.5660 - accuracy: 0.3390\n",
            "Epoch 111/300\n",
            "32/32 [==============================] - 0s 2ms/step - loss: 0.5589 - accuracy: 0.3710\n",
            "Epoch 112/300\n",
            "32/32 [==============================] - 0s 2ms/step - loss: 0.5526 - accuracy: 0.3470\n",
            "Epoch 113/300\n",
            "32/32 [==============================] - 0s 2ms/step - loss: 0.5435 - accuracy: 0.3980\n",
            "Epoch 114/300\n",
            "32/32 [==============================] - 0s 2ms/step - loss: 0.5363 - accuracy: 0.4110\n",
            "Epoch 115/300\n",
            "32/32 [==============================] - 0s 3ms/step - loss: 0.5284 - accuracy: 0.4190\n",
            "Epoch 116/300\n",
            "32/32 [==============================] - 0s 3ms/step - loss: 0.5201 - accuracy: 0.4210\n",
            "Epoch 117/300\n",
            "32/32 [==============================] - 0s 3ms/step - loss: 0.5131 - accuracy: 0.4510\n",
            "Epoch 118/300\n",
            "32/32 [==============================] - 0s 3ms/step - loss: 0.5047 - accuracy: 0.4290\n",
            "Epoch 119/300\n",
            "32/32 [==============================] - 0s 3ms/step - loss: 0.4955 - accuracy: 0.4670\n",
            "Epoch 120/300\n",
            "32/32 [==============================] - 0s 3ms/step - loss: 0.4870 - accuracy: 0.4650\n",
            "Epoch 121/300\n",
            "32/32 [==============================] - 0s 3ms/step - loss: 0.4784 - accuracy: 0.4490\n",
            "Epoch 122/300\n",
            "32/32 [==============================] - 0s 3ms/step - loss: 0.4690 - accuracy: 0.4860\n",
            "Epoch 123/300\n",
            "32/32 [==============================] - 0s 3ms/step - loss: 0.4598 - accuracy: 0.4890\n",
            "Epoch 124/300\n",
            "32/32 [==============================] - 0s 3ms/step - loss: 0.4508 - accuracy: 0.5260\n",
            "Epoch 125/300\n",
            "32/32 [==============================] - 0s 3ms/step - loss: 0.4422 - accuracy: 0.5410\n",
            "Epoch 126/300\n",
            "32/32 [==============================] - 0s 3ms/step - loss: 0.4324 - accuracy: 0.5550\n",
            "Epoch 127/300\n",
            "32/32 [==============================] - 0s 3ms/step - loss: 0.4227 - accuracy: 0.5540\n",
            "Epoch 128/300\n",
            "32/32 [==============================] - 0s 3ms/step - loss: 0.4149 - accuracy: 0.5690\n",
            "Epoch 129/300\n",
            "32/32 [==============================] - 0s 3ms/step - loss: 0.4038 - accuracy: 0.5870\n",
            "Epoch 130/300\n",
            "32/32 [==============================] - 0s 3ms/step - loss: 0.3956 - accuracy: 0.5960\n",
            "Epoch 131/300\n",
            "32/32 [==============================] - 0s 3ms/step - loss: 0.3866 - accuracy: 0.6120\n",
            "Epoch 132/300\n",
            "32/32 [==============================] - 0s 3ms/step - loss: 0.3761 - accuracy: 0.6340\n",
            "Epoch 133/300\n",
            "32/32 [==============================] - 0s 3ms/step - loss: 0.3664 - accuracy: 0.6530\n",
            "Epoch 134/300\n",
            "32/32 [==============================] - 0s 3ms/step - loss: 0.3571 - accuracy: 0.6600\n",
            "Epoch 135/300\n",
            "32/32 [==============================] - 0s 3ms/step - loss: 0.3473 - accuracy: 0.6900\n",
            "Epoch 136/300\n",
            "32/32 [==============================] - 0s 3ms/step - loss: 0.3382 - accuracy: 0.7020\n",
            "Epoch 137/300\n",
            "32/32 [==============================] - 0s 3ms/step - loss: 0.3288 - accuracy: 0.7140\n",
            "Epoch 138/300\n",
            "32/32 [==============================] - 0s 3ms/step - loss: 0.3191 - accuracy: 0.7040\n",
            "Epoch 139/300\n",
            "32/32 [==============================] - 0s 3ms/step - loss: 0.3071 - accuracy: 0.7400\n",
            "Epoch 140/300\n",
            "32/32 [==============================] - 0s 4ms/step - loss: 0.2977 - accuracy: 0.7420\n",
            "Epoch 141/300\n",
            "32/32 [==============================] - 0s 4ms/step - loss: 0.2875 - accuracy: 0.7740\n",
            "Epoch 142/300\n",
            "32/32 [==============================] - 0s 3ms/step - loss: 0.2771 - accuracy: 0.7900\n",
            "Epoch 143/300\n",
            "32/32 [==============================] - 0s 3ms/step - loss: 0.2687 - accuracy: 0.8130\n",
            "Epoch 144/300\n",
            "32/32 [==============================] - 0s 3ms/step - loss: 0.2591 - accuracy: 0.8210\n",
            "Epoch 145/300\n",
            "32/32 [==============================] - 0s 4ms/step - loss: 0.2481 - accuracy: 0.8290\n",
            "Epoch 146/300\n",
            "32/32 [==============================] - 0s 2ms/step - loss: 0.2386 - accuracy: 0.8520\n",
            "Epoch 147/300\n",
            "32/32 [==============================] - 0s 2ms/step - loss: 0.2301 - accuracy: 0.8520\n",
            "Epoch 148/300\n",
            "32/32 [==============================] - 0s 2ms/step - loss: 0.2216 - accuracy: 0.8640\n",
            "Epoch 149/300\n",
            "32/32 [==============================] - 0s 2ms/step - loss: 0.2124 - accuracy: 0.8740\n",
            "Epoch 150/300\n",
            "32/32 [==============================] - 0s 2ms/step - loss: 0.2059 - accuracy: 0.8700\n",
            "Epoch 151/300\n",
            "32/32 [==============================] - 0s 2ms/step - loss: 0.1968 - accuracy: 0.8860\n",
            "Epoch 152/300\n",
            "32/32 [==============================] - 0s 2ms/step - loss: 0.1895 - accuracy: 0.8910\n",
            "Epoch 153/300\n",
            "32/32 [==============================] - 0s 2ms/step - loss: 0.1827 - accuracy: 0.9060\n",
            "Epoch 154/300\n",
            "32/32 [==============================] - 0s 2ms/step - loss: 0.1757 - accuracy: 0.9070\n",
            "Epoch 155/300\n",
            "32/32 [==============================] - 0s 2ms/step - loss: 0.1696 - accuracy: 0.9200\n",
            "Epoch 156/300\n",
            "32/32 [==============================] - 0s 2ms/step - loss: 0.1624 - accuracy: 0.9190\n",
            "Epoch 157/300\n",
            "32/32 [==============================] - 0s 2ms/step - loss: 0.1567 - accuracy: 0.9160\n",
            "Epoch 158/300\n",
            "32/32 [==============================] - 0s 2ms/step - loss: 0.1505 - accuracy: 0.9220\n",
            "Epoch 159/300\n",
            "32/32 [==============================] - 0s 2ms/step - loss: 0.1455 - accuracy: 0.9220\n",
            "Epoch 160/300\n",
            "32/32 [==============================] - 0s 2ms/step - loss: 0.1412 - accuracy: 0.9170\n",
            "Epoch 161/300\n",
            "32/32 [==============================] - 0s 2ms/step - loss: 0.1360 - accuracy: 0.9280\n",
            "Epoch 162/300\n",
            "32/32 [==============================] - 0s 2ms/step - loss: 0.1311 - accuracy: 0.9310\n",
            "Epoch 163/300\n",
            "32/32 [==============================] - 0s 3ms/step - loss: 0.1264 - accuracy: 0.9260\n",
            "Epoch 164/300\n",
            "32/32 [==============================] - 0s 2ms/step - loss: 0.1222 - accuracy: 0.9300\n",
            "Epoch 165/300\n",
            "32/32 [==============================] - 0s 2ms/step - loss: 0.1188 - accuracy: 0.9340\n",
            "Epoch 166/300\n",
            "32/32 [==============================] - 0s 2ms/step - loss: 0.1163 - accuracy: 0.9220\n",
            "Epoch 167/300\n",
            "32/32 [==============================] - 0s 2ms/step - loss: 0.1120 - accuracy: 0.9260\n",
            "Epoch 168/300\n",
            "32/32 [==============================] - 0s 2ms/step - loss: 0.1090 - accuracy: 0.9280\n",
            "Epoch 169/300\n",
            "32/32 [==============================] - 0s 2ms/step - loss: 0.1055 - accuracy: 0.9310\n",
            "Epoch 170/300\n",
            "32/32 [==============================] - 0s 2ms/step - loss: 0.1024 - accuracy: 0.9320\n",
            "Epoch 171/300\n",
            "32/32 [==============================] - 0s 2ms/step - loss: 0.0997 - accuracy: 0.9240\n",
            "Epoch 172/300\n",
            "32/32 [==============================] - 0s 2ms/step - loss: 0.0976 - accuracy: 0.9320\n",
            "Epoch 173/300\n",
            "32/32 [==============================] - 0s 2ms/step - loss: 0.0947 - accuracy: 0.9290\n",
            "Epoch 174/300\n",
            "32/32 [==============================] - 0s 2ms/step - loss: 0.0923 - accuracy: 0.9320\n",
            "Epoch 175/300\n",
            "32/32 [==============================] - 0s 2ms/step - loss: 0.0910 - accuracy: 0.9250\n",
            "Epoch 176/300\n",
            "32/32 [==============================] - 0s 2ms/step - loss: 0.0881 - accuracy: 0.9250\n",
            "Epoch 177/300\n",
            "32/32 [==============================] - 0s 2ms/step - loss: 0.0851 - accuracy: 0.9290\n",
            "Epoch 178/300\n",
            "32/32 [==============================] - 0s 2ms/step - loss: 0.0838 - accuracy: 0.9280\n",
            "Epoch 179/300\n",
            "32/32 [==============================] - 0s 2ms/step - loss: 0.0821 - accuracy: 0.9250\n",
            "Epoch 180/300\n",
            "32/32 [==============================] - 0s 2ms/step - loss: 0.0791 - accuracy: 0.9270\n",
            "Epoch 181/300\n",
            "32/32 [==============================] - 0s 2ms/step - loss: 0.0758 - accuracy: 0.9240\n",
            "Epoch 182/300\n",
            "32/32 [==============================] - 0s 2ms/step - loss: 0.0747 - accuracy: 0.9200\n",
            "Epoch 183/300\n",
            "32/32 [==============================] - 0s 2ms/step - loss: 0.0733 - accuracy: 0.9230\n",
            "Epoch 184/300\n",
            "32/32 [==============================] - 0s 2ms/step - loss: 0.0707 - accuracy: 0.9240\n",
            "Epoch 185/300\n",
            "32/32 [==============================] - 0s 2ms/step - loss: 0.0700 - accuracy: 0.9270\n",
            "Epoch 186/300\n",
            "32/32 [==============================] - 0s 2ms/step - loss: 0.0683 - accuracy: 0.9260\n",
            "Epoch 187/300\n",
            "32/32 [==============================] - 0s 2ms/step - loss: 0.0662 - accuracy: 0.9270\n",
            "Epoch 188/300\n",
            "32/32 [==============================] - 0s 2ms/step - loss: 0.0649 - accuracy: 0.9230\n",
            "Epoch 189/300\n",
            "32/32 [==============================] - 0s 3ms/step - loss: 0.0630 - accuracy: 0.9230\n",
            "Epoch 190/300\n",
            "32/32 [==============================] - 0s 2ms/step - loss: 0.0619 - accuracy: 0.9210\n",
            "Epoch 191/300\n",
            "32/32 [==============================] - 0s 2ms/step - loss: 0.0603 - accuracy: 0.9200\n",
            "Epoch 192/300\n",
            "32/32 [==============================] - 0s 2ms/step - loss: 0.0598 - accuracy: 0.9220\n",
            "Epoch 193/300\n",
            "32/32 [==============================] - 0s 2ms/step - loss: 0.0580 - accuracy: 0.9220\n",
            "Epoch 194/300\n",
            "32/32 [==============================] - 0s 2ms/step - loss: 0.0567 - accuracy: 0.9240\n",
            "Epoch 195/300\n",
            "32/32 [==============================] - 0s 2ms/step - loss: 0.0556 - accuracy: 0.9250\n",
            "Epoch 196/300\n",
            "32/32 [==============================] - 0s 2ms/step - loss: 0.0544 - accuracy: 0.9260\n",
            "Epoch 197/300\n",
            "32/32 [==============================] - 0s 2ms/step - loss: 0.0540 - accuracy: 0.9280\n",
            "Epoch 198/300\n",
            "32/32 [==============================] - 0s 2ms/step - loss: 0.0530 - accuracy: 0.9280\n",
            "Epoch 199/300\n",
            "32/32 [==============================] - 0s 2ms/step - loss: 0.0519 - accuracy: 0.9300\n",
            "Epoch 200/300\n",
            "32/32 [==============================] - 0s 2ms/step - loss: 0.0511 - accuracy: 0.9320\n",
            "Epoch 201/300\n",
            "32/32 [==============================] - 0s 2ms/step - loss: 0.0507 - accuracy: 0.9320\n",
            "Epoch 202/300\n",
            "32/32 [==============================] - 0s 3ms/step - loss: 0.0488 - accuracy: 0.9340\n",
            "Epoch 203/300\n",
            "32/32 [==============================] - 0s 2ms/step - loss: 0.0482 - accuracy: 0.9320\n",
            "Epoch 204/300\n",
            "32/32 [==============================] - 0s 2ms/step - loss: 0.0474 - accuracy: 0.9330\n",
            "Epoch 205/300\n",
            "32/32 [==============================] - 0s 2ms/step - loss: 0.0465 - accuracy: 0.9350\n",
            "Epoch 206/300\n",
            "32/32 [==============================] - 0s 2ms/step - loss: 0.0466 - accuracy: 0.9340\n",
            "Epoch 207/300\n",
            "32/32 [==============================] - 0s 2ms/step - loss: 0.0450 - accuracy: 0.9310\n",
            "Epoch 208/300\n",
            "32/32 [==============================] - 0s 2ms/step - loss: 0.0442 - accuracy: 0.9380\n",
            "Epoch 209/300\n",
            "32/32 [==============================] - 0s 2ms/step - loss: 0.0433 - accuracy: 0.9390\n",
            "Epoch 210/300\n",
            "32/32 [==============================] - 0s 2ms/step - loss: 0.0425 - accuracy: 0.9360\n",
            "Epoch 211/300\n",
            "32/32 [==============================] - 0s 2ms/step - loss: 0.0423 - accuracy: 0.9400\n",
            "Epoch 212/300\n",
            "32/32 [==============================] - 0s 2ms/step - loss: 0.0409 - accuracy: 0.9430\n",
            "Epoch 213/300\n",
            "32/32 [==============================] - 0s 2ms/step - loss: 0.0404 - accuracy: 0.9450\n",
            "Epoch 214/300\n",
            "32/32 [==============================] - 0s 2ms/step - loss: 0.0400 - accuracy: 0.9470\n",
            "Epoch 215/300\n",
            "32/32 [==============================] - 0s 2ms/step - loss: 0.0390 - accuracy: 0.9520\n",
            "Epoch 216/300\n",
            "32/32 [==============================] - 0s 2ms/step - loss: 0.0393 - accuracy: 0.9480\n",
            "Epoch 217/300\n",
            "32/32 [==============================] - 0s 2ms/step - loss: 0.0385 - accuracy: 0.9470\n",
            "Epoch 218/300\n",
            "32/32 [==============================] - 0s 2ms/step - loss: 0.0375 - accuracy: 0.9460\n",
            "Epoch 219/300\n",
            "32/32 [==============================] - 0s 2ms/step - loss: 0.0367 - accuracy: 0.9530\n",
            "Epoch 220/300\n",
            "32/32 [==============================] - 0s 2ms/step - loss: 0.0367 - accuracy: 0.9510\n",
            "Epoch 221/300\n",
            "32/32 [==============================] - 0s 2ms/step - loss: 0.0361 - accuracy: 0.9530\n",
            "Epoch 222/300\n",
            "32/32 [==============================] - 0s 2ms/step - loss: 0.0358 - accuracy: 0.9490\n",
            "Epoch 223/300\n",
            "32/32 [==============================] - 0s 2ms/step - loss: 0.0358 - accuracy: 0.9520\n",
            "Epoch 224/300\n",
            "32/32 [==============================] - 0s 2ms/step - loss: 0.0359 - accuracy: 0.9470\n",
            "Epoch 225/300\n",
            "32/32 [==============================] - 0s 2ms/step - loss: 0.0339 - accuracy: 0.9520\n",
            "Epoch 226/300\n",
            "32/32 [==============================] - 0s 2ms/step - loss: 0.0342 - accuracy: 0.9550\n",
            "Epoch 227/300\n",
            "32/32 [==============================] - 0s 2ms/step - loss: 0.0327 - accuracy: 0.9530\n",
            "Epoch 228/300\n",
            "32/32 [==============================] - 0s 2ms/step - loss: 0.0326 - accuracy: 0.9520\n",
            "Epoch 229/300\n",
            "32/32 [==============================] - 0s 2ms/step - loss: 0.0325 - accuracy: 0.9510\n",
            "Epoch 230/300\n",
            "32/32 [==============================] - 0s 2ms/step - loss: 0.0314 - accuracy: 0.9520\n",
            "Epoch 231/300\n",
            "32/32 [==============================] - 0s 2ms/step - loss: 0.0313 - accuracy: 0.9480\n",
            "Epoch 232/300\n",
            "32/32 [==============================] - 0s 2ms/step - loss: 0.0313 - accuracy: 0.9530\n",
            "Epoch 233/300\n",
            "32/32 [==============================] - 0s 2ms/step - loss: 0.0306 - accuracy: 0.9530\n",
            "Epoch 234/300\n",
            "32/32 [==============================] - 0s 2ms/step - loss: 0.0309 - accuracy: 0.9530\n",
            "Epoch 235/300\n",
            "32/32 [==============================] - 0s 2ms/step - loss: 0.0299 - accuracy: 0.9570\n",
            "Epoch 236/300\n",
            "32/32 [==============================] - 0s 2ms/step - loss: 0.0295 - accuracy: 0.9540\n",
            "Epoch 237/300\n",
            "32/32 [==============================] - 0s 2ms/step - loss: 0.0291 - accuracy: 0.9560\n",
            "Epoch 238/300\n",
            "32/32 [==============================] - 0s 2ms/step - loss: 0.0289 - accuracy: 0.9600\n",
            "Epoch 239/300\n",
            "32/32 [==============================] - 0s 2ms/step - loss: 0.0285 - accuracy: 0.9540\n",
            "Epoch 240/300\n",
            "32/32 [==============================] - 0s 3ms/step - loss: 0.0282 - accuracy: 0.9570\n",
            "Epoch 241/300\n",
            "32/32 [==============================] - 0s 2ms/step - loss: 0.0281 - accuracy: 0.9600\n",
            "Epoch 242/300\n",
            "32/32 [==============================] - 0s 2ms/step - loss: 0.0273 - accuracy: 0.9580\n",
            "Epoch 243/300\n",
            "32/32 [==============================] - 0s 2ms/step - loss: 0.0272 - accuracy: 0.9530\n",
            "Epoch 244/300\n",
            "32/32 [==============================] - 0s 3ms/step - loss: 0.0267 - accuracy: 0.9580\n",
            "Epoch 245/300\n",
            "32/32 [==============================] - 0s 3ms/step - loss: 0.0268 - accuracy: 0.9610\n",
            "Epoch 246/300\n",
            "32/32 [==============================] - 0s 2ms/step - loss: 0.0265 - accuracy: 0.9630\n",
            "Epoch 247/300\n",
            "32/32 [==============================] - 0s 2ms/step - loss: 0.0256 - accuracy: 0.9560\n",
            "Epoch 248/300\n",
            "32/32 [==============================] - 0s 2ms/step - loss: 0.0254 - accuracy: 0.9610\n",
            "Epoch 249/300\n",
            "32/32 [==============================] - 0s 2ms/step - loss: 0.0251 - accuracy: 0.9610\n",
            "Epoch 250/300\n",
            "32/32 [==============================] - 0s 2ms/step - loss: 0.0253 - accuracy: 0.9620\n",
            "Epoch 251/300\n",
            "32/32 [==============================] - 0s 2ms/step - loss: 0.0252 - accuracy: 0.9660\n",
            "Epoch 252/300\n",
            "32/32 [==============================] - 0s 3ms/step - loss: 0.0247 - accuracy: 0.9580\n",
            "Epoch 253/300\n",
            "32/32 [==============================] - 0s 2ms/step - loss: 0.0241 - accuracy: 0.9660\n",
            "Epoch 254/300\n",
            "32/32 [==============================] - 0s 2ms/step - loss: 0.0240 - accuracy: 0.9640\n",
            "Epoch 255/300\n",
            "32/32 [==============================] - 0s 2ms/step - loss: 0.0237 - accuracy: 0.9560\n",
            "Epoch 256/300\n",
            "32/32 [==============================] - 0s 2ms/step - loss: 0.0235 - accuracy: 0.9630\n",
            "Epoch 257/300\n",
            "32/32 [==============================] - 0s 2ms/step - loss: 0.0237 - accuracy: 0.9640\n",
            "Epoch 258/300\n",
            "32/32 [==============================] - 0s 2ms/step - loss: 0.0228 - accuracy: 0.9620\n",
            "Epoch 259/300\n",
            "32/32 [==============================] - 0s 2ms/step - loss: 0.0228 - accuracy: 0.9690\n",
            "Epoch 260/300\n",
            "32/32 [==============================] - 0s 3ms/step - loss: 0.0221 - accuracy: 0.9650\n",
            "Epoch 261/300\n",
            "32/32 [==============================] - 0s 2ms/step - loss: 0.0218 - accuracy: 0.9680\n",
            "Epoch 262/300\n",
            "32/32 [==============================] - 0s 2ms/step - loss: 0.0217 - accuracy: 0.9680\n",
            "Epoch 263/300\n",
            "32/32 [==============================] - 0s 3ms/step - loss: 0.0214 - accuracy: 0.9650\n",
            "Epoch 264/300\n",
            "32/32 [==============================] - 0s 6ms/step - loss: 0.0214 - accuracy: 0.9660\n",
            "Epoch 265/300\n",
            "32/32 [==============================] - 0s 5ms/step - loss: 0.0215 - accuracy: 0.9660\n",
            "Epoch 266/300\n",
            "32/32 [==============================] - 0s 6ms/step - loss: 0.0212 - accuracy: 0.9710\n",
            "Epoch 267/300\n",
            "32/32 [==============================] - 0s 6ms/step - loss: 0.0213 - accuracy: 0.9650\n",
            "Epoch 268/300\n",
            "32/32 [==============================] - 0s 4ms/step - loss: 0.0208 - accuracy: 0.9690\n",
            "Epoch 269/300\n",
            "32/32 [==============================] - 0s 5ms/step - loss: 0.0213 - accuracy: 0.9710\n",
            "Epoch 270/300\n",
            "32/32 [==============================] - 0s 6ms/step - loss: 0.0203 - accuracy: 0.9720\n",
            "Epoch 271/300\n",
            "32/32 [==============================] - 0s 6ms/step - loss: 0.0199 - accuracy: 0.9770\n",
            "Epoch 272/300\n",
            "32/32 [==============================] - 0s 9ms/step - loss: 0.0197 - accuracy: 0.9780\n",
            "Epoch 273/300\n",
            "32/32 [==============================] - 0s 8ms/step - loss: 0.0199 - accuracy: 0.9730\n",
            "Epoch 274/300\n",
            "32/32 [==============================] - 0s 7ms/step - loss: 0.0191 - accuracy: 0.9790\n",
            "Epoch 275/300\n",
            "32/32 [==============================] - 0s 4ms/step - loss: 0.0194 - accuracy: 0.9710\n",
            "Epoch 276/300\n",
            "32/32 [==============================] - 0s 4ms/step - loss: 0.0203 - accuracy: 0.9710\n",
            "Epoch 277/300\n",
            "32/32 [==============================] - 0s 10ms/step - loss: 0.0202 - accuracy: 0.9700\n",
            "Epoch 278/300\n",
            "32/32 [==============================] - 0s 8ms/step - loss: 0.0184 - accuracy: 0.9700\n",
            "Epoch 279/300\n",
            "32/32 [==============================] - 0s 9ms/step - loss: 0.0186 - accuracy: 0.9740\n",
            "Epoch 280/300\n",
            "32/32 [==============================] - 0s 8ms/step - loss: 0.0183 - accuracy: 0.9700\n",
            "Epoch 281/300\n",
            "32/32 [==============================] - 0s 7ms/step - loss: 0.0182 - accuracy: 0.9800\n",
            "Epoch 282/300\n",
            "32/32 [==============================] - 0s 5ms/step - loss: 0.0183 - accuracy: 0.9780\n",
            "Epoch 283/300\n",
            "32/32 [==============================] - 0s 8ms/step - loss: 0.0176 - accuracy: 0.9760\n",
            "Epoch 284/300\n",
            "32/32 [==============================] - 0s 4ms/step - loss: 0.0177 - accuracy: 0.9750\n",
            "Epoch 285/300\n",
            "32/32 [==============================] - 0s 4ms/step - loss: 0.0175 - accuracy: 0.9810\n",
            "Epoch 286/300\n",
            "32/32 [==============================] - 0s 6ms/step - loss: 0.0175 - accuracy: 0.9820\n",
            "Epoch 287/300\n",
            "32/32 [==============================] - 0s 3ms/step - loss: 0.0182 - accuracy: 0.9750\n",
            "Epoch 288/300\n",
            "32/32 [==============================] - 0s 2ms/step - loss: 0.0170 - accuracy: 0.9770\n",
            "Epoch 289/300\n",
            "32/32 [==============================] - 0s 3ms/step - loss: 0.0170 - accuracy: 0.9760\n",
            "Epoch 290/300\n",
            "32/32 [==============================] - 0s 3ms/step - loss: 0.0181 - accuracy: 0.9760\n",
            "Epoch 291/300\n",
            "32/32 [==============================] - 0s 2ms/step - loss: 0.0166 - accuracy: 0.9800\n",
            "Epoch 292/300\n",
            "32/32 [==============================] - 0s 2ms/step - loss: 0.0178 - accuracy: 0.9790\n",
            "Epoch 293/300\n",
            "32/32 [==============================] - 0s 2ms/step - loss: 0.0167 - accuracy: 0.9800\n",
            "Epoch 294/300\n",
            "32/32 [==============================] - 0s 6ms/step - loss: 0.0165 - accuracy: 0.9750\n",
            "Epoch 295/300\n",
            "32/32 [==============================] - 0s 3ms/step - loss: 0.0162 - accuracy: 0.9720\n",
            "Epoch 296/300\n",
            "32/32 [==============================] - 0s 2ms/step - loss: 0.0158 - accuracy: 0.9770\n",
            "Epoch 297/300\n",
            "32/32 [==============================] - 0s 2ms/step - loss: 0.0167 - accuracy: 0.9810\n",
            "Epoch 298/300\n",
            "32/32 [==============================] - 0s 3ms/step - loss: 0.0161 - accuracy: 0.9820\n",
            "Epoch 299/300\n",
            "32/32 [==============================] - 0s 2ms/step - loss: 0.0154 - accuracy: 0.9810\n",
            "Epoch 300/300\n",
            "32/32 [==============================] - 0s 2ms/step - loss: 0.0155 - accuracy: 0.9820\n"
          ]
        }
      ]
    },
    {
      "cell_type": "code",
      "source": [
        "# Check the decision boundary of model_8\n",
        "plot_decision_boundary(model = model_8, X=X, y=y)"
      ],
      "metadata": {
        "colab": {
          "base_uri": "https://localhost:8080/",
          "height": 301
        },
        "id": "KTPHH-MT4z29",
        "outputId": "c3e698f2-65d3-4eca-d703-77c0b2a08849"
      },
      "execution_count": 132,
      "outputs": [
        {
          "output_type": "stream",
          "name": "stdout",
          "text": [
            "313/313 [==============================] - 1s 2ms/step\n",
            "Doing multiclass classification\n"
          ]
        },
        {
          "output_type": "display_data",
          "data": {
            "text/plain": [
              "<Figure size 432x288 with 1 Axes>"
            ],
            "image/png": "[encoded data removed]"
          },
          "metadata": {
            "needs_background": "light"
          }
        }
      ]
    },
    {
      "cell_type": "markdown",
      "source": [
        "* Note: we have not put an activation on the output layer"
      ],
      "metadata": {
        "id": "2pz5mUiS5C_y"
      }
    },
    {
      "cell_type": "code",
      "source": [
        "tf.random.set_seed(42)\n",
        "\n",
        "model_9= tf.keras.Sequential([\n",
        "    tf.keras.layers.Dense(4, activation=\"relu\"),\n",
        "    tf.keras.layers.Dense(4, activation=\"relu\"),\n",
        "    tf.keras.layers.Dense(1, activation=\"sigmoid\") # this is the output layer. 1 output for a binary classification\n",
        "\n",
        "])\n",
        "\n",
        "model_9.compile(loss=\"binary_crossentropy\",\n",
        "                optimizer=tf.keras.optimizers.Adam(),\n",
        "                metrics=\"accuracy\")\n",
        "\n"
      ],
      "metadata": {
        "id": "d1wnvJI55PGZ"
      },
      "execution_count": null,
      "outputs": []
    },
    {
      "cell_type": "code",
      "source": [
        "model_9.fit(X,y, epochs=100)"
      ],
      "metadata": {
        "colab": {
          "base_uri": "https://localhost:8080/"
        },
        "id": "ze-zf5kLzNPO",
        "outputId": "7e7fb6ae-8c58-4277-e58c-f73317ffba4f"
      },
      "execution_count": 135,
      "outputs": [
        {
          "output_type": "stream",
          "name": "stdout",
          "text": [
            "Epoch 1/100\n",
            "32/32 [==============================] - 0s 5ms/step - loss: 0.5319 - accuracy: 0.7870\n",
            "Epoch 2/100\n",
            "32/32 [==============================] - 0s 3ms/step - loss: 0.5290 - accuracy: 0.7830\n",
            "Epoch 3/100\n",
            "32/32 [==============================] - 0s 3ms/step - loss: 0.5251 - accuracy: 0.7880\n",
            "Epoch 4/100\n",
            "32/32 [==============================] - 0s 3ms/step - loss: 0.5222 - accuracy: 0.7990\n",
            "Epoch 5/100\n",
            "32/32 [==============================] - 0s 3ms/step - loss: 0.5183 - accuracy: 0.7950\n",
            "Epoch 6/100\n",
            "32/32 [==============================] - 0s 3ms/step - loss: 0.5139 - accuracy: 0.7960\n",
            "Epoch 7/100\n",
            "32/32 [==============================] - 0s 3ms/step - loss: 0.5086 - accuracy: 0.8060\n",
            "Epoch 8/100\n",
            "32/32 [==============================] - 0s 3ms/step - loss: 0.5048 - accuracy: 0.7990\n",
            "Epoch 9/100\n",
            "32/32 [==============================] - 0s 3ms/step - loss: 0.5006 - accuracy: 0.8070\n",
            "Epoch 10/100\n",
            "32/32 [==============================] - 0s 3ms/step - loss: 0.4960 - accuracy: 0.8050\n",
            "Epoch 11/100\n",
            "32/32 [==============================] - 0s 3ms/step - loss: 0.4924 - accuracy: 0.8090\n",
            "Epoch 12/100\n",
            "32/32 [==============================] - 0s 3ms/step - loss: 0.4855 - accuracy: 0.8070\n",
            "Epoch 13/100\n",
            "32/32 [==============================] - 0s 3ms/step - loss: 0.4804 - accuracy: 0.8090\n",
            "Epoch 14/100\n",
            "32/32 [==============================] - 0s 3ms/step - loss: 0.4770 - accuracy: 0.8150\n",
            "Epoch 15/100\n",
            "32/32 [==============================] - 0s 3ms/step - loss: 0.4732 - accuracy: 0.8160\n",
            "Epoch 16/100\n",
            "32/32 [==============================] - 0s 3ms/step - loss: 0.4698 - accuracy: 0.8230\n",
            "Epoch 17/100\n",
            "32/32 [==============================] - 0s 3ms/step - loss: 0.4669 - accuracy: 0.8230\n",
            "Epoch 18/100\n",
            "32/32 [==============================] - 0s 3ms/step - loss: 0.4635 - accuracy: 0.8090\n",
            "Epoch 19/100\n",
            "32/32 [==============================] - 0s 3ms/step - loss: 0.4607 - accuracy: 0.8230\n",
            "Epoch 20/100\n",
            "32/32 [==============================] - 0s 3ms/step - loss: 0.4569 - accuracy: 0.8240\n",
            "Epoch 21/100\n",
            "32/32 [==============================] - 0s 3ms/step - loss: 0.4540 - accuracy: 0.8280\n",
            "Epoch 22/100\n",
            "32/32 [==============================] - 0s 2ms/step - loss: 0.4513 - accuracy: 0.8230\n",
            "Epoch 23/100\n",
            "32/32 [==============================] - 0s 2ms/step - loss: 0.4484 - accuracy: 0.8310\n",
            "Epoch 24/100\n",
            "32/32 [==============================] - 0s 2ms/step - loss: 0.4459 - accuracy: 0.8310\n",
            "Epoch 25/100\n",
            "32/32 [==============================] - 0s 2ms/step - loss: 0.4434 - accuracy: 0.8290\n",
            "Epoch 26/100\n",
            "32/32 [==============================] - 0s 2ms/step - loss: 0.4404 - accuracy: 0.8340\n",
            "Epoch 27/100\n",
            "32/32 [==============================] - 0s 2ms/step - loss: 0.4380 - accuracy: 0.8370\n",
            "Epoch 28/100\n",
            "32/32 [==============================] - 0s 2ms/step - loss: 0.4352 - accuracy: 0.8300\n",
            "Epoch 29/100\n",
            "32/32 [==============================] - 0s 2ms/step - loss: 0.4330 - accuracy: 0.8390\n",
            "Epoch 30/100\n",
            "32/32 [==============================] - 0s 2ms/step - loss: 0.4305 - accuracy: 0.8360\n",
            "Epoch 31/100\n",
            "32/32 [==============================] - 0s 2ms/step - loss: 0.4282 - accuracy: 0.8460\n",
            "Epoch 32/100\n",
            "32/32 [==============================] - 0s 2ms/step - loss: 0.4256 - accuracy: 0.8360\n",
            "Epoch 33/100\n",
            "32/32 [==============================] - 0s 2ms/step - loss: 0.4233 - accuracy: 0.8370\n",
            "Epoch 34/100\n",
            "32/32 [==============================] - 0s 2ms/step - loss: 0.4212 - accuracy: 0.8390\n",
            "Epoch 35/100\n",
            "32/32 [==============================] - 0s 2ms/step - loss: 0.4186 - accuracy: 0.8390\n",
            "Epoch 36/100\n",
            "32/32 [==============================] - 0s 2ms/step - loss: 0.4164 - accuracy: 0.8390\n",
            "Epoch 37/100\n",
            "32/32 [==============================] - 0s 2ms/step - loss: 0.4143 - accuracy: 0.8440\n",
            "Epoch 38/100\n",
            "32/32 [==============================] - 0s 2ms/step - loss: 0.4123 - accuracy: 0.8410\n",
            "Epoch 39/100\n",
            "32/32 [==============================] - 0s 2ms/step - loss: 0.4101 - accuracy: 0.8400\n",
            "Epoch 40/100\n",
            "32/32 [==============================] - 0s 2ms/step - loss: 0.4084 - accuracy: 0.8380\n",
            "Epoch 41/100\n",
            "32/32 [==============================] - 0s 2ms/step - loss: 0.4069 - accuracy: 0.8500\n",
            "Epoch 42/100\n",
            "32/32 [==============================] - 0s 2ms/step - loss: 0.4045 - accuracy: 0.8400\n",
            "Epoch 43/100\n",
            "32/32 [==============================] - 0s 2ms/step - loss: 0.4023 - accuracy: 0.8470\n",
            "Epoch 44/100\n",
            "32/32 [==============================] - 0s 2ms/step - loss: 0.4009 - accuracy: 0.8430\n",
            "Epoch 45/100\n",
            "32/32 [==============================] - 0s 2ms/step - loss: 0.4002 - accuracy: 0.8460\n",
            "Epoch 46/100\n",
            "32/32 [==============================] - 0s 2ms/step - loss: 0.3967 - accuracy: 0.8520\n",
            "Epoch 47/100\n",
            "32/32 [==============================] - 0s 2ms/step - loss: 0.3951 - accuracy: 0.8510\n",
            "Epoch 48/100\n",
            "32/32 [==============================] - 0s 2ms/step - loss: 0.3938 - accuracy: 0.8500\n",
            "Epoch 49/100\n",
            "32/32 [==============================] - 0s 2ms/step - loss: 0.3916 - accuracy: 0.8480\n",
            "Epoch 50/100\n",
            "32/32 [==============================] - 0s 2ms/step - loss: 0.3897 - accuracy: 0.8510\n",
            "Epoch 51/100\n",
            "32/32 [==============================] - 0s 2ms/step - loss: 0.3881 - accuracy: 0.8530\n",
            "Epoch 52/100\n",
            "32/32 [==============================] - 0s 2ms/step - loss: 0.3863 - accuracy: 0.8530\n",
            "Epoch 53/100\n",
            "32/32 [==============================] - 0s 2ms/step - loss: 0.3847 - accuracy: 0.8590\n",
            "Epoch 54/100\n",
            "32/32 [==============================] - 0s 2ms/step - loss: 0.3828 - accuracy: 0.8560\n",
            "Epoch 55/100\n",
            "32/32 [==============================] - 0s 2ms/step - loss: 0.3817 - accuracy: 0.8580\n",
            "Epoch 56/100\n",
            "32/32 [==============================] - 0s 2ms/step - loss: 0.3796 - accuracy: 0.8560\n",
            "Epoch 57/100\n",
            "32/32 [==============================] - 0s 2ms/step - loss: 0.3781 - accuracy: 0.8560\n",
            "Epoch 58/100\n",
            "32/32 [==============================] - 0s 2ms/step - loss: 0.3766 - accuracy: 0.8590\n",
            "Epoch 59/100\n",
            "32/32 [==============================] - 0s 2ms/step - loss: 0.3757 - accuracy: 0.8580\n",
            "Epoch 60/100\n",
            "32/32 [==============================] - 0s 2ms/step - loss: 0.3733 - accuracy: 0.8610\n",
            "Epoch 61/100\n",
            "32/32 [==============================] - 0s 2ms/step - loss: 0.3729 - accuracy: 0.8540\n",
            "Epoch 62/100\n",
            "32/32 [==============================] - 0s 2ms/step - loss: 0.3700 - accuracy: 0.8640\n",
            "Epoch 63/100\n",
            "32/32 [==============================] - 0s 2ms/step - loss: 0.3687 - accuracy: 0.8620\n",
            "Epoch 64/100\n",
            "32/32 [==============================] - 0s 2ms/step - loss: 0.3670 - accuracy: 0.8620\n",
            "Epoch 65/100\n",
            "32/32 [==============================] - 0s 2ms/step - loss: 0.3659 - accuracy: 0.8600\n",
            "Epoch 66/100\n",
            "32/32 [==============================] - 0s 2ms/step - loss: 0.3640 - accuracy: 0.8600\n",
            "Epoch 67/100\n",
            "32/32 [==============================] - 0s 2ms/step - loss: 0.3627 - accuracy: 0.8620\n",
            "Epoch 68/100\n",
            "32/32 [==============================] - 0s 2ms/step - loss: 0.3607 - accuracy: 0.8610\n",
            "Epoch 69/100\n",
            "32/32 [==============================] - 0s 2ms/step - loss: 0.3596 - accuracy: 0.8660\n",
            "Epoch 70/100\n",
            "32/32 [==============================] - 0s 2ms/step - loss: 0.3581 - accuracy: 0.8660\n",
            "Epoch 71/100\n",
            "32/32 [==============================] - 0s 2ms/step - loss: 0.3563 - accuracy: 0.8650\n",
            "Epoch 72/100\n",
            "32/32 [==============================] - 0s 2ms/step - loss: 0.3551 - accuracy: 0.8610\n",
            "Epoch 73/100\n",
            "32/32 [==============================] - 0s 2ms/step - loss: 0.3535 - accuracy: 0.8710\n",
            "Epoch 74/100\n",
            "32/32 [==============================] - 0s 2ms/step - loss: 0.3520 - accuracy: 0.8720\n",
            "Epoch 75/100\n",
            "32/32 [==============================] - 0s 2ms/step - loss: 0.3508 - accuracy: 0.8720\n",
            "Epoch 76/100\n",
            "32/32 [==============================] - 0s 2ms/step - loss: 0.3493 - accuracy: 0.8690\n",
            "Epoch 77/100\n",
            "32/32 [==============================] - 0s 2ms/step - loss: 0.3478 - accuracy: 0.8730\n",
            "Epoch 78/100\n",
            "32/32 [==============================] - 0s 2ms/step - loss: 0.3463 - accuracy: 0.8700\n",
            "Epoch 79/100\n",
            "32/32 [==============================] - 0s 2ms/step - loss: 0.3450 - accuracy: 0.8750\n",
            "Epoch 80/100\n",
            "32/32 [==============================] - 0s 2ms/step - loss: 0.3428 - accuracy: 0.8770\n",
            "Epoch 81/100\n",
            "32/32 [==============================] - 0s 2ms/step - loss: 0.3413 - accuracy: 0.8720\n",
            "Epoch 82/100\n",
            "32/32 [==============================] - 0s 2ms/step - loss: 0.3398 - accuracy: 0.8770\n",
            "Epoch 83/100\n",
            "32/32 [==============================] - 0s 2ms/step - loss: 0.3383 - accuracy: 0.8770\n",
            "Epoch 84/100\n",
            "32/32 [==============================] - 0s 2ms/step - loss: 0.3364 - accuracy: 0.8780\n",
            "Epoch 85/100\n",
            "32/32 [==============================] - 0s 2ms/step - loss: 0.3348 - accuracy: 0.8770\n",
            "Epoch 86/100\n",
            "32/32 [==============================] - 0s 2ms/step - loss: 0.3333 - accuracy: 0.8800\n",
            "Epoch 87/100\n",
            "32/32 [==============================] - 0s 2ms/step - loss: 0.3317 - accuracy: 0.8840\n",
            "Epoch 88/100\n",
            "32/32 [==============================] - 0s 2ms/step - loss: 0.3302 - accuracy: 0.8830\n",
            "Epoch 89/100\n",
            "32/32 [==============================] - 0s 2ms/step - loss: 0.3287 - accuracy: 0.8810\n",
            "Epoch 90/100\n",
            "32/32 [==============================] - 0s 2ms/step - loss: 0.3272 - accuracy: 0.8840\n",
            "Epoch 91/100\n",
            "32/32 [==============================] - 0s 2ms/step - loss: 0.3263 - accuracy: 0.8820\n",
            "Epoch 92/100\n",
            "32/32 [==============================] - 0s 2ms/step - loss: 0.3250 - accuracy: 0.8860\n",
            "Epoch 93/100\n",
            "32/32 [==============================] - 0s 2ms/step - loss: 0.3236 - accuracy: 0.8810\n",
            "Epoch 94/100\n",
            "32/32 [==============================] - 0s 2ms/step - loss: 0.3217 - accuracy: 0.8840\n",
            "Epoch 95/100\n",
            "32/32 [==============================] - 0s 2ms/step - loss: 0.3196 - accuracy: 0.8860\n",
            "Epoch 96/100\n",
            "32/32 [==============================] - 0s 2ms/step - loss: 0.3187 - accuracy: 0.8880\n",
            "Epoch 97/100\n",
            "32/32 [==============================] - 0s 2ms/step - loss: 0.3171 - accuracy: 0.8860\n",
            "Epoch 98/100\n",
            "32/32 [==============================] - 0s 2ms/step - loss: 0.3153 - accuracy: 0.8880\n",
            "Epoch 99/100\n",
            "32/32 [==============================] - 0s 3ms/step - loss: 0.3143 - accuracy: 0.8880\n",
            "Epoch 100/100\n",
            "32/32 [==============================] - 0s 2ms/step - loss: 0.3122 - accuracy: 0.8900\n"
          ]
        },
        {
          "output_type": "execute_result",
          "data": {
            "text/plain": [
              "<keras.callbacks.History at 0x7f323e987d60>"
            ]
          },
          "metadata": {},
          "execution_count": 135
        }
      ]
    },
    {
      "cell_type": "code",
      "source": [
        "# Check the decision boundary of model_9\n",
        "plot_decision_boundary(model = model_9, X=X, y=y)"
      ],
      "metadata": {
        "colab": {
          "base_uri": "https://localhost:8080/",
          "height": 301
        },
        "id": "cZBAXU-n6EHO",
        "outputId": "2ee462dd-7aea-4b5f-e1af-9e5af44f3c72"
      },
      "execution_count": 136,
      "outputs": [
        {
          "output_type": "stream",
          "name": "stdout",
          "text": [
            "313/313 [==============================] - 0s 1ms/step\n",
            "Doing binary classification\n"
          ]
        },
        {
          "output_type": "display_data",
          "data": {
            "text/plain": [
              "<Figure size 432x288 with 1 Axes>"
            ],
            "image/png": "[encoded data removed]"
          },
          "metadata": {
            "needs_background": "light"
          }
        }
      ]
    },
    {
      "cell_type": "markdown",
      "source": [
        "**Note**: The combination of linear and non-linear functions is how neural networks works.\n",
        " "
      ],
      "metadata": {
        "id": "mSqr64-uytlt"
      }
    },
    {
      "cell_type": "code",
      "source": [
        "# We will create a toy tensor A to explore the activation function sigmoid\n",
        "A = tf.cast(tf.range(-10,10), tf.float32)"
      ],
      "metadata": {
        "id": "o5ER49E_zj6S"
      },
      "execution_count": 137,
      "outputs": []
    },
    {
      "cell_type": "code",
      "source": [
        "A"
      ],
      "metadata": {
        "colab": {
          "base_uri": "https://localhost:8080/"
        },
        "id": "MwDRSAPAzsYv",
        "outputId": "f2a7188c-f5da-49df-b61c-9fb08a5b679f"
      },
      "execution_count": 158,
      "outputs": [
        {
          "output_type": "execute_result",
          "data": {
            "text/plain": [
              "<tf.Tensor: shape=(20,), dtype=float32, numpy=\n",
              "array([-10.,  -9.,  -8.,  -7.,  -6.,  -5.,  -4.,  -3.,  -2.,  -1.,   0.,\n",
              "         1.,   2.,   3.,   4.,   5.,   6.,   7.,   8.,   9.],\n",
              "      dtype=float32)>"
            ]
          },
          "metadata": {},
          "execution_count": 158
        }
      ]
    },
    {
      "cell_type": "code",
      "source": [
        "plt.plot(A)"
      ],
      "metadata": {
        "colab": {
          "base_uri": "https://localhost:8080/",
          "height": 283
        },
        "id": "TutY1dxHztqA",
        "outputId": "0413b95d-671f-4451-a1d2-55aa7f626c86"
      },
      "execution_count": 139,
      "outputs": [
        {
          "output_type": "execute_result",
          "data": {
            "text/plain": [
              "[<matplotlib.lines.Line2D at 0x7f323f20d5e0>]"
            ]
          },
          "metadata": {},
          "execution_count": 139
        },
        {
          "output_type": "display_data",
          "data": {
            "text/plain": [
              "<Figure size 432x288 with 1 Axes>"
            ],
            "image/png": "[encoded data removed]"
          },
          "metadata": {
            "needs_background": "light"
          }
        }
      ]
    },
    {
      "cell_type": "markdown",
      "source": [
        "### Exploring the non-linear activation function.  \n",
        "\n",
        "#### `sigmoid` \n",
        "Let's start by replicating sigmoid where sigmoid(x) = 1/(1+exp(-x))"
      ],
      "metadata": {
        "id": "KcT-dCZvzz5S"
      }
    },
    {
      "cell_type": "code",
      "source": [
        "def sigmoid(x):\n",
        "  return 1/(1+tf.exp(-x))"
      ],
      "metadata": {
        "id": "sqKzdIEG0Qml"
      },
      "execution_count": 143,
      "outputs": []
    },
    {
      "cell_type": "code",
      "source": [
        "# Use the sigmoid on our toy tensor and plot it:\n",
        "sigmoid(A)"
      ],
      "metadata": {
        "colab": {
          "base_uri": "https://localhost:8080/"
        },
        "id": "TB_HvsvZ0dCI",
        "outputId": "fc855171-a2df-458a-facd-b83a8fb0e5f9"
      },
      "execution_count": 144,
      "outputs": [
        {
          "output_type": "execute_result",
          "data": {
            "text/plain": [
              "<tf.Tensor: shape=(20,), dtype=float32, numpy=\n",
              "array([4.5397872e-05, 1.2339458e-04, 3.3535014e-04, 9.1105117e-04,\n",
              "       2.4726233e-03, 6.6928510e-03, 1.7986210e-02, 4.7425874e-02,\n",
              "       1.1920292e-01, 2.6894143e-01, 5.0000000e-01, 7.3105860e-01,\n",
              "       8.8079703e-01, 9.5257413e-01, 9.8201376e-01, 9.9330717e-01,\n",
              "       9.9752742e-01, 9.9908900e-01, 9.9966466e-01, 9.9987662e-01],\n",
              "      dtype=float32)>"
            ]
          },
          "metadata": {},
          "execution_count": 144
        }
      ]
    },
    {
      "cell_type": "code",
      "source": [
        "plt.plot(sigmoid(A))"
      ],
      "metadata": {
        "colab": {
          "base_uri": "https://localhost:8080/",
          "height": 283
        },
        "id": "9kT3YJUi0h0E",
        "outputId": "8a408d40-b11c-4bc3-a984-1aed40f44076"
      },
      "execution_count": 145,
      "outputs": [
        {
          "output_type": "execute_result",
          "data": {
            "text/plain": [
              "[<matplotlib.lines.Line2D at 0x7f323ef16a90>]"
            ]
          },
          "metadata": {},
          "execution_count": 145
        },
        {
          "output_type": "display_data",
          "data": {
            "text/plain": [
              "<Figure size 432x288 with 1 Axes>"
            ],
            "image/png": "[encoded data removed]"
          },
          "metadata": {
            "needs_background": "light"
          }
        }
      ]
    },
    {
      "cell_type": "markdown",
      "source": [
        "#### `relu` activation function"
      ],
      "metadata": {
        "id": "lV3vzNs40nuh"
      }
    },
    {
      "cell_type": "code",
      "source": [
        "def relu(x):\n",
        "  return tf.maximum(0,x)"
      ],
      "metadata": {
        "id": "JzQ8JA101RIk"
      },
      "execution_count": 151,
      "outputs": []
    },
    {
      "cell_type": "code",
      "source": [
        "relu(A)"
      ],
      "metadata": {
        "colab": {
          "base_uri": "https://localhost:8080/"
        },
        "id": "aix0cLNN1d-W",
        "outputId": "df63c275-3509-4f02-88c1-5bde7d7291e2"
      },
      "execution_count": 152,
      "outputs": [
        {
          "output_type": "execute_result",
          "data": {
            "text/plain": [
              "<tf.Tensor: shape=(20,), dtype=float32, numpy=\n",
              "array([0., 0., 0., 0., 0., 0., 0., 0., 0., 0., 0., 1., 2., 3., 4., 5., 6.,\n",
              "       7., 8., 9.], dtype=float32)>"
            ]
          },
          "metadata": {},
          "execution_count": 152
        }
      ]
    },
    {
      "cell_type": "code",
      "source": [
        "A"
      ],
      "metadata": {
        "colab": {
          "base_uri": "https://localhost:8080/"
        },
        "id": "M04MDgKP1mMB",
        "outputId": "62117779-1827-44b9-fc09-721cc56d9b86"
      },
      "execution_count": 153,
      "outputs": [
        {
          "output_type": "execute_result",
          "data": {
            "text/plain": [
              "<tf.Tensor: shape=(20,), dtype=float32, numpy=\n",
              "array([-10.,  -9.,  -8.,  -7.,  -6.,  -5.,  -4.,  -3.,  -2.,  -1.,   0.,\n",
              "         1.,   2.,   3.,   4.,   5.,   6.,   7.,   8.,   9.],\n",
              "      dtype=float32)>"
            ]
          },
          "metadata": {},
          "execution_count": 153
        }
      ]
    },
    {
      "cell_type": "code",
      "source": [
        "plt.plot(relu(A))"
      ],
      "metadata": {
        "colab": {
          "base_uri": "https://localhost:8080/",
          "height": 283
        },
        "id": "4E3svlU_1vLf",
        "outputId": "279d9951-f6e7-4c2e-81ae-91f78e0f5d76"
      },
      "execution_count": 154,
      "outputs": [
        {
          "output_type": "execute_result",
          "data": {
            "text/plain": [
              "[<matplotlib.lines.Line2D at 0x7f323ee8a4f0>]"
            ]
          },
          "metadata": {},
          "execution_count": 154
        },
        {
          "output_type": "display_data",
          "data": {
            "text/plain": [
              "<Figure size 432x288 with 1 Axes>"
            ],
            "image/png": "[encoded data removed]"
          },
          "metadata": {
            "needs_background": "light"
          }
        }
      ]
    },
    {
      "cell_type": "markdown",
      "source": [
        "#### `linear` activation function:\n",
        "It returns the input *unmodified*! 😮"
      ],
      "metadata": {
        "id": "uUbrAMIi1yTS"
      }
    },
    {
      "cell_type": "code",
      "source": [
        "tf.keras.activations.linear(A)"
      ],
      "metadata": {
        "colab": {
          "base_uri": "https://localhost:8080/"
        },
        "id": "1IGw-QD82S-0",
        "outputId": "96d6a7f2-8bb2-43d4-c45a-436122944cff"
      },
      "execution_count": 159,
      "outputs": [
        {
          "output_type": "execute_result",
          "data": {
            "text/plain": [
              "<tf.Tensor: shape=(20,), dtype=float32, numpy=\n",
              "array([-10.,  -9.,  -8.,  -7.,  -6.,  -5.,  -4.,  -3.,  -2.,  -1.,   0.,\n",
              "         1.,   2.,   3.,   4.,   5.,   6.,   7.,   8.,   9.],\n",
              "      dtype=float32)>"
            ]
          },
          "metadata": {},
          "execution_count": 159
        }
      ]
    },
    {
      "cell_type": "code",
      "source": [
        "# does it really not change anything?\n",
        "plt.plot(tf.keras.activations.linear(A))"
      ],
      "metadata": {
        "colab": {
          "base_uri": "https://localhost:8080/",
          "height": 283
        },
        "id": "g6xKhEut2cfM",
        "outputId": "c76ae43c-976d-4437-8d07-81908bc4f92c"
      },
      "execution_count": 156,
      "outputs": [
        {
          "output_type": "execute_result",
          "data": {
            "text/plain": [
              "[<matplotlib.lines.Line2D at 0x7f323ee05c40>]"
            ]
          },
          "metadata": {},
          "execution_count": 156
        },
        {
          "output_type": "display_data",
          "data": {
            "text/plain": [
              "<Figure size 432x288 with 1 Axes>"
            ],
            "image/png": "[encoded data removed]"
          },
          "metadata": {
            "needs_background": "light"
          }
        }
      ]
    },
    {
      "cell_type": "code",
      "source": [
        "A == tf.keras.activations.linear(A)"
      ],
      "metadata": {
        "colab": {
          "base_uri": "https://localhost:8080/"
        },
        "id": "xO7umwjL2h4_",
        "outputId": "0662e9c1-bdbb-416e-fbe6-bd676c6fa9fd"
      },
      "execution_count": 160,
      "outputs": [
        {
          "output_type": "execute_result",
          "data": {
            "text/plain": [
              "<tf.Tensor: shape=(20,), dtype=bool, numpy=\n",
              "array([ True,  True,  True,  True,  True,  True,  True,  True,  True,\n",
              "        True,  True,  True,  True,  True,  True,  True,  True,  True,\n",
              "        True,  True])>"
            ]
          },
          "metadata": {},
          "execution_count": 160
        }
      ]
    },
    {
      "cell_type": "markdown",
      "source": [
        "* This completely explains why the model couldn't learn any patterns in the non-linear data because the activation function was linear. "
      ],
      "metadata": {
        "id": "jECwOpqn2lEl"
      }
    },
    {
      "cell_type": "markdown",
      "source": [
        "## Evaluating and Improving our Classification Models\n",
        "\n",
        "So far we've been training and testing on the same dataset which is WRONG!"
      ],
      "metadata": {
        "id": "WwhZhHdR34s3"
      }
    },
    {
      "cell_type": "code",
      "source": [
        "# Check how many samples we have:\n",
        "len(X), len(y)"
      ],
      "metadata": {
        "colab": {
          "base_uri": "https://localhost:8080/"
        },
        "id": "uNO5zJyw37T1",
        "outputId": "8d00484b-c461-46d6-ef4f-4af8950b332c"
      },
      "execution_count": 162,
      "outputs": [
        {
          "output_type": "execute_result",
          "data": {
            "text/plain": [
              "(1000, 1000)"
            ]
          },
          "metadata": {},
          "execution_count": 162
        }
      ]
    },
    {
      "cell_type": "code",
      "source": [
        "from sklearn.model_selection import train_test_split"
      ],
      "metadata": {
        "id": "4mQlBNoy4QMJ"
      },
      "execution_count": 164,
      "outputs": []
    },
    {
      "cell_type": "code",
      "source": [
        "X_train, X_test, y_train, y_test = train_test_split(X,y, test_size=0.2)"
      ],
      "metadata": {
        "id": "R-KQPrPZ4VHY"
      },
      "execution_count": 168,
      "outputs": []
    },
    {
      "cell_type": "code",
      "source": [
        "X_train.shape, X_test.shape"
      ],
      "metadata": {
        "colab": {
          "base_uri": "https://localhost:8080/"
        },
        "id": "WspMHf-G4k1D",
        "outputId": "472ea64f-9c1a-4f14-e72c-72a998fe79cf"
      },
      "execution_count": 169,
      "outputs": [
        {
          "output_type": "execute_result",
          "data": {
            "text/plain": [
              "((800, 2), (200, 2))"
            ]
          },
          "metadata": {},
          "execution_count": 169
        }
      ]
    },
    {
      "cell_type": "code",
      "source": [
        "y_train.shape, y_test.shape"
      ],
      "metadata": {
        "colab": {
          "base_uri": "https://localhost:8080/"
        },
        "id": "ZRP4uTNW4oxl",
        "outputId": "fac56348-8422-4288-ca82-43f1546a69f0"
      },
      "execution_count": 170,
      "outputs": [
        {
          "output_type": "execute_result",
          "data": {
            "text/plain": [
              "((800,), (200,))"
            ]
          },
          "metadata": {},
          "execution_count": 170
        }
      ]
    },
    {
      "cell_type": "code",
      "source": [
        "# Let's recreate the model to fit on the training data and evaluate on the test data\n",
        "\n",
        "tf.random.set_seed(42)\n",
        "\n",
        "model_10 = tf.keras.Sequential([\n",
        "    tf.keras.layers.Dense(4, activation=\"relu\"),\n",
        "    tf.keras.layers.Dense(4, activation=\"relu\"),\n",
        "    tf.keras.layers.Dense(1, activation=\"sigmoid\")\n",
        "])\n",
        "model_10.compile(loss=tf.keras.losses.BinaryCrossentropy(),\n",
        "                 optimizer=tf.keras.optimizers.Adam(learning_rate=0.01),\n",
        "                 metrics=\"accuracy\")\n",
        "\n"
      ],
      "metadata": {
        "id": "e_-N3eQ_4qrO"
      },
      "execution_count": 173,
      "outputs": []
    },
    {
      "cell_type": "code",
      "source": [
        "history = model_10.fit(X_train, y_train, epochs=25) "
      ],
      "metadata": {
        "colab": {
          "base_uri": "https://localhost:8080/"
        },
        "id": "3JkiooaA574f",
        "outputId": "6a9b70d5-0727-47c8-d117-522e92981719"
      },
      "execution_count": 174,
      "outputs": [
        {
          "output_type": "stream",
          "name": "stdout",
          "text": [
            "Epoch 1/25\n",
            "25/25 [==============================] - 1s 2ms/step - loss: 0.6933 - accuracy: 0.5075\n",
            "Epoch 2/25\n",
            "25/25 [==============================] - 0s 2ms/step - loss: 0.6821 - accuracy: 0.5462\n",
            "Epoch 3/25\n",
            "25/25 [==============================] - 0s 2ms/step - loss: 0.6771 - accuracy: 0.5537\n",
            "Epoch 4/25\n",
            "25/25 [==============================] - 0s 2ms/step - loss: 0.6700 - accuracy: 0.5612\n",
            "Epoch 5/25\n",
            "25/25 [==============================] - 0s 2ms/step - loss: 0.6579 - accuracy: 0.6025\n",
            "Epoch 6/25\n",
            "25/25 [==============================] - 0s 2ms/step - loss: 0.6298 - accuracy: 0.7262\n",
            "Epoch 7/25\n",
            "25/25 [==============================] - 0s 2ms/step - loss: 0.5897 - accuracy: 0.8500\n",
            "Epoch 8/25\n",
            "25/25 [==============================] - 0s 2ms/step - loss: 0.5333 - accuracy: 0.9162\n",
            "Epoch 9/25\n",
            "25/25 [==============================] - 0s 2ms/step - loss: 0.4831 - accuracy: 0.8863\n",
            "Epoch 10/25\n",
            "25/25 [==============================] - 0s 2ms/step - loss: 0.4092 - accuracy: 0.9725\n",
            "Epoch 11/25\n",
            "25/25 [==============================] - 0s 2ms/step - loss: 0.3341 - accuracy: 0.9875\n",
            "Epoch 12/25\n",
            "25/25 [==============================] - 0s 2ms/step - loss: 0.2778 - accuracy: 0.9900\n",
            "Epoch 13/25\n",
            "25/25 [==============================] - 0s 2ms/step - loss: 0.2193 - accuracy: 0.9912\n",
            "Epoch 14/25\n",
            "25/25 [==============================] - 0s 2ms/step - loss: 0.1817 - accuracy: 0.9962\n",
            "Epoch 15/25\n",
            "25/25 [==============================] - 0s 2ms/step - loss: 0.1493 - accuracy: 0.9962\n",
            "Epoch 16/25\n",
            "25/25 [==============================] - 0s 2ms/step - loss: 0.1270 - accuracy: 0.9950\n",
            "Epoch 17/25\n",
            "25/25 [==============================] - 0s 2ms/step - loss: 0.1096 - accuracy: 0.9962\n",
            "Epoch 18/25\n",
            "25/25 [==============================] - 0s 2ms/step - loss: 0.0974 - accuracy: 0.9912\n",
            "Epoch 19/25\n",
            "25/25 [==============================] - 0s 2ms/step - loss: 0.0817 - accuracy: 0.9987\n",
            "Epoch 20/25\n",
            "25/25 [==============================] - 0s 2ms/step - loss: 0.0737 - accuracy: 1.0000\n",
            "Epoch 21/25\n",
            "25/25 [==============================] - 0s 2ms/step - loss: 0.0676 - accuracy: 0.9975\n",
            "Epoch 22/25\n",
            "25/25 [==============================] - 0s 2ms/step - loss: 0.0606 - accuracy: 0.9975\n",
            "Epoch 23/25\n",
            "25/25 [==============================] - 0s 3ms/step - loss: 0.0559 - accuracy: 0.9975\n",
            "Epoch 24/25\n",
            "25/25 [==============================] - 0s 2ms/step - loss: 0.0500 - accuracy: 0.9975\n",
            "Epoch 25/25\n",
            "25/25 [==============================] - 0s 2ms/step - loss: 0.0472 - accuracy: 0.9987\n"
          ]
        }
      ]
    },
    {
      "cell_type": "code",
      "source": [
        "# Evaluate the model on the test data set\n",
        "model_10.evaluate(X_test,y_test)"
      ],
      "metadata": {
        "colab": {
          "base_uri": "https://localhost:8080/"
        },
        "id": "D1OfGJCk6qMZ",
        "outputId": "748e7e5d-0169-402c-fe98-ab8d01034cf3"
      },
      "execution_count": 176,
      "outputs": [
        {
          "output_type": "stream",
          "name": "stdout",
          "text": [
            "7/7 [==============================] - 0s 3ms/step - loss: 0.0531 - accuracy: 0.9950\n"
          ]
        },
        {
          "output_type": "execute_result",
          "data": {
            "text/plain": [
              "[0.053084276616573334, 0.9950000047683716]"
            ]
          },
          "metadata": {},
          "execution_count": 176
        }
      ]
    },
    {
      "cell_type": "code",
      "source": [
        "plt.figure(figsize=(12,6))\n",
        "plt.subplot(1,2,1)\n",
        "plt.title(\"Training\")\n",
        "plot_decision_boundary(model = model_10, X=X_train, y=y_train)\n",
        "plt.subplot(1,2,2)\n",
        "plt.title(\"Testing\")\n",
        "plot_decision_boundary(model = model_10, X=X_test, y=y_test)"
      ],
      "metadata": {
        "colab": {
          "base_uri": "https://localhost:8080/",
          "height": 461
        },
        "id": "OR3xAxeD6s9U",
        "outputId": "a849bd47-e9fb-4499-be38-bea8f5ade53a"
      },
      "execution_count": 178,
      "outputs": [
        {
          "output_type": "stream",
          "name": "stdout",
          "text": [
            "313/313 [==============================] - 1s 2ms/step\n",
            "Doing binary classification\n",
            "313/313 [==============================] - 0s 1ms/step\n",
            "Doing binary classification\n"
          ]
        },
        {
          "output_type": "display_data",
          "data": {
            "text/plain": [
              "<Figure size 864x432 with 2 Axes>"
            ],
            "image/png": "[encoded data removed]"
          },
          "metadata": {
            "needs_background": "light"
          }
        }
      ]
    },
    {
      "cell_type": "markdown",
      "source": [
        "### Plot the loss curves\n",
        "* Why? *visualize visualize VISUALIZE!*"
      ],
      "metadata": {
        "id": "13pbnI8Q7On3"
      }
    },
    {
      "cell_type": "code",
      "source": [
        "history.history"
      ],
      "metadata": {
        "colab": {
          "base_uri": "https://localhost:8080/"
        },
        "id": "JFFjnszo75Dz",
        "outputId": "8321850e-590f-401d-d67e-877099cbf700"
      },
      "execution_count": 180,
      "outputs": [
        {
          "output_type": "execute_result",
          "data": {
            "text/plain": [
              "{'loss': [0.6932744383811951,\n",
              "  0.6821123361587524,\n",
              "  0.6770715117454529,\n",
              "  0.6699527502059937,\n",
              "  0.6578760743141174,\n",
              "  0.6298267841339111,\n",
              "  0.5897340178489685,\n",
              "  0.5332821607589722,\n",
              "  0.48308879137039185,\n",
              "  0.40917155146598816,\n",
              "  0.3340962529182434,\n",
              "  0.27777299284935,\n",
              "  0.21932949125766754,\n",
              "  0.1816611886024475,\n",
              "  0.14929215610027313,\n",
              "  0.12699748575687408,\n",
              "  0.10958221554756165,\n",
              "  0.09741091728210449,\n",
              "  0.0817236602306366,\n",
              "  0.07366391271352768,\n",
              "  0.06760594993829727,\n",
              "  0.06059808284044266,\n",
              "  0.055903177708387375,\n",
              "  0.04997587576508522,\n",
              "  0.04718213900923729],\n",
              " 'accuracy': [0.5074999928474426,\n",
              "  0.5462499856948853,\n",
              "  0.5537499785423279,\n",
              "  0.5612499713897705,\n",
              "  0.6025000214576721,\n",
              "  0.7262499928474426,\n",
              "  0.8500000238418579,\n",
              "  0.9162499904632568,\n",
              "  0.8862500190734863,\n",
              "  0.9725000262260437,\n",
              "  0.987500011920929,\n",
              "  0.9900000095367432,\n",
              "  0.9912499785423279,\n",
              "  0.9962499737739563,\n",
              "  0.9962499737739563,\n",
              "  0.9950000047683716,\n",
              "  0.9962499737739563,\n",
              "  0.9912499785423279,\n",
              "  0.9987499713897705,\n",
              "  1.0,\n",
              "  0.9975000023841858,\n",
              "  0.9975000023841858,\n",
              "  0.9975000023841858,\n",
              "  0.9975000023841858,\n",
              "  0.9987499713897705]}"
            ]
          },
          "metadata": {},
          "execution_count": 180
        }
      ]
    },
    {
      "cell_type": "code",
      "source": [
        "pd.DataFrame(history.history)"
      ],
      "metadata": {
        "colab": {
          "base_uri": "https://localhost:8080/",
          "height": 833
        },
        "id": "vYO_CeNW8MEy",
        "outputId": "8e726f23-4ebf-4db7-c00f-f34b87b6cee2"
      },
      "execution_count": 182,
      "outputs": [
        {
          "output_type": "execute_result",
          "data": {
            "text/plain": [
              "        loss  accuracy\n",
              "0   0.693274   0.50750\n",
              "1   0.682112   0.54625\n",
              "2   0.677072   0.55375\n",
              "3   0.669953   0.56125\n",
              "4   0.657876   0.60250\n",
              "5   0.629827   0.72625\n",
              "6   0.589734   0.85000\n",
              "7   0.533282   0.91625\n",
              "8   0.483089   0.88625\n",
              "9   0.409172   0.97250\n",
              "10  0.334096   0.98750\n",
              "11  0.277773   0.99000\n",
              "12  0.219329   0.99125\n",
              "13  0.181661   0.99625\n",
              "14  0.149292   0.99625\n",
              "15  0.126997   0.99500\n",
              "16  0.109582   0.99625\n",
              "17  0.097411   0.99125\n",
              "18  0.081724   0.99875\n",
              "19  0.073664   1.00000\n",
              "20  0.067606   0.99750\n",
              "21  0.060598   0.99750\n",
              "22  0.055903   0.99750\n",
              "23  0.049976   0.99750\n",
              "24  0.047182   0.99875"
            ],
            "text/html": [
              "\n",
              "  <div id=\"df-4f3dbc5e-d758-4e9c-9a9b-d69d16806ec9\">\n",
              "    <div class=\"colab-df-container\">\n",
              "      <div>\n",
              "<style scoped>\n",
              "    .dataframe tbody tr th:only-of-type {\n",
              "        vertical-align: middle;\n",
              "    }\n",
              "\n",
              "    .dataframe tbody tr th {\n",
              "        vertical-align: top;\n",
              "    }\n",
              "\n",
              "    .dataframe thead th {\n",
              "        text-align: right;\n",
              "    }\n",
              "</style>\n",
              "<table border=\"1\" class=\"dataframe\">\n",
              "  <thead>\n",
              "    <tr style=\"text-align: right;\">\n",
              "      <th></th>\n",
              "      <th>loss</th>\n",
              "      <th>accuracy</th>\n",
              "    </tr>\n",
              "  </thead>\n",
              "  <tbody>\n",
              "    <tr>\n",
              "      <th>0</th>\n",
              "      <td>0.693274</td>\n",
              "      <td>0.50750</td>\n",
              "    </tr>\n",
              "    <tr>\n",
              "      <th>1</th>\n",
              "      <td>0.682112</td>\n",
              "      <td>0.54625</td>\n",
              "    </tr>\n",
              "    <tr>\n",
              "      <th>2</th>\n",
              "      <td>0.677072</td>\n",
              "      <td>0.55375</td>\n",
              "    </tr>\n",
              "    <tr>\n",
              "      <th>3</th>\n",
              "      <td>0.669953</td>\n",
              "      <td>0.56125</td>\n",
              "    </tr>\n",
              "    <tr>\n",
              "      <th>4</th>\n",
              "      <td>0.657876</td>\n",
              "      <td>0.60250</td>\n",
              "    </tr>\n",
              "    <tr>\n",
              "      <th>5</th>\n",
              "      <td>0.629827</td>\n",
              "      <td>0.72625</td>\n",
              "    </tr>\n",
              "    <tr>\n",
              "      <th>6</th>\n",
              "      <td>0.589734</td>\n",
              "      <td>0.85000</td>\n",
              "    </tr>\n",
              "    <tr>\n",
              "      <th>7</th>\n",
              "      <td>0.533282</td>\n",
              "      <td>0.91625</td>\n",
              "    </tr>\n",
              "    <tr>\n",
              "      <th>8</th>\n",
              "      <td>0.483089</td>\n",
              "      <td>0.88625</td>\n",
              "    </tr>\n",
              "    <tr>\n",
              "      <th>9</th>\n",
              "      <td>0.409172</td>\n",
              "      <td>0.97250</td>\n",
              "    </tr>\n",
              "    <tr>\n",
              "      <th>10</th>\n",
              "      <td>0.334096</td>\n",
              "      <td>0.98750</td>\n",
              "    </tr>\n",
              "    <tr>\n",
              "      <th>11</th>\n",
              "      <td>0.277773</td>\n",
              "      <td>0.99000</td>\n",
              "    </tr>\n",
              "    <tr>\n",
              "      <th>12</th>\n",
              "      <td>0.219329</td>\n",
              "      <td>0.99125</td>\n",
              "    </tr>\n",
              "    <tr>\n",
              "      <th>13</th>\n",
              "      <td>0.181661</td>\n",
              "      <td>0.99625</td>\n",
              "    </tr>\n",
              "    <tr>\n",
              "      <th>14</th>\n",
              "      <td>0.149292</td>\n",
              "      <td>0.99625</td>\n",
              "    </tr>\n",
              "    <tr>\n",
              "      <th>15</th>\n",
              "      <td>0.126997</td>\n",
              "      <td>0.99500</td>\n",
              "    </tr>\n",
              "    <tr>\n",
              "      <th>16</th>\n",
              "      <td>0.109582</td>\n",
              "      <td>0.99625</td>\n",
              "    </tr>\n",
              "    <tr>\n",
              "      <th>17</th>\n",
              "      <td>0.097411</td>\n",
              "      <td>0.99125</td>\n",
              "    </tr>\n",
              "    <tr>\n",
              "      <th>18</th>\n",
              "      <td>0.081724</td>\n",
              "      <td>0.99875</td>\n",
              "    </tr>\n",
              "    <tr>\n",
              "      <th>19</th>\n",
              "      <td>0.073664</td>\n",
              "      <td>1.00000</td>\n",
              "    </tr>\n",
              "    <tr>\n",
              "      <th>20</th>\n",
              "      <td>0.067606</td>\n",
              "      <td>0.99750</td>\n",
              "    </tr>\n",
              "    <tr>\n",
              "      <th>21</th>\n",
              "      <td>0.060598</td>\n",
              "      <td>0.99750</td>\n",
              "    </tr>\n",
              "    <tr>\n",
              "      <th>22</th>\n",
              "      <td>0.055903</td>\n",
              "      <td>0.99750</td>\n",
              "    </tr>\n",
              "    <tr>\n",
              "      <th>23</th>\n",
              "      <td>0.049976</td>\n",
              "      <td>0.99750</td>\n",
              "    </tr>\n",
              "    <tr>\n",
              "      <th>24</th>\n",
              "      <td>0.047182</td>\n",
              "      <td>0.99875</td>\n",
              "    </tr>\n",
              "  </tbody>\n",
              "</table>\n",
              "</div>\n",
              "      <button class=\"colab-df-convert\" onclick=\"convertToInteractive('df-4f3dbc5e-d758-4e9c-9a9b-d69d16806ec9')\"\n",
              "              title=\"Convert this dataframe to an interactive table.\"\n",
              "              style=\"display:none;\">\n",
              "        \n",
              "  <svg xmlns=\"http://www.w3.org/2000/svg\" height=\"24px\"viewBox=\"0 0 24 24\"\n",
              "       width=\"24px\">\n",
              "    <path d=\"M0 0h24v24H0V0z\" fill=\"none\"/>\n",
              "    <path d=\"M18.56 5.44l.94 2.06.94-2.06 2.06-.94-2.06-.94-.94-2.06-.94 2.06-2.06.94zm-11 1L8.5 8.5l.94-2.06 2.06-.94-2.06-.94L8.5 2.5l-.94 2.06-2.06.94zm10 10l.94 2.06.94-2.06 2.06-.94-2.06-.94-.94-2.06-.94 2.06-2.06.94z\"/><path d=\"M17.41 7.96l-1.37-1.37c-.4-.4-.92-.59-1.43-.59-.52 0-1.04.2-1.43.59L10.3 9.45l-7.72 7.72c-.78.78-.78 2.05 0 2.83L4 21.41c.39.39.9.59 1.41.59.51 0 1.02-.2 1.41-.59l7.78-7.78 2.81-2.81c.8-.78.8-2.07 0-2.86zM5.41 20L4 18.59l7.72-7.72 1.47 1.35L5.41 20z\"/>\n",
              "  </svg>\n",
              "      </button>\n",
              "      \n",
              "  <style>\n",
              "    .colab-df-container {\n",
              "      display:flex;\n",
              "      flex-wrap:wrap;\n",
              "      gap: 12px;\n",
              "    }\n",
              "\n",
              "    .colab-df-convert {\n",
              "      background-color: #E8F0FE;\n",
              "      border: none;\n",
              "      border-radius: 50%;\n",
              "      cursor: pointer;\n",
              "      display: none;\n",
              "      fill: #1967D2;\n",
              "      height: 32px;\n",
              "      padding: 0 0 0 0;\n",
              "      width: 32px;\n",
              "    }\n",
              "\n",
              "    .colab-df-convert:hover {\n",
              "      background-color: #E2EBFA;\n",
              "      box-shadow: 0px 1px 2px rgba(60, 64, 67, 0.3), 0px 1px 3px 1px rgba(60, 64, 67, 0.15);\n",
              "      fill: #174EA6;\n",
              "    }\n",
              "\n",
              "    [theme=dark] .colab-df-convert {\n",
              "      background-color: #3B4455;\n",
              "      fill: #D2E3FC;\n",
              "    }\n",
              "\n",
              "    [theme=dark] .colab-df-convert:hover {\n",
              "      background-color: #434B5C;\n",
              "      box-shadow: 0px 1px 3px 1px rgba(0, 0, 0, 0.15);\n",
              "      filter: drop-shadow(0px 1px 2px rgba(0, 0, 0, 0.3));\n",
              "      fill: #FFFFFF;\n",
              "    }\n",
              "  </style>\n",
              "\n",
              "      <script>\n",
              "        const buttonEl =\n",
              "          document.querySelector('#df-4f3dbc5e-d758-4e9c-9a9b-d69d16806ec9 button.colab-df-convert');\n",
              "        buttonEl.style.display =\n",
              "          google.colab.kernel.accessAllowed ? 'block' : 'none';\n",
              "\n",
              "        async function convertToInteractive(key) {\n",
              "          const element = document.querySelector('#df-4f3dbc5e-d758-4e9c-9a9b-d69d16806ec9');\n",
              "          const dataTable =\n",
              "            await google.colab.kernel.invokeFunction('convertToInteractive',\n",
              "                                                     [key], {});\n",
              "          if (!dataTable) return;\n",
              "\n",
              "          const docLinkHtml = 'Like what you see? Visit the ' +\n",
              "            '<a target=\"_blank\" href=https://colab.research.google.com/notebooks/data_table.ipynb>data table notebook</a>'\n",
              "            + ' to learn more about interactive tables.';\n",
              "          element.innerHTML = '';\n",
              "          dataTable['output_type'] = 'display_data';\n",
              "          await google.colab.output.renderOutput(dataTable, element);\n",
              "          const docLink = document.createElement('div');\n",
              "          docLink.innerHTML = docLinkHtml;\n",
              "          element.appendChild(docLink);\n",
              "        }\n",
              "      </script>\n",
              "    </div>\n",
              "  </div>\n",
              "  "
            ]
          },
          "metadata": {},
          "execution_count": 182
        }
      ]
    },
    {
      "cell_type": "code",
      "source": [
        "pd.DataFrame(history.history).plot()\n",
        "plt.title (\"Model 10 Loss Curves\")"
      ],
      "metadata": {
        "colab": {
          "base_uri": "https://localhost:8080/",
          "height": 299
        },
        "id": "DwTlVNnJ8OKF",
        "outputId": "878f508e-1c9b-4b66-b97a-c1823dbbbb92"
      },
      "execution_count": 184,
      "outputs": [
        {
          "output_type": "execute_result",
          "data": {
            "text/plain": [
              "Text(0.5, 1.0, 'Model 10 Loss Curves')"
            ]
          },
          "metadata": {},
          "execution_count": 184
        },
        {
          "output_type": "display_data",
          "data": {
            "text/plain": [
              "<Figure size 432x288 with 1 Axes>"
            ],
            "image/png": "[encoded data removed]"
          },
          "metadata": {
            "needs_background": "light"
          }
        }
      ]
    },
    {
      "cell_type": "markdown",
      "source": [
        "* Note that for many problems, the loss function going down means the model is improving and predictions are approaching groundtruth labels."
      ],
      "metadata": {
        "id": "RVoIAv208aNt"
      }
    }
  ]
}