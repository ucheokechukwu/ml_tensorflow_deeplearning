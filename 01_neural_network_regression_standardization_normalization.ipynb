{
  "nbformat": 4,
  "nbformat_minor": 0,
  "metadata": {
    "colab": {
      "provenance": [],
      "authorship_tag": "ABX9TyN+avRd31J38ARhJn2SymeK",
      "include_colab_link": true
    },
    "kernelspec": {
      "name": "python3",
      "display_name": "Python 3"
    },
    "language_info": {
      "name": "python"
    }
  },
  "cells": [
    {
      "cell_type": "markdown",
      "metadata": {
        "id": "view-in-github",
        "colab_type": "text"
      },
      "source": [
        "<a href=\"https://colab.research.google.com/github/ucheokechukwu/ml_tensorflow_deeplearning/blob/main/01_neural_network_regression_standardization_normalization.ipynb\" target=\"_parent\"><img src=\"https://colab.research.google.com/assets/colab-badge.svg\" alt=\"Open In Colab\"/></a>"
      ]
    },
    {
      "cell_type": "code",
      "execution_count": null,
      "metadata": {
        "id": "17w1gDDlgefL"
      },
      "outputs": [],
      "source": [
        "import pandas as pd\n",
        "import matplotlib.pyplot as plt\n",
        "import numpy as np\n",
        "import tensorflow as tf"
      ]
    },
    {
      "cell_type": "code",
      "source": [
        "insurance = pd.read_csv(\"https://raw.githubusercontent.com/stedy/Machine-Learning-with-R-datasets/master/insurance.csv\")"
      ],
      "metadata": {
        "id": "mYxwG_LhgoDi"
      },
      "execution_count": null,
      "outputs": []
    },
    {
      "cell_type": "code",
      "source": [
        "insurance.head()"
      ],
      "metadata": {
        "colab": {
          "base_uri": "https://localhost:8080/",
          "height": 206
        },
        "id": "1QAXmne0iC2R",
        "outputId": "df35f7a9-f810-48d7-9827-89c456c47c16"
      },
      "execution_count": null,
      "outputs": [
        {
          "output_type": "execute_result",
          "data": {
            "text/plain": [
              "   age     sex     bmi  children smoker     region      charges\n",
              "0   19  female  27.900         0    yes  southwest  16884.92400\n",
              "1   18    male  33.770         1     no  southeast   1725.55230\n",
              "2   28    male  33.000         3     no  southeast   4449.46200\n",
              "3   33    male  22.705         0     no  northwest  21984.47061\n",
              "4   32    male  28.880         0     no  northwest   3866.85520"
            ],
            "text/html": [
              "\n",
              "  <div id=\"df-322529b6-f3d1-496f-8054-c47487e56e3c\">\n",
              "    <div class=\"colab-df-container\">\n",
              "      <div>\n",
              "<style scoped>\n",
              "    .dataframe tbody tr th:only-of-type {\n",
              "        vertical-align: middle;\n",
              "    }\n",
              "\n",
              "    .dataframe tbody tr th {\n",
              "        vertical-align: top;\n",
              "    }\n",
              "\n",
              "    .dataframe thead th {\n",
              "        text-align: right;\n",
              "    }\n",
              "</style>\n",
              "<table border=\"1\" class=\"dataframe\">\n",
              "  <thead>\n",
              "    <tr style=\"text-align: right;\">\n",
              "      <th></th>\n",
              "      <th>age</th>\n",
              "      <th>sex</th>\n",
              "      <th>bmi</th>\n",
              "      <th>children</th>\n",
              "      <th>smoker</th>\n",
              "      <th>region</th>\n",
              "      <th>charges</th>\n",
              "    </tr>\n",
              "  </thead>\n",
              "  <tbody>\n",
              "    <tr>\n",
              "      <th>0</th>\n",
              "      <td>19</td>\n",
              "      <td>female</td>\n",
              "      <td>27.900</td>\n",
              "      <td>0</td>\n",
              "      <td>yes</td>\n",
              "      <td>southwest</td>\n",
              "      <td>16884.92400</td>\n",
              "    </tr>\n",
              "    <tr>\n",
              "      <th>1</th>\n",
              "      <td>18</td>\n",
              "      <td>male</td>\n",
              "      <td>33.770</td>\n",
              "      <td>1</td>\n",
              "      <td>no</td>\n",
              "      <td>southeast</td>\n",
              "      <td>1725.55230</td>\n",
              "    </tr>\n",
              "    <tr>\n",
              "      <th>2</th>\n",
              "      <td>28</td>\n",
              "      <td>male</td>\n",
              "      <td>33.000</td>\n",
              "      <td>3</td>\n",
              "      <td>no</td>\n",
              "      <td>southeast</td>\n",
              "      <td>4449.46200</td>\n",
              "    </tr>\n",
              "    <tr>\n",
              "      <th>3</th>\n",
              "      <td>33</td>\n",
              "      <td>male</td>\n",
              "      <td>22.705</td>\n",
              "      <td>0</td>\n",
              "      <td>no</td>\n",
              "      <td>northwest</td>\n",
              "      <td>21984.47061</td>\n",
              "    </tr>\n",
              "    <tr>\n",
              "      <th>4</th>\n",
              "      <td>32</td>\n",
              "      <td>male</td>\n",
              "      <td>28.880</td>\n",
              "      <td>0</td>\n",
              "      <td>no</td>\n",
              "      <td>northwest</td>\n",
              "      <td>3866.85520</td>\n",
              "    </tr>\n",
              "  </tbody>\n",
              "</table>\n",
              "</div>\n",
              "      <button class=\"colab-df-convert\" onclick=\"convertToInteractive('df-322529b6-f3d1-496f-8054-c47487e56e3c')\"\n",
              "              title=\"Convert this dataframe to an interactive table.\"\n",
              "              style=\"display:none;\">\n",
              "        \n",
              "  <svg xmlns=\"http://www.w3.org/2000/svg\" height=\"24px\"viewBox=\"0 0 24 24\"\n",
              "       width=\"24px\">\n",
              "    <path d=\"M0 0h24v24H0V0z\" fill=\"none\"/>\n",
              "    <path d=\"M18.56 5.44l.94 2.06.94-2.06 2.06-.94-2.06-.94-.94-2.06-.94 2.06-2.06.94zm-11 1L8.5 8.5l.94-2.06 2.06-.94-2.06-.94L8.5 2.5l-.94 2.06-2.06.94zm10 10l.94 2.06.94-2.06 2.06-.94-2.06-.94-.94-2.06-.94 2.06-2.06.94z\"/><path d=\"M17.41 7.96l-1.37-1.37c-.4-.4-.92-.59-1.43-.59-.52 0-1.04.2-1.43.59L10.3 9.45l-7.72 7.72c-.78.78-.78 2.05 0 2.83L4 21.41c.39.39.9.59 1.41.59.51 0 1.02-.2 1.41-.59l7.78-7.78 2.81-2.81c.8-.78.8-2.07 0-2.86zM5.41 20L4 18.59l7.72-7.72 1.47 1.35L5.41 20z\"/>\n",
              "  </svg>\n",
              "      </button>\n",
              "      \n",
              "  <style>\n",
              "    .colab-df-container {\n",
              "      display:flex;\n",
              "      flex-wrap:wrap;\n",
              "      gap: 12px;\n",
              "    }\n",
              "\n",
              "    .colab-df-convert {\n",
              "      background-color: #E8F0FE;\n",
              "      border: none;\n",
              "      border-radius: 50%;\n",
              "      cursor: pointer;\n",
              "      display: none;\n",
              "      fill: #1967D2;\n",
              "      height: 32px;\n",
              "      padding: 0 0 0 0;\n",
              "      width: 32px;\n",
              "    }\n",
              "\n",
              "    .colab-df-convert:hover {\n",
              "      background-color: #E2EBFA;\n",
              "      box-shadow: 0px 1px 2px rgba(60, 64, 67, 0.3), 0px 1px 3px 1px rgba(60, 64, 67, 0.15);\n",
              "      fill: #174EA6;\n",
              "    }\n",
              "\n",
              "    [theme=dark] .colab-df-convert {\n",
              "      background-color: #3B4455;\n",
              "      fill: #D2E3FC;\n",
              "    }\n",
              "\n",
              "    [theme=dark] .colab-df-convert:hover {\n",
              "      background-color: #434B5C;\n",
              "      box-shadow: 0px 1px 3px 1px rgba(0, 0, 0, 0.15);\n",
              "      filter: drop-shadow(0px 1px 2px rgba(0, 0, 0, 0.3));\n",
              "      fill: #FFFFFF;\n",
              "    }\n",
              "  </style>\n",
              "\n",
              "      <script>\n",
              "        const buttonEl =\n",
              "          document.querySelector('#df-322529b6-f3d1-496f-8054-c47487e56e3c button.colab-df-convert');\n",
              "        buttonEl.style.display =\n",
              "          google.colab.kernel.accessAllowed ? 'block' : 'none';\n",
              "\n",
              "        async function convertToInteractive(key) {\n",
              "          const element = document.querySelector('#df-322529b6-f3d1-496f-8054-c47487e56e3c');\n",
              "          const dataTable =\n",
              "            await google.colab.kernel.invokeFunction('convertToInteractive',\n",
              "                                                     [key], {});\n",
              "          if (!dataTable) return;\n",
              "\n",
              "          const docLinkHtml = 'Like what you see? Visit the ' +\n",
              "            '<a target=\"_blank\" href=https://colab.research.google.com/notebooks/data_table.ipynb>data table notebook</a>'\n",
              "            + ' to learn more about interactive tables.';\n",
              "          element.innerHTML = '';\n",
              "          dataTable['output_type'] = 'display_data';\n",
              "          await google.colab.output.renderOutput(dataTable, element);\n",
              "          const docLink = document.createElement('div');\n",
              "          docLink.innerHTML = docLinkHtml;\n",
              "          element.appendChild(docLink);\n",
              "        }\n",
              "      </script>\n",
              "    </div>\n",
              "  </div>\n",
              "  "
            ]
          },
          "metadata": {},
          "execution_count": 3
        }
      ]
    },
    {
      "cell_type": "code",
      "source": [
        "from sklearn.compose import make_column_transformer\n",
        "from sklearn.preprocessing import MinMaxScaler, OneHotEncoder\n",
        "from sklearn.model_selection import train_test_split"
      ],
      "metadata": {
        "id": "OjNopwg_pZWh"
      },
      "execution_count": null,
      "outputs": []
    },
    {
      "cell_type": "code",
      "source": [
        "\n",
        "# Create a column transformer\n",
        "ct = make_column_transformer(\n",
        "    (MinMaxScaler(), [\"age\", \"bmi\", \"children\"]), # turn all values in this to numbers between 0 and 1\n",
        "    (OneHotEncoder(handle_unknown=\"ignore\"), [\"sex\", \"smoker\", \"region\"])\n",
        ")\n",
        "# Create X and y values\n",
        "X = insurance.drop(\"charges\", axis=1)\n",
        "y = insurance[\"charges\"]\n",
        "\n",
        "# Split the data into training and testing data\n",
        "\n",
        "X_train, X_test, y_train, y_test = train_test_split(X, y, test_size=0.2,\n",
        "                                                    random_state=47)\n",
        "\n",
        "\n",
        "# Fit the column transformer to our training data\n",
        "# Notice that this is done after the split to preserve integrity of the split\n",
        "\n",
        "ct.fit(X_train)\n",
        "\n",
        "# Transform the training and test data with normalization and one hot encoding\n",
        "X_train_normal = ct.transform(X_train)\n",
        "X_test_normal = ct.transform(X_test)"
      ],
      "metadata": {
        "id": "rdGrpGhbpnC4"
      },
      "execution_count": null,
      "outputs": []
    },
    {
      "cell_type": "code",
      "source": [
        "X_train.loc[0]"
      ],
      "metadata": {
        "colab": {
          "base_uri": "https://localhost:8080/"
        },
        "id": "dsfjjX5XuJcK",
        "outputId": "601df460-0e21-45e5-bbe6-4b6da576d965"
      },
      "execution_count": null,
      "outputs": [
        {
          "output_type": "execute_result",
          "data": {
            "text/plain": [
              "age                19\n",
              "sex            female\n",
              "bmi              27.9\n",
              "children            0\n",
              "smoker            yes\n",
              "region      southwest\n",
              "Name: 0, dtype: object"
            ]
          },
          "metadata": {},
          "execution_count": 6
        }
      ]
    },
    {
      "cell_type": "code",
      "source": [
        "X_train_normal[0]"
      ],
      "metadata": {
        "colab": {
          "base_uri": "https://localhost:8080/"
        },
        "id": "QnRXpOLRuND7",
        "outputId": "f8fb715f-e698-4373-8814-8f04285cd161"
      },
      "execution_count": null,
      "outputs": [
        {
          "output_type": "execute_result",
          "data": {
            "text/plain": [
              "array([0.84782609, 0.48560667, 0.        , 0.        , 1.        ,\n",
              "       1.        , 0.        , 0.        , 1.        , 0.        ,\n",
              "       0.        ])"
            ]
          },
          "metadata": {},
          "execution_count": 7
        }
      ]
    },
    {
      "cell_type": "code",
      "source": [
        "X[\"age\"].plot(kind=\"hist\")"
      ],
      "metadata": {
        "colab": {
          "base_uri": "https://localhost:8080/",
          "height": 283
        },
        "id": "f5brPxHgtKJo",
        "outputId": "cb748557-160d-4094-df50-283e911e29b9"
      },
      "execution_count": null,
      "outputs": [
        {
          "output_type": "execute_result",
          "data": {
            "text/plain": [
              "<Axes: ylabel='Frequency'>"
            ]
          },
          "metadata": {},
          "execution_count": 8
        },
        {
          "output_type": "display_data",
          "data": {
            "text/plain": [
              "<Figure size 432x288 with 1 Axes>"
            ],
            "image/png": "[encoded data removed]"
          },
          "metadata": {
            "needs_background": "light"
          }
        }
      ]
    },
    {
      "cell_type": "code",
      "source": [
        "X_train.shape, X_train_normal.shape"
      ],
      "metadata": {
        "colab": {
          "base_uri": "https://localhost:8080/"
        },
        "id": "rhbU6pDjuchv",
        "outputId": "704734a6-1b69-45aa-a644-29a5e8a10459"
      },
      "execution_count": null,
      "outputs": [
        {
          "output_type": "execute_result",
          "data": {
            "text/plain": [
              "((1070, 6), (1070, 11))"
            ]
          },
          "metadata": {},
          "execution_count": 9
        }
      ]
    },
    {
      "cell_type": "markdown",
      "source": [
        "**Note** how the number of columns for the normalized X_train is greater than the original X_train.\n",
        "Now we can build a neural network model on this and see how it goes."
      ],
      "metadata": {
        "id": "b541wXyGup7D"
      }
    },
    {
      "cell_type": "code",
      "source": [
        "## Building the Neural Network Model"
      ],
      "metadata": {
        "id": "8csYtv4SuzjX"
      },
      "execution_count": null,
      "outputs": []
    },
    {
      "cell_type": "code",
      "source": [
        "# 1. Create the model\n",
        "# 2. Compile the model\n",
        "# 3. Model summary\n",
        "# 4. Fit the model"
      ],
      "metadata": {
        "id": "Ojp57Tknu3NU"
      },
      "execution_count": null,
      "outputs": []
    },
    {
      "cell_type": "code",
      "source": [
        "model = tf.keras.models.load_model(\"/content/drive/MyDrive/ML_Tensor/insurance_model.h5\")"
      ],
      "metadata": {
        "id": "vvZ9KbJSICUs"
      },
      "execution_count": 47,
      "outputs": []
    },
    {
      "cell_type": "code",
      "source": [
        "def prediction_function (model, \n",
        "                         X_test=X_test,\n",
        "                         y_true=y_test):\n",
        "  \n",
        "  \"\"\"Function for evaluating the model. \n",
        "  Prints the data and reports the MAE & MSE.\n",
        "  Return the predicted labels.\n",
        "  \"\"\"\n",
        "  y_pred = model.predict(X_test)\n",
        "  plt.scatter(y_test, y_test, c=\"g\", label=\"Groundtruth\")\n",
        "  plt.scatter(y_test, y_pred, c=\"r\", label=\"Predictions\")\n",
        "  plt.legend();\n",
        "  mae_ = mae(y_true, y_pred).numpy()\n",
        "  mse_ = mse(y_true, y_pred).numpy()\n",
        "  print(f\"The MAE is: {mae_}\")\n",
        "  print(f\"The MSE is: {mse_}\")\n",
        "  return (y_pred, mae_, mse_)\n",
        "\n",
        "\n",
        "\n",
        "def mae(y_true, y_preds):\n",
        "  return tf.metrics.mean_absolute_error(y_true, tf.squeeze(tf.constant(y_preds)))\n",
        "\n",
        "def mse(y_true, y_preds):\n",
        "  return tf.metrics.mean_squared_error(y_true, tf.squeeze(tf.constant(y_preds)))"
      ],
      "metadata": {
        "id": "H469CRRsCZ7o"
      },
      "execution_count": 44,
      "outputs": []
    },
    {
      "cell_type": "code",
      "source": [
        "model.summary()"
      ],
      "metadata": {
        "id": "Ivc3C1IbC-w4",
        "colab": {
          "base_uri": "https://localhost:8080/"
        },
        "outputId": "8863db32-3514-40a9-a4df-d8cfa5d6d234"
      },
      "execution_count": 48,
      "outputs": [
        {
          "output_type": "stream",
          "name": "stdout",
          "text": [
            "Model: \"sequential_4\"\n",
            "_________________________________________________________________\n",
            " Layer (type)                Output Shape              Param #   \n",
            "=================================================================\n",
            " dense_16 (Dense)            (None, 100)               1200      \n",
            "                                                                 \n",
            " dense_17 (Dense)            (None, 10)                1010      \n",
            "                                                                 \n",
            " dense_18 (Dense)            (None, 1)                 11        \n",
            "                                                                 \n",
            "=================================================================\n",
            "Total params: 2,221\n",
            "Trainable params: 2,221\n",
            "Non-trainable params: 0\n",
            "_________________________________________________________________\n"
          ]
        }
      ]
    },
    {
      "cell_type": "code",
      "source": [
        "history = model.fit(X_train_normal, y_train, epochs=150)"
      ],
      "metadata": {
        "colab": {
          "base_uri": "https://localhost:8080/"
        },
        "id": "-3RhDhPnIivn",
        "outputId": "60d199df-6aba-402b-aa0f-d5f56e4fc11b"
      },
      "execution_count": 49,
      "outputs": [
        {
          "output_type": "stream",
          "name": "stdout",
          "text": [
            "Epoch 1/150\n",
            "34/34 [==============================] - 0s 2ms/step - loss: 15958.4863 - mae: 15958.4863\n",
            "Epoch 2/150\n",
            "34/34 [==============================] - 0s 3ms/step - loss: 15082.4336 - mae: 15082.4336\n",
            "Epoch 3/150\n",
            "34/34 [==============================] - 0s 2ms/step - loss: 14343.1123 - mae: 14343.1123\n",
            "Epoch 4/150\n",
            "34/34 [==============================] - 0s 2ms/step - loss: 13725.9980 - mae: 13725.9980\n",
            "Epoch 5/150\n",
            "34/34 [==============================] - 0s 2ms/step - loss: 13175.7324 - mae: 13175.7324\n",
            "Epoch 6/150\n",
            "34/34 [==============================] - 0s 2ms/step - loss: 12658.5371 - mae: 12658.5371\n",
            "Epoch 7/150\n",
            "34/34 [==============================] - 0s 2ms/step - loss: 12148.9336 - mae: 12148.9336\n",
            "Epoch 8/150\n",
            "34/34 [==============================] - 0s 2ms/step - loss: 11626.8193 - mae: 11626.8193\n",
            "Epoch 9/150\n",
            "34/34 [==============================] - 0s 2ms/step - loss: 11089.5771 - mae: 11089.5771\n",
            "Epoch 10/150\n",
            "34/34 [==============================] - 0s 2ms/step - loss: 10513.0889 - mae: 10513.0889\n",
            "Epoch 11/150\n",
            "34/34 [==============================] - 0s 2ms/step - loss: 9889.1982 - mae: 9889.1982\n",
            "Epoch 12/150\n",
            "34/34 [==============================] - 0s 2ms/step - loss: 9241.7383 - mae: 9241.7383\n",
            "Epoch 13/150\n",
            "34/34 [==============================] - 0s 2ms/step - loss: 8595.8994 - mae: 8595.8994\n",
            "Epoch 14/150\n",
            "34/34 [==============================] - 0s 2ms/step - loss: 7954.5469 - mae: 7954.5469\n",
            "Epoch 15/150\n",
            "34/34 [==============================] - 0s 2ms/step - loss: 7329.6846 - mae: 7329.6846\n",
            "Epoch 16/150\n",
            "34/34 [==============================] - 0s 2ms/step - loss: 6871.5308 - mae: 6871.5308\n",
            "Epoch 17/150\n",
            "34/34 [==============================] - 0s 2ms/step - loss: 6528.3887 - mae: 6528.3887\n",
            "Epoch 18/150\n",
            "34/34 [==============================] - 0s 2ms/step - loss: 6252.9512 - mae: 6252.9512\n",
            "Epoch 19/150\n",
            "34/34 [==============================] - 0s 2ms/step - loss: 6033.7046 - mae: 6033.7046\n",
            "Epoch 20/150\n",
            "34/34 [==============================] - 0s 2ms/step - loss: 5876.1592 - mae: 5876.1592\n",
            "Epoch 21/150\n",
            "34/34 [==============================] - 0s 2ms/step - loss: 5770.3677 - mae: 5770.3677\n",
            "Epoch 22/150\n",
            "34/34 [==============================] - 0s 2ms/step - loss: 5680.0576 - mae: 5680.0576\n",
            "Epoch 23/150\n",
            "34/34 [==============================] - 0s 2ms/step - loss: 5626.3037 - mae: 5626.3037\n",
            "Epoch 24/150\n",
            "34/34 [==============================] - 0s 2ms/step - loss: 5582.4336 - mae: 5582.4336\n",
            "Epoch 25/150\n",
            "34/34 [==============================] - 0s 2ms/step - loss: 5548.1167 - mae: 5548.1167\n",
            "Epoch 26/150\n",
            "34/34 [==============================] - 0s 2ms/step - loss: 5527.9668 - mae: 5527.9668\n",
            "Epoch 27/150\n",
            "34/34 [==============================] - 0s 2ms/step - loss: 5514.6401 - mae: 5514.6401\n",
            "Epoch 28/150\n",
            "34/34 [==============================] - 0s 2ms/step - loss: 5505.6128 - mae: 5505.6128\n",
            "Epoch 29/150\n",
            "34/34 [==============================] - 0s 2ms/step - loss: 5495.4419 - mae: 5495.4419\n",
            "Epoch 30/150\n",
            "34/34 [==============================] - 0s 2ms/step - loss: 5488.5464 - mae: 5488.5464\n",
            "Epoch 31/150\n",
            "34/34 [==============================] - 0s 2ms/step - loss: 5484.0771 - mae: 5484.0771\n",
            "Epoch 32/150\n",
            "34/34 [==============================] - 0s 2ms/step - loss: 5479.6323 - mae: 5479.6323\n",
            "Epoch 33/150\n",
            "34/34 [==============================] - 0s 2ms/step - loss: 5477.1675 - mae: 5477.1675\n",
            "Epoch 34/150\n",
            "34/34 [==============================] - 0s 2ms/step - loss: 5472.1211 - mae: 5472.1211\n",
            "Epoch 35/150\n",
            "34/34 [==============================] - 0s 2ms/step - loss: 5469.6748 - mae: 5469.6748\n",
            "Epoch 36/150\n",
            "34/34 [==============================] - 0s 2ms/step - loss: 5466.6650 - mae: 5466.6650\n",
            "Epoch 37/150\n",
            "34/34 [==============================] - 0s 2ms/step - loss: 5462.8164 - mae: 5462.8164\n",
            "Epoch 38/150\n",
            "34/34 [==============================] - 0s 2ms/step - loss: 5459.5249 - mae: 5459.5249\n",
            "Epoch 39/150\n",
            "34/34 [==============================] - 0s 3ms/step - loss: 5456.4775 - mae: 5456.4775\n",
            "Epoch 40/150\n",
            "34/34 [==============================] - 0s 3ms/step - loss: 5453.4980 - mae: 5453.4980\n",
            "Epoch 41/150\n",
            "34/34 [==============================] - 0s 3ms/step - loss: 5451.3345 - mae: 5451.3345\n",
            "Epoch 42/150\n",
            "34/34 [==============================] - 0s 3ms/step - loss: 5449.1763 - mae: 5449.1763\n",
            "Epoch 43/150\n",
            "34/34 [==============================] - 0s 2ms/step - loss: 5445.3252 - mae: 5445.3252\n",
            "Epoch 44/150\n",
            "34/34 [==============================] - 0s 3ms/step - loss: 5443.2793 - mae: 5443.2793\n",
            "Epoch 45/150\n",
            "34/34 [==============================] - 0s 2ms/step - loss: 5439.8477 - mae: 5439.8477\n",
            "Epoch 46/150\n",
            "34/34 [==============================] - 0s 2ms/step - loss: 5437.5762 - mae: 5437.5762\n",
            "Epoch 47/150\n",
            "34/34 [==============================] - 0s 2ms/step - loss: 5434.0884 - mae: 5434.0884\n",
            "Epoch 48/150\n",
            "34/34 [==============================] - 0s 3ms/step - loss: 5431.5454 - mae: 5431.5454\n",
            "Epoch 49/150\n",
            "34/34 [==============================] - 0s 2ms/step - loss: 5430.2554 - mae: 5430.2554\n",
            "Epoch 50/150\n",
            "34/34 [==============================] - 0s 2ms/step - loss: 5426.5161 - mae: 5426.5161\n",
            "Epoch 51/150\n",
            "34/34 [==============================] - 0s 2ms/step - loss: 5421.8706 - mae: 5421.8706\n",
            "Epoch 52/150\n",
            "34/34 [==============================] - 0s 2ms/step - loss: 5420.6230 - mae: 5420.6230\n",
            "Epoch 53/150\n",
            "34/34 [==============================] - 0s 3ms/step - loss: 5417.0776 - mae: 5417.0776\n",
            "Epoch 54/150\n",
            "34/34 [==============================] - 0s 2ms/step - loss: 5413.0679 - mae: 5413.0679\n",
            "Epoch 55/150\n",
            "34/34 [==============================] - 0s 2ms/step - loss: 5412.6499 - mae: 5412.6499\n",
            "Epoch 56/150\n",
            "34/34 [==============================] - 0s 2ms/step - loss: 5409.2915 - mae: 5409.2915\n",
            "Epoch 57/150\n",
            "34/34 [==============================] - 0s 3ms/step - loss: 5405.2417 - mae: 5405.2417\n",
            "Epoch 58/150\n",
            "34/34 [==============================] - 0s 2ms/step - loss: 5403.7021 - mae: 5403.7021\n",
            "Epoch 59/150\n",
            "34/34 [==============================] - 0s 2ms/step - loss: 5397.4351 - mae: 5397.4351\n",
            "Epoch 60/150\n",
            "34/34 [==============================] - 0s 2ms/step - loss: 5395.8857 - mae: 5395.8857\n",
            "Epoch 61/150\n",
            "34/34 [==============================] - 0s 2ms/step - loss: 5392.0068 - mae: 5392.0068\n",
            "Epoch 62/150\n",
            "34/34 [==============================] - 0s 3ms/step - loss: 5388.0483 - mae: 5388.0483\n",
            "Epoch 63/150\n",
            "34/34 [==============================] - 0s 2ms/step - loss: 5384.9971 - mae: 5384.9971\n",
            "Epoch 64/150\n",
            "34/34 [==============================] - 0s 2ms/step - loss: 5381.7964 - mae: 5381.7964\n",
            "Epoch 65/150\n",
            "34/34 [==============================] - 0s 3ms/step - loss: 5378.2607 - mae: 5378.2607\n",
            "Epoch 66/150\n",
            "34/34 [==============================] - 0s 2ms/step - loss: 5374.9038 - mae: 5374.9038\n",
            "Epoch 67/150\n",
            "34/34 [==============================] - 0s 3ms/step - loss: 5371.5059 - mae: 5371.5059\n",
            "Epoch 68/150\n",
            "34/34 [==============================] - 0s 3ms/step - loss: 5367.4736 - mae: 5367.4736\n",
            "Epoch 69/150\n",
            "34/34 [==============================] - 0s 2ms/step - loss: 5365.5581 - mae: 5365.5581\n",
            "Epoch 70/150\n",
            "34/34 [==============================] - 0s 2ms/step - loss: 5360.0649 - mae: 5360.0649\n",
            "Epoch 71/150\n",
            "34/34 [==============================] - 0s 2ms/step - loss: 5356.3384 - mae: 5356.3384\n",
            "Epoch 72/150\n",
            "34/34 [==============================] - 0s 3ms/step - loss: 5353.0879 - mae: 5353.0879\n",
            "Epoch 73/150\n",
            "34/34 [==============================] - 0s 2ms/step - loss: 5349.1631 - mae: 5349.1631\n",
            "Epoch 74/150\n",
            "34/34 [==============================] - 0s 2ms/step - loss: 5345.3130 - mae: 5345.3130\n",
            "Epoch 75/150\n",
            "34/34 [==============================] - 0s 3ms/step - loss: 5340.1064 - mae: 5340.1064\n",
            "Epoch 76/150\n",
            "34/34 [==============================] - 0s 2ms/step - loss: 5335.4580 - mae: 5335.4580\n",
            "Epoch 77/150\n",
            "34/34 [==============================] - 0s 2ms/step - loss: 5334.1431 - mae: 5334.1431\n",
            "Epoch 78/150\n",
            "34/34 [==============================] - 0s 3ms/step - loss: 5327.2847 - mae: 5327.2847\n",
            "Epoch 79/150\n",
            "34/34 [==============================] - 0s 2ms/step - loss: 5323.5513 - mae: 5323.5513\n",
            "Epoch 80/150\n",
            "34/34 [==============================] - 0s 2ms/step - loss: 5321.4297 - mae: 5321.4297\n",
            "Epoch 81/150\n",
            "34/34 [==============================] - 0s 2ms/step - loss: 5313.8340 - mae: 5313.8340\n",
            "Epoch 82/150\n",
            "34/34 [==============================] - 0s 2ms/step - loss: 5309.3013 - mae: 5309.3013\n",
            "Epoch 83/150\n",
            "34/34 [==============================] - 0s 3ms/step - loss: 5305.5093 - mae: 5305.5093\n",
            "Epoch 84/150\n",
            "34/34 [==============================] - 0s 2ms/step - loss: 5300.5508 - mae: 5300.5508\n",
            "Epoch 85/150\n",
            "34/34 [==============================] - 0s 2ms/step - loss: 5294.8071 - mae: 5294.8071\n",
            "Epoch 86/150\n",
            "34/34 [==============================] - 0s 2ms/step - loss: 5290.7202 - mae: 5290.7202\n",
            "Epoch 87/150\n",
            "34/34 [==============================] - 0s 3ms/step - loss: 5285.7588 - mae: 5285.7588\n",
            "Epoch 88/150\n",
            "34/34 [==============================] - 0s 4ms/step - loss: 5279.7612 - mae: 5279.7612\n",
            "Epoch 89/150\n",
            "34/34 [==============================] - 0s 4ms/step - loss: 5275.9878 - mae: 5275.9878\n",
            "Epoch 90/150\n",
            "34/34 [==============================] - 0s 3ms/step - loss: 5269.0059 - mae: 5269.0059\n",
            "Epoch 91/150\n",
            "34/34 [==============================] - 0s 4ms/step - loss: 5265.4683 - mae: 5265.4683\n",
            "Epoch 92/150\n",
            "34/34 [==============================] - 0s 4ms/step - loss: 5260.4331 - mae: 5260.4331\n",
            "Epoch 93/150\n",
            "34/34 [==============================] - 0s 4ms/step - loss: 5252.5762 - mae: 5252.5762\n",
            "Epoch 94/150\n",
            "34/34 [==============================] - 0s 4ms/step - loss: 5246.6909 - mae: 5246.6909\n",
            "Epoch 95/150\n",
            "34/34 [==============================] - 0s 4ms/step - loss: 5241.4229 - mae: 5241.4229\n",
            "Epoch 96/150\n",
            "34/34 [==============================] - 0s 4ms/step - loss: 5234.1333 - mae: 5234.1333\n",
            "Epoch 97/150\n",
            "34/34 [==============================] - 0s 3ms/step - loss: 5229.0420 - mae: 5229.0420\n",
            "Epoch 98/150\n",
            "34/34 [==============================] - 0s 3ms/step - loss: 5222.6787 - mae: 5222.6787\n",
            "Epoch 99/150\n",
            "34/34 [==============================] - 0s 4ms/step - loss: 5215.9512 - mae: 5215.9512\n",
            "Epoch 100/150\n",
            "34/34 [==============================] - 0s 4ms/step - loss: 5209.2637 - mae: 5209.2637\n",
            "Epoch 101/150\n",
            "34/34 [==============================] - 0s 3ms/step - loss: 5202.5229 - mae: 5202.5229\n",
            "Epoch 102/150\n",
            "34/34 [==============================] - 0s 3ms/step - loss: 5196.8774 - mae: 5196.8774\n",
            "Epoch 103/150\n",
            "34/34 [==============================] - 0s 4ms/step - loss: 5189.7393 - mae: 5189.7393\n",
            "Epoch 104/150\n",
            "34/34 [==============================] - 0s 4ms/step - loss: 5185.5913 - mae: 5185.5913\n",
            "Epoch 105/150\n",
            "34/34 [==============================] - 0s 3ms/step - loss: 5174.6445 - mae: 5174.6445\n",
            "Epoch 106/150\n",
            "34/34 [==============================] - 0s 3ms/step - loss: 5167.4863 - mae: 5167.4863\n",
            "Epoch 107/150\n",
            "34/34 [==============================] - 0s 4ms/step - loss: 5160.8647 - mae: 5160.8647\n",
            "Epoch 108/150\n",
            "34/34 [==============================] - 0s 4ms/step - loss: 5154.2451 - mae: 5154.2451\n",
            "Epoch 109/150\n",
            "34/34 [==============================] - 0s 3ms/step - loss: 5145.8975 - mae: 5145.8975\n",
            "Epoch 110/150\n",
            "34/34 [==============================] - 0s 3ms/step - loss: 5138.7437 - mae: 5138.7437\n",
            "Epoch 111/150\n",
            "34/34 [==============================] - 0s 3ms/step - loss: 5130.0269 - mae: 5130.0269\n",
            "Epoch 112/150\n",
            "34/34 [==============================] - 0s 4ms/step - loss: 5122.4692 - mae: 5122.4692\n",
            "Epoch 113/150\n",
            "34/34 [==============================] - 0s 4ms/step - loss: 5113.8613 - mae: 5113.8613\n",
            "Epoch 114/150\n",
            "34/34 [==============================] - 0s 4ms/step - loss: 5105.8428 - mae: 5105.8428\n",
            "Epoch 115/150\n",
            "34/34 [==============================] - 0s 4ms/step - loss: 5098.6797 - mae: 5098.6797\n",
            "Epoch 116/150\n",
            "34/34 [==============================] - 0s 4ms/step - loss: 5088.7095 - mae: 5088.7095\n",
            "Epoch 117/150\n",
            "34/34 [==============================] - 0s 4ms/step - loss: 5080.5029 - mae: 5080.5029\n",
            "Epoch 118/150\n",
            "34/34 [==============================] - 0s 4ms/step - loss: 5071.5352 - mae: 5071.5352\n",
            "Epoch 119/150\n",
            "34/34 [==============================] - 0s 4ms/step - loss: 5062.2090 - mae: 5062.2090\n",
            "Epoch 120/150\n",
            "34/34 [==============================] - 0s 4ms/step - loss: 5052.1577 - mae: 5052.1577\n",
            "Epoch 121/150\n",
            "34/34 [==============================] - 0s 4ms/step - loss: 5043.2222 - mae: 5043.2222\n",
            "Epoch 122/150\n",
            "34/34 [==============================] - 0s 4ms/step - loss: 5033.3462 - mae: 5033.3462\n",
            "Epoch 123/150\n",
            "34/34 [==============================] - 0s 4ms/step - loss: 5025.0005 - mae: 5025.0005\n",
            "Epoch 124/150\n",
            "34/34 [==============================] - 0s 3ms/step - loss: 5014.2666 - mae: 5014.2666\n",
            "Epoch 125/150\n",
            "34/34 [==============================] - 0s 4ms/step - loss: 5004.2969 - mae: 5004.2969\n",
            "Epoch 126/150\n",
            "34/34 [==============================] - 0s 4ms/step - loss: 4994.0776 - mae: 4994.0776\n",
            "Epoch 127/150\n",
            "34/34 [==============================] - 0s 5ms/step - loss: 4983.0449 - mae: 4983.0449\n",
            "Epoch 128/150\n",
            "34/34 [==============================] - 0s 5ms/step - loss: 4973.3477 - mae: 4973.3477\n",
            "Epoch 129/150\n",
            "34/34 [==============================] - 0s 4ms/step - loss: 4962.6577 - mae: 4962.6577\n",
            "Epoch 130/150\n",
            "34/34 [==============================] - 0s 4ms/step - loss: 4952.6372 - mae: 4952.6372\n",
            "Epoch 131/150\n",
            "34/34 [==============================] - 0s 4ms/step - loss: 4940.3936 - mae: 4940.3936\n",
            "Epoch 132/150\n",
            "34/34 [==============================] - 0s 5ms/step - loss: 4928.3276 - mae: 4928.3276\n",
            "Epoch 133/150\n",
            "34/34 [==============================] - 0s 4ms/step - loss: 4918.6528 - mae: 4918.6528\n",
            "Epoch 134/150\n",
            "34/34 [==============================] - 0s 4ms/step - loss: 4904.7471 - mae: 4904.7471\n",
            "Epoch 135/150\n",
            "34/34 [==============================] - 0s 4ms/step - loss: 4893.9458 - mae: 4893.9458\n",
            "Epoch 136/150\n",
            "34/34 [==============================] - 0s 4ms/step - loss: 4882.3472 - mae: 4882.3472\n",
            "Epoch 137/150\n",
            "34/34 [==============================] - 0s 3ms/step - loss: 4868.8354 - mae: 4868.8354\n",
            "Epoch 138/150\n",
            "34/34 [==============================] - 0s 3ms/step - loss: 4858.2183 - mae: 4858.2183\n",
            "Epoch 139/150\n",
            "34/34 [==============================] - 0s 3ms/step - loss: 4842.5825 - mae: 4842.5825\n",
            "Epoch 140/150\n",
            "34/34 [==============================] - 0s 4ms/step - loss: 4831.1187 - mae: 4831.1187\n",
            "Epoch 141/150\n",
            "34/34 [==============================] - 0s 4ms/step - loss: 4817.8179 - mae: 4817.8179\n",
            "Epoch 142/150\n",
            "34/34 [==============================] - 0s 4ms/step - loss: 4803.1934 - mae: 4803.1934\n",
            "Epoch 143/150\n",
            "34/34 [==============================] - 0s 3ms/step - loss: 4789.6885 - mae: 4789.6885\n",
            "Epoch 144/150\n",
            "34/34 [==============================] - 0s 4ms/step - loss: 4776.9448 - mae: 4776.9448\n",
            "Epoch 145/150\n",
            "34/34 [==============================] - 0s 3ms/step - loss: 4761.9756 - mae: 4761.9756\n",
            "Epoch 146/150\n",
            "34/34 [==============================] - 0s 3ms/step - loss: 4747.1440 - mae: 4747.1440\n",
            "Epoch 147/150\n",
            "34/34 [==============================] - 0s 4ms/step - loss: 4731.2241 - mae: 4731.2241\n",
            "Epoch 148/150\n",
            "34/34 [==============================] - 0s 4ms/step - loss: 4716.0205 - mae: 4716.0205\n",
            "Epoch 149/150\n",
            "34/34 [==============================] - 0s 4ms/step - loss: 4701.5977 - mae: 4701.5977\n",
            "Epoch 150/150\n",
            "34/34 [==============================] - 0s 4ms/step - loss: 4686.0649 - mae: 4686.0649\n"
          ]
        }
      ]
    },
    {
      "cell_type": "code",
      "source": [],
      "metadata": {
        "id": "XeoqFnBZIlEK"
      },
      "execution_count": null,
      "outputs": []
    },
    {
      "cell_type": "code",
      "source": [
        "pd.DataFrame(history.history).plot()\n",
        "plt.ylabel(\"Loss\")\n",
        "plt.xlabel(\"epochs\")"
      ],
      "metadata": {
        "colab": {
          "base_uri": "https://localhost:8080/",
          "height": 297
        },
        "id": "y4gmw2PiI3q_",
        "outputId": "6a3f3bc4-b2d4-4161-f140-5c0aae6029c4"
      },
      "execution_count": 50,
      "outputs": [
        {
          "output_type": "execute_result",
          "data": {
            "text/plain": [
              "Text(0.5, 0, 'epochs')"
            ]
          },
          "metadata": {},
          "execution_count": 50
        },
        {
          "output_type": "display_data",
          "data": {
            "text/plain": [
              "<Figure size 432x288 with 1 Axes>"
            ],
            "image/png": "[encoded data removed]"
          },
          "metadata": {
            "needs_background": "light"
          }
        }
      ]
    },
    {
      "cell_type": "code",
      "source": [
        "y=prediction_function(model, X_test=X_test_normal, y_true=y_test)"
      ],
      "metadata": {
        "colab": {
          "base_uri": "https://localhost:8080/",
          "height": 319
        },
        "id": "DQj3oLRwI4GA",
        "outputId": "aeef3a8d-262f-478a-895d-19077634028e"
      },
      "execution_count": 51,
      "outputs": [
        {
          "output_type": "stream",
          "name": "stdout",
          "text": [
            "9/9 [==============================] - 0s 3ms/step\n",
            "The MAE is: 4199.7138671875\n",
            "The MSE is: 42688148.0\n"
          ]
        },
        {
          "output_type": "display_data",
          "data": {
            "text/plain": [
              "<Figure size 432x288 with 1 Axes>"
            ],
            "image/png": "[encoded data removed]"
          },
          "metadata": {
            "needs_background": "light"
          }
        }
      ]
    },
    {
      "cell_type": "markdown",
      "source": [
        "Compared to the previous result:\n",
        "* The MAE is: 3179.02685546875\n",
        "\n",
        "* The MSE is: 44716732.0"
      ],
      "metadata": {
        "id": "V74dV_A1JAxh"
      }
    },
    {
      "cell_type": "code",
      "source": [],
      "metadata": {
        "id": "t8EBuI83JiXM"
      },
      "execution_count": null,
      "outputs": []
    }
  ]
}