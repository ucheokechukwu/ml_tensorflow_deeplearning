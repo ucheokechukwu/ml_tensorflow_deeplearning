{
  "nbformat": 4,
  "nbformat_minor": 0,
  "metadata": {
    "colab": {
      "provenance": [],
      "toc_visible": true,
      "authorship_tag": "ABX9TyMZYvXE6UKyUvrylMr/Z4By",
      "include_colab_link": true
    },
    "kernelspec": {
      "name": "python3",
      "display_name": "Python 3"
    },
    "language_info": {
      "name": "python"
    },
    "accelerator": "GPU",
    "gpuClass": "standard"
  },
  "cells": [
    {
      "cell_type": "markdown",
      "metadata": {
        "id": "view-in-github",
        "colab_type": "text"
      },
      "source": [
        "<a href=\"https://colab.research.google.com/github/ucheokechukwu/ml_tensorflow_deeplearning/blob/main/03_introduction_to_computer_vision_multi_class.ipynb\" target=\"_parent\"><img src=\"https://colab.research.google.com/assets/colab-badge.svg\" alt=\"Open In Colab\"/></a>"
      ]
    },
    {
      "cell_type": "markdown",
      "source": [
        "# Multi-Class image Classification\n",
        "\n",
        "1. Become one with the data\n",
        "2. Preprocess the data (get it ready for a model)\n",
        "3. Create a model (start with a baseline)\n",
        "4. Fit the model (overfit it to make sure it works)\n",
        "5. Evaluate the model\n",
        "6. Adjust different hyperparameters and improve the model (try to beat baseline and reduce overfitting)\n",
        "7. Repeat until satisfied."
      ],
      "metadata": {
        "id": "scGp66DLEsmF"
      }
    },
    {
      "cell_type": "code",
      "source": [
        "outline='''\n",
        "1. Become one with the data\n",
        "2. Preprocess the data (get it ready for a model)\n",
        "3. Create a model (start with a baseline)\n",
        "4. Fit the model (overfit it to make sure it works)\n",
        "5. Evaluate the model\n",
        "6. Adjust different hyperparameters and improve the model (try to beat baseline and reduce overfitting)\n",
        "7. Repeat until satisfied.\n",
        "'''"
      ],
      "metadata": {
        "id": "pZtARfB3FGgB"
      },
      "execution_count": 1,
      "outputs": []
    },
    {
      "cell_type": "markdown",
      "source": [
        "## 1__ Become one with the Data"
      ],
      "metadata": {
        "id": "lCHlr5HZFKQt"
      }
    },
    {
      "cell_type": "code",
      "source": [
        "import zipfile\n",
        "!wget https://storage.googleapis.com/ztm_tf_course/food_vision/10_food_classes_all_data.zip"
      ],
      "metadata": {
        "colab": {
          "base_uri": "https://localhost:8080/"
        },
        "id": "Pv2BJKqaFLHi",
        "outputId": "d88b2877-2aca-44c0-8921-6eb7294c2496"
      },
      "execution_count": 2,
      "outputs": [
        {
          "output_type": "stream",
          "name": "stdout",
          "text": [
            "--2023-02-18 23:32:19--  https://storage.googleapis.com/ztm_tf_course/food_vision/10_food_classes_all_data.zip\n",
            "Resolving storage.googleapis.com (storage.googleapis.com)... 142.251.161.128, 74.125.126.128, 74.125.70.128, ...\n",
            "Connecting to storage.googleapis.com (storage.googleapis.com)|142.251.161.128|:443... connected.\n",
            "HTTP request sent, awaiting response... 200 OK\n",
            "Length: 519183241 (495M) [application/zip]\n",
            "Saving to: ‘10_food_classes_all_data.zip’\n",
            "\n",
            "10_food_classes_all 100%[===================>] 495.13M   203MB/s    in 2.4s    \n",
            "\n",
            "2023-02-18 23:32:22 (203 MB/s) - ‘10_food_classes_all_data.zip’ saved [519183241/519183241]\n",
            "\n"
          ]
        }
      ]
    },
    {
      "cell_type": "code",
      "source": [
        "# unzip our data \n",
        "zip_ref = zipfile.ZipFile(\"/content/10_food_classes_all_data.zip\", \"r\")\n",
        "zip_ref.extractall()\n",
        "zip_ref.close()"
      ],
      "metadata": {
        "id": "Y0kwWPlbF5WL"
      },
      "execution_count": 3,
      "outputs": []
    },
    {
      "cell_type": "code",
      "source": [
        "# walk through the classes of food image data\n",
        "import os\n",
        "for dirpath, dirnames, filenames in os.walk(\"/content/10_food_classes_all_data\"):\n",
        "  print(f\"There are {len(dirnames)} directories and {len(filenames)} images in '{dirpath}'.\")\n"
      ],
      "metadata": {
        "colab": {
          "base_uri": "https://localhost:8080/"
        },
        "id": "JnTCC1saFsQ9",
        "outputId": "ac88a79a-93c0-4c9a-a6ea-af215bf79cde"
      },
      "execution_count": 4,
      "outputs": [
        {
          "output_type": "stream",
          "name": "stdout",
          "text": [
            "There are 2 directories and 0 images in '/content/10_food_classes_all_data'.\n",
            "There are 10 directories and 0 images in '/content/10_food_classes_all_data/test'.\n",
            "There are 0 directories and 250 images in '/content/10_food_classes_all_data/test/fried_rice'.\n",
            "There are 0 directories and 250 images in '/content/10_food_classes_all_data/test/sushi'.\n",
            "There are 0 directories and 250 images in '/content/10_food_classes_all_data/test/chicken_curry'.\n",
            "There are 0 directories and 250 images in '/content/10_food_classes_all_data/test/chicken_wings'.\n",
            "There are 0 directories and 250 images in '/content/10_food_classes_all_data/test/pizza'.\n",
            "There are 0 directories and 250 images in '/content/10_food_classes_all_data/test/steak'.\n",
            "There are 0 directories and 250 images in '/content/10_food_classes_all_data/test/grilled_salmon'.\n",
            "There are 0 directories and 250 images in '/content/10_food_classes_all_data/test/ramen'.\n",
            "There are 0 directories and 250 images in '/content/10_food_classes_all_data/test/hamburger'.\n",
            "There are 0 directories and 250 images in '/content/10_food_classes_all_data/test/ice_cream'.\n",
            "There are 10 directories and 0 images in '/content/10_food_classes_all_data/train'.\n",
            "There are 0 directories and 750 images in '/content/10_food_classes_all_data/train/fried_rice'.\n",
            "There are 0 directories and 750 images in '/content/10_food_classes_all_data/train/sushi'.\n",
            "There are 0 directories and 750 images in '/content/10_food_classes_all_data/train/chicken_curry'.\n",
            "There are 0 directories and 750 images in '/content/10_food_classes_all_data/train/chicken_wings'.\n",
            "There are 0 directories and 750 images in '/content/10_food_classes_all_data/train/pizza'.\n",
            "There are 0 directories and 750 images in '/content/10_food_classes_all_data/train/steak'.\n",
            "There are 0 directories and 750 images in '/content/10_food_classes_all_data/train/grilled_salmon'.\n",
            "There are 0 directories and 750 images in '/content/10_food_classes_all_data/train/ramen'.\n",
            "There are 0 directories and 750 images in '/content/10_food_classes_all_data/train/hamburger'.\n",
            "There are 0 directories and 750 images in '/content/10_food_classes_all_data/train/ice_cream'.\n"
          ]
        }
      ]
    },
    {
      "cell_type": "code",
      "source": [
        "!ls /content/10_food_classes_all_data"
      ],
      "metadata": {
        "colab": {
          "base_uri": "https://localhost:8080/"
        },
        "id": "IZ5HViEqFlBN",
        "outputId": "66c42867-1786-4a8b-e11c-41f13302971b"
      },
      "execution_count": 5,
      "outputs": [
        {
          "output_type": "stream",
          "name": "stdout",
          "text": [
            "test  train\n"
          ]
        }
      ]
    },
    {
      "cell_type": "code",
      "source": [
        "!ls /content/10_food_classes_all_data/"
      ],
      "metadata": {
        "colab": {
          "base_uri": "https://localhost:8080/"
        },
        "id": "KAD6XdrEHI69",
        "outputId": "35a1ef3a-e951-435d-ed80-ab21944b71c3"
      },
      "execution_count": 6,
      "outputs": [
        {
          "output_type": "stream",
          "name": "stdout",
          "text": [
            "test  train\n"
          ]
        }
      ]
    },
    {
      "cell_type": "code",
      "source": [
        "# Set up the train and test directories\n",
        "train_dir = \"/content/10_food_classes_all_data/train/\"\n",
        "test_dir = \"/content/10_food_classes_all_data/test/\""
      ],
      "metadata": {
        "id": "s4efUgEAHLci"
      },
      "execution_count": 7,
      "outputs": []
    },
    {
      "cell_type": "code",
      "source": [
        "# Let's get the class names \n",
        "import pathlib\n",
        "import numpy as np\n",
        "data_dir = pathlib.Path(train_dir)\n",
        "class_names = np.array(sorted([item.name for item in data_dir.glob('*')]))\n",
        "print(class_names)"
      ],
      "metadata": {
        "colab": {
          "base_uri": "https://localhost:8080/"
        },
        "id": "H1aKSLEWHgB1",
        "outputId": "69bebd9b-999d-4aee-e92e-df33c7c8e0c1"
      },
      "execution_count": 8,
      "outputs": [
        {
          "output_type": "stream",
          "name": "stdout",
          "text": [
            "['chicken_curry' 'chicken_wings' 'fried_rice' 'grilled_salmon' 'hamburger'\n",
            " 'ice_cream' 'pizza' 'ramen' 'steak' 'sushi']\n"
          ]
        }
      ]
    },
    {
      "cell_type": "code",
      "source": [
        "def view_random_image(target_dir, target_class):\n",
        "  # import required libraries\n",
        "  import matplotlib.pyplot as plt\n",
        "  import matplotlib.image as mpimg\n",
        "  import random\n",
        "  # Setup the target directory (we'll view images from here)\n",
        "  target_folder = target_dir+target_class\n",
        "\n",
        "  # Get a random image path\n",
        "  random_image = random.sample(os.listdir(target_folder), 1) # randomly sample 1 of the items in here\n",
        "  print(random_image)\n",
        "\n",
        "  img = mpimg.imread(target_folder+\"/\"+random_image[0])\n",
        "  plt.imshow(img)\n",
        "  plt.title(target_class)\n",
        "  plt.axis(\"off\")\n",
        "\n",
        "  print (f\"Image shape: {img.shape}\") # show the shape of the image\n",
        "\n",
        "  return img"
      ],
      "metadata": {
        "id": "GnFV6oGzlZjZ"
      },
      "execution_count": 9,
      "outputs": []
    },
    {
      "cell_type": "code",
      "source": [
        "# Visualize\n",
        "import random\n",
        "img = view_random_image(target_dir=train_dir,\n",
        "                        target_class=random.choice(class_names))"
      ],
      "metadata": {
        "colab": {
          "base_uri": "https://localhost:8080/",
          "height": 299
        },
        "id": "Tuz8FJSXH-Vw",
        "outputId": "dbd60f81-3d07-4ab1-d29c-0bf4169cd691"
      },
      "execution_count": 10,
      "outputs": [
        {
          "output_type": "stream",
          "name": "stdout",
          "text": [
            "['1209257.jpg']\n",
            "Image shape: (512, 512, 3)\n"
          ]
        },
        {
          "output_type": "display_data",
          "data": {
            "text/plain": [
              "<Figure size 432x288 with 1 Axes>"
            ],
            "image/png": "[encoded data removed]"
          },
          "metadata": {
            "needs_background": "light"
          }
        }
      ]
    },
    {
      "cell_type": "code",
      "source": [
        "random.choice(range(50))"
      ],
      "metadata": {
        "colab": {
          "base_uri": "https://localhost:8080/"
        },
        "id": "GUqgNHw5lqWi",
        "outputId": "6b7ffa31-e4ce-4440-cf75-79629f8e3976"
      },
      "execution_count": 12,
      "outputs": [
        {
          "output_type": "execute_result",
          "data": {
            "text/plain": [
              "24"
            ]
          },
          "metadata": {},
          "execution_count": 12
        }
      ]
    },
    {
      "cell_type": "markdown",
      "source": [
        "## 2__ Preprocess the data\n",
        "\n",
        "* Normalize and standardize\n",
        "* Turn it into batches\n",
        "* Do some data augmentation"
      ],
      "metadata": {
        "id": "C5tvO1tu39NA"
      }
    },
    {
      "cell_type": "code",
      "source": [
        "import tensorflow as tf\n",
        "from tensorflow.keras.preprocessing.image import ImageDataGenerator"
      ],
      "metadata": {
        "id": "9sjXyQec6PhB"
      },
      "execution_count": 15,
      "outputs": []
    },
    {
      "cell_type": "code",
      "source": [
        "train_datagen = ImageDataGenerator(rescale=1./255,\n",
        "                                  #  rotation_range=0.2,\n",
        "                                  #  shear_range=0.2,\n",
        "                                  #  zoom_range=0.2,\n",
        "                                  #  width_shift_range=0.2,\n",
        "                                  #  height_shift_range=0.3,\n",
        "                                  #  horizontal_flip=True\n",
        ")\n",
        "train_data = train_datagen.flow_from_directory(directory=train_dir,\n",
        "                                               batch_size=32,\n",
        "                                               target_size=(224,224),\n",
        "                                               class_mode=\"categorical\",\n",
        "                                               seed=42)\n",
        "\n"
      ],
      "metadata": {
        "colab": {
          "base_uri": "https://localhost:8080/"
        },
        "id": "9xqy2zv26iNK",
        "outputId": "f66e5c97-a5e0-485e-a523-bc4658446f19"
      },
      "execution_count": 77,
      "outputs": [
        {
          "output_type": "stream",
          "name": "stdout",
          "text": [
            "Found 7500 images belonging to 10 classes.\n"
          ]
        }
      ]
    },
    {
      "cell_type": "code",
      "source": [
        "test_datagen = ImageDataGenerator(rescale=1./255)\n",
        "test_data = test_datagen.flow_from_directory(directory=test_dir,\n",
        "                                             batch_size=32,\n",
        "                                             target_size=(224,224),\n",
        "                                             class_mode=\"categorical\",\n",
        "                                             seed=42)"
      ],
      "metadata": {
        "colab": {
          "base_uri": "https://localhost:8080/"
        },
        "id": "ZW-3mFv87p1u",
        "outputId": "294bfd76-5be9-40be-ead9-755c218323d5"
      },
      "execution_count": 26,
      "outputs": [
        {
          "output_type": "stream",
          "name": "stdout",
          "text": [
            "Found 2500 images belonging to 10 classes.\n"
          ]
        }
      ]
    },
    {
      "cell_type": "code",
      "source": [
        "len(train_data), len(test_data)"
      ],
      "metadata": {
        "colab": {
          "base_uri": "https://localhost:8080/"
        },
        "id": "doyzPg9J739-",
        "outputId": "3e5b9b5b-7b67-41ee-9c87-d2f7699b6e7b"
      },
      "execution_count": 21,
      "outputs": [
        {
          "output_type": "execute_result",
          "data": {
            "text/plain": [
              "(235, 79)"
            ]
          },
          "metadata": {},
          "execution_count": 21
        }
      ]
    },
    {
      "cell_type": "code",
      "source": [
        "# Checked against the batches to confirm size"
      ],
      "metadata": {
        "id": "L3KdgMvh8Kjx"
      },
      "execution_count": null,
      "outputs": []
    },
    {
      "cell_type": "markdown",
      "source": [
        "## 3__ Create the model"
      ],
      "metadata": {
        "id": "prmoYP4sEEnz"
      }
    },
    {
      "cell_type": "code",
      "source": [
        "from tensorflow.keras import Sequential\n",
        "from tensorflow.keras.layers import Dense, Conv2D, MaxPool2D, Flatten, Activation\n",
        "from tensorflow.keras.optimizers import Adam\n",
        "from tensorflow.keras.losses import CategoricalCrossentropy\n"
      ],
      "metadata": {
        "id": "o2lYpHht8ZW2"
      },
      "execution_count": 57,
      "outputs": []
    },
    {
      "cell_type": "code",
      "source": [
        "model_1 = Sequential([\n",
        "    Conv2D (filters=10,kernel_size=3,activation=\"relu\", input_shape=(224,224,3)),\n",
        "    Conv2D (10,3,activation=\"relu\"),\n",
        "    MaxPool2D (2),\n",
        "    Conv2D (10,3,activation=\"relu\"),\n",
        "    Conv2D (10,3,activation=\"relu\"),\n",
        "    MaxPool2D(2),\n",
        "    Flatten(),\n",
        "    Dense(10, activation=\"softmax\")\n",
        "])\n",
        "model_1.summary()"
      ],
      "metadata": {
        "colab": {
          "base_uri": "https://localhost:8080/"
        },
        "id": "FL4CL1jw9uMi",
        "outputId": "a53833a9-20e3-4764-a24d-000b13dc73fe"
      },
      "execution_count": 48,
      "outputs": [
        {
          "output_type": "stream",
          "name": "stdout",
          "text": [
            "Model: \"sequential_7\"\n",
            "_________________________________________________________________\n",
            " Layer (type)                Output Shape              Param #   \n",
            "=================================================================\n",
            " conv2d_40 (Conv2D)          (None, 222, 222, 10)      280       \n",
            "                                                                 \n",
            " conv2d_41 (Conv2D)          (None, 220, 220, 10)      910       \n",
            "                                                                 \n",
            " max_pooling2d_20 (MaxPoolin  (None, 110, 110, 10)     0         \n",
            " g2D)                                                            \n",
            "                                                                 \n",
            " conv2d_42 (Conv2D)          (None, 108, 108, 10)      910       \n",
            "                                                                 \n",
            " conv2d_43 (Conv2D)          (None, 106, 106, 10)      910       \n",
            "                                                                 \n",
            " max_pooling2d_21 (MaxPoolin  (None, 53, 53, 10)       0         \n",
            " g2D)                                                            \n",
            "                                                                 \n",
            " flatten_9 (Flatten)         (None, 28090)             0         \n",
            "                                                                 \n",
            " dense_9 (Dense)             (None, 10)                280910    \n",
            "                                                                 \n",
            "=================================================================\n",
            "Total params: 283,920\n",
            "Trainable params: 283,920\n",
            "Non-trainable params: 0\n",
            "_________________________________________________________________\n"
          ]
        }
      ]
    },
    {
      "cell_type": "code",
      "source": [
        "# Either way will work. this method separates the Activation\n",
        "\n",
        "model_1 = Sequential([\n",
        "    Conv2D (filters=10,kernel_size=3,input_shape=(224,224,3)),\n",
        "    Activation(\"relu\"),\n",
        "    Conv2D(10,3),\n",
        "    Activation(\"relu\"),\n",
        "    MaxPool2D(pool_size=2),\n",
        "    Conv2D(10,3),\n",
        "    Conv2D(10,3),\n",
        "    Activation(\"relu\"),\n",
        "    MaxPool2D(),\n",
        "    Flatten(),\n",
        "    Dense(10),\n",
        "    Activation(\"softmax\")\n",
        "\n",
        "])\n",
        "model_1.summary()"
      ],
      "metadata": {
        "colab": {
          "base_uri": "https://localhost:8080/"
        },
        "id": "SJOyzOxR_XZB",
        "outputId": "df34ebef-be7b-46a2-bc07-cc9de10f4618"
      },
      "execution_count": 60,
      "outputs": [
        {
          "output_type": "stream",
          "name": "stdout",
          "text": [
            "Model: \"sequential_10\"\n",
            "_________________________________________________________________\n",
            " Layer (type)                Output Shape              Param #   \n",
            "=================================================================\n",
            " conv2d_52 (Conv2D)          (None, 222, 222, 10)      280       \n",
            "                                                                 \n",
            " activation_8 (Activation)   (None, 222, 222, 10)      0         \n",
            "                                                                 \n",
            " conv2d_53 (Conv2D)          (None, 220, 220, 10)      910       \n",
            "                                                                 \n",
            " activation_9 (Activation)   (None, 220, 220, 10)      0         \n",
            "                                                                 \n",
            " max_pooling2d_26 (MaxPoolin  (None, 110, 110, 10)     0         \n",
            " g2D)                                                            \n",
            "                                                                 \n",
            " conv2d_54 (Conv2D)          (None, 108, 108, 10)      910       \n",
            "                                                                 \n",
            " conv2d_55 (Conv2D)          (None, 106, 106, 10)      910       \n",
            "                                                                 \n",
            " activation_10 (Activation)  (None, 106, 106, 10)      0         \n",
            "                                                                 \n",
            " max_pooling2d_27 (MaxPoolin  (None, 53, 53, 10)       0         \n",
            " g2D)                                                            \n",
            "                                                                 \n",
            " flatten_12 (Flatten)        (None, 28090)             0         \n",
            "                                                                 \n",
            " dense_12 (Dense)            (None, 10)                280910    \n",
            "                                                                 \n",
            " activation_11 (Activation)  (None, 10)                0         \n",
            "                                                                 \n",
            "=================================================================\n",
            "Total params: 283,920\n",
            "Trainable params: 283,920\n",
            "Non-trainable params: 0\n",
            "_________________________________________________________________\n"
          ]
        }
      ]
    },
    {
      "cell_type": "code",
      "source": [
        "model_1.compile(loss=CategoricalCrossentropy(),\n",
        "                optimizer=Adam(),\n",
        "                metrics=\"accuracy\")"
      ],
      "metadata": {
        "id": "8fjqYj99-QDD"
      },
      "execution_count": 64,
      "outputs": []
    },
    {
      "cell_type": "markdown",
      "source": [
        "## 4__ Fit our model"
      ],
      "metadata": {
        "id": "QrykdRq3ENtl"
      }
    },
    {
      "cell_type": "code",
      "source": [
        "history_1 = model_1.fit(train_data,\n",
        "                        epochs=5,\n",
        "                        steps_per_epoch=len(train_data),\n",
        "                        validation_data = test_data,\n",
        "                        validation_steps=len(test_data),\n",
        "                        verbose=2)"
      ],
      "metadata": {
        "colab": {
          "base_uri": "https://localhost:8080/"
        },
        "id": "kRJwN6ipA1SX",
        "outputId": "e7cf44d3-21dd-4275-c36f-e52b1d191807"
      },
      "execution_count": 65,
      "outputs": [
        {
          "output_type": "stream",
          "name": "stdout",
          "text": [
            "Epoch 1/5\n",
            "235/235 - 48s - loss: 2.1533 - accuracy: 0.2097 - val_loss: 1.9869 - val_accuracy: 0.2936 - 48s/epoch - 204ms/step\n",
            "Epoch 2/5\n",
            "235/235 - 45s - loss: 1.8107 - accuracy: 0.3791 - val_loss: 1.9854 - val_accuracy: 0.3068 - 45s/epoch - 190ms/step\n",
            "Epoch 3/5\n",
            "235/235 - 47s - loss: 1.1844 - accuracy: 0.6045 - val_loss: 2.2380 - val_accuracy: 0.3064 - 47s/epoch - 199ms/step\n",
            "Epoch 4/5\n",
            "235/235 - 46s - loss: 0.4480 - accuracy: 0.8595 - val_loss: 3.3062 - val_accuracy: 0.2872 - 46s/epoch - 197ms/step\n",
            "Epoch 5/5\n",
            "235/235 - 47s - loss: 0.1477 - accuracy: 0.9583 - val_loss: 4.8982 - val_accuracy: 0.2656 - 47s/epoch - 201ms/step\n"
          ]
        }
      ]
    },
    {
      "cell_type": "code",
      "source": [
        "!nvidia-smi"
      ],
      "metadata": {
        "colab": {
          "base_uri": "https://localhost:8080/"
        },
        "id": "rM3N2dsyB76u",
        "outputId": "2fe25006-ba2c-4567-eeed-d36421fe1709"
      },
      "execution_count": 63,
      "outputs": [
        {
          "output_type": "stream",
          "name": "stdout",
          "text": [
            "Sun Feb 19 00:17:20 2023       \n",
            "+-----------------------------------------------------------------------------+\n",
            "| NVIDIA-SMI 510.47.03    Driver Version: 510.47.03    CUDA Version: 11.6     |\n",
            "|-------------------------------+----------------------+----------------------+\n",
            "| GPU  Name        Persistence-M| Bus-Id        Disp.A | Volatile Uncorr. ECC |\n",
            "| Fan  Temp  Perf  Pwr:Usage/Cap|         Memory-Usage | GPU-Util  Compute M. |\n",
            "|                               |                      |               MIG M. |\n",
            "|===============================+======================+======================|\n",
            "|   0  Tesla T4            Off  | 00000000:00:04.0 Off |                    0 |\n",
            "| N/A   45C    P0    26W /  70W |   2424MiB / 15360MiB |      0%      Default |\n",
            "|                               |                      |                  N/A |\n",
            "+-------------------------------+----------------------+----------------------+\n",
            "                                                                               \n",
            "+-----------------------------------------------------------------------------+\n",
            "| Processes:                                                                  |\n",
            "|  GPU   GI   CI        PID   Type   Process name                  GPU Memory |\n",
            "|        ID   ID                                                   Usage      |\n",
            "|=============================================================================|\n",
            "|    0   N/A  N/A      2086      C                                    2421MiB |\n",
            "+-----------------------------------------------------------------------------+\n"
          ]
        }
      ]
    },
    {
      "cell_type": "code",
      "source": [
        "model_1.evaluate(test_data)"
      ],
      "metadata": {
        "colab": {
          "base_uri": "https://localhost:8080/"
        },
        "id": "rsE3raWWB96z",
        "outputId": "837e2fe9-2a4d-4340-aa73-c12c2fd951b4"
      },
      "execution_count": 66,
      "outputs": [
        {
          "output_type": "stream",
          "name": "stdout",
          "text": [
            "79/79 [==============================] - 12s 154ms/step - loss: 4.8982 - accuracy: 0.2656\n"
          ]
        },
        {
          "output_type": "execute_result",
          "data": {
            "text/plain": [
              "[4.898200988769531, 0.2655999958515167]"
            ]
          },
          "metadata": {},
          "execution_count": 66
        }
      ]
    },
    {
      "cell_type": "code",
      "source": [
        "import matplotlib.pyplot as plt\n"
      ],
      "metadata": {
        "id": "_l_NEqfVDXs7"
      },
      "execution_count": 70,
      "outputs": []
    },
    {
      "cell_type": "code",
      "source": [
        "def plot_loss_curves(history):\n",
        "  '''\n",
        "  returns separate loss curves for training and validation metrics\n",
        "  '''\n",
        "  loss = history.history[\"loss\"]\n",
        "  val_loss = history.history[\"val_loss\"]\n",
        "  accuracy = history.history[\"accuracy\"]\n",
        "  val_accuracy = history.history[\"val_accuracy\"]\n",
        "\n",
        "  epochs = range(len(history.history[\"loss\"]))\n",
        "\n",
        "  # plot loss\n",
        "  plt.figure()\n",
        "  plt.plot(epochs, loss, label=\"training loss\")\n",
        "  plt.plot(epochs, val_loss, label=\"validation loss\")\n",
        "  plt.title(\"label\")\n",
        "  plt.xlabel(\"epochs\")\n",
        "  plt.legend()\n",
        "\n",
        "  # plot accuracy\n",
        "  plt.figure()\n",
        "  plt.plot(epochs, accuracy, label=\"training accuracy\")\n",
        "  plt.plot(epochs, val_accuracy, label=\"validation accuracy\")\n",
        "  plt.title(\"label\")\n",
        "  plt.xlabel(\"epochs\")\n",
        "  plt.legend()"
      ],
      "metadata": {
        "id": "0vNaXJihDYQN"
      },
      "execution_count": 71,
      "outputs": []
    },
    {
      "cell_type": "code",
      "source": [
        "# Check out the model's loss curves\n",
        "plot_loss_curves(history_1)"
      ],
      "metadata": {
        "colab": {
          "base_uri": "https://localhost:8080/",
          "height": 573
        },
        "id": "Jlwy1wtfDcCa",
        "outputId": "e5bd7270-3d00-4f6f-fc03-bfdc8c5d064a"
      },
      "execution_count": 72,
      "outputs": [
        {
          "output_type": "display_data",
          "data": {
            "text/plain": [
              "<Figure size 432x288 with 1 Axes>"
            ],
            "image/png": "[encoded data removed]"
          },
          "metadata": {
            "needs_background": "light"
          }
        },
        {
          "output_type": "display_data",
          "data": {
            "text/plain": [
              "<Figure size 432x288 with 1 Axes>"
            ],
            "image/png": "[encoded data removed]"
          },
          "metadata": {
            "needs_background": "light"
          }
        }
      ]
    },
    {
      "cell_type": "markdown",
      "source": [
        "**Observation**: This is a clear case of overfitting to the training set badly. "
      ],
      "metadata": {
        "id": "iTGsF41wDgv8"
      }
    },
    {
      "cell_type": "code",
      "source": [
        "print(outline)"
      ],
      "metadata": {
        "colab": {
          "base_uri": "https://localhost:8080/"
        },
        "id": "wqmUFIgJDyBG",
        "outputId": "ff460dee-0832-4ab5-c5d6-3314b762b01f"
      },
      "execution_count": 75,
      "outputs": [
        {
          "output_type": "stream",
          "name": "stdout",
          "text": [
            "\n",
            "1. Become one with the data\n",
            "2. Preprocess the data (get it ready for a model)\n",
            "3. Create a model (start with a baseline)\n",
            "4. Fit the model (overfit it to make sure it works)\n",
            "5. Evaluate the model\n",
            "6. Adjust different hyperparameters and improve the model (try to beat baseline and reduce overfitting)\n",
            "7. Repeat until satisfied.\n",
            "\n"
          ]
        }
      ]
    },
    {
      "cell_type": "markdown",
      "source": [
        "## 6__ Improving the model\n",
        "\n",
        "It's clear that our model is learning but it's not generally to unseen data. Let's try to fix overfitting:\n",
        "* Get more data,\n",
        "* Simplify the model - reduce the number of hidden layers or hidden units\n",
        "* Data augmentation of the training data\n",
        "* test longer\n",
        "* transfer learning"
      ],
      "metadata": {
        "id": "XmyX7YqtEADs"
      }
    },
    {
      "cell_type": "code",
      "source": [
        "\n"
      ],
      "metadata": {
        "id": "22Zl7UR4E2P2"
      },
      "execution_count": 78,
      "outputs": []
    },
    {
      "cell_type": "markdown",
      "source": [
        "### simplify the model"
      ],
      "metadata": {
        "id": "Uwf4qMs0E7I7"
      }
    },
    {
      "cell_type": "code",
      "source": [
        "\n",
        "model_1.summary()"
      ],
      "metadata": {
        "id": "gABEpLiOG1LX"
      },
      "execution_count": null,
      "outputs": []
    },
    {
      "cell_type": "markdown",
      "source": [
        "* 💡 Let's remove 2 Conv2D layer"
      ],
      "metadata": {
        "id": "lSMKoS7jFHJs"
      }
    },
    {
      "cell_type": "code",
      "source": [
        "model_2 = Sequential([\n",
        "    Conv2D(10,3,input_shape=(224,224,3), activation=\"relu\"),\n",
        "    MaxPool2D(),\n",
        "    Conv2D(10,3,activation=\"relu\"),\n",
        "    MaxPool2D(),\n",
        "    Flatten(),\n",
        "    Dense(10,activation=\"softmax\")\n",
        "])\n",
        "model_2.compile(loss=\"categorical_crossentropy\",\n",
        "                 optimizer=\"Adam\",\n",
        "                 metrics=\"accuracy\")\n",
        "model_2.summary()"
      ],
      "metadata": {
        "colab": {
          "base_uri": "https://localhost:8080/"
        },
        "id": "xL9-VgZiFPSx",
        "outputId": "1a2c44e5-0cec-49c7-a5d7-ac7e2f21329c"
      },
      "execution_count": 82,
      "outputs": [
        {
          "output_type": "stream",
          "name": "stdout",
          "text": [
            "Model: \"sequential_12\"\n",
            "_________________________________________________________________\n",
            " Layer (type)                Output Shape              Param #   \n",
            "=================================================================\n",
            " conv2d_58 (Conv2D)          (None, 222, 222, 10)      280       \n",
            "                                                                 \n",
            " max_pooling2d_30 (MaxPoolin  (None, 111, 111, 10)     0         \n",
            " g2D)                                                            \n",
            "                                                                 \n",
            " conv2d_59 (Conv2D)          (None, 109, 109, 10)      910       \n",
            "                                                                 \n",
            " max_pooling2d_31 (MaxPoolin  (None, 54, 54, 10)       0         \n",
            " g2D)                                                            \n",
            "                                                                 \n",
            " flatten_14 (Flatten)        (None, 29160)             0         \n",
            "                                                                 \n",
            " dense_14 (Dense)            (None, 10)                291610    \n",
            "                                                                 \n",
            "=================================================================\n",
            "Total params: 292,800\n",
            "Trainable params: 292,800\n",
            "Non-trainable params: 0\n",
            "_________________________________________________________________\n"
          ]
        }
      ]
    },
    {
      "cell_type": "code",
      "source": [
        "history_2 = model_2.fit(train_data,\n",
        "            epochs=5,\n",
        "            steps_per_epoch=len(train_data),\n",
        "            validation_data=test_data,\n",
        "            validation_steps=len(test_data))"
      ],
      "metadata": {
        "colab": {
          "base_uri": "https://localhost:8080/"
        },
        "id": "luJ447gxGJUv",
        "outputId": "0a523f82-be16-40f7-d67b-5181697defc3"
      },
      "execution_count": 83,
      "outputs": [
        {
          "output_type": "stream",
          "name": "stdout",
          "text": [
            "Epoch 1/5\n",
            "235/235 [==============================] - 48s 200ms/step - loss: 2.1059 - accuracy: 0.2449 - val_loss: 1.8865 - val_accuracy: 0.3396\n",
            "Epoch 2/5\n",
            "235/235 [==============================] - 55s 233ms/step - loss: 1.6923 - accuracy: 0.4327 - val_loss: 1.8451 - val_accuracy: 0.3500\n",
            "Epoch 3/5\n",
            "235/235 [==============================] - 56s 237ms/step - loss: 1.2243 - accuracy: 0.6111 - val_loss: 1.9626 - val_accuracy: 0.3488\n",
            "Epoch 4/5\n",
            "235/235 [==============================] - 53s 227ms/step - loss: 0.7538 - accuracy: 0.7715 - val_loss: 2.3016 - val_accuracy: 0.3196\n",
            "Epoch 5/5\n",
            "235/235 [==============================] - 50s 213ms/step - loss: 0.4066 - accuracy: 0.8905 - val_loss: 2.6757 - val_accuracy: 0.2956\n"
          ]
        }
      ]
    },
    {
      "cell_type": "code",
      "source": [
        "# Check out the new loss curves\n",
        "plot_loss_curves(history_2)\n"
      ],
      "metadata": {
        "id": "JcmoaTdaGdjx"
      },
      "execution_count": null,
      "outputs": []
    },
    {
      "cell_type": "markdown",
      "source": [
        "* No improvement by simplifying the model. Notice that even though we removed 2 layers, the second model still has more parameters."
      ],
      "metadata": {
        "id": "pzEQVjbgGjMo"
      }
    },
    {
      "cell_type": "markdown",
      "source": [
        "### data augmentation"
      ],
      "metadata": {
        "id": "EJuOtc6jGi8G"
      }
    },
    {
      "cell_type": "code",
      "source": [
        "train_augmented_datagen = ImageDataGenerator(\n",
        "    rescale=1./255,\n",
        "    rotation_range=0.2,\n",
        "    width_shift_range=0.2,\n",
        "    height_shift_range=0.2,\n",
        "    shear_range=0.2,\n",
        "    zoom_range=0.2,\n",
        "    horizontal_flip=True\n",
        ")\n",
        "train_data = train_augmented_datagen.flow_from_directory(train_dir,\n",
        "                                                         batch_size=32,\n",
        "                                                         target_size=(224,224),\n",
        "                                                         class_mode=\"categorical\",\n",
        "                                                         shuffle=True\n",
        ")"
      ],
      "metadata": {
        "colab": {
          "base_uri": "https://localhost:8080/"
        },
        "id": "zlb1-htYG5J8",
        "outputId": "c00b63cd-2403-42ec-f1d8-a212d5eef25b"
      },
      "execution_count": 86,
      "outputs": [
        {
          "output_type": "stream",
          "name": "stdout",
          "text": [
            "Found 7500 images belonging to 10 classes.\n"
          ]
        }
      ]
    },
    {
      "cell_type": "markdown",
      "source": [
        "`clone_model` replicates an existing model's architecture but not any of its learned weights and biases."
      ],
      "metadata": {
        "id": "CyLzGdcUJLXz"
      }
    },
    {
      "cell_type": "code",
      "source": [
        "model_3 = tf.keras.models.clone_model(model_2)\n",
        "model_3.compile(loss=\"categorical_crossentropy\",\n",
        "                optimizer=Adam(),\n",
        "                metrics=[\"accuracy\"])\n",
        "model_3.summary()"
      ],
      "metadata": {
        "colab": {
          "base_uri": "https://localhost:8080/"
        },
        "id": "sKKOGJgTHVRS",
        "outputId": "11c27f1c-4637-4009-998e-3b6fe3bf2512"
      },
      "execution_count": 90,
      "outputs": [
        {
          "output_type": "stream",
          "name": "stdout",
          "text": [
            "Model: \"sequential_12\"\n",
            "_________________________________________________________________\n",
            " Layer (type)                Output Shape              Param #   \n",
            "=================================================================\n",
            " conv2d_58 (Conv2D)          (None, 222, 222, 10)      280       \n",
            "                                                                 \n",
            " max_pooling2d_30 (MaxPoolin  (None, 111, 111, 10)     0         \n",
            " g2D)                                                            \n",
            "                                                                 \n",
            " conv2d_59 (Conv2D)          (None, 109, 109, 10)      910       \n",
            "                                                                 \n",
            " max_pooling2d_31 (MaxPoolin  (None, 54, 54, 10)       0         \n",
            " g2D)                                                            \n",
            "                                                                 \n",
            " flatten_14 (Flatten)        (None, 29160)             0         \n",
            "                                                                 \n",
            " dense_14 (Dense)            (None, 10)                291610    \n",
            "                                                                 \n",
            "=================================================================\n",
            "Total params: 292,800\n",
            "Trainable params: 292,800\n",
            "Non-trainable params: 0\n",
            "_________________________________________________________________\n"
          ]
        }
      ]
    },
    {
      "cell_type": "code",
      "source": [
        "model_2.summary()"
      ],
      "metadata": {
        "colab": {
          "base_uri": "https://localhost:8080/"
        },
        "id": "cyP96bNpHVPE",
        "outputId": "f2bb8905-a2f0-44ac-ae03-bba6d6f955b2"
      },
      "execution_count": 91,
      "outputs": [
        {
          "output_type": "stream",
          "name": "stdout",
          "text": [
            "Model: \"sequential_12\"\n",
            "_________________________________________________________________\n",
            " Layer (type)                Output Shape              Param #   \n",
            "=================================================================\n",
            " conv2d_58 (Conv2D)          (None, 222, 222, 10)      280       \n",
            "                                                                 \n",
            " max_pooling2d_30 (MaxPoolin  (None, 111, 111, 10)     0         \n",
            " g2D)                                                            \n",
            "                                                                 \n",
            " conv2d_59 (Conv2D)          (None, 109, 109, 10)      910       \n",
            "                                                                 \n",
            " max_pooling2d_31 (MaxPoolin  (None, 54, 54, 10)       0         \n",
            " g2D)                                                            \n",
            "                                                                 \n",
            " flatten_14 (Flatten)        (None, 29160)             0         \n",
            "                                                                 \n",
            " dense_14 (Dense)            (None, 10)                291610    \n",
            "                                                                 \n",
            "=================================================================\n",
            "Total params: 292,800\n",
            "Trainable params: 292,800\n",
            "Non-trainable params: 0\n",
            "_________________________________________________________________\n"
          ]
        }
      ]
    },
    {
      "cell_type": "code",
      "source": [
        "history_3 = model_3.fit(train_data,\n",
        "                        epochs=5,\n",
        "                        steps_per_epoch=len(train_data),\n",
        "                        validation_data=test_data,\n",
        "                        validation_steps=len(test_data))"
      ],
      "metadata": {
        "colab": {
          "base_uri": "https://localhost:8080/"
        },
        "id": "v2Kx_SB4HVLc",
        "outputId": "bdb38108-521a-45a5-f314-a8abd3b6572f"
      },
      "execution_count": 93,
      "outputs": [
        {
          "output_type": "stream",
          "name": "stdout",
          "text": [
            "Epoch 1/5\n",
            "235/235 [==============================] - 124s 524ms/step - loss: 2.1940 - accuracy: 0.1936 - val_loss: 2.0317 - val_accuracy: 0.2776\n",
            "Epoch 2/5\n",
            "235/235 [==============================] - 123s 523ms/step - loss: 2.0728 - accuracy: 0.2596 - val_loss: 1.9613 - val_accuracy: 0.3032\n",
            "Epoch 3/5\n",
            "235/235 [==============================] - 113s 483ms/step - loss: 2.0251 - accuracy: 0.2888 - val_loss: 1.8720 - val_accuracy: 0.3480\n",
            "Epoch 4/5\n",
            "235/235 [==============================] - 114s 484ms/step - loss: 1.9857 - accuracy: 0.3080 - val_loss: 1.8610 - val_accuracy: 0.3560\n",
            "Epoch 5/5\n",
            "235/235 [==============================] - 112s 478ms/step - loss: 1.9413 - accuracy: 0.3355 - val_loss: 1.8383 - val_accuracy: 0.3732\n"
          ]
        }
      ]
    },
    {
      "cell_type": "code",
      "source": [],
      "metadata": {
        "id": "ghLSiLGJJ8fm"
      },
      "execution_count": null,
      "outputs": []
    },
    {
      "cell_type": "code",
      "source": [
        "!nvidia-smi"
      ],
      "metadata": {
        "id": "dygh4cyPHVIh"
      },
      "execution_count": null,
      "outputs": []
    },
    {
      "cell_type": "code",
      "source": [
        "model_3.evaluate(test_data)"
      ],
      "metadata": {
        "colab": {
          "base_uri": "https://localhost:8080/"
        },
        "id": "qVNBCXWWJ-Rf",
        "outputId": "026d07fb-e148-4d36-ec5c-84fe4ba9d3df"
      },
      "execution_count": 94,
      "outputs": [
        {
          "output_type": "stream",
          "name": "stdout",
          "text": [
            "79/79 [==============================] - 11s 142ms/step - loss: 1.8383 - accuracy: 0.3732\n"
          ]
        },
        {
          "output_type": "execute_result",
          "data": {
            "text/plain": [
              "[1.8382800817489624, 0.373199999332428]"
            ]
          },
          "metadata": {},
          "execution_count": 94
        }
      ]
    },
    {
      "cell_type": "code",
      "source": [
        "plot_loss_curves(history_3)"
      ],
      "metadata": {
        "colab": {
          "base_uri": "https://localhost:8080/",
          "height": 573
        },
        "id": "pBsRt6bDHVFb",
        "outputId": "c04af04b-6e03-40d4-84d0-556732ccfc0d"
      },
      "execution_count": 95,
      "outputs": [
        {
          "output_type": "display_data",
          "data": {
            "text/plain": [
              "<Figure size 432x288 with 1 Axes>"
            ],
            "image/png": "[encoded data removed]"
          },
          "metadata": {
            "needs_background": "light"
          }
        },
        {
          "output_type": "display_data",
          "data": {
            "text/plain": [
              "<Figure size 432x288 with 1 Axes>"
            ],
            "image/png": "[encoded data removed]"
          },
          "metadata": {
            "needs_background": "light"
          }
        }
      ]
    },
    {
      "cell_type": "code",
      "source": [],
      "metadata": {
        "id": "ZVUVX4SbHVCL"
      },
      "execution_count": null,
      "outputs": []
    },
    {
      "cell_type": "markdown",
      "source": [
        "* That looks much better. The loss curves are closer to each other than in the baseline model. So it looks like they're heading in the right direction and will get better results if left to train longer."
      ],
      "metadata": {
        "id": "eZCf7yCcHUzr"
      }
    },
    {
      "cell_type": "code",
      "source": [
        "print(outline)"
      ],
      "metadata": {
        "colab": {
          "base_uri": "https://localhost:8080/"
        },
        "id": "4PlU7JjVHUt2",
        "outputId": "b56cb489-cced-4016-97ee-328999d48b97"
      },
      "execution_count": 96,
      "outputs": [
        {
          "output_type": "stream",
          "name": "stdout",
          "text": [
            "\n",
            "1. Become one with the data\n",
            "2. Preprocess the data (get it ready for a model)\n",
            "3. Create a model (start with a baseline)\n",
            "4. Fit the model (overfit it to make sure it works)\n",
            "5. Evaluate the model\n",
            "6. Adjust different hyperparameters and improve the model (try to beat baseline and reduce overfitting)\n",
            "7. Repeat until satisfied.\n",
            "\n"
          ]
        }
      ]
    },
    {
      "cell_type": "markdown",
      "source": [
        "## 7__ Repeat until satisfied"
      ],
      "metadata": {
        "id": "1f-cFkyFHUqP"
      }
    },
    {
      "cell_type": "code",
      "source": [],
      "metadata": {
        "id": "mIZ4RSogHUm5"
      },
      "execution_count": null,
      "outputs": []
    },
    {
      "cell_type": "code",
      "source": [],
      "metadata": {
        "id": "hpCxN2-jHUcE"
      },
      "execution_count": null,
      "outputs": []
    }
  ]
}