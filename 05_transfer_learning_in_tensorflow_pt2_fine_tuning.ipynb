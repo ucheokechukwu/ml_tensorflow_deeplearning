{
  "cells": [
    {
      "cell_type": "markdown",
      "metadata": {
        "id": "view-in-github",
        "colab_type": "text"
      },
      "source": [
        "<a href=\"https://colab.research.google.com/github/ucheokechukwu/ml_tensorflow_deeplearning/blob/main/05_transfer_learning_in_tensorflow_pt2_fine_tuning.ipynb\" target=\"_parent\"><img src=\"https://colab.research.google.com/assets/colab-badge.svg\" alt=\"Open In Colab\"/></a>"
      ]
    },
    {
      "cell_type": "markdown",
      "metadata": {
        "id": "rfwKILCp0biJ"
      },
      "source": [
        "# Transfer Learning with TensorFlow Pt2 Fine Tuning\n",
        "\n",
        "In the previous notebook, we covered Feature Extraction. Now we'll cover another kind of Transfer Learning - Fine Tuning."
      ]
    },
    {
      "cell_type": "code",
      "execution_count": null,
      "metadata": {
        "id": "GWzow-Ay0t2Z",
        "colab": {
          "base_uri": "https://localhost:8080/"
        },
        "outputId": "687c83e8-72c0-48d4-c9bd-f000015693cf"
      },
      "outputs": [
        {
          "output_type": "stream",
          "name": "stdout",
          "text": [
            "Tue Feb 21 23:24:15 2023       \n",
            "+-----------------------------------------------------------------------------+\n",
            "| NVIDIA-SMI 510.47.03    Driver Version: 510.47.03    CUDA Version: 11.6     |\n",
            "|-------------------------------+----------------------+----------------------+\n",
            "| GPU  Name        Persistence-M| Bus-Id        Disp.A | Volatile Uncorr. ECC |\n",
            "| Fan  Temp  Perf  Pwr:Usage/Cap|         Memory-Usage | GPU-Util  Compute M. |\n",
            "|                               |                      |               MIG M. |\n",
            "|===============================+======================+======================|\n",
            "|   0  NVIDIA A100-SXM...  Off  | 00000000:00:04.0 Off |                    0 |\n",
            "| N/A   32C    P0    53W / 400W |      0MiB / 40960MiB |      0%      Default |\n",
            "|                               |                      |             Disabled |\n",
            "+-------------------------------+----------------------+----------------------+\n",
            "                                                                               \n",
            "+-----------------------------------------------------------------------------+\n",
            "| Processes:                                                                  |\n",
            "|  GPU   GI   CI        PID   Type   Process name                  GPU Memory |\n",
            "|        ID   ID                                                   Usage      |\n",
            "|=============================================================================|\n",
            "|  No running processes found                                                 |\n",
            "+-----------------------------------------------------------------------------+\n"
          ]
        }
      ],
      "source": [
        "!nvidia-smi"
      ]
    },
    {
      "cell_type": "markdown",
      "metadata": {
        "id": "ETTPLt7S0wXN"
      },
      "source": [
        "## Creating helper functions\n",
        "\n",
        "In previous notebooks, we created a bunch of helper functions. Rather than tediously rewriting them, we're going to learn how to import functions.\n",
        "\n",
        "🔑 **Note**: If you're running this notebook in Google Colab, when it times out, Colab will delete the script and you'll have to redownload it (re-run !wget)."
      ]
    },
    {
      "cell_type": "code",
      "execution_count": null,
      "metadata": {
        "id": "nh7KIt8E0_lJ",
        "colab": {
          "base_uri": "https://localhost:8080/"
        },
        "outputId": "ba5e64ad-51d9-4c67-f00b-c75dd136f3a5"
      },
      "outputs": [
        {
          "output_type": "stream",
          "name": "stdout",
          "text": [
            "--2023-02-21 23:24:16--  https://raw.githubusercontent.com/mrdbourke/tensorflow-deep-learning/main/extras/helper_functions.py\n",
            "Resolving raw.githubusercontent.com (raw.githubusercontent.com)... 185.199.108.133, 185.199.109.133, 185.199.110.133, ...\n",
            "Connecting to raw.githubusercontent.com (raw.githubusercontent.com)|185.199.108.133|:443... connected.\n",
            "HTTP request sent, awaiting response... 200 OK\n",
            "Length: 10246 (10K) [text/plain]\n",
            "Saving to: ‘helper_functions.py’\n",
            "\n",
            "\rhelper_functions.py   0%[                    ]       0  --.-KB/s               \rhelper_functions.py 100%[===================>]  10.01K  --.-KB/s    in 0s      \n",
            "\n",
            "2023-02-21 23:24:16 (110 MB/s) - ‘helper_functions.py’ saved [10246/10246]\n",
            "\n"
          ]
        }
      ],
      "source": [
        "!wget https://raw.githubusercontent.com/mrdbourke/tensorflow-deep-learning/main/extras/helper_functions.py\n"
      ]
    },
    {
      "cell_type": "code",
      "execution_count": null,
      "metadata": {
        "id": "un4plfe_1N0q"
      },
      "outputs": [],
      "source": [
        "# Import helper functions\n",
        "from helper_functions import create_tensorboard_callback, plot_loss_curves, unzip_data, walk_through_dir"
      ]
    },
    {
      "cell_type": "markdown",
      "metadata": {
        "id": "1VlKshIT1vBg"
      },
      "source": [
        "# Let's get data\n",
        "\n",
        "This time we're going to see how we can use the pretrained models in tf.keras.applications and apply them to our own problem (recognizing images of food)\n",
        "https://keras.io/api/applications/"
      ]
    },
    {
      "cell_type": "code",
      "execution_count": null,
      "metadata": {
        "id": "ujuE8pFN13kb",
        "colab": {
          "base_uri": "https://localhost:8080/"
        },
        "outputId": "453417de-e7f7-4ffc-d676-69115c22c21f"
      },
      "outputs": [
        {
          "output_type": "stream",
          "name": "stdout",
          "text": [
            "--2023-02-21 23:24:19--  https://storage.googleapis.com/ztm_tf_course/food_vision/10_food_classes_10_percent.zip\n",
            "Resolving storage.googleapis.com (storage.googleapis.com)... 172.253.119.128, 108.177.111.128, 142.250.1.128, ...\n",
            "Connecting to storage.googleapis.com (storage.googleapis.com)|172.253.119.128|:443... connected.\n",
            "HTTP request sent, awaiting response... 200 OK\n",
            "Length: 168546183 (161M) [application/zip]\n",
            "Saving to: ‘10_food_classes_10_percent.zip’\n",
            "\n",
            "10_food_classes_10_ 100%[===================>] 160.74M   228MB/s    in 0.7s    \n",
            "\n",
            "2023-02-21 23:24:20 (228 MB/s) - ‘10_food_classes_10_percent.zip’ saved [168546183/168546183]\n",
            "\n"
          ]
        }
      ],
      "source": [
        "# Get 10% training data of 10 classes of Food101\n",
        "!wget https://storage.googleapis.com/ztm_tf_course/food_vision/10_food_classes_10_percent.zip"
      ]
    },
    {
      "cell_type": "code",
      "execution_count": null,
      "metadata": {
        "id": "XWaGn_jLAAj4"
      },
      "outputs": [],
      "source": [
        "unzip_data(\"/content/10_food_classes_10_percent.zip\")"
      ]
    },
    {
      "cell_type": "code",
      "execution_count": null,
      "metadata": {
        "id": "mug7YB7pAFVv",
        "colab": {
          "base_uri": "https://localhost:8080/"
        },
        "outputId": "607f7c9d-a469-4b01-e8d6-1caf8b1f9925"
      },
      "outputs": [
        {
          "output_type": "stream",
          "name": "stdout",
          "text": [
            "There are 2 directories and 0 images in '/content/10_food_classes_10_percent'.\n",
            "There are 10 directories and 0 images in '/content/10_food_classes_10_percent/test'.\n",
            "There are 0 directories and 250 images in '/content/10_food_classes_10_percent/test/fried_rice'.\n",
            "There are 0 directories and 250 images in '/content/10_food_classes_10_percent/test/sushi'.\n",
            "There are 0 directories and 250 images in '/content/10_food_classes_10_percent/test/chicken_curry'.\n",
            "There are 0 directories and 250 images in '/content/10_food_classes_10_percent/test/chicken_wings'.\n",
            "There are 0 directories and 250 images in '/content/10_food_classes_10_percent/test/pizza'.\n",
            "There are 0 directories and 250 images in '/content/10_food_classes_10_percent/test/steak'.\n",
            "There are 0 directories and 250 images in '/content/10_food_classes_10_percent/test/grilled_salmon'.\n",
            "There are 0 directories and 250 images in '/content/10_food_classes_10_percent/test/ramen'.\n",
            "There are 0 directories and 250 images in '/content/10_food_classes_10_percent/test/hamburger'.\n",
            "There are 0 directories and 250 images in '/content/10_food_classes_10_percent/test/ice_cream'.\n",
            "There are 10 directories and 0 images in '/content/10_food_classes_10_percent/train'.\n",
            "There are 0 directories and 75 images in '/content/10_food_classes_10_percent/train/fried_rice'.\n",
            "There are 0 directories and 75 images in '/content/10_food_classes_10_percent/train/sushi'.\n",
            "There are 0 directories and 75 images in '/content/10_food_classes_10_percent/train/chicken_curry'.\n",
            "There are 0 directories and 75 images in '/content/10_food_classes_10_percent/train/chicken_wings'.\n",
            "There are 0 directories and 75 images in '/content/10_food_classes_10_percent/train/pizza'.\n",
            "There are 0 directories and 75 images in '/content/10_food_classes_10_percent/train/steak'.\n",
            "There are 0 directories and 75 images in '/content/10_food_classes_10_percent/train/grilled_salmon'.\n",
            "There are 0 directories and 75 images in '/content/10_food_classes_10_percent/train/ramen'.\n",
            "There are 0 directories and 75 images in '/content/10_food_classes_10_percent/train/hamburger'.\n",
            "There are 0 directories and 75 images in '/content/10_food_classes_10_percent/train/ice_cream'.\n"
          ]
        }
      ],
      "source": [
        "# Check out how many images and subdirectories are in our dataset\n",
        "walk_through_dir(\"/content/10_food_classes_10_percent\")"
      ]
    },
    {
      "cell_type": "code",
      "execution_count": null,
      "metadata": {
        "id": "Ve7mWODKARNB"
      },
      "outputs": [],
      "source": [
        "# Create training and test directory paths\n",
        "train_dir = \"/content/10_food_classes_10_percent/train/\"\n",
        "test_dir = \"/content/10_food_classes_10_percent/test/\""
      ]
    },
    {
      "cell_type": "markdown",
      "metadata": {
        "id": "_GzCx4rCAu7e"
      },
      "source": [
        "`image_dataset_from_directory()`:\n",
        "\n",
        "This is going to replace the `ImageDataGenerator` because it creates a `tf.data.Dataset` which is a handy tf datatype. You don't need to create a `datagen` and then apply it to the path_dir."
      ]
    },
    {
      "cell_type": "code",
      "execution_count": null,
      "metadata": {
        "id": "D4SyfPRvAuo9",
        "colab": {
          "base_uri": "https://localhost:8080/"
        },
        "outputId": "7762a9c0-d517-411c-927b-86e3992f8a4f"
      },
      "outputs": [
        {
          "output_type": "stream",
          "name": "stdout",
          "text": [
            "Found 750 files belonging to 10 classes.\n",
            "Found 2500 files belonging to 10 classes.\n"
          ]
        }
      ],
      "source": [
        "import tensorflow as tf\n",
        "IMG_SIZE = (224,224)\n",
        "BATCH_SIZE = 32\n",
        "train_data_10_percent = tf.keras.preprocessing.image_dataset_from_directory(directory=train_dir,\n",
        "                                                                            image_size=IMG_SIZE,\n",
        "                                                                            label_mode=\"categorical\",\n",
        "                                                                            batch_size=BATCH_SIZE)\n",
        "test_data = tf.keras.preprocessing.image_dataset_from_directory(directory=test_dir,\n",
        "                                                                            image_size=IMG_SIZE,\n",
        "                                                                            label_mode=\"categorical\",\n",
        "                                                                            batch_size=BATCH_SIZE)"
      ]
    },
    {
      "cell_type": "code",
      "execution_count": null,
      "metadata": {
        "id": "46-OQzcWBaxf",
        "colab": {
          "base_uri": "https://localhost:8080/"
        },
        "outputId": "8f5def32-0844-4045-93b5-064af96d22d2"
      },
      "outputs": [
        {
          "output_type": "execute_result",
          "data": {
            "text/plain": [
              "<BatchDataset element_spec=(TensorSpec(shape=(None, 224, 224, 3), dtype=tf.float32, name=None), TensorSpec(shape=(None, 10), dtype=tf.float32, name=None))>"
            ]
          },
          "metadata": {},
          "execution_count": 9
        }
      ],
      "source": [
        "train_data_10_percent"
      ]
    },
    {
      "cell_type": "markdown",
      "metadata": {
        "id": "Cax_Z_j7BeX-"
      },
      "source": [
        "`BatchDataset` : means the function has changed data into batches. `None` leaves a dimension in the tensor for different batches.\n",
        "The labels are one-hot encoded."
      ]
    },
    {
      "cell_type": "code",
      "execution_count": null,
      "metadata": {
        "id": "IzwSksrsBv4i",
        "colab": {
          "base_uri": "https://localhost:8080/"
        },
        "outputId": "340062c0-979d-4e96-e46b-901291d90900"
      },
      "outputs": [
        {
          "output_type": "execute_result",
          "data": {
            "text/plain": [
              "['chicken_curry',\n",
              " 'chicken_wings',\n",
              " 'fried_rice',\n",
              " 'grilled_salmon',\n",
              " 'hamburger',\n",
              " 'ice_cream',\n",
              " 'pizza',\n",
              " 'ramen',\n",
              " 'steak',\n",
              " 'sushi']"
            ]
          },
          "metadata": {},
          "execution_count": 10
        }
      ],
      "source": [
        "# Check out class names of our dataset\n",
        "train_data_10_percent.class_names"
      ]
    },
    {
      "cell_type": "code",
      "execution_count": null,
      "metadata": {
        "id": "SER6nTVHB_fD",
        "colab": {
          "base_uri": "https://localhost:8080/"
        },
        "outputId": "5cc5e66e-e3ab-40ee-8ac1-5d9fee0dfdb3"
      },
      "outputs": [
        {
          "output_type": "stream",
          "name": "stdout",
          "text": [
            "tf.Tensor(\n",
            "[[[[236.33673    203.33673    160.33673   ]\n",
            "   [218.24998    185.24998    144.24998   ]\n",
            "   [208.32143    172.67857    135.10715   ]\n",
            "   ...\n",
            "   [224.34697    106.06139     96.704185  ]\n",
            "   [235.4695     136.68387    111.85216   ]\n",
            "   [248.15819    167.06659    131.40834   ]]\n",
            "\n",
            "  [[235.4949     202.4949     159.4949    ]\n",
            "   [217.69897    182.69897    142.69897   ]\n",
            "   [209.91325    171.2857     136.04082   ]\n",
            "   ...\n",
            "   [203.81128     82.12259     74.10718   ]\n",
            "   [206.9898      96.780685    76.20407   ]\n",
            "   [221.76576    121.98523     91.1025    ]]\n",
            "\n",
            "  [[237.21939    201.57652    162.21939   ]\n",
            "   [216.92857    178.5        141.92857   ]\n",
            "   [212.15817    169.06633    135.87756   ]\n",
            "   ...\n",
            "   [209.7348      83.75526     78.9184    ]\n",
            "   [213.02046     91.07661     74.48983   ]\n",
            "   [226.7298     106.44408     84.158295  ]]\n",
            "\n",
            "  ...\n",
            "\n",
            "  [[  5.857121     5.857121    65.857124  ]\n",
            "   [  6.8010406    6.8010406   66.80104   ]\n",
            "   [  5.2601995    5.0459137   65.04591   ]\n",
            "   ...\n",
            "   [254.16835    231.16835    199.78574   ]\n",
            "   [253.21426    230.21426    199.        ]\n",
            "   [253.70918    230.70918    199.70918   ]]\n",
            "\n",
            "  [[  5.285714     5.285714    65.28571   ]\n",
            "   [  6.9285583    6.9285583   66.92856   ]\n",
            "   [  4.943867     4.7295814   64.72958   ]\n",
            "   ...\n",
            "   [250.92856    227.92856    196.7143    ]\n",
            "   [251.14288    228.14288    197.14288   ]\n",
            "   [253.4031     230.4031     199.4031    ]]\n",
            "\n",
            "  [[  5.7704206    5.7704206   65.770424  ]\n",
            "   [  4.7397633    4.7397633   64.73976   ]\n",
            "   [  4.147932     3.9336462   63.933647  ]\n",
            "   ...\n",
            "   [251.92865    228.92865    197.92865   ]\n",
            "   [254.4031     231.76028    200.76028   ]\n",
            "   [254.         231.         200.        ]]]\n",
            "\n",
            "\n",
            " [[[231.9949     242.69388    238.56633   ]\n",
            "   [241.89285    252.79591    248.46428   ]\n",
            "   [245.5        254.92348    251.84694   ]\n",
            "   ...\n",
            "   [140.08179    108.02554    129.301     ]\n",
            "   [148.57147    115.071495   130.64288   ]\n",
            "   [153.80098    127.872475   137.6122    ]]\n",
            "\n",
            "  [[179.65816    190.65816    196.37245   ]\n",
            "   [169.94388    180.94388    186.65816   ]\n",
            "   [165.5204     174.14795    181.05101   ]\n",
            "   ...\n",
            "   [160.9696     123.45417    127.93878   ]\n",
            "   [160.64288    119.80105    116.29591   ]\n",
            "   [162.5049     124.71925    117.88248   ]]\n",
            "\n",
            "  [[242.15817    252.86736    255.        ]\n",
            "   [244.60204    254.60204    255.        ]\n",
            "   [239.48979    248.65817    252.75511   ]\n",
            "   ...\n",
            "   [172.80103    127.30084    119.469154  ]\n",
            "   [177.45409    124.51019    110.5969    ]\n",
            "   [173.59166    121.09166    104.73451   ]]\n",
            "\n",
            "  ...\n",
            "\n",
            "  [[250.78574    255.         249.78574   ]\n",
            "   [250.78574    255.         249.78574   ]\n",
            "   [251.59694    255.         249.9541    ]\n",
            "   ...\n",
            "   [ 12.214264    12.214264    13.877554  ]\n",
            "   [ 14.          14.          15.428589  ]\n",
            "   [ 14.571472    15.          15.642853  ]]\n",
            "\n",
            "  [[251.         255.         250.        ]\n",
            "   [251.         255.         250.        ]\n",
            "   [252.37244    255.         252.94386   ]\n",
            "   ...\n",
            "   [ 11.127515    10.698987    12.913251  ]\n",
            "   [ 11.142883    10.142883    15.280663  ]\n",
            "   [ 12.096959    11.096959    17.239841  ]]\n",
            "\n",
            "  [[250.         255.         251.        ]\n",
            "   [250.         255.         251.        ]\n",
            "   [251.14793    254.71936    253.71936   ]\n",
            "   ...\n",
            "   [ 12.653152    10.653152    15.224625  ]\n",
            "   [ 13.          12.          18.806204  ]\n",
            "   [ 13.515246    11.515246    22.515245  ]]]\n",
            "\n",
            "\n",
            " [[[124.43367    135.78061    150.44897   ]\n",
            "   [196.88266    190.29082    192.42857   ]\n",
            "   [172.51021    153.87245    142.7347    ]\n",
            "   ...\n",
            "   [123.64797     86.64797     42.142857  ]\n",
            "   [128.14288     92.14288     43.94897   ]\n",
            "   [130.86732     95.2245      42.510147  ]]\n",
            "\n",
            "  [[108.20408    125.39286    150.63776   ]\n",
            "   [159.92857    158.35715    169.4949    ]\n",
            "   [177.39795    163.92857    156.7143    ]\n",
            "   ...\n",
            "   [119.92857     81.71431     37.142838  ]\n",
            "   [122.22448     84.22448     37.081593  ]\n",
            "   [117.33153     80.33153     28.331524  ]]\n",
            "\n",
            "  [[114.16837    137.4643     179.5204    ]\n",
            "   [131.79593    139.4796     163.42346   ]\n",
            "   [161.91837    158.89795    158.65816   ]\n",
            "   ...\n",
            "   [118.35714     80.18879     35.525494  ]\n",
            "   [114.35717     76.35717     29.214287  ]\n",
            "   [123.418564    85.6992      35.857285  ]]\n",
            "\n",
            "  ...\n",
            "\n",
            "  [[  7.494884     7.494884     7.494884  ]\n",
            "   [  7.9438763    7.9438763    7.9438763 ]\n",
            "   [  9.57145      9.57145      9.57145   ]\n",
            "   ...\n",
            "   [229.         213.21426    196.57147   ]\n",
            "   [227.         211.         195.        ]\n",
            "   [228.8521     212.8521     196.8521    ]]\n",
            "\n",
            "  [[  9.331628     9.331628     9.331628  ]\n",
            "   [ 10.85713     10.85713     10.85713   ]\n",
            "   [ 12.642831    12.642831    12.642831  ]\n",
            "   ...\n",
            "   [226.92856    211.14282    194.50003   ]\n",
            "   [225.93365    209.93365    193.93365   ]\n",
            "   [228.68884    212.68884    196.68884   ]]\n",
            "\n",
            "  [[  8.586757     8.586757     8.586757  ]\n",
            "   [  8.928572     8.928572     8.928572  ]\n",
            "   [  9.709176     9.709176     9.709176  ]\n",
            "   ...\n",
            "   [225.92348    210.13774    193.49495   ]\n",
            "   [225.07144    209.07144    193.07144   ]\n",
            "   [228.35718    212.35718    196.35718   ]]]\n",
            "\n",
            "\n",
            " ...\n",
            "\n",
            "\n",
            " [[[151.9949     103.9949      18.994898  ]\n",
            "   [146.54591    100.54592     12.5459175 ]\n",
            "   [149.38776    103.38776     15.3877535 ]\n",
            "   ...\n",
            "   [ 93.21925     91.08151     15.377499  ]\n",
            "   [ 81.58661     83.392746     7.096839  ]\n",
            "   [ 80.90313     83.90313      3.3622873 ]]\n",
            "\n",
            "  [[158.81633    112.81632     24.816326  ]\n",
            "   [154.49998    108.5         20.499998  ]\n",
            "   [156.40305    110.61735     21.974485  ]\n",
            "   ...\n",
            "   [109.52536    106.18357     26.897896  ]\n",
            "   [ 95.112045    93.525345    16.254902  ]\n",
            "   [ 80.275635    83.035904     0.709246  ]]\n",
            "\n",
            "  [[157.80103    111.80102     23.80102   ]\n",
            "   [158.21428    112.42857     23.785713  ]\n",
            "   [160.2551     115.34694     24.301018  ]\n",
            "   ...\n",
            "   [133.3772     128.16293     46.520138  ]\n",
            "   [109.88784    107.24501     25.658245  ]\n",
            "   [ 95.71369     96.55561      9.871913  ]]\n",
            "\n",
            "  ...\n",
            "\n",
            "  [[122.41836     96.98983     15.204097  ]\n",
            "   [109.907974    84.907974     2.9079766 ]\n",
            "   [ 98.24474     73.24474      0.        ]\n",
            "   ...\n",
            "   [200.11754    166.45424     33.071625  ]\n",
            "   [206.48473    173.68369     40.398037  ]\n",
            "   [207.43388    174.43388     43.005363  ]]\n",
            "\n",
            "  [[ 94.38799     69.38799      0.32148746]\n",
            "   [110.52558     85.52558      2.1888368 ]\n",
            "   [108.95928     84.602135     1.9796662 ]\n",
            "   ...\n",
            "   [199.6785     164.0357      36.249973  ]\n",
            "   [206.41844    171.41844     43.694     ]\n",
            "   [212.54066    178.54066     52.54066   ]]\n",
            "\n",
            "  [[128.99007    103.99006     19.99006   ]\n",
            "   [121.63341     96.63341     12.633406  ]\n",
            "   [124.39875    100.04161     15.613035  ]\n",
            "   ...\n",
            "   [205.04063    169.39784     43.612106  ]\n",
            "   [208.1889     173.1889      47.1889    ]\n",
            "   [214.34169    180.34169     56.341686  ]]]\n",
            "\n",
            "\n",
            " [[[ 22.556122    19.556122    12.556122  ]\n",
            "   [ 22.336735    19.336735    12.336735  ]\n",
            "   [ 22.295918    19.295918    12.295918  ]\n",
            "   ...\n",
            "   [215.13774    197.13774    151.13774   ]\n",
            "   [215.88263    197.88263    149.88263   ]\n",
            "   [217.19907    199.19907    151.19907   ]]\n",
            "\n",
            "  [[ 19.642857    16.642857     9.642858  ]\n",
            "   [ 22.          19.          12.        ]\n",
            "   [ 22.785713    19.785713    12.785714  ]\n",
            "   ...\n",
            "   [215.22957    197.22957    149.6581    ]\n",
            "   [216.78569    198.78569    150.78569   ]\n",
            "   [215.71436    197.71436    149.71436   ]]\n",
            "\n",
            "  [[ 19.214287    16.214287    11.214286  ]\n",
            "   [ 17.69898     14.698979     9.698979  ]\n",
            "   [ 19.428574    16.428574    11.428572  ]\n",
            "   ...\n",
            "   [213.26018    195.26018    147.59688   ]\n",
            "   [218.19897    200.19897    152.19897   ]\n",
            "   [216.70918    198.70918    150.70918   ]]\n",
            "\n",
            "  ...\n",
            "\n",
            "  [[ 73.5054      56.857407    28.50024   ]\n",
            "   [ 90.52571     73.081795    35.867462  ]\n",
            "   [ 98.525536    81.31125     35.311207  ]\n",
            "   ...\n",
            "   [155.28067     81.61738     32.449028  ]\n",
            "   [156.40302     80.40301     30.260124  ]\n",
            "   [157.64276     81.709145    28.867203  ]]\n",
            "\n",
            "  [[ 87.403046    67.64283     36.020374  ]\n",
            "   [ 90.34188     73.270454    30.76025   ]\n",
            "   [ 97.62761     81.214355    31.857182  ]\n",
            "   ...\n",
            "   [156.5716      87.143005    36.668495  ]\n",
            "   [158.26535     87.132675    35.05613   ]\n",
            "   [162.61226     89.61226     34.612255  ]]\n",
            "\n",
            "  [[ 88.597046    68.597046    34.311333  ]\n",
            "   [ 94.73969     75.73969     32.95398   ]\n",
            "   [109.091934    93.091934    41.87765   ]\n",
            "   ...\n",
            "   [152.93349     85.59161     36.30082   ]\n",
            "   [153.1784      83.24985     30.98449   ]\n",
            "   [154.59732     83.954506    26.882973  ]]]\n",
            "\n",
            "\n",
            " [[[ 56.658165    36.658165    13.040817  ]\n",
            "   [ 57.142857    36.142857    15.142858  ]\n",
            "   [ 58.14286     36.14286     15.1428585 ]\n",
            "   ...\n",
            "   [ 58.790745    33.6377      13.285693  ]\n",
            "   [ 58.096943    36.14287     15.142871  ]\n",
            "   [ 56.070942    35.070942    14.326068  ]]\n",
            "\n",
            "  [[ 57.954082    36.954082    15.954082  ]\n",
            "   [ 59.          38.          17.        ]\n",
            "   [ 61.571426    39.571426    18.571428  ]\n",
            "   ...\n",
            "   [ 60.11214     37.300976    16.142836  ]\n",
            "   [ 59.86732     39.000015    17.933674  ]\n",
            "   [ 56.06583     37.928085    15.973999  ]]\n",
            "\n",
            "  [[ 56.933674    34.933674    13.933675  ]\n",
            "   [ 58.857143    36.857143    15.857143  ]\n",
            "   [ 60.591835    38.454082    17.408163  ]\n",
            "   ...\n",
            "   [ 58.54585     36.54585     15.209148  ]\n",
            "   [ 55.857143    37.857143    15.857143  ]\n",
            "   [ 52.780117    36.780117    13.780117  ]]\n",
            "\n",
            "  ...\n",
            "\n",
            "  [[ 57.566204    33.923412    16.137676  ]\n",
            "   [ 59.285583    36.64279     15.857056  ]\n",
            "   [ 60.92844     38.331562    15.285627  ]\n",
            "   ...\n",
            "   [ 61.857056    36.64279     14.428528  ]\n",
            "   [ 57.198956    34.198956    16.198956  ]\n",
            "   [ 56.565926    35.565926    18.565926  ]]\n",
            "\n",
            "  [[ 58.188744    37.40307     16.331629  ]\n",
            "   [ 59.92856     38.92856     17.928558  ]\n",
            "   [ 60.770393    40.341824    16.341822  ]\n",
            "   ...\n",
            "   [ 64.714294    39.50003     17.285767  ]\n",
            "   [ 59.076546    36.142883    17.94387   ]\n",
            "   [ 57.35678     34.35678     16.356781  ]]\n",
            "\n",
            "  [[ 53.300625    37.300625    14.555752  ]\n",
            "   [ 55.11696     37.11696     15.116961  ]\n",
            "   [ 55.64755     37.21898     13.218977  ]\n",
            "   ...\n",
            "   [ 61.423073    35.994545    14.208809  ]\n",
            "   [ 56.35681     34.35681     13.356812  ]\n",
            "   [ 55.856445    32.856445    14.856445  ]]]], shape=(32, 224, 224, 3), dtype=float32) tf.Tensor(\n",
            "[[0. 1. 0. 0. 0. 0. 0. 0. 0. 0.]\n",
            " [0. 0. 0. 0. 0. 0. 0. 1. 0. 0.]\n",
            " [0. 0. 0. 0. 0. 0. 0. 1. 0. 0.]\n",
            " [1. 0. 0. 0. 0. 0. 0. 0. 0. 0.]\n",
            " [0. 0. 0. 0. 1. 0. 0. 0. 0. 0.]\n",
            " [0. 0. 0. 0. 0. 0. 1. 0. 0. 0.]\n",
            " [1. 0. 0. 0. 0. 0. 0. 0. 0. 0.]\n",
            " [0. 0. 0. 0. 0. 0. 1. 0. 0. 0.]\n",
            " [0. 0. 0. 0. 0. 0. 0. 0. 1. 0.]\n",
            " [0. 0. 0. 0. 0. 0. 0. 0. 1. 0.]\n",
            " [0. 0. 0. 0. 0. 0. 0. 0. 0. 1.]\n",
            " [0. 0. 0. 0. 0. 0. 0. 0. 1. 0.]\n",
            " [0. 0. 0. 1. 0. 0. 0. 0. 0. 0.]\n",
            " [0. 0. 0. 1. 0. 0. 0. 0. 0. 0.]\n",
            " [0. 0. 0. 0. 0. 1. 0. 0. 0. 0.]\n",
            " [0. 1. 0. 0. 0. 0. 0. 0. 0. 0.]\n",
            " [0. 0. 0. 0. 0. 0. 0. 0. 0. 1.]\n",
            " [0. 0. 0. 1. 0. 0. 0. 0. 0. 0.]\n",
            " [0. 0. 0. 0. 0. 0. 1. 0. 0. 0.]\n",
            " [1. 0. 0. 0. 0. 0. 0. 0. 0. 0.]\n",
            " [0. 0. 0. 0. 0. 0. 1. 0. 0. 0.]\n",
            " [0. 0. 0. 0. 1. 0. 0. 0. 0. 0.]\n",
            " [1. 0. 0. 0. 0. 0. 0. 0. 0. 0.]\n",
            " [0. 0. 0. 0. 1. 0. 0. 0. 0. 0.]\n",
            " [0. 1. 0. 0. 0. 0. 0. 0. 0. 0.]\n",
            " [0. 0. 0. 0. 0. 1. 0. 0. 0. 0.]\n",
            " [0. 0. 0. 0. 0. 0. 0. 0. 1. 0.]\n",
            " [0. 0. 0. 0. 1. 0. 0. 0. 0. 0.]\n",
            " [0. 0. 0. 0. 0. 0. 0. 1. 0. 0.]\n",
            " [0. 0. 1. 0. 0. 0. 0. 0. 0. 0.]\n",
            " [0. 0. 0. 1. 0. 0. 0. 0. 0. 0.]\n",
            " [0. 0. 0. 0. 0. 0. 0. 1. 0. 0.]], shape=(32, 10), dtype=float32)\n"
          ]
        }
      ],
      "source": [
        "# see an example of a batch of data\n",
        "for images, labels in train_data_10_percent.take(1):\n",
        "  print(images, labels)"
      ]
    },
    {
      "cell_type": "markdown",
      "metadata": {
        "id": "tQUL4Uf_CLX9"
      },
      "source": [
        "# Building a features extraction model with the Keras Functional API"
      ]
    },
    {
      "cell_type": "markdown",
      "metadata": {
        "id": "2VfVaiU3GIKA"
      },
      "source": [
        "## Model 0: Building a transfer learning feature extraction model using the Keras Functional API\n",
        "\n",
        "The Sequential API is straight-forward, it runs our layers in sequential order. The Functional API gives more flexibility with our models."
      ]
    },
    {
      "cell_type": "code",
      "execution_count": null,
      "metadata": {
        "colab": {
          "base_uri": "https://localhost:8080/"
        },
        "id": "9_y_3nEIG-HW",
        "outputId": "e38d93e0-8dbe-4446-c704-f7fe3f906091"
      },
      "outputs": [
        {
          "output_type": "stream",
          "name": "stdout",
          "text": [
            "Downloading data from https://storage.googleapis.com/keras-applications/efficientnetb0_notop.h5\n",
            "16705208/16705208 [==============================] - 0s 0us/step\n"
          ]
        },
        {
          "output_type": "stream",
          "name": "stderr",
          "text": [
            "WARNING:tensorflow:Model failed to serialize as JSON. Ignoring... Unable to serialize [2.0896919 2.1128857 2.1081853] to JSON. Unrecognized type <class 'tensorflow.python.framework.ops.EagerTensor'>.\n"
          ]
        },
        {
          "output_type": "stream",
          "name": "stdout",
          "text": [
            "Shape after passing inputs through base model: (None, 7, 7, 1280)\n",
            "Shape after global average pooling2D: (None, 1280)\n",
            "Shape after output layer: (None, 1280)\n",
            "Saving TensorBoard log files to: transfer_learning/model_0/20230221-232429\n",
            "Epoch 1/5\n",
            "24/24 [==============================] - 17s 119ms/step - loss: 1.9244 - accuracy: 0.3893 - val_loss: 1.3414 - val_accuracy: 0.7138\n",
            "Epoch 2/5\n",
            "24/24 [==============================] - 1s 42ms/step - loss: 1.1115 - accuracy: 0.7720 - val_loss: 0.8718 - val_accuracy: 0.8158\n",
            "Epoch 3/5\n",
            "24/24 [==============================] - 1s 42ms/step - loss: 0.7978 - accuracy: 0.8093 - val_loss: 0.7087 - val_accuracy: 0.8470\n",
            "Epoch 4/5\n",
            "24/24 [==============================] - 1s 42ms/step - loss: 0.6380 - accuracy: 0.8680 - val_loss: 0.6121 - val_accuracy: 0.8668\n",
            "Epoch 5/5\n",
            "24/24 [==============================] - 1s 42ms/step - loss: 0.5470 - accuracy: 0.8880 - val_loss: 0.5575 - val_accuracy: 0.8701\n"
          ]
        }
      ],
      "source": [
        "# 1. Create the base model with tf.keras.applications\n",
        "base_model = tf.keras.applications.EfficientNetB0(include_top=False) # we want to add our own output layer\n",
        "\n",
        "# 2. Freeze the base model (so the underlying pre-trained patterns aren't updated during training)\n",
        "base_model.trainable = False\n",
        "\n",
        "# 3. Create inputs into our model\n",
        "inputs = tf.keras.layers.Input (shape=(224,224,3), name=\"input_layer\")\n",
        "\n",
        "# 4. If using ResNet50V2, you will need to normalize inputs.\n",
        "#x = tf.keras.layers.experimental.preprocessing.Rescaling(1./255)(inputs)\n",
        "\n",
        "# 5. Pass the inputs into the base_model\n",
        "x = base_model(inputs)\n",
        "print(f\"Shape after passing inputs through base model: {x.shape}\")\n",
        "\n",
        "# 6. Average pool the outputs of the base model (aggregate all the important information, reduce number of computations)\n",
        "x = tf.keras.layers.GlobalAveragePooling2D(name=\"global_average_pooling_layer\")(x)\n",
        "print(f\"Shape after global average pooling2D: {x.shape}\")\n",
        "\n",
        "# 7. Create the output activation layer\n",
        "outputs = tf.keras.layers.Dense(10, activation=\"softmax\", name=\"output_layer\")(x)\n",
        "print(f\"Shape after output layer: {x.shape}\")\n",
        "\n",
        "# 8. Combine the inputs wiht the outputs into a model\n",
        "model_0 = tf.keras.Model(inputs,outputs)\n",
        "\n",
        "# 9. Compile the model\n",
        "model_0.compile(loss=\"categorical_crossentropy\", optimizer=\"Adam\", metrics=\"accuracy\")\n",
        "\n",
        "# 10. Fit the model and save its history\n",
        "history_0 = model_0.fit(train_data_10_percent, \n",
        "                        epochs=5,\n",
        "                        steps_per_epoch=len(train_data_10_percent),\n",
        "                        validation_data=test_data,\n",
        "                        validation_steps=int(0.25*len(test_data)),\n",
        "                        callbacks=[create_tensorboard_callback(dir_name=\"transfer_learning\",\n",
        "                                   experiment_name=\"model_0\")])\n",
        "\n",
        "\n"
      ]
    },
    {
      "cell_type": "code",
      "execution_count": null,
      "metadata": {
        "id": "WwAfRTpWNJcd"
      },
      "outputs": [],
      "source": []
    },
    {
      "cell_type": "code",
      "execution_count": null,
      "metadata": {
        "colab": {
          "base_uri": "https://localhost:8080/"
        },
        "id": "Sgjua50YNHZ6",
        "outputId": "2830d148-4e86-46a1-defb-212355590795"
      },
      "outputs": [
        {
          "output_type": "stream",
          "name": "stdout",
          "text": [
            "Model: \"model\"\n",
            "_________________________________________________________________\n",
            " Layer (type)                Output Shape              Param #   \n",
            "=================================================================\n",
            " input_layer (InputLayer)    [(None, 224, 224, 3)]     0         \n",
            "                                                                 \n",
            " efficientnetb0 (Functional)  (None, None, None, 1280)  4049571  \n",
            "                                                                 \n",
            " global_average_pooling_laye  (None, 1280)             0         \n",
            " r (GlobalAveragePooling2D)                                      \n",
            "                                                                 \n",
            " output_layer (Dense)        (None, 10)                12810     \n",
            "                                                                 \n",
            "=================================================================\n",
            "Total params: 4,062,381\n",
            "Trainable params: 12,810\n",
            "Non-trainable params: 4,049,571\n",
            "_________________________________________________________________\n"
          ]
        }
      ],
      "source": [
        "model_0.summary()"
      ]
    },
    {
      "cell_type": "code",
      "execution_count": null,
      "metadata": {
        "colab": {
          "base_uri": "https://localhost:8080/"
        },
        "id": "yvLdTVFNNJQp",
        "outputId": "9b503a95-1a68-4fb5-cd4b-5b12a6145a5c"
      },
      "outputs": [
        {
          "output_type": "stream",
          "name": "stdout",
          "text": [
            "79/79 [==============================] - 2s 23ms/step - loss: 0.5567 - accuracy: 0.8656\n"
          ]
        },
        {
          "output_type": "execute_result",
          "data": {
            "text/plain": [
              "[0.5566728115081787, 0.8655999898910522]"
            ]
          },
          "metadata": {},
          "execution_count": 14
        }
      ],
      "source": [
        "model_0.evaluate(test_data)"
      ]
    },
    {
      "cell_type": "code",
      "execution_count": null,
      "metadata": {
        "colab": {
          "base_uri": "https://localhost:8080/"
        },
        "id": "mzNOd0eEPgYq",
        "outputId": "35e68dc9-3cfa-4cd8-e26b-52dab1196f3c"
      },
      "outputs": [
        {
          "output_type": "stream",
          "name": "stdout",
          "text": [
            "0 input_1\n",
            "1 rescaling\n",
            "2 normalization\n",
            "3 rescaling_1\n",
            "4 stem_conv_pad\n",
            "5 stem_conv\n",
            "6 stem_bn\n",
            "7 stem_activation\n",
            "8 block1a_dwconv\n",
            "9 block1a_bn\n",
            "10 block1a_activation\n",
            "11 block1a_se_squeeze\n",
            "12 block1a_se_reshape\n",
            "13 block1a_se_reduce\n",
            "14 block1a_se_expand\n",
            "15 block1a_se_excite\n",
            "16 block1a_project_conv\n",
            "17 block1a_project_bn\n",
            "18 block2a_expand_conv\n",
            "19 block2a_expand_bn\n",
            "20 block2a_expand_activation\n",
            "21 block2a_dwconv_pad\n",
            "22 block2a_dwconv\n",
            "23 block2a_bn\n",
            "24 block2a_activation\n",
            "25 block2a_se_squeeze\n",
            "26 block2a_se_reshape\n",
            "27 block2a_se_reduce\n",
            "28 block2a_se_expand\n",
            "29 block2a_se_excite\n",
            "30 block2a_project_conv\n",
            "31 block2a_project_bn\n",
            "32 block2b_expand_conv\n",
            "33 block2b_expand_bn\n",
            "34 block2b_expand_activation\n",
            "35 block2b_dwconv\n",
            "36 block2b_bn\n",
            "37 block2b_activation\n",
            "38 block2b_se_squeeze\n",
            "39 block2b_se_reshape\n",
            "40 block2b_se_reduce\n",
            "41 block2b_se_expand\n",
            "42 block2b_se_excite\n",
            "43 block2b_project_conv\n",
            "44 block2b_project_bn\n",
            "45 block2b_drop\n",
            "46 block2b_add\n",
            "47 block3a_expand_conv\n",
            "48 block3a_expand_bn\n",
            "49 block3a_expand_activation\n",
            "50 block3a_dwconv_pad\n",
            "51 block3a_dwconv\n",
            "52 block3a_bn\n",
            "53 block3a_activation\n",
            "54 block3a_se_squeeze\n",
            "55 block3a_se_reshape\n",
            "56 block3a_se_reduce\n",
            "57 block3a_se_expand\n",
            "58 block3a_se_excite\n",
            "59 block3a_project_conv\n",
            "60 block3a_project_bn\n",
            "61 block3b_expand_conv\n",
            "62 block3b_expand_bn\n",
            "63 block3b_expand_activation\n",
            "64 block3b_dwconv\n",
            "65 block3b_bn\n",
            "66 block3b_activation\n",
            "67 block3b_se_squeeze\n",
            "68 block3b_se_reshape\n",
            "69 block3b_se_reduce\n",
            "70 block3b_se_expand\n",
            "71 block3b_se_excite\n",
            "72 block3b_project_conv\n",
            "73 block3b_project_bn\n",
            "74 block3b_drop\n",
            "75 block3b_add\n",
            "76 block4a_expand_conv\n",
            "77 block4a_expand_bn\n",
            "78 block4a_expand_activation\n",
            "79 block4a_dwconv_pad\n",
            "80 block4a_dwconv\n",
            "81 block4a_bn\n",
            "82 block4a_activation\n",
            "83 block4a_se_squeeze\n",
            "84 block4a_se_reshape\n",
            "85 block4a_se_reduce\n",
            "86 block4a_se_expand\n",
            "87 block4a_se_excite\n",
            "88 block4a_project_conv\n",
            "89 block4a_project_bn\n",
            "90 block4b_expand_conv\n",
            "91 block4b_expand_bn\n",
            "92 block4b_expand_activation\n",
            "93 block4b_dwconv\n",
            "94 block4b_bn\n",
            "95 block4b_activation\n",
            "96 block4b_se_squeeze\n",
            "97 block4b_se_reshape\n",
            "98 block4b_se_reduce\n",
            "99 block4b_se_expand\n",
            "100 block4b_se_excite\n",
            "101 block4b_project_conv\n",
            "102 block4b_project_bn\n",
            "103 block4b_drop\n",
            "104 block4b_add\n",
            "105 block4c_expand_conv\n",
            "106 block4c_expand_bn\n",
            "107 block4c_expand_activation\n",
            "108 block4c_dwconv\n",
            "109 block4c_bn\n",
            "110 block4c_activation\n",
            "111 block4c_se_squeeze\n",
            "112 block4c_se_reshape\n",
            "113 block4c_se_reduce\n",
            "114 block4c_se_expand\n",
            "115 block4c_se_excite\n",
            "116 block4c_project_conv\n",
            "117 block4c_project_bn\n",
            "118 block4c_drop\n",
            "119 block4c_add\n",
            "120 block5a_expand_conv\n",
            "121 block5a_expand_bn\n",
            "122 block5a_expand_activation\n",
            "123 block5a_dwconv\n",
            "124 block5a_bn\n",
            "125 block5a_activation\n",
            "126 block5a_se_squeeze\n",
            "127 block5a_se_reshape\n",
            "128 block5a_se_reduce\n",
            "129 block5a_se_expand\n",
            "130 block5a_se_excite\n",
            "131 block5a_project_conv\n",
            "132 block5a_project_bn\n",
            "133 block5b_expand_conv\n",
            "134 block5b_expand_bn\n",
            "135 block5b_expand_activation\n",
            "136 block5b_dwconv\n",
            "137 block5b_bn\n",
            "138 block5b_activation\n",
            "139 block5b_se_squeeze\n",
            "140 block5b_se_reshape\n",
            "141 block5b_se_reduce\n",
            "142 block5b_se_expand\n",
            "143 block5b_se_excite\n",
            "144 block5b_project_conv\n",
            "145 block5b_project_bn\n",
            "146 block5b_drop\n",
            "147 block5b_add\n",
            "148 block5c_expand_conv\n",
            "149 block5c_expand_bn\n",
            "150 block5c_expand_activation\n",
            "151 block5c_dwconv\n",
            "152 block5c_bn\n",
            "153 block5c_activation\n",
            "154 block5c_se_squeeze\n",
            "155 block5c_se_reshape\n",
            "156 block5c_se_reduce\n",
            "157 block5c_se_expand\n",
            "158 block5c_se_excite\n",
            "159 block5c_project_conv\n",
            "160 block5c_project_bn\n",
            "161 block5c_drop\n",
            "162 block5c_add\n",
            "163 block6a_expand_conv\n",
            "164 block6a_expand_bn\n",
            "165 block6a_expand_activation\n",
            "166 block6a_dwconv_pad\n",
            "167 block6a_dwconv\n",
            "168 block6a_bn\n",
            "169 block6a_activation\n",
            "170 block6a_se_squeeze\n",
            "171 block6a_se_reshape\n",
            "172 block6a_se_reduce\n",
            "173 block6a_se_expand\n",
            "174 block6a_se_excite\n",
            "175 block6a_project_conv\n",
            "176 block6a_project_bn\n",
            "177 block6b_expand_conv\n",
            "178 block6b_expand_bn\n",
            "179 block6b_expand_activation\n",
            "180 block6b_dwconv\n",
            "181 block6b_bn\n",
            "182 block6b_activation\n",
            "183 block6b_se_squeeze\n",
            "184 block6b_se_reshape\n",
            "185 block6b_se_reduce\n",
            "186 block6b_se_expand\n",
            "187 block6b_se_excite\n",
            "188 block6b_project_conv\n",
            "189 block6b_project_bn\n",
            "190 block6b_drop\n",
            "191 block6b_add\n",
            "192 block6c_expand_conv\n",
            "193 block6c_expand_bn\n",
            "194 block6c_expand_activation\n",
            "195 block6c_dwconv\n",
            "196 block6c_bn\n",
            "197 block6c_activation\n",
            "198 block6c_se_squeeze\n",
            "199 block6c_se_reshape\n",
            "200 block6c_se_reduce\n",
            "201 block6c_se_expand\n",
            "202 block6c_se_excite\n",
            "203 block6c_project_conv\n",
            "204 block6c_project_bn\n",
            "205 block6c_drop\n",
            "206 block6c_add\n",
            "207 block6d_expand_conv\n",
            "208 block6d_expand_bn\n",
            "209 block6d_expand_activation\n",
            "210 block6d_dwconv\n",
            "211 block6d_bn\n",
            "212 block6d_activation\n",
            "213 block6d_se_squeeze\n",
            "214 block6d_se_reshape\n",
            "215 block6d_se_reduce\n",
            "216 block6d_se_expand\n",
            "217 block6d_se_excite\n",
            "218 block6d_project_conv\n",
            "219 block6d_project_bn\n",
            "220 block6d_drop\n",
            "221 block6d_add\n",
            "222 block7a_expand_conv\n",
            "223 block7a_expand_bn\n",
            "224 block7a_expand_activation\n",
            "225 block7a_dwconv\n",
            "226 block7a_bn\n",
            "227 block7a_activation\n",
            "228 block7a_se_squeeze\n",
            "229 block7a_se_reshape\n",
            "230 block7a_se_reduce\n",
            "231 block7a_se_expand\n",
            "232 block7a_se_excite\n",
            "233 block7a_project_conv\n",
            "234 block7a_project_bn\n",
            "235 top_conv\n",
            "236 top_bn\n",
            "237 top_activation\n"
          ]
        }
      ],
      "source": [
        "# Check the layers in our base model\n",
        "for layer_number, layer in enumerate(base_model.layers):\n",
        "  print(layer_number, layer.name)"
      ]
    },
    {
      "cell_type": "code",
      "execution_count": null,
      "metadata": {
        "colab": {
          "base_uri": "https://localhost:8080/"
        },
        "id": "KIP5qHLPPs-v",
        "outputId": "5f105b46-0a2b-48f1-9921-360449fe9e7d"
      },
      "outputs": [
        {
          "output_type": "stream",
          "name": "stdout",
          "text": [
            "Model: \"efficientnetb0\"\n",
            "__________________________________________________________________________________________________\n",
            " Layer (type)                   Output Shape         Param #     Connected to                     \n",
            "==================================================================================================\n",
            " input_1 (InputLayer)           [(None, None, None,  0           []                               \n",
            "                                 3)]                                                              \n",
            "                                                                                                  \n",
            " rescaling (Rescaling)          (None, None, None,   0           ['input_1[0][0]']                \n",
            "                                3)                                                                \n",
            "                                                                                                  \n",
            " normalization (Normalization)  (None, None, None,   7           ['rescaling[0][0]']              \n",
            "                                3)                                                                \n",
            "                                                                                                  \n",
            " rescaling_1 (Rescaling)        (None, None, None,   0           ['normalization[0][0]']          \n",
            "                                3)                                                                \n",
            "                                                                                                  \n",
            " stem_conv_pad (ZeroPadding2D)  (None, None, None,   0           ['rescaling_1[0][0]']            \n",
            "                                3)                                                                \n",
            "                                                                                                  \n",
            " stem_conv (Conv2D)             (None, None, None,   864         ['stem_conv_pad[0][0]']          \n",
            "                                32)                                                               \n",
            "                                                                                                  \n",
            " stem_bn (BatchNormalization)   (None, None, None,   128         ['stem_conv[0][0]']              \n",
            "                                32)                                                               \n",
            "                                                                                                  \n",
            " stem_activation (Activation)   (None, None, None,   0           ['stem_bn[0][0]']                \n",
            "                                32)                                                               \n",
            "                                                                                                  \n",
            " block1a_dwconv (DepthwiseConv2  (None, None, None,   288        ['stem_activation[0][0]']        \n",
            " D)                             32)                                                               \n",
            "                                                                                                  \n",
            " block1a_bn (BatchNormalization  (None, None, None,   128        ['block1a_dwconv[0][0]']         \n",
            " )                              32)                                                               \n",
            "                                                                                                  \n",
            " block1a_activation (Activation  (None, None, None,   0          ['block1a_bn[0][0]']             \n",
            " )                              32)                                                               \n",
            "                                                                                                  \n",
            " block1a_se_squeeze (GlobalAver  (None, 32)          0           ['block1a_activation[0][0]']     \n",
            " agePooling2D)                                                                                    \n",
            "                                                                                                  \n",
            " block1a_se_reshape (Reshape)   (None, 1, 1, 32)     0           ['block1a_se_squeeze[0][0]']     \n",
            "                                                                                                  \n",
            " block1a_se_reduce (Conv2D)     (None, 1, 1, 8)      264         ['block1a_se_reshape[0][0]']     \n",
            "                                                                                                  \n",
            " block1a_se_expand (Conv2D)     (None, 1, 1, 32)     288         ['block1a_se_reduce[0][0]']      \n",
            "                                                                                                  \n",
            " block1a_se_excite (Multiply)   (None, None, None,   0           ['block1a_activation[0][0]',     \n",
            "                                32)                               'block1a_se_expand[0][0]']      \n",
            "                                                                                                  \n",
            " block1a_project_conv (Conv2D)  (None, None, None,   512         ['block1a_se_excite[0][0]']      \n",
            "                                16)                                                               \n",
            "                                                                                                  \n",
            " block1a_project_bn (BatchNorma  (None, None, None,   64         ['block1a_project_conv[0][0]']   \n",
            " lization)                      16)                                                               \n",
            "                                                                                                  \n",
            " block2a_expand_conv (Conv2D)   (None, None, None,   1536        ['block1a_project_bn[0][0]']     \n",
            "                                96)                                                               \n",
            "                                                                                                  \n",
            " block2a_expand_bn (BatchNormal  (None, None, None,   384        ['block2a_expand_conv[0][0]']    \n",
            " ization)                       96)                                                               \n",
            "                                                                                                  \n",
            " block2a_expand_activation (Act  (None, None, None,   0          ['block2a_expand_bn[0][0]']      \n",
            " ivation)                       96)                                                               \n",
            "                                                                                                  \n",
            " block2a_dwconv_pad (ZeroPaddin  (None, None, None,   0          ['block2a_expand_activation[0][0]\n",
            " g2D)                           96)                              ']                               \n",
            "                                                                                                  \n",
            " block2a_dwconv (DepthwiseConv2  (None, None, None,   864        ['block2a_dwconv_pad[0][0]']     \n",
            " D)                             96)                                                               \n",
            "                                                                                                  \n",
            " block2a_bn (BatchNormalization  (None, None, None,   384        ['block2a_dwconv[0][0]']         \n",
            " )                              96)                                                               \n",
            "                                                                                                  \n",
            " block2a_activation (Activation  (None, None, None,   0          ['block2a_bn[0][0]']             \n",
            " )                              96)                                                               \n",
            "                                                                                                  \n",
            " block2a_se_squeeze (GlobalAver  (None, 96)          0           ['block2a_activation[0][0]']     \n",
            " agePooling2D)                                                                                    \n",
            "                                                                                                  \n",
            " block2a_se_reshape (Reshape)   (None, 1, 1, 96)     0           ['block2a_se_squeeze[0][0]']     \n",
            "                                                                                                  \n",
            " block2a_se_reduce (Conv2D)     (None, 1, 1, 4)      388         ['block2a_se_reshape[0][0]']     \n",
            "                                                                                                  \n",
            " block2a_se_expand (Conv2D)     (None, 1, 1, 96)     480         ['block2a_se_reduce[0][0]']      \n",
            "                                                                                                  \n",
            " block2a_se_excite (Multiply)   (None, None, None,   0           ['block2a_activation[0][0]',     \n",
            "                                96)                               'block2a_se_expand[0][0]']      \n",
            "                                                                                                  \n",
            " block2a_project_conv (Conv2D)  (None, None, None,   2304        ['block2a_se_excite[0][0]']      \n",
            "                                24)                                                               \n",
            "                                                                                                  \n",
            " block2a_project_bn (BatchNorma  (None, None, None,   96         ['block2a_project_conv[0][0]']   \n",
            " lization)                      24)                                                               \n",
            "                                                                                                  \n",
            " block2b_expand_conv (Conv2D)   (None, None, None,   3456        ['block2a_project_bn[0][0]']     \n",
            "                                144)                                                              \n",
            "                                                                                                  \n",
            " block2b_expand_bn (BatchNormal  (None, None, None,   576        ['block2b_expand_conv[0][0]']    \n",
            " ization)                       144)                                                              \n",
            "                                                                                                  \n",
            " block2b_expand_activation (Act  (None, None, None,   0          ['block2b_expand_bn[0][0]']      \n",
            " ivation)                       144)                                                              \n",
            "                                                                                                  \n",
            " block2b_dwconv (DepthwiseConv2  (None, None, None,   1296       ['block2b_expand_activation[0][0]\n",
            " D)                             144)                             ']                               \n",
            "                                                                                                  \n",
            " block2b_bn (BatchNormalization  (None, None, None,   576        ['block2b_dwconv[0][0]']         \n",
            " )                              144)                                                              \n",
            "                                                                                                  \n",
            " block2b_activation (Activation  (None, None, None,   0          ['block2b_bn[0][0]']             \n",
            " )                              144)                                                              \n",
            "                                                                                                  \n",
            " block2b_se_squeeze (GlobalAver  (None, 144)         0           ['block2b_activation[0][0]']     \n",
            " agePooling2D)                                                                                    \n",
            "                                                                                                  \n",
            " block2b_se_reshape (Reshape)   (None, 1, 1, 144)    0           ['block2b_se_squeeze[0][0]']     \n",
            "                                                                                                  \n",
            " block2b_se_reduce (Conv2D)     (None, 1, 1, 6)      870         ['block2b_se_reshape[0][0]']     \n",
            "                                                                                                  \n",
            " block2b_se_expand (Conv2D)     (None, 1, 1, 144)    1008        ['block2b_se_reduce[0][0]']      \n",
            "                                                                                                  \n",
            " block2b_se_excite (Multiply)   (None, None, None,   0           ['block2b_activation[0][0]',     \n",
            "                                144)                              'block2b_se_expand[0][0]']      \n",
            "                                                                                                  \n",
            " block2b_project_conv (Conv2D)  (None, None, None,   3456        ['block2b_se_excite[0][0]']      \n",
            "                                24)                                                               \n",
            "                                                                                                  \n",
            " block2b_project_bn (BatchNorma  (None, None, None,   96         ['block2b_project_conv[0][0]']   \n",
            " lization)                      24)                                                               \n",
            "                                                                                                  \n",
            " block2b_drop (Dropout)         (None, None, None,   0           ['block2b_project_bn[0][0]']     \n",
            "                                24)                                                               \n",
            "                                                                                                  \n",
            " block2b_add (Add)              (None, None, None,   0           ['block2b_drop[0][0]',           \n",
            "                                24)                               'block2a_project_bn[0][0]']     \n",
            "                                                                                                  \n",
            " block3a_expand_conv (Conv2D)   (None, None, None,   3456        ['block2b_add[0][0]']            \n",
            "                                144)                                                              \n",
            "                                                                                                  \n",
            " block3a_expand_bn (BatchNormal  (None, None, None,   576        ['block3a_expand_conv[0][0]']    \n",
            " ization)                       144)                                                              \n",
            "                                                                                                  \n",
            " block3a_expand_activation (Act  (None, None, None,   0          ['block3a_expand_bn[0][0]']      \n",
            " ivation)                       144)                                                              \n",
            "                                                                                                  \n",
            " block3a_dwconv_pad (ZeroPaddin  (None, None, None,   0          ['block3a_expand_activation[0][0]\n",
            " g2D)                           144)                             ']                               \n",
            "                                                                                                  \n",
            " block3a_dwconv (DepthwiseConv2  (None, None, None,   3600       ['block3a_dwconv_pad[0][0]']     \n",
            " D)                             144)                                                              \n",
            "                                                                                                  \n",
            " block3a_bn (BatchNormalization  (None, None, None,   576        ['block3a_dwconv[0][0]']         \n",
            " )                              144)                                                              \n",
            "                                                                                                  \n",
            " block3a_activation (Activation  (None, None, None,   0          ['block3a_bn[0][0]']             \n",
            " )                              144)                                                              \n",
            "                                                                                                  \n",
            " block3a_se_squeeze (GlobalAver  (None, 144)         0           ['block3a_activation[0][0]']     \n",
            " agePooling2D)                                                                                    \n",
            "                                                                                                  \n",
            " block3a_se_reshape (Reshape)   (None, 1, 1, 144)    0           ['block3a_se_squeeze[0][0]']     \n",
            "                                                                                                  \n",
            " block3a_se_reduce (Conv2D)     (None, 1, 1, 6)      870         ['block3a_se_reshape[0][0]']     \n",
            "                                                                                                  \n",
            " block3a_se_expand (Conv2D)     (None, 1, 1, 144)    1008        ['block3a_se_reduce[0][0]']      \n",
            "                                                                                                  \n",
            " block3a_se_excite (Multiply)   (None, None, None,   0           ['block3a_activation[0][0]',     \n",
            "                                144)                              'block3a_se_expand[0][0]']      \n",
            "                                                                                                  \n",
            " block3a_project_conv (Conv2D)  (None, None, None,   5760        ['block3a_se_excite[0][0]']      \n",
            "                                40)                                                               \n",
            "                                                                                                  \n",
            " block3a_project_bn (BatchNorma  (None, None, None,   160        ['block3a_project_conv[0][0]']   \n",
            " lization)                      40)                                                               \n",
            "                                                                                                  \n",
            " block3b_expand_conv (Conv2D)   (None, None, None,   9600        ['block3a_project_bn[0][0]']     \n",
            "                                240)                                                              \n",
            "                                                                                                  \n",
            " block3b_expand_bn (BatchNormal  (None, None, None,   960        ['block3b_expand_conv[0][0]']    \n",
            " ization)                       240)                                                              \n",
            "                                                                                                  \n",
            " block3b_expand_activation (Act  (None, None, None,   0          ['block3b_expand_bn[0][0]']      \n",
            " ivation)                       240)                                                              \n",
            "                                                                                                  \n",
            " block3b_dwconv (DepthwiseConv2  (None, None, None,   6000       ['block3b_expand_activation[0][0]\n",
            " D)                             240)                             ']                               \n",
            "                                                                                                  \n",
            " block3b_bn (BatchNormalization  (None, None, None,   960        ['block3b_dwconv[0][0]']         \n",
            " )                              240)                                                              \n",
            "                                                                                                  \n",
            " block3b_activation (Activation  (None, None, None,   0          ['block3b_bn[0][0]']             \n",
            " )                              240)                                                              \n",
            "                                                                                                  \n",
            " block3b_se_squeeze (GlobalAver  (None, 240)         0           ['block3b_activation[0][0]']     \n",
            " agePooling2D)                                                                                    \n",
            "                                                                                                  \n",
            " block3b_se_reshape (Reshape)   (None, 1, 1, 240)    0           ['block3b_se_squeeze[0][0]']     \n",
            "                                                                                                  \n",
            " block3b_se_reduce (Conv2D)     (None, 1, 1, 10)     2410        ['block3b_se_reshape[0][0]']     \n",
            "                                                                                                  \n",
            " block3b_se_expand (Conv2D)     (None, 1, 1, 240)    2640        ['block3b_se_reduce[0][0]']      \n",
            "                                                                                                  \n",
            " block3b_se_excite (Multiply)   (None, None, None,   0           ['block3b_activation[0][0]',     \n",
            "                                240)                              'block3b_se_expand[0][0]']      \n",
            "                                                                                                  \n",
            " block3b_project_conv (Conv2D)  (None, None, None,   9600        ['block3b_se_excite[0][0]']      \n",
            "                                40)                                                               \n",
            "                                                                                                  \n",
            " block3b_project_bn (BatchNorma  (None, None, None,   160        ['block3b_project_conv[0][0]']   \n",
            " lization)                      40)                                                               \n",
            "                                                                                                  \n",
            " block3b_drop (Dropout)         (None, None, None,   0           ['block3b_project_bn[0][0]']     \n",
            "                                40)                                                               \n",
            "                                                                                                  \n",
            " block3b_add (Add)              (None, None, None,   0           ['block3b_drop[0][0]',           \n",
            "                                40)                               'block3a_project_bn[0][0]']     \n",
            "                                                                                                  \n",
            " block4a_expand_conv (Conv2D)   (None, None, None,   9600        ['block3b_add[0][0]']            \n",
            "                                240)                                                              \n",
            "                                                                                                  \n",
            " block4a_expand_bn (BatchNormal  (None, None, None,   960        ['block4a_expand_conv[0][0]']    \n",
            " ization)                       240)                                                              \n",
            "                                                                                                  \n",
            " block4a_expand_activation (Act  (None, None, None,   0          ['block4a_expand_bn[0][0]']      \n",
            " ivation)                       240)                                                              \n",
            "                                                                                                  \n",
            " block4a_dwconv_pad (ZeroPaddin  (None, None, None,   0          ['block4a_expand_activation[0][0]\n",
            " g2D)                           240)                             ']                               \n",
            "                                                                                                  \n",
            " block4a_dwconv (DepthwiseConv2  (None, None, None,   2160       ['block4a_dwconv_pad[0][0]']     \n",
            " D)                             240)                                                              \n",
            "                                                                                                  \n",
            " block4a_bn (BatchNormalization  (None, None, None,   960        ['block4a_dwconv[0][0]']         \n",
            " )                              240)                                                              \n",
            "                                                                                                  \n",
            " block4a_activation (Activation  (None, None, None,   0          ['block4a_bn[0][0]']             \n",
            " )                              240)                                                              \n",
            "                                                                                                  \n",
            " block4a_se_squeeze (GlobalAver  (None, 240)         0           ['block4a_activation[0][0]']     \n",
            " agePooling2D)                                                                                    \n",
            "                                                                                                  \n",
            " block4a_se_reshape (Reshape)   (None, 1, 1, 240)    0           ['block4a_se_squeeze[0][0]']     \n",
            "                                                                                                  \n",
            " block4a_se_reduce (Conv2D)     (None, 1, 1, 10)     2410        ['block4a_se_reshape[0][0]']     \n",
            "                                                                                                  \n",
            " block4a_se_expand (Conv2D)     (None, 1, 1, 240)    2640        ['block4a_se_reduce[0][0]']      \n",
            "                                                                                                  \n",
            " block4a_se_excite (Multiply)   (None, None, None,   0           ['block4a_activation[0][0]',     \n",
            "                                240)                              'block4a_se_expand[0][0]']      \n",
            "                                                                                                  \n",
            " block4a_project_conv (Conv2D)  (None, None, None,   19200       ['block4a_se_excite[0][0]']      \n",
            "                                80)                                                               \n",
            "                                                                                                  \n",
            " block4a_project_bn (BatchNorma  (None, None, None,   320        ['block4a_project_conv[0][0]']   \n",
            " lization)                      80)                                                               \n",
            "                                                                                                  \n",
            " block4b_expand_conv (Conv2D)   (None, None, None,   38400       ['block4a_project_bn[0][0]']     \n",
            "                                480)                                                              \n",
            "                                                                                                  \n",
            " block4b_expand_bn (BatchNormal  (None, None, None,   1920       ['block4b_expand_conv[0][0]']    \n",
            " ization)                       480)                                                              \n",
            "                                                                                                  \n",
            " block4b_expand_activation (Act  (None, None, None,   0          ['block4b_expand_bn[0][0]']      \n",
            " ivation)                       480)                                                              \n",
            "                                                                                                  \n",
            " block4b_dwconv (DepthwiseConv2  (None, None, None,   4320       ['block4b_expand_activation[0][0]\n",
            " D)                             480)                             ']                               \n",
            "                                                                                                  \n",
            " block4b_bn (BatchNormalization  (None, None, None,   1920       ['block4b_dwconv[0][0]']         \n",
            " )                              480)                                                              \n",
            "                                                                                                  \n",
            " block4b_activation (Activation  (None, None, None,   0          ['block4b_bn[0][0]']             \n",
            " )                              480)                                                              \n",
            "                                                                                                  \n",
            " block4b_se_squeeze (GlobalAver  (None, 480)         0           ['block4b_activation[0][0]']     \n",
            " agePooling2D)                                                                                    \n",
            "                                                                                                  \n",
            " block4b_se_reshape (Reshape)   (None, 1, 1, 480)    0           ['block4b_se_squeeze[0][0]']     \n",
            "                                                                                                  \n",
            " block4b_se_reduce (Conv2D)     (None, 1, 1, 20)     9620        ['block4b_se_reshape[0][0]']     \n",
            "                                                                                                  \n",
            " block4b_se_expand (Conv2D)     (None, 1, 1, 480)    10080       ['block4b_se_reduce[0][0]']      \n",
            "                                                                                                  \n",
            " block4b_se_excite (Multiply)   (None, None, None,   0           ['block4b_activation[0][0]',     \n",
            "                                480)                              'block4b_se_expand[0][0]']      \n",
            "                                                                                                  \n",
            " block4b_project_conv (Conv2D)  (None, None, None,   38400       ['block4b_se_excite[0][0]']      \n",
            "                                80)                                                               \n",
            "                                                                                                  \n",
            " block4b_project_bn (BatchNorma  (None, None, None,   320        ['block4b_project_conv[0][0]']   \n",
            " lization)                      80)                                                               \n",
            "                                                                                                  \n",
            " block4b_drop (Dropout)         (None, None, None,   0           ['block4b_project_bn[0][0]']     \n",
            "                                80)                                                               \n",
            "                                                                                                  \n",
            " block4b_add (Add)              (None, None, None,   0           ['block4b_drop[0][0]',           \n",
            "                                80)                               'block4a_project_bn[0][0]']     \n",
            "                                                                                                  \n",
            " block4c_expand_conv (Conv2D)   (None, None, None,   38400       ['block4b_add[0][0]']            \n",
            "                                480)                                                              \n",
            "                                                                                                  \n",
            " block4c_expand_bn (BatchNormal  (None, None, None,   1920       ['block4c_expand_conv[0][0]']    \n",
            " ization)                       480)                                                              \n",
            "                                                                                                  \n",
            " block4c_expand_activation (Act  (None, None, None,   0          ['block4c_expand_bn[0][0]']      \n",
            " ivation)                       480)                                                              \n",
            "                                                                                                  \n",
            " block4c_dwconv (DepthwiseConv2  (None, None, None,   4320       ['block4c_expand_activation[0][0]\n",
            " D)                             480)                             ']                               \n",
            "                                                                                                  \n",
            " block4c_bn (BatchNormalization  (None, None, None,   1920       ['block4c_dwconv[0][0]']         \n",
            " )                              480)                                                              \n",
            "                                                                                                  \n",
            " block4c_activation (Activation  (None, None, None,   0          ['block4c_bn[0][0]']             \n",
            " )                              480)                                                              \n",
            "                                                                                                  \n",
            " block4c_se_squeeze (GlobalAver  (None, 480)         0           ['block4c_activation[0][0]']     \n",
            " agePooling2D)                                                                                    \n",
            "                                                                                                  \n",
            " block4c_se_reshape (Reshape)   (None, 1, 1, 480)    0           ['block4c_se_squeeze[0][0]']     \n",
            "                                                                                                  \n",
            " block4c_se_reduce (Conv2D)     (None, 1, 1, 20)     9620        ['block4c_se_reshape[0][0]']     \n",
            "                                                                                                  \n",
            " block4c_se_expand (Conv2D)     (None, 1, 1, 480)    10080       ['block4c_se_reduce[0][0]']      \n",
            "                                                                                                  \n",
            " block4c_se_excite (Multiply)   (None, None, None,   0           ['block4c_activation[0][0]',     \n",
            "                                480)                              'block4c_se_expand[0][0]']      \n",
            "                                                                                                  \n",
            " block4c_project_conv (Conv2D)  (None, None, None,   38400       ['block4c_se_excite[0][0]']      \n",
            "                                80)                                                               \n",
            "                                                                                                  \n",
            " block4c_project_bn (BatchNorma  (None, None, None,   320        ['block4c_project_conv[0][0]']   \n",
            " lization)                      80)                                                               \n",
            "                                                                                                  \n",
            " block4c_drop (Dropout)         (None, None, None,   0           ['block4c_project_bn[0][0]']     \n",
            "                                80)                                                               \n",
            "                                                                                                  \n",
            " block4c_add (Add)              (None, None, None,   0           ['block4c_drop[0][0]',           \n",
            "                                80)                               'block4b_add[0][0]']            \n",
            "                                                                                                  \n",
            " block5a_expand_conv (Conv2D)   (None, None, None,   38400       ['block4c_add[0][0]']            \n",
            "                                480)                                                              \n",
            "                                                                                                  \n",
            " block5a_expand_bn (BatchNormal  (None, None, None,   1920       ['block5a_expand_conv[0][0]']    \n",
            " ization)                       480)                                                              \n",
            "                                                                                                  \n",
            " block5a_expand_activation (Act  (None, None, None,   0          ['block5a_expand_bn[0][0]']      \n",
            " ivation)                       480)                                                              \n",
            "                                                                                                  \n",
            " block5a_dwconv (DepthwiseConv2  (None, None, None,   12000      ['block5a_expand_activation[0][0]\n",
            " D)                             480)                             ']                               \n",
            "                                                                                                  \n",
            " block5a_bn (BatchNormalization  (None, None, None,   1920       ['block5a_dwconv[0][0]']         \n",
            " )                              480)                                                              \n",
            "                                                                                                  \n",
            " block5a_activation (Activation  (None, None, None,   0          ['block5a_bn[0][0]']             \n",
            " )                              480)                                                              \n",
            "                                                                                                  \n",
            " block5a_se_squeeze (GlobalAver  (None, 480)         0           ['block5a_activation[0][0]']     \n",
            " agePooling2D)                                                                                    \n",
            "                                                                                                  \n",
            " block5a_se_reshape (Reshape)   (None, 1, 1, 480)    0           ['block5a_se_squeeze[0][0]']     \n",
            "                                                                                                  \n",
            " block5a_se_reduce (Conv2D)     (None, 1, 1, 20)     9620        ['block5a_se_reshape[0][0]']     \n",
            "                                                                                                  \n",
            " block5a_se_expand (Conv2D)     (None, 1, 1, 480)    10080       ['block5a_se_reduce[0][0]']      \n",
            "                                                                                                  \n",
            " block5a_se_excite (Multiply)   (None, None, None,   0           ['block5a_activation[0][0]',     \n",
            "                                480)                              'block5a_se_expand[0][0]']      \n",
            "                                                                                                  \n",
            " block5a_project_conv (Conv2D)  (None, None, None,   53760       ['block5a_se_excite[0][0]']      \n",
            "                                112)                                                              \n",
            "                                                                                                  \n",
            " block5a_project_bn (BatchNorma  (None, None, None,   448        ['block5a_project_conv[0][0]']   \n",
            " lization)                      112)                                                              \n",
            "                                                                                                  \n",
            " block5b_expand_conv (Conv2D)   (None, None, None,   75264       ['block5a_project_bn[0][0]']     \n",
            "                                672)                                                              \n",
            "                                                                                                  \n",
            " block5b_expand_bn (BatchNormal  (None, None, None,   2688       ['block5b_expand_conv[0][0]']    \n",
            " ization)                       672)                                                              \n",
            "                                                                                                  \n",
            " block5b_expand_activation (Act  (None, None, None,   0          ['block5b_expand_bn[0][0]']      \n",
            " ivation)                       672)                                                              \n",
            "                                                                                                  \n",
            " block5b_dwconv (DepthwiseConv2  (None, None, None,   16800      ['block5b_expand_activation[0][0]\n",
            " D)                             672)                             ']                               \n",
            "                                                                                                  \n",
            " block5b_bn (BatchNormalization  (None, None, None,   2688       ['block5b_dwconv[0][0]']         \n",
            " )                              672)                                                              \n",
            "                                                                                                  \n",
            " block5b_activation (Activation  (None, None, None,   0          ['block5b_bn[0][0]']             \n",
            " )                              672)                                                              \n",
            "                                                                                                  \n",
            " block5b_se_squeeze (GlobalAver  (None, 672)         0           ['block5b_activation[0][0]']     \n",
            " agePooling2D)                                                                                    \n",
            "                                                                                                  \n",
            " block5b_se_reshape (Reshape)   (None, 1, 1, 672)    0           ['block5b_se_squeeze[0][0]']     \n",
            "                                                                                                  \n",
            " block5b_se_reduce (Conv2D)     (None, 1, 1, 28)     18844       ['block5b_se_reshape[0][0]']     \n",
            "                                                                                                  \n",
            " block5b_se_expand (Conv2D)     (None, 1, 1, 672)    19488       ['block5b_se_reduce[0][0]']      \n",
            "                                                                                                  \n",
            " block5b_se_excite (Multiply)   (None, None, None,   0           ['block5b_activation[0][0]',     \n",
            "                                672)                              'block5b_se_expand[0][0]']      \n",
            "                                                                                                  \n",
            " block5b_project_conv (Conv2D)  (None, None, None,   75264       ['block5b_se_excite[0][0]']      \n",
            "                                112)                                                              \n",
            "                                                                                                  \n",
            " block5b_project_bn (BatchNorma  (None, None, None,   448        ['block5b_project_conv[0][0]']   \n",
            " lization)                      112)                                                              \n",
            "                                                                                                  \n",
            " block5b_drop (Dropout)         (None, None, None,   0           ['block5b_project_bn[0][0]']     \n",
            "                                112)                                                              \n",
            "                                                                                                  \n",
            " block5b_add (Add)              (None, None, None,   0           ['block5b_drop[0][0]',           \n",
            "                                112)                              'block5a_project_bn[0][0]']     \n",
            "                                                                                                  \n",
            " block5c_expand_conv (Conv2D)   (None, None, None,   75264       ['block5b_add[0][0]']            \n",
            "                                672)                                                              \n",
            "                                                                                                  \n",
            " block5c_expand_bn (BatchNormal  (None, None, None,   2688       ['block5c_expand_conv[0][0]']    \n",
            " ization)                       672)                                                              \n",
            "                                                                                                  \n",
            " block5c_expand_activation (Act  (None, None, None,   0          ['block5c_expand_bn[0][0]']      \n",
            " ivation)                       672)                                                              \n",
            "                                                                                                  \n",
            " block5c_dwconv (DepthwiseConv2  (None, None, None,   16800      ['block5c_expand_activation[0][0]\n",
            " D)                             672)                             ']                               \n",
            "                                                                                                  \n",
            " block5c_bn (BatchNormalization  (None, None, None,   2688       ['block5c_dwconv[0][0]']         \n",
            " )                              672)                                                              \n",
            "                                                                                                  \n",
            " block5c_activation (Activation  (None, None, None,   0          ['block5c_bn[0][0]']             \n",
            " )                              672)                                                              \n",
            "                                                                                                  \n",
            " block5c_se_squeeze (GlobalAver  (None, 672)         0           ['block5c_activation[0][0]']     \n",
            " agePooling2D)                                                                                    \n",
            "                                                                                                  \n",
            " block5c_se_reshape (Reshape)   (None, 1, 1, 672)    0           ['block5c_se_squeeze[0][0]']     \n",
            "                                                                                                  \n",
            " block5c_se_reduce (Conv2D)     (None, 1, 1, 28)     18844       ['block5c_se_reshape[0][0]']     \n",
            "                                                                                                  \n",
            " block5c_se_expand (Conv2D)     (None, 1, 1, 672)    19488       ['block5c_se_reduce[0][0]']      \n",
            "                                                                                                  \n",
            " block5c_se_excite (Multiply)   (None, None, None,   0           ['block5c_activation[0][0]',     \n",
            "                                672)                              'block5c_se_expand[0][0]']      \n",
            "                                                                                                  \n",
            " block5c_project_conv (Conv2D)  (None, None, None,   75264       ['block5c_se_excite[0][0]']      \n",
            "                                112)                                                              \n",
            "                                                                                                  \n",
            " block5c_project_bn (BatchNorma  (None, None, None,   448        ['block5c_project_conv[0][0]']   \n",
            " lization)                      112)                                                              \n",
            "                                                                                                  \n",
            " block5c_drop (Dropout)         (None, None, None,   0           ['block5c_project_bn[0][0]']     \n",
            "                                112)                                                              \n",
            "                                                                                                  \n",
            " block5c_add (Add)              (None, None, None,   0           ['block5c_drop[0][0]',           \n",
            "                                112)                              'block5b_add[0][0]']            \n",
            "                                                                                                  \n",
            " block6a_expand_conv (Conv2D)   (None, None, None,   75264       ['block5c_add[0][0]']            \n",
            "                                672)                                                              \n",
            "                                                                                                  \n",
            " block6a_expand_bn (BatchNormal  (None, None, None,   2688       ['block6a_expand_conv[0][0]']    \n",
            " ization)                       672)                                                              \n",
            "                                                                                                  \n",
            " block6a_expand_activation (Act  (None, None, None,   0          ['block6a_expand_bn[0][0]']      \n",
            " ivation)                       672)                                                              \n",
            "                                                                                                  \n",
            " block6a_dwconv_pad (ZeroPaddin  (None, None, None,   0          ['block6a_expand_activation[0][0]\n",
            " g2D)                           672)                             ']                               \n",
            "                                                                                                  \n",
            " block6a_dwconv (DepthwiseConv2  (None, None, None,   16800      ['block6a_dwconv_pad[0][0]']     \n",
            " D)                             672)                                                              \n",
            "                                                                                                  \n",
            " block6a_bn (BatchNormalization  (None, None, None,   2688       ['block6a_dwconv[0][0]']         \n",
            " )                              672)                                                              \n",
            "                                                                                                  \n",
            " block6a_activation (Activation  (None, None, None,   0          ['block6a_bn[0][0]']             \n",
            " )                              672)                                                              \n",
            "                                                                                                  \n",
            " block6a_se_squeeze (GlobalAver  (None, 672)         0           ['block6a_activation[0][0]']     \n",
            " agePooling2D)                                                                                    \n",
            "                                                                                                  \n",
            " block6a_se_reshape (Reshape)   (None, 1, 1, 672)    0           ['block6a_se_squeeze[0][0]']     \n",
            "                                                                                                  \n",
            " block6a_se_reduce (Conv2D)     (None, 1, 1, 28)     18844       ['block6a_se_reshape[0][0]']     \n",
            "                                                                                                  \n",
            " block6a_se_expand (Conv2D)     (None, 1, 1, 672)    19488       ['block6a_se_reduce[0][0]']      \n",
            "                                                                                                  \n",
            " block6a_se_excite (Multiply)   (None, None, None,   0           ['block6a_activation[0][0]',     \n",
            "                                672)                              'block6a_se_expand[0][0]']      \n",
            "                                                                                                  \n",
            " block6a_project_conv (Conv2D)  (None, None, None,   129024      ['block6a_se_excite[0][0]']      \n",
            "                                192)                                                              \n",
            "                                                                                                  \n",
            " block6a_project_bn (BatchNorma  (None, None, None,   768        ['block6a_project_conv[0][0]']   \n",
            " lization)                      192)                                                              \n",
            "                                                                                                  \n",
            " block6b_expand_conv (Conv2D)   (None, None, None,   221184      ['block6a_project_bn[0][0]']     \n",
            "                                1152)                                                             \n",
            "                                                                                                  \n",
            " block6b_expand_bn (BatchNormal  (None, None, None,   4608       ['block6b_expand_conv[0][0]']    \n",
            " ization)                       1152)                                                             \n",
            "                                                                                                  \n",
            " block6b_expand_activation (Act  (None, None, None,   0          ['block6b_expand_bn[0][0]']      \n",
            " ivation)                       1152)                                                             \n",
            "                                                                                                  \n",
            " block6b_dwconv (DepthwiseConv2  (None, None, None,   28800      ['block6b_expand_activation[0][0]\n",
            " D)                             1152)                            ']                               \n",
            "                                                                                                  \n",
            " block6b_bn (BatchNormalization  (None, None, None,   4608       ['block6b_dwconv[0][0]']         \n",
            " )                              1152)                                                             \n",
            "                                                                                                  \n",
            " block6b_activation (Activation  (None, None, None,   0          ['block6b_bn[0][0]']             \n",
            " )                              1152)                                                             \n",
            "                                                                                                  \n",
            " block6b_se_squeeze (GlobalAver  (None, 1152)        0           ['block6b_activation[0][0]']     \n",
            " agePooling2D)                                                                                    \n",
            "                                                                                                  \n",
            " block6b_se_reshape (Reshape)   (None, 1, 1, 1152)   0           ['block6b_se_squeeze[0][0]']     \n",
            "                                                                                                  \n",
            " block6b_se_reduce (Conv2D)     (None, 1, 1, 48)     55344       ['block6b_se_reshape[0][0]']     \n",
            "                                                                                                  \n",
            " block6b_se_expand (Conv2D)     (None, 1, 1, 1152)   56448       ['block6b_se_reduce[0][0]']      \n",
            "                                                                                                  \n",
            " block6b_se_excite (Multiply)   (None, None, None,   0           ['block6b_activation[0][0]',     \n",
            "                                1152)                             'block6b_se_expand[0][0]']      \n",
            "                                                                                                  \n",
            " block6b_project_conv (Conv2D)  (None, None, None,   221184      ['block6b_se_excite[0][0]']      \n",
            "                                192)                                                              \n",
            "                                                                                                  \n",
            " block6b_project_bn (BatchNorma  (None, None, None,   768        ['block6b_project_conv[0][0]']   \n",
            " lization)                      192)                                                              \n",
            "                                                                                                  \n",
            " block6b_drop (Dropout)         (None, None, None,   0           ['block6b_project_bn[0][0]']     \n",
            "                                192)                                                              \n",
            "                                                                                                  \n",
            " block6b_add (Add)              (None, None, None,   0           ['block6b_drop[0][0]',           \n",
            "                                192)                              'block6a_project_bn[0][0]']     \n",
            "                                                                                                  \n",
            " block6c_expand_conv (Conv2D)   (None, None, None,   221184      ['block6b_add[0][0]']            \n",
            "                                1152)                                                             \n",
            "                                                                                                  \n",
            " block6c_expand_bn (BatchNormal  (None, None, None,   4608       ['block6c_expand_conv[0][0]']    \n",
            " ization)                       1152)                                                             \n",
            "                                                                                                  \n",
            " block6c_expand_activation (Act  (None, None, None,   0          ['block6c_expand_bn[0][0]']      \n",
            " ivation)                       1152)                                                             \n",
            "                                                                                                  \n",
            " block6c_dwconv (DepthwiseConv2  (None, None, None,   28800      ['block6c_expand_activation[0][0]\n",
            " D)                             1152)                            ']                               \n",
            "                                                                                                  \n",
            " block6c_bn (BatchNormalization  (None, None, None,   4608       ['block6c_dwconv[0][0]']         \n",
            " )                              1152)                                                             \n",
            "                                                                                                  \n",
            " block6c_activation (Activation  (None, None, None,   0          ['block6c_bn[0][0]']             \n",
            " )                              1152)                                                             \n",
            "                                                                                                  \n",
            " block6c_se_squeeze (GlobalAver  (None, 1152)        0           ['block6c_activation[0][0]']     \n",
            " agePooling2D)                                                                                    \n",
            "                                                                                                  \n",
            " block6c_se_reshape (Reshape)   (None, 1, 1, 1152)   0           ['block6c_se_squeeze[0][0]']     \n",
            "                                                                                                  \n",
            " block6c_se_reduce (Conv2D)     (None, 1, 1, 48)     55344       ['block6c_se_reshape[0][0]']     \n",
            "                                                                                                  \n",
            " block6c_se_expand (Conv2D)     (None, 1, 1, 1152)   56448       ['block6c_se_reduce[0][0]']      \n",
            "                                                                                                  \n",
            " block6c_se_excite (Multiply)   (None, None, None,   0           ['block6c_activation[0][0]',     \n",
            "                                1152)                             'block6c_se_expand[0][0]']      \n",
            "                                                                                                  \n",
            " block6c_project_conv (Conv2D)  (None, None, None,   221184      ['block6c_se_excite[0][0]']      \n",
            "                                192)                                                              \n",
            "                                                                                                  \n",
            " block6c_project_bn (BatchNorma  (None, None, None,   768        ['block6c_project_conv[0][0]']   \n",
            " lization)                      192)                                                              \n",
            "                                                                                                  \n",
            " block6c_drop (Dropout)         (None, None, None,   0           ['block6c_project_bn[0][0]']     \n",
            "                                192)                                                              \n",
            "                                                                                                  \n",
            " block6c_add (Add)              (None, None, None,   0           ['block6c_drop[0][0]',           \n",
            "                                192)                              'block6b_add[0][0]']            \n",
            "                                                                                                  \n",
            " block6d_expand_conv (Conv2D)   (None, None, None,   221184      ['block6c_add[0][0]']            \n",
            "                                1152)                                                             \n",
            "                                                                                                  \n",
            " block6d_expand_bn (BatchNormal  (None, None, None,   4608       ['block6d_expand_conv[0][0]']    \n",
            " ization)                       1152)                                                             \n",
            "                                                                                                  \n",
            " block6d_expand_activation (Act  (None, None, None,   0          ['block6d_expand_bn[0][0]']      \n",
            " ivation)                       1152)                                                             \n",
            "                                                                                                  \n",
            " block6d_dwconv (DepthwiseConv2  (None, None, None,   28800      ['block6d_expand_activation[0][0]\n",
            " D)                             1152)                            ']                               \n",
            "                                                                                                  \n",
            " block6d_bn (BatchNormalization  (None, None, None,   4608       ['block6d_dwconv[0][0]']         \n",
            " )                              1152)                                                             \n",
            "                                                                                                  \n",
            " block6d_activation (Activation  (None, None, None,   0          ['block6d_bn[0][0]']             \n",
            " )                              1152)                                                             \n",
            "                                                                                                  \n",
            " block6d_se_squeeze (GlobalAver  (None, 1152)        0           ['block6d_activation[0][0]']     \n",
            " agePooling2D)                                                                                    \n",
            "                                                                                                  \n",
            " block6d_se_reshape (Reshape)   (None, 1, 1, 1152)   0           ['block6d_se_squeeze[0][0]']     \n",
            "                                                                                                  \n",
            " block6d_se_reduce (Conv2D)     (None, 1, 1, 48)     55344       ['block6d_se_reshape[0][0]']     \n",
            "                                                                                                  \n",
            " block6d_se_expand (Conv2D)     (None, 1, 1, 1152)   56448       ['block6d_se_reduce[0][0]']      \n",
            "                                                                                                  \n",
            " block6d_se_excite (Multiply)   (None, None, None,   0           ['block6d_activation[0][0]',     \n",
            "                                1152)                             'block6d_se_expand[0][0]']      \n",
            "                                                                                                  \n",
            " block6d_project_conv (Conv2D)  (None, None, None,   221184      ['block6d_se_excite[0][0]']      \n",
            "                                192)                                                              \n",
            "                                                                                                  \n",
            " block6d_project_bn (BatchNorma  (None, None, None,   768        ['block6d_project_conv[0][0]']   \n",
            " lization)                      192)                                                              \n",
            "                                                                                                  \n",
            " block6d_drop (Dropout)         (None, None, None,   0           ['block6d_project_bn[0][0]']     \n",
            "                                192)                                                              \n",
            "                                                                                                  \n",
            " block6d_add (Add)              (None, None, None,   0           ['block6d_drop[0][0]',           \n",
            "                                192)                              'block6c_add[0][0]']            \n",
            "                                                                                                  \n",
            " block7a_expand_conv (Conv2D)   (None, None, None,   221184      ['block6d_add[0][0]']            \n",
            "                                1152)                                                             \n",
            "                                                                                                  \n",
            " block7a_expand_bn (BatchNormal  (None, None, None,   4608       ['block7a_expand_conv[0][0]']    \n",
            " ization)                       1152)                                                             \n",
            "                                                                                                  \n",
            " block7a_expand_activation (Act  (None, None, None,   0          ['block7a_expand_bn[0][0]']      \n",
            " ivation)                       1152)                                                             \n",
            "                                                                                                  \n",
            " block7a_dwconv (DepthwiseConv2  (None, None, None,   10368      ['block7a_expand_activation[0][0]\n",
            " D)                             1152)                            ']                               \n",
            "                                                                                                  \n",
            " block7a_bn (BatchNormalization  (None, None, None,   4608       ['block7a_dwconv[0][0]']         \n",
            " )                              1152)                                                             \n",
            "                                                                                                  \n",
            " block7a_activation (Activation  (None, None, None,   0          ['block7a_bn[0][0]']             \n",
            " )                              1152)                                                             \n",
            "                                                                                                  \n",
            " block7a_se_squeeze (GlobalAver  (None, 1152)        0           ['block7a_activation[0][0]']     \n",
            " agePooling2D)                                                                                    \n",
            "                                                                                                  \n",
            " block7a_se_reshape (Reshape)   (None, 1, 1, 1152)   0           ['block7a_se_squeeze[0][0]']     \n",
            "                                                                                                  \n",
            " block7a_se_reduce (Conv2D)     (None, 1, 1, 48)     55344       ['block7a_se_reshape[0][0]']     \n",
            "                                                                                                  \n",
            " block7a_se_expand (Conv2D)     (None, 1, 1, 1152)   56448       ['block7a_se_reduce[0][0]']      \n",
            "                                                                                                  \n",
            " block7a_se_excite (Multiply)   (None, None, None,   0           ['block7a_activation[0][0]',     \n",
            "                                1152)                             'block7a_se_expand[0][0]']      \n",
            "                                                                                                  \n",
            " block7a_project_conv (Conv2D)  (None, None, None,   368640      ['block7a_se_excite[0][0]']      \n",
            "                                320)                                                              \n",
            "                                                                                                  \n",
            " block7a_project_bn (BatchNorma  (None, None, None,   1280       ['block7a_project_conv[0][0]']   \n",
            " lization)                      320)                                                              \n",
            "                                                                                                  \n",
            " top_conv (Conv2D)              (None, None, None,   409600      ['block7a_project_bn[0][0]']     \n",
            "                                1280)                                                             \n",
            "                                                                                                  \n",
            " top_bn (BatchNormalization)    (None, None, None,   5120        ['top_conv[0][0]']               \n",
            "                                1280)                                                             \n",
            "                                                                                                  \n",
            " top_activation (Activation)    (None, None, None,   0           ['top_bn[0][0]']                 \n",
            "                                1280)                                                             \n",
            "                                                                                                  \n",
            "==================================================================================================\n",
            "Total params: 4,049,571\n",
            "Trainable params: 0\n",
            "Non-trainable params: 4,049,571\n",
            "__________________________________________________________________________________________________\n"
          ]
        }
      ],
      "source": [
        "# how about we get a summary of the base model?\n",
        "base_model.summary()"
      ]
    },
    {
      "cell_type": "code",
      "execution_count": null,
      "metadata": {
        "colab": {
          "base_uri": "https://localhost:8080/"
        },
        "id": "mjU66gtrQGzI",
        "outputId": "5fd397fd-bbee-4c5f-9d5f-bb33aab02201"
      },
      "outputs": [
        {
          "output_type": "stream",
          "name": "stdout",
          "text": [
            "Model: \"model\"\n",
            "_________________________________________________________________\n",
            " Layer (type)                Output Shape              Param #   \n",
            "=================================================================\n",
            " input_layer (InputLayer)    [(None, 224, 224, 3)]     0         \n",
            "                                                                 \n",
            " efficientnetb0 (Functional)  (None, None, None, 1280)  4049571  \n",
            "                                                                 \n",
            " global_average_pooling_laye  (None, 1280)             0         \n",
            " r (GlobalAveragePooling2D)                                      \n",
            "                                                                 \n",
            " output_layer (Dense)        (None, 10)                12810     \n",
            "                                                                 \n",
            "=================================================================\n",
            "Total params: 4,062,381\n",
            "Trainable params: 12,810\n",
            "Non-trainable params: 4,049,571\n",
            "_________________________________________________________________\n"
          ]
        }
      ],
      "source": [
        "# Summary of the entire model\n",
        "model_0.summary()\n",
        "# notice how efficientnetb0 is counted as a single layer"
      ]
    },
    {
      "cell_type": "code",
      "execution_count": null,
      "metadata": {
        "colab": {
          "base_uri": "https://localhost:8080/",
          "height": 573
        },
        "id": "O5SGddsXQaHt",
        "outputId": "57598f20-ee43-4523-c0fc-593736e80318"
      },
      "outputs": [
        {
          "output_type": "display_data",
          "data": {
            "text/plain": [
              "<Figure size 432x288 with 1 Axes>"
            ],
            "image/png": "[encoded data removed]"
          },
          "metadata": {
            "needs_background": "light"
          }
        },
        {
          "output_type": "display_data",
          "data": {
            "text/plain": [
              "<Figure size 432x288 with 1 Axes>"
            ],
            "image/png": "[encoded data removed]"
          },
          "metadata": {
            "needs_background": "light"
          }
        }
      ],
      "source": [
        "plot_loss_curves(history_0)"
      ]
    },
    {
      "cell_type": "markdown",
      "metadata": {
        "id": "zp83XiIMQpj0"
      },
      "source": [
        "## Getting a feature vector from a trained model\n",
        "\n",
        "Let's demonstrate the `GlobalAveragePooling2D` layer.\n",
        "\n",
        "We have a tensor after our model goes through `base_model` of shape (None, 7, 7, 1280). But after passing through `GlobalAveragePooling2D`, it turns into (None, 1280).\n",
        "\n",
        "Let's use a similar shaped tensor of (1, 4, 4, 3) and pass it through `GlobalAveragePooling2D`.\n"
      ]
    },
    {
      "cell_type": "code",
      "execution_count": null,
      "metadata": {
        "colab": {
          "base_uri": "https://localhost:8080/"
        },
        "id": "uKnUL35kj2Fo",
        "outputId": "f7424e81-2025-4c45-d64b-ce0c1ffbe0d9"
      },
      "outputs": [
        {
          "output_type": "stream",
          "name": "stdout",
          "text": [
            "Random input tensor:\n",
            " [[[[ 0.3274685  -0.8426258   0.3194337 ]\n",
            "   [-1.4075519  -2.3880599  -1.0392479 ]\n",
            "   [-0.5573232   0.539707    1.6994323 ]\n",
            "   [ 0.28893656 -1.5066116  -0.2645474 ]]\n",
            "\n",
            "  [[-0.59722406 -1.9171132  -0.62044144]\n",
            "   [ 0.8504023  -0.40604794 -3.0258412 ]\n",
            "   [ 0.9058464   0.29855987 -0.22561555]\n",
            "   [-0.7616443  -1.8917141  -0.93847126]]\n",
            "\n",
            "  [[ 0.77852213 -0.47338897  0.97772694]\n",
            "   [ 0.24694404  0.20573747 -0.5256233 ]\n",
            "   [ 0.32410017  0.02545409 -0.10638497]\n",
            "   [-0.6369475   1.1603122   0.2507359 ]]\n",
            "\n",
            "  [[-0.41728503  0.4012578  -1.4145443 ]\n",
            "   [-0.5931857  -1.6617213   0.33567193]\n",
            "   [ 0.10815629  0.23479682 -0.56668764]\n",
            "   [-0.35819843  0.88698614  0.52744764]]]]\n",
            "\n",
            "2D Global average pooled random tensor:\n",
            " [[-0.09368646 -0.45840448 -0.2885598 ]]\n",
            "\n",
            "Shape of input tensor: (1, 4, 4, 3)\n",
            "Shape of Global average pooled 2D tensor: (1, 3)\n"
          ]
        }
      ],
      "source": [
        "# Define the input shape\n",
        "input_shape = (1, 4, 4, 3)\n",
        "\n",
        "tf.random.set_seed(42)\n",
        "input_tensor = tf.random.normal(input_shape)\n",
        "print(f\"Random input tensor:\\n {input_tensor}\\n\")\n",
        "\n",
        "# Pass random_tensor through GlobalAveragePooling2D layer\n",
        "global_average_pooled_tensor = tf.keras.layers.GlobalAveragePooling2D()(input_tensor) # note the syntax!\n",
        "print(f\"2D Global average pooled random tensor:\\n {global_average_pooled_tensor}\\n\")\n",
        "\n",
        "# Check the shape of the different tensors\n",
        "print(f\"Shape of input tensor: {input_tensor.shape}\")\n",
        "print(f\"Shape of Global average pooled 2D tensor: {global_average_pooled_tensor.shape}\")"
      ]
    },
    {
      "cell_type": "code",
      "execution_count": null,
      "metadata": {
        "colab": {
          "base_uri": "https://localhost:8080/"
        },
        "id": "GJttvAvWkUYA",
        "outputId": "6d2fe877-9b35-44b3-81a4-d4f05ef951c8"
      },
      "outputs": [
        {
          "output_type": "execute_result",
          "data": {
            "text/plain": [
              "<tf.Tensor: shape=(1, 3), dtype=float32, numpy=array([[-0.09368646, -0.45840448, -0.2885598 ]], dtype=float32)>"
            ]
          },
          "metadata": {},
          "execution_count": 20
        }
      ],
      "source": [
        "# Let's replicated the Global Average Pooled 2D Layer\n",
        "tf.reduce_mean(input_tensor, axis=[1,2])\n",
        "# reduces the tensor to the mean of the values across the axes 1 and 2"
      ]
    },
    {
      "cell_type": "markdown",
      "metadata": {
        "id": "pt4sSNEgl744"
      },
      "source": [
        "🛠 Try to do the same with the above 2 cells but this time use `GlobalMaxPool2D`"
      ]
    },
    {
      "cell_type": "code",
      "execution_count": null,
      "metadata": {
        "colab": {
          "base_uri": "https://localhost:8080/"
        },
        "id": "4KPpnptMmDJL",
        "outputId": "e24451dc-42b2-43cf-f359-59ee142b1b88"
      },
      "outputs": [
        {
          "output_type": "stream",
          "name": "stdout",
          "text": [
            "The input tensor is:\n",
            " [[[[ 8.4224582e-02 -8.6090374e-01  3.7812304e-01]\n",
            "   [-5.1962738e-03 -4.9453196e-01  6.1781919e-01]\n",
            "   [-3.3082047e-01 -1.3840806e-03 -4.2373410e-01]\n",
            "   [-1.3872087e+00 -1.5488191e+00 -5.3198391e-01]]\n",
            "\n",
            "  [[-4.4756433e-01 -2.0115814e+00 -5.7926011e-01]\n",
            "   [ 5.7938927e-01  1.3041967e+00  6.7720258e-01]\n",
            "   [-7.4587613e-01  1.0378964e+00  1.3820479e+00]\n",
            "   [ 1.4319172e+00 -3.7643117e-01  9.8158473e-01]]\n",
            "\n",
            "  [[-2.3597860e-01 -3.3763257e-01 -8.9593250e-01]\n",
            "   [ 4.2754072e-01 -3.8105518e-01  4.7006992e-01]\n",
            "   [ 3.5413779e-02 -2.9272759e+00 -9.6707004e-01]\n",
            "   [-4.1402709e-01 -4.0137586e-01  6.2328768e-01]]\n",
            "\n",
            "  [[-9.3648863e-01  9.5449388e-01  4.9025390e-01]\n",
            "   [-9.9804848e-01 -1.1686406e+00 -6.7897290e-01]\n",
            "   [ 1.7331039e+00  7.8643024e-01  9.2237018e-02]\n",
            "   [ 2.2711790e-01 -9.1896124e-02  1.1224977e+00]]]] \n",
            "\n",
            "The global max pool 2D layer is:\n",
            " [[1.7331039 1.3041967 1.3820479]] \n",
            "\n",
            "The global max pooling 2D layer is:\n",
            " [[1.7331039 1.3041967 1.3820479]] \n",
            "\n",
            "The shape of the input tensor is: (1, 4, 4, 3)\n",
            "The shape of the global_max_pool_2D_layer is (1, 3)\n",
            "The shape of hte global max pooling 2D layer is (1, 3)\n"
          ]
        }
      ],
      "source": [
        "input_shape = (1,4,4,3)\n",
        "input_tensor = tf.random.normal(input_shape)\n",
        "global_max_pool_2d_layer = tf.keras.layers.GlobalMaxPool2D()(input_tensor)\n",
        "global_max_pooling_2d_layer = tf.keras.layers.GlobalMaxPooling2D()(input_tensor)\n",
        "print(f\"The input tensor is:\\n {input_tensor} \\n\")\n",
        "print(f\"The global max pool 2D layer is:\\n {global_max_pool_2d_layer} \\n\")\n",
        "print(f\"The global max pooling 2D layer is:\\n {global_max_pooling_2d_layer} \\n\")\n",
        "print(f\"The shape of the input tensor is: {input_tensor.shape}\")\n",
        "print(f\"The shape of the global_max_pool_2D_layer is {global_max_pool_2d_layer.shape}\")\n",
        "print(f\"The shape of hte global max pooling 2D layer is {global_max_pooling_2d_layer.shape}\")"
      ]
    },
    {
      "cell_type": "markdown",
      "metadata": {
        "id": "XCx4bAsVoIpu"
      },
      "source": [
        "### What is a feature vector?\n",
        "\n",
        "A learned represenation of the input data (a compressed form of the input data) based on how the model sees it. "
      ]
    },
    {
      "cell_type": "markdown",
      "metadata": {
        "id": "SFNS6TkToH42"
      },
      "source": [
        "# Running a seris of transfer learning experiments\n",
        "\n",
        "We've seen the incredible results transfer learning gets with 10% of the training data bue how does it go with 1% of the training data? We will set up a bunch of experiments to investigate this...\n",
        "\n",
        "1. `model_1`: use feature extraction on 1% of the training data with data augmentation.\n",
        "2. `model_2`: use feature extraction on 10% of the training data with data augmentation.\n",
        "3. `model_3`: use fine tuning on 10% of the training data with data augmentation.\n",
        "4. `model_4`: use fine tuning on 100% of the training data with data augmentation.\n",
        "\n",
        "🔑 **Note**: the test_data is consistent through all experiments.\n"
      ]
    },
    {
      "cell_type": "markdown",
      "metadata": {
        "id": "Pb-zAw9ZsqzB"
      },
      "source": [
        "## `model_1`:Feature extraction on 1% of the data with augmentation."
      ]
    },
    {
      "cell_type": "markdown",
      "metadata": {
        "id": "8RvaTQRQtkZ8"
      },
      "source": [
        "\n",
        "### Getting the data"
      ]
    },
    {
      "cell_type": "code",
      "execution_count": null,
      "metadata": {
        "colab": {
          "base_uri": "https://localhost:8080/"
        },
        "id": "wJGppowqp9mt",
        "outputId": "f0caeef8-cf94-4069-f43a-cffa65f61437"
      },
      "outputs": [
        {
          "output_type": "stream",
          "name": "stdout",
          "text": [
            "--2023-02-21 23:24:55--  https://storage.googleapis.com/ztm_tf_course/food_vision/10_food_classes_1_percent.zip\n",
            "Resolving storage.googleapis.com (storage.googleapis.com)... 142.250.125.128, 142.250.136.128, 142.250.148.128, ...\n",
            "Connecting to storage.googleapis.com (storage.googleapis.com)|142.250.125.128|:443... connected.\n",
            "HTTP request sent, awaiting response... 200 OK\n",
            "Length: 133612354 (127M) [application/zip]\n",
            "Saving to: ‘10_food_classes_1_percent.zip’\n",
            "\n",
            "10_food_classes_1_p 100%[===================>] 127.42M   116MB/s    in 1.1s    \n",
            "\n",
            "2023-02-21 23:24:56 (116 MB/s) - ‘10_food_classes_1_percent.zip’ saved [133612354/133612354]\n",
            "\n"
          ]
        }
      ],
      "source": [
        "# Download and unzip data\n",
        "!wget https://storage.googleapis.com/ztm_tf_course/food_vision/10_food_classes_1_percent.zip\n",
        "unzip_data(\"/content/10_food_classes_1_percent.zip\")"
      ]
    },
    {
      "cell_type": "code",
      "execution_count": null,
      "metadata": {
        "colab": {
          "base_uri": "https://localhost:8080/"
        },
        "id": "pFzWm7-hqYJX",
        "outputId": "74e4a0f1-143c-4f25-9886-4a33f56781c0"
      },
      "outputs": [
        {
          "output_type": "stream",
          "name": "stdout",
          "text": [
            "There are 2 directories and 0 images in '/content/10_food_classes_1_percent/'.\n",
            "There are 10 directories and 0 images in '/content/10_food_classes_1_percent/test'.\n",
            "There are 0 directories and 250 images in '/content/10_food_classes_1_percent/test/fried_rice'.\n",
            "There are 0 directories and 250 images in '/content/10_food_classes_1_percent/test/sushi'.\n",
            "There are 0 directories and 250 images in '/content/10_food_classes_1_percent/test/chicken_curry'.\n",
            "There are 0 directories and 250 images in '/content/10_food_classes_1_percent/test/chicken_wings'.\n",
            "There are 0 directories and 250 images in '/content/10_food_classes_1_percent/test/pizza'.\n",
            "There are 0 directories and 250 images in '/content/10_food_classes_1_percent/test/steak'.\n",
            "There are 0 directories and 250 images in '/content/10_food_classes_1_percent/test/grilled_salmon'.\n",
            "There are 0 directories and 250 images in '/content/10_food_classes_1_percent/test/ramen'.\n",
            "There are 0 directories and 250 images in '/content/10_food_classes_1_percent/test/hamburger'.\n",
            "There are 0 directories and 250 images in '/content/10_food_classes_1_percent/test/ice_cream'.\n",
            "There are 10 directories and 0 images in '/content/10_food_classes_1_percent/train'.\n",
            "There are 0 directories and 7 images in '/content/10_food_classes_1_percent/train/fried_rice'.\n",
            "There are 0 directories and 7 images in '/content/10_food_classes_1_percent/train/sushi'.\n",
            "There are 0 directories and 7 images in '/content/10_food_classes_1_percent/train/chicken_curry'.\n",
            "There are 0 directories and 7 images in '/content/10_food_classes_1_percent/train/chicken_wings'.\n",
            "There are 0 directories and 7 images in '/content/10_food_classes_1_percent/train/pizza'.\n",
            "There are 0 directories and 7 images in '/content/10_food_classes_1_percent/train/steak'.\n",
            "There are 0 directories and 7 images in '/content/10_food_classes_1_percent/train/grilled_salmon'.\n",
            "There are 0 directories and 7 images in '/content/10_food_classes_1_percent/train/ramen'.\n",
            "There are 0 directories and 7 images in '/content/10_food_classes_1_percent/train/hamburger'.\n",
            "There are 0 directories and 7 images in '/content/10_food_classes_1_percent/train/ice_cream'.\n"
          ]
        }
      ],
      "source": [
        "walk_through_dir(\"/content/10_food_classes_1_percent/\")"
      ]
    },
    {
      "cell_type": "code",
      "execution_count": null,
      "metadata": {
        "colab": {
          "base_uri": "https://localhost:8080/"
        },
        "id": "KVBR1YOnsJOX",
        "outputId": "0a301899-e17f-419d-ee01-03abc71f1789"
      },
      "outputs": [
        {
          "output_type": "stream",
          "name": "stdout",
          "text": [
            "Found 70 files belonging to 10 classes.\n",
            "Found 2500 files belonging to 10 classes.\n"
          ]
        }
      ],
      "source": [
        "# Set up data loaders\n",
        "train_dir = \"/content/10_food_classes_1_percent/train/\"\n",
        "test_dir = \"/content/10_food_classes_1_percent/test/\"\n",
        "\n",
        "train_data_1_percent = tf.keras.preprocessing.image_dataset_from_directory(train_dir,\n",
        "                                                                           image_size=(224,224),\n",
        "                                                                           batch_size=32,\n",
        "                                                                           label_mode=\"categorical\")\n",
        "\n",
        "test_data = tf.keras.preprocessing.image_dataset_from_directory(test_dir,\n",
        "                                                                image_size=(224,224),\n",
        "                                                                batch_size=32,\n",
        "                                                                label_mode=\"categorical\")"
      ]
    },
    {
      "cell_type": "markdown",
      "metadata": {
        "id": "aKwX_TVhtO3N"
      },
      "source": [
        "### Adding data augmentation right into the model\n",
        "\n",
        "To add data augmentation right into the model, we can use the layers:\n",
        "* tf.keras.layers.experimental.preprocessing()\n",
        "\n",
        "Benefits of doing data augmentation inside the model:\n",
        "* Happens on the GPU (faster) rather than the CPU.\n",
        "* It is only turned on during training, so this layer is \"off\" when the model is running a prediction i.e. the test data is not augmented. "
      ]
    },
    {
      "cell_type": "code",
      "execution_count": null,
      "metadata": {
        "id": "oiXAK_UjthVI"
      },
      "outputs": [],
      "source": [
        "import tensorflow as tf\n",
        "from tensorflow import keras\n",
        "from tensorflow.keras import layers\n",
        "from tensorflow.keras.layers.experimental import preprocessing"
      ]
    },
    {
      "cell_type": "code",
      "execution_count": null,
      "metadata": {
        "id": "0EqDuCnvtyL7"
      },
      "outputs": [],
      "source": [
        "data_augmentation = keras.Sequential([\n",
        "    preprocessing.RandomFlip(\"horizontal\"),\n",
        "    preprocessing.RandomRotation(0.2),\n",
        "    preprocessing.RandomZoom(0.2),\n",
        "    preprocessing.RandomHeight(0.2),\n",
        "    preprocessing.RandomWidth(0.2),\n",
        "    # preprocessing.Rescale(1./255) # Keep for models like ResNet50V2 but EfficientNet60 has Rescaling\n",
        "], name=\"data_augmentation\")"
      ]
    },
    {
      "cell_type": "markdown",
      "metadata": {
        "id": "MywnV2Y5wZvA"
      },
      "source": [
        "#### Visualize our data augmentation layer"
      ]
    },
    {
      "cell_type": "code",
      "execution_count": null,
      "metadata": {
        "colab": {
          "base_uri": "https://localhost:8080/",
          "height": 528
        },
        "id": "O3lzz2sz1Ab9",
        "outputId": "e07694ca-bf2a-403c-d4d8-73cbf7583216"
      },
      "outputs": [
        {
          "output_type": "execute_result",
          "data": {
            "text/plain": [
              "(-0.5, 539.5, 407.5, -0.5)"
            ]
          },
          "metadata": {},
          "execution_count": 27
        },
        {
          "output_type": "display_data",
          "data": {
            "text/plain": [
              "<Figure size 432x288 with 1 Axes>"
            ],
            "image/png": "[encoded data removed]"
          },
          "metadata": {
            "needs_background": "light"
          }
        },
        {
          "output_type": "display_data",
          "data": {
            "text/plain": [
              "<Figure size 432x288 with 1 Axes>"
            ],
            "image/png": "[encoded data removed]"
          },
          "metadata": {
            "needs_background": "light"
          }
        }
      ],
      "source": [
        "# View a random image and compare it to its augmented version\n",
        "import matplotlib.pyplot as plt\n",
        "import matplotlib.image as mpimg\n",
        "import os\n",
        "import random\n",
        "target_class = random.choice(train_data_1_percent.class_names)\n",
        "target_dir = \"/content/10_food_classes_1_percent/train/\" + target_class # remember this is a string\n",
        "random_image=random.choice(os.listdir(target_dir))\n",
        "random_image_path = target_dir + \"/\" + random_image\n",
        "\n",
        "# Read in the random image\n",
        "img = mpimg.imread(random_image_path)\n",
        "plt.imshow(img)\n",
        "plt.title(f\"original random image from class '{target_class}'\")\n",
        "plt.axis(False)\n",
        "\n",
        "# Now let's plot our augmented random image\n",
        "plt.figure()\n",
        "augmented_img = data_augmentation(img)\n",
        "plt.imshow(tf.cast(augmented_img, dtype=tf.int32)) \n",
        "# the code in parenthesis converts the float numbers to integers (0-255) for matplotlib. \n",
        "# alternative code converst it to floats between 0 and 1\n",
        "# plt.imshow(augmented_img/255.)\n",
        "plt.title(f\"augmented random image from class '{target_class}'\")\n",
        "plt.axis(False)\n",
        "\n"
      ]
    },
    {
      "cell_type": "markdown",
      "metadata": {
        "id": "rdDO0oK28aQB"
      },
      "source": [
        "### Creating the model"
      ]
    },
    {
      "cell_type": "code",
      "execution_count": null,
      "metadata": {
        "colab": {
          "base_uri": "https://localhost:8080/"
        },
        "id": "_krVjoLLU5c_",
        "outputId": "f698c464-bd62-4d7c-c63a-d42e91ef5df0"
      },
      "outputs": [
        {
          "output_type": "stream",
          "name": "stderr",
          "text": [
            "WARNING:tensorflow:Model was constructed with shape (384, 512, 3) for input KerasTensor(type_spec=TensorSpec(shape=(384, 512, 3), dtype=tf.uint8, name='random_flip_input'), name='random_flip_input', description=\"created by layer 'random_flip_input'\"), but it was called on an input with incompatible shape (None, 224, 224, 3).\n"
          ]
        },
        {
          "output_type": "stream",
          "name": "stdout",
          "text": [
            "Model: \"model_1\"\n",
            "_________________________________________________________________\n",
            " Layer (type)                Output Shape              Param #   \n",
            "=================================================================\n",
            " input_3 (InputLayer)        [(None, 224, 224, 3)]     0         \n",
            "                                                                 \n",
            " efficientnetb0 (Functional)  (None, None, None, 1280)  4049571  \n",
            "                                                                 \n",
            " global_average_pooling_laye  (None, 1280)             0         \n",
            " r (GlobalAveragePooling2D)                                      \n",
            "                                                                 \n",
            " output_layer (Dense)        (None, 10)                12810     \n",
            "                                                                 \n",
            "=================================================================\n",
            "Total params: 4,062,381\n",
            "Trainable params: 12,810\n",
            "Non-trainable params: 4,049,571\n",
            "_________________________________________________________________\n"
          ]
        },
        {
          "output_type": "stream",
          "name": "stderr",
          "text": [
            "WARNING:tensorflow:Model failed to serialize as JSON. Ignoring... Unable to serialize [2.0896919 2.1128857 2.1081853] to JSON. Unrecognized type <class 'tensorflow.python.framework.ops.EagerTensor'>.\n"
          ]
        },
        {
          "output_type": "stream",
          "name": "stdout",
          "text": [
            "Saving TensorBoard log files to: transfer_learning/model_1/20230221-232501\n",
            "Epoch 1/5\n",
            "3/3 [==============================] - 8s 1s/step - loss: 2.2708 - accuracy: 0.1857 - val_loss: 2.0652 - val_accuracy: 0.2911\n",
            "Epoch 2/5\n",
            "3/3 [==============================] - 1s 260ms/step - loss: 1.9934 - accuracy: 0.4143 - val_loss: 1.9215 - val_accuracy: 0.4112\n",
            "Epoch 3/5\n",
            "3/3 [==============================] - 1s 266ms/step - loss: 1.7578 - accuracy: 0.5714 - val_loss: 1.7931 - val_accuracy: 0.5230\n",
            "Epoch 4/5\n",
            "3/3 [==============================] - 1s 265ms/step - loss: 1.5527 - accuracy: 0.7429 - val_loss: 1.6746 - val_accuracy: 0.5806\n",
            "Epoch 5/5\n",
            "3/3 [==============================] - 1s 269ms/step - loss: 1.3864 - accuracy: 0.8571 - val_loss: 1.5917 - val_accuracy: 0.6151\n"
          ]
        }
      ],
      "source": [
        "# Setup input shape and base model, freezing the base model layers\n",
        "input_shape = (224, 224, 3)\n",
        "base_model = tf.keras.applications.EfficientNetB0(include_top=False)\n",
        "base_model.trainable = False\n",
        "\n",
        "# Create input layer\n",
        "inputs = layers.Input(shape=input_shape, name=\"input_layer\")\n",
        "\n",
        "# Add in data augmentation Sequential model as a layer\n",
        "inputs = data_augmentation(inputs, training=False)\n",
        "\n",
        "# Give base_model inputs (after augmentation) and don't train it\n",
        "x = base_model(inputs)\n",
        "# # Pool output features of base model\n",
        "x = layers.GlobalAveragePooling2D(name=\"global_average_pooling_layer\")(x)\n",
        "# Put a dense layer on as the output\n",
        "outputs = layers.Dense(10, activation=\"softmax\", name=\"output_layer\")(x)\n",
        "# Make a model with inputs and outputs\n",
        "model_1 = keras.Model(inputs, outputs)\n",
        "\n",
        "# Compile the model\n",
        "model_1.compile(loss=\"categorical_crossentropy\",\n",
        "              optimizer=tf.keras.optimizers.Adam(),\n",
        "              metrics=[\"accuracy\"])\n",
        "model_1.summary()\n",
        "\n",
        "# # Fit the model\n",
        "history_1 = model_1.fit(train_data_1_percent, \n",
        "                        epochs=5,\n",
        "                        steps_per_epoch=len(train_data_1_percent),\n",
        "                        validation_data=test_data,\n",
        "                        validation_steps=int(0.25*len(test_data)),\n",
        "                        callbacks=[create_tensorboard_callback(dir_name=\"transfer_learning\",\n",
        "                                   experiment_name=\"model_1\")]\n",
        ")\n",
        "\n"
      ]
    },
    {
      "cell_type": "markdown",
      "source": [
        "### Evaluate the results of `model_1`"
      ],
      "metadata": {
        "id": "tQBvemEeLS29"
      }
    },
    {
      "cell_type": "code",
      "execution_count": null,
      "metadata": {
        "colab": {
          "base_uri": "https://localhost:8080/"
        },
        "id": "dK3LCS1KVMf7",
        "outputId": "a60d7832-790e-4845-d71f-d48e28a3dba2"
      },
      "outputs": [
        {
          "output_type": "stream",
          "name": "stdout",
          "text": [
            "79/79 [==============================] - 2s 21ms/step - loss: 1.5778 - accuracy: 0.6272\n"
          ]
        },
        {
          "output_type": "execute_result",
          "data": {
            "text/plain": [
              "[1.5777860879898071, 0.6272000074386597]"
            ]
          },
          "metadata": {},
          "execution_count": 29
        }
      ],
      "source": [
        "# Evaluate on the full test dataset\n",
        "results_1_percent_data_aug = model_1.evaluate(test_data)\n",
        "results_1_percent_data_aug "
      ]
    },
    {
      "cell_type": "code",
      "execution_count": null,
      "metadata": {
        "colab": {
          "base_uri": "https://localhost:8080/",
          "height": 573
        },
        "id": "hMR2NNppVQ_w",
        "outputId": "a0e646cd-8ef9-45d5-e9fe-5e54adf18391"
      },
      "outputs": [
        {
          "output_type": "display_data",
          "data": {
            "text/plain": [
              "<Figure size 432x288 with 1 Axes>"
            ],
            "image/png": "[encoded data removed]"
          },
          "metadata": {
            "needs_background": "light"
          }
        },
        {
          "output_type": "display_data",
          "data": {
            "text/plain": [
              "<Figure size 432x288 with 1 Axes>"
            ],
            "image/png": "[encoded data removed]"
          },
          "metadata": {
            "needs_background": "light"
          }
        }
      ],
      "source": [
        "# Evaluate loss curves\n",
        "plot_loss_curves(history_1)"
      ]
    },
    {
      "cell_type": "code",
      "execution_count": null,
      "metadata": {
        "id": "GNqPKUH4VYJl"
      },
      "outputs": [],
      "source": []
    },
    {
      "cell_type": "markdown",
      "metadata": {
        "id": "IzWESoAlVpiq"
      },
      "source": [
        "## `model_2`: feature extraction on 10% of the data with augmentation"
      ]
    },
    {
      "cell_type": "markdown",
      "metadata": {
        "id": "CdBsjbe_VuSj"
      },
      "source": [
        "### Getting the data"
      ]
    },
    {
      "cell_type": "code",
      "execution_count": null,
      "metadata": {
        "colab": {
          "base_uri": "https://localhost:8080/"
        },
        "id": "jjVPSgqNVvma",
        "outputId": "3b1c782c-38ff-4940-8ffc-1159b614814e"
      },
      "outputs": [
        {
          "output_type": "stream",
          "name": "stdout",
          "text": [
            "--2023-02-21 23:25:14--  https://storage.googleapis.com/ztm_tf_course/food_vision/10_food_classes_10_percent.zip\n",
            "Resolving storage.googleapis.com (storage.googleapis.com)... 142.250.125.128, 142.250.136.128, 142.250.148.128, ...\n",
            "Connecting to storage.googleapis.com (storage.googleapis.com)|142.250.125.128|:443... connected.\n",
            "HTTP request sent, awaiting response... 200 OK\n",
            "Length: 168546183 (161M) [application/zip]\n",
            "Saving to: ‘10_food_classes_10_percent.zip.1’\n",
            "\n",
            "10_food_classes_10_ 100%[===================>] 160.74M   164MB/s    in 1.0s    \n",
            "\n",
            "2023-02-21 23:25:15 (164 MB/s) - ‘10_food_classes_10_percent.zip.1’ saved [168546183/168546183]\n",
            "\n"
          ]
        }
      ],
      "source": [
        "!wget https://storage.googleapis.com/ztm_tf_course/food_vision/10_food_classes_10_percent.zip"
      ]
    },
    {
      "cell_type": "code",
      "execution_count": null,
      "metadata": {
        "id": "JEyCpsKSV-Nd"
      },
      "outputs": [],
      "source": [
        "unzip_data(\"10_food_classes_10_percent.zip.1\")"
      ]
    },
    {
      "cell_type": "code",
      "execution_count": null,
      "metadata": {
        "colab": {
          "base_uri": "https://localhost:8080/"
        },
        "id": "A8BxgDHVWIdi",
        "outputId": "9c35c154-e51c-485c-f7a7-673a10d71ace"
      },
      "outputs": [
        {
          "output_type": "stream",
          "name": "stdout",
          "text": [
            "There are 2 directories and 0 images in '/content/10_food_classes_10_percent/'.\n",
            "There are 10 directories and 0 images in '/content/10_food_classes_10_percent/test'.\n",
            "There are 0 directories and 250 images in '/content/10_food_classes_10_percent/test/fried_rice'.\n",
            "There are 0 directories and 250 images in '/content/10_food_classes_10_percent/test/sushi'.\n",
            "There are 0 directories and 250 images in '/content/10_food_classes_10_percent/test/chicken_curry'.\n",
            "There are 0 directories and 250 images in '/content/10_food_classes_10_percent/test/chicken_wings'.\n",
            "There are 0 directories and 250 images in '/content/10_food_classes_10_percent/test/pizza'.\n",
            "There are 0 directories and 250 images in '/content/10_food_classes_10_percent/test/steak'.\n",
            "There are 0 directories and 250 images in '/content/10_food_classes_10_percent/test/grilled_salmon'.\n",
            "There are 0 directories and 250 images in '/content/10_food_classes_10_percent/test/ramen'.\n",
            "There are 0 directories and 250 images in '/content/10_food_classes_10_percent/test/hamburger'.\n",
            "There are 0 directories and 250 images in '/content/10_food_classes_10_percent/test/ice_cream'.\n",
            "There are 10 directories and 0 images in '/content/10_food_classes_10_percent/train'.\n",
            "There are 0 directories and 75 images in '/content/10_food_classes_10_percent/train/fried_rice'.\n",
            "There are 0 directories and 75 images in '/content/10_food_classes_10_percent/train/sushi'.\n",
            "There are 0 directories and 75 images in '/content/10_food_classes_10_percent/train/chicken_curry'.\n",
            "There are 0 directories and 75 images in '/content/10_food_classes_10_percent/train/chicken_wings'.\n",
            "There are 0 directories and 75 images in '/content/10_food_classes_10_percent/train/pizza'.\n",
            "There are 0 directories and 75 images in '/content/10_food_classes_10_percent/train/steak'.\n",
            "There are 0 directories and 75 images in '/content/10_food_classes_10_percent/train/grilled_salmon'.\n",
            "There are 0 directories and 75 images in '/content/10_food_classes_10_percent/train/ramen'.\n",
            "There are 0 directories and 75 images in '/content/10_food_classes_10_percent/train/hamburger'.\n",
            "There are 0 directories and 75 images in '/content/10_food_classes_10_percent/train/ice_cream'.\n"
          ]
        }
      ],
      "source": [
        "walk_through_dir(\"/content/10_food_classes_10_percent/\")"
      ]
    },
    {
      "cell_type": "code",
      "execution_count": null,
      "metadata": {
        "colab": {
          "base_uri": "https://localhost:8080/"
        },
        "id": "k1zhq6qQWQ2A",
        "outputId": "b974101b-3b35-458a-bfa6-c9235d2c298e"
      },
      "outputs": [
        {
          "output_type": "stream",
          "name": "stdout",
          "text": [
            "Found 750 files belonging to 10 classes.\n",
            "Found 2500 files belonging to 10 classes.\n"
          ]
        }
      ],
      "source": [
        "train_dir=\"/content/10_food_classes_10_percent/train/\"\n",
        "test_dir=\"/content/10_food_classes_10_percent/test/\"\n",
        "\n",
        "train_data_10_percent = tf.keras.preprocessing.image_dataset_from_directory(train_dir,\n",
        "                                                                             image_size=(224,224),\n",
        "                                                                             batch_size=32,\n",
        "                                                                             label_mode=\"categorical\")\n",
        "test_data = tf.keras.preprocessing.image_dataset_from_directory(test_dir,\n",
        "                                                                image_size=(224,224),\n",
        "                                                                batch_size=32,\n",
        "                                                                label_mode=\"categorical\")"
      ]
    },
    {
      "cell_type": "markdown",
      "metadata": {
        "id": "mlO773fmc_6J"
      },
      "source": [
        "### Adding data augmentation"
      ]
    },
    {
      "cell_type": "code",
      "execution_count": null,
      "metadata": {
        "id": "Xt0eKI-GcS6c"
      },
      "outputs": [],
      "source": [
        "data_augmentation = keras.Sequential([\n",
        "    layers.RandomFlip(),\n",
        "    layers.RandomRotation(0.2),\n",
        "    layers.RandomHeight(0.2),\n",
        "    layers.RandomWidth(0.2),\n",
        "    layers.RandomRotation(0.2)\n",
        "    \n",
        "], name=\"data_augmentation\")"
      ]
    },
    {
      "cell_type": "markdown",
      "metadata": {
        "id": "HbV-6C1jd24M"
      },
      "source": [
        "### Creating the model"
      ]
    },
    {
      "cell_type": "code",
      "execution_count": null,
      "metadata": {
        "colab": {
          "base_uri": "https://localhost:8080/"
        },
        "id": "gEG8LgiirmHQ",
        "outputId": "21c081cc-4112-4dde-a275-e04ee1ef0888"
      },
      "outputs": [
        {
          "output_type": "stream",
          "name": "stderr",
          "text": [
            "WARNING:tensorflow:Using a while_loop for converting RngReadAndSkip cause there is no registered converter for this op.\n",
            "WARNING:tensorflow:Using a while_loop for converting Bitcast cause there is no registered converter for this op.\n",
            "WARNING:tensorflow:Using a while_loop for converting Bitcast cause there is no registered converter for this op.\n",
            "WARNING:tensorflow:Using a while_loop for converting StatelessRandomUniformV2 cause there is no registered converter for this op.\n",
            "WARNING:tensorflow:Using a while_loop for converting ImageProjectiveTransformV3 cause there is no registered converter for this op.\n",
            "WARNING:tensorflow:Using a while_loop for converting RngReadAndSkip cause there is no registered converter for this op.\n",
            "WARNING:tensorflow:Using a while_loop for converting Bitcast cause there is no registered converter for this op.\n",
            "WARNING:tensorflow:Using a while_loop for converting Bitcast cause there is no registered converter for this op.\n",
            "WARNING:tensorflow:Using a while_loop for converting StatelessRandomUniformV2 cause there is no registered converter for this op.\n",
            "WARNING:tensorflow:Using a while_loop for converting ImageProjectiveTransformV3 cause there is no registered converter for this op.\n",
            "WARNING:tensorflow:Using a while_loop for converting RngReadAndSkip cause there is no registered converter for this op.\n",
            "WARNING:tensorflow:Using a while_loop for converting Bitcast cause there is no registered converter for this op.\n",
            "WARNING:tensorflow:Using a while_loop for converting Bitcast cause there is no registered converter for this op.\n",
            "WARNING:tensorflow:Using a while_loop for converting StatelessRandomUniformV2 cause there is no registered converter for this op.\n",
            "WARNING:tensorflow:Using a while_loop for converting ImageProjectiveTransformV3 cause there is no registered converter for this op.\n",
            "WARNING:tensorflow:Using a while_loop for converting RngReadAndSkip cause there is no registered converter for this op.\n",
            "WARNING:tensorflow:Using a while_loop for converting Bitcast cause there is no registered converter for this op.\n",
            "WARNING:tensorflow:Using a while_loop for converting Bitcast cause there is no registered converter for this op.\n",
            "WARNING:tensorflow:Using a while_loop for converting StatelessRandomUniformV2 cause there is no registered converter for this op.\n",
            "WARNING:tensorflow:Using a while_loop for converting ImageProjectiveTransformV3 cause there is no registered converter for this op.\n"
          ]
        },
        {
          "output_type": "stream",
          "name": "stdout",
          "text": [
            "Model: \"model_5\"\n",
            "_________________________________________________________________\n",
            " Layer (type)                Output Shape              Param #   \n",
            "=================================================================\n",
            " input_layer (InputLayer)    [(None, 224, 224, 3)]     0         \n",
            "                                                                 \n",
            " data_augmentation (Sequenti  (None, None, None, 3)    0         \n",
            " al)                                                             \n",
            "                                                                 \n",
            " efficientnetb0 (Functional)  (None, None, None, 1280)  4049571  \n",
            "                                                                 \n",
            " global_average_pooling2d_4   (None, 1280)             0         \n",
            " (GlobalAveragePooling2D)                                        \n",
            "                                                                 \n",
            " output_layer (Dense)        (None, 10)                12810     \n",
            "                                                                 \n",
            "=================================================================\n",
            "Total params: 4,062,381\n",
            "Trainable params: 12,810\n",
            "Non-trainable params: 4,049,571\n",
            "_________________________________________________________________\n"
          ]
        }
      ],
      "source": [
        "base_model = keras.applications.EfficientNetB0(include_top=False)\n",
        "base_model.trainable = False\n",
        "input = keras.layers.Input (shape=(224,224,3), name=\"input_layer\")\n",
        "x = data_augmentation(input)\n",
        "x = base_model(x, training=False)\n",
        "x = layers.GlobalAveragePooling2D()(x)\n",
        "output = layers.Dense(10, activation=\"softmax\", name=\"output_layer\")(x)\n",
        "model_2 = keras.Model(input,output)\n",
        "model_2.summary()\n",
        "\n",
        "model_2.compile (loss = \"categorical_crossentropy\", \n",
        "                 optimizer=\"Adam\", \n",
        "                 metrics=\"accuracy\")"
      ]
    },
    {
      "cell_type": "markdown",
      "source": [
        "### Creating a `ModelCheckpointCallback`\n",
        "This callback immediately saves our full model (or just the weights) so we can pick up where we left off."
      ],
      "metadata": {
        "id": "4QBgymkv0qwt"
      }
    },
    {
      "cell_type": "code",
      "source": [
        "# Set checkpoint path\n",
        "import datetime\n",
        "checkpoint_path = \"ten_percent_model_checkpoints_weights/checkpoint.ckpt\"\n",
        "# Create a model checkpoint callback that saves the model's weights only\n",
        "checkpoint_callback = keras.callbacks.ModelCheckpoint(filepath=checkpoint_path, \n",
        "                                                      save_weights_only=True, \n",
        "                                                      save_best_only=False,\n",
        "                                                      save_freq=\"epoch\", # save every epoch\n",
        "                                                      verbose=1)"
      ],
      "metadata": {
        "id": "HcA1NzzF0pdV"
      },
      "execution_count": null,
      "outputs": []
    },
    {
      "cell_type": "code",
      "source": [
        "initial_epochs=5\n",
        "history_2 = model_2.fit(train_data_10_percent,\n",
        "            epochs=initial_epochs,\n",
        "            steps_per_epoch=len(train_data_10_percent),\n",
        "            validation_data=test_data,\n",
        "            validation_steps=int(0.25*len(test_data)),\n",
        "            callbacks=[create_tensorboard_callback(dir_name=\"/content/transfer_learning\", experiment_name=\"model_2\"),\n",
        "                       checkpoint_callback])"
      ],
      "metadata": {
        "colab": {
          "base_uri": "https://localhost:8080/"
        },
        "id": "bbwpiRcu1kYP",
        "outputId": "ec6f99a9-3f6a-48b3-a43d-4cfec411bd24"
      },
      "execution_count": null,
      "outputs": [
        {
          "output_type": "stream",
          "name": "stderr",
          "text": [
            "WARNING:tensorflow:Model failed to serialize as JSON. Ignoring... Unable to serialize [2.0896919 2.1128857 2.1081853] to JSON. Unrecognized type <class 'tensorflow.python.framework.ops.EagerTensor'>.\n"
          ]
        },
        {
          "output_type": "stream",
          "name": "stdout",
          "text": [
            "Saving TensorBoard log files to: /content/transfer_learning/model_2/20230222-031135\n",
            "Epoch 1/5\n"
          ]
        },
        {
          "output_type": "stream",
          "name": "stderr",
          "text": [
            "WARNING:tensorflow:Using a while_loop for converting RngReadAndSkip cause there is no registered converter for this op.\n",
            "WARNING:tensorflow:Using a while_loop for converting Bitcast cause there is no registered converter for this op.\n",
            "WARNING:tensorflow:Using a while_loop for converting Bitcast cause there is no registered converter for this op.\n",
            "WARNING:tensorflow:Using a while_loop for converting StatelessRandomUniformV2 cause there is no registered converter for this op.\n",
            "WARNING:tensorflow:Using a while_loop for converting ImageProjectiveTransformV3 cause there is no registered converter for this op.\n",
            "WARNING:tensorflow:Using a while_loop for converting RngReadAndSkip cause there is no registered converter for this op.\n",
            "WARNING:tensorflow:Using a while_loop for converting Bitcast cause there is no registered converter for this op.\n",
            "WARNING:tensorflow:Using a while_loop for converting Bitcast cause there is no registered converter for this op.\n",
            "WARNING:tensorflow:Using a while_loop for converting StatelessRandomUniformV2 cause there is no registered converter for this op.\n",
            "WARNING:tensorflow:Using a while_loop for converting ImageProjectiveTransformV3 cause there is no registered converter for this op.\n",
            "WARNING:tensorflow:Using a while_loop for converting RngReadAndSkip cause there is no registered converter for this op.\n",
            "WARNING:tensorflow:Using a while_loop for converting Bitcast cause there is no registered converter for this op.\n",
            "WARNING:tensorflow:Using a while_loop for converting Bitcast cause there is no registered converter for this op.\n",
            "WARNING:tensorflow:Using a while_loop for converting StatelessRandomUniformV2 cause there is no registered converter for this op.\n",
            "WARNING:tensorflow:Using a while_loop for converting ImageProjectiveTransformV3 cause there is no registered converter for this op.\n",
            "WARNING:tensorflow:Using a while_loop for converting RngReadAndSkip cause there is no registered converter for this op.\n",
            "WARNING:tensorflow:Using a while_loop for converting Bitcast cause there is no registered converter for this op.\n",
            "WARNING:tensorflow:Using a while_loop for converting Bitcast cause there is no registered converter for this op.\n",
            "WARNING:tensorflow:Using a while_loop for converting StatelessRandomUniformV2 cause there is no registered converter for this op.\n",
            "WARNING:tensorflow:Using a while_loop for converting ImageProjectiveTransformV3 cause there is no registered converter for this op.\n"
          ]
        },
        {
          "output_type": "stream",
          "name": "stdout",
          "text": [
            "24/24 [==============================] - ETA: 0s - loss: 1.9751 - accuracy: 0.3653\n",
            "Epoch 1: saving model to ten_percent_model_checkpoints_weights/checkpoint.ckpt\n",
            "24/24 [==============================] - 15s 250ms/step - loss: 1.9751 - accuracy: 0.3653 - val_loss: 1.4453 - val_accuracy: 0.6760\n",
            "Epoch 2/5\n",
            "24/24 [==============================] - ETA: 0s - loss: 1.2884 - accuracy: 0.6947\n",
            "Epoch 2: saving model to ten_percent_model_checkpoints_weights/checkpoint.ckpt\n",
            "24/24 [==============================] - 4s 175ms/step - loss: 1.2884 - accuracy: 0.6947 - val_loss: 1.0074 - val_accuracy: 0.7862\n",
            "Epoch 3/5\n",
            "24/24 [==============================] - ETA: 0s - loss: 0.9993 - accuracy: 0.7653\n",
            "Epoch 3: saving model to ten_percent_model_checkpoints_weights/checkpoint.ckpt\n",
            "24/24 [==============================] - 4s 181ms/step - loss: 0.9993 - accuracy: 0.7653 - val_loss: 0.8111 - val_accuracy: 0.8043\n",
            "Epoch 4/5\n",
            "24/24 [==============================] - ETA: 0s - loss: 0.8567 - accuracy: 0.7787\n",
            "Epoch 4: saving model to ten_percent_model_checkpoints_weights/checkpoint.ckpt\n",
            "24/24 [==============================] - 4s 181ms/step - loss: 0.8567 - accuracy: 0.7787 - val_loss: 0.7136 - val_accuracy: 0.8191\n",
            "Epoch 5/5\n",
            "24/24 [==============================] - ETA: 0s - loss: 0.7502 - accuracy: 0.8253\n",
            "Epoch 5: saving model to ten_percent_model_checkpoints_weights/checkpoint.ckpt\n",
            "24/24 [==============================] - 4s 181ms/step - loss: 0.7502 - accuracy: 0.8253 - val_loss: 0.6576 - val_accuracy: 0.8191\n"
          ]
        }
      ]
    },
    {
      "cell_type": "code",
      "source": [
        "# What were model_0 results?\n",
        "results_0 = model_0.evaluate(test_data)\n",
        "# Check model_2 results on all test_data\n",
        "results_2 = model_2.evaluate(test_data)\n",
        "\n",
        "results_0, results_2"
      ],
      "metadata": {
        "colab": {
          "base_uri": "https://localhost:8080/"
        },
        "id": "YMcYxiuZ0neo",
        "outputId": "31650174-15dd-4995-b295-f8cf5a5d2fcc"
      },
      "execution_count": null,
      "outputs": [
        {
          "output_type": "stream",
          "name": "stdout",
          "text": [
            "79/79 [==============================] - 2s 22ms/step - loss: 0.5567 - accuracy: 0.8656\n",
            "79/79 [==============================] - 2s 21ms/step - loss: 0.6432 - accuracy: 0.8344\n"
          ]
        },
        {
          "output_type": "execute_result",
          "data": {
            "text/plain": [
              "([0.5566731691360474, 0.8655999898910522],\n",
              " [0.6432152390480042, 0.8343999981880188])"
            ]
          },
          "metadata": {},
          "execution_count": 237
        }
      ]
    },
    {
      "cell_type": "code",
      "source": [
        "plot_loss_curves(history_2)"
      ],
      "metadata": {
        "colab": {
          "base_uri": "https://localhost:8080/",
          "height": 573
        },
        "id": "0Mg6B6Wb3RYU",
        "outputId": "487e23f0-a007-4d73-9164-fa9fdc7e20d9"
      },
      "execution_count": null,
      "outputs": [
        {
          "output_type": "display_data",
          "data": {
            "text/plain": [
              "<Figure size 432x288 with 1 Axes>"
            ],
            "image/png": "[encoded data removed]"
          },
          "metadata": {
            "needs_background": "light"
          }
        },
        {
          "output_type": "display_data",
          "data": {
            "text/plain": [
              "<Figure size 432x288 with 1 Axes>"
            ],
            "image/png": "[encoded data removed]"
          },
          "metadata": {
            "needs_background": "light"
          }
        }
      ]
    },
    {
      "cell_type": "code",
      "source": [
        "plot_loss_curves(history_0)"
      ],
      "metadata": {
        "colab": {
          "base_uri": "https://localhost:8080/",
          "height": 573
        },
        "id": "Khw4N9yQ3TGj",
        "outputId": "2f6e9153-a67e-41ba-d701-346d0d86dfdc"
      },
      "execution_count": null,
      "outputs": [
        {
          "output_type": "display_data",
          "data": {
            "text/plain": [
              "<Figure size 432x288 with 1 Axes>"
            ],
            "image/png": "[encoded data removed]"
          },
          "metadata": {
            "needs_background": "light"
          }
        },
        {
          "output_type": "display_data",
          "data": {
            "text/plain": [
              "<Figure size 432x288 with 1 Axes>"
            ],
            "image/png": "[encoded data removed]"
          },
          "metadata": {
            "needs_background": "light"
          }
        }
      ]
    },
    {
      "cell_type": "markdown",
      "source": [
        "### Loading in checkpoints and weights\n",
        "Loading in checkpoints and weights returns a model to a specific checkpoint"
      ],
      "metadata": {
        "id": "kvFhKKo33Ziy"
      }
    },
    {
      "cell_type": "code",
      "source": [
        "# Load in saved model weights and evaluate model\n",
        "\n",
        "model_2.load_weights(checkpoint_path)"
      ],
      "metadata": {
        "colab": {
          "base_uri": "https://localhost:8080/"
        },
        "id": "ovD1h9KS4mUJ",
        "outputId": "d0729686-cde0-4345-9480-1059cc9ab810"
      },
      "execution_count": null,
      "outputs": [
        {
          "output_type": "execute_result",
          "data": {
            "text/plain": [
              "<tensorflow.python.checkpoint.checkpoint.CheckpointLoadStatus at 0x7fa2a46f7e80>"
            ]
          },
          "metadata": {},
          "execution_count": 196
        }
      ]
    },
    {
      "cell_type": "code",
      "source": [
        "loaded = model_2.evaluate(test_data)"
      ],
      "metadata": {
        "colab": {
          "base_uri": "https://localhost:8080/"
        },
        "id": "kKmNM5Ag47f7",
        "outputId": "481a642b-5745-4476-f834-dd09fde8c026"
      },
      "execution_count": null,
      "outputs": [
        {
          "output_type": "stream",
          "name": "stdout",
          "text": [
            "79/79 [==============================] - 2s 21ms/step - loss: 0.6344 - accuracy: 0.8424\n"
          ]
        }
      ]
    },
    {
      "cell_type": "code",
      "source": [
        "results_2"
      ],
      "metadata": {
        "colab": {
          "base_uri": "https://localhost:8080/"
        },
        "id": "2F3Sk1s454gx",
        "outputId": "4f5c8aad-50c9-4e30-da3d-b0d7e4be2695"
      },
      "execution_count": null,
      "outputs": [
        {
          "output_type": "execute_result",
          "data": {
            "text/plain": [
              "[0.6343873739242554, 0.8424000144004822]"
            ]
          },
          "metadata": {},
          "execution_count": 198
        }
      ]
    },
    {
      "cell_type": "code",
      "source": [
        "model_2.evaluate(test_data) == results_2"
      ],
      "metadata": {
        "colab": {
          "base_uri": "https://localhost:8080/"
        },
        "id": "iS4ghCMQ55-M",
        "outputId": "9546ef88-b8b9-4762-be0e-fa723d16e191"
      },
      "execution_count": null,
      "outputs": [
        {
          "output_type": "stream",
          "name": "stdout",
          "text": [
            "79/79 [==============================] - 2s 21ms/step - loss: 0.6344 - accuracy: 0.8424\n"
          ]
        },
        {
          "output_type": "execute_result",
          "data": {
            "text/plain": [
              "False"
            ]
          },
          "metadata": {},
          "execution_count": 199
        }
      ]
    },
    {
      "cell_type": "code",
      "source": [
        "# check to see if the loaded model resuklts are very close to our previous non-loaded results\n",
        "import numpy as np \n",
        "np.isclose(np.array(loaded), np.array(results_2))"
      ],
      "metadata": {
        "colab": {
          "base_uri": "https://localhost:8080/"
        },
        "id": "zgLmkZ6R5-Cs",
        "outputId": "15a59b89-9365-4b1f-a169-30e40cc16c47"
      },
      "execution_count": null,
      "outputs": [
        {
          "output_type": "execute_result",
          "data": {
            "text/plain": [
              "array([ True,  True])"
            ]
          },
          "metadata": {},
          "execution_count": 200
        }
      ]
    },
    {
      "cell_type": "code",
      "source": [
        "# check the difference \n",
        "print(np.array(loaded)-np.array(results_2))"
      ],
      "metadata": {
        "colab": {
          "base_uri": "https://localhost:8080/"
        },
        "id": "wHbnEkP76kML",
        "outputId": "024c6d08-d4e4-4ffe-f0d8-5e2a1eb123d3"
      },
      "execution_count": null,
      "outputs": [
        {
          "output_type": "stream",
          "name": "stdout",
          "text": [
            "[-1.78813934e-07  0.00000000e+00]\n"
          ]
        }
      ]
    },
    {
      "cell_type": "markdown",
      "source": [
        "## `model_3`: fine tuning the model for 10% of the data augmented\n",
        "\n",
        "🔑 **Note**: Fine tuning usually works best after training the feature extractor model for a few epochs with large amounts of custom data. Only then do you unfreeze some of the near-top layers."
      ],
      "metadata": {
        "id": "ttX4vkei6rN4"
      }
    },
    {
      "cell_type": "markdown",
      "source": [
        "### Investigating the trainable layers in `model_2`"
      ],
      "metadata": {
        "id": "OISiWXM0btUS"
      }
    },
    {
      "cell_type": "code",
      "source": [
        "model_2.layers"
      ],
      "metadata": {
        "colab": {
          "base_uri": "https://localhost:8080/"
        },
        "id": "KfVVpUtATGfH",
        "outputId": "250ed974-fd2b-4a1d-e980-5d307647fb30"
      },
      "execution_count": null,
      "outputs": [
        {
          "output_type": "execute_result",
          "data": {
            "text/plain": [
              "[<keras.engine.input_layer.InputLayer at 0x7fa2b82421c0>,\n",
              " <keras.engine.sequential.Sequential at 0x7fa2b8252640>,\n",
              " <keras.engine.functional.Functional at 0x7fa2b0672820>,\n",
              " <keras.layers.pooling.global_average_pooling2d.GlobalAveragePooling2D at 0x7fa3286aa460>,\n",
              " <keras.layers.core.dense.Dense at 0x7fa2b0068790>]"
            ]
          },
          "metadata": {},
          "execution_count": 202
        }
      ]
    },
    {
      "cell_type": "code",
      "source": [
        "for layer in model_2.layers:\n",
        "  print(layer, layer.trainable)"
      ],
      "metadata": {
        "colab": {
          "base_uri": "https://localhost:8080/"
        },
        "id": "NCvuz_C4TPXH",
        "outputId": "06352b47-d2f4-4377-e95d-f2d7006ddf0d"
      },
      "execution_count": null,
      "outputs": [
        {
          "output_type": "stream",
          "name": "stdout",
          "text": [
            "<keras.engine.input_layer.InputLayer object at 0x7fa2b82421c0> True\n",
            "<keras.engine.sequential.Sequential object at 0x7fa2b8252640> True\n",
            "<keras.engine.functional.Functional object at 0x7fa2b0672820> False\n",
            "<keras.layers.pooling.global_average_pooling2d.GlobalAveragePooling2D object at 0x7fa3286aa460> True\n",
            "<keras.layers.core.dense.Dense object at 0x7fa2b0068790> True\n"
          ]
        }
      ]
    },
    {
      "cell_type": "code",
      "source": [
        "base_model"
      ],
      "metadata": {
        "colab": {
          "base_uri": "https://localhost:8080/"
        },
        "id": "3sNosuoLTVp1",
        "outputId": "33a8efc8-06a8-4b41-98bc-435322b199b0"
      },
      "execution_count": null,
      "outputs": [
        {
          "output_type": "execute_result",
          "data": {
            "text/plain": [
              "<keras.engine.functional.Functional at 0x7fa2b0672820>"
            ]
          },
          "metadata": {},
          "execution_count": 204
        }
      ]
    },
    {
      "cell_type": "markdown",
      "source": [
        "* Reminder: During the creation of, we set `base_model.trainable` to False."
      ],
      "metadata": {
        "id": "vajzcFDSTeHX"
      }
    },
    {
      "cell_type": "code",
      "source": [
        "model_2.layers[1].layers"
      ],
      "metadata": {
        "colab": {
          "base_uri": "https://localhost:8080/"
        },
        "id": "YLAeKJifT31K",
        "outputId": "8a8e6dc2-6223-4c5d-a829-a1b9ed7135ca"
      },
      "execution_count": null,
      "outputs": [
        {
          "output_type": "execute_result",
          "data": {
            "text/plain": [
              "[<keras.layers.preprocessing.image_preprocessing.RandomFlip at 0x7fa2b825ffa0>,\n",
              " <keras.layers.preprocessing.image_preprocessing.RandomRotation at 0x7fa2b825fc10>,\n",
              " <keras.layers.preprocessing.image_preprocessing.RandomHeight at 0x7fa2b825f8b0>,\n",
              " <keras.layers.preprocessing.image_preprocessing.RandomWidth at 0x7fa2b825f400>,\n",
              " <keras.layers.preprocessing.image_preprocessing.RandomRotation at 0x7fa2b825f040>]"
            ]
          },
          "metadata": {},
          "execution_count": 205
        }
      ]
    },
    {
      "cell_type": "code",
      "source": [
        "# layers[2] is the base_model which has its own layers\n",
        "# what layers are in our base model and are they trainable?\n",
        "for i, layer in enumerate(model_2.layers[2].layers): \n",
        "  print(i, layer.name, layer.trainable)"
      ],
      "metadata": {
        "colab": {
          "base_uri": "https://localhost:8080/"
        },
        "id": "N97YfXt3TskI",
        "outputId": "6147c1c1-3495-4dad-dd7b-27d538549e14"
      },
      "execution_count": null,
      "outputs": [
        {
          "output_type": "stream",
          "name": "stdout",
          "text": [
            "0 input_6 False\n",
            "1 rescaling_8 False\n",
            "2 normalization_4 False\n",
            "3 rescaling_9 False\n",
            "4 stem_conv_pad False\n",
            "5 stem_conv False\n",
            "6 stem_bn False\n",
            "7 stem_activation False\n",
            "8 block1a_dwconv False\n",
            "9 block1a_bn False\n",
            "10 block1a_activation False\n",
            "11 block1a_se_squeeze False\n",
            "12 block1a_se_reshape False\n",
            "13 block1a_se_reduce False\n",
            "14 block1a_se_expand False\n",
            "15 block1a_se_excite False\n",
            "16 block1a_project_conv False\n",
            "17 block1a_project_bn False\n",
            "18 block2a_expand_conv False\n",
            "19 block2a_expand_bn False\n",
            "20 block2a_expand_activation False\n",
            "21 block2a_dwconv_pad False\n",
            "22 block2a_dwconv False\n",
            "23 block2a_bn False\n",
            "24 block2a_activation False\n",
            "25 block2a_se_squeeze False\n",
            "26 block2a_se_reshape False\n",
            "27 block2a_se_reduce False\n",
            "28 block2a_se_expand False\n",
            "29 block2a_se_excite False\n",
            "30 block2a_project_conv False\n",
            "31 block2a_project_bn False\n",
            "32 block2b_expand_conv False\n",
            "33 block2b_expand_bn False\n",
            "34 block2b_expand_activation False\n",
            "35 block2b_dwconv False\n",
            "36 block2b_bn False\n",
            "37 block2b_activation False\n",
            "38 block2b_se_squeeze False\n",
            "39 block2b_se_reshape False\n",
            "40 block2b_se_reduce False\n",
            "41 block2b_se_expand False\n",
            "42 block2b_se_excite False\n",
            "43 block2b_project_conv False\n",
            "44 block2b_project_bn False\n",
            "45 block2b_drop False\n",
            "46 block2b_add False\n",
            "47 block3a_expand_conv False\n",
            "48 block3a_expand_bn False\n",
            "49 block3a_expand_activation False\n",
            "50 block3a_dwconv_pad False\n",
            "51 block3a_dwconv False\n",
            "52 block3a_bn False\n",
            "53 block3a_activation False\n",
            "54 block3a_se_squeeze False\n",
            "55 block3a_se_reshape False\n",
            "56 block3a_se_reduce False\n",
            "57 block3a_se_expand False\n",
            "58 block3a_se_excite False\n",
            "59 block3a_project_conv False\n",
            "60 block3a_project_bn False\n",
            "61 block3b_expand_conv False\n",
            "62 block3b_expand_bn False\n",
            "63 block3b_expand_activation False\n",
            "64 block3b_dwconv False\n",
            "65 block3b_bn False\n",
            "66 block3b_activation False\n",
            "67 block3b_se_squeeze False\n",
            "68 block3b_se_reshape False\n",
            "69 block3b_se_reduce False\n",
            "70 block3b_se_expand False\n",
            "71 block3b_se_excite False\n",
            "72 block3b_project_conv False\n",
            "73 block3b_project_bn False\n",
            "74 block3b_drop False\n",
            "75 block3b_add False\n",
            "76 block4a_expand_conv False\n",
            "77 block4a_expand_bn False\n",
            "78 block4a_expand_activation False\n",
            "79 block4a_dwconv_pad False\n",
            "80 block4a_dwconv False\n",
            "81 block4a_bn False\n",
            "82 block4a_activation False\n",
            "83 block4a_se_squeeze False\n",
            "84 block4a_se_reshape False\n",
            "85 block4a_se_reduce False\n",
            "86 block4a_se_expand False\n",
            "87 block4a_se_excite False\n",
            "88 block4a_project_conv False\n",
            "89 block4a_project_bn False\n",
            "90 block4b_expand_conv False\n",
            "91 block4b_expand_bn False\n",
            "92 block4b_expand_activation False\n",
            "93 block4b_dwconv False\n",
            "94 block4b_bn False\n",
            "95 block4b_activation False\n",
            "96 block4b_se_squeeze False\n",
            "97 block4b_se_reshape False\n",
            "98 block4b_se_reduce False\n",
            "99 block4b_se_expand False\n",
            "100 block4b_se_excite False\n",
            "101 block4b_project_conv False\n",
            "102 block4b_project_bn False\n",
            "103 block4b_drop False\n",
            "104 block4b_add False\n",
            "105 block4c_expand_conv False\n",
            "106 block4c_expand_bn False\n",
            "107 block4c_expand_activation False\n",
            "108 block4c_dwconv False\n",
            "109 block4c_bn False\n",
            "110 block4c_activation False\n",
            "111 block4c_se_squeeze False\n",
            "112 block4c_se_reshape False\n",
            "113 block4c_se_reduce False\n",
            "114 block4c_se_expand False\n",
            "115 block4c_se_excite False\n",
            "116 block4c_project_conv False\n",
            "117 block4c_project_bn False\n",
            "118 block4c_drop False\n",
            "119 block4c_add False\n",
            "120 block5a_expand_conv False\n",
            "121 block5a_expand_bn False\n",
            "122 block5a_expand_activation False\n",
            "123 block5a_dwconv False\n",
            "124 block5a_bn False\n",
            "125 block5a_activation False\n",
            "126 block5a_se_squeeze False\n",
            "127 block5a_se_reshape False\n",
            "128 block5a_se_reduce False\n",
            "129 block5a_se_expand False\n",
            "130 block5a_se_excite False\n",
            "131 block5a_project_conv False\n",
            "132 block5a_project_bn False\n",
            "133 block5b_expand_conv False\n",
            "134 block5b_expand_bn False\n",
            "135 block5b_expand_activation False\n",
            "136 block5b_dwconv False\n",
            "137 block5b_bn False\n",
            "138 block5b_activation False\n",
            "139 block5b_se_squeeze False\n",
            "140 block5b_se_reshape False\n",
            "141 block5b_se_reduce False\n",
            "142 block5b_se_expand False\n",
            "143 block5b_se_excite False\n",
            "144 block5b_project_conv False\n",
            "145 block5b_project_bn False\n",
            "146 block5b_drop False\n",
            "147 block5b_add False\n",
            "148 block5c_expand_conv False\n",
            "149 block5c_expand_bn False\n",
            "150 block5c_expand_activation False\n",
            "151 block5c_dwconv False\n",
            "152 block5c_bn False\n",
            "153 block5c_activation False\n",
            "154 block5c_se_squeeze False\n",
            "155 block5c_se_reshape False\n",
            "156 block5c_se_reduce False\n",
            "157 block5c_se_expand False\n",
            "158 block5c_se_excite False\n",
            "159 block5c_project_conv False\n",
            "160 block5c_project_bn False\n",
            "161 block5c_drop False\n",
            "162 block5c_add False\n",
            "163 block6a_expand_conv False\n",
            "164 block6a_expand_bn False\n",
            "165 block6a_expand_activation False\n",
            "166 block6a_dwconv_pad False\n",
            "167 block6a_dwconv False\n",
            "168 block6a_bn False\n",
            "169 block6a_activation False\n",
            "170 block6a_se_squeeze False\n",
            "171 block6a_se_reshape False\n",
            "172 block6a_se_reduce False\n",
            "173 block6a_se_expand False\n",
            "174 block6a_se_excite False\n",
            "175 block6a_project_conv False\n",
            "176 block6a_project_bn False\n",
            "177 block6b_expand_conv False\n",
            "178 block6b_expand_bn False\n",
            "179 block6b_expand_activation False\n",
            "180 block6b_dwconv False\n",
            "181 block6b_bn False\n",
            "182 block6b_activation False\n",
            "183 block6b_se_squeeze False\n",
            "184 block6b_se_reshape False\n",
            "185 block6b_se_reduce False\n",
            "186 block6b_se_expand False\n",
            "187 block6b_se_excite False\n",
            "188 block6b_project_conv False\n",
            "189 block6b_project_bn False\n",
            "190 block6b_drop False\n",
            "191 block6b_add False\n",
            "192 block6c_expand_conv False\n",
            "193 block6c_expand_bn False\n",
            "194 block6c_expand_activation False\n",
            "195 block6c_dwconv False\n",
            "196 block6c_bn False\n",
            "197 block6c_activation False\n",
            "198 block6c_se_squeeze False\n",
            "199 block6c_se_reshape False\n",
            "200 block6c_se_reduce False\n",
            "201 block6c_se_expand False\n",
            "202 block6c_se_excite False\n",
            "203 block6c_project_conv False\n",
            "204 block6c_project_bn False\n",
            "205 block6c_drop False\n",
            "206 block6c_add False\n",
            "207 block6d_expand_conv False\n",
            "208 block6d_expand_bn False\n",
            "209 block6d_expand_activation False\n",
            "210 block6d_dwconv False\n",
            "211 block6d_bn False\n",
            "212 block6d_activation False\n",
            "213 block6d_se_squeeze False\n",
            "214 block6d_se_reshape False\n",
            "215 block6d_se_reduce False\n",
            "216 block6d_se_expand False\n",
            "217 block6d_se_excite False\n",
            "218 block6d_project_conv False\n",
            "219 block6d_project_bn False\n",
            "220 block6d_drop False\n",
            "221 block6d_add False\n",
            "222 block7a_expand_conv False\n",
            "223 block7a_expand_bn False\n",
            "224 block7a_expand_activation False\n",
            "225 block7a_dwconv False\n",
            "226 block7a_bn False\n",
            "227 block7a_activation False\n",
            "228 block7a_se_squeeze False\n",
            "229 block7a_se_reshape False\n",
            "230 block7a_se_reduce False\n",
            "231 block7a_se_expand False\n",
            "232 block7a_se_excite False\n",
            "233 block7a_project_conv False\n",
            "234 block7a_project_bn False\n",
            "235 top_conv False\n",
            "236 top_bn False\n",
            "237 top_activation False\n"
          ]
        }
      ]
    },
    {
      "cell_type": "code",
      "source": [
        "# how many trainable variables are in our base_model?\n",
        "print(len(model_2.layers[2].trainable_variables))"
      ],
      "metadata": {
        "colab": {
          "base_uri": "https://localhost:8080/"
        },
        "id": "lCL17KVlUOck",
        "outputId": "b35557ec-de19-4291-cea5-42b2fd457914"
      },
      "execution_count": null,
      "outputs": [
        {
          "output_type": "stream",
          "name": "stdout",
          "text": [
            "0\n"
          ]
        }
      ]
    },
    {
      "cell_type": "code",
      "source": [
        "base_model.trainable=False"
      ],
      "metadata": {
        "id": "jpBvShspUaM5"
      },
      "execution_count": null,
      "outputs": []
    },
    {
      "cell_type": "code",
      "source": [
        "### Making layers in the `base_layer` (EfficientNet60) trainable.print(len(model_2.layers[2].trainable_variables))"
      ],
      "metadata": {
        "id": "G6sLkxR3V9tg"
      },
      "execution_count": null,
      "outputs": []
    },
    {
      "cell_type": "markdown",
      "source": [
        "### Making layers in the `base_layer` (EfficientNet60) trainable.\n",
        "\n",
        "🔑 NOTE: It's important that you do it this way, by setting the `base_model.trainable` to `True` before setting the individual layers to `False` and `True`."
      ],
      "metadata": {
        "id": "ol9FIq7ZXL3L"
      }
    },
    {
      "cell_type": "code",
      "source": [
        "base_model.trainable = True\n",
        "\n",
        "# Freeze all layers except for the\n",
        "for layer in base_model.layers[:-10]:\n",
        "  layer.trainable = False\n",
        "\n",
        "# Recompile the model (always recompile after any adjustments to a model)\n",
        "model_2.compile(loss=\"categorical_crossentropy\",\n",
        "              optimizer=tf.keras.optimizers.Adam(learning_rate=0.0001), # lr is 10x lower than before for fine-tuning\n",
        "              metrics=[\"accuracy\"])\n",
        "# when fine-tuning, you typically want to lower the learning_rate by 10x\n"
      ],
      "metadata": {
        "id": "IC7JJacjV_fk"
      },
      "execution_count": null,
      "outputs": []
    },
    {
      "cell_type": "code",
      "source": [
        "len(base_model.layers)"
      ],
      "metadata": {
        "colab": {
          "base_uri": "https://localhost:8080/"
        },
        "id": "WY4ybFhpWayO",
        "outputId": "4c326f5e-e47e-4c1e-939e-a718102db474"
      },
      "execution_count": null,
      "outputs": [
        {
          "output_type": "execute_result",
          "data": {
            "text/plain": [
              "238"
            ]
          },
          "metadata": {},
          "execution_count": 211
        }
      ]
    },
    {
      "cell_type": "code",
      "source": [
        "for i, layer in enumerate(base_model.layers): \n",
        "  print(i, layer.name, layer.trainable)"
      ],
      "metadata": {
        "colab": {
          "base_uri": "https://localhost:8080/"
        },
        "id": "c1UYt9i3Wbht",
        "outputId": "d42aa607-38c2-4fdf-b7cb-14b5e6d3d0df"
      },
      "execution_count": null,
      "outputs": [
        {
          "output_type": "stream",
          "name": "stdout",
          "text": [
            "0 input_7 False\n",
            "1 rescaling_10 False\n",
            "2 normalization_5 False\n",
            "3 rescaling_11 False\n",
            "4 stem_conv_pad False\n",
            "5 stem_conv False\n",
            "6 stem_bn False\n",
            "7 stem_activation False\n",
            "8 block1a_dwconv False\n",
            "9 block1a_bn False\n",
            "10 block1a_activation False\n",
            "11 block1a_se_squeeze False\n",
            "12 block1a_se_reshape False\n",
            "13 block1a_se_reduce False\n",
            "14 block1a_se_expand False\n",
            "15 block1a_se_excite False\n",
            "16 block1a_project_conv False\n",
            "17 block1a_project_bn False\n",
            "18 block2a_expand_conv False\n",
            "19 block2a_expand_bn False\n",
            "20 block2a_expand_activation False\n",
            "21 block2a_dwconv_pad False\n",
            "22 block2a_dwconv False\n",
            "23 block2a_bn False\n",
            "24 block2a_activation False\n",
            "25 block2a_se_squeeze False\n",
            "26 block2a_se_reshape False\n",
            "27 block2a_se_reduce False\n",
            "28 block2a_se_expand False\n",
            "29 block2a_se_excite False\n",
            "30 block2a_project_conv False\n",
            "31 block2a_project_bn False\n",
            "32 block2b_expand_conv False\n",
            "33 block2b_expand_bn False\n",
            "34 block2b_expand_activation False\n",
            "35 block2b_dwconv False\n",
            "36 block2b_bn False\n",
            "37 block2b_activation False\n",
            "38 block2b_se_squeeze False\n",
            "39 block2b_se_reshape False\n",
            "40 block2b_se_reduce False\n",
            "41 block2b_se_expand False\n",
            "42 block2b_se_excite False\n",
            "43 block2b_project_conv False\n",
            "44 block2b_project_bn False\n",
            "45 block2b_drop False\n",
            "46 block2b_add False\n",
            "47 block3a_expand_conv False\n",
            "48 block3a_expand_bn False\n",
            "49 block3a_expand_activation False\n",
            "50 block3a_dwconv_pad False\n",
            "51 block3a_dwconv False\n",
            "52 block3a_bn False\n",
            "53 block3a_activation False\n",
            "54 block3a_se_squeeze False\n",
            "55 block3a_se_reshape False\n",
            "56 block3a_se_reduce False\n",
            "57 block3a_se_expand False\n",
            "58 block3a_se_excite False\n",
            "59 block3a_project_conv False\n",
            "60 block3a_project_bn False\n",
            "61 block3b_expand_conv False\n",
            "62 block3b_expand_bn False\n",
            "63 block3b_expand_activation False\n",
            "64 block3b_dwconv False\n",
            "65 block3b_bn False\n",
            "66 block3b_activation False\n",
            "67 block3b_se_squeeze False\n",
            "68 block3b_se_reshape False\n",
            "69 block3b_se_reduce False\n",
            "70 block3b_se_expand False\n",
            "71 block3b_se_excite False\n",
            "72 block3b_project_conv False\n",
            "73 block3b_project_bn False\n",
            "74 block3b_drop False\n",
            "75 block3b_add False\n",
            "76 block4a_expand_conv False\n",
            "77 block4a_expand_bn False\n",
            "78 block4a_expand_activation False\n",
            "79 block4a_dwconv_pad False\n",
            "80 block4a_dwconv False\n",
            "81 block4a_bn False\n",
            "82 block4a_activation False\n",
            "83 block4a_se_squeeze False\n",
            "84 block4a_se_reshape False\n",
            "85 block4a_se_reduce False\n",
            "86 block4a_se_expand False\n",
            "87 block4a_se_excite False\n",
            "88 block4a_project_conv False\n",
            "89 block4a_project_bn False\n",
            "90 block4b_expand_conv False\n",
            "91 block4b_expand_bn False\n",
            "92 block4b_expand_activation False\n",
            "93 block4b_dwconv False\n",
            "94 block4b_bn False\n",
            "95 block4b_activation False\n",
            "96 block4b_se_squeeze False\n",
            "97 block4b_se_reshape False\n",
            "98 block4b_se_reduce False\n",
            "99 block4b_se_expand False\n",
            "100 block4b_se_excite False\n",
            "101 block4b_project_conv False\n",
            "102 block4b_project_bn False\n",
            "103 block4b_drop False\n",
            "104 block4b_add False\n",
            "105 block4c_expand_conv False\n",
            "106 block4c_expand_bn False\n",
            "107 block4c_expand_activation False\n",
            "108 block4c_dwconv False\n",
            "109 block4c_bn False\n",
            "110 block4c_activation False\n",
            "111 block4c_se_squeeze False\n",
            "112 block4c_se_reshape False\n",
            "113 block4c_se_reduce False\n",
            "114 block4c_se_expand False\n",
            "115 block4c_se_excite False\n",
            "116 block4c_project_conv False\n",
            "117 block4c_project_bn False\n",
            "118 block4c_drop False\n",
            "119 block4c_add False\n",
            "120 block5a_expand_conv False\n",
            "121 block5a_expand_bn False\n",
            "122 block5a_expand_activation False\n",
            "123 block5a_dwconv False\n",
            "124 block5a_bn False\n",
            "125 block5a_activation False\n",
            "126 block5a_se_squeeze False\n",
            "127 block5a_se_reshape False\n",
            "128 block5a_se_reduce False\n",
            "129 block5a_se_expand False\n",
            "130 block5a_se_excite False\n",
            "131 block5a_project_conv False\n",
            "132 block5a_project_bn False\n",
            "133 block5b_expand_conv False\n",
            "134 block5b_expand_bn False\n",
            "135 block5b_expand_activation False\n",
            "136 block5b_dwconv False\n",
            "137 block5b_bn False\n",
            "138 block5b_activation False\n",
            "139 block5b_se_squeeze False\n",
            "140 block5b_se_reshape False\n",
            "141 block5b_se_reduce False\n",
            "142 block5b_se_expand False\n",
            "143 block5b_se_excite False\n",
            "144 block5b_project_conv False\n",
            "145 block5b_project_bn False\n",
            "146 block5b_drop False\n",
            "147 block5b_add False\n",
            "148 block5c_expand_conv False\n",
            "149 block5c_expand_bn False\n",
            "150 block5c_expand_activation False\n",
            "151 block5c_dwconv False\n",
            "152 block5c_bn False\n",
            "153 block5c_activation False\n",
            "154 block5c_se_squeeze False\n",
            "155 block5c_se_reshape False\n",
            "156 block5c_se_reduce False\n",
            "157 block5c_se_expand False\n",
            "158 block5c_se_excite False\n",
            "159 block5c_project_conv False\n",
            "160 block5c_project_bn False\n",
            "161 block5c_drop False\n",
            "162 block5c_add False\n",
            "163 block6a_expand_conv False\n",
            "164 block6a_expand_bn False\n",
            "165 block6a_expand_activation False\n",
            "166 block6a_dwconv_pad False\n",
            "167 block6a_dwconv False\n",
            "168 block6a_bn False\n",
            "169 block6a_activation False\n",
            "170 block6a_se_squeeze False\n",
            "171 block6a_se_reshape False\n",
            "172 block6a_se_reduce False\n",
            "173 block6a_se_expand False\n",
            "174 block6a_se_excite False\n",
            "175 block6a_project_conv False\n",
            "176 block6a_project_bn False\n",
            "177 block6b_expand_conv False\n",
            "178 block6b_expand_bn False\n",
            "179 block6b_expand_activation False\n",
            "180 block6b_dwconv False\n",
            "181 block6b_bn False\n",
            "182 block6b_activation False\n",
            "183 block6b_se_squeeze False\n",
            "184 block6b_se_reshape False\n",
            "185 block6b_se_reduce False\n",
            "186 block6b_se_expand False\n",
            "187 block6b_se_excite False\n",
            "188 block6b_project_conv False\n",
            "189 block6b_project_bn False\n",
            "190 block6b_drop False\n",
            "191 block6b_add False\n",
            "192 block6c_expand_conv False\n",
            "193 block6c_expand_bn False\n",
            "194 block6c_expand_activation False\n",
            "195 block6c_dwconv False\n",
            "196 block6c_bn False\n",
            "197 block6c_activation False\n",
            "198 block6c_se_squeeze False\n",
            "199 block6c_se_reshape False\n",
            "200 block6c_se_reduce False\n",
            "201 block6c_se_expand False\n",
            "202 block6c_se_excite False\n",
            "203 block6c_project_conv False\n",
            "204 block6c_project_bn False\n",
            "205 block6c_drop False\n",
            "206 block6c_add False\n",
            "207 block6d_expand_conv False\n",
            "208 block6d_expand_bn False\n",
            "209 block6d_expand_activation False\n",
            "210 block6d_dwconv False\n",
            "211 block6d_bn False\n",
            "212 block6d_activation False\n",
            "213 block6d_se_squeeze False\n",
            "214 block6d_se_reshape False\n",
            "215 block6d_se_reduce False\n",
            "216 block6d_se_expand False\n",
            "217 block6d_se_excite False\n",
            "218 block6d_project_conv False\n",
            "219 block6d_project_bn False\n",
            "220 block6d_drop False\n",
            "221 block6d_add False\n",
            "222 block7a_expand_conv False\n",
            "223 block7a_expand_bn False\n",
            "224 block7a_expand_activation False\n",
            "225 block7a_dwconv False\n",
            "226 block7a_bn False\n",
            "227 block7a_activation False\n",
            "228 block7a_se_squeeze True\n",
            "229 block7a_se_reshape True\n",
            "230 block7a_se_reduce True\n",
            "231 block7a_se_expand True\n",
            "232 block7a_se_excite True\n",
            "233 block7a_project_conv True\n",
            "234 block7a_project_bn True\n",
            "235 top_conv True\n",
            "236 top_bn True\n",
            "237 top_activation True\n"
          ]
        }
      ]
    },
    {
      "cell_type": "code",
      "source": [
        "print(base_model.layers)"
      ],
      "metadata": {
        "colab": {
          "base_uri": "https://localhost:8080/"
        },
        "id": "N4CGf2fTXhcW",
        "outputId": "94db441d-f725-433c-a11c-eadd16051931"
      },
      "execution_count": null,
      "outputs": [
        {
          "output_type": "stream",
          "name": "stdout",
          "text": [
            "[<keras.engine.input_layer.InputLayer object at 0x7fa2b841d400>, <keras.layers.preprocessing.image_preprocessing.Rescaling object at 0x7fa2b824e8e0>, <keras.layers.preprocessing.normalization.Normalization object at 0x7fa2b8242fd0>, <keras.layers.preprocessing.image_preprocessing.Rescaling object at 0x7fa2b8304a00>, <keras.layers.reshaping.zero_padding2d.ZeroPadding2D object at 0x7fa328327f40>, <keras.layers.convolutional.conv2d.Conv2D object at 0x7fa38fb45b20>, <keras.layers.normalization.batch_normalization.BatchNormalization object at 0x7fa3282c5d30>, <keras.layers.core.activation.Activation object at 0x7fa3282c5af0>, <keras.layers.convolutional.depthwise_conv2d.DepthwiseConv2D object at 0x7fa38c43b430>, <keras.layers.normalization.batch_normalization.BatchNormalization object at 0x7fa2b8372f10>, <keras.layers.core.activation.Activation object at 0x7fa3284b22b0>, <keras.layers.pooling.global_average_pooling2d.GlobalAveragePooling2D object at 0x7fa3286a8b80>, <keras.layers.reshaping.reshape.Reshape object at 0x7fa328365220>, <keras.layers.convolutional.conv2d.Conv2D object at 0x7fa2b8254730>, <keras.layers.convolutional.conv2d.Conv2D object at 0x7fa38fb45790>, <keras.layers.merging.multiply.Multiply object at 0x7fa2b8207af0>, <keras.layers.convolutional.conv2d.Conv2D object at 0x7fa38c478430>, <keras.layers.normalization.batch_normalization.BatchNormalization object at 0x7fa38c426550>, <keras.layers.convolutional.conv2d.Conv2D object at 0x7fa3286d09a0>, <keras.layers.normalization.batch_normalization.BatchNormalization object at 0x7fa38c456910>, <keras.layers.core.activation.Activation object at 0x7fa3d57cbeb0>, <keras.layers.reshaping.zero_padding2d.ZeroPadding2D object at 0x7fa2b823d0d0>, <keras.layers.convolutional.depthwise_conv2d.DepthwiseConv2D object at 0x7fa2b824ec70>, <keras.layers.normalization.batch_normalization.BatchNormalization object at 0x7fa38c3f3700>, <keras.layers.core.activation.Activation object at 0x7fa2b8247eb0>, <keras.layers.pooling.global_average_pooling2d.GlobalAveragePooling2D object at 0x7fa3286a29d0>, <keras.layers.reshaping.reshape.Reshape object at 0x7fa3286a2130>, <keras.layers.convolutional.conv2d.Conv2D object at 0x7fa3286a2b20>, <keras.layers.convolutional.conv2d.Conv2D object at 0x7fa328678ee0>, <keras.layers.merging.multiply.Multiply object at 0x7fa2b8207580>, <keras.layers.convolutional.conv2d.Conv2D object at 0x7fa3286908e0>, <keras.layers.normalization.batch_normalization.BatchNormalization object at 0x7fa328690340>, <keras.layers.convolutional.conv2d.Conv2D object at 0x7fa3286d9a00>, <keras.layers.normalization.batch_normalization.BatchNormalization object at 0x7fa2b825dbb0>, <keras.layers.core.activation.Activation object at 0x7fa2b82575b0>, <keras.layers.convolutional.depthwise_conv2d.DepthwiseConv2D object at 0x7fa3286a2190>, <keras.layers.normalization.batch_normalization.BatchNormalization object at 0x7fa38c3f3e50>, <keras.layers.core.activation.Activation object at 0x7fa2b825d430>, <keras.layers.pooling.global_average_pooling2d.GlobalAveragePooling2D object at 0x7fa32bf119a0>, <keras.layers.reshaping.reshape.Reshape object at 0x7fa3286a2be0>, <keras.layers.convolutional.conv2d.Conv2D object at 0x7fa32bf115e0>, <keras.layers.convolutional.conv2d.Conv2D object at 0x7fa2b825d670>, <keras.layers.merging.multiply.Multiply object at 0x7fa328678f70>, <keras.layers.convolutional.conv2d.Conv2D object at 0x7fa32bf1b520>, <keras.layers.normalization.batch_normalization.BatchNormalization object at 0x7fa32bf1be20>, <keras.layers.regularization.dropout.Dropout object at 0x7fa32bf25670>, <keras.layers.merging.add.Add object at 0x7fa32bf277f0>, <keras.layers.convolutional.conv2d.Conv2D object at 0x7fa2b8201190>, <keras.layers.normalization.batch_normalization.BatchNormalization object at 0x7fa32bf25220>, <keras.layers.core.activation.Activation object at 0x7fa32bf25bb0>, <keras.layers.reshaping.zero_padding2d.ZeroPadding2D object at 0x7fa32bf2adf0>, <keras.layers.convolutional.depthwise_conv2d.DepthwiseConv2D object at 0x7fa38c3f3820>, <keras.layers.normalization.batch_normalization.BatchNormalization object at 0x7fa32bf2a910>, <keras.layers.core.activation.Activation object at 0x7fa2b8142970>, <keras.layers.pooling.global_average_pooling2d.GlobalAveragePooling2D object at 0x7fa2b8152d30>, <keras.layers.reshaping.reshape.Reshape object at 0x7fa2b8159c40>, <keras.layers.convolutional.conv2d.Conv2D object at 0x7fa2b815edf0>, <keras.layers.convolutional.conv2d.Conv2D object at 0x7fa2b8159e50>, <keras.layers.merging.multiply.Multiply object at 0x7fa2b815eac0>, <keras.layers.convolutional.conv2d.Conv2D object at 0x7fa2b8257dc0>, <keras.layers.normalization.batch_normalization.BatchNormalization object at 0x7fa2b815ed60>, <keras.layers.convolutional.conv2d.Conv2D object at 0x7fa2b8152e80>, <keras.layers.normalization.batch_normalization.BatchNormalization object at 0x7fa3286a2f10>, <keras.layers.core.activation.Activation object at 0x7fa2b8249ac0>, <keras.layers.convolutional.depthwise_conv2d.DepthwiseConv2D object at 0x7fa2b82484f0>, <keras.layers.normalization.batch_normalization.BatchNormalization object at 0x7fa2b8173bb0>, <keras.layers.core.activation.Activation object at 0x7fa2b816a0a0>, <keras.layers.pooling.global_average_pooling2d.GlobalAveragePooling2D object at 0x7fa2b8177f70>, <keras.layers.reshaping.reshape.Reshape object at 0x7fa2b81597c0>, <keras.layers.convolutional.conv2d.Conv2D object at 0x7fa2b80ff670>, <keras.layers.convolutional.conv2d.Conv2D object at 0x7fa2b816aa30>, <keras.layers.merging.multiply.Multiply object at 0x7fa2b810c700>, <keras.layers.convolutional.conv2d.Conv2D object at 0x7fa32bf2aa30>, <keras.layers.normalization.batch_normalization.BatchNormalization object at 0x7fa2b8103e20>, <keras.layers.regularization.dropout.Dropout object at 0x7fa2b811c6d0>, <keras.layers.merging.add.Add object at 0x7fa2b8121100>, <keras.layers.convolutional.conv2d.Conv2D object at 0x7fa2b824b220>, <keras.layers.normalization.batch_normalization.BatchNormalization object at 0x7fa2b812d7f0>, <keras.layers.core.activation.Activation object at 0x7fa2b8113dc0>, <keras.layers.reshaping.zero_padding2d.ZeroPadding2D object at 0x7fa2b812de80>, <keras.layers.convolutional.depthwise_conv2d.DepthwiseConv2D object at 0x7fa32bf27eb0>, <keras.layers.normalization.batch_normalization.BatchNormalization object at 0x7fa328690730>, <keras.layers.core.activation.Activation object at 0x7fa2b80ca640>, <keras.layers.pooling.global_average_pooling2d.GlobalAveragePooling2D object at 0x7fa2b80ca460>, <keras.layers.reshaping.reshape.Reshape object at 0x7fa2b80ff9d0>, <keras.layers.convolutional.conv2d.Conv2D object at 0x7fa2b8128580>, <keras.layers.convolutional.conv2d.Conv2D object at 0x7fa2b812dfa0>, <keras.layers.merging.multiply.Multiply object at 0x7fa2b8121670>, <keras.layers.convolutional.conv2d.Conv2D object at 0x7fa2b80dea30>, <keras.layers.normalization.batch_normalization.BatchNormalization object at 0x7fa2b81036d0>, <keras.layers.convolutional.conv2d.Conv2D object at 0x7fa2b8121a90>, <keras.layers.normalization.batch_normalization.BatchNormalization object at 0x7fa2b80e5640>, <keras.layers.core.activation.Activation object at 0x7fa2b80f4400>, <keras.layers.convolutional.depthwise_conv2d.DepthwiseConv2D object at 0x7fa2b80f42b0>, <keras.layers.normalization.batch_normalization.BatchNormalization object at 0x7fa2b813a8e0>, <keras.layers.core.activation.Activation object at 0x7fa2b80855b0>, <keras.layers.pooling.global_average_pooling2d.GlobalAveragePooling2D object at 0x7fa2b8085d90>, <keras.layers.reshaping.reshape.Reshape object at 0x7fa2b807e580>, <keras.layers.convolutional.conv2d.Conv2D object at 0x7fa2b80e5be0>, <keras.layers.convolutional.conv2d.Conv2D object at 0x7fa2b80d0100>, <keras.layers.merging.multiply.Multiply object at 0x7fa2b8132220>, <keras.layers.convolutional.conv2d.Conv2D object at 0x7fa2b80ffb50>, <keras.layers.normalization.batch_normalization.BatchNormalization object at 0x7fa2b80d0310>, <keras.layers.regularization.dropout.Dropout object at 0x7fa2b812dfd0>, <keras.layers.merging.add.Add object at 0x7fa2b808cb50>, <keras.layers.convolutional.conv2d.Conv2D object at 0x7fa2b80ff4f0>, <keras.layers.normalization.batch_normalization.BatchNormalization object at 0x7fa2b8094100>, <keras.layers.core.activation.Activation object at 0x7fa2b808cb20>, <keras.layers.convolutional.depthwise_conv2d.DepthwiseConv2D object at 0x7fa2b8094e20>, <keras.layers.normalization.batch_normalization.BatchNormalization object at 0x7fa2b80e53d0>, <keras.layers.core.activation.Activation object at 0x7fa2b8094d60>, <keras.layers.pooling.global_average_pooling2d.GlobalAveragePooling2D object at 0x7fa2b809f550>, <keras.layers.reshaping.reshape.Reshape object at 0x7fa2b8085190>, <keras.layers.convolutional.conv2d.Conv2D object at 0x7fa2b80ecc40>, <keras.layers.convolutional.conv2d.Conv2D object at 0x7fa2b80943d0>, <keras.layers.merging.multiply.Multiply object at 0x7fa2b80ac970>, <keras.layers.convolutional.conv2d.Conv2D object at 0x7fa2b81033a0>, <keras.layers.normalization.batch_normalization.BatchNormalization object at 0x7fa2b80a5220>, <keras.layers.regularization.dropout.Dropout object at 0x7fa2b8045670>, <keras.layers.merging.add.Add object at 0x7fa2b804d070>, <keras.layers.convolutional.conv2d.Conv2D object at 0x7fa32bf27e50>, <keras.layers.normalization.batch_normalization.BatchNormalization object at 0x7fa2b80bbe80>, <keras.layers.core.activation.Activation object at 0x7fa2b8045f70>, <keras.layers.convolutional.depthwise_conv2d.DepthwiseConv2D object at 0x7fa2b805de20>, <keras.layers.normalization.batch_normalization.BatchNormalization object at 0x7fa2b809f880>, <keras.layers.core.activation.Activation object at 0x7fa2b8053b50>, <keras.layers.pooling.global_average_pooling2d.GlobalAveragePooling2D object at 0x7fa2b806ec40>, <keras.layers.reshaping.reshape.Reshape object at 0x7fa2b80a5640>, <keras.layers.convolutional.conv2d.Conv2D object at 0x7fa2b806ee50>, <keras.layers.convolutional.conv2d.Conv2D object at 0x7fa2b804d550>, <keras.layers.merging.multiply.Multiply object at 0x7fa2b8053430>, <keras.layers.convolutional.conv2d.Conv2D object at 0x7fa2b8053d00>, <keras.layers.normalization.batch_normalization.BatchNormalization object at 0x7fa2b8064cd0>, <keras.layers.convolutional.conv2d.Conv2D object at 0x7fa38c3d6eb0>, <keras.layers.normalization.batch_normalization.BatchNormalization object at 0x7fa2b07c7940>, <keras.layers.core.activation.Activation object at 0x7fa2b07d2370>, <keras.layers.convolutional.depthwise_conv2d.DepthwiseConv2D object at 0x7fa2b07e1b50>, <keras.layers.normalization.batch_normalization.BatchNormalization object at 0x7fa2b07e1430>, <keras.layers.core.activation.Activation object at 0x7fa2b07d2a90>, <keras.layers.pooling.global_average_pooling2d.GlobalAveragePooling2D object at 0x7fa2b80451c0>, <keras.layers.reshaping.reshape.Reshape object at 0x7fa2b804d400>, <keras.layers.convolutional.conv2d.Conv2D object at 0x7fa2b80acd60>, <keras.layers.convolutional.conv2d.Conv2D object at 0x7fa2b07d9820>, <keras.layers.merging.multiply.Multiply object at 0x7fa2b07e10d0>, <keras.layers.convolutional.conv2d.Conv2D object at 0x7fa2b07c7f70>, <keras.layers.normalization.batch_normalization.BatchNormalization object at 0x7fa2b80726d0>, <keras.layers.regularization.dropout.Dropout object at 0x7fa2b07f5400>, <keras.layers.merging.add.Add object at 0x7fa2b07f5b50>, <keras.layers.convolutional.conv2d.Conv2D object at 0x7fa2b07f5a90>, <keras.layers.normalization.batch_normalization.BatchNormalization object at 0x7fa2b80b1880>, <keras.layers.core.activation.Activation object at 0x7fa2b8072b20>, <keras.layers.convolutional.depthwise_conv2d.DepthwiseConv2D object at 0x7fa2b8072d60>, <keras.layers.normalization.batch_normalization.BatchNormalization object at 0x7fa2b07fb310>, <keras.layers.core.activation.Activation object at 0x7fa2b0784400>, <keras.layers.pooling.global_average_pooling2d.GlobalAveragePooling2D object at 0x7fa2b078aee0>, <keras.layers.reshaping.reshape.Reshape object at 0x7fa2b80456d0>, <keras.layers.convolutional.conv2d.Conv2D object at 0x7fa2b809f370>, <keras.layers.convolutional.conv2d.Conv2D object at 0x7fa2b07fb760>, <keras.layers.merging.multiply.Multiply object at 0x7fa2b079b9d0>, <keras.layers.convolutional.conv2d.Conv2D object at 0x7fa2b8094b20>, <keras.layers.normalization.batch_normalization.BatchNormalization object at 0x7fa2b07a59a0>, <keras.layers.regularization.dropout.Dropout object at 0x7fa2b0740be0>, <keras.layers.merging.add.Add object at 0x7fa2b0745520>, <keras.layers.convolutional.conv2d.Conv2D object at 0x7fa2b80923a0>, <keras.layers.normalization.batch_normalization.BatchNormalization object at 0x7fa2b0745250>, <keras.layers.core.activation.Activation object at 0x7fa2b0745070>, <keras.layers.reshaping.zero_padding2d.ZeroPadding2D object at 0x7fa2b0740220>, <keras.layers.convolutional.depthwise_conv2d.DepthwiseConv2D object at 0x7fa2b813a280>, <keras.layers.normalization.batch_normalization.BatchNormalization object at 0x7fa2b0760610>, <keras.layers.core.activation.Activation object at 0x7fa2b076fb50>, <keras.layers.pooling.global_average_pooling2d.GlobalAveragePooling2D object at 0x7fa2b076f970>, <keras.layers.reshaping.reshape.Reshape object at 0x7fa2b0792eb0>, <keras.layers.convolutional.conv2d.Conv2D object at 0x7fa2b076f9d0>, <keras.layers.convolutional.conv2d.Conv2D object at 0x7fa2b07511f0>, <keras.layers.merging.multiply.Multiply object at 0x7fa2b07af6a0>, <keras.layers.convolutional.conv2d.Conv2D object at 0x7fa2b06ffee0>, <keras.layers.normalization.batch_normalization.BatchNormalization object at 0x7fa2b070a490>, <keras.layers.convolutional.conv2d.Conv2D object at 0x7fa2b070a580>, <keras.layers.normalization.batch_normalization.BatchNormalization object at 0x7fa2b070ab50>, <keras.layers.core.activation.Activation object at 0x7fa2b0792460>, <keras.layers.convolutional.depthwise_conv2d.DepthwiseConv2D object at 0x7fa2b07af0a0>, <keras.layers.normalization.batch_normalization.BatchNormalization object at 0x7fa2b07a5c70>, <keras.layers.core.activation.Activation object at 0x7fa2b06ff2e0>, <keras.layers.pooling.global_average_pooling2d.GlobalAveragePooling2D object at 0x7fa2b07f3b20>, <keras.layers.reshaping.reshape.Reshape object at 0x7fa2b07fba00>, <keras.layers.convolutional.conv2d.Conv2D object at 0x7fa2b0792a30>, <keras.layers.convolutional.conv2d.Conv2D object at 0x7fa2b07546a0>, <keras.layers.merging.multiply.Multiply object at 0x7fa2b0775970>, <keras.layers.convolutional.conv2d.Conv2D object at 0x7fa2b0725d60>, <keras.layers.normalization.batch_normalization.BatchNormalization object at 0x7fa2b071fcd0>, <keras.layers.regularization.dropout.Dropout object at 0x7fa2b072ad30>, <keras.layers.merging.add.Add object at 0x7fa2b072aeb0>, <keras.layers.convolutional.conv2d.Conv2D object at 0x7fa2b0725bb0>, <keras.layers.normalization.batch_normalization.BatchNormalization object at 0x7fa2b073a490>, <keras.layers.core.activation.Activation object at 0x7fa2b072adf0>, <keras.layers.convolutional.depthwise_conv2d.DepthwiseConv2D object at 0x7fa2b073af10>, <keras.layers.normalization.batch_normalization.BatchNormalization object at 0x7fa2b06ff070>, <keras.layers.core.activation.Activation object at 0x7fa2b073a9a0>, <keras.layers.pooling.global_average_pooling2d.GlobalAveragePooling2D object at 0x7fa2b06c7ac0>, <keras.layers.reshaping.reshape.Reshape object at 0x7fa2b07c7fd0>, <keras.layers.convolutional.conv2d.Conv2D object at 0x7fa2b071f610>, <keras.layers.convolutional.conv2d.Conv2D object at 0x7fa2b073a730>, <keras.layers.merging.multiply.Multiply object at 0x7fa2b06d1ee0>, <keras.layers.convolutional.conv2d.Conv2D object at 0x7fa2b0725760>, <keras.layers.normalization.batch_normalization.BatchNormalization object at 0x7fa2b06d69d0>, <keras.layers.regularization.dropout.Dropout object at 0x7fa2b06efc70>, <keras.layers.merging.add.Add object at 0x7fa2b06f73a0>, <keras.layers.convolutional.conv2d.Conv2D object at 0x7fa2b07337c0>, <keras.layers.normalization.batch_normalization.BatchNormalization object at 0x7fa2b06f7ca0>, <keras.layers.core.activation.Activation object at 0x7fa2b06f7310>, <keras.layers.convolutional.depthwise_conv2d.DepthwiseConv2D object at 0x7fa2b068c580>, <keras.layers.normalization.batch_normalization.BatchNormalization object at 0x7fa2b06c3bb0>, <keras.layers.core.activation.Activation object at 0x7fa2b0683520>, <keras.layers.pooling.global_average_pooling2d.GlobalAveragePooling2D object at 0x7fa2b069d190>, <keras.layers.reshaping.reshape.Reshape object at 0x7fa2b06c7f70>, <keras.layers.convolutional.conv2d.Conv2D object at 0x7fa2b0699ac0>, <keras.layers.convolutional.conv2d.Conv2D object at 0x7fa2b067ee80>, <keras.layers.merging.multiply.Multiply object at 0x7fa2b06a5b20>, <keras.layers.convolutional.conv2d.Conv2D object at 0x7fa2b06a5310>, <keras.layers.normalization.batch_normalization.BatchNormalization object at 0x7fa2b06993a0>, <keras.layers.regularization.dropout.Dropout object at 0x7fa2b073a1c0>, <keras.layers.merging.add.Add object at 0x7fa2b073ac40>, <keras.layers.convolutional.conv2d.Conv2D object at 0x7fa2b073ae20>, <keras.layers.normalization.batch_normalization.BatchNormalization object at 0x7fa2b067e9a0>, <keras.layers.core.activation.Activation object at 0x7fa2b069d6d0>, <keras.layers.convolutional.depthwise_conv2d.DepthwiseConv2D object at 0x7fa2b079baf0>, <keras.layers.normalization.batch_normalization.BatchNormalization object at 0x7fa2b06c7d30>, <keras.layers.core.activation.Activation object at 0x7fa2b07a5e50>, <keras.layers.pooling.global_average_pooling2d.GlobalAveragePooling2D object at 0x7fa2b063d250>, <keras.layers.reshaping.reshape.Reshape object at 0x7fa2b069d040>, <keras.layers.convolutional.conv2d.Conv2D object at 0x7fa2b0699220>, <keras.layers.convolutional.conv2d.Conv2D object at 0x7fa2b069dbe0>, <keras.layers.merging.multiply.Multiply object at 0x7fa2b06a5fd0>, <keras.layers.convolutional.conv2d.Conv2D object at 0x7fa2b06a5490>, <keras.layers.normalization.batch_normalization.BatchNormalization object at 0x7fa2b0648760>, <keras.layers.convolutional.conv2d.Conv2D object at 0x7fa3286aa7c0>, <keras.layers.normalization.batch_normalization.BatchNormalization object at 0x7fa2b065beb0>, <keras.layers.core.activation.Activation object at 0x7fa2b0672f40>]\n"
          ]
        }
      ]
    },
    {
      "cell_type": "markdown",
      "source": [
        "**Note**: When using fine-tuning, it is better to lower the learning rate. A good rule of thumb is by at least 10x. \n",
        "* 📖 UMLFit Paper https://arxiv.org/abs/1801.06146"
      ],
      "metadata": {
        "id": "rclDWa84v72N"
      }
    },
    {
      "cell_type": "code",
      "source": [
        "for i, layer in enumerate(model_2.layers[2].layers):\n",
        "  print (i, layer.name, layer.trainable)"
      ],
      "metadata": {
        "colab": {
          "base_uri": "https://localhost:8080/"
        },
        "id": "YsiLDhS4vfa5",
        "outputId": "1bf1a3eb-e69a-4ac6-d13a-4a5a6e539bee"
      },
      "execution_count": null,
      "outputs": [
        {
          "output_type": "stream",
          "name": "stdout",
          "text": [
            "0 input_7 False\n",
            "1 rescaling_10 False\n",
            "2 normalization_5 False\n",
            "3 rescaling_11 False\n",
            "4 stem_conv_pad False\n",
            "5 stem_conv False\n",
            "6 stem_bn False\n",
            "7 stem_activation False\n",
            "8 block1a_dwconv False\n",
            "9 block1a_bn False\n",
            "10 block1a_activation False\n",
            "11 block1a_se_squeeze False\n",
            "12 block1a_se_reshape False\n",
            "13 block1a_se_reduce False\n",
            "14 block1a_se_expand False\n",
            "15 block1a_se_excite False\n",
            "16 block1a_project_conv False\n",
            "17 block1a_project_bn False\n",
            "18 block2a_expand_conv False\n",
            "19 block2a_expand_bn False\n",
            "20 block2a_expand_activation False\n",
            "21 block2a_dwconv_pad False\n",
            "22 block2a_dwconv False\n",
            "23 block2a_bn False\n",
            "24 block2a_activation False\n",
            "25 block2a_se_squeeze False\n",
            "26 block2a_se_reshape False\n",
            "27 block2a_se_reduce False\n",
            "28 block2a_se_expand False\n",
            "29 block2a_se_excite False\n",
            "30 block2a_project_conv False\n",
            "31 block2a_project_bn False\n",
            "32 block2b_expand_conv False\n",
            "33 block2b_expand_bn False\n",
            "34 block2b_expand_activation False\n",
            "35 block2b_dwconv False\n",
            "36 block2b_bn False\n",
            "37 block2b_activation False\n",
            "38 block2b_se_squeeze False\n",
            "39 block2b_se_reshape False\n",
            "40 block2b_se_reduce False\n",
            "41 block2b_se_expand False\n",
            "42 block2b_se_excite False\n",
            "43 block2b_project_conv False\n",
            "44 block2b_project_bn False\n",
            "45 block2b_drop False\n",
            "46 block2b_add False\n",
            "47 block3a_expand_conv False\n",
            "48 block3a_expand_bn False\n",
            "49 block3a_expand_activation False\n",
            "50 block3a_dwconv_pad False\n",
            "51 block3a_dwconv False\n",
            "52 block3a_bn False\n",
            "53 block3a_activation False\n",
            "54 block3a_se_squeeze False\n",
            "55 block3a_se_reshape False\n",
            "56 block3a_se_reduce False\n",
            "57 block3a_se_expand False\n",
            "58 block3a_se_excite False\n",
            "59 block3a_project_conv False\n",
            "60 block3a_project_bn False\n",
            "61 block3b_expand_conv False\n",
            "62 block3b_expand_bn False\n",
            "63 block3b_expand_activation False\n",
            "64 block3b_dwconv False\n",
            "65 block3b_bn False\n",
            "66 block3b_activation False\n",
            "67 block3b_se_squeeze False\n",
            "68 block3b_se_reshape False\n",
            "69 block3b_se_reduce False\n",
            "70 block3b_se_expand False\n",
            "71 block3b_se_excite False\n",
            "72 block3b_project_conv False\n",
            "73 block3b_project_bn False\n",
            "74 block3b_drop False\n",
            "75 block3b_add False\n",
            "76 block4a_expand_conv False\n",
            "77 block4a_expand_bn False\n",
            "78 block4a_expand_activation False\n",
            "79 block4a_dwconv_pad False\n",
            "80 block4a_dwconv False\n",
            "81 block4a_bn False\n",
            "82 block4a_activation False\n",
            "83 block4a_se_squeeze False\n",
            "84 block4a_se_reshape False\n",
            "85 block4a_se_reduce False\n",
            "86 block4a_se_expand False\n",
            "87 block4a_se_excite False\n",
            "88 block4a_project_conv False\n",
            "89 block4a_project_bn False\n",
            "90 block4b_expand_conv False\n",
            "91 block4b_expand_bn False\n",
            "92 block4b_expand_activation False\n",
            "93 block4b_dwconv False\n",
            "94 block4b_bn False\n",
            "95 block4b_activation False\n",
            "96 block4b_se_squeeze False\n",
            "97 block4b_se_reshape False\n",
            "98 block4b_se_reduce False\n",
            "99 block4b_se_expand False\n",
            "100 block4b_se_excite False\n",
            "101 block4b_project_conv False\n",
            "102 block4b_project_bn False\n",
            "103 block4b_drop False\n",
            "104 block4b_add False\n",
            "105 block4c_expand_conv False\n",
            "106 block4c_expand_bn False\n",
            "107 block4c_expand_activation False\n",
            "108 block4c_dwconv False\n",
            "109 block4c_bn False\n",
            "110 block4c_activation False\n",
            "111 block4c_se_squeeze False\n",
            "112 block4c_se_reshape False\n",
            "113 block4c_se_reduce False\n",
            "114 block4c_se_expand False\n",
            "115 block4c_se_excite False\n",
            "116 block4c_project_conv False\n",
            "117 block4c_project_bn False\n",
            "118 block4c_drop False\n",
            "119 block4c_add False\n",
            "120 block5a_expand_conv False\n",
            "121 block5a_expand_bn False\n",
            "122 block5a_expand_activation False\n",
            "123 block5a_dwconv False\n",
            "124 block5a_bn False\n",
            "125 block5a_activation False\n",
            "126 block5a_se_squeeze False\n",
            "127 block5a_se_reshape False\n",
            "128 block5a_se_reduce False\n",
            "129 block5a_se_expand False\n",
            "130 block5a_se_excite False\n",
            "131 block5a_project_conv False\n",
            "132 block5a_project_bn False\n",
            "133 block5b_expand_conv False\n",
            "134 block5b_expand_bn False\n",
            "135 block5b_expand_activation False\n",
            "136 block5b_dwconv False\n",
            "137 block5b_bn False\n",
            "138 block5b_activation False\n",
            "139 block5b_se_squeeze False\n",
            "140 block5b_se_reshape False\n",
            "141 block5b_se_reduce False\n",
            "142 block5b_se_expand False\n",
            "143 block5b_se_excite False\n",
            "144 block5b_project_conv False\n",
            "145 block5b_project_bn False\n",
            "146 block5b_drop False\n",
            "147 block5b_add False\n",
            "148 block5c_expand_conv False\n",
            "149 block5c_expand_bn False\n",
            "150 block5c_expand_activation False\n",
            "151 block5c_dwconv False\n",
            "152 block5c_bn False\n",
            "153 block5c_activation False\n",
            "154 block5c_se_squeeze False\n",
            "155 block5c_se_reshape False\n",
            "156 block5c_se_reduce False\n",
            "157 block5c_se_expand False\n",
            "158 block5c_se_excite False\n",
            "159 block5c_project_conv False\n",
            "160 block5c_project_bn False\n",
            "161 block5c_drop False\n",
            "162 block5c_add False\n",
            "163 block6a_expand_conv False\n",
            "164 block6a_expand_bn False\n",
            "165 block6a_expand_activation False\n",
            "166 block6a_dwconv_pad False\n",
            "167 block6a_dwconv False\n",
            "168 block6a_bn False\n",
            "169 block6a_activation False\n",
            "170 block6a_se_squeeze False\n",
            "171 block6a_se_reshape False\n",
            "172 block6a_se_reduce False\n",
            "173 block6a_se_expand False\n",
            "174 block6a_se_excite False\n",
            "175 block6a_project_conv False\n",
            "176 block6a_project_bn False\n",
            "177 block6b_expand_conv False\n",
            "178 block6b_expand_bn False\n",
            "179 block6b_expand_activation False\n",
            "180 block6b_dwconv False\n",
            "181 block6b_bn False\n",
            "182 block6b_activation False\n",
            "183 block6b_se_squeeze False\n",
            "184 block6b_se_reshape False\n",
            "185 block6b_se_reduce False\n",
            "186 block6b_se_expand False\n",
            "187 block6b_se_excite False\n",
            "188 block6b_project_conv False\n",
            "189 block6b_project_bn False\n",
            "190 block6b_drop False\n",
            "191 block6b_add False\n",
            "192 block6c_expand_conv False\n",
            "193 block6c_expand_bn False\n",
            "194 block6c_expand_activation False\n",
            "195 block6c_dwconv False\n",
            "196 block6c_bn False\n",
            "197 block6c_activation False\n",
            "198 block6c_se_squeeze False\n",
            "199 block6c_se_reshape False\n",
            "200 block6c_se_reduce False\n",
            "201 block6c_se_expand False\n",
            "202 block6c_se_excite False\n",
            "203 block6c_project_conv False\n",
            "204 block6c_project_bn False\n",
            "205 block6c_drop False\n",
            "206 block6c_add False\n",
            "207 block6d_expand_conv False\n",
            "208 block6d_expand_bn False\n",
            "209 block6d_expand_activation False\n",
            "210 block6d_dwconv False\n",
            "211 block6d_bn False\n",
            "212 block6d_activation False\n",
            "213 block6d_se_squeeze False\n",
            "214 block6d_se_reshape False\n",
            "215 block6d_se_reduce False\n",
            "216 block6d_se_expand False\n",
            "217 block6d_se_excite False\n",
            "218 block6d_project_conv False\n",
            "219 block6d_project_bn False\n",
            "220 block6d_drop False\n",
            "221 block6d_add False\n",
            "222 block7a_expand_conv False\n",
            "223 block7a_expand_bn False\n",
            "224 block7a_expand_activation False\n",
            "225 block7a_dwconv False\n",
            "226 block7a_bn False\n",
            "227 block7a_activation False\n",
            "228 block7a_se_squeeze True\n",
            "229 block7a_se_reshape True\n",
            "230 block7a_se_reduce True\n",
            "231 block7a_se_expand True\n",
            "232 block7a_se_excite True\n",
            "233 block7a_project_conv True\n",
            "234 block7a_project_bn True\n",
            "235 top_conv True\n",
            "236 top_bn True\n",
            "237 top_activation True\n"
          ]
        }
      ]
    },
    {
      "cell_type": "code",
      "source": [
        "print(len(model_2.trainable_variables))"
      ],
      "metadata": {
        "colab": {
          "base_uri": "https://localhost:8080/"
        },
        "id": "2-_XkeWDvled",
        "outputId": "31b50526-95b4-4075-8394-c390d309c5f7"
      },
      "execution_count": null,
      "outputs": [
        {
          "output_type": "stream",
          "name": "stdout",
          "text": [
            "12\n"
          ]
        }
      ]
    },
    {
      "cell_type": "code",
      "source": [
        "model_2.trainable_variables"
      ],
      "metadata": {
        "colab": {
          "base_uri": "https://localhost:8080/"
        },
        "id": "tK-cxfrUw2cq",
        "outputId": "499ecc24-cf65-4a95-c3e0-676e364ed2bf"
      },
      "execution_count": null,
      "outputs": [
        {
          "output_type": "execute_result",
          "data": {
            "text/plain": [
              "[<tf.Variable 'block7a_se_reduce/kernel:0' shape=(1, 1, 1152, 48) dtype=float32, numpy=\n",
              " array([[[[-0.05485657,  0.07178846,  0.01534605, ..., -0.09284662,\n",
              "            0.0104828 , -0.02693838],\n",
              "          [-0.03157939,  0.02819107, -0.05579546, ...,  0.00487578,\n",
              "            0.12001809, -0.06901816],\n",
              "          [-0.07792544,  0.12601745,  0.03935236, ...,  0.03086486,\n",
              "           -0.01581392,  0.1306234 ],\n",
              "          ...,\n",
              "          [-0.07692936,  0.19920062,  0.17471024, ...,  0.03312391,\n",
              "           -0.04528928, -0.09214652],\n",
              "          [ 0.01010198,  0.06855008,  0.05820991, ...,  0.00131649,\n",
              "           -0.08952942, -0.00476829],\n",
              "          [ 0.03583075, -0.01228165,  0.04561347, ..., -0.00822134,\n",
              "           -0.07354517, -0.06507882]]]], dtype=float32)>,\n",
              " <tf.Variable 'block7a_se_reduce/bias:0' shape=(48,) dtype=float32, numpy=\n",
              " array([-0.10886215, -0.13624744, -0.15257476,  0.14799541, -0.08512902,\n",
              "        -0.12059905, -0.08779966, -0.08187538, -0.06925284, -0.12518929,\n",
              "        -0.0819265 , -0.1259736 , -0.09993652, -0.10109923, -0.13398036,\n",
              "        -0.09867296, -0.09382621, -0.11011569, -0.1063069 , -0.09003814,\n",
              "        -0.04766154, -0.06743164, -0.13778378, -0.10579358, -0.10130141,\n",
              "        -0.13948615,  0.13246794, -0.03255463, -0.11809722, -0.04813838,\n",
              "        -0.13148174, -0.05429332, -0.0448516 , -0.11129897, -0.08523702,\n",
              "        -0.13361962, -0.07146074, -0.13821687, -0.0614575 , -0.02393492,\n",
              "        -0.08265438, -0.13204956, -0.10251977, -0.12446474, -0.1350065 ,\n",
              "        -0.06927117, -0.07627591, -0.08064308], dtype=float32)>,\n",
              " <tf.Variable 'block7a_se_expand/kernel:0' shape=(1, 1, 48, 1152) dtype=float32, numpy=\n",
              " array([[[[ 0.01703347, -0.09556078, -0.12866898, ..., -0.11176323,\n",
              "           -0.12041699,  0.07214174],\n",
              "          [ 0.11851509,  0.09440814, -0.07513665, ..., -0.10720892,\n",
              "            0.15331012,  0.00920153],\n",
              "          [-0.03525457, -0.05621038,  0.03370081, ...,  0.0058019 ,\n",
              "            0.08038238,  0.02380909],\n",
              "          ...,\n",
              "          [-0.16428104,  0.14296436, -0.07728611, ..., -0.03546136,\n",
              "            0.03369582, -0.19963196],\n",
              "          [-0.01133208, -0.0060606 ,  0.10776694, ...,  0.01572948,\n",
              "           -0.06349678, -0.05537278],\n",
              "          [-0.09189203, -0.05271737, -0.08292874, ..., -0.03266691,\n",
              "           -0.15144289, -0.13922407]]]], dtype=float32)>,\n",
              " <tf.Variable 'block7a_se_expand/bias:0' shape=(1152,) dtype=float32, numpy=\n",
              " array([ 0.04515592,  0.0518708 ,  0.08215576, ..., -0.02809454,\n",
              "         0.06679371,  0.14091711], dtype=float32)>,\n",
              " <tf.Variable 'block7a_project_conv/kernel:0' shape=(1, 1, 1152, 320) dtype=float32, numpy=\n",
              " array([[[[ 0.04719412, -0.03508057,  0.18866068, ...,  0.00667723,\n",
              "            0.01607844, -0.06703078],\n",
              "          [-0.10309057,  0.01945817,  0.03923143, ..., -0.09136088,\n",
              "            0.07520416,  0.09395675],\n",
              "          [-0.0786793 ,  0.02817695, -0.03047303, ...,  0.01593926,\n",
              "            0.13013661, -0.05727762],\n",
              "          ...,\n",
              "          [ 0.01056576, -0.02389853,  0.15035501, ...,  0.04682408,\n",
              "            0.03543943, -0.0752975 ],\n",
              "          [-0.06144901, -0.0928897 ,  0.05499939, ...,  0.16682369,\n",
              "            0.08615127, -0.02209447],\n",
              "          [-0.04315694,  0.1413447 ,  0.00528443, ..., -0.00220996,\n",
              "            0.1894294 , -0.11107358]]]], dtype=float32)>,\n",
              " <tf.Variable 'block7a_project_bn/gamma:0' shape=(320,) dtype=float32, numpy=\n",
              " array([2.6341524, 3.6408505, 2.6395326, 2.6145833, 2.6313312, 2.6202953,\n",
              "        2.5319185, 2.5870585, 2.688308 , 2.6000342, 2.9978335, 2.537907 ,\n",
              "        2.6381385, 2.716591 , 2.558281 , 2.4929833, 2.644765 , 2.462597 ,\n",
              "        2.6660817, 2.5237637, 2.6011422, 2.824746 , 2.5168786, 2.5305552,\n",
              "        2.7185206, 2.7899334, 2.682837 , 2.5672472, 2.4950414, 2.607678 ,\n",
              "        2.6045194, 2.5780609, 2.63664  , 2.5805535, 2.5575125, 2.5273108,\n",
              "        2.5634987, 2.7832053, 2.6418092, 2.604934 , 2.5325363, 2.6006708,\n",
              "        2.6354814, 2.5668874, 2.7951095, 2.646076 , 3.0281844, 2.6361535,\n",
              "        3.1250885, 2.635435 , 2.5462308, 2.6689003, 2.5725474, 2.5831702,\n",
              "        2.5835443, 2.656816 , 2.5504594, 2.6580045, 2.642674 , 2.548922 ,\n",
              "        2.5658593, 2.5088289, 2.8326697, 2.6741598, 2.724444 , 2.6740642,\n",
              "        2.6301656, 2.6501355, 2.5464098, 2.584042 , 2.5088935, 2.6053326,\n",
              "        2.548359 , 2.742098 , 2.6033902, 2.5825214, 2.6483955, 2.685057 ,\n",
              "        2.6903856, 2.7595356, 2.6767306, 2.650072 , 2.6561706, 2.6387742,\n",
              "        2.5386903, 2.6601446, 2.585036 , 2.581829 , 2.493314 , 2.5478692,\n",
              "        2.7056026, 2.5470285, 2.6166646, 2.7911394, 2.5091803, 2.5457087,\n",
              "        2.4962032, 2.616603 , 2.8938844, 2.5239155, 2.5611029, 2.5762894,\n",
              "        2.6258383, 2.7690558, 2.6246526, 2.573153 , 2.63151  , 2.6664348,\n",
              "        2.5510879, 2.633915 , 2.5973866, 2.6333516, 2.5894468, 2.5375085,\n",
              "        2.7006404, 2.6648164, 2.5562012, 2.6261616, 2.5598128, 2.515569 ,\n",
              "        2.643523 , 2.6532161, 2.7102292, 2.5004933, 2.8885357, 2.5730307,\n",
              "        2.6309655, 2.5566099, 2.542208 , 2.5430515, 2.95321  , 2.530806 ,\n",
              "        2.6387343, 2.610428 , 2.580837 , 2.6031556, 2.668818 , 2.549356 ,\n",
              "        2.6471393, 2.5472634, 2.669148 , 2.59522  , 2.6507857, 2.4828112,\n",
              "        2.601118 , 2.593023 , 2.549623 , 2.534933 , 2.7077003, 2.5183656,\n",
              "        2.6026828, 2.985571 , 2.6405106, 2.7155428, 2.5788558, 2.6546528,\n",
              "        2.5677054, 2.4542222, 2.7947254, 2.5911338, 2.6567724, 2.5698543,\n",
              "        2.50019  , 2.5938528, 2.6083398, 2.5553062, 2.5281339, 2.5907693,\n",
              "        2.5921338, 2.6407883, 2.5940228, 2.6011744, 2.6939318, 2.5788543,\n",
              "        2.611848 , 2.5353673, 2.5492253, 2.6692536, 2.5442774, 2.6057358,\n",
              "        2.545667 , 2.699785 , 2.5898273, 2.6510255, 2.6357298, 2.5392187,\n",
              "        3.0744135, 2.5465763, 2.62727  , 2.8991907, 2.6765053, 2.5408316,\n",
              "        2.6696007, 2.663587 , 2.6330073, 2.6307907, 2.557663 , 2.6597102,\n",
              "        2.7168522, 3.0360131, 2.4636025, 2.5911775, 2.6008296, 2.6731155,\n",
              "        2.6936364, 2.716485 , 2.680393 , 2.7018907, 2.7021012, 2.5174494,\n",
              "        2.604642 , 2.6076188, 2.6755745, 2.5452864, 2.5664885, 2.8462067,\n",
              "        2.7362747, 2.666304 , 2.5056198, 2.5951312, 2.5824764, 2.6146016,\n",
              "        2.642559 , 2.5692267, 2.792615 , 2.6337516, 2.4910922, 2.6466959,\n",
              "        2.6380413, 2.5529966, 2.565908 , 2.5560148, 2.640346 , 2.6173239,\n",
              "        2.6475196, 2.6759052, 3.218808 , 2.5925794, 2.5743115, 2.6601744,\n",
              "        2.6724327, 2.631072 , 2.562081 , 2.5806832, 2.512028 , 2.6604302,\n",
              "        2.5478892, 2.5730498, 2.6972325, 2.5915775, 2.6661477, 2.6339667,\n",
              "        2.6636207, 2.5320785, 2.6257393, 2.622644 , 2.508248 , 2.6330373,\n",
              "        2.599642 , 2.6596751, 2.6126783, 2.6051974, 2.652374 , 2.6319253,\n",
              "        2.8959923, 2.6422274, 2.6246538, 2.4762268, 2.631236 , 2.4831147,\n",
              "        2.6260679, 2.519754 , 2.619554 , 2.8796465, 2.614829 , 2.58701  ,\n",
              "        2.5688565, 2.6110027, 2.6058009, 2.5786552, 2.6547408, 2.5492873,\n",
              "        2.6010828, 2.8261983, 2.5328765, 2.689091 , 2.5229828, 2.5879102,\n",
              "        2.7365847, 2.7272425, 2.6959665, 2.6330662, 2.5203118, 2.688423 ,\n",
              "        2.5512888, 3.3626828, 2.5781293, 2.50825  , 2.5737724, 2.621484 ,\n",
              "        2.6324031, 2.6176171, 2.5813835, 2.5144784, 2.633849 , 2.8199816,\n",
              "        2.6682093, 2.599474 , 2.6375234, 2.684862 , 2.525223 , 2.6976318,\n",
              "        2.6058314, 2.5276728, 2.4987195, 2.572669 , 2.5587776, 2.5677974,\n",
              "        2.838972 , 2.619664 ], dtype=float32)>,\n",
              " <tf.Variable 'block7a_project_bn/beta:0' shape=(320,) dtype=float32, numpy=\n",
              " array([ 2.72746431e-04, -4.64200834e-03,  1.81363500e-03, -1.35792862e-03,\n",
              "        -1.83621727e-04,  7.23875011e-04, -7.06277788e-04, -3.28818336e-04,\n",
              "        -1.00322848e-03,  5.77372033e-04, -3.32189701e-03, -8.64792033e-04,\n",
              "         1.79181120e-03, -8.18454195e-04, -1.69087423e-03,  2.51508714e-03,\n",
              "        -1.26882526e-03, -3.69476293e-05, -2.75014690e-03, -3.24349292e-03,\n",
              "         2.12383200e-03, -9.11651237e-04, -2.34528631e-03, -1.68305065e-03,\n",
              "        -7.17351562e-04,  2.03338059e-04, -1.06290297e-03, -1.05257204e-03,\n",
              "         7.56997324e-04,  8.66741582e-04,  4.24314709e-03,  5.80201682e-04,\n",
              "        -1.42630236e-03,  3.64625268e-03,  1.12341705e-03,  1.69936311e-03,\n",
              "         1.08880980e-03,  4.06244246e-04,  1.67966017e-03, -3.07304901e-04,\n",
              "         2.56448926e-04, -2.74889544e-03, -2.60693108e-04,  6.29616028e-04,\n",
              "         5.18684392e-04,  5.06498793e-04, -1.75745424e-03, -2.50845333e-03,\n",
              "         3.29580111e-03,  2.34114681e-03,  1.78862875e-03, -1.96675933e-03,\n",
              "        -2.85300863e-04,  2.95514881e-04,  1.76551077e-03,  2.14295986e-04,\n",
              "        -2.74702528e-04, -4.98560366e-05, -2.33496467e-05,  6.49673748e-05,\n",
              "         3.62340477e-04, -9.65728366e-04, -2.40365812e-03, -3.28422553e-04,\n",
              "         1.72259891e-03, -9.60275298e-04, -1.24948169e-03, -1.23629603e-03,\n",
              "        -4.82999487e-04,  1.66278379e-03, -1.42891321e-03, -8.51270393e-04,\n",
              "         2.50486657e-03,  1.03739847e-03,  4.44977719e-04, -4.01280500e-04,\n",
              "        -6.51122653e-04,  7.47022335e-04, -1.48657290e-03,  5.63821697e-04,\n",
              "        -2.27600569e-03,  1.02134841e-03,  1.50884001e-03, -4.78561968e-04,\n",
              "        -2.13380903e-04,  3.12323740e-04,  1.69344270e-03,  7.68164638e-04,\n",
              "        -1.42305926e-03, -1.06511544e-03,  8.57689520e-05, -1.03630626e-03,\n",
              "        -5.28990058e-04, -6.56761054e-04, -1.05450675e-03,  1.19510374e-03,\n",
              "        -3.83046397e-04, -2.39993151e-05, -6.99702534e-04, -1.11313257e-03,\n",
              "         1.15426502e-03, -3.16569209e-03,  1.56251244e-05, -5.30554564e-04,\n",
              "        -1.35117490e-03, -1.99875431e-04, -1.27230806e-03,  3.45696841e-04,\n",
              "        -1.73765479e-03,  8.10689293e-04, -7.09120708e-04,  1.19463378e-03,\n",
              "        -1.29504187e-03, -1.42769760e-03, -2.05490855e-03,  3.33959106e-05,\n",
              "        -9.67560452e-04,  2.18152488e-03,  2.38515713e-05,  4.46808335e-05,\n",
              "        -2.04296876e-03, -1.20915414e-03, -9.56242220e-05,  4.59675764e-04,\n",
              "         3.40061216e-03,  2.13403418e-03, -5.79986838e-04,  1.29770138e-03,\n",
              "        -1.09179609e-03,  9.54744522e-04, -8.50354671e-04, -1.00062031e-03,\n",
              "         1.42553748e-04,  3.43387743e-04, -5.74955542e-04, -2.38789900e-04,\n",
              "        -1.63314794e-03,  1.01994854e-04,  2.63368245e-03,  1.79869402e-03,\n",
              "        -1.25590130e-03, -2.92626093e-03,  9.38380021e-04, -3.11836222e-04,\n",
              "        -4.31053893e-04, -1.59043982e-03,  1.84826949e-03,  1.48812158e-03,\n",
              "        -2.77693220e-03, -8.86596739e-04, -2.36758046e-04, -7.58587732e-04,\n",
              "         1.39371923e-03, -4.49905143e-04,  5.05587144e-04, -9.97542636e-04,\n",
              "         1.03000528e-03,  2.86184740e-03, -1.79313810e-03, -6.55176118e-04,\n",
              "        -2.65727611e-03,  7.20865792e-04,  1.30724453e-03, -4.23565325e-05,\n",
              "         6.62169245e-04, -4.66128025e-04,  2.81012943e-03,  1.82552508e-03,\n",
              "         5.87477058e-04, -4.03790065e-04,  8.74075748e-04,  7.78581234e-05,\n",
              "         1.90386223e-03, -1.54897827e-03,  2.25501688e-04,  5.10995567e-04,\n",
              "         2.55123922e-03,  8.13688268e-04, -7.14337279e-04, -5.06902405e-04,\n",
              "         2.85416422e-03,  7.83873023e-04, -1.10656860e-04,  9.32446972e-04,\n",
              "         2.40951893e-03, -6.86718326e-04, -2.52255704e-03,  2.18124787e-05,\n",
              "         1.05487206e-05,  8.27186217e-04, -1.75172405e-03, -1.25424110e-03,\n",
              "         8.82197171e-04, -5.65536728e-04, -1.00640114e-03, -3.75324744e-04,\n",
              "         1.51518488e-03, -1.22928934e-04,  8.04806245e-04,  4.69992170e-04,\n",
              "        -5.85276866e-04, -1.16747025e-04, -3.51934647e-03,  1.32238166e-03,\n",
              "         1.72750279e-03,  2.94423138e-04,  2.98701430e-04,  4.09114582e-04,\n",
              "        -5.18784160e-04, -2.73050228e-03,  1.59792858e-03,  2.05026925e-04,\n",
              "         7.29332387e-04, -8.44324881e-04,  1.73368491e-03, -1.31481164e-03,\n",
              "        -1.38368423e-03,  3.16325552e-03,  1.51809235e-03,  8.39646265e-04,\n",
              "         6.18721606e-05, -2.25067860e-03, -1.54738067e-04,  7.56336085e-04,\n",
              "        -1.71400257e-03,  6.03145338e-04, -5.99783496e-04,  9.78035154e-04,\n",
              "        -2.15801597e-03,  9.26407811e-04,  6.17332407e-04,  2.00839248e-03,\n",
              "         3.08294198e-03, -7.05075916e-04,  3.08018411e-03, -2.07686680e-03,\n",
              "        -3.42484983e-03,  8.07445089e-04, -1.29282055e-03, -1.24681287e-03,\n",
              "         6.63550978e-04,  1.38722942e-03, -1.00464269e-03,  2.45917181e-04,\n",
              "        -1.47426047e-03, -2.40818423e-04,  2.99509428e-03,  1.09945354e-03,\n",
              "         8.59148684e-04,  1.50627500e-06, -1.17584574e-03,  4.68704355e-04,\n",
              "         8.43120288e-05,  1.58117816e-03,  1.44869217e-03, -1.08577078e-03,\n",
              "        -9.88185639e-04,  2.09095539e-03,  1.32484653e-03, -1.08445913e-03,\n",
              "        -8.18771659e-04, -1.73332344e-03, -6.66451058e-04, -1.59535231e-03,\n",
              "         3.21470387e-03,  1.90356874e-03,  7.54604407e-04, -2.53299979e-04,\n",
              "         1.34878664e-03, -1.87308283e-03,  1.15370855e-03, -1.05404225e-03,\n",
              "        -1.19788572e-03,  1.14590931e-03,  1.14154675e-04, -5.62238798e-04,\n",
              "         1.96290808e-03,  8.19200242e-04, -1.13923859e-03, -1.30361354e-03,\n",
              "         1.50869356e-03, -1.18403800e-03, -2.32256460e-03,  1.89215309e-04,\n",
              "        -4.54480432e-05, -1.98359881e-03,  1.85492670e-03, -2.23364055e-04,\n",
              "        -8.34366656e-04,  2.03655963e-03,  1.67561357e-03,  1.62004714e-03,\n",
              "        -3.21354310e-04,  3.61894118e-03, -5.57434803e-04, -1.67479762e-03,\n",
              "         1.03459624e-03,  4.82435600e-04, -2.24323105e-03, -1.16618583e-03,\n",
              "         1.39774487e-03, -3.93694296e-04,  1.31923391e-03, -8.33242026e-04,\n",
              "        -1.68927254e-05, -2.22254661e-03, -4.09675704e-04,  2.92616361e-03,\n",
              "        -1.78410482e-04, -1.21830043e-03,  3.88241722e-03,  7.66222889e-04,\n",
              "        -1.43284255e-04, -1.88554521e-03,  8.52050260e-04,  1.40042137e-03,\n",
              "         2.37329234e-03,  7.15036993e-04, -2.30495381e-04,  3.50229093e-03],\n",
              "       dtype=float32)>,\n",
              " <tf.Variable 'top_conv/kernel:0' shape=(1, 1, 320, 1280) dtype=float32, numpy=\n",
              " array([[[[ 0.010654  ,  0.04302309, -0.05814039, ...,  0.07820047,\n",
              "            0.09309781,  0.13512692],\n",
              "          [ 0.18291403,  0.0635317 ,  0.1210966 , ...,  0.10852515,\n",
              "            0.09180524,  0.25709218],\n",
              "          [-0.01965742,  0.02730735,  0.02497241, ...,  0.10817309,\n",
              "            0.11124102,  0.03874104],\n",
              "          ...,\n",
              "          [ 0.16707249,  0.0034612 , -0.04011405, ...,  0.07070784,\n",
              "           -0.03778364,  0.04866563],\n",
              "          [-0.03250833, -0.03533007, -0.08403775, ..., -0.04473848,\n",
              "           -0.06186406,  0.05368444],\n",
              "          [ 0.14157134, -0.01509961, -0.20079431, ..., -0.10574265,\n",
              "           -0.04939263,  0.04458737]]]], dtype=float32)>,\n",
              " <tf.Variable 'top_bn/gamma:0' shape=(1280,) dtype=float32, numpy=\n",
              " array([2.656564 , 2.543096 , 2.3632998, ..., 2.7232573, 2.503377 ,\n",
              "        2.161115 ], dtype=float32)>,\n",
              " <tf.Variable 'top_bn/beta:0' shape=(1280,) dtype=float32, numpy=\n",
              " array([-2.2949498, -2.3487396, -2.0764754, ..., -2.4685047, -2.2737474,\n",
              "        -1.4324068], dtype=float32)>,\n",
              " <tf.Variable 'output_layer/kernel:0' shape=(1280, 10) dtype=float32, numpy=\n",
              " array([[ 0.06034995, -0.10521413, -0.01892029, ..., -0.11042866,\n",
              "         -0.01240679, -0.0307291 ],\n",
              "        [-0.02793343, -0.10813314, -0.0471791 , ...,  0.05413009,\n",
              "         -0.02342554,  0.08977402],\n",
              "        [ 0.02059726, -0.02169316,  0.02520594, ..., -0.05237432,\n",
              "         -0.01108245, -0.05598499],\n",
              "        ...,\n",
              "        [-0.06658048,  0.02627095, -0.06420504, ...,  0.02446098,\n",
              "         -0.02120448,  0.07849572],\n",
              "        [-0.09260673,  0.02116792, -0.11770381, ..., -0.03081395,\n",
              "          0.02593911, -0.01435729],\n",
              "        [-0.04572431, -0.02291114,  0.04659709, ..., -0.08051201,\n",
              "          0.07822551,  0.0275449 ]], dtype=float32)>,\n",
              " <tf.Variable 'output_layer/bias:0' shape=(10,) dtype=float32, numpy=\n",
              " array([ 0.00867213, -0.00152902,  0.004099  , -0.01397031, -0.0013245 ,\n",
              "        -0.00734157,  0.02074073,  0.00693699, -0.00529634, -0.00420603],\n",
              "       dtype=float32)>]"
            ]
          },
          "metadata": {},
          "execution_count": 244
        }
      ]
    },
    {
      "cell_type": "code",
      "source": [
        "for layer in model_2.layers:\n",
        "  print (layer, layer.trainable)"
      ],
      "metadata": {
        "colab": {
          "base_uri": "https://localhost:8080/"
        },
        "id": "Su9K7Et4wiLy",
        "outputId": "f3b9d986-ec15-464d-8ca1-1cf7bd4a508e"
      },
      "execution_count": null,
      "outputs": [
        {
          "output_type": "stream",
          "name": "stdout",
          "text": [
            "<keras.engine.input_layer.InputLayer object at 0x7fa2b82421c0> True\n",
            "<keras.engine.sequential.Sequential object at 0x7fa2b8252640> True\n",
            "<keras.engine.functional.Functional object at 0x7fa2b0672820> True\n",
            "<keras.layers.pooling.global_average_pooling2d.GlobalAveragePooling2D object at 0x7fa3286aa460> True\n",
            "<keras.layers.core.dense.Dense object at 0x7fa2b0068790> True\n"
          ]
        }
      ]
    },
    {
      "cell_type": "code",
      "source": [
        "model_2.summary()"
      ],
      "metadata": {
        "colab": {
          "base_uri": "https://localhost:8080/"
        },
        "id": "JMyUzdAKw0vK",
        "outputId": "6a514540-5a02-4aec-b416-7eb0d846ee5c"
      },
      "execution_count": null,
      "outputs": [
        {
          "output_type": "stream",
          "name": "stdout",
          "text": [
            "Model: \"model_5\"\n",
            "_________________________________________________________________\n",
            " Layer (type)                Output Shape              Param #   \n",
            "=================================================================\n",
            " input_layer (InputLayer)    [(None, 224, 224, 3)]     0         \n",
            "                                                                 \n",
            " data_augmentation (Sequenti  (None, None, None, 3)    0         \n",
            " al)                                                             \n",
            "                                                                 \n",
            " efficientnetb0 (Functional)  (None, None, None, 1280)  4049571  \n",
            "                                                                 \n",
            " global_average_pooling2d_4   (None, 1280)             0         \n",
            " (GlobalAveragePooling2D)                                        \n",
            "                                                                 \n",
            " output_layer (Dense)        (None, 10)                12810     \n",
            "                                                                 \n",
            "=================================================================\n",
            "Total params: 4,062,381\n",
            "Trainable params: 906,042\n",
            "Non-trainable params: 3,156,339\n",
            "_________________________________________________________________\n"
          ]
        }
      ]
    },
    {
      "cell_type": "code",
      "source": [
        "# fine tune another 5 epochs\n",
        "fine_tune_epochs = initial_epochs + 5\n",
        "\n",
        "# refit the model \n",
        "\n",
        "history_3 = model_2.fit(train_data_10_percent,\n",
        "                        epochs=fine_tune_epochs,\n",
        "                        validation_data=test_data,\n",
        "                        validation_steps=0.25*len(test_data),\n",
        "                        initial_epoch=history_2.epoch[-1], # start training from previous last epoch\n",
        "                        callbacks=[create_tensorboard_callback(dir_name=\"transfer_learning\", experiment_name=\"model_3\"), \n",
        "                                                     checkpoint_callback])\n"
      ],
      "metadata": {
        "colab": {
          "base_uri": "https://localhost:8080/"
        },
        "id": "4Nd2ex28xDnF",
        "outputId": "5ac1460d-d2d2-438e-e29e-2788e6bcffbf"
      },
      "execution_count": null,
      "outputs": [
        {
          "output_type": "stream",
          "name": "stderr",
          "text": [
            "WARNING:tensorflow:Model failed to serialize as JSON. Ignoring... Unable to serialize [2.0896919 2.1128857 2.1081853] to JSON. Unrecognized type <class 'tensorflow.python.framework.ops.EagerTensor'>.\n"
          ]
        },
        {
          "output_type": "stream",
          "name": "stdout",
          "text": [
            "Saving TensorBoard log files to: transfer_learning/model_3/20230222-031316\n",
            "Epoch 5/10\n"
          ]
        },
        {
          "output_type": "stream",
          "name": "stderr",
          "text": [
            "WARNING:tensorflow:Using a while_loop for converting RngReadAndSkip cause there is no registered converter for this op.\n",
            "WARNING:tensorflow:Using a while_loop for converting Bitcast cause there is no registered converter for this op.\n",
            "WARNING:tensorflow:Using a while_loop for converting Bitcast cause there is no registered converter for this op.\n",
            "WARNING:tensorflow:Using a while_loop for converting StatelessRandomUniformV2 cause there is no registered converter for this op.\n",
            "WARNING:tensorflow:Using a while_loop for converting ImageProjectiveTransformV3 cause there is no registered converter for this op.\n",
            "WARNING:tensorflow:Using a while_loop for converting RngReadAndSkip cause there is no registered converter for this op.\n",
            "WARNING:tensorflow:Using a while_loop for converting Bitcast cause there is no registered converter for this op.\n",
            "WARNING:tensorflow:Using a while_loop for converting Bitcast cause there is no registered converter for this op.\n",
            "WARNING:tensorflow:Using a while_loop for converting StatelessRandomUniformV2 cause there is no registered converter for this op.\n",
            "WARNING:tensorflow:Using a while_loop for converting ImageProjectiveTransformV3 cause there is no registered converter for this op.\n",
            "WARNING:tensorflow:Using a while_loop for converting RngReadAndSkip cause there is no registered converter for this op.\n",
            "WARNING:tensorflow:Using a while_loop for converting Bitcast cause there is no registered converter for this op.\n",
            "WARNING:tensorflow:Using a while_loop for converting Bitcast cause there is no registered converter for this op.\n",
            "WARNING:tensorflow:Using a while_loop for converting StatelessRandomUniformV2 cause there is no registered converter for this op.\n",
            "WARNING:tensorflow:Using a while_loop for converting ImageProjectiveTransformV3 cause there is no registered converter for this op.\n",
            "WARNING:tensorflow:Using a while_loop for converting RngReadAndSkip cause there is no registered converter for this op.\n",
            "WARNING:tensorflow:Using a while_loop for converting Bitcast cause there is no registered converter for this op.\n",
            "WARNING:tensorflow:Using a while_loop for converting Bitcast cause there is no registered converter for this op.\n",
            "WARNING:tensorflow:Using a while_loop for converting StatelessRandomUniformV2 cause there is no registered converter for this op.\n",
            "WARNING:tensorflow:Using a while_loop for converting ImageProjectiveTransformV3 cause there is no registered converter for this op.\n"
          ]
        },
        {
          "output_type": "stream",
          "name": "stdout",
          "text": [
            "24/24 [==============================] - ETA: 0s - loss: 0.6282 - accuracy: 0.8333\n",
            "Epoch 5: saving model to ten_percent_model_checkpoints_weights/checkpoint.ckpt\n",
            "24/24 [==============================] - 16s 250ms/step - loss: 0.6282 - accuracy: 0.8333 - val_loss: 0.5047 - val_accuracy: 0.8297\n",
            "Epoch 6/10\n",
            "24/24 [==============================] - ETA: 0s - loss: 0.5037 - accuracy: 0.8480\n",
            "Epoch 6: saving model to ten_percent_model_checkpoints_weights/checkpoint.ckpt\n",
            "24/24 [==============================] - 5s 188ms/step - loss: 0.5037 - accuracy: 0.8480 - val_loss: 0.4971 - val_accuracy: 0.8281\n",
            "Epoch 7/10\n",
            "24/24 [==============================] - ETA: 0s - loss: 0.4227 - accuracy: 0.8787\n",
            "Epoch 7: saving model to ten_percent_model_checkpoints_weights/checkpoint.ckpt\n",
            "24/24 [==============================] - 5s 195ms/step - loss: 0.4227 - accuracy: 0.8787 - val_loss: 0.4817 - val_accuracy: 0.8328\n",
            "Epoch 8/10\n",
            "24/24 [==============================] - ETA: 0s - loss: 0.3946 - accuracy: 0.8800\n",
            "Epoch 8: saving model to ten_percent_model_checkpoints_weights/checkpoint.ckpt\n",
            "24/24 [==============================] - 5s 192ms/step - loss: 0.3946 - accuracy: 0.8800 - val_loss: 0.4835 - val_accuracy: 0.8438\n",
            "Epoch 9/10\n",
            "24/24 [==============================] - ETA: 0s - loss: 0.3474 - accuracy: 0.8960\n",
            "Epoch 9: saving model to ten_percent_model_checkpoints_weights/checkpoint.ckpt\n",
            "24/24 [==============================] - 5s 193ms/step - loss: 0.3474 - accuracy: 0.8960 - val_loss: 0.4456 - val_accuracy: 0.8547\n",
            "Epoch 10/10\n",
            "24/24 [==============================] - ETA: 0s - loss: 0.3170 - accuracy: 0.9080\n",
            "Epoch 10: saving model to ten_percent_model_checkpoints_weights/checkpoint.ckpt\n",
            "24/24 [==============================] - 5s 190ms/step - loss: 0.3170 - accuracy: 0.9080 - val_loss: 0.4705 - val_accuracy: 0.8453\n"
          ]
        }
      ]
    },
    {
      "cell_type": "markdown",
      "source": [
        "### Evaluate the results of `model_3`"
      ],
      "metadata": {
        "id": "X-uOtIMuLaQ1"
      }
    },
    {
      "cell_type": "code",
      "source": [
        "# Evaluate the fine-tuned model_3 (which is actually model_2 fine-tuned for another 5 epochs)\n",
        "results_3 = model_2.evaluate(test_data)"
      ],
      "metadata": {
        "colab": {
          "base_uri": "https://localhost:8080/"
        },
        "id": "NF-gSqZMXmAz",
        "outputId": "b0cc8a0f-4f02-40e0-c8c1-8575751fe838"
      },
      "execution_count": null,
      "outputs": [
        {
          "output_type": "stream",
          "name": "stdout",
          "text": [
            "79/79 [==============================] - 2s 21ms/step - loss: 0.4513 - accuracy: 0.8472\n"
          ]
        }
      ]
    },
    {
      "cell_type": "code",
      "source": [
        "results_2"
      ],
      "metadata": {
        "colab": {
          "base_uri": "https://localhost:8080/"
        },
        "id": "DgcFYZiwXxPt",
        "outputId": "ac4c4180-3995-424c-af5a-78cdc7241187"
      },
      "execution_count": null,
      "outputs": [
        {
          "output_type": "execute_result",
          "data": {
            "text/plain": [
              "[0.6432152390480042, 0.8343999981880188]"
            ]
          },
          "metadata": {},
          "execution_count": 248
        }
      ]
    },
    {
      "cell_type": "code",
      "source": [
        "# Check out the loss curves of our fine-tuned model\n",
        "plot_loss_curves(history_3)"
      ],
      "metadata": {
        "colab": {
          "base_uri": "https://localhost:8080/",
          "height": 573
        },
        "id": "Cs6qnEuzXy_l",
        "outputId": "1e14ea1c-4093-4899-ca26-3411fb9895b4"
      },
      "execution_count": null,
      "outputs": [
        {
          "output_type": "display_data",
          "data": {
            "text/plain": [
              "<Figure size 432x288 with 1 Axes>"
            ],
            "image/png": "[encoded data removed]"
          },
          "metadata": {
            "needs_background": "light"
          }
        },
        {
          "output_type": "display_data",
          "data": {
            "text/plain": [
              "<Figure size 432x288 with 1 Axes>"
            ],
            "image/png": "[encoded data removed]"
          },
          "metadata": {
            "needs_background": "light"
          }
        }
      ]
    },
    {
      "cell_type": "markdown",
      "source": [
        "The `plot_loss_curves` function works great with models which have onlybeen fit once. However we want something to compare one series of running `fit()` with another (i.e. before and after fine-tuning). A function to compare training histories."
      ],
      "metadata": {
        "id": "OIGFB_ymYKAn"
      }
    },
    {
      "cell_type": "code",
      "source": [
        "def compare_historys(original_history, new_history, initial_epochs=5):\n",
        "  \"\"\"\n",
        "  Compares 2 Tensorflow history objects\n",
        "  \"\"\"\n",
        "  # Get original history measurements\n",
        "  acc = original_history.history[\"accuracy\"]\n",
        "  loss = original_history.history[\"loss\"]\n",
        "  val_acc = original_history.history[\"val_accuracy\"]\n",
        "  val_loss = original_history.history[\"val_loss\"]\n",
        "\n",
        "  # Combine original history metrics with new history metrics\n",
        "  total_acc = acc + new_history.history[\"accuracy\"]\n",
        "  total_loss = loss + new_history.history[\"loss\"]\n",
        "  total_val_acc = acc + new_history.history[\"val_accuracy\"]\n",
        "  total_val_loss = loss + new_history.history[\"val_loss\"]\n",
        "\n",
        "  # make plots for accuracy\n",
        "  plt.figure(figsize=(8,8))\n",
        "  plt.subplot(2,1,1)\n",
        "  plt.plot(total_acc, label=\"Training Accuracy\")\n",
        "  plt.plot(total_val_acc, label=\"Validation Accuracy\")\n",
        "  plt.plot([initial_epochs-1, initial_epochs-1], plt.ylim(), label=\"start fine tuning\")\n",
        "  plt.legend(loc=\"lower right\")\n",
        "  plt.title(\"Traning and Validation Accuracy\")\n",
        "\n",
        "  # make plots for loss\n",
        "  plt.figure(figsize=(8,8))\n",
        "  plt.subplot(2,1,2)\n",
        "  plt.plot(total_loss, label=\"Training Loss\")\n",
        "  plt.plot(total_val_loss, label=\"Validation Loss\")\n",
        "  plt.plot([initial_epochs-1, initial_epochs-1], plt.ylim(), label=\"start fine tuning\")\n",
        "  plt.legend(loc=\"upper right\")\n",
        "  plt.title(\"Traning and Validation Loss\")\n"
      ],
      "metadata": {
        "id": "KwcGBl4MY3CL"
      },
      "execution_count": null,
      "outputs": []
    },
    {
      "cell_type": "code",
      "source": [
        "compare_historys (history_2, history_3, initial_epochs=5) # it's zero-indexed that's why it's epoch=4 in the plot"
      ],
      "metadata": {
        "id": "-uRTiHVuaT2z"
      },
      "execution_count": null,
      "outputs": []
    },
    {
      "cell_type": "markdown",
      "source": [
        "## `model_4`: fine tuning the model with 100% of the training data"
      ],
      "metadata": {
        "id": "iQ0TUvkDabaw"
      }
    },
    {
      "cell_type": "markdown",
      "source": [
        "### Get the full dataset"
      ],
      "metadata": {
        "id": "GbhfSqMzcIpf"
      }
    },
    {
      "cell_type": "code",
      "source": [
        "!wget https://storage.googleapis.com/ztm_tf_course/food_vision/10_food_classes_all_data.zip"
      ],
      "metadata": {
        "id": "ichNYTW_cNjI"
      },
      "execution_count": null,
      "outputs": []
    },
    {
      "cell_type": "code",
      "source": [
        "unzip_data(\"10_food_classes_all_data.zip\")"
      ],
      "metadata": {
        "id": "5lLcRtyccXPP"
      },
      "execution_count": null,
      "outputs": []
    },
    {
      "cell_type": "code",
      "source": [
        "walk_through_dir(\"10_food_classes_all_data\")"
      ],
      "metadata": {
        "id": "ILSXuDzXccN3"
      },
      "execution_count": null,
      "outputs": []
    },
    {
      "cell_type": "code",
      "source": [
        "train_dir=\"/content/10_food_classes_all_data/train/\"\n",
        "test_dir=\"/content/10_food_classes_all_data/test/\""
      ],
      "metadata": {
        "id": "-sFbbqXdcsx2"
      },
      "execution_count": null,
      "outputs": []
    },
    {
      "cell_type": "code",
      "source": [
        "train_data_full = tf.keras.preprocessing.image_dataset_from_directory(train_dir,\n",
        "                                                                      image_size=(224,224),\n",
        "                                                                      batch_size=32,\n",
        "                                                                      label_mode=\"categorical\")\n",
        "test_data = tf.keras.preprocessing.image_dataset_from_directory(test_dir,\n",
        "                                                                batch_size=32,\n",
        "                                                                image_size=(224,224),\n",
        "                                                                label_mode=\"categorical\")"
      ],
      "metadata": {
        "colab": {
          "base_uri": "https://localhost:8080/"
        },
        "id": "3g488aEkc3BQ",
        "outputId": "dee9fcbe-c13d-49d6-b9e3-397587d48988"
      },
      "execution_count": null,
      "outputs": [
        {
          "output_type": "stream",
          "name": "stdout",
          "text": [
            "Found 7500 files belonging to 10 classes.\n",
            "Found 2500 files belonging to 10 classes.\n"
          ]
        }
      ]
    },
    {
      "cell_type": "markdown",
      "source": [
        "The test dataset has been common across all the experiments."
      ],
      "metadata": {
        "id": "YtVqEtitd0WH"
      }
    },
    {
      "cell_type": "code",
      "source": [
        "# Evaluate model_2 (fine tuned on 10% of training data)\n",
        "model_2.evaluate(test_data), results_2"
      ],
      "metadata": {
        "id": "yjoC51j7fVvV"
      },
      "execution_count": null,
      "outputs": []
    },
    {
      "cell_type": "markdown",
      "source": [
        "To train a fine-tuning model (`model_4`), we need to revert `model_3` (although it's called `model_2`) back to its feature-extractor weights after fitting as `model_2`. That way we can fine-tune from the same stage that the 10percent data model was fine-tuned from."
      ],
      "metadata": {
        "id": "qy_9OpQ5fnPY"
      }
    },
    {
      "cell_type": "code",
      "source": [
        "model_2.load_weights(checkpoint_path)"
      ],
      "metadata": {
        "colab": {
          "base_uri": "https://localhost:8080/"
        },
        "id": "xgAwBMcJfnMi",
        "outputId": "5a49a909-3673-406d-e6dd-ca1e64224163"
      },
      "execution_count": null,
      "outputs": [
        {
          "output_type": "execute_result",
          "data": {
            "text/plain": [
              "<tensorflow.python.checkpoint.checkpoint.CheckpointLoadStatus at 0x7fa2957f4ca0>"
            ]
          },
          "metadata": {},
          "execution_count": 253
        }
      ]
    },
    {
      "cell_type": "code",
      "source": [
        "model_2.summary()"
      ],
      "metadata": {
        "colab": {
          "base_uri": "https://localhost:8080/"
        },
        "id": "vGyVOFFxfnKE",
        "outputId": "8898c3c1-1d20-4450-db36-ad32b6177877"
      },
      "execution_count": null,
      "outputs": [
        {
          "output_type": "stream",
          "name": "stdout",
          "text": [
            "Model: \"model_4\"\n",
            "_________________________________________________________________\n",
            " Layer (type)                Output Shape              Param #   \n",
            "=================================================================\n",
            " input_layer (InputLayer)    [(None, 224, 224, 3)]     0         \n",
            "                                                                 \n",
            " data_augmentation (Sequenti  (None, None, None, 3)    0         \n",
            " al)                                                             \n",
            "                                                                 \n",
            " efficientnetb0 (Functional)  (None, None, None, 1280)  4049571  \n",
            "                                                                 \n",
            " global_average_pooling2d_3   (None, 1280)             0         \n",
            " (GlobalAveragePooling2D)                                        \n",
            "                                                                 \n",
            " output_layer (Dense)        (None, 10)                12810     \n",
            "                                                                 \n",
            "=================================================================\n",
            "Total params: 4,062,381\n",
            "Trainable params: 906,042\n",
            "Non-trainable params: 3,156,339\n",
            "_________________________________________________________________\n"
          ]
        }
      ]
    },
    {
      "cell_type": "code",
      "source": [
        "model_2.evaluate(test_data)"
      ],
      "metadata": {
        "colab": {
          "base_uri": "https://localhost:8080/"
        },
        "id": "GBfMmLcnFjIt",
        "outputId": "4e941909-2f38-42ab-c3b5-08a9ca36aea0"
      },
      "execution_count": null,
      "outputs": [
        {
          "output_type": "stream",
          "name": "stdout",
          "text": [
            "79/79 [==============================] - 2s 22ms/step - loss: 0.4513 - accuracy: 0.8472\n"
          ]
        },
        {
          "output_type": "execute_result",
          "data": {
            "text/plain": [
              "[0.4512880742549896, 0.8471999764442444]"
            ]
          },
          "metadata": {},
          "execution_count": 254
        }
      ]
    },
    {
      "cell_type": "code",
      "source": [
        "results_2"
      ],
      "metadata": {
        "colab": {
          "base_uri": "https://localhost:8080/"
        },
        "id": "5GpR7HYXFlyf",
        "outputId": "b73f0baf-28f2-482b-bdee-c24d9a8c0eff"
      },
      "execution_count": null,
      "outputs": [
        {
          "output_type": "execute_result",
          "data": {
            "text/plain": [
              "[0.6432152390480042, 0.8343999981880188]"
            ]
          },
          "metadata": {},
          "execution_count": 255
        }
      ]
    },
    {
      "cell_type": "code",
      "source": [
        "results_3"
      ],
      "metadata": {
        "colab": {
          "base_uri": "https://localhost:8080/"
        },
        "id": "bPpNYjzOFt98",
        "outputId": "5dabae57-ca3b-4213-a661-0aebf1f0f413"
      },
      "execution_count": null,
      "outputs": [
        {
          "output_type": "execute_result",
          "data": {
            "text/plain": [
              "[0.4512886703014374, 0.8471999764442444]"
            ]
          },
          "metadata": {},
          "execution_count": 256
        }
      ]
    },
    {
      "cell_type": "code",
      "source": [
        "# model_4.fit(train_data_full, epochs=5, steps_per_epoch=len(train_data_full),\n",
        "#             validation_data=text_data, validation_steps=len(text_data),\n",
        "#             callbacks=[create_tensorboard_callback(dir_name=\"transfer_learning\", experiment_name=\"model_4\")])"
      ],
      "metadata": {
        "id": "ztgogVWteKII"
      },
      "execution_count": null,
      "outputs": []
    },
    {
      "cell_type": "markdown",
      "source": [
        "1. Trained a feature extractor transfer learning model for 5 epochs on 10% of the data with data augmentation (`model_2`) and we saved the model's weights using `ModelCheckpoint`.\n",
        "\n",
        "2. We fine-tuned the same model on the same 10% of the data with the top 10 layers of the base model unfrozen (`model_3`).\n",
        "\n",
        "3. We saved the results and training logs (history) each time.\n",
        "\n",
        "4. We reloaded the model from step 1 ot do the same steps as step 2 except this time, we're going to use all of the data. (`model_4`)."
      ],
      "metadata": {
        "id": "NdiqAQzrF0nL"
      }
    },
    {
      "cell_type": "code",
      "source": [
        "# Check which layers are trainable\n",
        "\n",
        "for i, layer in enumerate(model_2.layers):\n",
        "  print(i, layer, layer.trainable)"
      ],
      "metadata": {
        "colab": {
          "base_uri": "https://localhost:8080/"
        },
        "id": "gRLZ5JG0HLFj",
        "outputId": "15445985-260f-4ef9-a658-9f1c289b8841"
      },
      "execution_count": null,
      "outputs": [
        {
          "output_type": "stream",
          "name": "stdout",
          "text": [
            "0 <keras.engine.input_layer.InputLayer object at 0x7fa2957e68e0> True\n",
            "1 <keras.engine.sequential.Sequential object at 0x7fa2b8357fa0> True\n",
            "2 <keras.engine.functional.Functional object at 0x7fa29c7e4bb0> True\n",
            "3 <keras.layers.pooling.global_average_pooling2d.GlobalAveragePooling2D object at 0x7fa29c7b49d0> True\n",
            "4 <keras.layers.core.dense.Dense object at 0x7fa2b8477760> True\n"
          ]
        }
      ]
    },
    {
      "cell_type": "code",
      "source": [
        "# let's drill into our base model\n",
        "for i, layer in enumerate(model_2.layers[2].layers):\n",
        "  print(i, layer.name, layer.trainable)"
      ],
      "metadata": {
        "colab": {
          "base_uri": "https://localhost:8080/"
        },
        "id": "Fuxh_HlQHv7z",
        "outputId": "6e3b8355-94c8-4b96-d55f-48bfa7f05331"
      },
      "execution_count": null,
      "outputs": [
        {
          "output_type": "stream",
          "name": "stdout",
          "text": [
            "0 input_7 False\n",
            "1 rescaling_10 False\n",
            "2 normalization_5 False\n",
            "3 rescaling_11 False\n",
            "4 stem_conv_pad False\n",
            "5 stem_conv False\n",
            "6 stem_bn False\n",
            "7 stem_activation False\n",
            "8 block1a_dwconv False\n",
            "9 block1a_bn False\n",
            "10 block1a_activation False\n",
            "11 block1a_se_squeeze False\n",
            "12 block1a_se_reshape False\n",
            "13 block1a_se_reduce False\n",
            "14 block1a_se_expand False\n",
            "15 block1a_se_excite False\n",
            "16 block1a_project_conv False\n",
            "17 block1a_project_bn False\n",
            "18 block2a_expand_conv False\n",
            "19 block2a_expand_bn False\n",
            "20 block2a_expand_activation False\n",
            "21 block2a_dwconv_pad False\n",
            "22 block2a_dwconv False\n",
            "23 block2a_bn False\n",
            "24 block2a_activation False\n",
            "25 block2a_se_squeeze False\n",
            "26 block2a_se_reshape False\n",
            "27 block2a_se_reduce False\n",
            "28 block2a_se_expand False\n",
            "29 block2a_se_excite False\n",
            "30 block2a_project_conv False\n",
            "31 block2a_project_bn False\n",
            "32 block2b_expand_conv False\n",
            "33 block2b_expand_bn False\n",
            "34 block2b_expand_activation False\n",
            "35 block2b_dwconv False\n",
            "36 block2b_bn False\n",
            "37 block2b_activation False\n",
            "38 block2b_se_squeeze False\n",
            "39 block2b_se_reshape False\n",
            "40 block2b_se_reduce False\n",
            "41 block2b_se_expand False\n",
            "42 block2b_se_excite False\n",
            "43 block2b_project_conv False\n",
            "44 block2b_project_bn False\n",
            "45 block2b_drop False\n",
            "46 block2b_add False\n",
            "47 block3a_expand_conv False\n",
            "48 block3a_expand_bn False\n",
            "49 block3a_expand_activation False\n",
            "50 block3a_dwconv_pad False\n",
            "51 block3a_dwconv False\n",
            "52 block3a_bn False\n",
            "53 block3a_activation False\n",
            "54 block3a_se_squeeze False\n",
            "55 block3a_se_reshape False\n",
            "56 block3a_se_reduce False\n",
            "57 block3a_se_expand False\n",
            "58 block3a_se_excite False\n",
            "59 block3a_project_conv False\n",
            "60 block3a_project_bn False\n",
            "61 block3b_expand_conv False\n",
            "62 block3b_expand_bn False\n",
            "63 block3b_expand_activation False\n",
            "64 block3b_dwconv False\n",
            "65 block3b_bn False\n",
            "66 block3b_activation False\n",
            "67 block3b_se_squeeze False\n",
            "68 block3b_se_reshape False\n",
            "69 block3b_se_reduce False\n",
            "70 block3b_se_expand False\n",
            "71 block3b_se_excite False\n",
            "72 block3b_project_conv False\n",
            "73 block3b_project_bn False\n",
            "74 block3b_drop False\n",
            "75 block3b_add False\n",
            "76 block4a_expand_conv False\n",
            "77 block4a_expand_bn False\n",
            "78 block4a_expand_activation False\n",
            "79 block4a_dwconv_pad False\n",
            "80 block4a_dwconv False\n",
            "81 block4a_bn False\n",
            "82 block4a_activation False\n",
            "83 block4a_se_squeeze False\n",
            "84 block4a_se_reshape False\n",
            "85 block4a_se_reduce False\n",
            "86 block4a_se_expand False\n",
            "87 block4a_se_excite False\n",
            "88 block4a_project_conv False\n",
            "89 block4a_project_bn False\n",
            "90 block4b_expand_conv False\n",
            "91 block4b_expand_bn False\n",
            "92 block4b_expand_activation False\n",
            "93 block4b_dwconv False\n",
            "94 block4b_bn False\n",
            "95 block4b_activation False\n",
            "96 block4b_se_squeeze False\n",
            "97 block4b_se_reshape False\n",
            "98 block4b_se_reduce False\n",
            "99 block4b_se_expand False\n",
            "100 block4b_se_excite False\n",
            "101 block4b_project_conv False\n",
            "102 block4b_project_bn False\n",
            "103 block4b_drop False\n",
            "104 block4b_add False\n",
            "105 block4c_expand_conv False\n",
            "106 block4c_expand_bn False\n",
            "107 block4c_expand_activation False\n",
            "108 block4c_dwconv False\n",
            "109 block4c_bn False\n",
            "110 block4c_activation False\n",
            "111 block4c_se_squeeze False\n",
            "112 block4c_se_reshape False\n",
            "113 block4c_se_reduce False\n",
            "114 block4c_se_expand False\n",
            "115 block4c_se_excite False\n",
            "116 block4c_project_conv False\n",
            "117 block4c_project_bn False\n",
            "118 block4c_drop False\n",
            "119 block4c_add False\n",
            "120 block5a_expand_conv False\n",
            "121 block5a_expand_bn False\n",
            "122 block5a_expand_activation False\n",
            "123 block5a_dwconv False\n",
            "124 block5a_bn False\n",
            "125 block5a_activation False\n",
            "126 block5a_se_squeeze False\n",
            "127 block5a_se_reshape False\n",
            "128 block5a_se_reduce False\n",
            "129 block5a_se_expand False\n",
            "130 block5a_se_excite False\n",
            "131 block5a_project_conv False\n",
            "132 block5a_project_bn False\n",
            "133 block5b_expand_conv False\n",
            "134 block5b_expand_bn False\n",
            "135 block5b_expand_activation False\n",
            "136 block5b_dwconv False\n",
            "137 block5b_bn False\n",
            "138 block5b_activation False\n",
            "139 block5b_se_squeeze False\n",
            "140 block5b_se_reshape False\n",
            "141 block5b_se_reduce False\n",
            "142 block5b_se_expand False\n",
            "143 block5b_se_excite False\n",
            "144 block5b_project_conv False\n",
            "145 block5b_project_bn False\n",
            "146 block5b_drop False\n",
            "147 block5b_add False\n",
            "148 block5c_expand_conv False\n",
            "149 block5c_expand_bn False\n",
            "150 block5c_expand_activation False\n",
            "151 block5c_dwconv False\n",
            "152 block5c_bn False\n",
            "153 block5c_activation False\n",
            "154 block5c_se_squeeze False\n",
            "155 block5c_se_reshape False\n",
            "156 block5c_se_reduce False\n",
            "157 block5c_se_expand False\n",
            "158 block5c_se_excite False\n",
            "159 block5c_project_conv False\n",
            "160 block5c_project_bn False\n",
            "161 block5c_drop False\n",
            "162 block5c_add False\n",
            "163 block6a_expand_conv False\n",
            "164 block6a_expand_bn False\n",
            "165 block6a_expand_activation False\n",
            "166 block6a_dwconv_pad False\n",
            "167 block6a_dwconv False\n",
            "168 block6a_bn False\n",
            "169 block6a_activation False\n",
            "170 block6a_se_squeeze False\n",
            "171 block6a_se_reshape False\n",
            "172 block6a_se_reduce False\n",
            "173 block6a_se_expand False\n",
            "174 block6a_se_excite False\n",
            "175 block6a_project_conv False\n",
            "176 block6a_project_bn False\n",
            "177 block6b_expand_conv False\n",
            "178 block6b_expand_bn False\n",
            "179 block6b_expand_activation False\n",
            "180 block6b_dwconv False\n",
            "181 block6b_bn False\n",
            "182 block6b_activation False\n",
            "183 block6b_se_squeeze False\n",
            "184 block6b_se_reshape False\n",
            "185 block6b_se_reduce False\n",
            "186 block6b_se_expand False\n",
            "187 block6b_se_excite False\n",
            "188 block6b_project_conv False\n",
            "189 block6b_project_bn False\n",
            "190 block6b_drop False\n",
            "191 block6b_add False\n",
            "192 block6c_expand_conv False\n",
            "193 block6c_expand_bn False\n",
            "194 block6c_expand_activation False\n",
            "195 block6c_dwconv False\n",
            "196 block6c_bn False\n",
            "197 block6c_activation False\n",
            "198 block6c_se_squeeze False\n",
            "199 block6c_se_reshape False\n",
            "200 block6c_se_reduce False\n",
            "201 block6c_se_expand False\n",
            "202 block6c_se_excite False\n",
            "203 block6c_project_conv False\n",
            "204 block6c_project_bn False\n",
            "205 block6c_drop False\n",
            "206 block6c_add False\n",
            "207 block6d_expand_conv False\n",
            "208 block6d_expand_bn False\n",
            "209 block6d_expand_activation False\n",
            "210 block6d_dwconv False\n",
            "211 block6d_bn False\n",
            "212 block6d_activation False\n",
            "213 block6d_se_squeeze False\n",
            "214 block6d_se_reshape False\n",
            "215 block6d_se_reduce False\n",
            "216 block6d_se_expand False\n",
            "217 block6d_se_excite False\n",
            "218 block6d_project_conv False\n",
            "219 block6d_project_bn False\n",
            "220 block6d_drop False\n",
            "221 block6d_add False\n",
            "222 block7a_expand_conv False\n",
            "223 block7a_expand_bn False\n",
            "224 block7a_expand_activation False\n",
            "225 block7a_dwconv False\n",
            "226 block7a_bn False\n",
            "227 block7a_activation False\n",
            "228 block7a_se_squeeze True\n",
            "229 block7a_se_reshape True\n",
            "230 block7a_se_reduce True\n",
            "231 block7a_se_expand True\n",
            "232 block7a_se_excite True\n",
            "233 block7a_project_conv True\n",
            "234 block7a_project_bn True\n",
            "235 top_conv True\n",
            "236 top_bn True\n",
            "237 top_activation True\n"
          ]
        }
      ]
    },
    {
      "cell_type": "markdown",
      "source": [
        "### Compile the model"
      ],
      "metadata": {
        "id": "xXyh99q1LI6g"
      }
    },
    {
      "cell_type": "code",
      "source": [
        "model_2.compile(loss = \"categorical_crossentropy\",\n",
        "                optimizer=keras.optimizers.Adam(learning_rate=0.0001),\n",
        "                metrics=\"accuracy\")"
      ],
      "metadata": {
        "id": "ozPDvo02IXVK"
      },
      "execution_count": null,
      "outputs": []
    },
    {
      "cell_type": "code",
      "source": [
        "fine_tune_epochs = initial_epochs + 5\n",
        "\n",
        "\n",
        "history_4 = model_2.fit(train_data_full, \n",
        "                        epochs=fine_tune_epochs,\n",
        "                        initial_epoch = history_2.epoch[-1],\n",
        "                        validation_data = test_data,\n",
        "                        validation_steps=0.25*len(test_data),\n",
        "                        callbacks = [create_tensorboard_callback(dir_name=\"/content/transfer_learning\", experiment_name=\"model_4\")])\n",
        "\n",
        "\n",
        "\n"
      ],
      "metadata": {
        "colab": {
          "base_uri": "https://localhost:8080/"
        },
        "id": "E-xAVdgCH66-",
        "outputId": "258e41f5-4860-42e1-ceda-af40a1c55111"
      },
      "execution_count": null,
      "outputs": [
        {
          "output_type": "stream",
          "name": "stderr",
          "text": [
            "WARNING:tensorflow:Model failed to serialize as JSON. Ignoring... Unable to serialize [2.0896919 2.1128857 2.1081853] to JSON. Unrecognized type <class 'tensorflow.python.framework.ops.EagerTensor'>.\n"
          ]
        },
        {
          "output_type": "stream",
          "name": "stdout",
          "text": [
            "Saving TensorBoard log files to: /content/transfer_learning/model_4/20230222-032652\n",
            "Epoch 5/10\n"
          ]
        },
        {
          "output_type": "stream",
          "name": "stderr",
          "text": [
            "WARNING:tensorflow:Using a while_loop for converting RngReadAndSkip cause there is no registered converter for this op.\n",
            "WARNING:tensorflow:Using a while_loop for converting Bitcast cause there is no registered converter for this op.\n",
            "WARNING:tensorflow:Using a while_loop for converting Bitcast cause there is no registered converter for this op.\n",
            "WARNING:tensorflow:Using a while_loop for converting StatelessRandomUniformV2 cause there is no registered converter for this op.\n",
            "WARNING:tensorflow:Using a while_loop for converting ImageProjectiveTransformV3 cause there is no registered converter for this op.\n",
            "WARNING:tensorflow:Using a while_loop for converting RngReadAndSkip cause there is no registered converter for this op.\n",
            "WARNING:tensorflow:Using a while_loop for converting Bitcast cause there is no registered converter for this op.\n",
            "WARNING:tensorflow:Using a while_loop for converting Bitcast cause there is no registered converter for this op.\n",
            "WARNING:tensorflow:Using a while_loop for converting StatelessRandomUniformV2 cause there is no registered converter for this op.\n",
            "WARNING:tensorflow:Using a while_loop for converting ImageProjectiveTransformV3 cause there is no registered converter for this op.\n",
            "WARNING:tensorflow:Using a while_loop for converting RngReadAndSkip cause there is no registered converter for this op.\n",
            "WARNING:tensorflow:Using a while_loop for converting Bitcast cause there is no registered converter for this op.\n",
            "WARNING:tensorflow:Using a while_loop for converting Bitcast cause there is no registered converter for this op.\n",
            "WARNING:tensorflow:Using a while_loop for converting StatelessRandomUniformV2 cause there is no registered converter for this op.\n",
            "WARNING:tensorflow:Using a while_loop for converting ImageProjectiveTransformV3 cause there is no registered converter for this op.\n",
            "WARNING:tensorflow:Using a while_loop for converting RngReadAndSkip cause there is no registered converter for this op.\n",
            "WARNING:tensorflow:Using a while_loop for converting Bitcast cause there is no registered converter for this op.\n",
            "WARNING:tensorflow:Using a while_loop for converting Bitcast cause there is no registered converter for this op.\n",
            "WARNING:tensorflow:Using a while_loop for converting StatelessRandomUniformV2 cause there is no registered converter for this op.\n",
            "WARNING:tensorflow:Using a while_loop for converting ImageProjectiveTransformV3 cause there is no registered converter for this op.\n"
          ]
        },
        {
          "output_type": "stream",
          "name": "stdout",
          "text": [
            "235/235 [==============================] - 46s 152ms/step - loss: 0.5238 - accuracy: 0.8321 - val_loss: 0.3003 - val_accuracy: 0.8969\n",
            "Epoch 6/10\n",
            "235/235 [==============================] - 34s 143ms/step - loss: 0.4673 - accuracy: 0.8465 - val_loss: 0.2980 - val_accuracy: 0.9062\n",
            "Epoch 7/10\n",
            "235/235 [==============================] - 34s 145ms/step - loss: 0.4243 - accuracy: 0.8617 - val_loss: 0.3311 - val_accuracy: 0.8828\n",
            "Epoch 8/10\n",
            "235/235 [==============================] - 35s 148ms/step - loss: 0.3940 - accuracy: 0.8751 - val_loss: 0.2652 - val_accuracy: 0.9156\n",
            "Epoch 9/10\n",
            "235/235 [==============================] - 35s 147ms/step - loss: 0.3567 - accuracy: 0.8829 - val_loss: 0.2851 - val_accuracy: 0.9016\n",
            "Epoch 10/10\n",
            "235/235 [==============================] - 33s 140ms/step - loss: 0.3337 - accuracy: 0.8909 - val_loss: 0.2963 - val_accuracy: 0.9078\n"
          ]
        }
      ]
    },
    {
      "cell_type": "markdown",
      "source": [
        "### Evaluate the results of `model_4`"
      ],
      "metadata": {
        "id": "lGSibPuDLNjy"
      }
    },
    {
      "cell_type": "code",
      "source": [
        "results_4 = model_2.evaluate(test_data)"
      ],
      "metadata": {
        "colab": {
          "base_uri": "https://localhost:8080/"
        },
        "id": "Z-LtfT03JKmE",
        "outputId": "239f1f90-cfc7-4a92-fd26-0161b9b71ed7"
      },
      "execution_count": null,
      "outputs": [
        {
          "output_type": "stream",
          "name": "stdout",
          "text": [
            "79/79 [==============================] - 2s 21ms/step - loss: 0.3029 - accuracy: 0.9052\n"
          ]
        }
      ]
    },
    {
      "cell_type": "code",
      "source": [
        "compare_historys(original_history=history_2, new_history=history_4)"
      ],
      "metadata": {
        "colab": {
          "base_uri": "https://localhost:8080/",
          "height": 507
        },
        "id": "7VOHhcM7Kjdn",
        "outputId": "5260709e-379c-41ad-9de9-e10dfd606a91"
      },
      "execution_count": null,
      "outputs": [
        {
          "output_type": "display_data",
          "data": {
            "text/plain": [
              "<Figure size 576x576 with 1 Axes>"
            ],
            "image/png": "[encoded data removed]"
          },
          "metadata": {
            "needs_background": "light"
          }
        },
        {
          "output_type": "display_data",
          "data": {
            "text/plain": [
              "<Figure size 576x576 with 1 Axes>"
            ],
            "image/png": "[encoded data removed]"
          },
          "metadata": {
            "needs_background": "light"
          }
        }
      ]
    },
    {
      "cell_type": "markdown",
      "source": [
        "# Viewing our experiment data on TensorBoard"
      ],
      "metadata": {
        "id": "3lDpiqeoK5_z"
      }
    },
    {
      "cell_type": "code",
      "source": [
        "# View tensorboard logs of transfer learning modelling experiments \n",
        "# Upload Tensorboard Dev logs\n",
        "!tensorboard dev upload --logdir ./transfer_learning/ \\\n",
        "--name \"Transfer Learning Experiments with 10 Food101 Classes\" \\\n",
        "--description \"A series of different TL experiments with varying amounts of data and fine tuning\" \\\n",
        "--one_shot #exits the uploader once it finishes uploading"
      ],
      "metadata": {
        "colab": {
          "base_uri": "https://localhost:8080/"
        },
        "id": "-sFLS5aKLjGN",
        "outputId": "8afa5f92-2310-49c0-c712-4ab66b259423"
      },
      "execution_count": null,
      "outputs": [
        {
          "output_type": "stream",
          "name": "stdout",
          "text": [
            "2023-02-22 03:35:47.765203: W tensorflow/compiler/xla/stream_executor/platform/default/dso_loader.cc:64] Could not load dynamic library 'libnvinfer.so.7'; dlerror: libnvinfer.so.7: cannot open shared object file: No such file or directory; LD_LIBRARY_PATH: /usr/lib64-nvidia\n",
            "2023-02-22 03:35:47.765305: W tensorflow/compiler/xla/stream_executor/platform/default/dso_loader.cc:64] Could not load dynamic library 'libnvinfer_plugin.so.7'; dlerror: libnvinfer_plugin.so.7: cannot open shared object file: No such file or directory; LD_LIBRARY_PATH: /usr/lib64-nvidia\n",
            "2023-02-22 03:35:47.765329: W tensorflow/compiler/tf2tensorrt/utils/py_utils.cc:38] TF-TRT Warning: Cannot dlopen some TensorRT libraries. If you would like to use Nvidia GPU with TensorRT, please make sure the missing libraries mentioned above are installed properly.\n",
            "\n",
            "***** TensorBoard Uploader *****\n",
            "\n",
            "This will upload your TensorBoard logs to https://tensorboard.dev/ from\n",
            "the following directory:\n",
            "\n",
            "./transfer_learning/\n",
            "\n",
            "This TensorBoard will be visible to everyone. Do not upload sensitive\n",
            "data.\n",
            "\n",
            "Your use of this service is subject to Google's Terms of Service\n",
            "<https://policies.google.com/terms> and Privacy Policy\n",
            "<https://policies.google.com/privacy>, and TensorBoard.dev's Terms of Service\n",
            "<https://tensorboard.dev/policy/terms/>.\n",
            "\n",
            "This notice will not be shown again while you are logged into the uploader.\n",
            "To log out, run `tensorboard dev auth revoke`.\n",
            "\n",
            "Continue? (yes/NO) yes\n",
            "\n",
            "To sign in with the TensorBoard uploader:\n",
            "\n",
            "1. On your computer or phone, visit:\n",
            "\n",
            "   https://www.google.com/device\n",
            "\n",
            "2. Sign in with your Google account, then enter:\n",
            "\n",
            "   RWX-JTL-MYL\n",
            "\n",
            "\n",
            "\n",
            "New experiment created. View your TensorBoard at: https://tensorboard.dev/experiment/DGNBwiOPReO5JkYo5axkNQ/\n",
            "\n",
            "\u001b[1m[2023-02-22T03:36:12]\u001b[0m Started scanning logdir.\n",
            "\u001b[1m[2023-02-22T03:36:27]\u001b[0m Total uploaded: 402 scalars, 0 tensors, 15 binary objects (18.7 MB)\n",
            "\u001b[1m[2023-02-22T03:36:27]\u001b[0m Done scanning logdir.\n",
            "\n",
            "\n",
            "Done. View your TensorBoard at https://tensorboard.dev/experiment/DGNBwiOPReO5JkYo5axkNQ/\n"
          ]
        }
      ]
    },
    {
      "cell_type": "code",
      "source": [
        "!tensorboard list"
      ],
      "metadata": {
        "colab": {
          "base_uri": "https://localhost:8080/"
        },
        "id": "JElputkzLpGA",
        "outputId": "bc11b1b0-7182-4f7e-afa6-aa20572c38b0"
      },
      "execution_count": null,
      "outputs": [
        {
          "output_type": "stream",
          "name": "stdout",
          "text": [
            "2023-02-22 03:44:00.436030: W tensorflow/compiler/xla/stream_executor/platform/default/dso_loader.cc:64] Could not load dynamic library 'libnvinfer.so.7'; dlerror: libnvinfer.so.7: cannot open shared object file: No such file or directory; LD_LIBRARY_PATH: /usr/lib64-nvidia\n",
            "2023-02-22 03:44:00.436116: W tensorflow/compiler/xla/stream_executor/platform/default/dso_loader.cc:64] Could not load dynamic library 'libnvinfer_plugin.so.7'; dlerror: libnvinfer_plugin.so.7: cannot open shared object file: No such file or directory; LD_LIBRARY_PATH: /usr/lib64-nvidia\n",
            "2023-02-22 03:44:00.436133: W tensorflow/compiler/tf2tensorrt/utils/py_utils.cc:38] TF-TRT Warning: Cannot dlopen some TensorRT libraries. If you would like to use Nvidia GPU with TensorRT, please make sure the missing libraries mentioned above are installed properly.\n",
            "usage: tensorboard\n",
            "       [-h]\n",
            "       [--helpfull]\n",
            "       {serve,dev}\n",
            "       ...\n",
            "tensorboard: error: invalid choice: 'list' (choose from 'serve', 'dev')\n"
          ]
        }
      ]
    },
    {
      "cell_type": "code",
      "source": [],
      "metadata": {
        "id": "GLEcsYslOIXH"
      },
      "execution_count": null,
      "outputs": []
    }
  ],
  "metadata": {
    "accelerator": "GPU",
    "colab": {
      "provenance": [],
      "authorship_tag": "ABX9TyMafCyc/fnpPhPNFEca5ZMu",
      "include_colab_link": true
    },
    "gpuClass": "premium",
    "kernelspec": {
      "display_name": "Python 3",
      "name": "python3"
    },
    "language_info": {
      "name": "python"
    }
  },
  "nbformat": 4,
  "nbformat_minor": 0
}