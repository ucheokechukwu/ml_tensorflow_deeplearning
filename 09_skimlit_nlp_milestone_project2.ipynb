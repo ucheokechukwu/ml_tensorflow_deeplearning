{
  "nbformat": 4,
  "nbformat_minor": 0,
  "metadata": {
    "colab": {
      "provenance": [],
      "toc_visible": true,
      "include_colab_link": true
    },
    "kernelspec": {
      "name": "python3",
      "display_name": "Python 3"
    },
    "language_info": {
      "name": "python"
    },
    "accelerator": "GPU",
    "gpuClass": "standard"
  },
  "cells": [
    {
      "cell_type": "markdown",
      "metadata": {
        "id": "view-in-github",
        "colab_type": "text"
      },
      "source": [
        "<a href=\"https://colab.research.google.com/github/ucheokechukwu/ml_tensorflow_deeplearning/blob/main/09_skimlit_nlp_milestone_project2.ipynb\" target=\"_parent\"><img src=\"https://colab.research.google.com/assets/colab-badge.svg\" alt=\"Open In Colab\"/></a>"
      ]
    },
    {
      "cell_type": "markdown",
      "source": [
        "# Milestone Project 2 SkimLit\n",
        "\n",
        "The purpose of this model is to build an NLP to make reading medical abstracts easier.\n",
        "Ref the original paper: https://arxiv.org/pdf/1710.06071.pdf\n",
        "\n",
        "The model architecture is described here: https://arxiv.org/pdf/1612.05251.pdf\n"
      ],
      "metadata": {
        "id": "DCmCPT38KByi"
      }
    },
    {
      "cell_type": "code",
      "source": [
        "!nvidia-smi"
      ],
      "metadata": {
        "colab": {
          "base_uri": "https://localhost:8080/"
        },
        "id": "LSMkqKGCTHby",
        "outputId": "ac13f7fd-5671-48d3-d022-f51ca50e76ad"
      },
      "execution_count": 1,
      "outputs": [
        {
          "output_type": "stream",
          "name": "stdout",
          "text": [
            "Mon Mar 13 14:49:34 2023       \n",
            "+-----------------------------------------------------------------------------+\n",
            "| NVIDIA-SMI 525.85.12    Driver Version: 525.85.12    CUDA Version: 12.0     |\n",
            "|-------------------------------+----------------------+----------------------+\n",
            "| GPU  Name        Persistence-M| Bus-Id        Disp.A | Volatile Uncorr. ECC |\n",
            "| Fan  Temp  Perf  Pwr:Usage/Cap|         Memory-Usage | GPU-Util  Compute M. |\n",
            "|                               |                      |               MIG M. |\n",
            "|===============================+======================+======================|\n",
            "|   0  Tesla T4            Off  | 00000000:00:04.0 Off |                    0 |\n",
            "| N/A   50C    P0    28W /  70W |      0MiB / 15360MiB |      0%      Default |\n",
            "|                               |                      |                  N/A |\n",
            "+-------------------------------+----------------------+----------------------+\n",
            "                                                                               \n",
            "+-----------------------------------------------------------------------------+\n",
            "| Processes:                                                                  |\n",
            "|  GPU   GI   CI        PID   Type   Process name                  GPU Memory |\n",
            "|        ID   ID                                                   Usage      |\n",
            "|=============================================================================|\n",
            "|  No running processes found                                                 |\n",
            "+-----------------------------------------------------------------------------+\n"
          ]
        }
      ]
    },
    {
      "cell_type": "code",
      "source": [
        "# get helper function\n",
        "!wget https://raw.githubusercontent.com/mrdbourke/tensorflow-deep-learning/main/extras/helper_functions.py\n",
        "\n",
        "from helper_functions import calculate_results\n"
      ],
      "metadata": {
        "colab": {
          "base_uri": "https://localhost:8080/"
        },
        "id": "vN8vGA9NU_hi",
        "outputId": "eea47ea9-5cd2-458e-f7ff-3cd0f43bbe4f"
      },
      "execution_count": 2,
      "outputs": [
        {
          "output_type": "stream",
          "name": "stdout",
          "text": [
            "--2023-03-13 14:49:34--  https://raw.githubusercontent.com/mrdbourke/tensorflow-deep-learning/main/extras/helper_functions.py\n",
            "Resolving raw.githubusercontent.com (raw.githubusercontent.com)... 185.199.110.133, 185.199.111.133, 185.199.108.133, ...\n",
            "Connecting to raw.githubusercontent.com (raw.githubusercontent.com)|185.199.110.133|:443... connected.\n",
            "HTTP request sent, awaiting response... 200 OK\n",
            "Length: 10246 (10K) [text/plain]\n",
            "Saving to: ‘helper_functions.py’\n",
            "\n",
            "helper_functions.py 100%[===================>]  10.01K  --.-KB/s    in 0s      \n",
            "\n",
            "2023-03-13 14:49:34 (111 MB/s) - ‘helper_functions.py’ saved [10246/10246]\n",
            "\n"
          ]
        }
      ]
    },
    {
      "cell_type": "markdown",
      "source": [
        "## Get data\n",
        "Since we'll be replicating the paper above, let's download the dataset theyused. We can do so from the author's github\n",
        "https://github.com/Franck-Dernoncourt/pubmed-rct"
      ],
      "metadata": {
        "id": "MNxaaO4LTJCE"
      }
    },
    {
      "cell_type": "code",
      "source": [
        "!git clone https://github.com/Franck-Dernoncourt/pubmed-rct\n",
        "!ls pubmed-rct"
      ],
      "metadata": {
        "colab": {
          "base_uri": "https://localhost:8080/"
        },
        "id": "ZCaiP3R0TkwC",
        "outputId": "a982e441-c00e-45e5-80a5-120fe733e4fd"
      },
      "execution_count": 3,
      "outputs": [
        {
          "output_type": "stream",
          "name": "stdout",
          "text": [
            "Cloning into 'pubmed-rct'...\n",
            "remote: Enumerating objects: 33, done.\u001b[K\n",
            "remote: Counting objects: 100% (8/8), done.\u001b[K\n",
            "remote: Compressing objects: 100% (3/3), done.\u001b[K\n",
            "remote: Total 33 (delta 5), reused 5 (delta 5), pack-reused 25\u001b[K\n",
            "Unpacking objects: 100% (33/33), 177.08 MiB | 6.06 MiB/s, done.\n",
            "PubMed_200k_RCT\n",
            "PubMed_200k_RCT_numbers_replaced_with_at_sign\n",
            "PubMed_20k_RCT\n",
            "PubMed_20k_RCT_numbers_replaced_with_at_sign\n",
            "README.md\n"
          ]
        }
      ]
    },
    {
      "cell_type": "code",
      "source": [
        "# check what files we're doing in the pubmed-20K dataset\n",
        "!ls /content/pubmed-rct/PubMed_20k_RCT_numbers_replaced_with_at_sign"
      ],
      "metadata": {
        "colab": {
          "base_uri": "https://localhost:8080/"
        },
        "id": "WdTT1j9STnvD",
        "outputId": "cc12304c-4610-473d-c788-2bb8145a6976"
      },
      "execution_count": 4,
      "outputs": [
        {
          "output_type": "stream",
          "name": "stdout",
          "text": [
            "dev.txt  test.txt  train.txt\n"
          ]
        }
      ]
    },
    {
      "cell_type": "markdown",
      "source": [
        "* note that dev is another name for validation_set\n",
        "* we need a preprocessing function to read the text files and turn them into data and labels"
      ],
      "metadata": {
        "id": "XG7zKjpMT9Bq"
      }
    },
    {
      "cell_type": "code",
      "source": [
        "# start our experiments using the 20K datasetwith numbers replaced by @ sign\n",
        "\n",
        "data_dir = \"/content/pubmed-rct/PubMed_20k_RCT_numbers_replaced_with_at_sign/\"\n",
        "import os\n",
        "\n",
        "filenames = [data_dir + filename for filename in os.listdir(data_dir)]\n",
        "filenames"
      ],
      "metadata": {
        "colab": {
          "base_uri": "https://localhost:8080/"
        },
        "id": "4pmOA9D-UfYF",
        "outputId": "3f2abce9-cc4b-40f4-fc22-212bf4c7ae17"
      },
      "execution_count": 5,
      "outputs": [
        {
          "output_type": "execute_result",
          "data": {
            "text/plain": [
              "['/content/pubmed-rct/PubMed_20k_RCT_numbers_replaced_with_at_sign/test.txt',\n",
              " '/content/pubmed-rct/PubMed_20k_RCT_numbers_replaced_with_at_sign/dev.txt',\n",
              " '/content/pubmed-rct/PubMed_20k_RCT_numbers_replaced_with_at_sign/train.txt']"
            ]
          },
          "metadata": {},
          "execution_count": 5
        }
      ]
    },
    {
      "cell_type": "markdown",
      "source": [
        "## preprocess data\n",
        "\n",
        "one of the best ways to become one with the data is to VISUALIZE VISUALIZE VISUALZE\n",
        "\n",
        "* create a function to read in all the lines to a target text file"
      ],
      "metadata": {
        "id": "fbx2EJB6U47T"
      }
    },
    {
      "cell_type": "code",
      "source": [
        "# Create a function to read the lines of a document\n",
        "def get_lines(filename):\n",
        "  \"\"\"\n",
        "  reads filename (a text filename) and returns the lines of text as a list\n",
        "\n",
        "  Args:\n",
        "    filename: a string containing the target filepath\n",
        "  Returns: \n",
        "  a list of strings with noe string per line  from the target filename\n",
        "  \"\"\"\n",
        "\n",
        "  with open (filename, \"r\") as f:\n",
        "    return f.readlines()"
      ],
      "metadata": {
        "id": "cW0ZdoxZVY7F"
      },
      "execution_count": 6,
      "outputs": []
    },
    {
      "cell_type": "code",
      "source": [
        "# let's test this out\n",
        "\n",
        "train_lines = get_lines(data_dir+\"train.txt\")\n",
        "train_lines[:20]"
      ],
      "metadata": {
        "colab": {
          "base_uri": "https://localhost:8080/"
        },
        "id": "hdsVgkQNV4Au",
        "outputId": "b71e84a4-530a-4037-e2ec-93071b981308"
      },
      "execution_count": 7,
      "outputs": [
        {
          "output_type": "execute_result",
          "data": {
            "text/plain": [
              "['###24293578\\n',\n",
              " 'OBJECTIVE\\tTo investigate the efficacy of @ weeks of daily low-dose oral prednisolone in improving pain , mobility , and systemic low-grade inflammation in the short term and whether the effect would be sustained at @ weeks in older adults with moderate to severe knee osteoarthritis ( OA ) .\\n',\n",
              " 'METHODS\\tA total of @ patients with primary knee OA were randomized @:@ ; @ received @ mg/day of prednisolone and @ received placebo for @ weeks .\\n',\n",
              " 'METHODS\\tOutcome measures included pain reduction and improvement in function scores and systemic inflammation markers .\\n',\n",
              " 'METHODS\\tPain was assessed using the visual analog pain scale ( @-@ mm ) .\\n',\n",
              " 'METHODS\\tSecondary outcome measures included the Western Ontario and McMaster Universities Osteoarthritis Index scores , patient global assessment ( PGA ) of the severity of knee OA , and @-min walk distance ( @MWD ) .\\n',\n",
              " 'METHODS\\tSerum levels of interleukin @ ( IL-@ ) , IL-@ , tumor necrosis factor ( TNF ) - , and high-sensitivity C-reactive protein ( hsCRP ) were measured .\\n',\n",
              " 'RESULTS\\tThere was a clinically relevant reduction in the intervention group compared to the placebo group for knee pain , physical function , PGA , and @MWD at @ weeks .\\n',\n",
              " 'RESULTS\\tThe mean difference between treatment arms ( @ % CI ) was @ ( @-@ @ ) , p < @ ; @ ( @-@ @ ) , p < @ ; @ ( @-@ @ ) , p < @ ; and @ ( @-@ @ ) , p < @ , respectively .\\n',\n",
              " 'RESULTS\\tFurther , there was a clinically relevant reduction in the serum levels of IL-@ , IL-@ , TNF - , and hsCRP at @ weeks in the intervention group when compared to the placebo group .\\n',\n",
              " 'RESULTS\\tThese differences remained significant at @ weeks .\\n',\n",
              " 'RESULTS\\tThe Outcome Measures in Rheumatology Clinical Trials-Osteoarthritis Research Society International responder rate was @ % in the intervention group and @ % in the placebo group ( p < @ ) .\\n',\n",
              " 'CONCLUSIONS\\tLow-dose oral prednisolone had both a short-term and a longer sustained effect resulting in less knee pain , better physical function , and attenuation of systemic inflammation in older patients with knee OA ( ClinicalTrials.gov identifier NCT@ ) .\\n',\n",
              " '\\n',\n",
              " '###24854809\\n',\n",
              " 'BACKGROUND\\tEmotional eating is associated with overeating and the development of obesity .\\n',\n",
              " 'BACKGROUND\\tYet , empirical evidence for individual ( trait ) differences in emotional eating and cognitive mechanisms that contribute to eating during sad mood remain equivocal .\\n',\n",
              " 'OBJECTIVE\\tThe aim of this study was to test if attention bias for food moderates the effect of self-reported emotional eating during sad mood ( vs neutral mood ) on actual food intake .\\n',\n",
              " 'OBJECTIVE\\tIt was expected that emotional eating is predictive of elevated attention for food and higher food intake after an experimentally induced sad mood and that attentional maintenance on food predicts food intake during a sad versus a neutral mood .\\n',\n",
              " 'METHODS\\tParticipants ( N = @ ) were randomly assigned to one of the two experimental mood induction conditions ( sad/neutral ) .\\n']"
            ]
          },
          "metadata": {},
          "execution_count": 7
        }
      ]
    },
    {
      "cell_type": "code",
      "source": [
        "len(train_lines)"
      ],
      "metadata": {
        "colab": {
          "base_uri": "https://localhost:8080/"
        },
        "id": "PSu_SWb3WD3k",
        "outputId": "8934f0df-3842-48bd-8ded-8b53b512699e"
      },
      "execution_count": 8,
      "outputs": [
        {
          "output_type": "execute_result",
          "data": {
            "text/plain": [
              "210040"
            ]
          },
          "metadata": {},
          "execution_count": 8
        }
      ]
    },
    {
      "cell_type": "markdown",
      "source": [
        "* let's think about how we want our data to look...\n",
        "* how I think our data would be best represented...\n",
        "\n",
        "```\n",
        "[{'line_number': 0,\n",
        "'target': 'BACKGROUND',\n",
        "'text': \"Emotional eating is associated with overeating and the development of obesity .\\n\"\n",
        "'total_lines': 11},\n",
        "...\n",
        "]\n",
        "```\n"
      ],
      "metadata": {
        "id": "tPN2WxrKwXLg"
      }
    },
    {
      "cell_type": "markdown",
      "source": [
        "* Let's write a function that changes text to line numbers"
      ],
      "metadata": {
        "id": "lCH3sznDy9Z7"
      }
    },
    {
      "cell_type": "code",
      "source": [
        "def preprocess_text_with_line_numbers(filename):\n",
        "  \"\"\"\n",
        "  returns a list of dictionaries of abstract line data.\n",
        "  takes in filenames, reads its contents and sorts through each line\n",
        "  extracting things like target label, the text of the sentence, \n",
        "  how many sentences are in the current abstract\n",
        "  and waht sentence number the target line is.\n",
        "  \"\"\"\n",
        "  input_lines = get_lines(filename) # get all lines from filename\n",
        "  abstract_lines = \"\" # create an empty abstract\n",
        "  abstract_samples = [] # create an empty list of abstracts, we're returning a list of dictionaries, remember?\n",
        "  \n",
        "  # loop through each line in the target file\n",
        "  for line in input_lines:\n",
        "    if  line.startswith(\"###\"): # check to see if this is an id line. this tells us that a new abstract is starting\n",
        "      abstract_id = line\n",
        "      abstract_lines = \"\" # reset the abstract string if the line is an ID line\n",
        "    elif line.isspace(): #checking to see if this is a newline character\n",
        "      abstract_line_split = abstract_lines.splitlines() # split abstract into separate lines\n",
        "\n",
        "      # iterate through each line in a single abstract and acoun tthem at the same time\n",
        "      for abstract_line_number, abstract_line in enumerate(abstract_line_split):\n",
        "        line_data = {} # create an empty dictionary for each line\n",
        "        target_text_split = abstract_line.split(\"\\t\") # splits target label from text\n",
        "        # 'BACKGROUND\\tEmotional eating is associated with overeating and the development of obesity .\\n' -> split at /t\n",
        "        line_data[\"target\"] = target_text_split[0] # get target label\n",
        "        line_data[\"text\"] = target_text_split[1].lower() # get target text and lower it\n",
        "        line_data[\"line_number\"] = abstract_line_number # what number does this line appear in the abstract\n",
        "        line_data[\"total_lines\"] = len(abstract_line_split) - 1 # so that this starts from zero\n",
        "        abstract_samples.append(line_data) # add line data dictionary to the abstract samples list\n",
        "      \n",
        "    else: # if the above conditions are not fulfilled, the line contains a labelled sentence...\n",
        "        abstract_lines +=line\n",
        "  return abstract_samples\n",
        " "
      ],
      "metadata": {
        "id": "yCVUEGAjzEyF"
      },
      "execution_count": 9,
      "outputs": []
    },
    {
      "cell_type": "code",
      "source": [
        "# get data from file and preprocess it\n",
        "%%time\n",
        "train_samples = preprocess_text_with_line_numbers(data_dir + \"train.txt\")\n",
        "val_samples = preprocess_text_with_line_numbers(data_dir + \"dev.txt\")\n",
        "test_samples = preprocess_text_with_line_numbers(data_dir + \"test.txt\")\n"
      ],
      "metadata": {
        "colab": {
          "base_uri": "https://localhost:8080/"
        },
        "id": "E_G8XDEo2dux",
        "outputId": "51237921-d677-48ed-bde3-702d6bab2007"
      },
      "execution_count": 10,
      "outputs": [
        {
          "output_type": "stream",
          "name": "stdout",
          "text": [
            "CPU times: user 341 ms, sys: 77 ms, total: 418 ms\n",
            "Wall time: 419 ms\n"
          ]
        }
      ]
    },
    {
      "cell_type": "code",
      "source": [
        "len(test_samples), len(train_samples), len(val_samples)"
      ],
      "metadata": {
        "colab": {
          "base_uri": "https://localhost:8080/"
        },
        "id": "RDaUiNFB4EWk",
        "outputId": "5757ed31-3f21-435d-c0ee-cadfc7ddbf4e"
      },
      "execution_count": 11,
      "outputs": [
        {
          "output_type": "execute_result",
          "data": {
            "text/plain": [
              "(30135, 180040, 30212)"
            ]
          },
          "metadata": {},
          "execution_count": 11
        }
      ]
    },
    {
      "cell_type": "code",
      "source": [
        "val_samples[32]"
      ],
      "metadata": {
        "colab": {
          "base_uri": "https://localhost:8080/"
        },
        "id": "huYYEwnK4kux",
        "outputId": "d7ed7cb0-8ba1-49ee-ee4f-8a0d7e9c9561"
      },
      "execution_count": 12,
      "outputs": [
        {
          "output_type": "execute_result",
          "data": {
            "text/plain": [
              "{'target': 'BACKGROUND',\n",
              " 'text': 'patient adherence to appointments is key to improving outcomes in health care .',\n",
              " 'line_number': 0,\n",
              " 'total_lines': 9}"
            ]
          },
          "metadata": {},
          "execution_count": 12
        }
      ]
    },
    {
      "cell_type": "markdown",
      "source": [
        "Now that our data is in the format of a list of dictionaries, how about we turn it into a DataFrame to further visualize it..."
      ],
      "metadata": {
        "id": "nyL_O0dg46J1"
      }
    },
    {
      "cell_type": "code",
      "source": [
        "import pandas as pd\n",
        "train_df = pd.DataFrame(train_samples)\n",
        "val_df = pd.DataFrame(val_samples)\n",
        "test_df = pd.DataFrame(test_samples)\n",
        "train_df.head(25)"
      ],
      "metadata": {
        "colab": {
          "base_uri": "https://localhost:8080/",
          "height": 833
        },
        "id": "IVNi4BhT5gvD",
        "outputId": "931147c6-ccc3-432d-a6b2-ec87b473f574"
      },
      "execution_count": 13,
      "outputs": [
        {
          "output_type": "execute_result",
          "data": {
            "text/plain": [
              "         target                                               text  \\\n",
              "0     OBJECTIVE  to investigate the efficacy of @ weeks of dail...   \n",
              "1       METHODS  a total of @ patients with primary knee oa wer...   \n",
              "2       METHODS  outcome measures included pain reduction and i...   \n",
              "3       METHODS  pain was assessed using the visual analog pain...   \n",
              "4       METHODS  secondary outcome measures included the wester...   \n",
              "5       METHODS  serum levels of interleukin @ ( il-@ ) , il-@ ...   \n",
              "6       RESULTS  there was a clinically relevant reduction in t...   \n",
              "7       RESULTS  the mean difference between treatment arms ( @...   \n",
              "8       RESULTS  further , there was a clinically relevant redu...   \n",
              "9       RESULTS  these differences remained significant at @ we...   \n",
              "10      RESULTS  the outcome measures in rheumatology clinical ...   \n",
              "11  CONCLUSIONS  low-dose oral prednisolone had both a short-te...   \n",
              "12   BACKGROUND  emotional eating is associated with overeating...   \n",
              "13   BACKGROUND  yet , empirical evidence for individual ( trai...   \n",
              "14    OBJECTIVE  the aim of this study was to test if attention...   \n",
              "15    OBJECTIVE  it was expected that emotional eating is predi...   \n",
              "16      METHODS  participants ( n = @ ) were randomly assigned ...   \n",
              "17      METHODS  attentional biases for high caloric foods were...   \n",
              "18      METHODS  self-reported emotional eating was assessed wi...   \n",
              "19      RESULTS  hierarchical multivariate regression modeling ...   \n",
              "20      RESULTS  yet , attention maintenance on food cues was s...   \n",
              "21  CONCLUSIONS  the current findings show that self-reported e...   \n",
              "22  CONCLUSIONS  results further suggest that attention mainten...   \n",
              "23   BACKGROUND  although working smoke alarms halve deaths in ...   \n",
              "24   BACKGROUND  we tested whether theory-based education incre...   \n",
              "\n",
              "    line_number  total_lines  \n",
              "0             0           11  \n",
              "1             1           11  \n",
              "2             2           11  \n",
              "3             3           11  \n",
              "4             4           11  \n",
              "5             5           11  \n",
              "6             6           11  \n",
              "7             7           11  \n",
              "8             8           11  \n",
              "9             9           11  \n",
              "10           10           11  \n",
              "11           11           11  \n",
              "12            0           10  \n",
              "13            1           10  \n",
              "14            2           10  \n",
              "15            3           10  \n",
              "16            4           10  \n",
              "17            5           10  \n",
              "18            6           10  \n",
              "19            7           10  \n",
              "20            8           10  \n",
              "21            9           10  \n",
              "22           10           10  \n",
              "23            0           14  \n",
              "24            1           14  "
            ],
            "text/html": [
              "\n",
              "  <div id=\"df-9d51120d-10bf-4964-bd34-13f159ec5fc6\">\n",
              "    <div class=\"colab-df-container\">\n",
              "      <div>\n",
              "<style scoped>\n",
              "    .dataframe tbody tr th:only-of-type {\n",
              "        vertical-align: middle;\n",
              "    }\n",
              "\n",
              "    .dataframe tbody tr th {\n",
              "        vertical-align: top;\n",
              "    }\n",
              "\n",
              "    .dataframe thead th {\n",
              "        text-align: right;\n",
              "    }\n",
              "</style>\n",
              "<table border=\"1\" class=\"dataframe\">\n",
              "  <thead>\n",
              "    <tr style=\"text-align: right;\">\n",
              "      <th></th>\n",
              "      <th>target</th>\n",
              "      <th>text</th>\n",
              "      <th>line_number</th>\n",
              "      <th>total_lines</th>\n",
              "    </tr>\n",
              "  </thead>\n",
              "  <tbody>\n",
              "    <tr>\n",
              "      <th>0</th>\n",
              "      <td>OBJECTIVE</td>\n",
              "      <td>to investigate the efficacy of @ weeks of dail...</td>\n",
              "      <td>0</td>\n",
              "      <td>11</td>\n",
              "    </tr>\n",
              "    <tr>\n",
              "      <th>1</th>\n",
              "      <td>METHODS</td>\n",
              "      <td>a total of @ patients with primary knee oa wer...</td>\n",
              "      <td>1</td>\n",
              "      <td>11</td>\n",
              "    </tr>\n",
              "    <tr>\n",
              "      <th>2</th>\n",
              "      <td>METHODS</td>\n",
              "      <td>outcome measures included pain reduction and i...</td>\n",
              "      <td>2</td>\n",
              "      <td>11</td>\n",
              "    </tr>\n",
              "    <tr>\n",
              "      <th>3</th>\n",
              "      <td>METHODS</td>\n",
              "      <td>pain was assessed using the visual analog pain...</td>\n",
              "      <td>3</td>\n",
              "      <td>11</td>\n",
              "    </tr>\n",
              "    <tr>\n",
              "      <th>4</th>\n",
              "      <td>METHODS</td>\n",
              "      <td>secondary outcome measures included the wester...</td>\n",
              "      <td>4</td>\n",
              "      <td>11</td>\n",
              "    </tr>\n",
              "    <tr>\n",
              "      <th>5</th>\n",
              "      <td>METHODS</td>\n",
              "      <td>serum levels of interleukin @ ( il-@ ) , il-@ ...</td>\n",
              "      <td>5</td>\n",
              "      <td>11</td>\n",
              "    </tr>\n",
              "    <tr>\n",
              "      <th>6</th>\n",
              "      <td>RESULTS</td>\n",
              "      <td>there was a clinically relevant reduction in t...</td>\n",
              "      <td>6</td>\n",
              "      <td>11</td>\n",
              "    </tr>\n",
              "    <tr>\n",
              "      <th>7</th>\n",
              "      <td>RESULTS</td>\n",
              "      <td>the mean difference between treatment arms ( @...</td>\n",
              "      <td>7</td>\n",
              "      <td>11</td>\n",
              "    </tr>\n",
              "    <tr>\n",
              "      <th>8</th>\n",
              "      <td>RESULTS</td>\n",
              "      <td>further , there was a clinically relevant redu...</td>\n",
              "      <td>8</td>\n",
              "      <td>11</td>\n",
              "    </tr>\n",
              "    <tr>\n",
              "      <th>9</th>\n",
              "      <td>RESULTS</td>\n",
              "      <td>these differences remained significant at @ we...</td>\n",
              "      <td>9</td>\n",
              "      <td>11</td>\n",
              "    </tr>\n",
              "    <tr>\n",
              "      <th>10</th>\n",
              "      <td>RESULTS</td>\n",
              "      <td>the outcome measures in rheumatology clinical ...</td>\n",
              "      <td>10</td>\n",
              "      <td>11</td>\n",
              "    </tr>\n",
              "    <tr>\n",
              "      <th>11</th>\n",
              "      <td>CONCLUSIONS</td>\n",
              "      <td>low-dose oral prednisolone had both a short-te...</td>\n",
              "      <td>11</td>\n",
              "      <td>11</td>\n",
              "    </tr>\n",
              "    <tr>\n",
              "      <th>12</th>\n",
              "      <td>BACKGROUND</td>\n",
              "      <td>emotional eating is associated with overeating...</td>\n",
              "      <td>0</td>\n",
              "      <td>10</td>\n",
              "    </tr>\n",
              "    <tr>\n",
              "      <th>13</th>\n",
              "      <td>BACKGROUND</td>\n",
              "      <td>yet , empirical evidence for individual ( trai...</td>\n",
              "      <td>1</td>\n",
              "      <td>10</td>\n",
              "    </tr>\n",
              "    <tr>\n",
              "      <th>14</th>\n",
              "      <td>OBJECTIVE</td>\n",
              "      <td>the aim of this study was to test if attention...</td>\n",
              "      <td>2</td>\n",
              "      <td>10</td>\n",
              "    </tr>\n",
              "    <tr>\n",
              "      <th>15</th>\n",
              "      <td>OBJECTIVE</td>\n",
              "      <td>it was expected that emotional eating is predi...</td>\n",
              "      <td>3</td>\n",
              "      <td>10</td>\n",
              "    </tr>\n",
              "    <tr>\n",
              "      <th>16</th>\n",
              "      <td>METHODS</td>\n",
              "      <td>participants ( n = @ ) were randomly assigned ...</td>\n",
              "      <td>4</td>\n",
              "      <td>10</td>\n",
              "    </tr>\n",
              "    <tr>\n",
              "      <th>17</th>\n",
              "      <td>METHODS</td>\n",
              "      <td>attentional biases for high caloric foods were...</td>\n",
              "      <td>5</td>\n",
              "      <td>10</td>\n",
              "    </tr>\n",
              "    <tr>\n",
              "      <th>18</th>\n",
              "      <td>METHODS</td>\n",
              "      <td>self-reported emotional eating was assessed wi...</td>\n",
              "      <td>6</td>\n",
              "      <td>10</td>\n",
              "    </tr>\n",
              "    <tr>\n",
              "      <th>19</th>\n",
              "      <td>RESULTS</td>\n",
              "      <td>hierarchical multivariate regression modeling ...</td>\n",
              "      <td>7</td>\n",
              "      <td>10</td>\n",
              "    </tr>\n",
              "    <tr>\n",
              "      <th>20</th>\n",
              "      <td>RESULTS</td>\n",
              "      <td>yet , attention maintenance on food cues was s...</td>\n",
              "      <td>8</td>\n",
              "      <td>10</td>\n",
              "    </tr>\n",
              "    <tr>\n",
              "      <th>21</th>\n",
              "      <td>CONCLUSIONS</td>\n",
              "      <td>the current findings show that self-reported e...</td>\n",
              "      <td>9</td>\n",
              "      <td>10</td>\n",
              "    </tr>\n",
              "    <tr>\n",
              "      <th>22</th>\n",
              "      <td>CONCLUSIONS</td>\n",
              "      <td>results further suggest that attention mainten...</td>\n",
              "      <td>10</td>\n",
              "      <td>10</td>\n",
              "    </tr>\n",
              "    <tr>\n",
              "      <th>23</th>\n",
              "      <td>BACKGROUND</td>\n",
              "      <td>although working smoke alarms halve deaths in ...</td>\n",
              "      <td>0</td>\n",
              "      <td>14</td>\n",
              "    </tr>\n",
              "    <tr>\n",
              "      <th>24</th>\n",
              "      <td>BACKGROUND</td>\n",
              "      <td>we tested whether theory-based education incre...</td>\n",
              "      <td>1</td>\n",
              "      <td>14</td>\n",
              "    </tr>\n",
              "  </tbody>\n",
              "</table>\n",
              "</div>\n",
              "      <button class=\"colab-df-convert\" onclick=\"convertToInteractive('df-9d51120d-10bf-4964-bd34-13f159ec5fc6')\"\n",
              "              title=\"Convert this dataframe to an interactive table.\"\n",
              "              style=\"display:none;\">\n",
              "        \n",
              "  <svg xmlns=\"http://www.w3.org/2000/svg\" height=\"24px\"viewBox=\"0 0 24 24\"\n",
              "       width=\"24px\">\n",
              "    <path d=\"M0 0h24v24H0V0z\" fill=\"none\"/>\n",
              "    <path d=\"M18.56 5.44l.94 2.06.94-2.06 2.06-.94-2.06-.94-.94-2.06-.94 2.06-2.06.94zm-11 1L8.5 8.5l.94-2.06 2.06-.94-2.06-.94L8.5 2.5l-.94 2.06-2.06.94zm10 10l.94 2.06.94-2.06 2.06-.94-2.06-.94-.94-2.06-.94 2.06-2.06.94z\"/><path d=\"M17.41 7.96l-1.37-1.37c-.4-.4-.92-.59-1.43-.59-.52 0-1.04.2-1.43.59L10.3 9.45l-7.72 7.72c-.78.78-.78 2.05 0 2.83L4 21.41c.39.39.9.59 1.41.59.51 0 1.02-.2 1.41-.59l7.78-7.78 2.81-2.81c.8-.78.8-2.07 0-2.86zM5.41 20L4 18.59l7.72-7.72 1.47 1.35L5.41 20z\"/>\n",
              "  </svg>\n",
              "      </button>\n",
              "      \n",
              "  <style>\n",
              "    .colab-df-container {\n",
              "      display:flex;\n",
              "      flex-wrap:wrap;\n",
              "      gap: 12px;\n",
              "    }\n",
              "\n",
              "    .colab-df-convert {\n",
              "      background-color: #E8F0FE;\n",
              "      border: none;\n",
              "      border-radius: 50%;\n",
              "      cursor: pointer;\n",
              "      display: none;\n",
              "      fill: #1967D2;\n",
              "      height: 32px;\n",
              "      padding: 0 0 0 0;\n",
              "      width: 32px;\n",
              "    }\n",
              "\n",
              "    .colab-df-convert:hover {\n",
              "      background-color: #E2EBFA;\n",
              "      box-shadow: 0px 1px 2px rgba(60, 64, 67, 0.3), 0px 1px 3px 1px rgba(60, 64, 67, 0.15);\n",
              "      fill: #174EA6;\n",
              "    }\n",
              "\n",
              "    [theme=dark] .colab-df-convert {\n",
              "      background-color: #3B4455;\n",
              "      fill: #D2E3FC;\n",
              "    }\n",
              "\n",
              "    [theme=dark] .colab-df-convert:hover {\n",
              "      background-color: #434B5C;\n",
              "      box-shadow: 0px 1px 3px 1px rgba(0, 0, 0, 0.15);\n",
              "      filter: drop-shadow(0px 1px 2px rgba(0, 0, 0, 0.3));\n",
              "      fill: #FFFFFF;\n",
              "    }\n",
              "  </style>\n",
              "\n",
              "      <script>\n",
              "        const buttonEl =\n",
              "          document.querySelector('#df-9d51120d-10bf-4964-bd34-13f159ec5fc6 button.colab-df-convert');\n",
              "        buttonEl.style.display =\n",
              "          google.colab.kernel.accessAllowed ? 'block' : 'none';\n",
              "\n",
              "        async function convertToInteractive(key) {\n",
              "          const element = document.querySelector('#df-9d51120d-10bf-4964-bd34-13f159ec5fc6');\n",
              "          const dataTable =\n",
              "            await google.colab.kernel.invokeFunction('convertToInteractive',\n",
              "                                                     [key], {});\n",
              "          if (!dataTable) return;\n",
              "\n",
              "          const docLinkHtml = 'Like what you see? Visit the ' +\n",
              "            '<a target=\"_blank\" href=https://colab.research.google.com/notebooks/data_table.ipynb>data table notebook</a>'\n",
              "            + ' to learn more about interactive tables.';\n",
              "          element.innerHTML = '';\n",
              "          dataTable['output_type'] = 'display_data';\n",
              "          await google.colab.output.renderOutput(dataTable, element);\n",
              "          const docLink = document.createElement('div');\n",
              "          docLink.innerHTML = docLinkHtml;\n",
              "          element.appendChild(docLink);\n",
              "        }\n",
              "      </script>\n",
              "    </div>\n",
              "  </div>\n",
              "  "
            ]
          },
          "metadata": {},
          "execution_count": 13
        }
      ]
    },
    {
      "cell_type": "code",
      "source": [],
      "metadata": {
        "id": "4qReEhq1ePtt"
      },
      "execution_count": 13,
      "outputs": []
    },
    {
      "cell_type": "code",
      "source": [
        "# Distribution of labels in training data\n",
        "train_df.target.value_counts()"
      ],
      "metadata": {
        "colab": {
          "base_uri": "https://localhost:8080/"
        },
        "id": "vrCdsFlw5oQR",
        "outputId": "46f81bc7-cbb1-4f67-cae9-e130bdae29c2"
      },
      "execution_count": 14,
      "outputs": [
        {
          "output_type": "execute_result",
          "data": {
            "text/plain": [
              "METHODS        59353\n",
              "RESULTS        57953\n",
              "CONCLUSIONS    27168\n",
              "BACKGROUND     21727\n",
              "OBJECTIVE      13839\n",
              "Name: target, dtype: int64"
            ]
          },
          "metadata": {},
          "execution_count": 14
        }
      ]
    },
    {
      "cell_type": "code",
      "source": [
        "# let's check the length of different lines\n",
        "train_df.total_lines.plot.hist(bins=20)"
      ],
      "metadata": {
        "colab": {
          "base_uri": "https://localhost:8080/",
          "height": 285
        },
        "id": "XalwmK8reZpq",
        "outputId": "a9ed9e67-b9d3-437e-fab7-1f88c2d89033"
      },
      "execution_count": 15,
      "outputs": [
        {
          "output_type": "execute_result",
          "data": {
            "text/plain": [
              "<AxesSubplot:ylabel='Frequency'>"
            ]
          },
          "metadata": {},
          "execution_count": 15
        },
        {
          "output_type": "display_data",
          "data": {
            "text/plain": [
              "<Figure size 432x288 with 1 Axes>"
            ],
            "image/png": "[encoded data removed]"
          },
          "metadata": {
            "needs_background": "light"
          }
        }
      ]
    },
    {
      "cell_type": "markdown",
      "source": [
        "### get lists of sentences"
      ],
      "metadata": {
        "id": "KT3nxt2Gj2n0"
      }
    },
    {
      "cell_type": "code",
      "source": [
        "# convert abstract text lines into lists\n",
        "train_sentences = train_df[\"text\"].tolist()\n",
        "val_sentences = val_df[\"text\"].tolist()\n",
        "test_sentences = test_df[\"text\"].tolist()\n",
        "len(train_sentences), len(val_sentences), len(test_sentences)"
      ],
      "metadata": {
        "colab": {
          "base_uri": "https://localhost:8080/"
        },
        "id": "XAnclYbPkBFH",
        "outputId": "1942ed5b-e669-405d-9cd4-3cca9777e8d3"
      },
      "execution_count": 16,
      "outputs": [
        {
          "output_type": "execute_result",
          "data": {
            "text/plain": [
              "(180040, 30212, 30135)"
            ]
          },
          "metadata": {},
          "execution_count": 16
        }
      ]
    },
    {
      "cell_type": "code",
      "source": [
        "# view the 10 lines of training sentences\n",
        "train_sentences[:10]"
      ],
      "metadata": {
        "colab": {
          "base_uri": "https://localhost:8080/"
        },
        "id": "7J3n4ULykSb2",
        "outputId": "2488e4d4-723f-4429-83a2-8e242f6d940f"
      },
      "execution_count": 17,
      "outputs": [
        {
          "output_type": "execute_result",
          "data": {
            "text/plain": [
              "['to investigate the efficacy of @ weeks of daily low-dose oral prednisolone in improving pain , mobility , and systemic low-grade inflammation in the short term and whether the effect would be sustained at @ weeks in older adults with moderate to severe knee osteoarthritis ( oa ) .',\n",
              " 'a total of @ patients with primary knee oa were randomized @:@ ; @ received @ mg/day of prednisolone and @ received placebo for @ weeks .',\n",
              " 'outcome measures included pain reduction and improvement in function scores and systemic inflammation markers .',\n",
              " 'pain was assessed using the visual analog pain scale ( @-@ mm ) .',\n",
              " 'secondary outcome measures included the western ontario and mcmaster universities osteoarthritis index scores , patient global assessment ( pga ) of the severity of knee oa , and @-min walk distance ( @mwd ) .',\n",
              " 'serum levels of interleukin @ ( il-@ ) , il-@ , tumor necrosis factor ( tnf ) - , and high-sensitivity c-reactive protein ( hscrp ) were measured .',\n",
              " 'there was a clinically relevant reduction in the intervention group compared to the placebo group for knee pain , physical function , pga , and @mwd at @ weeks .',\n",
              " 'the mean difference between treatment arms ( @ % ci ) was @ ( @-@ @ ) , p < @ ; @ ( @-@ @ ) , p < @ ; @ ( @-@ @ ) , p < @ ; and @ ( @-@ @ ) , p < @ , respectively .',\n",
              " 'further , there was a clinically relevant reduction in the serum levels of il-@ , il-@ , tnf - , and hscrp at @ weeks in the intervention group when compared to the placebo group .',\n",
              " 'these differences remained significant at @ weeks .']"
            ]
          },
          "metadata": {},
          "execution_count": 17
        }
      ]
    },
    {
      "cell_type": "code",
      "source": [
        "train_df.head()"
      ],
      "metadata": {
        "colab": {
          "base_uri": "https://localhost:8080/",
          "height": 206
        },
        "id": "ugKDoZMmkWzA",
        "outputId": "51d0b7e1-a34c-486d-9e05-dc2c6124af9a"
      },
      "execution_count": 18,
      "outputs": [
        {
          "output_type": "execute_result",
          "data": {
            "text/plain": [
              "      target                                               text  line_number  \\\n",
              "0  OBJECTIVE  to investigate the efficacy of @ weeks of dail...            0   \n",
              "1    METHODS  a total of @ patients with primary knee oa wer...            1   \n",
              "2    METHODS  outcome measures included pain reduction and i...            2   \n",
              "3    METHODS  pain was assessed using the visual analog pain...            3   \n",
              "4    METHODS  secondary outcome measures included the wester...            4   \n",
              "\n",
              "   total_lines  \n",
              "0           11  \n",
              "1           11  \n",
              "2           11  \n",
              "3           11  \n",
              "4           11  "
            ],
            "text/html": [
              "\n",
              "  <div id=\"df-a44eb816-9762-4664-b9c8-7a264a33f0e3\">\n",
              "    <div class=\"colab-df-container\">\n",
              "      <div>\n",
              "<style scoped>\n",
              "    .dataframe tbody tr th:only-of-type {\n",
              "        vertical-align: middle;\n",
              "    }\n",
              "\n",
              "    .dataframe tbody tr th {\n",
              "        vertical-align: top;\n",
              "    }\n",
              "\n",
              "    .dataframe thead th {\n",
              "        text-align: right;\n",
              "    }\n",
              "</style>\n",
              "<table border=\"1\" class=\"dataframe\">\n",
              "  <thead>\n",
              "    <tr style=\"text-align: right;\">\n",
              "      <th></th>\n",
              "      <th>target</th>\n",
              "      <th>text</th>\n",
              "      <th>line_number</th>\n",
              "      <th>total_lines</th>\n",
              "    </tr>\n",
              "  </thead>\n",
              "  <tbody>\n",
              "    <tr>\n",
              "      <th>0</th>\n",
              "      <td>OBJECTIVE</td>\n",
              "      <td>to investigate the efficacy of @ weeks of dail...</td>\n",
              "      <td>0</td>\n",
              "      <td>11</td>\n",
              "    </tr>\n",
              "    <tr>\n",
              "      <th>1</th>\n",
              "      <td>METHODS</td>\n",
              "      <td>a total of @ patients with primary knee oa wer...</td>\n",
              "      <td>1</td>\n",
              "      <td>11</td>\n",
              "    </tr>\n",
              "    <tr>\n",
              "      <th>2</th>\n",
              "      <td>METHODS</td>\n",
              "      <td>outcome measures included pain reduction and i...</td>\n",
              "      <td>2</td>\n",
              "      <td>11</td>\n",
              "    </tr>\n",
              "    <tr>\n",
              "      <th>3</th>\n",
              "      <td>METHODS</td>\n",
              "      <td>pain was assessed using the visual analog pain...</td>\n",
              "      <td>3</td>\n",
              "      <td>11</td>\n",
              "    </tr>\n",
              "    <tr>\n",
              "      <th>4</th>\n",
              "      <td>METHODS</td>\n",
              "      <td>secondary outcome measures included the wester...</td>\n",
              "      <td>4</td>\n",
              "      <td>11</td>\n",
              "    </tr>\n",
              "  </tbody>\n",
              "</table>\n",
              "</div>\n",
              "      <button class=\"colab-df-convert\" onclick=\"convertToInteractive('df-a44eb816-9762-4664-b9c8-7a264a33f0e3')\"\n",
              "              title=\"Convert this dataframe to an interactive table.\"\n",
              "              style=\"display:none;\">\n",
              "        \n",
              "  <svg xmlns=\"http://www.w3.org/2000/svg\" height=\"24px\"viewBox=\"0 0 24 24\"\n",
              "       width=\"24px\">\n",
              "    <path d=\"M0 0h24v24H0V0z\" fill=\"none\"/>\n",
              "    <path d=\"M18.56 5.44l.94 2.06.94-2.06 2.06-.94-2.06-.94-.94-2.06-.94 2.06-2.06.94zm-11 1L8.5 8.5l.94-2.06 2.06-.94-2.06-.94L8.5 2.5l-.94 2.06-2.06.94zm10 10l.94 2.06.94-2.06 2.06-.94-2.06-.94-.94-2.06-.94 2.06-2.06.94z\"/><path d=\"M17.41 7.96l-1.37-1.37c-.4-.4-.92-.59-1.43-.59-.52 0-1.04.2-1.43.59L10.3 9.45l-7.72 7.72c-.78.78-.78 2.05 0 2.83L4 21.41c.39.39.9.59 1.41.59.51 0 1.02-.2 1.41-.59l7.78-7.78 2.81-2.81c.8-.78.8-2.07 0-2.86zM5.41 20L4 18.59l7.72-7.72 1.47 1.35L5.41 20z\"/>\n",
              "  </svg>\n",
              "      </button>\n",
              "      \n",
              "  <style>\n",
              "    .colab-df-container {\n",
              "      display:flex;\n",
              "      flex-wrap:wrap;\n",
              "      gap: 12px;\n",
              "    }\n",
              "\n",
              "    .colab-df-convert {\n",
              "      background-color: #E8F0FE;\n",
              "      border: none;\n",
              "      border-radius: 50%;\n",
              "      cursor: pointer;\n",
              "      display: none;\n",
              "      fill: #1967D2;\n",
              "      height: 32px;\n",
              "      padding: 0 0 0 0;\n",
              "      width: 32px;\n",
              "    }\n",
              "\n",
              "    .colab-df-convert:hover {\n",
              "      background-color: #E2EBFA;\n",
              "      box-shadow: 0px 1px 2px rgba(60, 64, 67, 0.3), 0px 1px 3px 1px rgba(60, 64, 67, 0.15);\n",
              "      fill: #174EA6;\n",
              "    }\n",
              "\n",
              "    [theme=dark] .colab-df-convert {\n",
              "      background-color: #3B4455;\n",
              "      fill: #D2E3FC;\n",
              "    }\n",
              "\n",
              "    [theme=dark] .colab-df-convert:hover {\n",
              "      background-color: #434B5C;\n",
              "      box-shadow: 0px 1px 3px 1px rgba(0, 0, 0, 0.15);\n",
              "      filter: drop-shadow(0px 1px 2px rgba(0, 0, 0, 0.3));\n",
              "      fill: #FFFFFF;\n",
              "    }\n",
              "  </style>\n",
              "\n",
              "      <script>\n",
              "        const buttonEl =\n",
              "          document.querySelector('#df-a44eb816-9762-4664-b9c8-7a264a33f0e3 button.colab-df-convert');\n",
              "        buttonEl.style.display =\n",
              "          google.colab.kernel.accessAllowed ? 'block' : 'none';\n",
              "\n",
              "        async function convertToInteractive(key) {\n",
              "          const element = document.querySelector('#df-a44eb816-9762-4664-b9c8-7a264a33f0e3');\n",
              "          const dataTable =\n",
              "            await google.colab.kernel.invokeFunction('convertToInteractive',\n",
              "                                                     [key], {});\n",
              "          if (!dataTable) return;\n",
              "\n",
              "          const docLinkHtml = 'Like what you see? Visit the ' +\n",
              "            '<a target=\"_blank\" href=https://colab.research.google.com/notebooks/data_table.ipynb>data table notebook</a>'\n",
              "            + ' to learn more about interactive tables.';\n",
              "          element.innerHTML = '';\n",
              "          dataTable['output_type'] = 'display_data';\n",
              "          await google.colab.output.renderOutput(dataTable, element);\n",
              "          const docLink = document.createElement('div');\n",
              "          docLink.innerHTML = docLinkHtml;\n",
              "          element.appendChild(docLink);\n",
              "        }\n",
              "      </script>\n",
              "    </div>\n",
              "  </div>\n",
              "  "
            ]
          },
          "metadata": {},
          "execution_count": 18
        }
      ]
    },
    {
      "cell_type": "markdown",
      "source": [
        "## making numeric labels (ML models require numeric labels)"
      ],
      "metadata": {
        "id": "fu7d_aSIkoDP"
      }
    },
    {
      "cell_type": "code",
      "source": [
        "# we're going to both label and one-hot encode the labels (target)\n",
        "train_df[\"target\"]"
      ],
      "metadata": {
        "colab": {
          "base_uri": "https://localhost:8080/"
        },
        "id": "9Ie-tlwBlK-5",
        "outputId": "2227c132-66bb-4458-b577-fa4286a83f2a"
      },
      "execution_count": 19,
      "outputs": [
        {
          "output_type": "execute_result",
          "data": {
            "text/plain": [
              "0           OBJECTIVE\n",
              "1             METHODS\n",
              "2             METHODS\n",
              "3             METHODS\n",
              "4             METHODS\n",
              "             ...     \n",
              "180035        RESULTS\n",
              "180036        RESULTS\n",
              "180037        RESULTS\n",
              "180038    CONCLUSIONS\n",
              "180039    CONCLUSIONS\n",
              "Name: target, Length: 180040, dtype: object"
            ]
          },
          "metadata": {},
          "execution_count": 19
        }
      ]
    },
    {
      "cell_type": "code",
      "source": [
        "# one hot encoding\n",
        "from sklearn.preprocessing import OneHotEncoder\n",
        "one_hot_encoder = OneHotEncoder(sparse_output=False)\n",
        "train_labels_one_hot = one_hot_encoder.fit_transform(train_df[\"target\"].to_numpy().reshape(-1,1))\n",
        "train_labels_one_hot"
      ],
      "metadata": {
        "colab": {
          "base_uri": "https://localhost:8080/"
        },
        "id": "rtVlIIarlU-R",
        "outputId": "aff2748e-c2d6-4bdc-9135-0ba03dc17668"
      },
      "execution_count": 20,
      "outputs": [
        {
          "output_type": "execute_result",
          "data": {
            "text/plain": [
              "array([[0., 0., 0., 1., 0.],\n",
              "       [0., 0., 1., 0., 0.],\n",
              "       [0., 0., 1., 0., 0.],\n",
              "       ...,\n",
              "       [0., 0., 0., 0., 1.],\n",
              "       [0., 1., 0., 0., 0.],\n",
              "       [0., 1., 0., 0., 0.]])"
            ]
          },
          "metadata": {},
          "execution_count": 20
        }
      ]
    },
    {
      "cell_type": "code",
      "source": [
        "import tensorflow as tf\n",
        "tf.constant(train_labels_one_hot)"
      ],
      "metadata": {
        "colab": {
          "base_uri": "https://localhost:8080/"
        },
        "id": "oFLsLi_4lxxT",
        "outputId": "e644edf1-b835-4e11-e304-fc456a1deca3"
      },
      "execution_count": 21,
      "outputs": [
        {
          "output_type": "execute_result",
          "data": {
            "text/plain": [
              "<tf.Tensor: shape=(180040, 5), dtype=float64, numpy=\n",
              "array([[0., 0., 0., 1., 0.],\n",
              "       [0., 0., 1., 0., 0.],\n",
              "       [0., 0., 1., 0., 0.],\n",
              "       ...,\n",
              "       [0., 0., 0., 0., 1.],\n",
              "       [0., 1., 0., 0., 0.],\n",
              "       [0., 1., 0., 0., 0.]])>"
            ]
          },
          "metadata": {},
          "execution_count": 21
        }
      ]
    },
    {
      "cell_type": "code",
      "source": [
        "val_labels_one_hot = one_hot_encoder.transform(val_df[\"target\"].to_numpy().reshape(-1,1))\n",
        "test_labels_one_hot = one_hot_encoder.transform(test_df[\"target\"].to_numpy().reshape(-1,1))"
      ],
      "metadata": {
        "id": "ZuADTFejmMP7"
      },
      "execution_count": 22,
      "outputs": []
    },
    {
      "cell_type": "markdown",
      "source": [
        "## label encode labels\n"
      ],
      "metadata": {
        "id": "s0eSGTNWnj79"
      }
    },
    {
      "cell_type": "code",
      "source": [
        "# extract lanbels (\"target\" columns) and encode them into integers\n",
        "from sklearn.preprocessing import LabelEncoder\n",
        "label_encoder = LabelEncoder()\n",
        "train_labels_encoded = label_encoder.fit_transform(train_df[\"target\"].to_numpy())\n",
        "val_labels_encoded = label_encoder.transform(val_df[\"target\"].to_numpy())\n",
        "test_labels_encoded = label_encoder.transform(test_df[\"target\"].to_numpy())"
      ],
      "metadata": {
        "id": "ZhRRyBgTnm8Z"
      },
      "execution_count": 23,
      "outputs": []
    },
    {
      "cell_type": "code",
      "source": [
        "len(train_labels_encoded)"
      ],
      "metadata": {
        "colab": {
          "base_uri": "https://localhost:8080/"
        },
        "id": "aU1IOAoWn8lZ",
        "outputId": "f8168546-783b-421a-af40-eba36a36ae0b"
      },
      "execution_count": 24,
      "outputs": [
        {
          "output_type": "execute_result",
          "data": {
            "text/plain": [
              "180040"
            ]
          },
          "metadata": {},
          "execution_count": 24
        }
      ]
    },
    {
      "cell_type": "code",
      "source": [
        "# get class names for the labels i.e. map the numeric versions of the labels into text\n",
        "\n",
        "num_classes = len(label_encoder.classes_)\n",
        "class_names = label_encoder.classes_\n",
        "\n",
        "num_classes, class_names"
      ],
      "metadata": {
        "colab": {
          "base_uri": "https://localhost:8080/"
        },
        "id": "NZKr57Y8n-2o",
        "outputId": "3dc6dbf2-7766-44ce-898e-56fa362f77bb"
      },
      "execution_count": 25,
      "outputs": [
        {
          "output_type": "execute_result",
          "data": {
            "text/plain": [
              "(5, array(['BACKGROUND', 'CONCLUSIONS', 'METHODS', 'OBJECTIVE', 'RESULTS'],\n",
              "       dtype=object))"
            ]
          },
          "metadata": {},
          "execution_count": 25
        }
      ]
    },
    {
      "cell_type": "markdown",
      "source": [
        "## Starting a series of modelling experiments\n",
        "As usual, we're going to try out a bunch of different models and see which one works best.\n",
        "As usual, we'll start with a baseline TFIDF multimonial Naive Bayes classifier."
      ],
      "metadata": {
        "id": "IqQKA6msCw0B"
      }
    },
    {
      "cell_type": "markdown",
      "source": [
        "# Model 0: Baseline model"
      ],
      "metadata": {
        "id": "3Ob0blBhDNIX"
      }
    },
    {
      "cell_type": "code",
      "source": [
        "from sklearn.feature_extraction.text import TfidfVectorizer\n",
        "from sklearn.naive_bayes import MultinomialNB\n",
        "from sklearn.pipeline import Pipeline"
      ],
      "metadata": {
        "id": "2m0AmsiHDNZo"
      },
      "execution_count": 26,
      "outputs": []
    },
    {
      "cell_type": "code",
      "source": [
        "# Create a pipeline\n",
        "model_0 = Pipeline([\n",
        "    (\"tf-idf\", TfidfVectorizer()),\n",
        "    (\"clf\", MultinomialNB()),\n",
        "])\n",
        "\n",
        "# fit the pipeline to the training data\n",
        "model_0.fit(X=train_sentences, y=train_labels_encoded)"
      ],
      "metadata": {
        "colab": {
          "base_uri": "https://localhost:8080/",
          "height": 124
        },
        "id": "pCgCOG3JDTSk",
        "outputId": "022848a6-b687-49dd-c04b-51c864b51af4"
      },
      "execution_count": 27,
      "outputs": [
        {
          "output_type": "execute_result",
          "data": {
            "text/plain": [
              "Pipeline(steps=[('tf-idf', TfidfVectorizer()), ('clf', MultinomialNB())])"
            ],
            "text/html": [
              "<style>#sk-container-id-1 {color: black;background-color: white;}#sk-container-id-1 pre{padding: 0;}#sk-container-id-1 div.sk-toggleable {background-color: white;}#sk-container-id-1 label.sk-toggleable__label {cursor: pointer;display: block;width: 100%;margin-bottom: 0;padding: 0.3em;box-sizing: border-box;text-align: center;}#sk-container-id-1 label.sk-toggleable__label-arrow:before {content: \"▸\";float: left;margin-right: 0.25em;color: #696969;}#sk-container-id-1 label.sk-toggleable__label-arrow:hover:before {color: black;}#sk-container-id-1 div.sk-estimator:hover label.sk-toggleable__label-arrow:before {color: black;}#sk-container-id-1 div.sk-toggleable__content {max-height: 0;max-width: 0;overflow: hidden;text-align: left;background-color: #f0f8ff;}#sk-container-id-1 div.sk-toggleable__content pre {margin: 0.2em;color: black;border-radius: 0.25em;background-color: #f0f8ff;}#sk-container-id-1 input.sk-toggleable__control:checked~div.sk-toggleable__content {max-height: 200px;max-width: 100%;overflow: auto;}#sk-container-id-1 input.sk-toggleable__control:checked~label.sk-toggleable__label-arrow:before {content: \"▾\";}#sk-container-id-1 div.sk-estimator input.sk-toggleable__control:checked~label.sk-toggleable__label {background-color: #d4ebff;}#sk-container-id-1 div.sk-label input.sk-toggleable__control:checked~label.sk-toggleable__label {background-color: #d4ebff;}#sk-container-id-1 input.sk-hidden--visually {border: 0;clip: rect(1px 1px 1px 1px);clip: rect(1px, 1px, 1px, 1px);height: 1px;margin: -1px;overflow: hidden;padding: 0;position: absolute;width: 1px;}#sk-container-id-1 div.sk-estimator {font-family: monospace;background-color: #f0f8ff;border: 1px dotted black;border-radius: 0.25em;box-sizing: border-box;margin-bottom: 0.5em;}#sk-container-id-1 div.sk-estimator:hover {background-color: #d4ebff;}#sk-container-id-1 div.sk-parallel-item::after {content: \"\";width: 100%;border-bottom: 1px solid gray;flex-grow: 1;}#sk-container-id-1 div.sk-label:hover label.sk-toggleable__label {background-color: #d4ebff;}#sk-container-id-1 div.sk-serial::before {content: \"\";position: absolute;border-left: 1px solid gray;box-sizing: border-box;top: 0;bottom: 0;left: 50%;z-index: 0;}#sk-container-id-1 div.sk-serial {display: flex;flex-direction: column;align-items: center;background-color: white;padding-right: 0.2em;padding-left: 0.2em;position: relative;}#sk-container-id-1 div.sk-item {position: relative;z-index: 1;}#sk-container-id-1 div.sk-parallel {display: flex;align-items: stretch;justify-content: center;background-color: white;position: relative;}#sk-container-id-1 div.sk-item::before, #sk-container-id-1 div.sk-parallel-item::before {content: \"\";position: absolute;border-left: 1px solid gray;box-sizing: border-box;top: 0;bottom: 0;left: 50%;z-index: -1;}#sk-container-id-1 div.sk-parallel-item {display: flex;flex-direction: column;z-index: 1;position: relative;background-color: white;}#sk-container-id-1 div.sk-parallel-item:first-child::after {align-self: flex-end;width: 50%;}#sk-container-id-1 div.sk-parallel-item:last-child::after {align-self: flex-start;width: 50%;}#sk-container-id-1 div.sk-parallel-item:only-child::after {width: 0;}#sk-container-id-1 div.sk-dashed-wrapped {border: 1px dashed gray;margin: 0 0.4em 0.5em 0.4em;box-sizing: border-box;padding-bottom: 0.4em;background-color: white;}#sk-container-id-1 div.sk-label label {font-family: monospace;font-weight: bold;display: inline-block;line-height: 1.2em;}#sk-container-id-1 div.sk-label-container {text-align: center;}#sk-container-id-1 div.sk-container {/* jupyter's `normalize.less` sets `[hidden] { display: none; }` but bootstrap.min.css set `[hidden] { display: none !important; }` so we also need the `!important` here to be able to override the default hidden behavior on the sphinx rendered scikit-learn.org. See: https://github.com/scikit-learn/scikit-learn/issues/21755 */display: inline-block !important;position: relative;}#sk-container-id-1 div.sk-text-repr-fallback {display: none;}</style><div id=\"sk-container-id-1\" class=\"sk-top-container\"><div class=\"sk-text-repr-fallback\"><pre>Pipeline(steps=[(&#x27;tf-idf&#x27;, TfidfVectorizer()), (&#x27;clf&#x27;, MultinomialNB())])</pre><b>In a Jupyter environment, please rerun this cell to show the HTML representation or trust the notebook. <br />On GitHub, the HTML representation is unable to render, please try loading this page with nbviewer.org.</b></div><div class=\"sk-container\" hidden><div class=\"sk-item sk-dashed-wrapped\"><div class=\"sk-label-container\"><div class=\"sk-label sk-toggleable\"><input class=\"sk-toggleable__control sk-hidden--visually\" id=\"sk-estimator-id-1\" type=\"checkbox\" ><label for=\"sk-estimator-id-1\" class=\"sk-toggleable__label sk-toggleable__label-arrow\">Pipeline</label><div class=\"sk-toggleable__content\"><pre>Pipeline(steps=[(&#x27;tf-idf&#x27;, TfidfVectorizer()), (&#x27;clf&#x27;, MultinomialNB())])</pre></div></div></div><div class=\"sk-serial\"><div class=\"sk-item\"><div class=\"sk-estimator sk-toggleable\"><input class=\"sk-toggleable__control sk-hidden--visually\" id=\"sk-estimator-id-2\" type=\"checkbox\" ><label for=\"sk-estimator-id-2\" class=\"sk-toggleable__label sk-toggleable__label-arrow\">TfidfVectorizer</label><div class=\"sk-toggleable__content\"><pre>TfidfVectorizer()</pre></div></div></div><div class=\"sk-item\"><div class=\"sk-estimator sk-toggleable\"><input class=\"sk-toggleable__control sk-hidden--visually\" id=\"sk-estimator-id-3\" type=\"checkbox\" ><label for=\"sk-estimator-id-3\" class=\"sk-toggleable__label sk-toggleable__label-arrow\">MultinomialNB</label><div class=\"sk-toggleable__content\"><pre>MultinomialNB()</pre></div></div></div></div></div></div></div>"
            ]
          },
          "metadata": {},
          "execution_count": 27
        }
      ]
    },
    {
      "cell_type": "code",
      "source": [
        "# evaluate baseline model on validation dataset\n",
        "model_0.score(X=val_sentences, y=val_labels_encoded)"
      ],
      "metadata": {
        "colab": {
          "base_uri": "https://localhost:8080/"
        },
        "id": "sDTWsef7DTpK",
        "outputId": "238853d5-0fc0-414d-fc1f-61d154991965"
      },
      "execution_count": 28,
      "outputs": [
        {
          "output_type": "execute_result",
          "data": {
            "text/plain": [
              "0.7218323844829869"
            ]
          },
          "metadata": {},
          "execution_count": 28
        }
      ]
    },
    {
      "cell_type": "code",
      "source": [
        "# make predictions using our baseline model\n",
        "baseline_preds = model_0.predict(val_sentences)\n",
        "baseline_preds"
      ],
      "metadata": {
        "colab": {
          "base_uri": "https://localhost:8080/"
        },
        "id": "oScTVPTQEMEA",
        "outputId": "4dd25f23-b89d-4f61-d68a-29109a31c8dd"
      },
      "execution_count": 29,
      "outputs": [
        {
          "output_type": "execute_result",
          "data": {
            "text/plain": [
              "array([4, 1, 3, ..., 4, 4, 1])"
            ]
          },
          "metadata": {},
          "execution_count": 29
        }
      ]
    },
    {
      "cell_type": "code",
      "source": [
        "baseline_results = calculate_results(y_true = val_labels_encoded, y_pred = baseline_preds)\n",
        "baseline_results"
      ],
      "metadata": {
        "colab": {
          "base_uri": "https://localhost:8080/"
        },
        "id": "zlDHeA3IEMKY",
        "outputId": "da0c8f53-e763-465e-bd07-90edf9baf371"
      },
      "execution_count": 30,
      "outputs": [
        {
          "output_type": "execute_result",
          "data": {
            "text/plain": [
              "{'accuracy': 72.1832384482987,\n",
              " 'precision': 0.7186466952323352,\n",
              " 'recall': 0.7218323844829869,\n",
              " 'f1': 0.6989250353450294}"
            ]
          },
          "metadata": {},
          "execution_count": 30
        }
      ]
    },
    {
      "cell_type": "code",
      "source": [],
      "metadata": {
        "id": "BcNqmXRJEMaY"
      },
      "execution_count": 30,
      "outputs": []
    },
    {
      "cell_type": "code",
      "source": [],
      "metadata": {
        "id": "MtWtYGiFELGs"
      },
      "execution_count": 30,
      "outputs": []
    },
    {
      "cell_type": "markdown",
      "source": [
        "# Preparing our data (the text) for deep sequence models\n",
        "\n",
        "before we start building deeper models, we've got to create vectorization and embedding layers"
      ],
      "metadata": {
        "id": "vXvvaAvood2o"
      }
    },
    {
      "cell_type": "code",
      "source": [
        "import numpy as np\n",
        "import tensorflow as tf\n",
        "from tensorflow.keras import layers"
      ],
      "metadata": {
        "id": "yjSjjaTwBEgT"
      },
      "execution_count": 31,
      "outputs": []
    },
    {
      "cell_type": "code",
      "source": [
        "# how long is each sentence on average?\n",
        "sent_lens = [len(sentence.split()) for sentence in train_sentences]\n",
        "avg_sent_lens = np.mean(sent_lens)\n",
        "avg_sent_lens"
      ],
      "metadata": {
        "colab": {
          "base_uri": "https://localhost:8080/"
        },
        "id": "Oz_bYBGHBHgG",
        "outputId": "1811962c-c1c5-4bcf-f8cc-10bb7cc3fe2b"
      },
      "execution_count": 32,
      "outputs": [
        {
          "output_type": "execute_result",
          "data": {
            "text/plain": [
              "26.338269273494777"
            ]
          },
          "metadata": {},
          "execution_count": 32
        }
      ]
    },
    {
      "cell_type": "code",
      "source": [
        "# what's the distribution look like?\n",
        "import matplotlib.pyplot as plt\n",
        "plt.figure(figsize=(50,50))\n",
        "plt.hist(sent_lens, bins=50);"
      ],
      "metadata": {
        "colab": {
          "base_uri": "https://localhost:8080/",
          "height": 1000
        },
        "id": "CGsQyCkEBVWU",
        "outputId": "df99874a-c7f2-43ad-bdb0-1665a4ab0e90"
      },
      "execution_count": 33,
      "outputs": [
        {
          "output_type": "display_data",
          "data": {
            "text/plain": [
              "<Figure size 3600x3600 with 1 Axes>"
            ],
            "image/png": "[encoded data removed]"
          },
          "metadata": {
            "needs_background": "light"
          }
        }
      ]
    },
    {
      "cell_type": "code",
      "source": [
        "# how long of a sentence length covers 95% of examples?\n",
        "output_seq_len = int(np.percentile(sent_lens, 95))\n",
        "output_seq_len"
      ],
      "metadata": {
        "colab": {
          "base_uri": "https://localhost:8080/"
        },
        "id": "9h03mUdEBr0k",
        "outputId": "a6df1e10-1613-4b49-98fb-34a00e7b9b79"
      },
      "execution_count": 34,
      "outputs": [
        {
          "output_type": "execute_result",
          "data": {
            "text/plain": [
              "55"
            ]
          },
          "metadata": {},
          "execution_count": 34
        }
      ]
    },
    {
      "cell_type": "code",
      "source": [
        "max(sent_lens)"
      ],
      "metadata": {
        "colab": {
          "base_uri": "https://localhost:8080/"
        },
        "id": "XyAiEou5CwfQ",
        "outputId": "df8d03f6-d1ee-466b-cbbd-605ab9b6c42d"
      },
      "execution_count": 35,
      "outputs": [
        {
          "output_type": "execute_result",
          "data": {
            "text/plain": [
              "296"
            ]
          },
          "metadata": {},
          "execution_count": 35
        }
      ]
    },
    {
      "cell_type": "markdown",
      "source": [
        "### create text vectorizer layer\n",
        "\n",
        "we want to make a layer w hich maps our text from words into numbers\n",
        "\n",
        "* the number of word sin our vocab is taken from table 2 in the papaer\n"
      ],
      "metadata": {
        "id": "6-Qkc8-WC49U"
      }
    },
    {
      "cell_type": "code",
      "source": [
        "max_tokens = 68000 # taken from the paper\n",
        "\n",
        "# Create text vectorizer\n",
        "from tensorflow.keras.layers import TextVectorization\n",
        "\n",
        "text_vectorizer = TextVectorization(max_tokens=max_tokens, # number of words in vocabulary\n",
        "                                    output_sequence_length=55) # desired output length of vectorized sequences"
      ],
      "metadata": {
        "id": "mJmVoJPaDWsb"
      },
      "execution_count": 36,
      "outputs": []
    },
    {
      "cell_type": "code",
      "source": [
        "# add text vectorizer to training sentences...\n",
        "text_vectorizer.adapt(train_sentences)"
      ],
      "metadata": {
        "id": "gIYVXojNFVWH"
      },
      "execution_count": 37,
      "outputs": []
    },
    {
      "cell_type": "code",
      "source": [
        "# how many words in our training vocabulary\n",
        "\n",
        "rct_20k_text_vocab = text_vectorizer.get_vocabulary()\n",
        "print(f\"Number of words in vocab: {len(rct_20k_text_vocab)}\")\n",
        "print(f\"Most common words in vocab: {rct_20k_text_vocab[:5]}\")\n",
        "print(f\"Least common words in vocab: {rct_20k_text_vocab[-5:]}\")"
      ],
      "metadata": {
        "colab": {
          "base_uri": "https://localhost:8080/"
        },
        "id": "OWM4j52iGEqP",
        "outputId": "db49fee2-6d8c-4d9a-d2e2-2c2299a022a7"
      },
      "execution_count": 38,
      "outputs": [
        {
          "output_type": "stream",
          "name": "stdout",
          "text": [
            "Number of words in vocab: 64841\n",
            "Most common words in vocab: ['', '[UNK]', 'the', 'and', 'of']\n",
            "Least common words in vocab: ['aainduced', 'aaigroup', 'aachener', 'aachen', 'aaacp']\n"
          ]
        }
      ]
    },
    {
      "cell_type": "code",
      "source": [
        "# get the config of our text vectorizer\n",
        "\n",
        "text_vectorizer.get_config()"
      ],
      "metadata": {
        "colab": {
          "base_uri": "https://localhost:8080/"
        },
        "id": "nP-w5oqLHAzG",
        "outputId": "b925c942-0e2b-44fb-e2d7-e59be460667c"
      },
      "execution_count": 39,
      "outputs": [
        {
          "output_type": "execute_result",
          "data": {
            "text/plain": [
              "{'name': 'text_vectorization',\n",
              " 'trainable': True,\n",
              " 'dtype': 'string',\n",
              " 'batch_input_shape': (None,),\n",
              " 'max_tokens': 68000,\n",
              " 'standardize': 'lower_and_strip_punctuation',\n",
              " 'split': 'whitespace',\n",
              " 'ngrams': None,\n",
              " 'output_mode': 'int',\n",
              " 'output_sequence_length': 55,\n",
              " 'pad_to_max_tokens': False,\n",
              " 'sparse': False,\n",
              " 'ragged': False,\n",
              " 'vocabulary': None,\n",
              " 'idf_weights': None,\n",
              " 'encoding': 'utf-8'}"
            ]
          },
          "metadata": {},
          "execution_count": 39
        }
      ]
    },
    {
      "cell_type": "markdown",
      "source": [
        "* technically we can build a model from this... but creating an embedding layer is better"
      ],
      "metadata": {
        "id": "419yIjreHHqv"
      }
    },
    {
      "cell_type": "code",
      "source": [
        "from tensorflow.keras.layers import Embedding\n",
        "\n",
        "token_embed = Embedding(input_dim=len(rct_20k_text_vocab),\n",
        "                        output_dim=128,\n",
        "                        mask_zero=True, # helps tensorflow do more efficient computing where there are a lot of zeros\n",
        "                        name = \"token_embedding\")"
      ],
      "metadata": {
        "id": "qUHO5SkCHTFc"
      },
      "execution_count": 40,
      "outputs": []
    },
    {
      "cell_type": "code",
      "source": [
        "# test out text vectorizer on random sentences\n",
        "import random\n",
        "target_sentence = random.choice(train_sentences)\n",
        "print(f\"Text:\\n {target_sentence}\")\n",
        "print(f\"\\nLength of text: {len(target_sentence)}\")\n",
        "print(f\"\\nVectorized text: {text_vectorizer([target_sentence])}\")"
      ],
      "metadata": {
        "colab": {
          "base_uri": "https://localhost:8080/"
        },
        "id": "1b6eAukqJxEm",
        "outputId": "3fa024fc-f425-4eb1-faff-30703bd9a435"
      },
      "execution_count": 41,
      "outputs": [
        {
          "output_type": "stream",
          "name": "stdout",
          "text": [
            "Text:\n",
            " pf-@ at @ mg/d was associated with increased adverse events and cognitive decline .\n",
            "\n",
            "Length of text: 83\n",
            "\n",
            "Vectorized text: [[3847   15 1306   10   81    7   96  118  124    3  301 1078    0    0\n",
            "     0    0    0    0    0    0    0    0    0    0    0    0    0    0\n",
            "     0    0    0    0    0    0    0    0    0    0    0    0    0    0\n",
            "     0    0    0    0    0    0    0    0    0    0    0    0    0]]\n"
          ]
        }
      ]
    },
    {
      "cell_type": "code",
      "source": [
        "# test with embedding example...\n",
        "print(f\"setnence before vectorization:\\n {target_sentence}\")\n",
        "vectorized_sentence = text_vectorizer([target_sentence])\n",
        "\n",
        "print(f\"sentence after vectorization:\\n {vectorized_sentence}\")\n",
        "print(vectorized_sentence.shape)\n",
        "embedded_sentence = token_embed(vectorized_sentence)\n",
        "print(f\"sentence after embedding:\\n {embedded_sentence}\")\n",
        "print(f\"Embedded shape: {embedded_sentence.shape}\")"
      ],
      "metadata": {
        "colab": {
          "base_uri": "https://localhost:8080/"
        },
        "id": "1ZZvt_HQHa1f",
        "outputId": "d0ab41e2-1281-4775-d954-22d65fd395c2"
      },
      "execution_count": 42,
      "outputs": [
        {
          "output_type": "stream",
          "name": "stdout",
          "text": [
            "setnence before vectorization:\n",
            " pf-@ at @ mg/d was associated with increased adverse events and cognitive decline .\n",
            "sentence after vectorization:\n",
            " [[3847   15 1306   10   81    7   96  118  124    3  301 1078    0    0\n",
            "     0    0    0    0    0    0    0    0    0    0    0    0    0    0\n",
            "     0    0    0    0    0    0    0    0    0    0    0    0    0    0\n",
            "     0    0    0    0    0    0    0    0    0    0    0    0    0]]\n",
            "(1, 55)\n",
            "sentence after embedding:\n",
            " [[[ 0.03437339 -0.02889364 -0.03059349 ... -0.00962052  0.01171094\n",
            "    0.02573742]\n",
            "  [ 0.03528604 -0.0147788  -0.03038001 ... -0.01099594  0.0038252\n",
            "   -0.03824524]\n",
            "  [ 0.00736398 -0.02947575 -0.04480016 ...  0.0098368  -0.04586474\n",
            "   -0.04249748]\n",
            "  ...\n",
            "  [ 0.01051299 -0.0191088  -0.01434243 ...  0.02648645 -0.0147639\n",
            "   -0.04484877]\n",
            "  [ 0.01051299 -0.0191088  -0.01434243 ...  0.02648645 -0.0147639\n",
            "   -0.04484877]\n",
            "  [ 0.01051299 -0.0191088  -0.01434243 ...  0.02648645 -0.0147639\n",
            "   -0.04484877]]]\n",
            "Embedded shape: (1, 55, 128)\n"
          ]
        }
      ]
    },
    {
      "cell_type": "markdown",
      "source": [
        "## Creating datasets\n",
        "https://www.tensorflow.org/guide/data_performance\n",
        "\n",
        "https://www.tensorflow.org/guide/data\n",
        "\n",
        "* we're going to set up our data to run as fast as possible with the TensorFlow tf.data API. "
      ],
      "metadata": {
        "id": "VCKubCPbIrSD"
      }
    },
    {
      "cell_type": "code",
      "source": [
        "# Turn our data into TensorFlow datasets\n",
        "train_dataset = tf.data.Dataset.from_tensor_slices((train_sentences, train_labels_one_hot))\n",
        "valid_dataset = tf.data.Dataset.from_tensor_slices((val_sentences, val_labels_one_hot))\n",
        "test_dataset = tf.data.Dataset.from_tensor_slices((test_sentences, test_labels_one_hot))"
      ],
      "metadata": {
        "id": "gRPE71LfOwTk"
      },
      "execution_count": 43,
      "outputs": []
    },
    {
      "cell_type": "code",
      "source": [
        "train_dataset"
      ],
      "metadata": {
        "colab": {
          "base_uri": "https://localhost:8080/"
        },
        "id": "ilSQ1PEMPNaT",
        "outputId": "73cd0ad3-d9a9-45e9-9d15-b8d20e910c37"
      },
      "execution_count": 44,
      "outputs": [
        {
          "output_type": "execute_result",
          "data": {
            "text/plain": [
              "<TensorSliceDataset element_spec=(TensorSpec(shape=(), dtype=tf.string, name=None), TensorSpec(shape=(5,), dtype=tf.float64, name=None))>"
            ]
          },
          "metadata": {},
          "execution_count": 44
        }
      ]
    },
    {
      "cell_type": "code",
      "source": [
        "# take the TensorSliceDataset and turn them into PreFetch and Batch dataset - to make datasets more efficient to load into models\n",
        "train_dataset = train_dataset.batch(32).prefetch(tf.data.AUTOTUNE)\n",
        "valid_dataset = valid_dataset.batch(32).prefetch(tf.data.AUTOTUNE)\n",
        "test_dataset = test_dataset.batch(32).prefetch(tf.data.AUTOTUNE)"
      ],
      "metadata": {
        "id": "O62IFVASPU43"
      },
      "execution_count": 45,
      "outputs": []
    },
    {
      "cell_type": "code",
      "source": [
        "train_dataset"
      ],
      "metadata": {
        "colab": {
          "base_uri": "https://localhost:8080/"
        },
        "id": "PBCSbD9kQWoT",
        "outputId": "df0ed470-c136-4961-dd9a-2af264ed6727"
      },
      "execution_count": 46,
      "outputs": [
        {
          "output_type": "execute_result",
          "data": {
            "text/plain": [
              "<PrefetchDataset element_spec=(TensorSpec(shape=(None,), dtype=tf.string, name=None), TensorSpec(shape=(None, 5), dtype=tf.float64, name=None))>"
            ]
          },
          "metadata": {},
          "execution_count": 46
        }
      ]
    },
    {
      "cell_type": "markdown",
      "source": [
        "# Model 1: Conv1D with token embeddings"
      ],
      "metadata": {
        "id": "SBBh0k3-QjJj"
      }
    },
    {
      "cell_type": "code",
      "source": [
        "# create 1D conv model to preocess sequencess\n",
        "inputs = layers.Input(shape=(1,), dtype=tf.string)\n",
        "text_vectors = text_vectorizer(inputs)\n",
        "token_embeddings = token_embed(text_vectors)\n",
        "x = layers.Conv1D(84, kernel_size=5, padding=\"same\", activation=\"relu\")(token_embeddings)\n",
        "x = layers.GlobalAveragePooling1D()(x)\n",
        "outputs = layers.Dense(num_classes, activation=\"softmax\")(x)\n",
        "model_1 = tf.keras.Model(inputs, outputs)\n",
        "\n",
        "model_1.compile(loss=\"categorical_crossentropy\",\n",
        "              optimizer=\"Adam\",\n",
        "              metrics=\"accuracy\")\n",
        "\n",
        "model_1.summary()"
      ],
      "metadata": {
        "colab": {
          "base_uri": "https://localhost:8080/"
        },
        "id": "-jMOBhEPRFEn",
        "outputId": "98f2c780-c02b-4d77-fd3f-98d7d3edd90b"
      },
      "execution_count": 47,
      "outputs": [
        {
          "output_type": "stream",
          "name": "stdout",
          "text": [
            "Model: \"model\"\n",
            "_________________________________________________________________\n",
            " Layer (type)                Output Shape              Param #   \n",
            "=================================================================\n",
            " input_1 (InputLayer)        [(None, 1)]               0         \n",
            "                                                                 \n",
            " text_vectorization (TextVec  (None, 55)               0         \n",
            " torization)                                                     \n",
            "                                                                 \n",
            " token_embedding (Embedding)  (None, 55, 128)          8299648   \n",
            "                                                                 \n",
            " conv1d (Conv1D)             (None, 55, 84)            53844     \n",
            "                                                                 \n",
            " global_average_pooling1d (G  (None, 84)               0         \n",
            " lobalAveragePooling1D)                                          \n",
            "                                                                 \n",
            " dense (Dense)               (None, 5)                 425       \n",
            "                                                                 \n",
            "=================================================================\n",
            "Total params: 8,353,917\n",
            "Trainable params: 8,353,917\n",
            "Non-trainable params: 0\n",
            "_________________________________________________________________\n"
          ]
        }
      ]
    },
    {
      "cell_type": "code",
      "source": [
        "# fit the model\n",
        "history_model_1 = model_1.fit(train_dataset, \n",
        "                              steps_per_epoch = int(0.1* len(train_dataset)),\n",
        "                              epochs=3,\n",
        "                              validation_data = valid_dataset,\n",
        "                              validation_steps = int(0.1 * len(valid_dataset)))"
      ],
      "metadata": {
        "colab": {
          "base_uri": "https://localhost:8080/"
        },
        "id": "GoqrgZyeRsDr",
        "outputId": "0e3a6eff-5930-4041-fbf4-42c377c1d876"
      },
      "execution_count": 48,
      "outputs": [
        {
          "output_type": "stream",
          "name": "stdout",
          "text": [
            "Epoch 1/3\n",
            "562/562 [==============================] - 37s 47ms/step - loss: 0.9143 - accuracy: 0.6331 - val_loss: 0.6959 - val_accuracy: 0.7324\n",
            "Epoch 2/3\n",
            "562/562 [==============================] - 7s 13ms/step - loss: 0.6642 - accuracy: 0.7515 - val_loss: 0.6369 - val_accuracy: 0.7663\n",
            "Epoch 3/3\n",
            "562/562 [==============================] - 8s 14ms/step - loss: 0.6207 - accuracy: 0.7715 - val_loss: 0.5973 - val_accuracy: 0.7829\n"
          ]
        }
      ]
    },
    {
      "cell_type": "code",
      "source": [
        "# evaluate on whole dataset\n",
        "model_1.evaluate(valid_dataset)"
      ],
      "metadata": {
        "colab": {
          "base_uri": "https://localhost:8080/"
        },
        "id": "e5PQKj-CSpeN",
        "outputId": "39a292a3-768b-4868-d103-41bd06b3d0b4"
      },
      "execution_count": 49,
      "outputs": [
        {
          "output_type": "stream",
          "name": "stdout",
          "text": [
            "945/945 [==============================] - 7s 7ms/step - loss: 0.5998 - accuracy: 0.7854\n"
          ]
        },
        {
          "output_type": "execute_result",
          "data": {
            "text/plain": [
              "[0.5998152494430542, 0.7854495048522949]"
            ]
          },
          "metadata": {},
          "execution_count": 49
        }
      ]
    },
    {
      "cell_type": "code",
      "source": [
        "# make predictions with our models\n",
        "model_1_pred_probs = model_1.predict(valid_dataset)\n",
        "model_1_pred_probs.shape"
      ],
      "metadata": {
        "colab": {
          "base_uri": "https://localhost:8080/"
        },
        "id": "0isPgDgJTKaj",
        "outputId": "c1197f80-1b6c-488d-8337-a4707a071b5e"
      },
      "execution_count": 50,
      "outputs": [
        {
          "output_type": "stream",
          "name": "stdout",
          "text": [
            "945/945 [==============================] - 4s 4ms/step\n"
          ]
        },
        {
          "output_type": "execute_result",
          "data": {
            "text/plain": [
              "(30212, 5)"
            ]
          },
          "metadata": {},
          "execution_count": 50
        }
      ]
    },
    {
      "cell_type": "code",
      "source": [
        "model_1_pred_probs[:5]"
      ],
      "metadata": {
        "colab": {
          "base_uri": "https://localhost:8080/"
        },
        "id": "jU6IAX7iTU5R",
        "outputId": "f32a717b-9c44-470f-f01d-df9500e1c4b1"
      },
      "execution_count": 51,
      "outputs": [
        {
          "output_type": "execute_result",
          "data": {
            "text/plain": [
              "array([[4.4778925e-01, 1.7319651e-01, 8.7323263e-02, 2.5990522e-01,\n",
              "        3.1785764e-02],\n",
              "       [4.3531477e-01, 2.9788098e-01, 1.1287633e-02, 2.4875835e-01,\n",
              "        6.7581940e-03],\n",
              "       [1.5115984e-01, 9.2383996e-03, 1.8740919e-03, 8.3768594e-01,\n",
              "        4.1775926e-05],\n",
              "       [1.6667826e-05, 2.0228139e-04, 9.8365271e-01, 2.0682761e-05,\n",
              "        1.6107773e-02],\n",
              "       [1.6100670e-03, 4.0199902e-02, 3.8013300e-01, 1.5138413e-03,\n",
              "        5.7654321e-01]], dtype=float32)"
            ]
          },
          "metadata": {},
          "execution_count": 51
        }
      ]
    },
    {
      "cell_type": "code",
      "source": [
        "# convert prediction probabilities to classses\n",
        "model_1_preds = tf.argmax(model_1_pred_probs, axis=1)\n",
        "model_1_preds[:5]"
      ],
      "metadata": {
        "colab": {
          "base_uri": "https://localhost:8080/"
        },
        "id": "QPoZeaoLTYPo",
        "outputId": "c540105e-6c0d-4f68-f11b-b5e27ef507b3"
      },
      "execution_count": 52,
      "outputs": [
        {
          "output_type": "execute_result",
          "data": {
            "text/plain": [
              "<tf.Tensor: shape=(5,), dtype=int64, numpy=array([0, 0, 3, 2, 4])>"
            ]
          },
          "metadata": {},
          "execution_count": 52
        }
      ]
    },
    {
      "cell_type": "code",
      "source": [
        "class_names"
      ],
      "metadata": {
        "colab": {
          "base_uri": "https://localhost:8080/"
        },
        "id": "XgJoHaszUC98",
        "outputId": "bede96a8-6767-4dd1-98f1-8de3203c467a"
      },
      "execution_count": 53,
      "outputs": [
        {
          "output_type": "execute_result",
          "data": {
            "text/plain": [
              "array(['BACKGROUND', 'CONCLUSIONS', 'METHODS', 'OBJECTIVE', 'RESULTS'],\n",
              "      dtype=object)"
            ]
          },
          "metadata": {},
          "execution_count": 53
        }
      ]
    },
    {
      "cell_type": "code",
      "source": [
        "model_1_predictions = class_names[model_1_preds]\n",
        "len(model_1_predictions)\n",
        "model_1_predictions[:10]"
      ],
      "metadata": {
        "colab": {
          "base_uri": "https://localhost:8080/"
        },
        "id": "vgqZzLuRUJao",
        "outputId": "e137fe1f-0526-4d92-e736-a70dd4ccec59"
      },
      "execution_count": 54,
      "outputs": [
        {
          "output_type": "execute_result",
          "data": {
            "text/plain": [
              "array(['BACKGROUND', 'BACKGROUND', 'OBJECTIVE', 'METHODS', 'RESULTS',\n",
              "       'METHODS', 'RESULTS', 'METHODS', 'RESULTS', 'CONCLUSIONS'],\n",
              "      dtype=object)"
            ]
          },
          "metadata": {},
          "execution_count": 54
        }
      ]
    },
    {
      "cell_type": "code",
      "source": [
        "model_1_results = calculate_results(y_true = val_labels_encoded, y_pred = model_1_preds)\n",
        "model_1_results"
      ],
      "metadata": {
        "colab": {
          "base_uri": "https://localhost:8080/"
        },
        "id": "X-2CcHnzUYBI",
        "outputId": "c3f056ea-679a-4988-e8bb-d49d6d476870"
      },
      "execution_count": 55,
      "outputs": [
        {
          "output_type": "execute_result",
          "data": {
            "text/plain": [
              "{'accuracy': 78.54494902687674,\n",
              " 'precision': 0.7828652162564669,\n",
              " 'recall': 0.7854494902687674,\n",
              " 'f1': 0.7831991880305034}"
            ]
          },
          "metadata": {},
          "execution_count": 55
        }
      ]
    },
    {
      "cell_type": "code",
      "source": [
        "tf"
      ],
      "metadata": {
        "colab": {
          "base_uri": "https://localhost:8080/"
        },
        "id": "DWx0Lc1lL3An",
        "outputId": "acff4171-51ea-42d6-9d6a-77d7a34055fd"
      },
      "execution_count": 56,
      "outputs": [
        {
          "output_type": "execute_result",
          "data": {
            "text/plain": [
              "<module 'tensorflow' from '/usr/local/lib/python3.9/dist-packages/tensorflow/__init__.py'>"
            ]
          },
          "metadata": {},
          "execution_count": 56
        }
      ]
    },
    {
      "cell_type": "code",
      "source": [
        "import tensorflow as tf"
      ],
      "metadata": {
        "id": "q93boYnVGezn"
      },
      "execution_count": 57,
      "outputs": []
    },
    {
      "cell_type": "markdown",
      "source": [
        "# model 2: feature extraction with pretrained token embeddings\n",
        "\n",
        "now let's use pretrained word embeddings from Tensorflow Hub, specifically the universal sentence encoder...\n",
        "\n",
        "https://www.tensorflow.org/hub/tutorials/semantic_similarity_with_tf_hub_universal_encoder\n",
        "\n",
        "* The input is variable length English text and the output is a 512 long vector"
      ],
      "metadata": {
        "id": "9Bl0YuXXVNDy"
      }
    },
    {
      "cell_type": "code",
      "source": [
        "# download pretrained TensorflowHub USE\n",
        "import tensorflow_hub as hub\n",
        "\n",
        "tf_hub_embedding_layer = hub.KerasLayer(\"https://tfhub.dev/google/universal-sentence-encoder/4\",\n",
        "                                        trainable=False,\n",
        "                                        name=\"universal_sentence_encoder\")"
      ],
      "metadata": {
        "id": "SmgK5F3WGdqw"
      },
      "execution_count": 265,
      "outputs": []
    },
    {
      "cell_type": "code",
      "source": [
        "# test out the pretrained embedding  on a random sentence...\n",
        "random_train_sentence = random.choice(train_sentences)\n",
        "print(f\"Random sentence:\\n {random_train_sentence}\")\n",
        "use_embedded_sentence = tf_hub_embedding_layer([random_train_sentence])\n",
        "print(f\"Sentence after embedding: \\n {use_embedded_sentence[0][:30]}\")\n",
        "print(f\"lenght of the sentence embedding: \\n {len(use_embedded_sentence[0])}\")"
      ],
      "metadata": {
        "colab": {
          "base_uri": "https://localhost:8080/"
        },
        "id": "FmYyj0WINeMR",
        "outputId": "55353ee9-12bc-4cc7-a5a8-b9f39ac3a85c"
      },
      "execution_count": 266,
      "outputs": [
        {
          "output_type": "stream",
          "name": "stdout",
          "text": [
            "Random sentence:\n",
            " this would be the first rct to answer a clinically important question which could significantly affect the operative delivery rate in australia and internationally .\n",
            "Sentence after embedding: \n",
            " [-3.55527326e-02  1.41538465e-02 -7.93769807e-02 -7.77476355e-02\n",
            " -3.45581807e-02  2.22740546e-02 -4.06131633e-02 -5.96070811e-02\n",
            "  7.61499107e-02 -5.82117327e-02  5.29693402e-02 -2.69616358e-02\n",
            "  3.03692333e-02 -2.09095366e-02  1.21037811e-02 -1.06021715e-02\n",
            " -1.98756736e-02  7.72405714e-02 -3.19173634e-02  3.14701349e-02\n",
            "  3.65229067e-03  7.52912760e-02  4.81381714e-02  5.84919453e-02\n",
            " -6.78474244e-05  6.04968034e-02 -2.18185671e-02 -4.63996939e-02\n",
            " -2.00938024e-02  6.94396999e-03]\n",
            "lenght of the sentence embedding: \n",
            " 512\n"
          ]
        }
      ]
    },
    {
      "cell_type": "code",
      "source": [
        "inputs = layers.Input(shape=[], dtype = \"string\", name=\"input_layer\")\n",
        "x = tf_hub_embedding_layer(inputs)\n",
        "x = layers.Dense(128, activation=\"relu\")(x) # you could add more layers here if you want to\n",
        "outputs = layers.Dense(num_classes, activation = \"softmax\")(x)\n",
        "model_2 = tf.keras.Model(inputs, outputs, name = \"model_2_USE_feature_extractor\")\n",
        "\n",
        "\n",
        "model_2.compile(loss=\"categorical_crossentropy\", optimizer=\"Adam\", metrics=\"accuracy\")\n",
        "model_2.summary()"
      ],
      "metadata": {
        "colab": {
          "base_uri": "https://localhost:8080/"
        },
        "id": "x7JF3TIMN92V",
        "outputId": "64a1604a-1138-4fb4-9f37-bcfa3b086ef0"
      },
      "execution_count": 267,
      "outputs": [
        {
          "output_type": "stream",
          "name": "stdout",
          "text": [
            "Model: \"model_2_USE_feature_extractor\"\n",
            "_________________________________________________________________\n",
            " Layer (type)                Output Shape              Param #   \n",
            "=================================================================\n",
            " input_layer (InputLayer)    [(None,)]                 0         \n",
            "                                                                 \n",
            " universal_sentence_encoder   (None, 512)              256797824 \n",
            " (KerasLayer)                                                    \n",
            "                                                                 \n",
            " dense_15 (Dense)            (None, 128)               65664     \n",
            "                                                                 \n",
            " dense_16 (Dense)            (None, 5)                 645       \n",
            "                                                                 \n",
            "=================================================================\n",
            "Total params: 256,864,133\n",
            "Trainable params: 66,309\n",
            "Non-trainable params: 256,797,824\n",
            "_________________________________________________________________\n"
          ]
        }
      ]
    },
    {
      "cell_type": "code",
      "source": [
        "# fit model to data\n",
        "history_2 = model_2.fit(train_dataset,\n",
        "                        epochs=3,\n",
        "                        steps_per_epoch = int(0.1*len(train_dataset)),\n",
        "                        validation_data = valid_dataset,\n",
        "                        validation_steps = int(0.1*len(valid_dataset)))"
      ],
      "metadata": {
        "colab": {
          "base_uri": "https://localhost:8080/"
        },
        "id": "PUpLX93RSPfs",
        "outputId": "ea3bad05-9376-40b8-e309-5ae1f51fbfdf"
      },
      "execution_count": 268,
      "outputs": [
        {
          "output_type": "stream",
          "name": "stdout",
          "text": [
            "Epoch 1/3\n",
            "562/562 [==============================] - 16s 21ms/step - loss: 0.9124 - accuracy: 0.6503 - val_loss: 0.7972 - val_accuracy: 0.6922\n",
            "Epoch 2/3\n",
            "562/562 [==============================] - 14s 25ms/step - loss: 0.7675 - accuracy: 0.7018 - val_loss: 0.7546 - val_accuracy: 0.7035\n",
            "Epoch 3/3\n",
            "562/562 [==============================] - 8s 13ms/step - loss: 0.7522 - accuracy: 0.7111 - val_loss: 0.7395 - val_accuracy: 0.7124\n"
          ]
        }
      ]
    },
    {
      "cell_type": "code",
      "source": [
        "# evaluate on the validation dataset\n",
        "model_2.evaluate(valid_dataset)"
      ],
      "metadata": {
        "colab": {
          "base_uri": "https://localhost:8080/"
        },
        "id": "7f647oq6TEVB",
        "outputId": "006412de-83cd-4e71-da4d-f48955ddbb3f"
      },
      "execution_count": 269,
      "outputs": [
        {
          "output_type": "stream",
          "name": "stdout",
          "text": [
            "945/945 [==============================] - 22s 23ms/step - loss: 0.7415 - accuracy: 0.7133\n"
          ]
        },
        {
          "output_type": "execute_result",
          "data": {
            "text/plain": [
              "[0.7414682507514954, 0.7133258581161499]"
            ]
          },
          "metadata": {},
          "execution_count": 269
        }
      ]
    },
    {
      "cell_type": "code",
      "source": [
        "# make predictions\n",
        "model_2_pred_probabilities = model_2.predict(valid_dataset)\n",
        "model_2_predictions = tf.argmax(model_2_pred_probabilities, axis=1)"
      ],
      "metadata": {
        "colab": {
          "base_uri": "https://localhost:8080/"
        },
        "id": "Zqr_j4odTNda",
        "outputId": "32e82231-eced-4e97-f8cd-62121af74265"
      },
      "execution_count": 270,
      "outputs": [
        {
          "output_type": "stream",
          "name": "stdout",
          "text": [
            "945/945 [==============================] - 18s 18ms/step\n"
          ]
        }
      ]
    },
    {
      "cell_type": "code",
      "source": [
        "model_2_predictions"
      ],
      "metadata": {
        "colab": {
          "base_uri": "https://localhost:8080/"
        },
        "id": "qxWDe5KUTYvO",
        "outputId": "2764c993-7a7b-498e-809d-a0b739831ab8"
      },
      "execution_count": 271,
      "outputs": [
        {
          "output_type": "execute_result",
          "data": {
            "text/plain": [
              "<tf.Tensor: shape=(30212,), dtype=int64, numpy=array([0, 1, 3, ..., 4, 4, 2])>"
            ]
          },
          "metadata": {},
          "execution_count": 271
        }
      ]
    },
    {
      "cell_type": "code",
      "source": [
        "model_2_results = calculate_results(y_true = val_labels_encoded, y_pred = model_2_predictions)\n",
        "model_2_results"
      ],
      "metadata": {
        "colab": {
          "base_uri": "https://localhost:8080/"
        },
        "id": "26cOBPVATfYI",
        "outputId": "ddc8166a-bb62-4bd8-a158-aeae60628ce0"
      },
      "execution_count": 272,
      "outputs": [
        {
          "output_type": "execute_result",
          "data": {
            "text/plain": [
              "{'accuracy': 71.33258307957104,\n",
              " 'precision': 0.7139683837319878,\n",
              " 'recall': 0.7133258307957103,\n",
              " 'f1': 0.7103841852173886}"
            ]
          },
          "metadata": {},
          "execution_count": 272
        }
      ]
    },
    {
      "cell_type": "code",
      "source": [
        "baseline_results"
      ],
      "metadata": {
        "colab": {
          "base_uri": "https://localhost:8080/"
        },
        "id": "qXey7ZNiTot9",
        "outputId": "b9efb1ea-42c6-4664-f8ae-2f53f752ec5c"
      },
      "execution_count": 66,
      "outputs": [
        {
          "output_type": "execute_result",
          "data": {
            "text/plain": [
              "{'accuracy': 72.1832384482987,\n",
              " 'precision': 0.7186466952323352,\n",
              " 'recall': 0.7218323844829869,\n",
              " 'f1': 0.6989250353450294}"
            ]
          },
          "metadata": {},
          "execution_count": 66
        }
      ]
    },
    {
      "cell_type": "markdown",
      "source": [
        "# Model 3 Conv1D with character embeddings\n",
        "\n",
        "The paper which we're replicating states they used a combination of token and character-level embeddings.\n",
        "Previously we've used token level embeddings but we'll need to do similar steps for characters."
      ],
      "metadata": {
        "id": "1EE1g8cGTpoT"
      }
    },
    {
      "cell_type": "code",
      "source": [
        "train_sentences[:5]"
      ],
      "metadata": {
        "colab": {
          "base_uri": "https://localhost:8080/"
        },
        "id": "s65cP3SRZVWi",
        "outputId": "e897a828-754a-4769-9b6f-862b4cd8bff8"
      },
      "execution_count": 67,
      "outputs": [
        {
          "output_type": "execute_result",
          "data": {
            "text/plain": [
              "['to investigate the efficacy of @ weeks of daily low-dose oral prednisolone in improving pain , mobility , and systemic low-grade inflammation in the short term and whether the effect would be sustained at @ weeks in older adults with moderate to severe knee osteoarthritis ( oa ) .',\n",
              " 'a total of @ patients with primary knee oa were randomized @:@ ; @ received @ mg/day of prednisolone and @ received placebo for @ weeks .',\n",
              " 'outcome measures included pain reduction and improvement in function scores and systemic inflammation markers .',\n",
              " 'pain was assessed using the visual analog pain scale ( @-@ mm ) .',\n",
              " 'secondary outcome measures included the western ontario and mcmaster universities osteoarthritis index scores , patient global assessment ( pga ) of the severity of knee oa , and @-min walk distance ( @mwd ) .']"
            ]
          },
          "metadata": {},
          "execution_count": 67
        }
      ]
    },
    {
      "cell_type": "code",
      "source": [
        "# make function to split sentences into characters"
      ],
      "metadata": {
        "id": "IOJXot1aZWf7"
      },
      "execution_count": 68,
      "outputs": []
    },
    {
      "cell_type": "code",
      "source": [
        "def split_chars(text):\n",
        "  return \" \".join(list(text))"
      ],
      "metadata": {
        "id": "qSJabbZJZgNe"
      },
      "execution_count": 69,
      "outputs": []
    },
    {
      "cell_type": "code",
      "source": [
        "# text splitting non-character-level sequence into characters\n",
        "split_chars(random_train_sentence)"
      ],
      "metadata": {
        "colab": {
          "base_uri": "https://localhost:8080/",
          "height": 72
        },
        "id": "ryZm8YdZZ_Yj",
        "outputId": "b763465d-c6be-45b4-e9ce-9619194788cd"
      },
      "execution_count": 70,
      "outputs": [
        {
          "output_type": "execute_result",
          "data": {
            "text/plain": [
              "'o v e r   h a l f   o f   t h e   c h i l d r e n   i n   e a c h   g r o u p   i m p r o v e d   t h e i r   b m i   z - s c o r e   (   a d j u s t e d   p r o p o r t i o n   d e c r e a s i n g   =   @   %   i n   c o n t r o l   v s .   @   %   i n   i n t e r v e n t i o n   ;   @   %   c i   o f   d i f f e r e n c e   =   - @   - @   )   .'"
            ],
            "application/vnd.google.colaboratory.intrinsic+json": {
              "type": "string"
            }
          },
          "metadata": {},
          "execution_count": 70
        }
      ]
    },
    {
      "cell_type": "code",
      "source": [
        "# split sequence-level data splits into character-level data splits\n",
        "train_chars = [split_chars(sentence) for sentence in train_sentences]\n",
        "\n",
        "val_chars = [split_chars(sentence) for sentence in val_sentences]\n",
        "test_chars = [split_chars(sentence) for sentence in test_sentences]\n"
      ],
      "metadata": {
        "id": "3ku9qS4HaqgU"
      },
      "execution_count": 71,
      "outputs": []
    },
    {
      "cell_type": "code",
      "source": [
        "len(train_chars), len(train_sentences)"
      ],
      "metadata": {
        "colab": {
          "base_uri": "https://localhost:8080/"
        },
        "id": "mmLVjiaJbQS2",
        "outputId": "185845a1-8695-4e2f-d220-59fd1e9b64e7"
      },
      "execution_count": 72,
      "outputs": [
        {
          "output_type": "execute_result",
          "data": {
            "text/plain": [
              "(180040, 180040)"
            ]
          },
          "metadata": {},
          "execution_count": 72
        }
      ]
    },
    {
      "cell_type": "code",
      "source": [
        "# what's the average character length?\n",
        "chars_len = [len(sentence) for sentence in train_sentences]\n",
        "mean_chars_len = np.mean(chars_len)\n",
        "mean_chars_len"
      ],
      "metadata": {
        "colab": {
          "base_uri": "https://localhost:8080/"
        },
        "id": "VtjUItwnbV6H",
        "outputId": "b32ee199-bb01-46f9-cdb6-b46b719f9e2d"
      },
      "execution_count": 73,
      "outputs": [
        {
          "output_type": "execute_result",
          "data": {
            "text/plain": [
              "149.3662574983337"
            ]
          },
          "metadata": {},
          "execution_count": 73
        }
      ]
    },
    {
      "cell_type": "code",
      "source": [
        "# check the distribution of our sequences at a character level\n",
        "import matplotlib.pyplot as plt\n",
        "plt.hist(chars_len, bins=15)"
      ],
      "metadata": {
        "colab": {
          "base_uri": "https://localhost:8080/",
          "height": 409
        },
        "id": "apwRvlmRb9Zp",
        "outputId": "323a445c-4cb5-4820-e62b-16d6aa076bbb"
      },
      "execution_count": 74,
      "outputs": [
        {
          "output_type": "execute_result",
          "data": {
            "text/plain": [
              "(array([4.3065e+04, 8.9738e+04, 3.6231e+04, 8.4400e+03, 1.8710e+03,\n",
              "        4.6700e+02, 1.3900e+02, 4.5000e+01, 2.5000e+01, 1.1000e+01,\n",
              "        3.0000e+00, 2.0000e+00, 2.0000e+00, 0.0000e+00, 1.0000e+00]),\n",
              " array([1.00000000e+00, 9.33333333e+01, 1.85666667e+02, 2.78000000e+02,\n",
              "        3.70333333e+02, 4.62666667e+02, 5.55000000e+02, 6.47333333e+02,\n",
              "        7.39666667e+02, 8.32000000e+02, 9.24333333e+02, 1.01666667e+03,\n",
              "        1.10900000e+03, 1.20133333e+03, 1.29366667e+03, 1.38600000e+03]),\n",
              " <BarContainer object of 15 artists>)"
            ]
          },
          "metadata": {},
          "execution_count": 74
        },
        {
          "output_type": "display_data",
          "data": {
            "text/plain": [
              "<Figure size 432x288 with 1 Axes>"
            ],
            "image/png": "[encoded data removed]"
          },
          "metadata": {
            "needs_background": "light"
          }
        }
      ]
    },
    {
      "cell_type": "code",
      "source": [
        "# find what character lenght covers 95% of sequences\n",
        "output_seq_chars_len = int(np.percentile(chars_len, 95))\n",
        "output_seq_chars_len"
      ],
      "metadata": {
        "colab": {
          "base_uri": "https://localhost:8080/"
        },
        "id": "0oCBItGbcNNK",
        "outputId": "ba0d329e-bc7e-42bc-ba62-64f7c45f4ea5"
      },
      "execution_count": 75,
      "outputs": [
        {
          "output_type": "execute_result",
          "data": {
            "text/plain": [
              "290"
            ]
          },
          "metadata": {},
          "execution_count": 75
        }
      ]
    },
    {
      "cell_type": "code",
      "source": [
        "# get all keyboard characters\n",
        "import string\n",
        "alphabet = string.ascii_lowercase + string.digits + string.punctuation\n",
        "alphabet, len(alphabet)"
      ],
      "metadata": {
        "colab": {
          "base_uri": "https://localhost:8080/"
        },
        "id": "sDzHTt3Ycc5q",
        "outputId": "f6d5528c-1740-4b64-f2e3-d76884ad9cc4"
      },
      "execution_count": 76,
      "outputs": [
        {
          "output_type": "execute_result",
          "data": {
            "text/plain": [
              "('abcdefghijklmnopqrstuvwxyz0123456789!\"#$%&\\'()*+,-./:;<=>?@[\\\\]^_`{|}~', 68)"
            ]
          },
          "metadata": {},
          "execution_count": 76
        }
      ]
    },
    {
      "cell_type": "code",
      "source": [
        "# create char level token vectorizer instance\n",
        "# NUM_CHAR_TOKENS = len(alphabet) + 2 # for space and OOV token\n",
        "\n",
        "NUM_CHAR_TOKENS = 28\n",
        "\n",
        "char_vectorizer = TextVectorization(max_tokens = NUM_CHAR_TOKENS,\n",
        "                                    output_sequence_length = output_seq_chars_len,\n",
        "                                    standardize=\"lower_and_strip_punctuation\",\n",
        "                                    name=\"char_vectorizer\")"
      ],
      "metadata": {
        "id": "ivaT4Iruc_Mq"
      },
      "execution_count": 77,
      "outputs": []
    },
    {
      "cell_type": "code",
      "source": [
        "# adapt vectorizer to training character\n",
        "char_vectorizer.adapt(train_chars)"
      ],
      "metadata": {
        "id": "mCzgB0CsdjKu"
      },
      "execution_count": 78,
      "outputs": []
    },
    {
      "cell_type": "code",
      "source": [
        "\n",
        "# check character vocab stats\n",
        "char_vocab = char_vectorizer.get_vocabulary()\n",
        "print(f\"Number of different characters in character vocab: {len(char_vocab)}.\")\n",
        "\n",
        "print(f\"5 most common characters: \\n{char_vocab[:5]}\")\n",
        "print(f\"5 least common characters: \\n{char_vocab[-5:]}\")"
      ],
      "metadata": {
        "colab": {
          "base_uri": "https://localhost:8080/"
        },
        "id": "s1gio2kpeUb0",
        "outputId": "0c39a0cb-b89d-4f77-8061-c299d0f06cde"
      },
      "execution_count": 79,
      "outputs": [
        {
          "output_type": "stream",
          "name": "stdout",
          "text": [
            "Number of different characters in character vocab: 28.\n",
            "5 most common characters: \n",
            "['', '[UNK]', 'e', 't', 'i']\n",
            "5 least common characters: \n",
            "['k', 'x', 'z', 'q', 'j']\n"
          ]
        }
      ]
    },
    {
      "cell_type": "code",
      "source": [
        "# test out character vectorizer\n",
        "random_train_chars = random.choice(train_chars)\n",
        "print(f\"Charified text:\\n {random_train_chars}\")\n",
        "print(f\"Length of random_train_chars: {len(random_train_chars)}\")\n",
        "vectorized_chars = char_vectorizer([random_train_chars])\n",
        "print(f\"\\Vectorized chars:\\n {vectorized_chars}\")\n",
        "print(f\"\\nLength of vectorized chars: {len(vectorized_chars[0])}\")"
      ],
      "metadata": {
        "colab": {
          "base_uri": "https://localhost:8080/"
        },
        "id": "PGgOP36heS9s",
        "outputId": "39a06794-2d39-4c58-9aa9-17a2364634e1"
      },
      "execution_count": 80,
      "outputs": [
        {
          "output_type": "stream",
          "name": "stdout",
          "text": [
            "Charified text:\n",
            " e a c h   w a s   m o r e   c o m m o n   f o r   a z l i - t r e a t e d   t h a n   f o r   p l a c e b o - t r e a t e d   p a t i e n t s   ,   b u t   t h e   i n c i d e n c e s   w e r e   m o r e   b a l a n c e d   i n   a i r - b x @   .\n",
            "Length of random_train_chars: 247\n",
            "\\Vectorized chars:\n",
            " [[ 2  5 11 13 20  5  9 15  7  8  2 11  7 15 15  7  6 17  7  8  5 25 12  4\n",
            "   3  8  2  5  3  2 10  3 13  5  6 17  7  8 14 12  5 11  2 22  7  3  8  2\n",
            "   5  3  2 10 14  5  3  4  2  6  3  9 22 16  3  3 13  2  4  6 11  4 10  2\n",
            "   6 11  2  9 20  2  8  2 15  7  8  2 22  5 12  5  6 11  2 10  4  6  5  4\n",
            "   8 22 24  0  0  0  0  0  0  0  0  0  0  0  0  0  0  0  0  0  0  0  0  0\n",
            "   0  0  0  0  0  0  0  0  0  0  0  0  0  0  0  0  0  0  0  0  0  0  0  0\n",
            "   0  0  0  0  0  0  0  0  0  0  0  0  0  0  0  0  0  0  0  0  0  0  0  0\n",
            "   0  0  0  0  0  0  0  0  0  0  0  0  0  0  0  0  0  0  0  0  0  0  0  0\n",
            "   0  0  0  0  0  0  0  0  0  0  0  0  0  0  0  0  0  0  0  0  0  0  0  0\n",
            "   0  0  0  0  0  0  0  0  0  0  0  0  0  0  0  0  0  0  0  0  0  0  0  0\n",
            "   0  0  0  0  0  0  0  0  0  0  0  0  0  0  0  0  0  0  0  0  0  0  0  0\n",
            "   0  0  0  0  0  0  0  0  0  0  0  0  0  0  0  0  0  0  0  0  0  0  0  0\n",
            "   0  0]]\n",
            "\n",
            "Length of vectorized chars: 290\n"
          ]
        }
      ]
    },
    {
      "cell_type": "markdown",
      "source": [
        "### creating the character level embedding"
      ],
      "metadata": {
        "id": "EQiXY23nmmDu"
      }
    },
    {
      "cell_type": "code",
      "source": [
        "char_embed = layers.Embedding(input_dim = len(char_vocab), \n",
        "                              output_dim=25, # this is the size of the char embedding in the paper \n",
        "                              mask_zero=True,\n",
        "                              name=\"char_embed\")"
      ],
      "metadata": {
        "id": "kk2TVWi4mlq1"
      },
      "execution_count": 81,
      "outputs": []
    },
    {
      "cell_type": "code",
      "source": [
        "# test our character embedding layer\n",
        "print(f\"Charified text: \\n{random_train_chars}\\n\")\n",
        "char_embed_example = char_embed(char_vectorizer([random_train_chars]))\n",
        "print(f\"Embedded chars (after vectorization and embedding):\\n {char_embed_example}\\n\")\n",
        "print(f\"Char embedding shape: {char_embed_example.shape}\")"
      ],
      "metadata": {
        "colab": {
          "base_uri": "https://localhost:8080/"
        },
        "id": "tOypIF11nmLj",
        "outputId": "09585be4-0379-40fa-b694-83a567eb63fb"
      },
      "execution_count": 82,
      "outputs": [
        {
          "output_type": "stream",
          "name": "stdout",
          "text": [
            "Charified text: \n",
            "e a c h   w a s   m o r e   c o m m o n   f o r   a z l i - t r e a t e d   t h a n   f o r   p l a c e b o - t r e a t e d   p a t i e n t s   ,   b u t   t h e   i n c i d e n c e s   w e r e   m o r e   b a l a n c e d   i n   a i r - b x @   .\n",
            "\n",
            "Embedded chars (after vectorization and embedding):\n",
            " [[[-0.03611907  0.03653845 -0.0464084  ... -0.02220503 -0.04714521\n",
            "   -0.00221573]\n",
            "  [ 0.04033091 -0.00922778  0.02266503 ...  0.04353357  0.00498698\n",
            "   -0.02953365]\n",
            "  [-0.03844124 -0.03017533 -0.01182637 ... -0.00196242  0.03528323\n",
            "    0.00054332]\n",
            "  ...\n",
            "  [-0.02757312 -0.02120078  0.0218229  ...  0.04013754  0.04167247\n",
            "   -0.04875174]\n",
            "  [-0.02757312 -0.02120078  0.0218229  ...  0.04013754  0.04167247\n",
            "   -0.04875174]\n",
            "  [-0.02757312 -0.02120078  0.0218229  ...  0.04013754  0.04167247\n",
            "   -0.04875174]]]\n",
            "\n",
            "Char embedding shape: (1, 290, 25)\n"
          ]
        }
      ]
    },
    {
      "cell_type": "markdown",
      "source": [
        "### Building a Conv1D model to fit on character embeddings"
      ],
      "metadata": {
        "id": "NZ2cOm0wmD6y"
      }
    },
    {
      "cell_type": "code",
      "source": [
        "# Make Conv1D on chars only \n",
        "inputs = layers.Input(shape=(1,), dtype=\"string\")\n",
        "char_vectors = char_vectorizer(inputs)\n",
        "char_embeddings = char_embed(char_vectors)\n",
        "x = layers.Conv1D(64, kernel_size=5, padding=\"same\")(char_embeddings)\n",
        "x = layers.GlobalMaxPooling1D()(x)\n",
        "outputs = layers.Dense(num_classes, activation=\"softmax\")(x)\n",
        "model_3 = tf.keras.Model(inputs, outputs, name=\"model_3_conv1D_character_embedding\")\n",
        "\n",
        "model_3.compile(loss=\"categorical_crossentropy\",\n",
        "                optimizer = \"Adam\",\n",
        "                metrics=[\"accuracy\"])\n",
        "\n",
        "model_3.summary()\n"
      ],
      "metadata": {
        "colab": {
          "base_uri": "https://localhost:8080/"
        },
        "id": "s_BLE3rbeBLH",
        "outputId": "5b0b8c0d-ddfc-490c-854e-41cf0a19bdcc"
      },
      "execution_count": 83,
      "outputs": [
        {
          "output_type": "stream",
          "name": "stdout",
          "text": [
            "Model: \"model_3_conv1D_character_embedding\"\n",
            "_________________________________________________________________\n",
            " Layer (type)                Output Shape              Param #   \n",
            "=================================================================\n",
            " input_2 (InputLayer)        [(None, 1)]               0         \n",
            "                                                                 \n",
            " char_vectorizer (TextVector  (None, 290)              0         \n",
            " ization)                                                        \n",
            "                                                                 \n",
            " char_embed (Embedding)      (None, 290, 25)           700       \n",
            "                                                                 \n",
            " conv1d_1 (Conv1D)           (None, 290, 64)           8064      \n",
            "                                                                 \n",
            " global_max_pooling1d (Globa  (None, 64)               0         \n",
            " lMaxPooling1D)                                                  \n",
            "                                                                 \n",
            " dense_3 (Dense)             (None, 5)                 325       \n",
            "                                                                 \n",
            "=================================================================\n",
            "Total params: 9,089\n",
            "Trainable params: 9,089\n",
            "Non-trainable params: 0\n",
            "_________________________________________________________________\n"
          ]
        }
      ]
    },
    {
      "cell_type": "markdown",
      "source": [
        "## optimizing the dataset for character embedding"
      ],
      "metadata": {
        "id": "CHehDlHgokLr"
      }
    },
    {
      "cell_type": "code",
      "source": [
        "# create char level datasets\n",
        "train_char_dataset = tf.data.Dataset.from_tensor_slices((train_chars, train_labels_one_hot)).batch(32).prefetch(tf.data.AUTOTUNE)\n",
        "test_char_dataset = tf.data.Dataset.from_tensor_slices((test_chars, test_labels_one_hot)).batch(32).prefetch(tf.data.AUTOTUNE)\n",
        "val_char_dataset = tf.data.Dataset.from_tensor_slices((val_chars, val_labels_one_hot)).batch(32).prefetch(tf.data.AUTOTUNE)"
      ],
      "metadata": {
        "id": "wGNqpnFlp1eE"
      },
      "execution_count": 84,
      "outputs": []
    },
    {
      "cell_type": "code",
      "source": [
        "train_char_dataset"
      ],
      "metadata": {
        "colab": {
          "base_uri": "https://localhost:8080/"
        },
        "id": "bVGwVwNZp_ao",
        "outputId": "9ff7e712-6766-4610-abd8-1c96955a47fe"
      },
      "execution_count": 85,
      "outputs": [
        {
          "output_type": "execute_result",
          "data": {
            "text/plain": [
              "<PrefetchDataset element_spec=(TensorSpec(shape=(None,), dtype=tf.string, name=None), TensorSpec(shape=(None, 5), dtype=tf.float64, name=None))>"
            ]
          },
          "metadata": {},
          "execution_count": 85
        }
      ]
    },
    {
      "cell_type": "code",
      "source": [
        "model_3_history = model_3.fit(train_char_dataset,\n",
        "                              epochs=3,\n",
        "                              steps_per_epoch = int(0.1* len(train_char_dataset)),\n",
        "                              validation_data = val_char_dataset,\n",
        "                              validation_steps = int(0.1* len(val_char_dataset)))"
      ],
      "metadata": {
        "colab": {
          "base_uri": "https://localhost:8080/"
        },
        "id": "Qw3tagOvqNn1",
        "outputId": "85fa4a68-cf70-4518-ef8c-d1302779a459"
      },
      "execution_count": 86,
      "outputs": [
        {
          "output_type": "stream",
          "name": "stdout",
          "text": [
            "Epoch 1/3\n",
            "562/562 [==============================] - 6s 8ms/step - loss: 1.2543 - accuracy: 0.4804 - val_loss: 1.0320 - val_accuracy: 0.5854\n",
            "Epoch 2/3\n",
            "562/562 [==============================] - 3s 5ms/step - loss: 1.0033 - accuracy: 0.6002 - val_loss: 0.9477 - val_accuracy: 0.6230\n",
            "Epoch 3/3\n",
            "562/562 [==============================] - 3s 5ms/step - loss: 0.9294 - accuracy: 0.6343 - val_loss: 0.8812 - val_accuracy: 0.6543\n"
          ]
        }
      ]
    },
    {
      "cell_type": "code",
      "source": [
        "model_3.evaluate(val_char_dataset)"
      ],
      "metadata": {
        "colab": {
          "base_uri": "https://localhost:8080/"
        },
        "id": "ZcKwEHaOqrFq",
        "outputId": "c430fb5b-72ab-4e3d-e8ab-cb6021c6c2de"
      },
      "execution_count": 87,
      "outputs": [
        {
          "output_type": "stream",
          "name": "stdout",
          "text": [
            "945/945 [==============================] - 3s 4ms/step - loss: 0.8907 - accuracy: 0.6478\n"
          ]
        },
        {
          "output_type": "execute_result",
          "data": {
            "text/plain": [
              "[0.8907458782196045, 0.6478220820426941]"
            ]
          },
          "metadata": {},
          "execution_count": 87
        }
      ]
    },
    {
      "cell_type": "markdown",
      "source": [
        "* the evaluate result with `AveragePooling` was 0.4044"
      ],
      "metadata": {
        "id": "8u7VpwENq0Eh"
      }
    },
    {
      "cell_type": "code",
      "source": [
        "model_3_pred_probs = model_3.predict(val_char_dataset)\n",
        "model_3_pred_probs"
      ],
      "metadata": {
        "colab": {
          "base_uri": "https://localhost:8080/"
        },
        "id": "Bzz0jDM1rDto",
        "outputId": "14e0c7d6-e4f6-4c6b-9500-602148b990b5"
      },
      "execution_count": 88,
      "outputs": [
        {
          "output_type": "stream",
          "name": "stdout",
          "text": [
            "945/945 [==============================] - 4s 4ms/step\n"
          ]
        },
        {
          "output_type": "execute_result",
          "data": {
            "text/plain": [
              "array([[0.18706855, 0.49268723, 0.10472395, 0.15391949, 0.06160079],\n",
              "       [0.28023052, 0.45518574, 0.01150254, 0.16674784, 0.08633341],\n",
              "       [0.05185432, 0.19184744, 0.20739824, 0.33133578, 0.21756427],\n",
              "       ...,\n",
              "       [0.01686641, 0.04234302, 0.05611521, 0.02828759, 0.8563878 ],\n",
              "       [0.01430657, 0.05351798, 0.40586954, 0.02272253, 0.50358343],\n",
              "       [0.3648369 , 0.4794913 , 0.04736958, 0.08929162, 0.01901053]],\n",
              "      dtype=float32)"
            ]
          },
          "metadata": {},
          "execution_count": 88
        }
      ]
    },
    {
      "cell_type": "code",
      "source": [
        "model_3_predictions = tf.argmax(model_3_pred_probs, axis=1)\n",
        "model_3_predictions[:5]"
      ],
      "metadata": {
        "colab": {
          "base_uri": "https://localhost:8080/"
        },
        "id": "2of-4KkcrHvM",
        "outputId": "42a63cf7-0b46-46b5-f2aa-583af8193c10"
      },
      "execution_count": 89,
      "outputs": [
        {
          "output_type": "execute_result",
          "data": {
            "text/plain": [
              "<tf.Tensor: shape=(5,), dtype=int64, numpy=array([1, 1, 3, 2, 2])>"
            ]
          },
          "metadata": {},
          "execution_count": 89
        }
      ]
    },
    {
      "cell_type": "code",
      "source": [
        "# Calculate the results\n",
        "model_3_results = calculate_results(y_true = val_labels_encoded, y_pred = model_3_predictions)\n",
        "model_3_results"
      ],
      "metadata": {
        "colab": {
          "base_uri": "https://localhost:8080/"
        },
        "id": "PWBIlYjorSGI",
        "outputId": "81fd2635-7639-424a-b59f-656519aad03c"
      },
      "execution_count": 90,
      "outputs": [
        {
          "output_type": "execute_result",
          "data": {
            "text/plain": [
              "{'accuracy': 64.78220574606117,\n",
              " 'precision': 0.6360671467932839,\n",
              " 'recall': 0.6478220574606117,\n",
              " 'f1': 0.6381664434705605}"
            ]
          },
          "metadata": {},
          "execution_count": 90
        }
      ]
    },
    {
      "cell_type": "code",
      "source": [
        "baseline_results"
      ],
      "metadata": {
        "colab": {
          "base_uri": "https://localhost:8080/"
        },
        "id": "qLWRHKoarhH-",
        "outputId": "a358858f-399e-4e57-87a6-dd27db6ae719"
      },
      "execution_count": 91,
      "outputs": [
        {
          "output_type": "execute_result",
          "data": {
            "text/plain": [
              "{'accuracy': 72.1832384482987,\n",
              " 'precision': 0.7186466952323352,\n",
              " 'recall': 0.7218323844829869,\n",
              " 'f1': 0.6989250353450294}"
            ]
          },
          "metadata": {},
          "execution_count": 91
        }
      ]
    },
    {
      "cell_type": "markdown",
      "source": [
        "* This is our worst results so far."
      ],
      "metadata": {
        "id": "dUaAT4fYrtvB"
      }
    },
    {
      "cell_type": "markdown",
      "source": [
        "\n",
        "# Model 4 - Combining a pretrained token embeddings + character embeddings (hybrid)\n",
        "1. create a token-level embedding (similar to `model_1`)\n",
        "2. create a character-level embedding (similar to `model_3` with a slight modification)\n",
        "3. combine 1 & 2 with a concantenate (`layers.Concatenate`)\n",
        "4. build a series of output layers on top of 3 similar to Fig1  and section 4.2 of https://arxiv.org/pdf/1612.05251.pdf\n",
        "5. Construct a model which takes token and character-level sequences as input and produces sequence level probabilities as output. \n",
        "\n",
        "- **Drop out** means removing randomly removing some of the weights from the patterns."
      ],
      "metadata": {
        "id": "ZRYsVZuOsPTn"
      }
    },
    {
      "cell_type": "code",
      "source": [
        "# 1. set up the token inputs/model\n",
        "token_inputs = layers.Input(shape=[], dtype=tf.string, name=\"token_input\")\n",
        "token_embeddings = tf_hub_embedding_layer(token_inputs)\n",
        "token_output = layers.Dense(128, activation=\"relu\")(token_embeddings) # the paper used 300\n",
        "token_model = tf.keras.Model(token_inputs, token_output, name=\"token_model\")\n",
        "\n"
      ],
      "metadata": {
        "id": "nB-fwSmQvaXI"
      },
      "execution_count": 92,
      "outputs": []
    },
    {
      "cell_type": "code",
      "source": [
        "# 2. set up character level inputs/models\n",
        "char_inputs = layers.Input(shape=(1,), dtype=\"string\", name=\"char_input\")\n",
        "char_vectors = char_vectorizer(char_inputs)\n",
        "char_embeddings = char_embed(char_vectors)\n",
        "# using 24 because it's a multiple of 8, when it doubles, it's 48, although the paper is 50\n",
        "char_bi_lstm = layers.Bidirectional(layers.LSTM(24))(char_embeddings) # bi-LSTM shown in Figure 1 of https://arxiv.org/pdf/1612.05251.pdf\n",
        "char_model = tf.keras.Model(char_inputs, char_bi_lstm, name=\"char_model\")"
      ],
      "metadata": {
        "id": "-goOgbgewiCJ"
      },
      "execution_count": 93,
      "outputs": []
    },
    {
      "cell_type": "code",
      "source": [
        "# 3 concantenate token and char inputs to get hybrid embedding\n",
        "\n",
        "token_char_concat = layers.Concatenate(name=\"token_char_hybrid\")(\n",
        "    [token_model.output, char_model.output])"
      ],
      "metadata": {
        "id": "HToGa6Xlw_nq"
      },
      "execution_count": 94,
      "outputs": []
    },
    {
      "cell_type": "code",
      "source": [
        "# 4 create output layers adding in drop out, which is discussed in the paper\n",
        "combined_dropout = layers.Dropout(0.5)(token_char_concat)\n",
        "combined_dense = layers.Dense(128, activation=\"relu\")(combined_dropout)\n",
        "final_dropout = layers.Dropout(0.5)(combined_dense)\n",
        "output_layer = layers.Dense(num_classes, activation=\"softmax\")(final_dropout)"
      ],
      "metadata": {
        "id": "SnFVpW0wx1dF"
      },
      "execution_count": 95,
      "outputs": []
    },
    {
      "cell_type": "code",
      "source": [
        "# 5 construct model\n",
        "model_4 = tf.keras.Model(inputs=[token_model.input, char_model.input],\n",
        "                         outputs=output_layer,\n",
        "                         name=\"model_4_token_and_char_embeddings\")"
      ],
      "metadata": {
        "id": "dGBAsRySy5BI"
      },
      "execution_count": 96,
      "outputs": []
    },
    {
      "cell_type": "code",
      "source": [
        "model_4.summary()"
      ],
      "metadata": {
        "colab": {
          "base_uri": "https://localhost:8080/"
        },
        "id": "MOT84xNizLp8",
        "outputId": "846855f5-3144-43ff-8f34-e115d547f9e3"
      },
      "execution_count": 97,
      "outputs": [
        {
          "output_type": "stream",
          "name": "stdout",
          "text": [
            "Model: \"model_4_token_and_char_embeddings\"\n",
            "__________________________________________________________________________________________________\n",
            " Layer (type)                   Output Shape         Param #     Connected to                     \n",
            "==================================================================================================\n",
            " char_input (InputLayer)        [(None, 1)]          0           []                               \n",
            "                                                                                                  \n",
            " token_input (InputLayer)       [(None,)]            0           []                               \n",
            "                                                                                                  \n",
            " char_vectorizer (TextVectoriza  (None, 290)         0           ['char_input[0][0]']             \n",
            " tion)                                                                                            \n",
            "                                                                                                  \n",
            " universal_sentence_encoder (Ke  (None, 512)         256797824   ['token_input[0][0]']            \n",
            " rasLayer)                                                                                        \n",
            "                                                                                                  \n",
            " char_embed (Embedding)         (None, 290, 25)      700         ['char_vectorizer[1][0]']        \n",
            "                                                                                                  \n",
            " dense_4 (Dense)                (None, 128)          65664       ['universal_sentence_encoder[1][0\n",
            "                                                                 ]']                              \n",
            "                                                                                                  \n",
            " bidirectional (Bidirectional)  (None, 48)           9600        ['char_embed[1][0]']             \n",
            "                                                                                                  \n",
            " token_char_hybrid (Concatenate  (None, 176)         0           ['dense_4[0][0]',                \n",
            " )                                                                'bidirectional[0][0]']          \n",
            "                                                                                                  \n",
            " dropout (Dropout)              (None, 176)          0           ['token_char_hybrid[0][0]']      \n",
            "                                                                                                  \n",
            " dense_5 (Dense)                (None, 128)          22656       ['dropout[0][0]']                \n",
            "                                                                                                  \n",
            " dropout_1 (Dropout)            (None, 128)          0           ['dense_5[0][0]']                \n",
            "                                                                                                  \n",
            " dense_6 (Dense)                (None, 5)            645         ['dropout_1[0][0]']              \n",
            "                                                                                                  \n",
            "==================================================================================================\n",
            "Total params: 256,897,089\n",
            "Trainable params: 99,265\n",
            "Non-trainable params: 256,797,824\n",
            "__________________________________________________________________________________________________\n"
          ]
        }
      ]
    },
    {
      "cell_type": "code",
      "source": [
        "# plot the hybrid model\n",
        "from keras.utils import plot_model\n",
        "plot_model(model_4, show_shapes=True)"
      ],
      "metadata": {
        "colab": {
          "base_uri": "https://localhost:8080/",
          "height": 976
        },
        "id": "DfCCMsgH0Vb-",
        "outputId": "f6b37d93-3ac3-4462-cfa4-44c570db336a"
      },
      "execution_count": 98,
      "outputs": [
        {
          "output_type": "execute_result",
          "data": {
            "image/png": "[encoded data removed]",
            "text/plain": [
              "<IPython.core.display.Image object>"
            ]
          },
          "metadata": {},
          "execution_count": 98
        }
      ]
    },
    {
      "cell_type": "markdown",
      "source": [
        "https://medium.com/airbnb-engineering/widetext-a-multimodal-deep-learning-framework-31ce2565880c\n",
        "\n",
        "You can combine models with different inputs - text, image, etc and concantenate all these inputs into a bigger model.\n"
      ],
      "metadata": {
        "id": "saYUoNmC0oIf"
      }
    },
    {
      "cell_type": "code",
      "source": [
        "# Compile token char model\n",
        "model_4.compile(loss=\"categorical_crossentropy\", optimizer=\"Adam\", metrics=\"accuracy\")"
      ],
      "metadata": {
        "id": "Mv_IaoL21mHV"
      },
      "execution_count": 99,
      "outputs": []
    },
    {
      "cell_type": "code",
      "source": [],
      "metadata": {
        "id": "1EubPsM71uGP"
      },
      "execution_count": 99,
      "outputs": []
    },
    {
      "cell_type": "markdown",
      "source": [
        "### Combining token and char data into a tf.data.Dataset"
      ],
      "metadata": {
        "id": "ikh4Wu_03hZb"
      }
    },
    {
      "cell_type": "code",
      "source": [
        "# create the Training and Validation datasets to fit and evaluates...\n",
        "\n",
        "train_hybrid_data = tf.data.Dataset.from_tensor_slices((train_sentences, train_chars))\n",
        "train_hybrid_labels = tf.data.Dataset.from_tensor_slices(train_labels_one_hot)\n",
        "train_hybrid_dataset = tf.data.Dataset.zip((train_hybrid_data, train_hybrid_labels))\n",
        "# prefetch and batch train data\n",
        "train_hybrid_dataset = train_hybrid_dataset.batch(32).prefetch(tf.data.AUTOTUNE)\n",
        "\n",
        "                "
      ],
      "metadata": {
        "id": "gI_gqDfg2lH6"
      },
      "execution_count": 100,
      "outputs": []
    },
    {
      "cell_type": "code",
      "source": [
        "# validation data and test data\n",
        "\n",
        "val_hybrid_data = tf.data.Dataset.from_tensor_slices((val_sentences, val_chars))\n",
        "val_hybrid_labels = tf.data.Dataset.from_tensor_slices(val_labels_one_hot)\n",
        "val_hybrid_dataset = tf.data.Dataset.zip((val_hybrid_data, val_hybrid_labels))\n",
        "# prefetch and batch train data\n",
        "val_hybrid_dataset = val_hybrid_dataset.batch(32).prefetch(tf.data.AUTOTUNE)\n",
        "\n",
        "\n",
        "test_hybrid_data = tf.data.Dataset.from_tensor_slices((test_sentences, test_chars))\n",
        "test_hybrid_labels = tf.data.Dataset.from_tensor_slices(test_labels_one_hot)\n",
        "test_hybrid_dataset = tf.data.Dataset.zip((test_hybrid_data, test_hybrid_labels))\n",
        "# prefetch and batch train data\n",
        "test_hybrid_dataset = test_hybrid_dataset.batch(32).prefetch(tf.data.AUTOTUNE)\n",
        "\n",
        "                "
      ],
      "metadata": {
        "id": "iOee9Va_7q69"
      },
      "execution_count": 101,
      "outputs": []
    },
    {
      "cell_type": "code",
      "source": [
        "# check out our training char and token embedding dataset\n",
        "train_hybrid_dataset, val_hybrid_dataset, test_hybrid_dataset"
      ],
      "metadata": {
        "colab": {
          "base_uri": "https://localhost:8080/"
        },
        "id": "eRMtpaj28UUt",
        "outputId": "a033abe9-4d40-4f51-a001-e53f77bf01e3"
      },
      "execution_count": 102,
      "outputs": [
        {
          "output_type": "execute_result",
          "data": {
            "text/plain": [
              "(<PrefetchDataset element_spec=((TensorSpec(shape=(None,), dtype=tf.string, name=None), TensorSpec(shape=(None,), dtype=tf.string, name=None)), TensorSpec(shape=(None, 5), dtype=tf.float64, name=None))>,\n",
              " <PrefetchDataset element_spec=((TensorSpec(shape=(None,), dtype=tf.string, name=None), TensorSpec(shape=(None,), dtype=tf.string, name=None)), TensorSpec(shape=(None, 5), dtype=tf.float64, name=None))>,\n",
              " <PrefetchDataset element_spec=((TensorSpec(shape=(None,), dtype=tf.string, name=None), TensorSpec(shape=(None,), dtype=tf.string, name=None)), TensorSpec(shape=(None, 5), dtype=tf.float64, name=None))>)"
            ]
          },
          "metadata": {},
          "execution_count": 102
        }
      ]
    },
    {
      "cell_type": "markdown",
      "source": [
        "* Note the order of these two"
      ],
      "metadata": {
        "id": "m695MEu88lHq"
      }
    },
    {
      "cell_type": "code",
      "source": [
        "# fit the model\n",
        "history_4 = model_4.fit(train_hybrid_dataset,\n",
        "                        epochs=3,\n",
        "                        steps_per_epoch = int(0.1*len(train_hybrid_dataset)),\n",
        "                        validation_data = val_hybrid_dataset, \n",
        "                        validation_steps= int(0.1* len(val_hybrid_dataset)))"
      ],
      "metadata": {
        "colab": {
          "base_uri": "https://localhost:8080/"
        },
        "id": "CKf3StKq83hr",
        "outputId": "2f10b21f-345a-464a-e98a-ab70a1290d29"
      },
      "execution_count": 103,
      "outputs": [
        {
          "output_type": "stream",
          "name": "stdout",
          "text": [
            "Epoch 1/3\n",
            "562/562 [==============================] - 57s 80ms/step - loss: 0.9853 - accuracy: 0.6084 - val_loss: 0.7884 - val_accuracy: 0.6938\n",
            "Epoch 2/3\n",
            "562/562 [==============================] - 27s 48ms/step - loss: 0.8019 - accuracy: 0.6919 - val_loss: 0.7128 - val_accuracy: 0.7314\n",
            "Epoch 3/3\n",
            "562/562 [==============================] - 27s 47ms/step - loss: 0.7742 - accuracy: 0.7052 - val_loss: 0.6863 - val_accuracy: 0.7420\n"
          ]
        }
      ]
    },
    {
      "cell_type": "code",
      "source": [
        "# Evaluate on the model's performance"
      ],
      "metadata": {
        "id": "EyRDafhf-CD6"
      },
      "execution_count": 104,
      "outputs": []
    },
    {
      "cell_type": "code",
      "source": [
        "model_4.evaluate(val_hybrid_dataset)"
      ],
      "metadata": {
        "colab": {
          "base_uri": "https://localhost:8080/"
        },
        "id": "WTOkJTY89gMM",
        "outputId": "320e18a7-f4c6-4f9d-ab60-f1b94076d712"
      },
      "execution_count": 105,
      "outputs": [
        {
          "output_type": "stream",
          "name": "stdout",
          "text": [
            "945/945 [==============================] - 19s 20ms/step - loss: 0.6900 - accuracy: 0.7370\n"
          ]
        },
        {
          "output_type": "execute_result",
          "data": {
            "text/plain": [
              "[0.690005362033844, 0.7369919419288635]"
            ]
          },
          "metadata": {},
          "execution_count": 105
        }
      ]
    },
    {
      "cell_type": "code",
      "source": [
        "model_4_preds_probs = model_4.predict(val_hybrid_dataset)\n",
        "model_4_predictions = tf.argmax(model_4_preds_probs, axis=1)"
      ],
      "metadata": {
        "colab": {
          "base_uri": "https://localhost:8080/"
        },
        "id": "yfeMQFGb9x5X",
        "outputId": "38748c37-7759-4de2-c6ea-8b9fcea686c4"
      },
      "execution_count": 106,
      "outputs": [
        {
          "output_type": "stream",
          "name": "stdout",
          "text": [
            "945/945 [==============================] - 19s 18ms/step\n"
          ]
        }
      ]
    },
    {
      "cell_type": "code",
      "source": [
        "model_2_results, baseline_results"
      ],
      "metadata": {
        "colab": {
          "base_uri": "https://localhost:8080/"
        },
        "id": "kRZUweXl95Ef",
        "outputId": "f3e0d449-d42e-4a35-d0f4-7995c82a4f02"
      },
      "execution_count": 107,
      "outputs": [
        {
          "output_type": "execute_result",
          "data": {
            "text/plain": [
              "({'accuracy': 71.1008870647425,\n",
              "  'precision': 0.7116904030858666,\n",
              "  'recall': 0.7110088706474249,\n",
              "  'f1': 0.7082095112165708},\n",
              " {'accuracy': 72.1832384482987,\n",
              "  'precision': 0.7186466952323352,\n",
              "  'recall': 0.7218323844829869,\n",
              "  'f1': 0.6989250353450294})"
            ]
          },
          "metadata": {},
          "execution_count": 107
        }
      ]
    },
    {
      "cell_type": "code",
      "source": [
        "model_4_results = calculate_results(y_true = val_labels_encoded,\n",
        "                                    y_pred = model_4_predictions)\n"
      ],
      "metadata": {
        "id": "tXqxmvX297LP"
      },
      "execution_count": 108,
      "outputs": []
    },
    {
      "cell_type": "code",
      "source": [
        "model_4_results"
      ],
      "metadata": {
        "colab": {
          "base_uri": "https://localhost:8080/"
        },
        "id": "brzZIZWn-neA",
        "outputId": "70d21040-a781-40a9-b351-41584d7d4f29"
      },
      "execution_count": 109,
      "outputs": [
        {
          "output_type": "execute_result",
          "data": {
            "text/plain": [
              "{'accuracy': 73.69919237389117,\n",
              " 'precision': 0.7379795846922165,\n",
              " 'recall': 0.7369919237389116,\n",
              " 'f1': 0.7337047367721872}"
            ]
          },
          "metadata": {},
          "execution_count": 109
        }
      ]
    },
    {
      "cell_type": "markdown",
      "source": [
        "# Model 5 with pre-trained token embedding + character embeddings + positional embedding"
      ],
      "metadata": {
        "id": "S0wY7mzXGZL-"
      }
    },
    {
      "cell_type": "markdown",
      "source": [
        "## Feature Engineering\n",
        "(using label sequence optimizer layer)\n",
        "\n",
        "- Taking **non-obvious** features from the data and encodding them numerically to help our model learn.\n",
        "\n",
        "- Data augmentation is a form of feature engineering. If we know that the same image rotated, shifted, etc is still the same image, we're injecting our domain knowledge into the problem to help the model learn.\n",
        "\n",
        "- Note that engineered features need to be available at test time."
      ],
      "metadata": {
        "id": "dMWbdRk8Fsjw"
      }
    },
    {
      "cell_type": "code",
      "source": [
        "train_df.head()"
      ],
      "metadata": {
        "colab": {
          "base_uri": "https://localhost:8080/",
          "height": 206
        },
        "id": "8IDZbtQBF4mN",
        "outputId": "68df627f-5b11-478b-9c88-25b412324132"
      },
      "execution_count": 110,
      "outputs": [
        {
          "output_type": "execute_result",
          "data": {
            "text/plain": [
              "      target                                               text  line_number  \\\n",
              "0  OBJECTIVE  to investigate the efficacy of @ weeks of dail...            0   \n",
              "1    METHODS  a total of @ patients with primary knee oa wer...            1   \n",
              "2    METHODS  outcome measures included pain reduction and i...            2   \n",
              "3    METHODS  pain was assessed using the visual analog pain...            3   \n",
              "4    METHODS  secondary outcome measures included the wester...            4   \n",
              "\n",
              "   total_lines  \n",
              "0           11  \n",
              "1           11  \n",
              "2           11  \n",
              "3           11  \n",
              "4           11  "
            ],
            "text/html": [
              "\n",
              "  <div id=\"df-610437a7-e291-4bb7-932e-9e2af87d9a8e\">\n",
              "    <div class=\"colab-df-container\">\n",
              "      <div>\n",
              "<style scoped>\n",
              "    .dataframe tbody tr th:only-of-type {\n",
              "        vertical-align: middle;\n",
              "    }\n",
              "\n",
              "    .dataframe tbody tr th {\n",
              "        vertical-align: top;\n",
              "    }\n",
              "\n",
              "    .dataframe thead th {\n",
              "        text-align: right;\n",
              "    }\n",
              "</style>\n",
              "<table border=\"1\" class=\"dataframe\">\n",
              "  <thead>\n",
              "    <tr style=\"text-align: right;\">\n",
              "      <th></th>\n",
              "      <th>target</th>\n",
              "      <th>text</th>\n",
              "      <th>line_number</th>\n",
              "      <th>total_lines</th>\n",
              "    </tr>\n",
              "  </thead>\n",
              "  <tbody>\n",
              "    <tr>\n",
              "      <th>0</th>\n",
              "      <td>OBJECTIVE</td>\n",
              "      <td>to investigate the efficacy of @ weeks of dail...</td>\n",
              "      <td>0</td>\n",
              "      <td>11</td>\n",
              "    </tr>\n",
              "    <tr>\n",
              "      <th>1</th>\n",
              "      <td>METHODS</td>\n",
              "      <td>a total of @ patients with primary knee oa wer...</td>\n",
              "      <td>1</td>\n",
              "      <td>11</td>\n",
              "    </tr>\n",
              "    <tr>\n",
              "      <th>2</th>\n",
              "      <td>METHODS</td>\n",
              "      <td>outcome measures included pain reduction and i...</td>\n",
              "      <td>2</td>\n",
              "      <td>11</td>\n",
              "    </tr>\n",
              "    <tr>\n",
              "      <th>3</th>\n",
              "      <td>METHODS</td>\n",
              "      <td>pain was assessed using the visual analog pain...</td>\n",
              "      <td>3</td>\n",
              "      <td>11</td>\n",
              "    </tr>\n",
              "    <tr>\n",
              "      <th>4</th>\n",
              "      <td>METHODS</td>\n",
              "      <td>secondary outcome measures included the wester...</td>\n",
              "      <td>4</td>\n",
              "      <td>11</td>\n",
              "    </tr>\n",
              "  </tbody>\n",
              "</table>\n",
              "</div>\n",
              "      <button class=\"colab-df-convert\" onclick=\"convertToInteractive('df-610437a7-e291-4bb7-932e-9e2af87d9a8e')\"\n",
              "              title=\"Convert this dataframe to an interactive table.\"\n",
              "              style=\"display:none;\">\n",
              "        \n",
              "  <svg xmlns=\"http://www.w3.org/2000/svg\" height=\"24px\"viewBox=\"0 0 24 24\"\n",
              "       width=\"24px\">\n",
              "    <path d=\"M0 0h24v24H0V0z\" fill=\"none\"/>\n",
              "    <path d=\"M18.56 5.44l.94 2.06.94-2.06 2.06-.94-2.06-.94-.94-2.06-.94 2.06-2.06.94zm-11 1L8.5 8.5l.94-2.06 2.06-.94-2.06-.94L8.5 2.5l-.94 2.06-2.06.94zm10 10l.94 2.06.94-2.06 2.06-.94-2.06-.94-.94-2.06-.94 2.06-2.06.94z\"/><path d=\"M17.41 7.96l-1.37-1.37c-.4-.4-.92-.59-1.43-.59-.52 0-1.04.2-1.43.59L10.3 9.45l-7.72 7.72c-.78.78-.78 2.05 0 2.83L4 21.41c.39.39.9.59 1.41.59.51 0 1.02-.2 1.41-.59l7.78-7.78 2.81-2.81c.8-.78.8-2.07 0-2.86zM5.41 20L4 18.59l7.72-7.72 1.47 1.35L5.41 20z\"/>\n",
              "  </svg>\n",
              "      </button>\n",
              "      \n",
              "  <style>\n",
              "    .colab-df-container {\n",
              "      display:flex;\n",
              "      flex-wrap:wrap;\n",
              "      gap: 12px;\n",
              "    }\n",
              "\n",
              "    .colab-df-convert {\n",
              "      background-color: #E8F0FE;\n",
              "      border: none;\n",
              "      border-radius: 50%;\n",
              "      cursor: pointer;\n",
              "      display: none;\n",
              "      fill: #1967D2;\n",
              "      height: 32px;\n",
              "      padding: 0 0 0 0;\n",
              "      width: 32px;\n",
              "    }\n",
              "\n",
              "    .colab-df-convert:hover {\n",
              "      background-color: #E2EBFA;\n",
              "      box-shadow: 0px 1px 2px rgba(60, 64, 67, 0.3), 0px 1px 3px 1px rgba(60, 64, 67, 0.15);\n",
              "      fill: #174EA6;\n",
              "    }\n",
              "\n",
              "    [theme=dark] .colab-df-convert {\n",
              "      background-color: #3B4455;\n",
              "      fill: #D2E3FC;\n",
              "    }\n",
              "\n",
              "    [theme=dark] .colab-df-convert:hover {\n",
              "      background-color: #434B5C;\n",
              "      box-shadow: 0px 1px 3px 1px rgba(0, 0, 0, 0.15);\n",
              "      filter: drop-shadow(0px 1px 2px rgba(0, 0, 0, 0.3));\n",
              "      fill: #FFFFFF;\n",
              "    }\n",
              "  </style>\n",
              "\n",
              "      <script>\n",
              "        const buttonEl =\n",
              "          document.querySelector('#df-610437a7-e291-4bb7-932e-9e2af87d9a8e button.colab-df-convert');\n",
              "        buttonEl.style.display =\n",
              "          google.colab.kernel.accessAllowed ? 'block' : 'none';\n",
              "\n",
              "        async function convertToInteractive(key) {\n",
              "          const element = document.querySelector('#df-610437a7-e291-4bb7-932e-9e2af87d9a8e');\n",
              "          const dataTable =\n",
              "            await google.colab.kernel.invokeFunction('convertToInteractive',\n",
              "                                                     [key], {});\n",
              "          if (!dataTable) return;\n",
              "\n",
              "          const docLinkHtml = 'Like what you see? Visit the ' +\n",
              "            '<a target=\"_blank\" href=https://colab.research.google.com/notebooks/data_table.ipynb>data table notebook</a>'\n",
              "            + ' to learn more about interactive tables.';\n",
              "          element.innerHTML = '';\n",
              "          dataTable['output_type'] = 'display_data';\n",
              "          await google.colab.output.renderOutput(dataTable, element);\n",
              "          const docLink = document.createElement('div');\n",
              "          docLink.innerHTML = docLinkHtml;\n",
              "          element.appendChild(docLink);\n",
              "        }\n",
              "      </script>\n",
              "    </div>\n",
              "  </div>\n",
              "  "
            ]
          },
          "metadata": {},
          "execution_count": 110
        }
      ]
    },
    {
      "cell_type": "markdown",
      "source": [
        "* We want to find a way to encode line_number and total_lines into positional embedding\n",
        "\n",
        "* Create a dataset for line_number/total_lines vs labels..."
      ],
      "metadata": {
        "id": "ZytdgNjnGw4O"
      }
    },
    {
      "cell_type": "code",
      "source": [
        "test_df.head()"
      ],
      "metadata": {
        "colab": {
          "base_uri": "https://localhost:8080/",
          "height": 206
        },
        "id": "lzneLic1HCOV",
        "outputId": "035ba8b9-56c7-403b-c3e1-b299ac40695a"
      },
      "execution_count": 111,
      "outputs": [
        {
          "output_type": "execute_result",
          "data": {
            "text/plain": [
              "       target                                               text  line_number  \\\n",
              "0  BACKGROUND  this study analyzed liver function abnormaliti...            0   \n",
              "1     RESULTS  a post hoc analysis was conducted with the use...            1   \n",
              "2     RESULTS  liver function tests ( lfts ) were measured at...            2   \n",
              "3     RESULTS  survival analyses were used to assess the asso...            3   \n",
              "4     RESULTS  the percentage of patients with abnormal lfts ...            4   \n",
              "\n",
              "   total_lines  \n",
              "0            8  \n",
              "1            8  \n",
              "2            8  \n",
              "3            8  \n",
              "4            8  "
            ],
            "text/html": [
              "\n",
              "  <div id=\"df-6bc90592-7955-4d82-afdd-49b3508a9c38\">\n",
              "    <div class=\"colab-df-container\">\n",
              "      <div>\n",
              "<style scoped>\n",
              "    .dataframe tbody tr th:only-of-type {\n",
              "        vertical-align: middle;\n",
              "    }\n",
              "\n",
              "    .dataframe tbody tr th {\n",
              "        vertical-align: top;\n",
              "    }\n",
              "\n",
              "    .dataframe thead th {\n",
              "        text-align: right;\n",
              "    }\n",
              "</style>\n",
              "<table border=\"1\" class=\"dataframe\">\n",
              "  <thead>\n",
              "    <tr style=\"text-align: right;\">\n",
              "      <th></th>\n",
              "      <th>target</th>\n",
              "      <th>text</th>\n",
              "      <th>line_number</th>\n",
              "      <th>total_lines</th>\n",
              "    </tr>\n",
              "  </thead>\n",
              "  <tbody>\n",
              "    <tr>\n",
              "      <th>0</th>\n",
              "      <td>BACKGROUND</td>\n",
              "      <td>this study analyzed liver function abnormaliti...</td>\n",
              "      <td>0</td>\n",
              "      <td>8</td>\n",
              "    </tr>\n",
              "    <tr>\n",
              "      <th>1</th>\n",
              "      <td>RESULTS</td>\n",
              "      <td>a post hoc analysis was conducted with the use...</td>\n",
              "      <td>1</td>\n",
              "      <td>8</td>\n",
              "    </tr>\n",
              "    <tr>\n",
              "      <th>2</th>\n",
              "      <td>RESULTS</td>\n",
              "      <td>liver function tests ( lfts ) were measured at...</td>\n",
              "      <td>2</td>\n",
              "      <td>8</td>\n",
              "    </tr>\n",
              "    <tr>\n",
              "      <th>3</th>\n",
              "      <td>RESULTS</td>\n",
              "      <td>survival analyses were used to assess the asso...</td>\n",
              "      <td>3</td>\n",
              "      <td>8</td>\n",
              "    </tr>\n",
              "    <tr>\n",
              "      <th>4</th>\n",
              "      <td>RESULTS</td>\n",
              "      <td>the percentage of patients with abnormal lfts ...</td>\n",
              "      <td>4</td>\n",
              "      <td>8</td>\n",
              "    </tr>\n",
              "  </tbody>\n",
              "</table>\n",
              "</div>\n",
              "      <button class=\"colab-df-convert\" onclick=\"convertToInteractive('df-6bc90592-7955-4d82-afdd-49b3508a9c38')\"\n",
              "              title=\"Convert this dataframe to an interactive table.\"\n",
              "              style=\"display:none;\">\n",
              "        \n",
              "  <svg xmlns=\"http://www.w3.org/2000/svg\" height=\"24px\"viewBox=\"0 0 24 24\"\n",
              "       width=\"24px\">\n",
              "    <path d=\"M0 0h24v24H0V0z\" fill=\"none\"/>\n",
              "    <path d=\"M18.56 5.44l.94 2.06.94-2.06 2.06-.94-2.06-.94-.94-2.06-.94 2.06-2.06.94zm-11 1L8.5 8.5l.94-2.06 2.06-.94-2.06-.94L8.5 2.5l-.94 2.06-2.06.94zm10 10l.94 2.06.94-2.06 2.06-.94-2.06-.94-.94-2.06-.94 2.06-2.06.94z\"/><path d=\"M17.41 7.96l-1.37-1.37c-.4-.4-.92-.59-1.43-.59-.52 0-1.04.2-1.43.59L10.3 9.45l-7.72 7.72c-.78.78-.78 2.05 0 2.83L4 21.41c.39.39.9.59 1.41.59.51 0 1.02-.2 1.41-.59l7.78-7.78 2.81-2.81c.8-.78.8-2.07 0-2.86zM5.41 20L4 18.59l7.72-7.72 1.47 1.35L5.41 20z\"/>\n",
              "  </svg>\n",
              "      </button>\n",
              "      \n",
              "  <style>\n",
              "    .colab-df-container {\n",
              "      display:flex;\n",
              "      flex-wrap:wrap;\n",
              "      gap: 12px;\n",
              "    }\n",
              "\n",
              "    .colab-df-convert {\n",
              "      background-color: #E8F0FE;\n",
              "      border: none;\n",
              "      border-radius: 50%;\n",
              "      cursor: pointer;\n",
              "      display: none;\n",
              "      fill: #1967D2;\n",
              "      height: 32px;\n",
              "      padding: 0 0 0 0;\n",
              "      width: 32px;\n",
              "    }\n",
              "\n",
              "    .colab-df-convert:hover {\n",
              "      background-color: #E2EBFA;\n",
              "      box-shadow: 0px 1px 2px rgba(60, 64, 67, 0.3), 0px 1px 3px 1px rgba(60, 64, 67, 0.15);\n",
              "      fill: #174EA6;\n",
              "    }\n",
              "\n",
              "    [theme=dark] .colab-df-convert {\n",
              "      background-color: #3B4455;\n",
              "      fill: #D2E3FC;\n",
              "    }\n",
              "\n",
              "    [theme=dark] .colab-df-convert:hover {\n",
              "      background-color: #434B5C;\n",
              "      box-shadow: 0px 1px 3px 1px rgba(0, 0, 0, 0.15);\n",
              "      filter: drop-shadow(0px 1px 2px rgba(0, 0, 0, 0.3));\n",
              "      fill: #FFFFFF;\n",
              "    }\n",
              "  </style>\n",
              "\n",
              "      <script>\n",
              "        const buttonEl =\n",
              "          document.querySelector('#df-6bc90592-7955-4d82-afdd-49b3508a9c38 button.colab-df-convert');\n",
              "        buttonEl.style.display =\n",
              "          google.colab.kernel.accessAllowed ? 'block' : 'none';\n",
              "\n",
              "        async function convertToInteractive(key) {\n",
              "          const element = document.querySelector('#df-6bc90592-7955-4d82-afdd-49b3508a9c38');\n",
              "          const dataTable =\n",
              "            await google.colab.kernel.invokeFunction('convertToInteractive',\n",
              "                                                     [key], {});\n",
              "          if (!dataTable) return;\n",
              "\n",
              "          const docLinkHtml = 'Like what you see? Visit the ' +\n",
              "            '<a target=\"_blank\" href=https://colab.research.google.com/notebooks/data_table.ipynb>data table notebook</a>'\n",
              "            + ' to learn more about interactive tables.';\n",
              "          element.innerHTML = '';\n",
              "          dataTable['output_type'] = 'display_data';\n",
              "          await google.colab.output.renderOutput(dataTable, element);\n",
              "          const docLink = document.createElement('div');\n",
              "          docLink.innerHTML = docLinkHtml;\n",
              "          element.appendChild(docLink);\n",
              "        }\n",
              "      </script>\n",
              "    </div>\n",
              "  </div>\n",
              "  "
            ]
          },
          "metadata": {},
          "execution_count": 111
        }
      ]
    },
    {
      "cell_type": "markdown",
      "source": [
        "## Create a positional embedding"
      ],
      "metadata": {
        "id": "3XCpdyBqHOHc"
      }
    },
    {
      "cell_type": "code",
      "source": [
        "# how many line numbers are there?\n",
        "train_df[\"line_number\"].value_counts(), train_df[\"total_lines\"].value_counts()"
      ],
      "metadata": {
        "colab": {
          "base_uri": "https://localhost:8080/"
        },
        "id": "KN0jMPHmIGss",
        "outputId": "f5827807-cf76-4868-b194-83389093801b"
      },
      "execution_count": 112,
      "outputs": [
        {
          "output_type": "execute_result",
          "data": {
            "text/plain": [
              "(0     15000\n",
              " 1     15000\n",
              " 2     15000\n",
              " 3     15000\n",
              " 4     14992\n",
              " 5     14949\n",
              " 6     14758\n",
              " 7     14279\n",
              " 8     13346\n",
              " 9     11981\n",
              " 10    10041\n",
              " 11     7892\n",
              " 12     5853\n",
              " 13     4152\n",
              " 14     2835\n",
              " 15     1861\n",
              " 16     1188\n",
              " 17      751\n",
              " 18      462\n",
              " 19      286\n",
              " 20      162\n",
              " 21      101\n",
              " 22       66\n",
              " 23       33\n",
              " 24       22\n",
              " 25       14\n",
              " 26        7\n",
              " 27        4\n",
              " 28        3\n",
              " 29        1\n",
              " 30        1\n",
              " Name: line_number, dtype: int64, 11    24468\n",
              " 10    23639\n",
              " 12    22113\n",
              " 9     19400\n",
              " 13    18438\n",
              " 14    14610\n",
              " 8     12285\n",
              " 15    10768\n",
              " 7      7464\n",
              " 16     7429\n",
              " 17     5202\n",
              " 6      3353\n",
              " 18     3344\n",
              " 19     2480\n",
              " 20     1281\n",
              " 5      1146\n",
              " 21      770\n",
              " 22      759\n",
              " 23      264\n",
              " 4       215\n",
              " 24      200\n",
              " 25      182\n",
              " 26       81\n",
              " 28       58\n",
              " 3        32\n",
              " 30       31\n",
              " 27       28\n",
              " Name: total_lines, dtype: int64)"
            ]
          },
          "metadata": {},
          "execution_count": 112
        }
      ]
    },
    {
      "cell_type": "code",
      "source": [
        "train_df.line_number.plot.hist()"
      ],
      "metadata": {
        "colab": {
          "base_uri": "https://localhost:8080/",
          "height": 283
        },
        "id": "LcgN3Rn2ILbh",
        "outputId": "78559d2d-a062-4fbe-a061-0716d56046d8"
      },
      "execution_count": 113,
      "outputs": [
        {
          "output_type": "execute_result",
          "data": {
            "text/plain": [
              "<AxesSubplot:ylabel='Frequency'>"
            ]
          },
          "metadata": {},
          "execution_count": 113
        },
        {
          "output_type": "display_data",
          "data": {
            "text/plain": [
              "<Figure size 432x288 with 1 Axes>"
            ],
            "image/png": "[encoded data removed]"
          },
          "metadata": {
            "needs_background": "light"
          }
        }
      ]
    },
    {
      "cell_type": "code",
      "source": [
        "# Use Tensorflow to create one-hot encoded tensors of our \"line number\" column\n",
        "train_line_numbers_one_hot = tf.one_hot(train_df[\"line_number\"].to_numpy(), depth=15)\n",
        "test_line_numbers_one_hot = tf.one_hot(test_df[\"line_number\"].to_numpy(), depth=15)\n",
        "val_line_numbers_one_hot = tf.one_hot(val_df[\"line_number\"].to_numpy(), depth=15)"
      ],
      "metadata": {
        "id": "mkYTGfBZIsTG"
      },
      "execution_count": 114,
      "outputs": []
    },
    {
      "cell_type": "code",
      "source": [
        "train_line_numbers_one_hot[:10], train_line_numbers_one_hot.shape"
      ],
      "metadata": {
        "colab": {
          "base_uri": "https://localhost:8080/"
        },
        "id": "2FK7GlynJ-le",
        "outputId": "d4ac2dd0-d842-4371-a0de-cd79dfb7bcaf"
      },
      "execution_count": 115,
      "outputs": [
        {
          "output_type": "execute_result",
          "data": {
            "text/plain": [
              "(<tf.Tensor: shape=(10, 15), dtype=float32, numpy=\n",
              " array([[1., 0., 0., 0., 0., 0., 0., 0., 0., 0., 0., 0., 0., 0., 0.],\n",
              "        [0., 1., 0., 0., 0., 0., 0., 0., 0., 0., 0., 0., 0., 0., 0.],\n",
              "        [0., 0., 1., 0., 0., 0., 0., 0., 0., 0., 0., 0., 0., 0., 0.],\n",
              "        [0., 0., 0., 1., 0., 0., 0., 0., 0., 0., 0., 0., 0., 0., 0.],\n",
              "        [0., 0., 0., 0., 1., 0., 0., 0., 0., 0., 0., 0., 0., 0., 0.],\n",
              "        [0., 0., 0., 0., 0., 1., 0., 0., 0., 0., 0., 0., 0., 0., 0.],\n",
              "        [0., 0., 0., 0., 0., 0., 1., 0., 0., 0., 0., 0., 0., 0., 0.],\n",
              "        [0., 0., 0., 0., 0., 0., 0., 1., 0., 0., 0., 0., 0., 0., 0.],\n",
              "        [0., 0., 0., 0., 0., 0., 0., 0., 1., 0., 0., 0., 0., 0., 0.],\n",
              "        [0., 0., 0., 0., 0., 0., 0., 0., 0., 1., 0., 0., 0., 0., 0.]],\n",
              "       dtype=float32)>, TensorShape([180040, 15]))"
            ]
          },
          "metadata": {},
          "execution_count": 115
        }
      ]
    },
    {
      "cell_type": "code",
      "source": [
        "(train_df[\"total_lines\"]).plot.hist()"
      ],
      "metadata": {
        "colab": {
          "base_uri": "https://localhost:8080/",
          "height": 285
        },
        "id": "f20HBmL0JInh",
        "outputId": "b389bd05-70e7-415d-c727-ef9c36329503"
      },
      "execution_count": 116,
      "outputs": [
        {
          "output_type": "execute_result",
          "data": {
            "text/plain": [
              "<AxesSubplot:ylabel='Frequency'>"
            ]
          },
          "metadata": {},
          "execution_count": 116
        },
        {
          "output_type": "display_data",
          "data": {
            "text/plain": [
              "<Figure size 432x288 with 1 Axes>"
            ],
            "image/png": "[encoded data removed]"
          },
          "metadata": {
            "needs_background": "light"
          }
        }
      ]
    },
    {
      "cell_type": "code",
      "source": [
        "# check the coverag of a \"total_lines\" value of 20\n",
        "np.percentile(train_df.total_lines, 98)"
      ],
      "metadata": {
        "colab": {
          "base_uri": "https://localhost:8080/"
        },
        "id": "2MVVXKgIKZY2",
        "outputId": "feb84554-3bf3-4fca-bc62-874bcd0a0bcb"
      },
      "execution_count": 117,
      "outputs": [
        {
          "output_type": "execute_result",
          "data": {
            "text/plain": [
              "20.0"
            ]
          },
          "metadata": {},
          "execution_count": 117
        }
      ]
    },
    {
      "cell_type": "code",
      "source": [
        "# use tensorflow to create one-hot encoded tensors of our \"total_line\" feature\n",
        "train_total_line_one_hot = tf.one_hot(train_df[\"total_lines\"].to_numpy(), depth=20)\n",
        "val_total_line_one_hot = tf.one_hot(val_df[\"total_lines\"].to_numpy(), depth=20)\n",
        "test_total_line_one_hot = tf.one_hot(test_df[\"total_lines\"].to_numpy(), depth=20)\n"
      ],
      "metadata": {
        "id": "sDSdXutcK27E"
      },
      "execution_count": 118,
      "outputs": []
    },
    {
      "cell_type": "code",
      "source": [
        "train_total_line_one_hot[:2]"
      ],
      "metadata": {
        "colab": {
          "base_uri": "https://localhost:8080/"
        },
        "id": "hJ0zmXk_LKeR",
        "outputId": "973a7fd1-20b6-4dc6-c14c-2cdcdaa6ee40"
      },
      "execution_count": 119,
      "outputs": [
        {
          "output_type": "execute_result",
          "data": {
            "text/plain": [
              "<tf.Tensor: shape=(2, 20), dtype=float32, numpy=\n",
              "array([[0., 0., 0., 0., 0., 0., 0., 0., 0., 0., 0., 1., 0., 0., 0., 0.,\n",
              "        0., 0., 0., 0.],\n",
              "       [0., 0., 0., 0., 0., 0., 0., 0., 0., 0., 0., 1., 0., 0., 0., 0.,\n",
              "        0., 0., 0., 0.]], dtype=float32)>"
            ]
          },
          "metadata": {},
          "execution_count": 119
        }
      ]
    },
    {
      "cell_type": "markdown",
      "source": [
        "## Building a tribid embedding model\n",
        "\n",
        "1. create a token level model\n",
        "2. create a character-level model\n",
        "3. create a '`line number`' model\n",
        "4. create a `total_lines` feature\n",
        "5. combine the outputs of 1 & 2 using `tf.keras.layers.concantenate`\n",
        "6. combine the outputs of 3, 4 & 5 using `tf.keras.layers.concantenate`.\n",
        "7. create an output layer to accept the tribid embedding and output label probabilities\n",
        "8. combine the inputs of 1, 2, 3, 4 and output of 7 into a `tf.keras.Model`\n",
        "\n"
      ],
      "metadata": {
        "id": "M1n2akOnLMbA"
      }
    },
    {
      "cell_type": "code",
      "source": [
        "# 1. token inputs\n",
        "token_inputs = layers.Input(shape=[], dtype=\"string\", name = \"token_inputs\")\n",
        "x = tf_hub_embedding_layer(token_inputs)\n",
        "x = layers.Dense(128, activation=\"relu\")(x)\n",
        "token_model = tf.keras.Model(token_inputs, x, name=\"token_model\")\n",
        "\n",
        "# 2. char inputs\n",
        "char_inputs = layers.Input(shape=(1,), dtype=\"string\", name=\"char_inputs\")\n",
        "x = char_vectorizer(char_inputs)\n",
        "x = char_embed(x)\n",
        "x = layers.Bidirectional(layers.LSTM(24))(x)\n",
        "char_model = tf.keras.Model(char_inputs, x, name=\"char_model\")"
      ],
      "metadata": {
        "id": "ODmgru5RMaD4"
      },
      "execution_count": 120,
      "outputs": []
    },
    {
      "cell_type": "code",
      "source": [
        "# 3. line number model\n",
        "line_number_inputs = layers.Input(shape=(15,), dtype=\"float32\", name=\"line_number_inputs\")\n",
        "x = layers.Dense(32, activation=\"relu\")(line_number_inputs)\n",
        "line_number_model = tf.keras.Model(line_number_inputs, x, name=\"line_number_model\")\n"
      ],
      "metadata": {
        "id": "-Klwpe3oNAjd"
      },
      "execution_count": 121,
      "outputs": []
    },
    {
      "cell_type": "code",
      "source": [
        "# 4. total line  model\n",
        "total_line_inputs = layers.Input(shape=(20,), dtype=\"float32\", name=\"total_number_inputs\")\n",
        "y = layers.Dense(32, activation=\"relu\")(total_line_inputs)\n",
        "total_line_model = tf.keras.Model(total_line_inputs, y, name=\"line_number_model\")\n",
        "\n",
        "\n"
      ],
      "metadata": {
        "id": "GwgCvzIhNeER"
      },
      "execution_count": 122,
      "outputs": []
    },
    {
      "cell_type": "code",
      "source": [
        "# 5. combine the outputs of 1 & 2\n",
        "z = layers.Concatenate(name=\"char_token_hybrid_embedding\")([token_model.output, char_model.output])\n",
        "\n",
        "# dropout \n",
        "z = layers.Dense(256, activation=\"relu\")(z)\n",
        "combined_embeddings = layers.Dropout(0.5)(z)"
      ],
      "metadata": {
        "id": "QA-3WL5vNe6q"
      },
      "execution_count": 123,
      "outputs": []
    },
    {
      "cell_type": "code",
      "source": [
        "# 6. combine the outputs of \n",
        "tribid_embeddings = layers.Concatenate(name=\"tribid_embedding\")(\n",
        "    [line_number_model.output, total_line_model.output, combined_embeddings]\n",
        ")"
      ],
      "metadata": {
        "id": "Xjq-eOO4N0mb"
      },
      "execution_count": 124,
      "outputs": []
    },
    {
      "cell_type": "code",
      "source": [
        "# 7. create output layer\n",
        "\n",
        "output_layer = layers.Dense(5, activation=\"softmax\", name=\"output_layer\")(tribid_embeddings)"
      ],
      "metadata": {
        "id": "NBPXYN-B4sv5"
      },
      "execution_count": 125,
      "outputs": []
    },
    {
      "cell_type": "code",
      "source": [
        "# 8. create the model\n",
        "model_5 = tf.keras.Model(inputs=[line_number_model.input,\n",
        "                                 total_line_model.input,\n",
        "                                 token_model.input,\n",
        "                                 char_model.input], \n",
        "                         outputs=output_layer,\n",
        "                         name=\"model_5_tribid_embedding_model\")"
      ],
      "metadata": {
        "id": "uKxmzMdU40Rw"
      },
      "execution_count": 126,
      "outputs": []
    },
    {
      "cell_type": "code",
      "source": [
        "# get a summary of our model\n",
        "model_5.summary()"
      ],
      "metadata": {
        "colab": {
          "base_uri": "https://localhost:8080/"
        },
        "id": "rwiowoKS534Z",
        "outputId": "35c1bcc7-1c4f-4ef9-cf7f-9b775f9adec1"
      },
      "execution_count": 127,
      "outputs": [
        {
          "output_type": "stream",
          "name": "stdout",
          "text": [
            "Model: \"model_5_tribid_embedding_model\"\n",
            "__________________________________________________________________________________________________\n",
            " Layer (type)                   Output Shape         Param #     Connected to                     \n",
            "==================================================================================================\n",
            " char_inputs (InputLayer)       [(None, 1)]          0           []                               \n",
            "                                                                                                  \n",
            " token_inputs (InputLayer)      [(None,)]            0           []                               \n",
            "                                                                                                  \n",
            " char_vectorizer (TextVectoriza  (None, 290)         0           ['char_inputs[0][0]']            \n",
            " tion)                                                                                            \n",
            "                                                                                                  \n",
            " universal_sentence_encoder (Ke  (None, 512)         256797824   ['token_inputs[0][0]']           \n",
            " rasLayer)                                                                                        \n",
            "                                                                                                  \n",
            " char_embed (Embedding)         (None, 290, 25)      700         ['char_vectorizer[2][0]']        \n",
            "                                                                                                  \n",
            " dense_7 (Dense)                (None, 128)          65664       ['universal_sentence_encoder[2][0\n",
            "                                                                 ]']                              \n",
            "                                                                                                  \n",
            " bidirectional_1 (Bidirectional  (None, 48)          9600        ['char_embed[2][0]']             \n",
            " )                                                                                                \n",
            "                                                                                                  \n",
            " char_token_hybrid_embedding (C  (None, 176)         0           ['dense_7[0][0]',                \n",
            " oncatenate)                                                      'bidirectional_1[0][0]']        \n",
            "                                                                                                  \n",
            " line_number_inputs (InputLayer  [(None, 15)]        0           []                               \n",
            " )                                                                                                \n",
            "                                                                                                  \n",
            " total_number_inputs (InputLaye  [(None, 20)]        0           []                               \n",
            " r)                                                                                               \n",
            "                                                                                                  \n",
            " dense_10 (Dense)               (None, 256)          45312       ['char_token_hybrid_embedding[0][\n",
            "                                                                 0]']                             \n",
            "                                                                                                  \n",
            " dense_8 (Dense)                (None, 32)           512         ['line_number_inputs[0][0]']     \n",
            "                                                                                                  \n",
            " dense_9 (Dense)                (None, 32)           672         ['total_number_inputs[0][0]']    \n",
            "                                                                                                  \n",
            " dropout_2 (Dropout)            (None, 256)          0           ['dense_10[0][0]']               \n",
            "                                                                                                  \n",
            " tribid_embedding (Concatenate)  (None, 320)         0           ['dense_8[0][0]',                \n",
            "                                                                  'dense_9[0][0]',                \n",
            "                                                                  'dropout_2[0][0]']              \n",
            "                                                                                                  \n",
            " output_layer (Dense)           (None, 5)            1605        ['tribid_embedding[0][0]']       \n",
            "                                                                                                  \n",
            "==================================================================================================\n",
            "Total params: 256,921,889\n",
            "Trainable params: 124,065\n",
            "Non-trainable params: 256,797,824\n",
            "__________________________________________________________________________________________________\n"
          ]
        }
      ]
    },
    {
      "cell_type": "code",
      "source": [
        "from keras.utils import plot_model\n",
        "plot_model(model_5, show_shapes=True)"
      ],
      "metadata": {
        "colab": {
          "base_uri": "https://localhost:8080/",
          "height": 976
        },
        "id": "MxVsKJq06GYu",
        "outputId": "aeb16812-9e75-43a6-8338-bf8d6b717779"
      },
      "execution_count": 128,
      "outputs": [
        {
          "output_type": "execute_result",
          "data": {
            "image/png": "[encoded data removed]",
            "text/plain": [
              "<IPython.core.display.Image object>"
            ]
          },
          "metadata": {},
          "execution_count": 128
        }
      ]
    },
    {
      "cell_type": "code",
      "source": [
        "# Compile token, char and positional embedding model \n",
        "model_5.compile(loss=tf.keras.losses.CategoricalCrossentropy(label_smoothing=0.2),\n",
        "                optimizer=\"Adam\",\n",
        "                metrics=\"accuracy\")\n",
        "\n",
        "# labels smoothening helps to prevent overfitting"
      ],
      "metadata": {
        "id": "Dpf715aT6KHK"
      },
      "execution_count": 129,
      "outputs": []
    },
    {
      "cell_type": "markdown",
      "source": [
        "### What is label smoothing?\n",
        "\n",
        "if our nmodel gets too confident on a single class (e.g. its prediction probability is really high), it may get stuck on that class and may not consider other classes...\n",
        "\n",
        "Really confident -> `[0.0, 0.0, 1.0, 0.0, 0.0]`\n",
        "\n",
        "What label smoothing does - it assigns some of the value from teh highest pred prob to the other classes, hopefully improving generalization....\n",
        "\n",
        "Post-smoothing -> `[0.01, 0.01, 0.96, 0.01, 0.01]`\n",
        "\n",
        "For more on label smoothing, see this blog post https://pyimagesearch.com/2019/12/30/label-smoothing-with-keras-tensorflow-and-deep-learning/\n",
        "\n"
      ],
      "metadata": {
        "id": "tdjexO0r8Jxr"
      }
    },
    {
      "cell_type": "markdown",
      "source": [
        "## Creating a dataset for model_5"
      ],
      "metadata": {
        "id": "lWZFy2p88_0q"
      }
    },
    {
      "cell_type": "code",
      "source": [
        "tribid_data = tf.data.Dataset.from_tensor_slices((train_line_numbers_one_hot,\n",
        "                                                    train_total_line_one_hot,\n",
        "                                                    train_sentences,\n",
        "                                                    train_chars))\n",
        "tribid_labels = tf.data.Dataset.from_tensor_slices(train_labels_one_hot)\n",
        "train_tribid_dataset = tf.data.Dataset.zip((tribid_data, tribid_labels))\n",
        "train_tribid_dataset = train_tribid_dataset.batch(32).prefetch(tf.data.AUTOTUNE)\n",
        "\n"
      ],
      "metadata": {
        "id": "lCbTjUsm-P9H"
      },
      "execution_count": 130,
      "outputs": []
    },
    {
      "cell_type": "code",
      "source": [
        "tribid_data = tf.data.Dataset.from_tensor_slices((val_line_numbers_one_hot,\n",
        "                                                    val_total_line_one_hot,\n",
        "                                                    val_sentences,\n",
        "                                                    val_chars))\n",
        "tribid_labels = tf.data.Dataset.from_tensor_slices(val_labels_one_hot)\n",
        "val_tribid_dataset = tf.data.Dataset.zip((tribid_data, tribid_labels))\n",
        "val_tribid_dataset = val_tribid_dataset.batch(32).prefetch(tf.data.AUTOTUNE)\n",
        "\n",
        "\n",
        "tribid_data = tf.data.Dataset.from_tensor_slices((test_line_numbers_one_hot,\n",
        "                                                    test_total_line_one_hot,\n",
        "                                                    test_sentences,\n",
        "                                                    test_chars))\n",
        "tribid_labels = tf.data.Dataset.from_tensor_slices(test_labels_one_hot)\n",
        "test_tribid_dataset = tf.data.Dataset.zip((tribid_data, tribid_labels))\n",
        "test_tribid_dataset = test_tribid_dataset.batch(32).prefetch(tf.data.AUTOTUNE)"
      ],
      "metadata": {
        "id": "uFe6xExuhMSn"
      },
      "execution_count": 131,
      "outputs": []
    },
    {
      "cell_type": "code",
      "source": [
        "train_tribid_dataset, val_tribid_dataset, test_tribid_dataset"
      ],
      "metadata": {
        "id": "32THM5TMCGqx",
        "colab": {
          "base_uri": "https://localhost:8080/"
        },
        "outputId": "6c5f0fa6-866b-41a2-90bf-dba890651494"
      },
      "execution_count": 132,
      "outputs": [
        {
          "output_type": "execute_result",
          "data": {
            "text/plain": [
              "(<PrefetchDataset element_spec=((TensorSpec(shape=(None, 15), dtype=tf.float32, name=None), TensorSpec(shape=(None, 20), dtype=tf.float32, name=None), TensorSpec(shape=(None,), dtype=tf.string, name=None), TensorSpec(shape=(None,), dtype=tf.string, name=None)), TensorSpec(shape=(None, 5), dtype=tf.float64, name=None))>,\n",
              " <PrefetchDataset element_spec=((TensorSpec(shape=(None, 15), dtype=tf.float32, name=None), TensorSpec(shape=(None, 20), dtype=tf.float32, name=None), TensorSpec(shape=(None,), dtype=tf.string, name=None), TensorSpec(shape=(None,), dtype=tf.string, name=None)), TensorSpec(shape=(None, 5), dtype=tf.float64, name=None))>,\n",
              " <PrefetchDataset element_spec=((TensorSpec(shape=(None, 15), dtype=tf.float32, name=None), TensorSpec(shape=(None, 20), dtype=tf.float32, name=None), TensorSpec(shape=(None,), dtype=tf.string, name=None), TensorSpec(shape=(None,), dtype=tf.string, name=None)), TensorSpec(shape=(None, 5), dtype=tf.float64, name=None))>)"
            ]
          },
          "metadata": {},
          "execution_count": 132
        }
      ]
    },
    {
      "cell_type": "code",
      "source": [
        "train_tribid_dataset"
      ],
      "metadata": {
        "colab": {
          "base_uri": "https://localhost:8080/"
        },
        "id": "IXD7-o5KkaG9",
        "outputId": "6572ef89-c6a4-437b-eb85-590b495014b9"
      },
      "execution_count": 133,
      "outputs": [
        {
          "output_type": "execute_result",
          "data": {
            "text/plain": [
              "<PrefetchDataset element_spec=((TensorSpec(shape=(None, 15), dtype=tf.float32, name=None), TensorSpec(shape=(None, 20), dtype=tf.float32, name=None), TensorSpec(shape=(None,), dtype=tf.string, name=None), TensorSpec(shape=(None,), dtype=tf.string, name=None)), TensorSpec(shape=(None, 5), dtype=tf.float64, name=None))>"
            ]
          },
          "metadata": {},
          "execution_count": 133
        }
      ]
    },
    {
      "cell_type": "code",
      "source": [
        "history_5 = model_5.fit(train_tribid_dataset,\n",
        "                        epochs=3,\n",
        "                        steps_per_epoch = int(0.1*len(train_tribid_dataset)),\n",
        "                        validation_data = val_tribid_dataset,\n",
        "                        validation_steps = int(0.05*len(val_tribid_dataset)))"
      ],
      "metadata": {
        "colab": {
          "base_uri": "https://localhost:8080/"
        },
        "id": "TbiBb4AJigZO",
        "outputId": "3f740337-6d38-42d4-cb24-98b2d5b6e841"
      },
      "execution_count": 134,
      "outputs": [
        {
          "output_type": "stream",
          "name": "stdout",
          "text": [
            "Epoch 1/3\n",
            "562/562 [==============================] - 41s 53ms/step - loss: 1.0958 - accuracy: 0.7270 - val_loss: 0.9885 - val_accuracy: 0.7979\n",
            "Epoch 2/3\n",
            "562/562 [==============================] - 26s 46ms/step - loss: 0.9679 - accuracy: 0.8155 - val_loss: 0.9575 - val_accuracy: 0.8231\n",
            "Epoch 3/3\n",
            "562/562 [==============================] - 23s 41ms/step - loss: 0.9498 - accuracy: 0.8237 - val_loss: 0.9484 - val_accuracy: 0.8251\n"
          ]
        }
      ]
    },
    {
      "cell_type": "code",
      "source": [
        "model_5_pred_probs = model_5.predict(val_tribid_dataset, verbose=1)"
      ],
      "metadata": {
        "colab": {
          "base_uri": "https://localhost:8080/"
        },
        "id": "WQDWeQsJiyU1",
        "outputId": "8e100101-af14-46f7-d37c-f1a2a6d287c6"
      },
      "execution_count": 135,
      "outputs": [
        {
          "output_type": "stream",
          "name": "stdout",
          "text": [
            "945/945 [==============================] - 23s 21ms/step\n"
          ]
        }
      ]
    },
    {
      "cell_type": "code",
      "source": [
        "# Calculate results\n",
        "\n",
        "model_5_predictions = tf.argmax(model_5_pred_probs, axis=1)\n",
        "model_5_results = calculate_results(y_true=val_labels_encoded, \n",
        "                                    y_pred=model_5_predictions)"
      ],
      "metadata": {
        "id": "qa2EXJxYlzrr"
      },
      "execution_count": 136,
      "outputs": []
    },
    {
      "cell_type": "markdown",
      "source": [
        "# Compare model results"
      ],
      "metadata": {
        "id": "RTELQ7T6o7Ut"
      }
    },
    {
      "cell_type": "code",
      "source": [
        "# combine model results into dictionary\n",
        "all_model_results = pd.DataFrame({\"model_0_baseline\": baseline_results,\n",
        "                                 \"model_1_custom_token_embedding\": model_1_results, \n",
        "                                 \"model_2_pretrained_token_embedding\": model_2_results,\n",
        "                                 \"model_3_char_embedding\": model_3_results,\n",
        "                                 \"model_4_hybrid_char_token_embedding\": model_4_results,\n",
        "                                 \"model_5_tribid_char_token_position_embedding\": model_5_results})\n",
        "\n",
        "all_model_results = all_model_results.transpose()\n",
        "\n",
        "all_model_results[\"accuracy\"] = all_model_results[\"accuracy\"]/100\n",
        "all_model_results"
      ],
      "metadata": {
        "colab": {
          "base_uri": "https://localhost:8080/",
          "height": 237
        },
        "id": "f7fjffxao-Xd",
        "outputId": "59cf8b59-cc99-421e-e9b1-483fd38f42ba"
      },
      "execution_count": 137,
      "outputs": [
        {
          "output_type": "execute_result",
          "data": {
            "text/plain": [
              "                                              accuracy  precision    recall  \\\n",
              "model_0_baseline                              0.721832   0.718647  0.721832   \n",
              "model_1_custom_token_embedding                0.785449   0.782865  0.785449   \n",
              "model_2_pretrained_token_embedding            0.711009   0.711690  0.711009   \n",
              "model_3_char_embedding                        0.647822   0.636067  0.647822   \n",
              "model_4_hybrid_char_token_embedding           0.736992   0.737980  0.736992   \n",
              "model_5_tribid_char_token_position_embedding  0.833874   0.833344  0.833874   \n",
              "\n",
              "                                                    f1  \n",
              "model_0_baseline                              0.698925  \n",
              "model_1_custom_token_embedding                0.783199  \n",
              "model_2_pretrained_token_embedding            0.708210  \n",
              "model_3_char_embedding                        0.638166  \n",
              "model_4_hybrid_char_token_embedding           0.733705  \n",
              "model_5_tribid_char_token_position_embedding  0.832488  "
            ],
            "text/html": [
              "\n",
              "  <div id=\"df-dbc21e06-c469-4071-b5d7-05fd569e49ff\">\n",
              "    <div class=\"colab-df-container\">\n",
              "      <div>\n",
              "<style scoped>\n",
              "    .dataframe tbody tr th:only-of-type {\n",
              "        vertical-align: middle;\n",
              "    }\n",
              "\n",
              "    .dataframe tbody tr th {\n",
              "        vertical-align: top;\n",
              "    }\n",
              "\n",
              "    .dataframe thead th {\n",
              "        text-align: right;\n",
              "    }\n",
              "</style>\n",
              "<table border=\"1\" class=\"dataframe\">\n",
              "  <thead>\n",
              "    <tr style=\"text-align: right;\">\n",
              "      <th></th>\n",
              "      <th>accuracy</th>\n",
              "      <th>precision</th>\n",
              "      <th>recall</th>\n",
              "      <th>f1</th>\n",
              "    </tr>\n",
              "  </thead>\n",
              "  <tbody>\n",
              "    <tr>\n",
              "      <th>model_0_baseline</th>\n",
              "      <td>0.721832</td>\n",
              "      <td>0.718647</td>\n",
              "      <td>0.721832</td>\n",
              "      <td>0.698925</td>\n",
              "    </tr>\n",
              "    <tr>\n",
              "      <th>model_1_custom_token_embedding</th>\n",
              "      <td>0.785449</td>\n",
              "      <td>0.782865</td>\n",
              "      <td>0.785449</td>\n",
              "      <td>0.783199</td>\n",
              "    </tr>\n",
              "    <tr>\n",
              "      <th>model_2_pretrained_token_embedding</th>\n",
              "      <td>0.711009</td>\n",
              "      <td>0.711690</td>\n",
              "      <td>0.711009</td>\n",
              "      <td>0.708210</td>\n",
              "    </tr>\n",
              "    <tr>\n",
              "      <th>model_3_char_embedding</th>\n",
              "      <td>0.647822</td>\n",
              "      <td>0.636067</td>\n",
              "      <td>0.647822</td>\n",
              "      <td>0.638166</td>\n",
              "    </tr>\n",
              "    <tr>\n",
              "      <th>model_4_hybrid_char_token_embedding</th>\n",
              "      <td>0.736992</td>\n",
              "      <td>0.737980</td>\n",
              "      <td>0.736992</td>\n",
              "      <td>0.733705</td>\n",
              "    </tr>\n",
              "    <tr>\n",
              "      <th>model_5_tribid_char_token_position_embedding</th>\n",
              "      <td>0.833874</td>\n",
              "      <td>0.833344</td>\n",
              "      <td>0.833874</td>\n",
              "      <td>0.832488</td>\n",
              "    </tr>\n",
              "  </tbody>\n",
              "</table>\n",
              "</div>\n",
              "      <button class=\"colab-df-convert\" onclick=\"convertToInteractive('df-dbc21e06-c469-4071-b5d7-05fd569e49ff')\"\n",
              "              title=\"Convert this dataframe to an interactive table.\"\n",
              "              style=\"display:none;\">\n",
              "        \n",
              "  <svg xmlns=\"http://www.w3.org/2000/svg\" height=\"24px\"viewBox=\"0 0 24 24\"\n",
              "       width=\"24px\">\n",
              "    <path d=\"M0 0h24v24H0V0z\" fill=\"none\"/>\n",
              "    <path d=\"M18.56 5.44l.94 2.06.94-2.06 2.06-.94-2.06-.94-.94-2.06-.94 2.06-2.06.94zm-11 1L8.5 8.5l.94-2.06 2.06-.94-2.06-.94L8.5 2.5l-.94 2.06-2.06.94zm10 10l.94 2.06.94-2.06 2.06-.94-2.06-.94-.94-2.06-.94 2.06-2.06.94z\"/><path d=\"M17.41 7.96l-1.37-1.37c-.4-.4-.92-.59-1.43-.59-.52 0-1.04.2-1.43.59L10.3 9.45l-7.72 7.72c-.78.78-.78 2.05 0 2.83L4 21.41c.39.39.9.59 1.41.59.51 0 1.02-.2 1.41-.59l7.78-7.78 2.81-2.81c.8-.78.8-2.07 0-2.86zM5.41 20L4 18.59l7.72-7.72 1.47 1.35L5.41 20z\"/>\n",
              "  </svg>\n",
              "      </button>\n",
              "      \n",
              "  <style>\n",
              "    .colab-df-container {\n",
              "      display:flex;\n",
              "      flex-wrap:wrap;\n",
              "      gap: 12px;\n",
              "    }\n",
              "\n",
              "    .colab-df-convert {\n",
              "      background-color: #E8F0FE;\n",
              "      border: none;\n",
              "      border-radius: 50%;\n",
              "      cursor: pointer;\n",
              "      display: none;\n",
              "      fill: #1967D2;\n",
              "      height: 32px;\n",
              "      padding: 0 0 0 0;\n",
              "      width: 32px;\n",
              "    }\n",
              "\n",
              "    .colab-df-convert:hover {\n",
              "      background-color: #E2EBFA;\n",
              "      box-shadow: 0px 1px 2px rgba(60, 64, 67, 0.3), 0px 1px 3px 1px rgba(60, 64, 67, 0.15);\n",
              "      fill: #174EA6;\n",
              "    }\n",
              "\n",
              "    [theme=dark] .colab-df-convert {\n",
              "      background-color: #3B4455;\n",
              "      fill: #D2E3FC;\n",
              "    }\n",
              "\n",
              "    [theme=dark] .colab-df-convert:hover {\n",
              "      background-color: #434B5C;\n",
              "      box-shadow: 0px 1px 3px 1px rgba(0, 0, 0, 0.15);\n",
              "      filter: drop-shadow(0px 1px 2px rgba(0, 0, 0, 0.3));\n",
              "      fill: #FFFFFF;\n",
              "    }\n",
              "  </style>\n",
              "\n",
              "      <script>\n",
              "        const buttonEl =\n",
              "          document.querySelector('#df-dbc21e06-c469-4071-b5d7-05fd569e49ff button.colab-df-convert');\n",
              "        buttonEl.style.display =\n",
              "          google.colab.kernel.accessAllowed ? 'block' : 'none';\n",
              "\n",
              "        async function convertToInteractive(key) {\n",
              "          const element = document.querySelector('#df-dbc21e06-c469-4071-b5d7-05fd569e49ff');\n",
              "          const dataTable =\n",
              "            await google.colab.kernel.invokeFunction('convertToInteractive',\n",
              "                                                     [key], {});\n",
              "          if (!dataTable) return;\n",
              "\n",
              "          const docLinkHtml = 'Like what you see? Visit the ' +\n",
              "            '<a target=\"_blank\" href=https://colab.research.google.com/notebooks/data_table.ipynb>data table notebook</a>'\n",
              "            + ' to learn more about interactive tables.';\n",
              "          element.innerHTML = '';\n",
              "          dataTable['output_type'] = 'display_data';\n",
              "          await google.colab.output.renderOutput(dataTable, element);\n",
              "          const docLink = document.createElement('div');\n",
              "          docLink.innerHTML = docLinkHtml;\n",
              "          element.appendChild(docLink);\n",
              "        }\n",
              "      </script>\n",
              "    </div>\n",
              "  </div>\n",
              "  "
            ]
          },
          "metadata": {},
          "execution_count": 137
        }
      ]
    },
    {
      "cell_type": "code",
      "source": [
        "# Plot and compare all model results\n",
        "\n",
        "all_model_results.plot(kind=\"bar\", figsize=(15,15)).legend(bbox_to_anchor=(1.0,1.0));"
      ],
      "metadata": {
        "colab": {
          "base_uri": "https://localhost:8080/",
          "height": 1000
        },
        "id": "PhgMPQOepZHV",
        "outputId": "2de880f8-dc6f-4bcf-87b0-68d6db287c89"
      },
      "execution_count": 138,
      "outputs": [
        {
          "output_type": "display_data",
          "data": {
            "text/plain": [
              "<Figure size 1080x1080 with 1 Axes>"
            ],
            "image/png": "[encoded data removed]"
          },
          "metadata": {
            "needs_background": "light"
          }
        }
      ]
    },
    {
      "cell_type": "code",
      "source": [
        "# sort models by f1-score\n",
        "all_model_results.sort_values(\"f1\", ascending=True)[\"f1\"].plot(kind=\"bar\", figsize=(10,10))"
      ],
      "metadata": {
        "colab": {
          "base_uri": "https://localhost:8080/",
          "height": 839
        },
        "id": "koy-FWFnqTKp",
        "outputId": "fbc3979f-5502-46d0-a619-dfeff63ae2c6"
      },
      "execution_count": 139,
      "outputs": [
        {
          "output_type": "execute_result",
          "data": {
            "text/plain": [
              "<AxesSubplot:>"
            ]
          },
          "metadata": {},
          "execution_count": 139
        },
        {
          "output_type": "display_data",
          "data": {
            "text/plain": [
              "<Figure size 720x720 with 1 Axes>"
            ],
            "image/png": "[encoded data removed]"
          },
          "metadata": {
            "needs_background": "light"
          }
        }
      ]
    },
    {
      "cell_type": "code",
      "source": [
        "# Saving and loading models"
      ],
      "metadata": {
        "id": "H55ny2MfrZ1V"
      },
      "execution_count": 140,
      "outputs": []
    },
    {
      "cell_type": "code",
      "source": [
        "from google.colab import drive\n",
        "drive.mount('/content/drive')"
      ],
      "metadata": {
        "colab": {
          "base_uri": "https://localhost:8080/"
        },
        "id": "qPWUWz0ercXc",
        "outputId": "a883b137-d33e-40ce-a3d6-409243c665f1"
      },
      "execution_count": 141,
      "outputs": [
        {
          "output_type": "stream",
          "name": "stdout",
          "text": [
            "Mounted at /content/drive\n"
          ]
        }
      ]
    },
    {
      "cell_type": "code",
      "source": [
        "\n",
        "model_5"
      ],
      "metadata": {
        "colab": {
          "base_uri": "https://localhost:8080/"
        },
        "id": "GR-p4WNqqvA_",
        "outputId": "a88922af-f7e4-4729-c6f9-b4b3c85fdf81"
      },
      "execution_count": 142,
      "outputs": [
        {
          "output_type": "execute_result",
          "data": {
            "text/plain": [
              "<keras.engine.functional.Functional at 0x7fd8c5fdddf0>"
            ]
          },
          "metadata": {},
          "execution_count": 142
        }
      ]
    },
    {
      "cell_type": "code",
      "source": [
        "model_5.save(\"save\")"
      ],
      "metadata": {
        "colab": {
          "base_uri": "https://localhost:8080/"
        },
        "id": "QUmoizbLq_T1",
        "outputId": "af8af0b9-4c20-4e66-8cc2-d204c030594a"
      },
      "execution_count": 143,
      "outputs": [
        {
          "output_type": "stream",
          "name": "stderr",
          "text": [
            "WARNING:absl:Found untraced functions such as lstm_cell_4_layer_call_fn, lstm_cell_4_layer_call_and_return_conditional_losses, lstm_cell_5_layer_call_fn, lstm_cell_5_layer_call_and_return_conditional_losses while saving (showing 4 of 4). These functions will not be directly callable after loading.\n"
          ]
        }
      ]
    },
    {
      "cell_type": "code",
      "source": [
        "model_5.save(\"/content/drive/MyDrive/ML_Tensor/skimlit_tribid_model\")"
      ],
      "metadata": {
        "colab": {
          "base_uri": "https://localhost:8080/"
        },
        "id": "MC1kXdMjrm56",
        "outputId": "a1ce4a3a-8c00-4afc-9753-14b98ea742e3"
      },
      "execution_count": 144,
      "outputs": [
        {
          "output_type": "stream",
          "name": "stderr",
          "text": [
            "WARNING:absl:Found untraced functions such as lstm_cell_4_layer_call_fn, lstm_cell_4_layer_call_and_return_conditional_losses, lstm_cell_5_layer_call_fn, lstm_cell_5_layer_call_and_return_conditional_losses while saving (showing 4 of 4). These functions will not be directly callable after loading.\n"
          ]
        }
      ]
    },
    {
      "cell_type": "code",
      "source": [
        "loaded_model = tf.keras.models.load_model(\"save\")"
      ],
      "metadata": {
        "id": "aMi71jCsrLpu"
      },
      "execution_count": 145,
      "outputs": []
    },
    {
      "cell_type": "code",
      "source": [
        "loaded_model"
      ],
      "metadata": {
        "colab": {
          "base_uri": "https://localhost:8080/"
        },
        "id": "B8QMGE3kr-y1",
        "outputId": "907f221f-9bb8-44e3-a4dc-316b8dd37a52"
      },
      "execution_count": 146,
      "outputs": [
        {
          "output_type": "execute_result",
          "data": {
            "text/plain": [
              "<keras.engine.functional.Functional at 0x7fd80dfc16d0>"
            ]
          },
          "metadata": {},
          "execution_count": 146
        }
      ]
    },
    {
      "cell_type": "code",
      "source": [
        "# make predictions with the loaded model on the validation set\n",
        "loaded_pred_probs = loaded_model.predict(val_tribid_dataset)\n",
        "loaded_predictions = tf.argmax(loaded_pred_probs, axis=1)\n",
        "loaded_predictions[:10], model_5_predictions[:10]"
      ],
      "metadata": {
        "colab": {
          "base_uri": "https://localhost:8080/"
        },
        "id": "LLfQLHwesDc3",
        "outputId": "eeb07e43-7f7c-4233-c321-406efff6e319"
      },
      "execution_count": 160,
      "outputs": [
        {
          "output_type": "stream",
          "name": "stdout",
          "text": [
            "945/945 [==============================] - 23s 24ms/step\n"
          ]
        },
        {
          "output_type": "execute_result",
          "data": {
            "text/plain": [
              "(<tf.Tensor: shape=(10,), dtype=int64, numpy=array([0, 0, 3, 2, 2, 4, 4, 4, 4, 1])>,\n",
              " <tf.Tensor: shape=(10,), dtype=int64, numpy=array([0, 0, 3, 2, 2, 4, 4, 4, 4, 1])>)"
            ]
          },
          "metadata": {},
          "execution_count": 160
        }
      ]
    },
    {
      "cell_type": "code",
      "source": [
        "# calculate results of loaded model\n",
        "loaded_model_results = calculate_results (y_true=val_labels_encoded, \n",
        "                                          y_pred=loaded_predictions)\n",
        "loaded_model_results, model_5_results"
      ],
      "metadata": {
        "colab": {
          "base_uri": "https://localhost:8080/"
        },
        "id": "YsMlBMPfsP3P",
        "outputId": "08b96b89-83d3-4e81-985a-32b2f17a520d"
      },
      "execution_count": 148,
      "outputs": [
        {
          "output_type": "execute_result",
          "data": {
            "text/plain": [
              "({'accuracy': 83.38739573679332,\n",
              "  'precision': 0.8333437984209839,\n",
              "  'recall': 0.8338739573679332,\n",
              "  'f1': 0.8324875589353418},\n",
              " {'accuracy': 83.38739573679332,\n",
              "  'precision': 0.8333437984209839,\n",
              "  'recall': 0.8338739573679332,\n",
              "  'f1': 0.8324875589353418})"
            ]
          },
          "metadata": {},
          "execution_count": 148
        }
      ]
    },
    {
      "cell_type": "code",
      "source": [
        "np.isclose(list(model_5_results.values()), list(loaded_model_results.values()), rtol=1e-02)\n"
      ],
      "metadata": {
        "colab": {
          "base_uri": "https://localhost:8080/"
        },
        "id": "-c90UpQhsagF",
        "outputId": "e754612f-9953-4a66-e4c0-b40ecca82241"
      },
      "execution_count": 149,
      "outputs": [
        {
          "output_type": "execute_result",
          "data": {
            "text/plain": [
              "array([ True,  True,  True,  True])"
            ]
          },
          "metadata": {},
          "execution_count": 149
        }
      ]
    },
    {
      "cell_type": "markdown",
      "source": [
        "# Challenges\n",
        "\n",
        "1. Turn test data sample into a tf.data data, evaluate and make predict ✅\n",
        "2. Find the most wrong predictions from 1\n",
        "3. Make example predictions (on RCT abstracts from the wild)"
      ],
      "metadata": {
        "id": "kseiRh3nsxhR"
      }
    },
    {
      "cell_type": "markdown",
      "source": [
        "Most wrong predictions would be the predictions with the highest probabilities for their results which are not true.\n",
        "\n",
        "So y_true[sentence] != y_pred[sentence] and \n",
        "y_pred[sentence]> high\n",
        "\n",
        "Select all the y_pred for y_true[sentence] != y_pred[sentence] \n",
        "\n",
        "sort in order of the value of y_pred_probs\n"
      ],
      "metadata": {
        "id": "QnAkd1QBHwsz"
      }
    },
    {
      "cell_type": "code",
      "source": [
        "# merge the dataset\n",
        "\n",
        "\n",
        "\n",
        "Results = pd.DataFrame(zip(tf.reduce_max(loaded_pred_probs, axis=1).numpy(), loaded_predictions.numpy(), val_labels_encoded),\n",
        "                             columns = [\"Probabilities\", \"Predictions\",\"GroundTruth\"])\n"
      ],
      "metadata": {
        "id": "q0rDav4rIUCy"
      },
      "execution_count": 190,
      "outputs": []
    },
    {
      "cell_type": "code",
      "source": [
        "Results.head()"
      ],
      "metadata": {
        "colab": {
          "base_uri": "https://localhost:8080/",
          "height": 206
        },
        "id": "kEwkzy4ngp_-",
        "outputId": "59264e7c-569e-426c-b97b-eecf644cb4b3"
      },
      "execution_count": 183,
      "outputs": [
        {
          "output_type": "execute_result",
          "data": {
            "text/plain": [
              "   Probabilities  Predictions  GroundTruth\n",
              "0       0.516556            0            0\n",
              "1       0.534904            0            0\n",
              "2       0.384991            3            3\n",
              "3       0.686411            2            2\n",
              "4       0.672310            2            2"
            ],
            "text/html": [
              "\n",
              "  <div id=\"df-748a4c0e-f46b-46df-b441-5f2fa65705de\">\n",
              "    <div class=\"colab-df-container\">\n",
              "      <div>\n",
              "<style scoped>\n",
              "    .dataframe tbody tr th:only-of-type {\n",
              "        vertical-align: middle;\n",
              "    }\n",
              "\n",
              "    .dataframe tbody tr th {\n",
              "        vertical-align: top;\n",
              "    }\n",
              "\n",
              "    .dataframe thead th {\n",
              "        text-align: right;\n",
              "    }\n",
              "</style>\n",
              "<table border=\"1\" class=\"dataframe\">\n",
              "  <thead>\n",
              "    <tr style=\"text-align: right;\">\n",
              "      <th></th>\n",
              "      <th>Probabilities</th>\n",
              "      <th>Predictions</th>\n",
              "      <th>GroundTruth</th>\n",
              "    </tr>\n",
              "  </thead>\n",
              "  <tbody>\n",
              "    <tr>\n",
              "      <th>0</th>\n",
              "      <td>0.516556</td>\n",
              "      <td>0</td>\n",
              "      <td>0</td>\n",
              "    </tr>\n",
              "    <tr>\n",
              "      <th>1</th>\n",
              "      <td>0.534904</td>\n",
              "      <td>0</td>\n",
              "      <td>0</td>\n",
              "    </tr>\n",
              "    <tr>\n",
              "      <th>2</th>\n",
              "      <td>0.384991</td>\n",
              "      <td>3</td>\n",
              "      <td>3</td>\n",
              "    </tr>\n",
              "    <tr>\n",
              "      <th>3</th>\n",
              "      <td>0.686411</td>\n",
              "      <td>2</td>\n",
              "      <td>2</td>\n",
              "    </tr>\n",
              "    <tr>\n",
              "      <th>4</th>\n",
              "      <td>0.672310</td>\n",
              "      <td>2</td>\n",
              "      <td>2</td>\n",
              "    </tr>\n",
              "  </tbody>\n",
              "</table>\n",
              "</div>\n",
              "      <button class=\"colab-df-convert\" onclick=\"convertToInteractive('df-748a4c0e-f46b-46df-b441-5f2fa65705de')\"\n",
              "              title=\"Convert this dataframe to an interactive table.\"\n",
              "              style=\"display:none;\">\n",
              "        \n",
              "  <svg xmlns=\"http://www.w3.org/2000/svg\" height=\"24px\"viewBox=\"0 0 24 24\"\n",
              "       width=\"24px\">\n",
              "    <path d=\"M0 0h24v24H0V0z\" fill=\"none\"/>\n",
              "    <path d=\"M18.56 5.44l.94 2.06.94-2.06 2.06-.94-2.06-.94-.94-2.06-.94 2.06-2.06.94zm-11 1L8.5 8.5l.94-2.06 2.06-.94-2.06-.94L8.5 2.5l-.94 2.06-2.06.94zm10 10l.94 2.06.94-2.06 2.06-.94-2.06-.94-.94-2.06-.94 2.06-2.06.94z\"/><path d=\"M17.41 7.96l-1.37-1.37c-.4-.4-.92-.59-1.43-.59-.52 0-1.04.2-1.43.59L10.3 9.45l-7.72 7.72c-.78.78-.78 2.05 0 2.83L4 21.41c.39.39.9.59 1.41.59.51 0 1.02-.2 1.41-.59l7.78-7.78 2.81-2.81c.8-.78.8-2.07 0-2.86zM5.41 20L4 18.59l7.72-7.72 1.47 1.35L5.41 20z\"/>\n",
              "  </svg>\n",
              "      </button>\n",
              "      \n",
              "  <style>\n",
              "    .colab-df-container {\n",
              "      display:flex;\n",
              "      flex-wrap:wrap;\n",
              "      gap: 12px;\n",
              "    }\n",
              "\n",
              "    .colab-df-convert {\n",
              "      background-color: #E8F0FE;\n",
              "      border: none;\n",
              "      border-radius: 50%;\n",
              "      cursor: pointer;\n",
              "      display: none;\n",
              "      fill: #1967D2;\n",
              "      height: 32px;\n",
              "      padding: 0 0 0 0;\n",
              "      width: 32px;\n",
              "    }\n",
              "\n",
              "    .colab-df-convert:hover {\n",
              "      background-color: #E2EBFA;\n",
              "      box-shadow: 0px 1px 2px rgba(60, 64, 67, 0.3), 0px 1px 3px 1px rgba(60, 64, 67, 0.15);\n",
              "      fill: #174EA6;\n",
              "    }\n",
              "\n",
              "    [theme=dark] .colab-df-convert {\n",
              "      background-color: #3B4455;\n",
              "      fill: #D2E3FC;\n",
              "    }\n",
              "\n",
              "    [theme=dark] .colab-df-convert:hover {\n",
              "      background-color: #434B5C;\n",
              "      box-shadow: 0px 1px 3px 1px rgba(0, 0, 0, 0.15);\n",
              "      filter: drop-shadow(0px 1px 2px rgba(0, 0, 0, 0.3));\n",
              "      fill: #FFFFFF;\n",
              "    }\n",
              "  </style>\n",
              "\n",
              "      <script>\n",
              "        const buttonEl =\n",
              "          document.querySelector('#df-748a4c0e-f46b-46df-b441-5f2fa65705de button.colab-df-convert');\n",
              "        buttonEl.style.display =\n",
              "          google.colab.kernel.accessAllowed ? 'block' : 'none';\n",
              "\n",
              "        async function convertToInteractive(key) {\n",
              "          const element = document.querySelector('#df-748a4c0e-f46b-46df-b441-5f2fa65705de');\n",
              "          const dataTable =\n",
              "            await google.colab.kernel.invokeFunction('convertToInteractive',\n",
              "                                                     [key], {});\n",
              "          if (!dataTable) return;\n",
              "\n",
              "          const docLinkHtml = 'Like what you see? Visit the ' +\n",
              "            '<a target=\"_blank\" href=https://colab.research.google.com/notebooks/data_table.ipynb>data table notebook</a>'\n",
              "            + ' to learn more about interactive tables.';\n",
              "          element.innerHTML = '';\n",
              "          dataTable['output_type'] = 'display_data';\n",
              "          await google.colab.output.renderOutput(dataTable, element);\n",
              "          const docLink = document.createElement('div');\n",
              "          docLink.innerHTML = docLinkHtml;\n",
              "          element.appendChild(docLink);\n",
              "        }\n",
              "      </script>\n",
              "    </div>\n",
              "  </div>\n",
              "  "
            ]
          },
          "metadata": {},
          "execution_count": 183
        }
      ]
    },
    {
      "cell_type": "code",
      "source": [
        "# sort and filter\n",
        "Sorted_Results = Results[Results.Predictions != Results.GroundTruth].sort_values(by=['Probabilities'], ascending=False)"
      ],
      "metadata": {
        "id": "zTZtjbAJgS3I"
      },
      "execution_count": 191,
      "outputs": []
    },
    {
      "cell_type": "code",
      "source": [
        "Sorted_Results.head(20)"
      ],
      "metadata": {
        "colab": {
          "base_uri": "https://localhost:8080/",
          "height": 676
        },
        "id": "okg0vjZFiTju",
        "outputId": "cc2b2227-eedd-4077-df22-3fccec0722af"
      },
      "execution_count": 194,
      "outputs": [
        {
          "output_type": "execute_result",
          "data": {
            "text/plain": [
              "       Probabilities  Predictions  GroundTruth\n",
              "28193       0.920842            2            4\n",
              "16123       0.911734            1            2\n",
              "28492       0.910398            0            1\n",
              "7300        0.909729            3            0\n",
              "28639       0.907527            4            1\n",
              "18115       0.906576            3            0\n",
              "9717        0.905845            1            2\n",
              "10034       0.903151            2            4\n",
              "24615       0.901280            0            1\n",
              "25081       0.899814            2            3\n",
              "1027        0.898219            2            4\n",
              "12944       0.898151            4            1\n",
              "4811        0.896281            4            1\n",
              "22444       0.895159            0            1\n",
              "16173       0.893563            2            1\n",
              "9498        0.893341            0            2\n",
              "28835       0.892118            1            4\n",
              "892         0.890103            0            2\n",
              "21580       0.887136            3            0\n",
              "19335       0.886472            0            1"
            ],
            "text/html": [
              "\n",
              "  <div id=\"df-03d4ba3b-e235-4419-bc2e-074acc910827\">\n",
              "    <div class=\"colab-df-container\">\n",
              "      <div>\n",
              "<style scoped>\n",
              "    .dataframe tbody tr th:only-of-type {\n",
              "        vertical-align: middle;\n",
              "    }\n",
              "\n",
              "    .dataframe tbody tr th {\n",
              "        vertical-align: top;\n",
              "    }\n",
              "\n",
              "    .dataframe thead th {\n",
              "        text-align: right;\n",
              "    }\n",
              "</style>\n",
              "<table border=\"1\" class=\"dataframe\">\n",
              "  <thead>\n",
              "    <tr style=\"text-align: right;\">\n",
              "      <th></th>\n",
              "      <th>Probabilities</th>\n",
              "      <th>Predictions</th>\n",
              "      <th>GroundTruth</th>\n",
              "    </tr>\n",
              "  </thead>\n",
              "  <tbody>\n",
              "    <tr>\n",
              "      <th>28193</th>\n",
              "      <td>0.920842</td>\n",
              "      <td>2</td>\n",
              "      <td>4</td>\n",
              "    </tr>\n",
              "    <tr>\n",
              "      <th>16123</th>\n",
              "      <td>0.911734</td>\n",
              "      <td>1</td>\n",
              "      <td>2</td>\n",
              "    </tr>\n",
              "    <tr>\n",
              "      <th>28492</th>\n",
              "      <td>0.910398</td>\n",
              "      <td>0</td>\n",
              "      <td>1</td>\n",
              "    </tr>\n",
              "    <tr>\n",
              "      <th>7300</th>\n",
              "      <td>0.909729</td>\n",
              "      <td>3</td>\n",
              "      <td>0</td>\n",
              "    </tr>\n",
              "    <tr>\n",
              "      <th>28639</th>\n",
              "      <td>0.907527</td>\n",
              "      <td>4</td>\n",
              "      <td>1</td>\n",
              "    </tr>\n",
              "    <tr>\n",
              "      <th>18115</th>\n",
              "      <td>0.906576</td>\n",
              "      <td>3</td>\n",
              "      <td>0</td>\n",
              "    </tr>\n",
              "    <tr>\n",
              "      <th>9717</th>\n",
              "      <td>0.905845</td>\n",
              "      <td>1</td>\n",
              "      <td>2</td>\n",
              "    </tr>\n",
              "    <tr>\n",
              "      <th>10034</th>\n",
              "      <td>0.903151</td>\n",
              "      <td>2</td>\n",
              "      <td>4</td>\n",
              "    </tr>\n",
              "    <tr>\n",
              "      <th>24615</th>\n",
              "      <td>0.901280</td>\n",
              "      <td>0</td>\n",
              "      <td>1</td>\n",
              "    </tr>\n",
              "    <tr>\n",
              "      <th>25081</th>\n",
              "      <td>0.899814</td>\n",
              "      <td>2</td>\n",
              "      <td>3</td>\n",
              "    </tr>\n",
              "    <tr>\n",
              "      <th>1027</th>\n",
              "      <td>0.898219</td>\n",
              "      <td>2</td>\n",
              "      <td>4</td>\n",
              "    </tr>\n",
              "    <tr>\n",
              "      <th>12944</th>\n",
              "      <td>0.898151</td>\n",
              "      <td>4</td>\n",
              "      <td>1</td>\n",
              "    </tr>\n",
              "    <tr>\n",
              "      <th>4811</th>\n",
              "      <td>0.896281</td>\n",
              "      <td>4</td>\n",
              "      <td>1</td>\n",
              "    </tr>\n",
              "    <tr>\n",
              "      <th>22444</th>\n",
              "      <td>0.895159</td>\n",
              "      <td>0</td>\n",
              "      <td>1</td>\n",
              "    </tr>\n",
              "    <tr>\n",
              "      <th>16173</th>\n",
              "      <td>0.893563</td>\n",
              "      <td>2</td>\n",
              "      <td>1</td>\n",
              "    </tr>\n",
              "    <tr>\n",
              "      <th>9498</th>\n",
              "      <td>0.893341</td>\n",
              "      <td>0</td>\n",
              "      <td>2</td>\n",
              "    </tr>\n",
              "    <tr>\n",
              "      <th>28835</th>\n",
              "      <td>0.892118</td>\n",
              "      <td>1</td>\n",
              "      <td>4</td>\n",
              "    </tr>\n",
              "    <tr>\n",
              "      <th>892</th>\n",
              "      <td>0.890103</td>\n",
              "      <td>0</td>\n",
              "      <td>2</td>\n",
              "    </tr>\n",
              "    <tr>\n",
              "      <th>21580</th>\n",
              "      <td>0.887136</td>\n",
              "      <td>3</td>\n",
              "      <td>0</td>\n",
              "    </tr>\n",
              "    <tr>\n",
              "      <th>19335</th>\n",
              "      <td>0.886472</td>\n",
              "      <td>0</td>\n",
              "      <td>1</td>\n",
              "    </tr>\n",
              "  </tbody>\n",
              "</table>\n",
              "</div>\n",
              "      <button class=\"colab-df-convert\" onclick=\"convertToInteractive('df-03d4ba3b-e235-4419-bc2e-074acc910827')\"\n",
              "              title=\"Convert this dataframe to an interactive table.\"\n",
              "              style=\"display:none;\">\n",
              "        \n",
              "  <svg xmlns=\"http://www.w3.org/2000/svg\" height=\"24px\"viewBox=\"0 0 24 24\"\n",
              "       width=\"24px\">\n",
              "    <path d=\"M0 0h24v24H0V0z\" fill=\"none\"/>\n",
              "    <path d=\"M18.56 5.44l.94 2.06.94-2.06 2.06-.94-2.06-.94-.94-2.06-.94 2.06-2.06.94zm-11 1L8.5 8.5l.94-2.06 2.06-.94-2.06-.94L8.5 2.5l-.94 2.06-2.06.94zm10 10l.94 2.06.94-2.06 2.06-.94-2.06-.94-.94-2.06-.94 2.06-2.06.94z\"/><path d=\"M17.41 7.96l-1.37-1.37c-.4-.4-.92-.59-1.43-.59-.52 0-1.04.2-1.43.59L10.3 9.45l-7.72 7.72c-.78.78-.78 2.05 0 2.83L4 21.41c.39.39.9.59 1.41.59.51 0 1.02-.2 1.41-.59l7.78-7.78 2.81-2.81c.8-.78.8-2.07 0-2.86zM5.41 20L4 18.59l7.72-7.72 1.47 1.35L5.41 20z\"/>\n",
              "  </svg>\n",
              "      </button>\n",
              "      \n",
              "  <style>\n",
              "    .colab-df-container {\n",
              "      display:flex;\n",
              "      flex-wrap:wrap;\n",
              "      gap: 12px;\n",
              "    }\n",
              "\n",
              "    .colab-df-convert {\n",
              "      background-color: #E8F0FE;\n",
              "      border: none;\n",
              "      border-radius: 50%;\n",
              "      cursor: pointer;\n",
              "      display: none;\n",
              "      fill: #1967D2;\n",
              "      height: 32px;\n",
              "      padding: 0 0 0 0;\n",
              "      width: 32px;\n",
              "    }\n",
              "\n",
              "    .colab-df-convert:hover {\n",
              "      background-color: #E2EBFA;\n",
              "      box-shadow: 0px 1px 2px rgba(60, 64, 67, 0.3), 0px 1px 3px 1px rgba(60, 64, 67, 0.15);\n",
              "      fill: #174EA6;\n",
              "    }\n",
              "\n",
              "    [theme=dark] .colab-df-convert {\n",
              "      background-color: #3B4455;\n",
              "      fill: #D2E3FC;\n",
              "    }\n",
              "\n",
              "    [theme=dark] .colab-df-convert:hover {\n",
              "      background-color: #434B5C;\n",
              "      box-shadow: 0px 1px 3px 1px rgba(0, 0, 0, 0.15);\n",
              "      filter: drop-shadow(0px 1px 2px rgba(0, 0, 0, 0.3));\n",
              "      fill: #FFFFFF;\n",
              "    }\n",
              "  </style>\n",
              "\n",
              "      <script>\n",
              "        const buttonEl =\n",
              "          document.querySelector('#df-03d4ba3b-e235-4419-bc2e-074acc910827 button.colab-df-convert');\n",
              "        buttonEl.style.display =\n",
              "          google.colab.kernel.accessAllowed ? 'block' : 'none';\n",
              "\n",
              "        async function convertToInteractive(key) {\n",
              "          const element = document.querySelector('#df-03d4ba3b-e235-4419-bc2e-074acc910827');\n",
              "          const dataTable =\n",
              "            await google.colab.kernel.invokeFunction('convertToInteractive',\n",
              "                                                     [key], {});\n",
              "          if (!dataTable) return;\n",
              "\n",
              "          const docLinkHtml = 'Like what you see? Visit the ' +\n",
              "            '<a target=\"_blank\" href=https://colab.research.google.com/notebooks/data_table.ipynb>data table notebook</a>'\n",
              "            + ' to learn more about interactive tables.';\n",
              "          element.innerHTML = '';\n",
              "          dataTable['output_type'] = 'display_data';\n",
              "          await google.colab.output.renderOutput(dataTable, element);\n",
              "          const docLink = document.createElement('div');\n",
              "          docLink.innerHTML = docLinkHtml;\n",
              "          element.appendChild(docLink);\n",
              "        }\n",
              "      </script>\n",
              "    </div>\n",
              "  </div>\n",
              "  "
            ]
          },
          "metadata": {},
          "execution_count": 194
        }
      ]
    },
    {
      "cell_type": "code",
      "source": [
        "Sorted_Results"
      ],
      "metadata": {
        "colab": {
          "base_uri": "https://localhost:8080/"
        },
        "id": "abBcqlM2hSUp",
        "outputId": "3c767853-4c80-4912-8c13-218783d78f2f"
      },
      "execution_count": 165,
      "outputs": [
        {
          "output_type": "execute_result",
          "data": {
            "text/plain": [
              "array([0, 0, 3, ..., 4, 4, 1])"
            ]
          },
          "metadata": {},
          "execution_count": 165
        }
      ]
    },
    {
      "cell_type": "code",
      "source": [
        "from helper_functions import make_confusion_matrix\n",
        "make_confusion_matrix (Sorted_Results.GroundTruth, Sorted_Results.Predictions)"
      ],
      "metadata": {
        "colab": {
          "base_uri": "https://localhost:8080/",
          "height": 580
        },
        "id": "FXAS1YRehbg0",
        "outputId": "65fbd523-a9f8-48c7-dce7-f3819e3d2d11"
      },
      "execution_count": 196,
      "outputs": [
        {
          "output_type": "display_data",
          "data": {
            "text/plain": [
              "<Figure size 720x720 with 2 Axes>"
            ],
            "image/png": "[encoded data removed]"
          },
          "metadata": {
            "needs_background": "light"
          }
        }
      ]
    },
    {
      "cell_type": "code",
      "source": [
        "label_encoder.classes_"
      ],
      "metadata": {
        "colab": {
          "base_uri": "https://localhost:8080/"
        },
        "id": "OvXO6ZE6jVlo",
        "outputId": "835e2fed-5407-4fb3-f4bf-ed1963c0185e"
      },
      "execution_count": 202,
      "outputs": [
        {
          "output_type": "execute_result",
          "data": {
            "text/plain": [
              "array(['BACKGROUND', 'CONCLUSIONS', 'METHODS', 'OBJECTIVE', 'RESULTS'],\n",
              "      dtype=object)"
            ]
          },
          "metadata": {},
          "execution_count": 202
        }
      ]
    },
    {
      "cell_type": "markdown",
      "source": [
        "## Train model_5 on all of the data in the training dataset \n",
        "for as many epochs until it stops improving. Since this might take a while, you might want to use:\n",
        "\n",
        "`tf.keras.callbacks.ModelCheckpoint` to save the model's best weights only.\n",
        "\n",
        "`tf.keras.callbacks.EarlyStopping` to stop the model from training once the validation loss has stopped improving for ~3 epochs."
      ],
      "metadata": {
        "id": "BC1Drnxilkcd"
      }
    },
    {
      "cell_type": "code",
      "source": [
        "earlystoppingcallback = tf.keras.callbacks.EarlyStopping(monitor=\"val_accuracy\", patience=2)\n",
        "modelcheckpoints = tf.keras.callbacks.ModelCheckpoint(filepath=\"/content/save\",\n",
        "                                                         save_weights_only=True,\n",
        "                                                         monitor=\"val_accuracy\",\n",
        "                                                         mode=\"auto\",\n",
        "                                                         save_best_only=True)"
      ],
      "metadata": {
        "id": "PFir4m9Do_pc"
      },
      "execution_count": 205,
      "outputs": []
    },
    {
      "cell_type": "code",
      "source": [
        "history_5 = model_5.fit(train_tribid_dataset,\n",
        "                        epochs=50,\n",
        "                        validation_data=val_tribid_dataset,\n",
        "                        callbacks = [earlystoppingcallback, modelcheckpoints]\n",
        "                        )"
      ],
      "metadata": {
        "colab": {
          "base_uri": "https://localhost:8080/"
        },
        "id": "Nr0yS6QhoMGC",
        "outputId": "10a6af7e-46d3-4ed4-ecef-2d1e0026167a"
      },
      "execution_count": 211,
      "outputs": [
        {
          "output_type": "stream",
          "name": "stdout",
          "text": [
            "Epoch 1/50\n",
            "5627/5627 [==============================] - 308s 55ms/step - loss: 0.8568 - accuracy: 0.8930 - val_loss: 0.9031 - val_accuracy: 0.8537\n",
            "Epoch 2/50\n",
            "5627/5627 [==============================] - 295s 53ms/step - loss: 0.8540 - accuracy: 0.8951 - val_loss: 0.9029 - val_accuracy: 0.8539\n",
            "Epoch 3/50\n",
            "5627/5627 [==============================] - 291s 52ms/step - loss: 0.8515 - accuracy: 0.8981 - val_loss: 0.9034 - val_accuracy: 0.8533\n",
            "Epoch 4/50\n",
            "5627/5627 [==============================] - 291s 52ms/step - loss: 0.8494 - accuracy: 0.8995 - val_loss: 0.9043 - val_accuracy: 0.8537\n"
          ]
        }
      ]
    },
    {
      "cell_type": "code",
      "source": [
        "y_prediction_probabilities = model_5.predict(val_tribid_dataset)\n",
        "\n",
        "y_predictions = tf.argmax(y_prediction_probabilities, axis=1)\n"
      ],
      "metadata": {
        "colab": {
          "base_uri": "https://localhost:8080/"
        },
        "id": "GDkvHg1Rorud",
        "outputId": "1201af0d-d525-415e-a8d7-d3be15efee20"
      },
      "execution_count": 217,
      "outputs": [
        {
          "output_type": "stream",
          "name": "stdout",
          "text": [
            "945/945 [==============================] - 19s 20ms/step\n"
          ]
        }
      ]
    },
    {
      "cell_type": "code",
      "source": [
        "\n",
        "y_predictions = tf.argmax(y_prediction_probabilities, axis=1)"
      ],
      "metadata": {
        "id": "MCWIu4PoEU4S"
      },
      "execution_count": 219,
      "outputs": []
    },
    {
      "cell_type": "code",
      "source": [
        "model_5_full_set_results = calculate_results(y_true= val_labels_encoded,\n",
        "                                             y_pred = y_predictions)\n",
        "\n",
        "model_5_full_set_results"
      ],
      "metadata": {
        "colab": {
          "base_uri": "https://localhost:8080/"
        },
        "id": "lF0jQw_fEX0I",
        "outputId": "394ea3bf-7873-4d0c-82bd-21ec7bbf2c76"
      },
      "execution_count": 221,
      "outputs": [
        {
          "output_type": "execute_result",
          "data": {
            "text/plain": [
              "{'accuracy': 85.37336157818085,\n",
              " 'precision': 0.8552492439272047,\n",
              " 'recall': 0.8537336157818085,\n",
              " 'f1': 0.8509263315275785}"
            ]
          },
          "metadata": {},
          "execution_count": 221
        }
      ]
    },
    {
      "cell_type": "code",
      "source": [
        "model_5_results"
      ],
      "metadata": {
        "colab": {
          "base_uri": "https://localhost:8080/"
        },
        "id": "FREjtu75EZX6",
        "outputId": "d8d09eae-da4b-4c49-beb4-093288d8f73a"
      },
      "execution_count": 222,
      "outputs": [
        {
          "output_type": "execute_result",
          "data": {
            "text/plain": [
              "{'accuracy': 83.38739573679332,\n",
              " 'precision': 0.8333437984209839,\n",
              " 'recall': 0.8338739573679332,\n",
              " 'f1': 0.8324875589353418}"
            ]
          },
          "metadata": {},
          "execution_count": 222
        }
      ]
    },
    {
      "cell_type": "markdown",
      "source": [
        "## GloVe embeddings\n",
        "https://keras.io/examples/nlp/pretrained_word_embeddings/\n",
        "Checkout the Keras guide on using pretrained GloVe embeddings. Can you get this working with one of our models?"
      ],
      "metadata": {
        "id": "MT_Nk-GHEeBN"
      }
    },
    {
      "cell_type": "code",
      "source": [
        "# downloading the GloVe embeddings \n",
        "!wget http://nlp.stanford.edu/data/glove.6B.zip\n",
        "!unzip -q glove.6B.zip"
      ],
      "metadata": {
        "colab": {
          "base_uri": "https://localhost:8080/"
        },
        "id": "KujOJ_6WFPij",
        "outputId": "5f052862-7ef3-4092-b669-7d095255c7de"
      },
      "execution_count": 224,
      "outputs": [
        {
          "output_type": "stream",
          "name": "stdout",
          "text": [
            "--2023-03-13 17:48:16--  http://nlp.stanford.edu/data/glove.6B.zip\n",
            "Resolving nlp.stanford.edu (nlp.stanford.edu)... 171.64.67.140\n",
            "Connecting to nlp.stanford.edu (nlp.stanford.edu)|171.64.67.140|:80... connected.\n",
            "HTTP request sent, awaiting response... 302 Found\n",
            "Location: https://nlp.stanford.edu/data/glove.6B.zip [following]\n",
            "--2023-03-13 17:48:17--  https://nlp.stanford.edu/data/glove.6B.zip\n",
            "Connecting to nlp.stanford.edu (nlp.stanford.edu)|171.64.67.140|:443... connected.\n",
            "HTTP request sent, awaiting response... 301 Moved Permanently\n",
            "Location: https://downloads.cs.stanford.edu/nlp/data/glove.6B.zip [following]\n",
            "--2023-03-13 17:48:18--  https://downloads.cs.stanford.edu/nlp/data/glove.6B.zip\n",
            "Resolving downloads.cs.stanford.edu (downloads.cs.stanford.edu)... 171.64.64.22\n",
            "Connecting to downloads.cs.stanford.edu (downloads.cs.stanford.edu)|171.64.64.22|:443... connected.\n",
            "HTTP request sent, awaiting response... 200 OK\n",
            "Length: 862182613 (822M) [application/zip]\n",
            "Saving to: ‘glove.6B.zip’\n",
            "\n",
            "glove.6B.zip        100%[===================>] 822.24M  5.09MB/s    in 2m 41s  \n",
            "\n",
            "2023-03-13 17:51:00 (5.10 MB/s) - ‘glove.6B.zip’ saved [862182613/862182613]\n",
            "\n"
          ]
        }
      ]
    },
    {
      "cell_type": "code",
      "source": [
        "path_to_glove_file = \"/content/glove.6B.100d.txt\""
      ],
      "metadata": {
        "id": "ki1gDw8eFh1S"
      },
      "execution_count": 227,
      "outputs": []
    },
    {
      "cell_type": "code",
      "source": [
        "embeddings_index = {}\n",
        "with open(path_to_glove_file) as f:\n",
        "  for line in f:\n",
        "    word, coefs = line.split(maxsplit=1)\n",
        "    coefs = np.fromstring(coefs, \"f\", sep=\" \")\n",
        "    embeddings_index[word] = coefs\n",
        "\n",
        "print (\"Found %s word vectors.\" % len(embeddings_index))"
      ],
      "metadata": {
        "colab": {
          "base_uri": "https://localhost:8080/"
        },
        "id": "qmdeOSrUIX_c",
        "outputId": "62f90544-2afe-42b5-98a5-21660f1d5409"
      },
      "execution_count": 228,
      "outputs": [
        {
          "output_type": "stream",
          "name": "stdout",
          "text": [
            "Found 400000 word vectors.\n"
          ]
        }
      ]
    },
    {
      "cell_type": "code",
      "source": [
        "pd.DataFrame(embeddings_index).transpose().head()"
      ],
      "metadata": {
        "colab": {
          "base_uri": "https://localhost:8080/",
          "height": 299
        },
        "id": "BhKeVOHxJFT8",
        "outputId": "d0288009-710e-4f9a-fe5b-41c7195c8887"
      },
      "execution_count": 236,
      "outputs": [
        {
          "output_type": "execute_result",
          "data": {
            "text/plain": [
              "           0         1        2         3         4         5         6   \\\n",
              "the -0.038194 -0.244870  0.72812 -0.399610  0.083172  0.043953 -0.391410   \n",
              ",   -0.107670  0.110530  0.59812 -0.543610  0.673960  0.106630  0.038867   \n",
              ".   -0.339790  0.209410  0.46348 -0.647920 -0.383770  0.038034  0.171270   \n",
              "of  -0.152900 -0.242790  0.89837  0.169960  0.535160  0.487840 -0.588260   \n",
              "to  -0.189700  0.050024  0.19084 -0.049184 -0.089737  0.210060 -0.549520   \n",
              "\n",
              "           7        8         9   ...        90        91        92       93  \\\n",
              "the  0.334400 -0.57545  0.087459  ...  0.016215 -0.017099 -0.389840  0.87424   \n",
              ",    0.354810  0.06351 -0.094189  ...  0.349510 -0.722600  0.375490  0.44410   \n",
              ".    0.159780  0.46619 -0.019169  ... -0.063351 -0.674120 -0.068895  0.53604   \n",
              "of  -0.179820 -1.35810  0.425410  ...  0.187120 -0.018488 -0.267570  0.72700   \n",
              "to   0.098377 -0.20135  0.342410  ... -0.131340  0.058617 -0.318690 -0.61419   \n",
              "\n",
              "          94       95        96       97       98        99  \n",
              "the -0.72569 -0.51058 -0.520280 -0.14590  0.82780  0.270620  \n",
              ",   -0.99059  0.61214 -0.351110 -0.83155  0.45293  0.082577  \n",
              ".   -0.87773  0.31802 -0.392420 -0.23394  0.47298 -0.028803  \n",
              "of  -0.59363 -0.34839 -0.560940 -0.59100  1.00390  0.206640  \n",
              "to  -0.62393 -0.41548 -0.038175 -0.39804  0.47647 -0.159830  \n",
              "\n",
              "[5 rows x 100 columns]"
            ],
            "text/html": [
              "\n",
              "  <div id=\"df-cbc2c82e-7d7c-488c-8b83-de20166d5df7\">\n",
              "    <div class=\"colab-df-container\">\n",
              "      <div>\n",
              "<style scoped>\n",
              "    .dataframe tbody tr th:only-of-type {\n",
              "        vertical-align: middle;\n",
              "    }\n",
              "\n",
              "    .dataframe tbody tr th {\n",
              "        vertical-align: top;\n",
              "    }\n",
              "\n",
              "    .dataframe thead th {\n",
              "        text-align: right;\n",
              "    }\n",
              "</style>\n",
              "<table border=\"1\" class=\"dataframe\">\n",
              "  <thead>\n",
              "    <tr style=\"text-align: right;\">\n",
              "      <th></th>\n",
              "      <th>0</th>\n",
              "      <th>1</th>\n",
              "      <th>2</th>\n",
              "      <th>3</th>\n",
              "      <th>4</th>\n",
              "      <th>5</th>\n",
              "      <th>6</th>\n",
              "      <th>7</th>\n",
              "      <th>8</th>\n",
              "      <th>9</th>\n",
              "      <th>...</th>\n",
              "      <th>90</th>\n",
              "      <th>91</th>\n",
              "      <th>92</th>\n",
              "      <th>93</th>\n",
              "      <th>94</th>\n",
              "      <th>95</th>\n",
              "      <th>96</th>\n",
              "      <th>97</th>\n",
              "      <th>98</th>\n",
              "      <th>99</th>\n",
              "    </tr>\n",
              "  </thead>\n",
              "  <tbody>\n",
              "    <tr>\n",
              "      <th>the</th>\n",
              "      <td>-0.038194</td>\n",
              "      <td>-0.244870</td>\n",
              "      <td>0.72812</td>\n",
              "      <td>-0.399610</td>\n",
              "      <td>0.083172</td>\n",
              "      <td>0.043953</td>\n",
              "      <td>-0.391410</td>\n",
              "      <td>0.334400</td>\n",
              "      <td>-0.57545</td>\n",
              "      <td>0.087459</td>\n",
              "      <td>...</td>\n",
              "      <td>0.016215</td>\n",
              "      <td>-0.017099</td>\n",
              "      <td>-0.389840</td>\n",
              "      <td>0.87424</td>\n",
              "      <td>-0.72569</td>\n",
              "      <td>-0.51058</td>\n",
              "      <td>-0.520280</td>\n",
              "      <td>-0.14590</td>\n",
              "      <td>0.82780</td>\n",
              "      <td>0.270620</td>\n",
              "    </tr>\n",
              "    <tr>\n",
              "      <th>,</th>\n",
              "      <td>-0.107670</td>\n",
              "      <td>0.110530</td>\n",
              "      <td>0.59812</td>\n",
              "      <td>-0.543610</td>\n",
              "      <td>0.673960</td>\n",
              "      <td>0.106630</td>\n",
              "      <td>0.038867</td>\n",
              "      <td>0.354810</td>\n",
              "      <td>0.06351</td>\n",
              "      <td>-0.094189</td>\n",
              "      <td>...</td>\n",
              "      <td>0.349510</td>\n",
              "      <td>-0.722600</td>\n",
              "      <td>0.375490</td>\n",
              "      <td>0.44410</td>\n",
              "      <td>-0.99059</td>\n",
              "      <td>0.61214</td>\n",
              "      <td>-0.351110</td>\n",
              "      <td>-0.83155</td>\n",
              "      <td>0.45293</td>\n",
              "      <td>0.082577</td>\n",
              "    </tr>\n",
              "    <tr>\n",
              "      <th>.</th>\n",
              "      <td>-0.339790</td>\n",
              "      <td>0.209410</td>\n",
              "      <td>0.46348</td>\n",
              "      <td>-0.647920</td>\n",
              "      <td>-0.383770</td>\n",
              "      <td>0.038034</td>\n",
              "      <td>0.171270</td>\n",
              "      <td>0.159780</td>\n",
              "      <td>0.46619</td>\n",
              "      <td>-0.019169</td>\n",
              "      <td>...</td>\n",
              "      <td>-0.063351</td>\n",
              "      <td>-0.674120</td>\n",
              "      <td>-0.068895</td>\n",
              "      <td>0.53604</td>\n",
              "      <td>-0.87773</td>\n",
              "      <td>0.31802</td>\n",
              "      <td>-0.392420</td>\n",
              "      <td>-0.23394</td>\n",
              "      <td>0.47298</td>\n",
              "      <td>-0.028803</td>\n",
              "    </tr>\n",
              "    <tr>\n",
              "      <th>of</th>\n",
              "      <td>-0.152900</td>\n",
              "      <td>-0.242790</td>\n",
              "      <td>0.89837</td>\n",
              "      <td>0.169960</td>\n",
              "      <td>0.535160</td>\n",
              "      <td>0.487840</td>\n",
              "      <td>-0.588260</td>\n",
              "      <td>-0.179820</td>\n",
              "      <td>-1.35810</td>\n",
              "      <td>0.425410</td>\n",
              "      <td>...</td>\n",
              "      <td>0.187120</td>\n",
              "      <td>-0.018488</td>\n",
              "      <td>-0.267570</td>\n",
              "      <td>0.72700</td>\n",
              "      <td>-0.59363</td>\n",
              "      <td>-0.34839</td>\n",
              "      <td>-0.560940</td>\n",
              "      <td>-0.59100</td>\n",
              "      <td>1.00390</td>\n",
              "      <td>0.206640</td>\n",
              "    </tr>\n",
              "    <tr>\n",
              "      <th>to</th>\n",
              "      <td>-0.189700</td>\n",
              "      <td>0.050024</td>\n",
              "      <td>0.19084</td>\n",
              "      <td>-0.049184</td>\n",
              "      <td>-0.089737</td>\n",
              "      <td>0.210060</td>\n",
              "      <td>-0.549520</td>\n",
              "      <td>0.098377</td>\n",
              "      <td>-0.20135</td>\n",
              "      <td>0.342410</td>\n",
              "      <td>...</td>\n",
              "      <td>-0.131340</td>\n",
              "      <td>0.058617</td>\n",
              "      <td>-0.318690</td>\n",
              "      <td>-0.61419</td>\n",
              "      <td>-0.62393</td>\n",
              "      <td>-0.41548</td>\n",
              "      <td>-0.038175</td>\n",
              "      <td>-0.39804</td>\n",
              "      <td>0.47647</td>\n",
              "      <td>-0.159830</td>\n",
              "    </tr>\n",
              "  </tbody>\n",
              "</table>\n",
              "<p>5 rows × 100 columns</p>\n",
              "</div>\n",
              "      <button class=\"colab-df-convert\" onclick=\"convertToInteractive('df-cbc2c82e-7d7c-488c-8b83-de20166d5df7')\"\n",
              "              title=\"Convert this dataframe to an interactive table.\"\n",
              "              style=\"display:none;\">\n",
              "        \n",
              "  <svg xmlns=\"http://www.w3.org/2000/svg\" height=\"24px\"viewBox=\"0 0 24 24\"\n",
              "       width=\"24px\">\n",
              "    <path d=\"M0 0h24v24H0V0z\" fill=\"none\"/>\n",
              "    <path d=\"M18.56 5.44l.94 2.06.94-2.06 2.06-.94-2.06-.94-.94-2.06-.94 2.06-2.06.94zm-11 1L8.5 8.5l.94-2.06 2.06-.94-2.06-.94L8.5 2.5l-.94 2.06-2.06.94zm10 10l.94 2.06.94-2.06 2.06-.94-2.06-.94-.94-2.06-.94 2.06-2.06.94z\"/><path d=\"M17.41 7.96l-1.37-1.37c-.4-.4-.92-.59-1.43-.59-.52 0-1.04.2-1.43.59L10.3 9.45l-7.72 7.72c-.78.78-.78 2.05 0 2.83L4 21.41c.39.39.9.59 1.41.59.51 0 1.02-.2 1.41-.59l7.78-7.78 2.81-2.81c.8-.78.8-2.07 0-2.86zM5.41 20L4 18.59l7.72-7.72 1.47 1.35L5.41 20z\"/>\n",
              "  </svg>\n",
              "      </button>\n",
              "      \n",
              "  <style>\n",
              "    .colab-df-container {\n",
              "      display:flex;\n",
              "      flex-wrap:wrap;\n",
              "      gap: 12px;\n",
              "    }\n",
              "\n",
              "    .colab-df-convert {\n",
              "      background-color: #E8F0FE;\n",
              "      border: none;\n",
              "      border-radius: 50%;\n",
              "      cursor: pointer;\n",
              "      display: none;\n",
              "      fill: #1967D2;\n",
              "      height: 32px;\n",
              "      padding: 0 0 0 0;\n",
              "      width: 32px;\n",
              "    }\n",
              "\n",
              "    .colab-df-convert:hover {\n",
              "      background-color: #E2EBFA;\n",
              "      box-shadow: 0px 1px 2px rgba(60, 64, 67, 0.3), 0px 1px 3px 1px rgba(60, 64, 67, 0.15);\n",
              "      fill: #174EA6;\n",
              "    }\n",
              "\n",
              "    [theme=dark] .colab-df-convert {\n",
              "      background-color: #3B4455;\n",
              "      fill: #D2E3FC;\n",
              "    }\n",
              "\n",
              "    [theme=dark] .colab-df-convert:hover {\n",
              "      background-color: #434B5C;\n",
              "      box-shadow: 0px 1px 3px 1px rgba(0, 0, 0, 0.15);\n",
              "      filter: drop-shadow(0px 1px 2px rgba(0, 0, 0, 0.3));\n",
              "      fill: #FFFFFF;\n",
              "    }\n",
              "  </style>\n",
              "\n",
              "      <script>\n",
              "        const buttonEl =\n",
              "          document.querySelector('#df-cbc2c82e-7d7c-488c-8b83-de20166d5df7 button.colab-df-convert');\n",
              "        buttonEl.style.display =\n",
              "          google.colab.kernel.accessAllowed ? 'block' : 'none';\n",
              "\n",
              "        async function convertToInteractive(key) {\n",
              "          const element = document.querySelector('#df-cbc2c82e-7d7c-488c-8b83-de20166d5df7');\n",
              "          const dataTable =\n",
              "            await google.colab.kernel.invokeFunction('convertToInteractive',\n",
              "                                                     [key], {});\n",
              "          if (!dataTable) return;\n",
              "\n",
              "          const docLinkHtml = 'Like what you see? Visit the ' +\n",
              "            '<a target=\"_blank\" href=https://colab.research.google.com/notebooks/data_table.ipynb>data table notebook</a>'\n",
              "            + ' to learn more about interactive tables.';\n",
              "          element.innerHTML = '';\n",
              "          dataTable['output_type'] = 'display_data';\n",
              "          await google.colab.output.renderOutput(dataTable, element);\n",
              "          const docLink = document.createElement('div');\n",
              "          docLink.innerHTML = docLinkHtml;\n",
              "          element.appendChild(docLink);\n",
              "        }\n",
              "      </script>\n",
              "    </div>\n",
              "  </div>\n",
              "  "
            ]
          },
          "metadata": {},
          "execution_count": 236
        }
      ]
    },
    {
      "cell_type": "code",
      "source": [
        "embeddings_index[\"the\"]"
      ],
      "metadata": {
        "colab": {
          "base_uri": "https://localhost:8080/"
        },
        "id": "4jMnVW5FJVCe",
        "outputId": "02ae66a7-5b54-47f7-d52b-26258334e27b"
      },
      "execution_count": 235,
      "outputs": [
        {
          "output_type": "execute_result",
          "data": {
            "text/plain": [
              "array([-0.038194, -0.24487 ,  0.72812 , -0.39961 ,  0.083172,  0.043953,\n",
              "       -0.39141 ,  0.3344  , -0.57545 ,  0.087459,  0.28787 , -0.06731 ,\n",
              "        0.30906 , -0.26384 , -0.13231 , -0.20757 ,  0.33395 , -0.33848 ,\n",
              "       -0.31743 , -0.48336 ,  0.1464  , -0.37304 ,  0.34577 ,  0.052041,\n",
              "        0.44946 , -0.46971 ,  0.02628 , -0.54155 , -0.15518 , -0.14107 ,\n",
              "       -0.039722,  0.28277 ,  0.14393 ,  0.23464 , -0.31021 ,  0.086173,\n",
              "        0.20397 ,  0.52624 ,  0.17164 , -0.082378, -0.71787 , -0.41531 ,\n",
              "        0.20335 , -0.12763 ,  0.41367 ,  0.55187 ,  0.57908 , -0.33477 ,\n",
              "       -0.36559 , -0.54857 , -0.062892,  0.26584 ,  0.30205 ,  0.99775 ,\n",
              "       -0.80481 , -3.0243  ,  0.01254 , -0.36942 ,  2.2167  ,  0.72201 ,\n",
              "       -0.24978 ,  0.92136 ,  0.034514,  0.46745 ,  1.1079  , -0.19358 ,\n",
              "       -0.074575,  0.23353 , -0.052062, -0.22044 ,  0.057162, -0.15806 ,\n",
              "       -0.30798 , -0.41625 ,  0.37972 ,  0.15006 , -0.53212 , -0.2055  ,\n",
              "       -1.2526  ,  0.071624,  0.70565 ,  0.49744 , -0.42063 ,  0.26148 ,\n",
              "       -1.538   , -0.30223 , -0.073438, -0.28312 ,  0.37104 , -0.25217 ,\n",
              "        0.016215, -0.017099, -0.38984 ,  0.87424 , -0.72569 , -0.51058 ,\n",
              "       -0.52028 , -0.1459  ,  0.8278  ,  0.27062 ], dtype=float32)"
            ]
          },
          "metadata": {},
          "execution_count": 235
        }
      ]
    },
    {
      "cell_type": "code",
      "source": [
        "text_vectorizer"
      ],
      "metadata": {
        "colab": {
          "base_uri": "https://localhost:8080/"
        },
        "id": "WBGxJoEfJzKB",
        "outputId": "6b316fd9-7fb7-4f84-c57f-4d6cabf6b45d"
      },
      "execution_count": 237,
      "outputs": [
        {
          "output_type": "execute_result",
          "data": {
            "text/plain": [
              "<keras.layers.preprocessing.text_vectorization.TextVectorization at 0x7fd8d8380fd0>"
            ]
          },
          "metadata": {},
          "execution_count": 237
        }
      ]
    },
    {
      "cell_type": "code",
      "source": [
        "text_vectorizer.get_vocabulary()[:5]"
      ],
      "metadata": {
        "colab": {
          "base_uri": "https://localhost:8080/"
        },
        "id": "Rbxdt8QmO5vP",
        "outputId": "34e234c4-b22e-4228-e2cb-40e37d5dd041"
      },
      "execution_count": 238,
      "outputs": [
        {
          "output_type": "execute_result",
          "data": {
            "text/plain": [
              "['', '[UNK]', 'the', 'and', 'of']"
            ]
          },
          "metadata": {},
          "execution_count": 238
        }
      ]
    },
    {
      "cell_type": "code",
      "source": [
        "output = text_vectorizer(\"the cast sat on a mat\")\n",
        "output"
      ],
      "metadata": {
        "colab": {
          "base_uri": "https://localhost:8080/"
        },
        "id": "itmVXngrPAim",
        "outputId": "191ad064-8d6f-4a72-bce0-079cdb92de49"
      },
      "execution_count": 242,
      "outputs": [
        {
          "output_type": "execute_result",
          "data": {
            "text/plain": [
              "<tf.Tensor: shape=(55,), dtype=int64, numpy=\n",
              "array([    2,  6824,  8370,    18,     8, 12001,     0,     0,     0,\n",
              "           0,     0,     0,     0,     0,     0,     0,     0,     0,\n",
              "           0,     0,     0,     0,     0,     0,     0,     0,     0,\n",
              "           0,     0,     0,     0,     0,     0,     0,     0,     0,\n",
              "           0,     0,     0,     0,     0,     0,     0,     0,     0,\n",
              "           0,     0,     0,     0,     0,     0,     0,     0,     0,\n",
              "           0])>"
            ]
          },
          "metadata": {},
          "execution_count": 242
        }
      ]
    },
    {
      "cell_type": "code",
      "source": [
        "output = text_vectorizer([[\"the cast sat on a mat\"]])\n",
        "output"
      ],
      "metadata": {
        "colab": {
          "base_uri": "https://localhost:8080/"
        },
        "id": "cvpJY2KvPFLx",
        "outputId": "a6f8e3a7-201a-492c-ab77-4b85f671f85c"
      },
      "execution_count": 244,
      "outputs": [
        {
          "output_type": "execute_result",
          "data": {
            "text/plain": [
              "<tf.Tensor: shape=(1, 55), dtype=int64, numpy=\n",
              "array([[    2,  6824,  8370,    18,     8, 12001,     0,     0,     0,\n",
              "            0,     0,     0,     0,     0,     0,     0,     0,     0,\n",
              "            0,     0,     0,     0,     0,     0,     0,     0,     0,\n",
              "            0,     0,     0,     0,     0,     0,     0,     0,     0,\n",
              "            0,     0,     0,     0,     0,     0,     0,     0,     0,\n",
              "            0,     0,     0,     0,     0,     0,     0,     0,     0,\n",
              "            0]])>"
            ]
          },
          "metadata": {},
          "execution_count": 244
        }
      ]
    },
    {
      "cell_type": "code",
      "source": [
        "vocabulary = text_vectorizer.get_vocabulary()\n",
        "word_index = dict(zip(vocabulary, range(len(vocabulary))))\n",
        "word_index"
      ],
      "metadata": {
        "colab": {
          "base_uri": "https://localhost:8080/"
        },
        "id": "DZOmqS1rPP1x",
        "outputId": "b5ec3747-3699-4d90-a7c6-828f228ad7f1"
      },
      "execution_count": 251,
      "outputs": [
        {
          "output_type": "execute_result",
          "data": {
            "text/plain": [
              "{'': 0,\n",
              " '[UNK]': 1,\n",
              " 'the': 2,\n",
              " 'and': 3,\n",
              " 'of': 4,\n",
              " 'in': 5,\n",
              " 'to': 6,\n",
              " 'with': 7,\n",
              " 'a': 8,\n",
              " 'were': 9,\n",
              " 'was': 10,\n",
              " 'for': 11,\n",
              " 'patients': 12,\n",
              " 'group': 13,\n",
              " 'p': 14,\n",
              " 'at': 15,\n",
              " 'or': 16,\n",
              " 'study': 17,\n",
              " 'on': 18,\n",
              " 'treatment': 19,\n",
              " 'is': 20,\n",
              " 'after': 21,\n",
              " 'by': 22,\n",
              " 'this': 23,\n",
              " 'groups': 24,\n",
              " 'as': 25,\n",
              " 'an': 26,\n",
              " 'from': 27,\n",
              " 'that': 28,\n",
              " 'randomized': 29,\n",
              " 'between': 30,\n",
              " 'not': 31,\n",
              " 'trial': 32,\n",
              " 'no': 33,\n",
              " 'compared': 34,\n",
              " 'control': 35,\n",
              " 'be': 36,\n",
              " 'significant': 37,\n",
              " 'intervention': 38,\n",
              " 'significantly': 39,\n",
              " 'n': 40,\n",
              " 'months': 41,\n",
              " 'than': 42,\n",
              " 'we': 43,\n",
              " 'vs': 44,\n",
              " 'rsb': 45,\n",
              " 'lsb': 46,\n",
              " 'clinical': 47,\n",
              " 'placebo': 48,\n",
              " 'baseline': 49,\n",
              " 'ci': 50,\n",
              " 'two': 51,\n",
              " 'during': 52,\n",
              " 'weeks': 53,\n",
              " 'both': 54,\n",
              " 'had': 55,\n",
              " 'primary': 56,\n",
              " 'mean': 57,\n",
              " 'are': 58,\n",
              " 'using': 59,\n",
              " 'participants': 60,\n",
              " 'there': 61,\n",
              " 'all': 62,\n",
              " 'time': 63,\n",
              " 'years': 64,\n",
              " 'pain': 65,\n",
              " 'therapy': 66,\n",
              " 'who': 67,\n",
              " 'mg': 68,\n",
              " 'more': 69,\n",
              " 'effect': 70,\n",
              " 'effects': 71,\n",
              " 'but': 72,\n",
              " 'risk': 73,\n",
              " 'difference': 74,\n",
              " 'outcomes': 75,\n",
              " 'total': 76,\n",
              " 'care': 77,\n",
              " 'rate': 78,\n",
              " 'efficacy': 79,\n",
              " 'received': 80,\n",
              " 'associated': 81,\n",
              " 'higher': 82,\n",
              " 'respectively': 83,\n",
              " 'days': 84,\n",
              " 'analysis': 85,\n",
              " 'outcome': 86,\n",
              " 'use': 87,\n",
              " 'one': 88,\n",
              " 'week': 89,\n",
              " 'women': 90,\n",
              " 'may': 91,\n",
              " 'randomly': 92,\n",
              " 'levels': 93,\n",
              " 'followup': 94,\n",
              " 'will': 95,\n",
              " 'increased': 96,\n",
              " 'health': 97,\n",
              " 'used': 98,\n",
              " 'have': 99,\n",
              " 'data': 100,\n",
              " 'score': 101,\n",
              " 'differences': 102,\n",
              " 'age': 103,\n",
              " 'subjects': 104,\n",
              " 'lower': 105,\n",
              " 'controlled': 106,\n",
              " 'blood': 107,\n",
              " 'day': 108,\n",
              " 'children': 109,\n",
              " 'versus': 110,\n",
              " 'these': 111,\n",
              " 'did': 112,\n",
              " 'assessed': 113,\n",
              " 'disease': 114,\n",
              " 'surgery': 115,\n",
              " 'among': 116,\n",
              " 'results': 117,\n",
              " 'adverse': 118,\n",
              " 'scores': 119,\n",
              " 'their': 120,\n",
              " 'included': 121,\n",
              " 'each': 122,\n",
              " 'assigned': 123,\n",
              " 'events': 124,\n",
              " 'those': 125,\n",
              " 'which': 126,\n",
              " 'patient': 127,\n",
              " 'test': 128,\n",
              " 'before': 129,\n",
              " 's': 130,\n",
              " 'dose': 131,\n",
              " 'either': 132,\n",
              " 'change': 133,\n",
              " 'three': 134,\n",
              " 'cancer': 135,\n",
              " 'safety': 136,\n",
              " 'effective': 137,\n",
              " 'also': 138,\n",
              " 'has': 139,\n",
              " 'however': 140,\n",
              " 'quality': 141,\n",
              " 'response': 142,\n",
              " 'into': 143,\n",
              " 'symptoms': 144,\n",
              " 'over': 145,\n",
              " 'changes': 146,\n",
              " 'showed': 147,\n",
              " 'observed': 148,\n",
              " 'function': 149,\n",
              " 'similar': 150,\n",
              " 'secondary': 151,\n",
              " 'first': 152,\n",
              " 'performed': 153,\n",
              " 'number': 154,\n",
              " 'training': 155,\n",
              " 'measured': 156,\n",
              " 'year': 157,\n",
              " 'scale': 158,\n",
              " 'without': 159,\n",
              " 'per': 160,\n",
              " 'daily': 161,\n",
              " 'rates': 162,\n",
              " 'postoperative': 163,\n",
              " 'evaluate': 164,\n",
              " 'standard': 165,\n",
              " 'ratio': 166,\n",
              " 'been': 167,\n",
              " 'other': 168,\n",
              " 'reduction': 169,\n",
              " 'improved': 170,\n",
              " 'can': 171,\n",
              " 'treated': 172,\n",
              " 'period': 173,\n",
              " 'weight': 174,\n",
              " 'receive': 175,\n",
              " 'nct': 176,\n",
              " 'exercise': 177,\n",
              " 'month': 178,\n",
              " 'increase': 179,\n",
              " 'whether': 180,\n",
              " 'high': 181,\n",
              " 'greater': 182,\n",
              " 'when': 183,\n",
              " 'evaluated': 184,\n",
              " 'it': 185,\n",
              " 'b': 186,\n",
              " 'd': 187,\n",
              " 'overall': 188,\n",
              " 'physical': 189,\n",
              " 'activity': 190,\n",
              " 'reduced': 191,\n",
              " 'only': 192,\n",
              " 'median': 193,\n",
              " 'improvement': 194,\n",
              " 'life': 195,\n",
              " 'h': 196,\n",
              " 'different': 197,\n",
              " 'conducted': 198,\n",
              " 'end': 199,\n",
              " 'pressure': 200,\n",
              " 'survival': 201,\n",
              " 'studies': 202,\n",
              " 'index': 203,\n",
              " 'level': 204,\n",
              " 'reported': 205,\n",
              " 't': 206,\n",
              " 'arm': 207,\n",
              " 'found': 208,\n",
              " 'phase': 209,\n",
              " 'randomised': 210,\n",
              " 'less': 211,\n",
              " 'decreased': 212,\n",
              " 'measures': 213,\n",
              " 'incidence': 214,\n",
              " 'most': 215,\n",
              " 'assess': 216,\n",
              " 'oral': 217,\n",
              " 'improve': 218,\n",
              " 'within': 219,\n",
              " 'low': 220,\n",
              " 'well': 221,\n",
              " 'interval': 222,\n",
              " 'diabetes': 223,\n",
              " 'early': 224,\n",
              " 'serum': 225,\n",
              " 'compare': 226,\n",
              " 'hours': 227,\n",
              " 'determine': 228,\n",
              " 'acute': 229,\n",
              " 'enrolled': 230,\n",
              " 'plus': 231,\n",
              " 'statistically': 232,\n",
              " 'trials': 233,\n",
              " 'mm': 234,\n",
              " 'confidence': 235,\n",
              " 'doubleblind': 236,\n",
              " 'hospital': 237,\n",
              " 'g': 238,\n",
              " 'body': 239,\n",
              " 'following': 240,\n",
              " 'prospective': 241,\n",
              " 'min': 242,\n",
              " 'c': 243,\n",
              " 'chronic': 244,\n",
              " 'receiving': 245,\n",
              " 'our': 246,\n",
              " 'healthy': 247,\n",
              " 'type': 248,\n",
              " 'plasma': 249,\n",
              " 'assessment': 250,\n",
              " 'including': 251,\n",
              " 'better': 252,\n",
              " 'completed': 253,\n",
              " 'factors': 254,\n",
              " 'depression': 255,\n",
              " 'program': 256,\n",
              " 'effectiveness': 257,\n",
              " 'while': 258,\n",
              " 'mortality': 259,\n",
              " 'heart': 260,\n",
              " 'based': 261,\n",
              " 'any': 262,\n",
              " 'cases': 263,\n",
              " 'loss': 264,\n",
              " 'interventions': 265,\n",
              " 'adults': 266,\n",
              " 'aim': 267,\n",
              " 'glucose': 268,\n",
              " 'combination': 269,\n",
              " 'reduce': 270,\n",
              " 'alone': 271,\n",
              " 'status': 272,\n",
              " 'hr': 273,\n",
              " 'medical': 274,\n",
              " 'clinicaltrialsgov': 275,\n",
              " 'stroke': 276,\n",
              " 'insulin': 277,\n",
              " 'population': 278,\n",
              " 'support': 279,\n",
              " 'positive': 280,\n",
              " 'could': 281,\n",
              " 'duration': 282,\n",
              " 'range': 283,\n",
              " 'followed': 284,\n",
              " 'research': 285,\n",
              " 'combined': 286,\n",
              " 'management': 287,\n",
              " 'administration': 288,\n",
              " 'severe': 289,\n",
              " 'visual': 290,\n",
              " 'analyses': 291,\n",
              " 'failure': 292,\n",
              " 'performance': 293,\n",
              " 'point': 294,\n",
              " 'undergoing': 295,\n",
              " 'complications': 296,\n",
              " 'four': 297,\n",
              " 'further': 298,\n",
              " 'evidence': 299,\n",
              " 'drug': 300,\n",
              " 'cognitive': 301,\n",
              " 'points': 302,\n",
              " 'up': 303,\n",
              " 'functional': 304,\n",
              " 'impact': 305,\n",
              " 'surgical': 306,\n",
              " 'aged': 307,\n",
              " 'its': 308,\n",
              " 'men': 309,\n",
              " 'findings': 310,\n",
              " 'although': 311,\n",
              " 'single': 312,\n",
              " 'through': 313,\n",
              " 'model': 314,\n",
              " 'parameters': 315,\n",
              " 'they': 316,\n",
              " 'common': 317,\n",
              " 'decrease': 318,\n",
              " 'new': 319,\n",
              " 'medication': 320,\n",
              " 'doses': 321,\n",
              " 'least': 322,\n",
              " 'cardiovascular': 323,\n",
              " 'if': 324,\n",
              " 'questionnaire': 325,\n",
              " 'volume': 326,\n",
              " 'active': 327,\n",
              " 'related': 328,\n",
              " 'placebocontrolled': 329,\n",
              " 'given': 330,\n",
              " 'investigate': 331,\n",
              " 'severity': 332,\n",
              " 'addition': 333,\n",
              " 'values': 334,\n",
              " 'longterm': 335,\n",
              " 'administered': 336,\n",
              " 'infants': 337,\n",
              " 'about': 338,\n",
              " 'death': 339,\n",
              " 'minutes': 340,\n",
              " 'concentrations': 341,\n",
              " 'cardiac': 342,\n",
              " 'potential': 343,\n",
              " 'occurred': 344,\n",
              " 'such': 345,\n",
              " 'coronary': 346,\n",
              " 'major': 347,\n",
              " 'individuals': 348,\n",
              " 'endpoint': 349,\n",
              " 'older': 350,\n",
              " 'general': 351,\n",
              " 'underwent': 352,\n",
              " 'under': 353,\n",
              " 'sleep': 354,\n",
              " 'system': 355,\n",
              " 'six': 356,\n",
              " 'sd': 357,\n",
              " 'm': 358,\n",
              " 'current': 359,\n",
              " 'infection': 360,\n",
              " 'times': 361,\n",
              " 'moderate': 362,\n",
              " 'method': 363,\n",
              " 'ml': 364,\n",
              " 'additional': 365,\n",
              " 'conventional': 366,\n",
              " 'objective': 367,\n",
              " 'muscle': 368,\n",
              " 'present': 369,\n",
              " 'usual': 370,\n",
              " 'demonstrated': 371,\n",
              " 'design': 372,\n",
              " 'acupuncture': 373,\n",
              " 'according': 374,\n",
              " 'size': 375,\n",
              " 'diet': 376,\n",
              " 'treatments': 377,\n",
              " 'ii': 378,\n",
              " 'allocated': 379,\n",
              " 'information': 380,\n",
              " 'evaluation': 381,\n",
              " 'recorded': 382,\n",
              " 'relative': 383,\n",
              " 'analyzed': 384,\n",
              " 'mass': 385,\n",
              " 'acid': 386,\n",
              " 'screening': 387,\n",
              " 'regression': 388,\n",
              " 'i': 389,\n",
              " 'injection': 390,\n",
              " 'criteria': 391,\n",
              " 'syndrome': 392,\n",
              " 'recovery': 393,\n",
              " 'registered': 394,\n",
              " 'characteristics': 395,\n",
              " 'protein': 396,\n",
              " 'measure': 397,\n",
              " 'benefit': 398,\n",
              " 'intake': 399,\n",
              " 'frequency': 400,\n",
              " 'stress': 401,\n",
              " 'protocol': 402,\n",
              " 'prevention': 403,\n",
              " 'recruited': 404,\n",
              " 'average': 405,\n",
              " 'should': 406,\n",
              " 'procedure': 407,\n",
              " 'improvements': 408,\n",
              " 'experimental': 409,\n",
              " 'bone': 410,\n",
              " 'adjusted': 411,\n",
              " 'vitamin': 412,\n",
              " 'breast': 413,\n",
              " 'provide': 414,\n",
              " 'chemotherapy': 415,\n",
              " 'sessions': 416,\n",
              " 'normal': 417,\n",
              " 'every': 418,\n",
              " 'consumption': 419,\n",
              " 'suggest': 420,\n",
              " 'comparison': 421,\n",
              " 'concentration': 422,\n",
              " 'association': 423,\n",
              " 'condition': 424,\n",
              " 'smoking': 425,\n",
              " 'hazard': 426,\n",
              " 'anxiety': 427,\n",
              " 'satisfaction': 428,\n",
              " 'adherence': 429,\n",
              " 'important': 430,\n",
              " 'same': 431,\n",
              " 'factor': 432,\n",
              " 'education': 433,\n",
              " 'due': 434,\n",
              " 'anesthesia': 435,\n",
              " 'whereas': 436,\n",
              " 'examined': 437,\n",
              " 'therapeutic': 438,\n",
              " 'once': 439,\n",
              " 'needed': 440,\n",
              " 'sample': 441,\n",
              " 'responses': 442,\n",
              " 'proportion': 443,\n",
              " 'collected': 444,\n",
              " 'grade': 445,\n",
              " 'investigated': 446,\n",
              " 'aimed': 447,\n",
              " 'symptom': 448,\n",
              " 'area': 449,\n",
              " 'practice': 450,\n",
              " 'reducing': 451,\n",
              " 'prior': 452,\n",
              " 'approach': 453,\n",
              " 'achieved': 454,\n",
              " 'exposure': 455,\n",
              " 'bmi': 456,\n",
              " 'social': 457,\n",
              " 'conditions': 458,\n",
              " 'controls': 459,\n",
              " 'il': 460,\n",
              " 'alcohol': 461,\n",
              " 'statistical': 462,\n",
              " 'clinically': 463,\n",
              " 'supplementation': 464,\n",
              " 'stimulation': 465,\n",
              " 'multiple': 466,\n",
              " 'percentage': 467,\n",
              " 'previous': 468,\n",
              " 'negative': 469,\n",
              " 'cohort': 470,\n",
              " 'divided': 471,\n",
              " 'defined': 472,\n",
              " 'initial': 473,\n",
              " 'renal': 474,\n",
              " 'technique': 475,\n",
              " 'models': 476,\n",
              " 'myocardial': 477,\n",
              " 'cd': 478,\n",
              " 'delivery': 479,\n",
              " 'second': 480,\n",
              " 'developed': 481,\n",
              " 'required': 482,\n",
              " 'need': 483,\n",
              " 'crossover': 484,\n",
              " 'provided': 485,\n",
              " 'mental': 486,\n",
              " 'five': 487,\n",
              " 'complete': 488,\n",
              " 'lung': 489,\n",
              " 'arms': 490,\n",
              " 'r': 491,\n",
              " 'target': 492,\n",
              " 'side': 493,\n",
              " 'knowledge': 494,\n",
              " 'would': 495,\n",
              " 'superior': 496,\n",
              " 'vaccine': 497,\n",
              " 'variables': 498,\n",
              " 'progression': 499,\n",
              " 'hiv': 500,\n",
              " 'development': 501,\n",
              " 'multicenter': 502,\n",
              " 'injury': 503,\n",
              " 'resistance': 504,\n",
              " 'determined': 505,\n",
              " 'bleeding': 506,\n",
              " 'cell': 507,\n",
              " 'out': 508,\n",
              " 'sensitivity': 509,\n",
              " 'kg': 510,\n",
              " 'intravenous': 511,\n",
              " 'shown': 512,\n",
              " 'samples': 513,\n",
              " 'safe': 514,\n",
              " 'students': 515,\n",
              " 'then': 516,\n",
              " 'knee': 517,\n",
              " 'eligible': 518,\n",
              " 'people': 519,\n",
              " 'cm': 520,\n",
              " 'small': 521,\n",
              " 'vas': 522,\n",
              " 'length': 523,\n",
              " 'main': 524,\n",
              " 'infusion': 525,\n",
              " 'identified': 526,\n",
              " 'obtained': 527,\n",
              " 'serious': 528,\n",
              " 'value': 529,\n",
              " 'rehabilitation': 530,\n",
              " 'stage': 531,\n",
              " 'likely': 532,\n",
              " 'mild': 533,\n",
              " 'examine': 534,\n",
              " 'considered': 535,\n",
              " 'diagnosis': 536,\n",
              " 'across': 537,\n",
              " 'skin': 538,\n",
              " 'regarding': 539,\n",
              " 'pregnancy': 540,\n",
              " 'strength': 541,\n",
              " 'because': 542,\n",
              " 'artery': 543,\n",
              " 'differ': 544,\n",
              " 'large': 545,\n",
              " 'role': 546,\n",
              " 'hundred': 547,\n",
              " 'home': 548,\n",
              " 'tests': 549,\n",
              " 'comparable': 550,\n",
              " 'applied': 551,\n",
              " 'recurrence': 552,\n",
              " 'increases': 553,\n",
              " 'iii': 554,\n",
              " 'twice': 555,\n",
              " 'independent': 556,\n",
              " 'improving': 557,\n",
              " 'block': 558,\n",
              " 'available': 559,\n",
              " 'designed': 560,\n",
              " 'disorder': 561,\n",
              " 'pulmonary': 562,\n",
              " 'odds': 563,\n",
              " 'male': 564,\n",
              " 'individual': 565,\n",
              " 'dietary': 566,\n",
              " 'tested': 567,\n",
              " 'resulted': 568,\n",
              " 'asthma': 569,\n",
              " 'openlabel': 570,\n",
              " 'being': 571,\n",
              " 'eyes': 572,\n",
              " 'cholesterol': 573,\n",
              " 'testing': 574,\n",
              " 'increasing': 575,\n",
              " 'regimen': 576,\n",
              " 'costs': 577,\n",
              " 'methods': 578,\n",
              " 'intensity': 579,\n",
              " 'tolerated': 580,\n",
              " 'experienced': 581,\n",
              " 'comparing': 582,\n",
              " 'longer': 583,\n",
              " 'some': 584,\n",
              " 'local': 585,\n",
              " 'cells': 586,\n",
              " 'blinded': 587,\n",
              " 'advanced': 588,\n",
              " 'respiratory': 589,\n",
              " 'fat': 590,\n",
              " 'measurements': 591,\n",
              " 'prostate': 592,\n",
              " 'benefits': 593,\n",
              " 'identifier': 594,\n",
              " 'randomization': 595,\n",
              " 'profile': 596,\n",
              " 'estimated': 597,\n",
              " 'via': 598,\n",
              " 'modified': 599,\n",
              " 'motor': 600,\n",
              " 'left': 601,\n",
              " 'adult': 602,\n",
              " 'stay': 603,\n",
              " 'liver': 604,\n",
              " 'interaction': 605,\n",
              " 'strategy': 606,\n",
              " 'monitoring': 607,\n",
              " 'cost': 608,\n",
              " 'qol': 609,\n",
              " 'continuous': 610,\n",
              " 'success': 611,\n",
              " 'disability': 612,\n",
              " 'community': 613,\n",
              " 'terms': 614,\n",
              " 'hbac': 615,\n",
              " 'urinary': 616,\n",
              " 'oxygen': 617,\n",
              " 'mgkg': 618,\n",
              " 'female': 619,\n",
              " 'visits': 620,\n",
              " 'growth': 621,\n",
              " 'saline': 622,\n",
              " 'brain': 623,\n",
              " 'post': 624,\n",
              " 'drugs': 625,\n",
              " 'reductions': 626,\n",
              " 'maintenance': 627,\n",
              " 'specific': 628,\n",
              " 'hour': 629,\n",
              " 'selected': 630,\n",
              " 'human': 631,\n",
              " 'weekly': 632,\n",
              " 'routine': 633,\n",
              " 'until': 634,\n",
              " 'maximum': 635,\n",
              " 'inflammation': 636,\n",
              " 'include': 637,\n",
              " 'lesions': 638,\n",
              " 'relationship': 639,\n",
              " 'might': 640,\n",
              " 'infarction': 641,\n",
              " 'intensive': 642,\n",
              " 'despite': 643,\n",
              " 'against': 644,\n",
              " 'endpoints': 645,\n",
              " 'influence': 646,\n",
              " 'global': 647,\n",
              " 'fatigue': 648,\n",
              " 'depressive': 649,\n",
              " 'prevalence': 650,\n",
              " 'iv': 651,\n",
              " 'future': 652,\n",
              " 'os': 653,\n",
              " 'short': 654,\n",
              " 'open': 655,\n",
              " 'course': 656,\n",
              " 'assessments': 657,\n",
              " 'sites': 658,\n",
              " 'hypertension': 659,\n",
              " 'previously': 660,\n",
              " 'food': 661,\n",
              " 'fasting': 662,\n",
              " 'ct': 663,\n",
              " 'bp': 664,\n",
              " 'limited': 665,\n",
              " 'larger': 666,\n",
              " 'strategies': 667,\n",
              " 'l': 668,\n",
              " 'tissue': 669,\n",
              " 'systemic': 670,\n",
              " 'metabolic': 671,\n",
              " 'eye': 672,\n",
              " 'analgesia': 673,\n",
              " 'site': 674,\n",
              " 'event': 675,\n",
              " 'setting': 676,\n",
              " 'parents': 677,\n",
              " 'arterial': 678,\n",
              " 'application': 679,\n",
              " 'systolic': 680,\n",
              " 'central': 681,\n",
              " 'known': 682,\n",
              " 'seen': 683,\n",
              " 'behavior': 684,\n",
              " 'studied': 685,\n",
              " 'inflammatory': 686,\n",
              " 'adolescents': 687,\n",
              " 'imaging': 688,\n",
              " 'pilot': 689,\n",
              " 'peak': 690,\n",
              " 'session': 691,\n",
              " 'result': 692,\n",
              " 'sex': 693,\n",
              " 'mmhg': 694,\n",
              " 'purpose': 695,\n",
              " 'discharge': 696,\n",
              " 'work': 697,\n",
              " 'th': 698,\n",
              " 'rating': 699,\n",
              " 'obese': 700,\n",
              " 'operation': 701,\n",
              " 'feasibility': 702,\n",
              " 'improves': 703,\n",
              " 'fewer': 704,\n",
              " 'procedures': 705,\n",
              " 'behavioral': 706,\n",
              " 'preoperative': 707,\n",
              " 'national': 708,\n",
              " 'therefore': 709,\n",
              " 'laser': 710,\n",
              " 'does': 711,\n",
              " 'diagnostic': 712,\n",
              " 'capacity': 713,\n",
              " 'expression': 714,\n",
              " 'identify': 715,\n",
              " 'poor': 716,\n",
              " 'kidney': 717,\n",
              " 'dysfunction': 718,\n",
              " 'skills': 719,\n",
              " 'detected': 720,\n",
              " 'postoperatively': 721,\n",
              " 'shorter': 722,\n",
              " 'laparoscopic': 723,\n",
              " 'tumor': 724,\n",
              " 'device': 725,\n",
              " 'history': 726,\n",
              " 'andor': 727,\n",
              " 'young': 728,\n",
              " 'stable': 729,\n",
              " 'recommended': 730,\n",
              " 'noninferiority': 731,\n",
              " 'part': 732,\n",
              " 'treat': 733,\n",
              " 'child': 734,\n",
              " 'university': 735,\n",
              " 'confirmed': 736,\n",
              " 'wound': 737,\n",
              " 'inhibitor': 738,\n",
              " 'composite': 739,\n",
              " 'ventilation': 740,\n",
              " 'novel': 741,\n",
              " 'affect': 742,\n",
              " 'abdominal': 743,\n",
              " 'mgday': 744,\n",
              " 'good': 745,\n",
              " 'receptor': 746,\n",
              " 'markers': 747,\n",
              " 'beneficial': 748,\n",
              " 'visit': 749,\n",
              " 'nasal': 750,\n",
              " 'disorders': 751,\n",
              " 'correlated': 752,\n",
              " 'consecutive': 753,\n",
              " 'implementation': 754,\n",
              " 'programme': 755,\n",
              " 'energy': 756,\n",
              " 'calculated': 757,\n",
              " 'vascular': 758,\n",
              " 'immediately': 759,\n",
              " 'eight': 760,\n",
              " 'ischemic': 761,\n",
              " 'copd': 762,\n",
              " 'upper': 763,\n",
              " 'sodium': 764,\n",
              " 'flow': 765,\n",
              " 'examination': 766,\n",
              " 'diagnosed': 767,\n",
              " 'center': 768,\n",
              " 'f': 769,\n",
              " 'birth': 770,\n",
              " 'volunteers': 771,\n",
              " 'mgdl': 772,\n",
              " 'ventricular': 773,\n",
              " 'linear': 774,\n",
              " 'alternative': 775,\n",
              " 'possible': 776,\n",
              " 'infections': 777,\n",
              " 'induction': 778,\n",
              " 'onset': 779,\n",
              " 'contrast': 780,\n",
              " 'sustained': 781,\n",
              " 'revealed': 782,\n",
              " 'hf': 783,\n",
              " 'often': 784,\n",
              " 'delivered': 785,\n",
              " 'sham': 786,\n",
              " 'report': 787,\n",
              " 'stent': 788,\n",
              " 'correlation': 789,\n",
              " 'functioning': 790,\n",
              " 'family': 791,\n",
              " 'remained': 792,\n",
              " 'obesity': 793,\n",
              " 'experience': 794,\n",
              " 'percent': 795,\n",
              " 'fluid': 796,\n",
              " 'presence': 797,\n",
              " 'impairment': 798,\n",
              " 'selfreported': 799,\n",
              " 'intentiontotreat': 800,\n",
              " 'problems': 801,\n",
              " 'auc': 802,\n",
              " 'traditional': 803,\n",
              " 'affected': 804,\n",
              " 'ability': 805,\n",
              " 'psychological': 806,\n",
              " 'morbidity': 807,\n",
              " 'indicated': 808,\n",
              " 'sexual': 809,\n",
              " 'stratified': 810,\n",
              " 'isrctn': 811,\n",
              " 'show': 812,\n",
              " 'perceived': 813,\n",
              " 'resection': 814,\n",
              " 'walking': 815,\n",
              " 'final': 816,\n",
              " 'power': 817,\n",
              " 'repeated': 818,\n",
              " 'practices': 819,\n",
              " 'participated': 820,\n",
              " 'access': 821,\n",
              " 'subjective': 822,\n",
              " 'maternal': 823,\n",
              " 'techniques': 824,\n",
              " 'case': 825,\n",
              " 'calcium': 826,\n",
              " 'reduces': 827,\n",
              " 'provides': 828,\n",
              " 'process': 829,\n",
              " 'predicted': 830,\n",
              " 'injections': 831,\n",
              " 'mixed': 832,\n",
              " 'tolerability': 833,\n",
              " 'observation': 834,\n",
              " 'unit': 835,\n",
              " 'elderly': 836,\n",
              " 'remission': 837,\n",
              " 'peripheral': 838,\n",
              " 'lifestyle': 839,\n",
              " 'airway': 840,\n",
              " 'spinal': 841,\n",
              " 'intraoperative': 842,\n",
              " 'hospitalization': 843,\n",
              " 'activities': 844,\n",
              " 'successful': 845,\n",
              " 'school': 846,\n",
              " 'intubation': 847,\n",
              " 'international': 848,\n",
              " 'very': 849,\n",
              " 'us': 850,\n",
              " 'taken': 851,\n",
              " 'subsequent': 852,\n",
              " 'subgroup': 853,\n",
              " 'shortterm': 854,\n",
              " 'hg': 855,\n",
              " 'chinese': 856,\n",
              " 'recurrent': 857,\n",
              " 'induced': 858,\n",
              " 'clinic': 859,\n",
              " 'mmoll': 860,\n",
              " 'many': 861,\n",
              " 'highly': 862,\n",
              " 'maintained': 863,\n",
              " 'lipid': 864,\n",
              " 'pfs': 865,\n",
              " 'containing': 866,\n",
              " 'prevent': 867,\n",
              " 'pd': 868,\n",
              " 'later': 869,\n",
              " 'ie': 870,\n",
              " 'drinking': 871,\n",
              " 'smokers': 872,\n",
              " 'significance': 873,\n",
              " 'sedation': 874,\n",
              " 'atrial': 875,\n",
              " 'remains': 876,\n",
              " 'feedback': 877,\n",
              " 'parallel': 878,\n",
              " 'predictive': 879,\n",
              " 'laboratory': 880,\n",
              " 'several': 881,\n",
              " 'iqr': 882,\n",
              " 'cervical': 883,\n",
              " 'symptomatic': 884,\n",
              " 'survey': 885,\n",
              " 'metformin': 886,\n",
              " 'cause': 887,\n",
              " 'thickness': 888,\n",
              " 'rr': 889,\n",
              " 'intervals': 890,\n",
              " 'random': 891,\n",
              " 'nerve': 892,\n",
              " 'ms': 893,\n",
              " 'explore': 894,\n",
              " 'memory': 895,\n",
              " 'hand': 896,\n",
              " 'centers': 897,\n",
              " 'how': 898,\n",
              " 'few': 899,\n",
              " 'balance': 900,\n",
              " 'curve': 901,\n",
              " 'ultrasound': 902,\n",
              " 'aes': 903,\n",
              " 'educational': 904,\n",
              " 'consistent': 905,\n",
              " 'pci': 906,\n",
              " 'ngml': 907,\n",
              " 'suggests': 908,\n",
              " 'help': 909,\n",
              " 'af': 910,\n",
              " 'throughout': 911,\n",
              " 'gastric': 912,\n",
              " 'questionnaires': 913,\n",
              " 'propofol': 914,\n",
              " 'dosing': 915,\n",
              " 'continued': 916,\n",
              " 'state': 917,\n",
              " 'radiation': 918,\n",
              " 'last': 919,\n",
              " 'form': 920,\n",
              " 'emergency': 921,\n",
              " 'solution': 922,\n",
              " 'order': 923,\n",
              " 'achieve': 924,\n",
              " 'elevated': 925,\n",
              " 'cessation': 926,\n",
              " 'thus': 927,\n",
              " 'seven': 928,\n",
              " 'minute': 929,\n",
              " 'hypothesis': 930,\n",
              " 'optimal': 931,\n",
              " 'neck': 932,\n",
              " 'st': 933,\n",
              " 'randomisation': 934,\n",
              " 'measurement': 935,\n",
              " 'costeffectiveness': 936,\n",
              " 'units': 937,\n",
              " 'frequent': 938,\n",
              " 'task': 939,\n",
              " 'recruitment': 940,\n",
              " 'medicine': 941,\n",
              " 'them': 942,\n",
              " 'urine': 943,\n",
              " 'lead': 944,\n",
              " 'services': 945,\n",
              " 'best': 946,\n",
              " 'free': 947,\n",
              " 'ed': 948,\n",
              " 'e': 949,\n",
              " 'analgesic': 950,\n",
              " 'amount': 951,\n",
              " 'regimens': 952,\n",
              " 'learning': 953,\n",
              " 'rct': 954,\n",
              " 'online': 955,\n",
              " 'having': 956,\n",
              " 'trend': 957,\n",
              " 'repair': 958,\n",
              " 'logistic': 959,\n",
              " 'brief': 960,\n",
              " 'morphine': 961,\n",
              " 'hip': 962,\n",
              " 'relevant': 963,\n",
              " 'mechanical': 964,\n",
              " 'gain': 965,\n",
              " 'physicians': 966,\n",
              " 'treating': 967,\n",
              " 'recent': 968,\n",
              " 'nausea': 969,\n",
              " 'multicentre': 970,\n",
              " 'cerebral': 971,\n",
              " 'biomarkers': 972,\n",
              " 'analog': 973,\n",
              " 'standardized': 974,\n",
              " 'mri': 975,\n",
              " 'healing': 976,\n",
              " 'programs': 977,\n",
              " 'late': 978,\n",
              " 'guidelines': 979,\n",
              " 'bowel': 980,\n",
              " 'simple': 981,\n",
              " 'direct': 982,\n",
              " 'even': 983,\n",
              " 'degree': 984,\n",
              " 'vaccination': 985,\n",
              " 'rapid': 986,\n",
              " 'behaviors': 987,\n",
              " 'immune': 988,\n",
              " 'detection': 989,\n",
              " 'third': 990,\n",
              " 'noted': 991,\n",
              " 'associations': 992,\n",
              " 'little': 993,\n",
              " 'count': 994,\n",
              " 'signs': 995,\n",
              " 'met': 996,\n",
              " 'toxicity': 997,\n",
              " 'useful': 998,\n",
              " 'involved': 999,\n",
              " ...}"
            ]
          },
          "metadata": {},
          "execution_count": 251
        }
      ]
    },
    {
      "cell_type": "code",
      "source": [
        "help(word_index)"
      ],
      "metadata": {
        "colab": {
          "base_uri": "https://localhost:8080/"
        },
        "id": "HGyIiMfkRW-R",
        "outputId": "990ab667-b45c-43c4-d5a6-a7bb44ff2a59"
      },
      "execution_count": 252,
      "outputs": [
        {
          "output_type": "stream",
          "name": "stdout",
          "text": [
            "Help on dict object:\n",
            "\n",
            "class dict(object)\n",
            " |  dict() -> new empty dictionary\n",
            " |  dict(mapping) -> new dictionary initialized from a mapping object's\n",
            " |      (key, value) pairs\n",
            " |  dict(iterable) -> new dictionary initialized as if via:\n",
            " |      d = {}\n",
            " |      for k, v in iterable:\n",
            " |          d[k] = v\n",
            " |  dict(**kwargs) -> new dictionary initialized with the name=value pairs\n",
            " |      in the keyword argument list.  For example:  dict(one=1, two=2)\n",
            " |  \n",
            " |  Built-in subclasses:\n",
            " |      StgDict\n",
            " |  \n",
            " |  Methods defined here:\n",
            " |  \n",
            " |  __contains__(self, key, /)\n",
            " |      True if the dictionary has the specified key, else False.\n",
            " |  \n",
            " |  __delitem__(self, key, /)\n",
            " |      Delete self[key].\n",
            " |  \n",
            " |  __eq__(self, value, /)\n",
            " |      Return self==value.\n",
            " |  \n",
            " |  __ge__(self, value, /)\n",
            " |      Return self>=value.\n",
            " |  \n",
            " |  __getattribute__(self, name, /)\n",
            " |      Return getattr(self, name).\n",
            " |  \n",
            " |  __getitem__(...)\n",
            " |      x.__getitem__(y) <==> x[y]\n",
            " |  \n",
            " |  __gt__(self, value, /)\n",
            " |      Return self>value.\n",
            " |  \n",
            " |  __init__(self, /, *args, **kwargs)\n",
            " |      Initialize self.  See help(type(self)) for accurate signature.\n",
            " |  \n",
            " |  __ior__(self, value, /)\n",
            " |      Return self|=value.\n",
            " |  \n",
            " |  __iter__(self, /)\n",
            " |      Implement iter(self).\n",
            " |  \n",
            " |  __le__(self, value, /)\n",
            " |      Return self<=value.\n",
            " |  \n",
            " |  __len__(self, /)\n",
            " |      Return len(self).\n",
            " |  \n",
            " |  __lt__(self, value, /)\n",
            " |      Return self<value.\n",
            " |  \n",
            " |  __ne__(self, value, /)\n",
            " |      Return self!=value.\n",
            " |  \n",
            " |  __or__(self, value, /)\n",
            " |      Return self|value.\n",
            " |  \n",
            " |  __repr__(self, /)\n",
            " |      Return repr(self).\n",
            " |  \n",
            " |  __reversed__(self, /)\n",
            " |      Return a reverse iterator over the dict keys.\n",
            " |  \n",
            " |  __ror__(self, value, /)\n",
            " |      Return value|self.\n",
            " |  \n",
            " |  __setitem__(self, key, value, /)\n",
            " |      Set self[key] to value.\n",
            " |  \n",
            " |  __sizeof__(...)\n",
            " |      D.__sizeof__() -> size of D in memory, in bytes\n",
            " |  \n",
            " |  clear(...)\n",
            " |      D.clear() -> None.  Remove all items from D.\n",
            " |  \n",
            " |  copy(...)\n",
            " |      D.copy() -> a shallow copy of D\n",
            " |  \n",
            " |  get(self, key, default=None, /)\n",
            " |      Return the value for key if key is in the dictionary, else default.\n",
            " |  \n",
            " |  items(...)\n",
            " |      D.items() -> a set-like object providing a view on D's items\n",
            " |  \n",
            " |  keys(...)\n",
            " |      D.keys() -> a set-like object providing a view on D's keys\n",
            " |  \n",
            " |  pop(...)\n",
            " |      D.pop(k[,d]) -> v, remove specified key and return the corresponding value.\n",
            " |      \n",
            " |      If key is not found, default is returned if given, otherwise KeyError is raised\n",
            " |  \n",
            " |  popitem(self, /)\n",
            " |      Remove and return a (key, value) pair as a 2-tuple.\n",
            " |      \n",
            " |      Pairs are returned in LIFO (last-in, first-out) order.\n",
            " |      Raises KeyError if the dict is empty.\n",
            " |  \n",
            " |  setdefault(self, key, default=None, /)\n",
            " |      Insert key with a value of default if key is not in the dictionary.\n",
            " |      \n",
            " |      Return the value for key if key is in the dictionary, else default.\n",
            " |  \n",
            " |  update(...)\n",
            " |      D.update([E, ]**F) -> None.  Update D from dict/iterable E and F.\n",
            " |      If E is present and has a .keys() method, then does:  for k in E: D[k] = E[k]\n",
            " |      If E is present and lacks a .keys() method, then does:  for k, v in E: D[k] = v\n",
            " |      In either case, this is followed by: for k in F:  D[k] = F[k]\n",
            " |  \n",
            " |  values(...)\n",
            " |      D.values() -> an object providing a view on D's values\n",
            " |  \n",
            " |  ----------------------------------------------------------------------\n",
            " |  Class methods defined here:\n",
            " |  \n",
            " |  __class_getitem__(...) from builtins.type\n",
            " |      See PEP 585\n",
            " |  \n",
            " |  fromkeys(iterable, value=None, /) from builtins.type\n",
            " |      Create a new dictionary with keys from iterable and values set to value.\n",
            " |  \n",
            " |  ----------------------------------------------------------------------\n",
            " |  Static methods defined here:\n",
            " |  \n",
            " |  __new__(*args, **kwargs) from builtins.type\n",
            " |      Create and return a new object.  See help(type) for accurate signature.\n",
            " |  \n",
            " |  ----------------------------------------------------------------------\n",
            " |  Data and other attributes defined here:\n",
            " |  \n",
            " |  __hash__ = None\n",
            "\n"
          ]
        }
      ]
    },
    {
      "cell_type": "code",
      "source": [
        "max_tokens = 68000 # taken from the paper\n",
        "\n",
        "# Create text vectorizer\n",
        "from tensorflow.keras.layers import TextVectorization\n",
        "\n",
        "text_vectorizer = TextVectorization(max_tokens=max_tokens, # number of words in vocabulary\n",
        "                                    output_sequence_length=55) # desired output length of vectorized sequences"
      ],
      "metadata": {
        "id": "4E7W55fTPyCx"
      },
      "execution_count": null,
      "outputs": []
    },
    {
      "cell_type": "code",
      "source": [
        "# make the embedding matrix i.e. mapping each word in our text_vectorizer vocabulary to the corresponding array in embedding_index\n",
        "\n",
        "num_tokens = len(text_vectorizer.get_vocabulary())\n",
        "\n",
        "embedding_dim = 100\n",
        "hits = 0\n",
        "misses = 0\n",
        "\n",
        "# prepare embedding matrix\n",
        "\n",
        "embedding_matrix = np.zeros((num_tokens, embedding_dim))\n",
        "for word, i in word_index.items():\n",
        "  embedding_vector = embeddings_index.get(word)\n",
        "  if embedding_vector is not None:\n",
        "    # words not found in embedding index will be all-zeros\n",
        "    # this includes the representation for padding and 'OOV'\n",
        "   embedding_matrix[i] = embedding_vector\n",
        "   hits +=1\n",
        "  else:\n",
        "    misses +=1\n",
        "\n",
        "print (\"converted %d words (with %d misses)\" % (hits,misses))"
      ],
      "metadata": {
        "colab": {
          "base_uri": "https://localhost:8080/"
        },
        "id": "ORAGUHvyP90c",
        "outputId": "b20b3526-f4fc-4e85-ce07-6611b1321ad3"
      },
      "execution_count": 278,
      "outputs": [
        {
          "output_type": "stream",
          "name": "stdout",
          "text": [
            "converted 29730 words (with 35111 misses)\n"
          ]
        }
      ]
    },
    {
      "cell_type": "code",
      "source": [
        "from tensorflow.keras.layers import Embedding\n",
        "from tensorflow import keras\n",
        "\n"
      ],
      "metadata": {
        "id": "eLl6WEHzSAL8"
      },
      "execution_count": 277,
      "outputs": []
    },
    {
      "cell_type": "code",
      "source": [
        "embedding_layer = Embedding(\n",
        "    num_tokens,\n",
        "    embedding_dim,\n",
        "    embeddings_initializer = keras.initializers.Constant(embedding_matrix),\n",
        "    trainable=False\n",
        ")"
      ],
      "metadata": {
        "id": "l4MPqPaKTnxU"
      },
      "execution_count": 261,
      "outputs": []
    },
    {
      "cell_type": "code",
      "source": [
        "# build the model\n",
        "inputs = layers.Input(shape=[], dtype = \"string\", name=\"input_layer\")\n",
        "x = embedding_layer(inputs)\n",
        "x = layers.Dense(128, activation=\"relu\")(x) # you could add more layers here if you want to\n",
        "\n",
        "x = layers.Dense(8, activation=\"relu\")(x)\n",
        "\n",
        "outputs = layers.Dense(num_classes, activation = \"softmax\")(x)\n",
        "model_2_glove = tf.keras.Model(inputs, outputs, name = \"model_2_gloVe\")\n",
        "\n",
        "\n",
        "model_2_glove.compile(loss=\"categorical_crossentropy\", optimizer=\"Adam\", metrics=\"accuracy\")\n",
        "model_2_glove.summary()\n",
        "\n"
      ],
      "metadata": {
        "colab": {
          "base_uri": "https://localhost:8080/"
        },
        "id": "UibymynQT9Rj",
        "outputId": "ba90c8d5-bfaa-4b18-c40e-d64c01b25197"
      },
      "execution_count": 283,
      "outputs": [
        {
          "output_type": "stream",
          "name": "stdout",
          "text": [
            "Model: \"model_2_gloVe\"\n",
            "_________________________________________________________________\n",
            " Layer (type)                Output Shape              Param #   \n",
            "=================================================================\n",
            " input_layer (InputLayer)    [(None,)]                 0         \n",
            "                                                                 \n",
            " embedding (Embedding)       (None, 100)               6484100   \n",
            "                                                                 \n",
            " dense_24 (Dense)            (None, 128)               12928     \n",
            "                                                                 \n",
            " dense_25 (Dense)            (None, 8)                 1032      \n",
            "                                                                 \n",
            " dense_26 (Dense)            (None, 5)                 45        \n",
            "                                                                 \n",
            "=================================================================\n",
            "Total params: 6,498,105\n",
            "Trainable params: 14,005\n",
            "Non-trainable params: 6,484,100\n",
            "_________________________________________________________________\n"
          ]
        }
      ]
    },
    {
      "cell_type": "code",
      "source": [
        "model_2.summary()"
      ],
      "metadata": {
        "colab": {
          "base_uri": "https://localhost:8080/"
        },
        "id": "8SSweS55Uzmi",
        "outputId": "a571ccca-7a04-49f0-d31b-a64b89c85b62"
      },
      "execution_count": 284,
      "outputs": [
        {
          "output_type": "stream",
          "name": "stdout",
          "text": [
            "Model: \"model_2_USE_feature_extractor\"\n",
            "_________________________________________________________________\n",
            " Layer (type)                Output Shape              Param #   \n",
            "=================================================================\n",
            " input_layer (InputLayer)    [(None,)]                 0         \n",
            "                                                                 \n",
            " universal_sentence_encoder   (None, 512)              256797824 \n",
            " (KerasLayer)                                                    \n",
            "                                                                 \n",
            " dense_15 (Dense)            (None, 128)               65664     \n",
            "                                                                 \n",
            " dense_16 (Dense)            (None, 5)                 645       \n",
            "                                                                 \n",
            "=================================================================\n",
            "Total params: 256,864,133\n",
            "Trainable params: 66,309\n",
            "Non-trainable params: 256,797,824\n",
            "_________________________________________________________________\n"
          ]
        }
      ]
    },
    {
      "cell_type": "code",
      "source": [
        "history_2_glove = model_2_glove.fit(train_dataset,\n",
        "                        epochs=3,\n",
        "                        steps_per_epoch = int(0.1*len(train_dataset)),\n",
        "                        validation_data = valid_dataset,\n",
        "                        validation_steps = int(0.1*len(valid_dataset)))"
      ],
      "metadata": {
        "colab": {
          "base_uri": "https://localhost:8080/",
          "height": 1000
        },
        "id": "m4KhbXlUUAVM",
        "outputId": "6f4b20b4-8a69-41eb-c1a2-603c81fe02f6"
      },
      "execution_count": 282,
      "outputs": [
        {
          "output_type": "stream",
          "name": "stdout",
          "text": [
            "Epoch 1/3\n"
          ]
        },
        {
          "output_type": "error",
          "ename": "UnimplementedError",
          "evalue": "ignored",
          "traceback": [
            "\u001b[0;31m---------------------------------------------------------------------------\u001b[0m",
            "\u001b[0;31mUnimplementedError\u001b[0m                        Traceback (most recent call last)",
            "\u001b[0;32m<ipython-input-282-e8d695c3102b>\u001b[0m in \u001b[0;36m<module>\u001b[0;34m\u001b[0m\n\u001b[0;32m----> 1\u001b[0;31m history_2_glove = model_2_glove.fit(train_dataset,\n\u001b[0m\u001b[1;32m      2\u001b[0m                         \u001b[0mepochs\u001b[0m\u001b[0;34m=\u001b[0m\u001b[0;36m3\u001b[0m\u001b[0;34m,\u001b[0m\u001b[0;34m\u001b[0m\u001b[0;34m\u001b[0m\u001b[0m\n\u001b[1;32m      3\u001b[0m                         \u001b[0msteps_per_epoch\u001b[0m \u001b[0;34m=\u001b[0m \u001b[0mint\u001b[0m\u001b[0;34m(\u001b[0m\u001b[0;36m0.1\u001b[0m\u001b[0;34m*\u001b[0m\u001b[0mlen\u001b[0m\u001b[0;34m(\u001b[0m\u001b[0mtrain_dataset\u001b[0m\u001b[0;34m)\u001b[0m\u001b[0;34m)\u001b[0m\u001b[0;34m,\u001b[0m\u001b[0;34m\u001b[0m\u001b[0;34m\u001b[0m\u001b[0m\n\u001b[1;32m      4\u001b[0m                         \u001b[0mvalidation_data\u001b[0m \u001b[0;34m=\u001b[0m \u001b[0mvalid_dataset\u001b[0m\u001b[0;34m,\u001b[0m\u001b[0;34m\u001b[0m\u001b[0;34m\u001b[0m\u001b[0m\n\u001b[1;32m      5\u001b[0m                         validation_steps = int(0.1*len(valid_dataset)))\n",
            "\u001b[0;32m/usr/local/lib/python3.9/dist-packages/keras/utils/traceback_utils.py\u001b[0m in \u001b[0;36merror_handler\u001b[0;34m(*args, **kwargs)\u001b[0m\n\u001b[1;32m     68\u001b[0m             \u001b[0;31m# To get the full stack trace, call:\u001b[0m\u001b[0;34m\u001b[0m\u001b[0;34m\u001b[0m\u001b[0m\n\u001b[1;32m     69\u001b[0m             \u001b[0;31m# `tf.debugging.disable_traceback_filtering()`\u001b[0m\u001b[0;34m\u001b[0m\u001b[0;34m\u001b[0m\u001b[0m\n\u001b[0;32m---> 70\u001b[0;31m             \u001b[0;32mraise\u001b[0m \u001b[0me\u001b[0m\u001b[0;34m.\u001b[0m\u001b[0mwith_traceback\u001b[0m\u001b[0;34m(\u001b[0m\u001b[0mfiltered_tb\u001b[0m\u001b[0;34m)\u001b[0m \u001b[0;32mfrom\u001b[0m \u001b[0;32mNone\u001b[0m\u001b[0;34m\u001b[0m\u001b[0;34m\u001b[0m\u001b[0m\n\u001b[0m\u001b[1;32m     71\u001b[0m         \u001b[0;32mfinally\u001b[0m\u001b[0;34m:\u001b[0m\u001b[0;34m\u001b[0m\u001b[0;34m\u001b[0m\u001b[0m\n\u001b[1;32m     72\u001b[0m             \u001b[0;32mdel\u001b[0m \u001b[0mfiltered_tb\u001b[0m\u001b[0;34m\u001b[0m\u001b[0;34m\u001b[0m\u001b[0m\n",
            "\u001b[0;32m/usr/local/lib/python3.9/dist-packages/tensorflow/python/eager/execute.py\u001b[0m in \u001b[0;36mquick_execute\u001b[0;34m(op_name, num_outputs, inputs, attrs, ctx, name)\u001b[0m\n\u001b[1;32m     50\u001b[0m   \u001b[0;32mtry\u001b[0m\u001b[0;34m:\u001b[0m\u001b[0;34m\u001b[0m\u001b[0;34m\u001b[0m\u001b[0m\n\u001b[1;32m     51\u001b[0m     \u001b[0mctx\u001b[0m\u001b[0;34m.\u001b[0m\u001b[0mensure_initialized\u001b[0m\u001b[0;34m(\u001b[0m\u001b[0;34m)\u001b[0m\u001b[0;34m\u001b[0m\u001b[0;34m\u001b[0m\u001b[0m\n\u001b[0;32m---> 52\u001b[0;31m     tensors = pywrap_tfe.TFE_Py_Execute(ctx._handle, device_name, op_name,\n\u001b[0m\u001b[1;32m     53\u001b[0m                                         inputs, attrs, num_outputs)\n\u001b[1;32m     54\u001b[0m   \u001b[0;32mexcept\u001b[0m \u001b[0mcore\u001b[0m\u001b[0;34m.\u001b[0m\u001b[0m_NotOkStatusException\u001b[0m \u001b[0;32mas\u001b[0m \u001b[0me\u001b[0m\u001b[0;34m:\u001b[0m\u001b[0;34m\u001b[0m\u001b[0;34m\u001b[0m\u001b[0m\n",
            "\u001b[0;31mUnimplementedError\u001b[0m: Graph execution error:\n\nDetected at node 'model_2_gloVe/embedding/Cast' defined at (most recent call last):\n    File \"/usr/lib/python3.9/runpy.py\", line 197, in _run_module_as_main\n      return _run_code(code, main_globals, None,\n    File \"/usr/lib/python3.9/runpy.py\", line 87, in _run_code\n      exec(code, run_globals)\n    File \"/usr/local/lib/python3.9/dist-packages/ipykernel_launcher.py\", line 16, in <module>\n      app.launch_new_instance()\n    File \"/usr/local/lib/python3.9/dist-packages/traitlets/config/application.py\", line 992, in launch_instance\n      app.start()\n    File \"/usr/local/lib/python3.9/dist-packages/ipykernel/kernelapp.py\", line 612, in start\n      self.io_loop.start()\n    File \"/usr/local/lib/python3.9/dist-packages/tornado/platform/asyncio.py\", line 215, in start\n      self.asyncio_loop.run_forever()\n    File \"/usr/lib/python3.9/asyncio/base_events.py\", line 601, in run_forever\n      self._run_once()\n    File \"/usr/lib/python3.9/asyncio/base_events.py\", line 1905, in _run_once\n      handle._run()\n    File \"/usr/lib/python3.9/asyncio/events.py\", line 80, in _run\n      self._context.run(self._callback, *self._args)\n    File \"/usr/local/lib/python3.9/dist-packages/tornado/ioloop.py\", line 687, in <lambda>\n      lambda f: self._run_callback(functools.partial(callback, future))\n    File \"/usr/local/lib/python3.9/dist-packages/tornado/ioloop.py\", line 740, in _run_callback\n      ret = callback()\n    File \"/usr/local/lib/python3.9/dist-packages/tornado/gen.py\", line 821, in inner\n      self.ctx_run(self.run)\n    File \"/usr/local/lib/python3.9/dist-packages/tornado/gen.py\", line 782, in run\n      yielded = self.gen.send(value)\n    File \"/usr/local/lib/python3.9/dist-packages/ipykernel/kernelbase.py\", line 365, in process_one\n      yield gen.maybe_future(dispatch(*args))\n    File \"/usr/local/lib/python3.9/dist-packages/tornado/gen.py\", line 234, in wrapper\n      yielded = ctx_run(next, result)\n    File \"/usr/local/lib/python3.9/dist-packages/ipykernel/kernelbase.py\", line 268, in dispatch_shell\n      yield gen.maybe_future(handler(stream, idents, msg))\n    File \"/usr/local/lib/python3.9/dist-packages/tornado/gen.py\", line 234, in wrapper\n      yielded = ctx_run(next, result)\n    File \"/usr/local/lib/python3.9/dist-packages/ipykernel/kernelbase.py\", line 543, in execute_request\n      self.do_execute(\n    File \"/usr/local/lib/python3.9/dist-packages/tornado/gen.py\", line 234, in wrapper\n      yielded = ctx_run(next, result)\n    File \"/usr/local/lib/python3.9/dist-packages/ipykernel/ipkernel.py\", line 306, in do_execute\n      res = shell.run_cell(code, store_history=store_history, silent=silent)\n    File \"/usr/local/lib/python3.9/dist-packages/ipykernel/zmqshell.py\", line 536, in run_cell\n      return super(ZMQInteractiveShell, self).run_cell(*args, **kwargs)\n    File \"/usr/local/lib/python3.9/dist-packages/IPython/core/interactiveshell.py\", line 2854, in run_cell\n      result = self._run_cell(\n    File \"/usr/local/lib/python3.9/dist-packages/IPython/core/interactiveshell.py\", line 2881, in _run_cell\n      return runner(coro)\n    File \"/usr/local/lib/python3.9/dist-packages/IPython/core/async_helpers.py\", line 68, in _pseudo_sync_runner\n      coro.send(None)\n    File \"/usr/local/lib/python3.9/dist-packages/IPython/core/interactiveshell.py\", line 3057, in run_cell_async\n      has_raised = await self.run_ast_nodes(code_ast.body, cell_name,\n    File \"/usr/local/lib/python3.9/dist-packages/IPython/core/interactiveshell.py\", line 3249, in run_ast_nodes\n      if (await self.run_code(code, result,  async_=asy)):\n    File \"/usr/local/lib/python3.9/dist-packages/IPython/core/interactiveshell.py\", line 3326, in run_code\n      exec(code_obj, self.user_global_ns, self.user_ns)\n    File \"<ipython-input-282-e8d695c3102b>\", line 1, in <module>\n      history_2_glove = model_2_glove.fit(train_dataset,\n    File \"/usr/local/lib/python3.9/dist-packages/keras/utils/traceback_utils.py\", line 65, in error_handler\n      return fn(*args, **kwargs)\n    File \"/usr/local/lib/python3.9/dist-packages/keras/engine/training.py\", line 1650, in fit\n      tmp_logs = self.train_function(iterator)\n    File \"/usr/local/lib/python3.9/dist-packages/keras/engine/training.py\", line 1249, in train_function\n      return step_function(self, iterator)\n    File \"/usr/local/lib/python3.9/dist-packages/keras/engine/training.py\", line 1233, in step_function\n      outputs = model.distribute_strategy.run(run_step, args=(data,))\n    File \"/usr/local/lib/python3.9/dist-packages/keras/engine/training.py\", line 1222, in run_step\n      outputs = model.train_step(data)\n    File \"/usr/local/lib/python3.9/dist-packages/keras/engine/training.py\", line 1023, in train_step\n      y_pred = self(x, training=True)\n    File \"/usr/local/lib/python3.9/dist-packages/keras/utils/traceback_utils.py\", line 65, in error_handler\n      return fn(*args, **kwargs)\n    File \"/usr/local/lib/python3.9/dist-packages/keras/engine/training.py\", line 561, in __call__\n      return super().__call__(*args, **kwargs)\n    File \"/usr/local/lib/python3.9/dist-packages/keras/utils/traceback_utils.py\", line 65, in error_handler\n      return fn(*args, **kwargs)\n    File \"/usr/local/lib/python3.9/dist-packages/keras/engine/base_layer.py\", line 1132, in __call__\n      outputs = call_fn(inputs, *args, **kwargs)\n    File \"/usr/local/lib/python3.9/dist-packages/keras/utils/traceback_utils.py\", line 96, in error_handler\n      return fn(*args, **kwargs)\n    File \"/usr/local/lib/python3.9/dist-packages/keras/engine/functional.py\", line 511, in call\n      return self._run_internal_graph(inputs, training=training, mask=mask)\n    File \"/usr/local/lib/python3.9/dist-packages/keras/engine/functional.py\", line 668, in _run_internal_graph\n      outputs = node.layer(*args, **kwargs)\n    File \"/usr/local/lib/python3.9/dist-packages/keras/utils/traceback_utils.py\", line 65, in error_handler\n      return fn(*args, **kwargs)\n    File \"/usr/local/lib/python3.9/dist-packages/keras/engine/base_layer.py\", line 1132, in __call__\n      outputs = call_fn(inputs, *args, **kwargs)\n    File \"/usr/local/lib/python3.9/dist-packages/keras/utils/traceback_utils.py\", line 96, in error_handler\n      return fn(*args, **kwargs)\n    File \"/usr/local/lib/python3.9/dist-packages/keras/layers/core/embedding.py\", line 207, in call\n      inputs = tf.cast(inputs, \"int32\")\nNode: 'model_2_gloVe/embedding/Cast'\n2 root error(s) found.\n  (0) UNIMPLEMENTED:  Cast string to int32 is not supported\n\t [[{{node model_2_gloVe/embedding/Cast}}]]\n  (1) CANCELLED:  Function was cancelled before it was started\n0 successful operations.\n0 derived errors ignored. [Op:__inference_train_function_970154]"
          ]
        }
      ]
    },
    {
      "cell_type": "code",
      "source": [
        "model_2_glove.evaluate(valid_dataset)\n",
        "model_2_glove_results = check_accuracy(y_true = \n",
        "                                       y_pred = )\n",
        "\n",
        "y_pred = tf.argmax(model_2_glove.predict(valid_dataset), axis=1)"
      ],
      "metadata": {
        "id": "fVJNU-3SUZAL"
      },
      "execution_count": null,
      "outputs": []
    }
  ]
}