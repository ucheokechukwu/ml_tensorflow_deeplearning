{
  "nbformat": 4,
  "nbformat_minor": 0,
  "metadata": {
    "colab": {
      "provenance": [],
      "authorship_tag": "ABX9TyONzBSxdy78WycyRSNWHlwQ",
      "include_colab_link": true
    },
    "kernelspec": {
      "name": "python3",
      "display_name": "Python 3"
    },
    "language_info": {
      "name": "python"
    }
  },
  "cells": [
    {
      "cell_type": "markdown",
      "metadata": {
        "id": "view-in-github",
        "colab_type": "text"
      },
      "source": [
        "<a href=\"https://colab.research.google.com/github/ucheokechukwu/ml_tensorflow_deeplearning/blob/main/06_transfer_learning_in_tensorflow_part_3_scaling_up.ipynb\" target=\"_parent\"><img src=\"https://colab.research.google.com/assets/colab-badge.svg\" alt=\"Open In Colab\"/></a>"
      ]
    },
    {
      "cell_type": "markdown",
      "source": [
        "# Transfer Learning With TF part 3: Scaling Up (Food Vision Mini 🍖🕶)\n",
        "\n",
        "Our goal is to beat the original Food101 Paper with 10% of the training data, leveraging transfer learning."
      ],
      "metadata": {
        "id": "jPGpKQw6jkwO"
      }
    },
    {
      "cell_type": "code",
      "source": [
        "!nvidia-smi"
      ],
      "metadata": {
        "colab": {
          "base_uri": "https://localhost:8080/"
        },
        "id": "qr88OuoBkD3Q",
        "outputId": "f6e2fb4d-bef1-46d1-93f5-1cb761ce6208"
      },
      "execution_count": 1,
      "outputs": [
        {
          "output_type": "stream",
          "name": "stdout",
          "text": [
            "NVIDIA-SMI has failed because it couldn't communicate with the NVIDIA driver. Make sure that the latest NVIDIA driver is installed and running.\n",
            "\n"
          ]
        }
      ]
    },
    {
      "cell_type": "code",
      "source": [
        "!wget https://raw.githubusercontent.com/mrdbourke/tensorflow-deep-learning/main/extras/helper_functions.py"
      ],
      "metadata": {
        "colab": {
          "base_uri": "https://localhost:8080/"
        },
        "id": "TXqZEOVNkW1B",
        "outputId": "f74b9b59-14ea-497e-ff6a-03b5d6f50efb"
      },
      "execution_count": 2,
      "outputs": [
        {
          "output_type": "stream",
          "name": "stdout",
          "text": [
            "--2023-02-22 05:58:24--  https://raw.githubusercontent.com/mrdbourke/tensorflow-deep-learning/main/extras/helper_functions.py\n",
            "Resolving raw.githubusercontent.com (raw.githubusercontent.com)... 185.199.108.133, 185.199.111.133, 185.199.110.133, ...\n",
            "Connecting to raw.githubusercontent.com (raw.githubusercontent.com)|185.199.108.133|:443... connected.\n",
            "HTTP request sent, awaiting response... 200 OK\n",
            "Length: 10246 (10K) [text/plain]\n",
            "Saving to: ‘helper_functions.py.1’\n",
            "\n",
            "helper_functions.py 100%[===================>]  10.01K  --.-KB/s    in 0s      \n",
            "\n",
            "2023-02-22 05:58:24 (92.3 MB/s) - ‘helper_functions.py.1’ saved [10246/10246]\n",
            "\n"
          ]
        }
      ]
    },
    {
      "cell_type": "code",
      "source": [
        "from helper_functions import walk_through_dir, unzip_data, plot_loss_curves, compare_historys"
      ],
      "metadata": {
        "id": "50JHP_AKkjYT"
      },
      "execution_count": 3,
      "outputs": []
    },
    {
      "cell_type": "markdown",
      "source": [
        "## 101 Food Classes: working with less data"
      ],
      "metadata": {
        "id": "HQpY7aL5lCXB"
      }
    },
    {
      "cell_type": "code",
      "source": [
        "!wget https://storage.googleapis.com/ztm_tf_course/food_vision/101_food_classes_10_percent.zip"
      ],
      "metadata": {
        "colab": {
          "base_uri": "https://localhost:8080/"
        },
        "id": "eZelB5q_lkVz",
        "outputId": "9732d8ff-72bd-4387-fb4e-be3363a7f48c"
      },
      "execution_count": 4,
      "outputs": [
        {
          "output_type": "stream",
          "name": "stdout",
          "text": [
            "--2023-02-22 05:58:30--  https://storage.googleapis.com/ztm_tf_course/food_vision/101_food_classes_10_percent.zip\n",
            "Resolving storage.googleapis.com (storage.googleapis.com)... 142.251.107.128, 173.194.213.128, 173.194.217.128, ...\n",
            "Connecting to storage.googleapis.com (storage.googleapis.com)|142.251.107.128|:443... connected.\n",
            "HTTP request sent, awaiting response... 200 OK\n",
            "Length: 1625420029 (1.5G) [application/zip]\n",
            "Saving to: ‘101_food_classes_10_percent.zip.1’\n",
            "\n",
            "101_food_classes_10 100%[===================>]   1.51G   155MB/s    in 13s     \n",
            "\n",
            "2023-02-22 05:58:44 (116 MB/s) - ‘101_food_classes_10_percent.zip.1’ saved [1625420029/1625420029]\n",
            "\n"
          ]
        }
      ]
    },
    {
      "cell_type": "code",
      "source": [
        "unzip_data(\"/content/101_food_classes_10_percent.zip\")"
      ],
      "metadata": {
        "id": "NL55A2ELlnPG"
      },
      "execution_count": 5,
      "outputs": []
    },
    {
      "cell_type": "code",
      "source": [
        "walk_through_dir(\"/content/101_food_classes_10_percent\")"
      ],
      "metadata": {
        "colab": {
          "base_uri": "https://localhost:8080/"
        },
        "id": "bXObnj28lse1",
        "outputId": "5cd7cc1f-828a-41d3-cad6-52a6b573c9c2"
      },
      "execution_count": 6,
      "outputs": [
        {
          "output_type": "stream",
          "name": "stdout",
          "text": [
            "There are 2 directories and 0 images in '/content/101_food_classes_10_percent'.\n",
            "There are 101 directories and 0 images in '/content/101_food_classes_10_percent/test'.\n",
            "There are 0 directories and 250 images in '/content/101_food_classes_10_percent/test/cannoli'.\n",
            "There are 0 directories and 250 images in '/content/101_food_classes_10_percent/test/edamame'.\n",
            "There are 0 directories and 250 images in '/content/101_food_classes_10_percent/test/chocolate_cake'.\n",
            "There are 0 directories and 250 images in '/content/101_food_classes_10_percent/test/pancakes'.\n",
            "There are 0 directories and 250 images in '/content/101_food_classes_10_percent/test/grilled_salmon'.\n",
            "There are 0 directories and 250 images in '/content/101_food_classes_10_percent/test/breakfast_burrito'.\n",
            "There are 0 directories and 250 images in '/content/101_food_classes_10_percent/test/beet_salad'.\n",
            "There are 0 directories and 250 images in '/content/101_food_classes_10_percent/test/gnocchi'.\n",
            "There are 0 directories and 250 images in '/content/101_food_classes_10_percent/test/greek_salad'.\n",
            "There are 0 directories and 250 images in '/content/101_food_classes_10_percent/test/crab_cakes'.\n",
            "There are 0 directories and 250 images in '/content/101_food_classes_10_percent/test/falafel'.\n",
            "There are 0 directories and 250 images in '/content/101_food_classes_10_percent/test/poutine'.\n",
            "There are 0 directories and 250 images in '/content/101_food_classes_10_percent/test/ice_cream'.\n",
            "There are 0 directories and 250 images in '/content/101_food_classes_10_percent/test/foie_gras'.\n",
            "There are 0 directories and 250 images in '/content/101_food_classes_10_percent/test/ravioli'.\n",
            "There are 0 directories and 250 images in '/content/101_food_classes_10_percent/test/garlic_bread'.\n",
            "There are 0 directories and 250 images in '/content/101_food_classes_10_percent/test/tacos'.\n",
            "There are 0 directories and 250 images in '/content/101_food_classes_10_percent/test/paella'.\n",
            "There are 0 directories and 250 images in '/content/101_food_classes_10_percent/test/club_sandwich'.\n",
            "There are 0 directories and 250 images in '/content/101_food_classes_10_percent/test/macarons'.\n",
            "There are 0 directories and 250 images in '/content/101_food_classes_10_percent/test/hot_and_sour_soup'.\n",
            "There are 0 directories and 250 images in '/content/101_food_classes_10_percent/test/clam_chowder'.\n",
            "There are 0 directories and 250 images in '/content/101_food_classes_10_percent/test/peking_duck'.\n",
            "There are 0 directories and 250 images in '/content/101_food_classes_10_percent/test/sashimi'.\n",
            "There are 0 directories and 250 images in '/content/101_food_classes_10_percent/test/red_velvet_cake'.\n",
            "There are 0 directories and 250 images in '/content/101_food_classes_10_percent/test/lobster_bisque'.\n",
            "There are 0 directories and 250 images in '/content/101_food_classes_10_percent/test/bibimbap'.\n",
            "There are 0 directories and 250 images in '/content/101_food_classes_10_percent/test/creme_brulee'.\n",
            "There are 0 directories and 250 images in '/content/101_food_classes_10_percent/test/chicken_wings'.\n",
            "There are 0 directories and 250 images in '/content/101_food_classes_10_percent/test/chocolate_mousse'.\n",
            "There are 0 directories and 250 images in '/content/101_food_classes_10_percent/test/risotto'.\n",
            "There are 0 directories and 250 images in '/content/101_food_classes_10_percent/test/donuts'.\n",
            "There are 0 directories and 250 images in '/content/101_food_classes_10_percent/test/churros'.\n",
            "There are 0 directories and 250 images in '/content/101_food_classes_10_percent/test/tuna_tartare'.\n",
            "There are 0 directories and 250 images in '/content/101_food_classes_10_percent/test/dumplings'.\n",
            "There are 0 directories and 250 images in '/content/101_food_classes_10_percent/test/takoyaki'.\n",
            "There are 0 directories and 250 images in '/content/101_food_classes_10_percent/test/nachos'.\n",
            "There are 0 directories and 250 images in '/content/101_food_classes_10_percent/test/onion_rings'.\n",
            "There are 0 directories and 250 images in '/content/101_food_classes_10_percent/test/pho'.\n",
            "There are 0 directories and 250 images in '/content/101_food_classes_10_percent/test/hamburger'.\n",
            "There are 0 directories and 250 images in '/content/101_food_classes_10_percent/test/mussels'.\n",
            "There are 0 directories and 250 images in '/content/101_food_classes_10_percent/test/escargots'.\n",
            "There are 0 directories and 250 images in '/content/101_food_classes_10_percent/test/tiramisu'.\n",
            "There are 0 directories and 250 images in '/content/101_food_classes_10_percent/test/steak'.\n",
            "There are 0 directories and 250 images in '/content/101_food_classes_10_percent/test/baklava'.\n",
            "There are 0 directories and 250 images in '/content/101_food_classes_10_percent/test/waffles'.\n",
            "There are 0 directories and 250 images in '/content/101_food_classes_10_percent/test/hot_dog'.\n",
            "There are 0 directories and 250 images in '/content/101_food_classes_10_percent/test/french_onion_soup'.\n",
            "There are 0 directories and 250 images in '/content/101_food_classes_10_percent/test/bread_pudding'.\n",
            "There are 0 directories and 250 images in '/content/101_food_classes_10_percent/test/bruschetta'.\n",
            "There are 0 directories and 250 images in '/content/101_food_classes_10_percent/test/gyoza'.\n",
            "There are 0 directories and 250 images in '/content/101_food_classes_10_percent/test/spaghetti_bolognese'.\n",
            "There are 0 directories and 250 images in '/content/101_food_classes_10_percent/test/beignets'.\n",
            "There are 0 directories and 250 images in '/content/101_food_classes_10_percent/test/scallops'.\n",
            "There are 0 directories and 250 images in '/content/101_food_classes_10_percent/test/ceviche'.\n",
            "There are 0 directories and 250 images in '/content/101_food_classes_10_percent/test/pork_chop'.\n",
            "There are 0 directories and 250 images in '/content/101_food_classes_10_percent/test/cup_cakes'.\n",
            "There are 0 directories and 250 images in '/content/101_food_classes_10_percent/test/beef_tartare'.\n",
            "There are 0 directories and 250 images in '/content/101_food_classes_10_percent/test/sushi'.\n",
            "There are 0 directories and 250 images in '/content/101_food_classes_10_percent/test/seaweed_salad'.\n",
            "There are 0 directories and 250 images in '/content/101_food_classes_10_percent/test/samosa'.\n",
            "There are 0 directories and 250 images in '/content/101_food_classes_10_percent/test/pulled_pork_sandwich'.\n",
            "There are 0 directories and 250 images in '/content/101_food_classes_10_percent/test/croque_madame'.\n",
            "There are 0 directories and 250 images in '/content/101_food_classes_10_percent/test/lobster_roll_sandwich'.\n",
            "There are 0 directories and 250 images in '/content/101_food_classes_10_percent/test/huevos_rancheros'.\n",
            "There are 0 directories and 250 images in '/content/101_food_classes_10_percent/test/filet_mignon'.\n",
            "There are 0 directories and 250 images in '/content/101_food_classes_10_percent/test/frozen_yogurt'.\n",
            "There are 0 directories and 250 images in '/content/101_food_classes_10_percent/test/macaroni_and_cheese'.\n",
            "There are 0 directories and 250 images in '/content/101_food_classes_10_percent/test/prime_rib'.\n",
            "There are 0 directories and 250 images in '/content/101_food_classes_10_percent/test/guacamole'.\n",
            "There are 0 directories and 250 images in '/content/101_food_classes_10_percent/test/french_fries'.\n",
            "There are 0 directories and 250 images in '/content/101_food_classes_10_percent/test/beef_carpaccio'.\n",
            "There are 0 directories and 250 images in '/content/101_food_classes_10_percent/test/omelette'.\n",
            "There are 0 directories and 250 images in '/content/101_food_classes_10_percent/test/cheesecake'.\n",
            "There are 0 directories and 250 images in '/content/101_food_classes_10_percent/test/fried_rice'.\n",
            "There are 0 directories and 250 images in '/content/101_food_classes_10_percent/test/lasagna'.\n",
            "There are 0 directories and 250 images in '/content/101_food_classes_10_percent/test/shrimp_and_grits'.\n",
            "There are 0 directories and 250 images in '/content/101_food_classes_10_percent/test/fried_calamari'.\n",
            "There are 0 directories and 250 images in '/content/101_food_classes_10_percent/test/cheese_plate'.\n",
            "There are 0 directories and 250 images in '/content/101_food_classes_10_percent/test/chicken_curry'.\n",
            "There are 0 directories and 250 images in '/content/101_food_classes_10_percent/test/french_toast'.\n",
            "There are 0 directories and 250 images in '/content/101_food_classes_10_percent/test/caprese_salad'.\n",
            "There are 0 directories and 250 images in '/content/101_food_classes_10_percent/test/chicken_quesadilla'.\n",
            "There are 0 directories and 250 images in '/content/101_food_classes_10_percent/test/baby_back_ribs'.\n",
            "There are 0 directories and 250 images in '/content/101_food_classes_10_percent/test/spaghetti_carbonara'.\n",
            "There are 0 directories and 250 images in '/content/101_food_classes_10_percent/test/panna_cotta'.\n",
            "There are 0 directories and 250 images in '/content/101_food_classes_10_percent/test/spring_rolls'.\n",
            "There are 0 directories and 250 images in '/content/101_food_classes_10_percent/test/fish_and_chips'.\n",
            "There are 0 directories and 250 images in '/content/101_food_classes_10_percent/test/grilled_cheese_sandwich'.\n",
            "There are 0 directories and 250 images in '/content/101_food_classes_10_percent/test/eggs_benedict'.\n",
            "There are 0 directories and 250 images in '/content/101_food_classes_10_percent/test/pizza'.\n",
            "There are 0 directories and 250 images in '/content/101_food_classes_10_percent/test/ramen'.\n",
            "There are 0 directories and 250 images in '/content/101_food_classes_10_percent/test/miso_soup'.\n",
            "There are 0 directories and 250 images in '/content/101_food_classes_10_percent/test/strawberry_shortcake'.\n",
            "There are 0 directories and 250 images in '/content/101_food_classes_10_percent/test/oysters'.\n",
            "There are 0 directories and 250 images in '/content/101_food_classes_10_percent/test/deviled_eggs'.\n",
            "There are 0 directories and 250 images in '/content/101_food_classes_10_percent/test/carrot_cake'.\n",
            "There are 0 directories and 250 images in '/content/101_food_classes_10_percent/test/apple_pie'.\n",
            "There are 0 directories and 250 images in '/content/101_food_classes_10_percent/test/hummus'.\n",
            "There are 0 directories and 250 images in '/content/101_food_classes_10_percent/test/caesar_salad'.\n",
            "There are 0 directories and 250 images in '/content/101_food_classes_10_percent/test/pad_thai'.\n",
            "There are 101 directories and 0 images in '/content/101_food_classes_10_percent/train'.\n",
            "There are 0 directories and 75 images in '/content/101_food_classes_10_percent/train/cannoli'.\n",
            "There are 0 directories and 75 images in '/content/101_food_classes_10_percent/train/edamame'.\n",
            "There are 0 directories and 75 images in '/content/101_food_classes_10_percent/train/chocolate_cake'.\n",
            "There are 0 directories and 75 images in '/content/101_food_classes_10_percent/train/pancakes'.\n",
            "There are 0 directories and 75 images in '/content/101_food_classes_10_percent/train/grilled_salmon'.\n",
            "There are 0 directories and 75 images in '/content/101_food_classes_10_percent/train/breakfast_burrito'.\n",
            "There are 0 directories and 75 images in '/content/101_food_classes_10_percent/train/beet_salad'.\n",
            "There are 0 directories and 75 images in '/content/101_food_classes_10_percent/train/gnocchi'.\n",
            "There are 0 directories and 75 images in '/content/101_food_classes_10_percent/train/greek_salad'.\n",
            "There are 0 directories and 75 images in '/content/101_food_classes_10_percent/train/crab_cakes'.\n",
            "There are 0 directories and 75 images in '/content/101_food_classes_10_percent/train/falafel'.\n",
            "There are 0 directories and 75 images in '/content/101_food_classes_10_percent/train/poutine'.\n",
            "There are 0 directories and 75 images in '/content/101_food_classes_10_percent/train/ice_cream'.\n",
            "There are 0 directories and 75 images in '/content/101_food_classes_10_percent/train/foie_gras'.\n",
            "There are 0 directories and 75 images in '/content/101_food_classes_10_percent/train/ravioli'.\n",
            "There are 0 directories and 75 images in '/content/101_food_classes_10_percent/train/garlic_bread'.\n",
            "There are 0 directories and 75 images in '/content/101_food_classes_10_percent/train/tacos'.\n",
            "There are 0 directories and 75 images in '/content/101_food_classes_10_percent/train/paella'.\n",
            "There are 0 directories and 75 images in '/content/101_food_classes_10_percent/train/club_sandwich'.\n",
            "There are 0 directories and 75 images in '/content/101_food_classes_10_percent/train/macarons'.\n",
            "There are 0 directories and 75 images in '/content/101_food_classes_10_percent/train/hot_and_sour_soup'.\n",
            "There are 0 directories and 75 images in '/content/101_food_classes_10_percent/train/clam_chowder'.\n",
            "There are 0 directories and 75 images in '/content/101_food_classes_10_percent/train/peking_duck'.\n",
            "There are 0 directories and 75 images in '/content/101_food_classes_10_percent/train/sashimi'.\n",
            "There are 0 directories and 75 images in '/content/101_food_classes_10_percent/train/red_velvet_cake'.\n",
            "There are 0 directories and 75 images in '/content/101_food_classes_10_percent/train/lobster_bisque'.\n",
            "There are 0 directories and 75 images in '/content/101_food_classes_10_percent/train/bibimbap'.\n",
            "There are 0 directories and 75 images in '/content/101_food_classes_10_percent/train/creme_brulee'.\n",
            "There are 0 directories and 75 images in '/content/101_food_classes_10_percent/train/chicken_wings'.\n",
            "There are 0 directories and 75 images in '/content/101_food_classes_10_percent/train/chocolate_mousse'.\n",
            "There are 0 directories and 75 images in '/content/101_food_classes_10_percent/train/risotto'.\n",
            "There are 0 directories and 75 images in '/content/101_food_classes_10_percent/train/donuts'.\n",
            "There are 0 directories and 75 images in '/content/101_food_classes_10_percent/train/churros'.\n",
            "There are 0 directories and 75 images in '/content/101_food_classes_10_percent/train/tuna_tartare'.\n",
            "There are 0 directories and 75 images in '/content/101_food_classes_10_percent/train/dumplings'.\n",
            "There are 0 directories and 75 images in '/content/101_food_classes_10_percent/train/takoyaki'.\n",
            "There are 0 directories and 75 images in '/content/101_food_classes_10_percent/train/nachos'.\n",
            "There are 0 directories and 75 images in '/content/101_food_classes_10_percent/train/onion_rings'.\n",
            "There are 0 directories and 75 images in '/content/101_food_classes_10_percent/train/pho'.\n",
            "There are 0 directories and 75 images in '/content/101_food_classes_10_percent/train/hamburger'.\n",
            "There are 0 directories and 75 images in '/content/101_food_classes_10_percent/train/mussels'.\n",
            "There are 0 directories and 75 images in '/content/101_food_classes_10_percent/train/escargots'.\n",
            "There are 0 directories and 75 images in '/content/101_food_classes_10_percent/train/tiramisu'.\n",
            "There are 0 directories and 75 images in '/content/101_food_classes_10_percent/train/steak'.\n",
            "There are 0 directories and 75 images in '/content/101_food_classes_10_percent/train/baklava'.\n",
            "There are 0 directories and 75 images in '/content/101_food_classes_10_percent/train/waffles'.\n",
            "There are 0 directories and 75 images in '/content/101_food_classes_10_percent/train/hot_dog'.\n",
            "There are 0 directories and 75 images in '/content/101_food_classes_10_percent/train/french_onion_soup'.\n",
            "There are 0 directories and 75 images in '/content/101_food_classes_10_percent/train/bread_pudding'.\n",
            "There are 0 directories and 75 images in '/content/101_food_classes_10_percent/train/bruschetta'.\n",
            "There are 0 directories and 75 images in '/content/101_food_classes_10_percent/train/gyoza'.\n",
            "There are 0 directories and 75 images in '/content/101_food_classes_10_percent/train/spaghetti_bolognese'.\n",
            "There are 0 directories and 75 images in '/content/101_food_classes_10_percent/train/beignets'.\n",
            "There are 0 directories and 75 images in '/content/101_food_classes_10_percent/train/scallops'.\n",
            "There are 0 directories and 75 images in '/content/101_food_classes_10_percent/train/ceviche'.\n",
            "There are 0 directories and 75 images in '/content/101_food_classes_10_percent/train/pork_chop'.\n",
            "There are 0 directories and 75 images in '/content/101_food_classes_10_percent/train/cup_cakes'.\n",
            "There are 0 directories and 75 images in '/content/101_food_classes_10_percent/train/beef_tartare'.\n",
            "There are 0 directories and 75 images in '/content/101_food_classes_10_percent/train/sushi'.\n",
            "There are 0 directories and 75 images in '/content/101_food_classes_10_percent/train/seaweed_salad'.\n",
            "There are 0 directories and 75 images in '/content/101_food_classes_10_percent/train/samosa'.\n",
            "There are 0 directories and 75 images in '/content/101_food_classes_10_percent/train/pulled_pork_sandwich'.\n",
            "There are 0 directories and 75 images in '/content/101_food_classes_10_percent/train/croque_madame'.\n",
            "There are 0 directories and 75 images in '/content/101_food_classes_10_percent/train/lobster_roll_sandwich'.\n",
            "There are 0 directories and 75 images in '/content/101_food_classes_10_percent/train/huevos_rancheros'.\n",
            "There are 0 directories and 75 images in '/content/101_food_classes_10_percent/train/filet_mignon'.\n",
            "There are 0 directories and 75 images in '/content/101_food_classes_10_percent/train/frozen_yogurt'.\n",
            "There are 0 directories and 75 images in '/content/101_food_classes_10_percent/train/macaroni_and_cheese'.\n",
            "There are 0 directories and 75 images in '/content/101_food_classes_10_percent/train/prime_rib'.\n",
            "There are 0 directories and 75 images in '/content/101_food_classes_10_percent/train/guacamole'.\n",
            "There are 0 directories and 75 images in '/content/101_food_classes_10_percent/train/french_fries'.\n",
            "There are 0 directories and 75 images in '/content/101_food_classes_10_percent/train/beef_carpaccio'.\n",
            "There are 0 directories and 75 images in '/content/101_food_classes_10_percent/train/omelette'.\n",
            "There are 0 directories and 75 images in '/content/101_food_classes_10_percent/train/cheesecake'.\n",
            "There are 0 directories and 75 images in '/content/101_food_classes_10_percent/train/fried_rice'.\n",
            "There are 0 directories and 75 images in '/content/101_food_classes_10_percent/train/lasagna'.\n",
            "There are 0 directories and 75 images in '/content/101_food_classes_10_percent/train/shrimp_and_grits'.\n",
            "There are 0 directories and 75 images in '/content/101_food_classes_10_percent/train/fried_calamari'.\n",
            "There are 0 directories and 75 images in '/content/101_food_classes_10_percent/train/cheese_plate'.\n",
            "There are 0 directories and 75 images in '/content/101_food_classes_10_percent/train/chicken_curry'.\n",
            "There are 0 directories and 75 images in '/content/101_food_classes_10_percent/train/french_toast'.\n",
            "There are 0 directories and 75 images in '/content/101_food_classes_10_percent/train/caprese_salad'.\n",
            "There are 0 directories and 75 images in '/content/101_food_classes_10_percent/train/chicken_quesadilla'.\n",
            "There are 0 directories and 75 images in '/content/101_food_classes_10_percent/train/baby_back_ribs'.\n",
            "There are 0 directories and 75 images in '/content/101_food_classes_10_percent/train/spaghetti_carbonara'.\n",
            "There are 0 directories and 75 images in '/content/101_food_classes_10_percent/train/panna_cotta'.\n",
            "There are 0 directories and 75 images in '/content/101_food_classes_10_percent/train/spring_rolls'.\n",
            "There are 0 directories and 75 images in '/content/101_food_classes_10_percent/train/fish_and_chips'.\n",
            "There are 0 directories and 75 images in '/content/101_food_classes_10_percent/train/grilled_cheese_sandwich'.\n",
            "There are 0 directories and 75 images in '/content/101_food_classes_10_percent/train/eggs_benedict'.\n",
            "There are 0 directories and 75 images in '/content/101_food_classes_10_percent/train/pizza'.\n",
            "There are 0 directories and 75 images in '/content/101_food_classes_10_percent/train/ramen'.\n",
            "There are 0 directories and 75 images in '/content/101_food_classes_10_percent/train/miso_soup'.\n",
            "There are 0 directories and 75 images in '/content/101_food_classes_10_percent/train/strawberry_shortcake'.\n",
            "There are 0 directories and 75 images in '/content/101_food_classes_10_percent/train/oysters'.\n",
            "There are 0 directories and 75 images in '/content/101_food_classes_10_percent/train/deviled_eggs'.\n",
            "There are 0 directories and 75 images in '/content/101_food_classes_10_percent/train/carrot_cake'.\n",
            "There are 0 directories and 75 images in '/content/101_food_classes_10_percent/train/apple_pie'.\n",
            "There are 0 directories and 75 images in '/content/101_food_classes_10_percent/train/hummus'.\n",
            "There are 0 directories and 75 images in '/content/101_food_classes_10_percent/train/caesar_salad'.\n",
            "There are 0 directories and 75 images in '/content/101_food_classes_10_percent/train/pad_thai'.\n"
          ]
        }
      ]
    },
    {
      "cell_type": "code",
      "source": [
        "# Set up data inputs\n",
        "import tensorflow as tf\n",
        "IMG_SIZE = (224, 224)\n",
        "BATCH_SIZE = 32\n",
        "\n",
        "train_dir = \"/content/101_food_classes_10_percent/train/\"\n",
        "test_dir = \"/content/101_food_classes_10_percent/test/\"\n",
        "\n",
        "train_data_all_10_percent = tf.keras.preprocessing.image_dataset_from_directory(train_dir,\n",
        "                                                                                label_mode=\"categorical\",\n",
        "                                                                                image_size=IMG_SIZE,\n",
        "                                                                                batch_size=BATCH_SIZE)\n",
        "\n",
        "test_data = tf.keras.preprocessing.image_dataset_from_directory(test_dir,\n",
        "                                                                label_mode=\"categorical\",\n",
        "                                                                image_size=IMG_SIZE,\n",
        "                                                                batch_size=BATCH_SIZE,\n",
        "                                                                shuffle=False)"
      ],
      "metadata": {
        "colab": {
          "base_uri": "https://localhost:8080/"
        },
        "id": "SFP_2g2nl07o",
        "outputId": "4d6eedcc-a6e0-40f2-a188-b35025eb48c8"
      },
      "execution_count": 7,
      "outputs": [
        {
          "output_type": "stream",
          "name": "stdout",
          "text": [
            "Found 7575 files belonging to 101 classes.\n",
            "Found 25250 files belonging to 101 classes.\n"
          ]
        }
      ]
    },
    {
      "cell_type": "markdown",
      "source": [
        "Steps:\n",
        "1. Create a ModelCheckpoint callback\n",
        "2. Creat a data augmentation layer to build data augmentation right into the model\n",
        "3. Build a headless (no top layers) Functional EfficientNetB60 backboned-model (we'll create our own output layer).\n",
        "4. Compile our model\n",
        "5. Feature extract for 5 full epochs on train dataset and validate on 15% of the test data, to save epoch time."
      ],
      "metadata": {
        "id": "CwAV901nqXLZ"
      }
    },
    {
      "cell_type": "code",
      "source": [
        "# Create ModelCheckpoint \n",
        "checkpoint_path=\"101_classes_10_percent_data_model_checkpoint\"\n",
        "checkpoint_callback = tf.keras.callbacks.ModelCheckpoint(checkpoint_path, \n",
        "                                                         save_weights_only=True,\n",
        "                                                         monitor=\"val_accuracy\",\n",
        "                                                         save_best_only=True)"
      ],
      "metadata": {
        "id": "CNQ0qiz0rBUa"
      },
      "execution_count": 8,
      "outputs": []
    },
    {
      "cell_type": "code",
      "source": [
        "# Create data augmentation layer\n",
        "from tensorflow.keras import layers\n",
        "from tensorflow.keras.models import Sequential\n",
        "from tensorflow.keras.layers.experimental import preprocessing\n",
        "data_augmentation = tf.keras.Sequential([\n",
        "    preprocessing.RandomHeight(0.2),\n",
        "    preprocessing.RandomWidth(0.2),\n",
        "    preprocessing.RandomZoom(0.2),\n",
        "    preprocessing.RandomRotation(0.2),\n",
        "    preprocessing.RandomFlip(\"horizontal\")\n",
        "    \n",
        "], name=\"data_augmentation\")"
      ],
      "metadata": {
        "id": "FTVjIiiJqWyb"
      },
      "execution_count": 10,
      "outputs": []
    },
    {
      "cell_type": "code",
      "source": [
        "# Create a headless functional EfficientNet60 backboned model\n",
        "\n",
        "inputs = layers.Input(shape=(224,224,3), name=\"input_layer\")\n",
        "x = data_augmentation(inputs)\n",
        "base_model = tf.keras.applications.EfficientNetB0(include_top=False)\n",
        "base_model.trainable=False\n",
        "x = base_model(x)\n",
        "x = layers.GlobalAveragePooling2D(name=\"global_average_pooling_2d\")(x)\n",
        "outputs = layers.Dense(101, activation=\"softmax\")(x)\n",
        "model_ = tf.keras.models.Model(inputs, outputs)"
      ],
      "metadata": {
        "colab": {
          "base_uri": "https://localhost:8080/"
        },
        "id": "aySXIv0Os_sw",
        "outputId": "54daa9c3-6eea-4f64-c6f3-4e841c03215c"
      },
      "execution_count": 13,
      "outputs": [
        {
          "output_type": "stream",
          "name": "stderr",
          "text": [
            "WARNING:tensorflow:Using a while_loop for converting RngReadAndSkip cause there is no registered converter for this op.\n",
            "WARNING:tensorflow:Using a while_loop for converting Bitcast cause there is no registered converter for this op.\n",
            "WARNING:tensorflow:Using a while_loop for converting Bitcast cause there is no registered converter for this op.\n",
            "WARNING:tensorflow:Using a while_loop for converting StatelessRandomUniformV2 cause there is no registered converter for this op.\n",
            "WARNING:tensorflow:Using a while_loop for converting ImageProjectiveTransformV3 cause there is no registered converter for this op.\n",
            "WARNING:tensorflow:Using a while_loop for converting RngReadAndSkip cause there is no registered converter for this op.\n",
            "WARNING:tensorflow:Using a while_loop for converting Bitcast cause there is no registered converter for this op.\n",
            "WARNING:tensorflow:Using a while_loop for converting Bitcast cause there is no registered converter for this op.\n",
            "WARNING:tensorflow:Using a while_loop for converting StatelessRandomUniformV2 cause there is no registered converter for this op.\n",
            "WARNING:tensorflow:Using a while_loop for converting ImageProjectiveTransformV3 cause there is no registered converter for this op.\n"
          ]
        }
      ]
    },
    {
      "cell_type": "code",
      "source": [
        "model_.summary()"
      ],
      "metadata": {
        "colab": {
          "base_uri": "https://localhost:8080/"
        },
        "id": "lJnu7BzGuscr",
        "outputId": "b4ea91d3-3998-4b1b-c7e3-516659d0a62b"
      },
      "execution_count": 14,
      "outputs": [
        {
          "output_type": "stream",
          "name": "stdout",
          "text": [
            "Model: \"model_1\"\n",
            "_________________________________________________________________\n",
            " Layer (type)                Output Shape              Param #   \n",
            "=================================================================\n",
            " input_layer (InputLayer)    [(None, 224, 224, 3)]     0         \n",
            "                                                                 \n",
            " data_augmentation (Sequenti  (None, None, None, 3)    0         \n",
            " al)                                                             \n",
            "                                                                 \n",
            " efficientnetb0 (Functional)  (None, None, None, 1280)  4049571  \n",
            "                                                                 \n",
            " global_average_pooling_2d (  (None, 1280)             0         \n",
            " GlobalAveragePooling2D)                                         \n",
            "                                                                 \n",
            " dense_1 (Dense)             (None, 101)               129381    \n",
            "                                                                 \n",
            "=================================================================\n",
            "Total params: 4,178,952\n",
            "Trainable params: 129,381\n",
            "Non-trainable params: 4,049,571\n",
            "_________________________________________________________________\n"
          ]
        }
      ]
    },
    {
      "cell_type": "code",
      "source": [],
      "metadata": {
        "id": "vRlqhcoSutca"
      },
      "execution_count": null,
      "outputs": []
    }
  ]
}